{
 "cells": [
  {
   "cell_type": "markdown",
   "metadata": {},
   "source": [
    "# Matched VE Analysis: Updated Pipeline with Z-Scored Outcome Measures"
   ]
  },
  {
   "cell_type": "code",
   "execution_count": 2,
   "metadata": {},
   "outputs": [],
   "source": [
    "import os \n",
    "import pandas as pd\n",
    "import numpy as np\n",
    "import math\n",
    "import matplotlib.pyplot as plt\n",
    "import scipy \n",
    "import scipy.stats as stats"
   ]
  },
  {
   "cell_type": "code",
   "execution_count": 3,
   "metadata": {
    "jupyter": {
     "source_hidden": true
    }
   },
   "outputs": [],
   "source": [
    "def combineCSVs(datafolder):\n",
    "    \"\"\"\n",
    "    Combine all participant data into one pandas df\n",
    "    OR \n",
    "    Create df for single participant file \n",
    "\n",
    "    exclude: list of subject IDs that should be excluded from the final df \n",
    "\n",
    "    \"\"\"\n",
    "    \n",
    "    exclude = []\n",
    "    \n",
    "    #checks if path is a file\n",
    "    isFile = os.path.isfile(datafolder)\n",
    "\n",
    "    #checks if path is a directory\n",
    "    \n",
    "    isDirectory = os.path.isdir(datafolder)\n",
    "    \n",
    "    if isDirectory == True:\n",
    "        data = []\n",
    "        for filename in os.listdir(datafolder):\n",
    "            if 'csv' in filename:\n",
    "                path = datafolder + \"/\" + filename\n",
    "                df = pd.read_csv(path, index_col=None, header=0)\n",
    "                \n",
    "                # do NOT include subject IDs that have been flagged \n",
    "                subjID = df.subjID.unique()[0]\n",
    "                if subjID not in exclude:\n",
    "                    data.append(df)\n",
    "\n",
    "        input_frame = pd.concat(data, axis=0, ignore_index=True)\n",
    "        \n",
    "    if isFile == True:\n",
    "        if 'csv' in datafolder:\n",
    "            input_frame = pd.read_csv(datafolder, index_col=None, header=0)\n",
    "    \n",
    "    print('Number of participants before cleaning: ', len(input_frame.subjID.unique()))\n",
    "\n",
    " \n",
    "    return input_frame\n",
    "\n",
    "\n",
    "def feet_to_meters(ft):\n",
    "    \"\"\"\n",
    "    Args: \n",
    "        ft = float value in feet \n",
    "        \n",
    "    returns:\n",
    "        m = float value converted to meters \n",
    "    \"\"\"\n",
    "    m = ft * 0.3048\n",
    "    return m\n",
    "\n",
    "def getUnitConveredData(datafolder):\n",
    "    input_data = combineCSVs(datafolder) # combine CSVs from all participants \n",
    "    \n",
    "    for idx, row in input_data.iterrows():\n",
    "        unit = row['unitSelection']\n",
    "        # if estimate was made in feet, convert to meters \n",
    "        if unit == 'feet':\n",
    "            estim_ft = row['depth_estimate']\n",
    "            estim_m = feet_to_meters(estim_ft)\n",
    "            # update depth estimates in existing dataframe\n",
    "            input_data.at[idx, 'depth_estimate'] = estim_m\n",
    "            # update units in existing dataframe\n",
    "#             input_data.at[idx, 'unitSelection'] = 'meters'\n",
    "    \n",
    "    return input_data\n",
    "\n",
    "def cleanAgeResponses(datafolder):\n",
    "    input_data = getUnitConveredData(datafolder)\n",
    "    \n",
    "    for idx, row in input_data.iterrows():\n",
    "        age = row['age']\n",
    "        # if year of birth was given, convert to age\n",
    "        if age > 100:\n",
    "            actual_age = 2021-age\n",
    "            # update age in existing dataframe\n",
    "            input_data.at[idx, 'age'] = actual_age\n",
    "        # participants must be over 18 so age reports below 18 are junk \n",
    "        if age < 18:\n",
    "            actual_age = None\n",
    "            # update age in existing dataframe\n",
    "            input_data.at[idx, 'age'] = actual_age    \n",
    "        if 90 < age < 100:\n",
    "            actual_age = None\n",
    "            # update age in existing dataframe\n",
    "            input_data.at[idx, 'age'] = actual_age \n",
    "    \n",
    "    return input_data    \n",
    "    \n",
    "\n",
    "def removeMissedTrials(datafolder):\n",
    "    \"\"\"\n",
    "    Participants were told that if they missed a trial, to respond '0'.\n",
    "    This function removes those trials, and keeps track of:\n",
    "    (1) How many missed trials per participant\n",
    "    (2) Number of missed trials per duration \n",
    "    (3) Number of missed trials per sequence \n",
    "    \"\"\"\n",
    "    input_data = cleanAgeResponses(datafolder)\n",
    "    \n",
    "    missedTrials_participants = {}\n",
    "    missedTrials_durations = {}\n",
    "    missedTrials_sequences = {}\n",
    "    \n",
    "    \n",
    "    for idx, row in input_data.iterrows():\n",
    "        estimate = row['depth_estimate']\n",
    "        if estimate == 0.0:\n",
    "            subjID = row['subjID']\n",
    "            duration = row['duration']\n",
    "            sequenceName = row['sequenceName']\n",
    "            \n",
    "            if subjID not in missedTrials_participants:\n",
    "                missedTrials_participants[subjID] = 1\n",
    "            else:\n",
    "                missedTrials_participants[subjID] += 1\n",
    "\n",
    "            if duration not in missedTrials_durations:\n",
    "                missedTrials_durations[duration] = 1\n",
    "            else:\n",
    "                missedTrials_durations[duration] += 1\n",
    "            \n",
    "            if sequenceName not in missedTrials_sequences:\n",
    "                missedTrials_sequences[sequenceName] = 1\n",
    "            else:\n",
    "                missedTrials_sequences[sequenceName] += 1\n",
    "            \n",
    "#             print(subjID, duration, sequenceName)\n",
    "            \n",
    "            # remove trials with depth estimate = 0 \n",
    "            input_data.drop(idx, inplace=True)\n",
    "    \n",
    "    # remove participants data if the participant's missed trial count is 10% or more of num_trials\n",
    "    threshold = math.floor(192 * 0.1)\n",
    "#     print(\"Missing Trial Count Threshold: \", threshold)\n",
    "    remove_ids = []\n",
    "    for key in missedTrials_participants:\n",
    "        if missedTrials_participants[key] >= threshold:\n",
    "            remove_ids.append(key)\n",
    "    print(\"Number of participants with 10% or more missed trials: \", len(remove_ids))\n",
    "\n",
    "    for index, row in input_data.iterrows():\n",
    "        if row['subjID'] in remove_ids:\n",
    "            input_data.drop(index, inplace=True)\n",
    "\n",
    "    # Note if a particular participant, duration, or sequence has maximum missing trials\n",
    "    # ** If the participant had no missed trials, then ID will not show up in dict \n",
    "#     print(\"Missed Trials\")\n",
    "#     print(missedTrials_participants)\n",
    "#     print(missedTrials_durations)\n",
    "#     print(missedTrials_sequences)\n",
    "\n",
    "    \n",
    "    return input_data\n"
   ]
  },
  {
   "cell_type": "code",
   "execution_count": 4,
   "metadata": {},
   "outputs": [
    {
     "name": "stdout",
     "output_type": "stream",
     "text": [
      "Number of participants before cleaning:  125\n",
      "Number of participants with 10% or more missed trials:  4\n"
     ]
    }
   ],
   "source": [
    "# path = '/Users/prachimahableshwarkar/Documents/GW/Depth_MTurk/depth_duration_MTurk/data'\n",
    "\n",
    "# path = \"/Users/prachimahableshwarkar/Documents/GW/FacialAge/FacialAge_MTurk/BNav_EC2/DepthDuration/v2_depth_duration_MTurk/data\"\n",
    "\n",
    "path = '/Users/prachi/Documents/depth_duration/target_at_center/january2022_data/VE_data'\n",
    "\n",
    "missed_trial_cleaned_data = removeMissedTrials(path)"
   ]
  },
  {
   "cell_type": "code",
   "execution_count": null,
   "metadata": {},
   "outputs": [],
   "source": []
  },
  {
   "cell_type": "markdown",
   "metadata": {},
   "source": [
    "#### Distribution of Unit Preferences"
   ]
  },
  {
   "cell_type": "code",
   "execution_count": 5,
   "metadata": {},
   "outputs": [
    {
     "name": "stdout",
     "output_type": "stream",
     "text": [
      "Number of participants before cleaning:  125\n"
     ]
    }
   ],
   "source": [
    "pre_unitconversion_data = combineCSVs(path)"
   ]
  },
  {
   "cell_type": "code",
   "execution_count": 6,
   "metadata": {},
   "outputs": [
    {
     "data": {
      "text/plain": [
       "(30, 95)"
      ]
     },
     "execution_count": 6,
     "metadata": {},
     "output_type": "execute_result"
    }
   ],
   "source": [
    "subject_ids_pre_cleaning = pre_unitconversion_data.subjID.unique()\n",
    "subj_units = {}\n",
    "meters_count = 0\n",
    "feet_count = 0\n",
    "for subj in subject_ids_pre_cleaning:\n",
    "    subj_df = pre_unitconversion_data.loc[pre_unitconversion_data['subjID'] == subj]\n",
    "    unit = subj_df.unitSelection.unique()\n",
    "    subj_units[subj] = unit[0]\n",
    "    if unit == \"feet\":\n",
    "        feet_count += 1\n",
    "    if unit == \"meters\":\n",
    "        meters_count += 1\n",
    "    \n",
    "meters_count, feet_count"
   ]
  },
  {
   "cell_type": "markdown",
   "metadata": {},
   "source": [
    "### In this version, the RT exclusion criterion is the same for all participants [1000 ms, 10000 ms]\n"
   ]
  },
  {
   "cell_type": "code",
   "execution_count": 7,
   "metadata": {},
   "outputs": [],
   "source": [
    "\n",
    "def RT_Cleaning(df):\n",
    "    #List unique values in the df['subjID'] column\n",
    "    all_subjIDs = df.subjID.unique()\n",
    "    \n",
    "    remove = []\n",
    "    df2_list = []\n",
    "    for subj in all_subjIDs:\n",
    "        count = 0\n",
    "        subj_df = df.loc[df['subjID'] == subj]\n",
    "        cleaned_subj_df = subj_df.copy(deep=True) # prevent setting with copy warning \n",
    "        # calculate subject's average trial RT \n",
    "        average_trial_RT = subj_df[\"trial_RT\"].mean()\n",
    "        std_trial_RT = subj_df[\"trial_RT\"].std()\n",
    "#         outlier_range = [(average_trial_RT - (3*std_trial_RT)), (average_trial_RT + (3*std_trial_RT))] \n",
    "#         outlier_range = [1000, (average_trial_RT + (3*std_trial_RT))] \n",
    "        outlier_range = [1000, 10000]\n",
    "\n",
    "        for idx, row in subj_df.iterrows():\n",
    "            RT = row[\"trial_RT\"]\n",
    "            if RT < outlier_range[0]: # outlier\n",
    "                cleaned_subj_df.drop([idx], inplace=True)\n",
    "                count += 1\n",
    "            if RT > outlier_range[1]:\n",
    "                cleaned_subj_df.drop([idx], inplace=True)\n",
    "                count += 1\n",
    "                \n",
    "        threshold = math.floor(192 * 0.1)\n",
    "        if count >= threshold:\n",
    "            remove.append(subj)\n",
    "        \n",
    "        df2_list.append(cleaned_subj_df)\n",
    "    \n",
    "    df2 = pd.concat(df2_list)\n",
    "            \n",
    "    print(\"Number of Participants with 10% or more trials outside their RT range: \", len(remove))\n",
    "    \n",
    "    for index, row in df2.iterrows():\n",
    "        if row['subjID'] in remove:\n",
    "            df2.drop(index, inplace=True)\n",
    "    \n",
    "    return df2\n",
    "\n"
   ]
  },
  {
   "cell_type": "code",
   "execution_count": 8,
   "metadata": {},
   "outputs": [
    {
     "name": "stdout",
     "output_type": "stream",
     "text": [
      "Number of Participants with 10% or more trials outside their RT range:  13\n"
     ]
    }
   ],
   "source": [
    "RT_cleaned_data = RT_Cleaning(missed_trial_cleaned_data)"
   ]
  },
  {
   "cell_type": "markdown",
   "metadata": {},
   "source": [
    "### Skip Participant Outlier Removal and Average Estimate Cleaning"
   ]
  },
  {
   "cell_type": "code",
   "execution_count": 9,
   "metadata": {
    "jupyter": {
     "source_hidden": true
    }
   },
   "outputs": [],
   "source": [
    "def participant_Outlier_Removal(df):\n",
    "    #List unique values in the df['subjID'] column\n",
    "    all_subjIDs = df.subjID.unique()\n",
    "    remove = []\n",
    "    \n",
    "    df2_list = []\n",
    "    for subj in all_subjIDs:\n",
    "        count = 0\n",
    "        subj_df = df.loc[df['subjID'] == subj]\n",
    "        cleaned_subj_df = subj_df.copy(deep=True) # prevent setting with copy warning \n",
    "\n",
    "        # calculate subject's average trial RT \n",
    "        average = subj_df[\"depth_estimate\"].mean()\n",
    "        std = subj_df[\"depth_estimate\"].std()\n",
    "        outlier_range = [(average - (3*std)), (average + (3*std))]\n",
    "        \n",
    "        for idx, row in subj_df.iterrows():\n",
    "            estim = row[\"depth_estimate\"]\n",
    "            if estim < outlier_range[0]: # outlier\n",
    "                cleaned_subj_df.drop([idx], inplace=True)\n",
    "                count += 1\n",
    "            if estim > outlier_range[1]:\n",
    "                cleaned_subj_df.drop([idx], inplace=True)\n",
    "                count += 1\n",
    "                \n",
    "        threshold = math.floor(192 * 0.1)\n",
    "        if count >= threshold:\n",
    "            remove.append(subj)\n",
    "         \n",
    "        df2_list.append(cleaned_subj_df)\n",
    "    \n",
    "    df2 = pd.concat(df2_list)\n",
    "        \n",
    "    print(\"Number of Participants with 10% or more outlier trials: \", len(remove))\n",
    "    \n",
    "    for index, row in df2.iterrows():\n",
    "        if row['subjID'] in remove:\n",
    "            df2.drop(index, inplace=True)\n",
    "    \n",
    "    return df2\n",
    "\n"
   ]
  },
  {
   "cell_type": "code",
   "execution_count": 10,
   "metadata": {
    "jupyter": {
     "source_hidden": true
    }
   },
   "outputs": [
    {
     "name": "stdout",
     "output_type": "stream",
     "text": [
      "Number of Participants with 10% or more outlier trials:  0\n"
     ]
    }
   ],
   "source": [
    "outlier_cleaned_data = participant_Outlier_Removal(RT_cleaned_data)"
   ]
  },
  {
   "cell_type": "code",
   "execution_count": 11,
   "metadata": {},
   "outputs": [],
   "source": [
    "# outlier_cleaned_data"
   ]
  },
  {
   "cell_type": "code",
   "execution_count": 12,
   "metadata": {
    "jupyter": {
     "source_hidden": true
    }
   },
   "outputs": [],
   "source": [
    "def getActualDepthAverage(df):\n",
    "    \"\"\"\n",
    "    True average of target depths in the stimuli\n",
    "    \"\"\"\n",
    "    \n",
    "    avg_actual = np.mean(np.array(df['actual_depth']))\n",
    "    \n",
    "    return avg_actual\n",
    "\n",
    "def participantAverageEstim_Cleaning(df):\n",
    "    true_average = getActualDepthAverage(df)\n",
    "    octave_window = [true_average/4, true_average * 4]\n",
    "    print(true_average, octave_window)\n",
    "    \n",
    "    #List unique values in the df['subjID'] column\n",
    "    all_subjIDs = df.subjID.unique()\n",
    "    \n",
    "    remove = []\n",
    "    for subj in all_subjIDs:\n",
    "        subj_df = df.loc[df['subjID'] == subj]\n",
    "        # calculate subject's average depth estimation  \n",
    "        avg = subj_df['depth_estimate'].mean()\n",
    "        if avg < octave_window[0]:\n",
    "            remove.append(subj)\n",
    "        if avg > octave_window[1]:\n",
    "            remove.append(subj)\n",
    "    \n",
    "    print(\"Avg Estim Cleaning: Number of Participants Removed\", len(remove))\n",
    "    \n",
    "    for index, row in df.iterrows():\n",
    "        if row['subjID'] in remove:\n",
    "            df.drop(index, inplace=True)\n",
    "    return df \n",
    "\n"
   ]
  },
  {
   "cell_type": "code",
   "execution_count": 13,
   "metadata": {
    "jupyter": {
     "source_hidden": true
    }
   },
   "outputs": [
    {
     "name": "stdout",
     "output_type": "stream",
     "text": [
      "3.0117699901735455 [0.7529424975433864, 12.047079960694182]\n",
      "Avg Estim Cleaning: Number of Participants Removed 4\n"
     ]
    }
   ],
   "source": [
    "avg_estim_cleaned_data = participantAverageEstim_Cleaning(outlier_cleaned_data)"
   ]
  },
  {
   "cell_type": "code",
   "execution_count": null,
   "metadata": {},
   "outputs": [],
   "source": []
  },
  {
   "cell_type": "code",
   "execution_count": 14,
   "metadata": {},
   "outputs": [],
   "source": [
    "# avg_estim_cleaned_data"
   ]
  },
  {
   "cell_type": "code",
   "execution_count": 15,
   "metadata": {},
   "outputs": [],
   "source": [
    "def repeatResponses_Cleaning(df):\n",
    "    \"\"\"\n",
    "    Some participants gave'junk data' - same number repeated for many trials \n",
    "    Count the frequency of unique responses entered by the participant. \n",
    "    If you look at the maximum number of repeats and/or the number of unique responses / 48 per participant you will find our vandals.\n",
    "    \"\"\"\n",
    "    #List unique values in the df['subjID'] column\n",
    "    all_subjIDs = df.subjID.unique()\n",
    "    \n",
    "    remove = []\n",
    "    max_repeats_distribution = []\n",
    "    num_unique_responses_distribution = []\n",
    "    for subj in all_subjIDs:\n",
    "        subj_df = df.loc[df['subjID'] == subj]\n",
    "        # ideally, the max repeats and num_unique_responses should be ~ 48 since there are 48 imgs at each depth bin \n",
    "        count_depth_estimates = subj_df['depth_estimate'].value_counts()\n",
    "        num_unique_responses = len(count_depth_estimates)\n",
    "        num_unique_responses_distribution.append(num_unique_responses)\n",
    "        max_repeats = count_depth_estimates.max()\n",
    "        max_repeats_distribution.append(max_repeats)\n",
    "        if num_unique_responses < 6:\n",
    "            remove.append(subj)\n",
    "    \n",
    "    avg_max_repeats = np.array(max_repeats_distribution).mean()\n",
    "    std_max_repeats = np.array(max_repeats_distribution).std()\n",
    "    \n",
    "    for subj in all_subjIDs:\n",
    "        subj_df = df.loc[df['subjID'] == subj]\n",
    "        count_depth_estimates = subj_df['depth_estimate'].value_counts()\n",
    "        max_repeats = count_depth_estimates.max()\n",
    "\n",
    "        outlierrange = [avg_max_repeats - (3*std_max_repeats), avg_max_repeats + (3*std_max_repeats)]\n",
    "        if max_repeats < outlierrange[0]:\n",
    "            if subj not in remove:\n",
    "                remove.append(subj)\n",
    "        if max_repeats > outlierrange[1]:\n",
    "            if subj not in remove:\n",
    "                remove.append(subj)\n",
    "                \n",
    "    print(\"Number of participants removed: repeat responses: \", len(remove))\n",
    "    \n",
    "    for index, row in df.iterrows():\n",
    "        if row['subjID'] in remove:\n",
    "            df.drop(index, inplace=True)\n",
    "\n",
    "    return df, max_repeats_distribution, num_unique_responses_distribution\n",
    "\n"
   ]
  },
  {
   "cell_type": "code",
   "execution_count": 16,
   "metadata": {},
   "outputs": [
    {
     "name": "stdout",
     "output_type": "stream",
     "text": [
      "Number of participants removed: repeat responses:  3\n"
     ]
    }
   ],
   "source": [
    "repeat_resp_cleaned_data, max_repeats_distrib, num_unique_distrib = repeatResponses_Cleaning(RT_cleaned_data)"
   ]
  },
  {
   "cell_type": "code",
   "execution_count": 17,
   "metadata": {},
   "outputs": [],
   "source": [
    "# repeat_resp_cleaned_data"
   ]
  },
  {
   "cell_type": "code",
   "execution_count": 18,
   "metadata": {},
   "outputs": [],
   "source": [
    "def finalTrialCountCheck(df):\n",
    "    \"\"\"\n",
    "    If more then 10% of a participants data is missing, remove the participant\n",
    "    \"\"\"\n",
    "    #List unique values in the df['subjID'] column\n",
    "    all_subjIDs = df.subjID.unique()\n",
    "    \n",
    "    remove = []\n",
    "    for subj in all_subjIDs:\n",
    "        subj_df = df.loc[df['subjID'] == subj]\n",
    "        count_trials = len(subj_df.index)\n",
    "        threshold_trials_remaining = 192 - math.floor(192 * 0.1)\n",
    "\n",
    "        if count_trials <= threshold_trials_remaining:\n",
    "            remove.append(subj)\n",
    "            \n",
    "    print(\"Number of Participants with >= 10% trials removed: \", len(remove))\n",
    "    \n",
    "    for index, row in df.iterrows():\n",
    "        if row['subjID'] in remove:\n",
    "            df.drop(index, inplace=True)\n",
    "        \n",
    "    print(\"Number of participants left: \",len(df.subjID.unique()))\n",
    "    \n",
    "    return df"
   ]
  },
  {
   "cell_type": "code",
   "execution_count": 19,
   "metadata": {},
   "outputs": [
    {
     "name": "stdout",
     "output_type": "stream",
     "text": [
      "Number of Participants with >= 10% trials removed:  3\n",
      "Number of participants left:  102\n"
     ]
    }
   ],
   "source": [
    "cleaned_data = finalTrialCountCheck(repeat_resp_cleaned_data)"
   ]
  },
  {
   "cell_type": "code",
   "execution_count": 20,
   "metadata": {
    "jupyter": {
     "source_hidden": true
    }
   },
   "outputs": [
    {
     "name": "stdout",
     "output_type": "stream",
     "text": [
      "[873457 719570]\n",
      "[938717 994420]\n",
      "[751172 698911]\n",
      "[976362 195627]\n",
      "[838133 675375]\n",
      "[761733 875825]\n",
      "[381112 808337]\n",
      "[567839 467334]\n",
      "[911073 679064]\n",
      "[349820 139633]\n",
      "[548260 515415]\n",
      "[189255 366614]\n",
      "[512694 477529]\n"
     ]
    }
   ],
   "source": [
    "# find repeat sequences due to mturk glitch (so that N=192, as pre-registered) --> remove subject that was collected last \n",
    "\n",
    "all_subjects = cleaned_data.subjID.unique()\n",
    "all_sequences = cleaned_data.sequenceName.unique()\n",
    "for seq in all_sequences:\n",
    "    seq_df = cleaned_data.loc[cleaned_data['sequenceName']== seq]\n",
    "    seq_subjs = seq_df.subjID.unique()\n",
    "    if len(seq_subjs) > 1:\n",
    "        print(seq_subjs)\n",
    "    "
   ]
  },
  {
   "cell_type": "code",
   "execution_count": 21,
   "metadata": {},
   "outputs": [
    {
     "name": "stdout",
     "output_type": "stream",
     "text": [
      "# of subjs with 192 trials:  18\n",
      "Average # of trials:  186\n"
     ]
    },
    {
     "data": {
      "image/png": "[encoded data removed]",
      "text/plain": [
       "<Figure size 432x288 with 1 Axes>"
      ]
     },
     "metadata": {
      "needs_background": "light"
     },
     "output_type": "display_data"
    }
   ],
   "source": [
    "# subselect subjects that have 192 trials (none removed in outlier cleaning)\n",
    "\n",
    "completeData_subjects = []\n",
    "cD_distribution = []\n",
    "all_subjIDs = cleaned_data.subjID.unique()\n",
    "    \n",
    "for subj in all_subjIDs:\n",
    "    subj_df = cleaned_data.loc[cleaned_data['subjID'] == subj]\n",
    "    count_trials = len(subj_df.index)\n",
    "    cD_distribution.append(count_trials)\n",
    "    if count_trials == 192:\n",
    "        completeData_subjects.append(subj)\n",
    "\n",
    "print('# of subjs with 192 trials: ',len(completeData_subjects))\n",
    "print('Average # of trials: ', int(np.mean(cD_distribution)))\n",
    "\n",
    "plt.hist(cD_distribution, color='gray')\n",
    "plt.xticks(np.arange(174, 194, 2))\n",
    "plt.title('Distribution of Participant Trial Count')\n",
    "plt.xlabel('Number of Trials')\n",
    "plt.ylabel('Count')\n",
    "plt.show()"
   ]
  },
  {
   "cell_type": "code",
   "execution_count": 22,
   "metadata": {},
   "outputs": [],
   "source": [
    "# remove participants\n",
    "remove = []\n",
    "for index, row in cleaned_data.iterrows():\n",
    "    if row['subjID'] in remove:\n",
    "        cleaned_data.drop(index, inplace=True)"
   ]
  },
  {
   "cell_type": "code",
   "execution_count": 23,
   "metadata": {},
   "outputs": [],
   "source": [
    "final_data = cleaned_data.copy(deep=True)"
   ]
  },
  {
   "cell_type": "code",
   "execution_count": 24,
   "metadata": {},
   "outputs": [
    {
     "data": {
      "text/plain": [
       "102"
      ]
     },
     "execution_count": 24,
     "metadata": {},
     "output_type": "execute_result"
    }
   ],
   "source": [
    "len(final_data.subjID.unique())"
   ]
  },
  {
   "cell_type": "markdown",
   "metadata": {},
   "source": [
    "### Z-Score Depth Estimates and RT "
   ]
  },
  {
   "cell_type": "code",
   "execution_count": 25,
   "metadata": {},
   "outputs": [],
   "source": [
    "def zscored_outcomes(df):\n",
    "    '''\n",
    "    z-score depth estimates and RTs:\n",
    "        for each subj calculate their avg and std \n",
    "        zscored = (estim - subj avg)/subj std\n",
    "    '''\n",
    "    #List unique values in the df['subjID'] column\n",
    "    all_subjIDs = df.subjID.unique()\n",
    "    \n",
    "    df2_list = []\n",
    "    for subj in all_subjIDs:\n",
    "        subj_df = df.loc[df['subjID'] == subj]\n",
    "        final_subj_df = subj_df.copy(deep=True) # prevent setting with copy warning \n",
    "        # Z-Score depth estimates\n",
    "        average_estim = subj_df[\"depth_estimate\"].mean()\n",
    "        std_estim = subj_df[\"depth_estimate\"].std()\n",
    "        subj_depth_estimates = np.array(list(subj_df[\"depth_estimate\"]))\n",
    "        zscored_subj_depth_estimates = (subj_depth_estimates - average_estim)/std_estim\n",
    "        final_subj_df.replace(subj_depth_estimates, zscored_subj_depth_estimates, inplace=True)\n",
    "        # Z-Score RT\n",
    "        average_RT = subj_df[\"trial_RT\"].mean()\n",
    "        std_RT = subj_df[\"trial_RT\"].std()\n",
    "        subj_RTs = np.array(list(subj_df[\"trial_RT\"]))\n",
    "        zscored_subj_RTs = (subj_RTs - average_RT)/std_RT\n",
    "        final_subj_df.replace(subj_RTs, zscored_subj_RTs, inplace=True)\n",
    "        df2_list.append(final_subj_df)\n",
    "    \n",
    "    df2 = pd.concat(df2_list)    \n",
    "\n",
    "    return df2\n",
    "     "
   ]
  },
  {
   "cell_type": "code",
   "execution_count": 26,
   "metadata": {},
   "outputs": [],
   "source": [
    "zscored_data = zscored_outcomes(final_data)"
   ]
  },
  {
   "cell_type": "code",
   "execution_count": 27,
   "metadata": {},
   "outputs": [
    {
     "data": {
      "text/plain": [
       "0        1.163965\n",
       "1        1.579330\n",
       "2        5.234133\n",
       "3        1.522319\n",
       "4        1.980442\n",
       "           ...   \n",
       "23995   -0.022848\n",
       "23996    0.418624\n",
       "23997   -0.402140\n",
       "23998    0.406188\n",
       "23999   -0.333743\n",
       "Name: trial_RT, Length: 19050, dtype: float64"
      ]
     },
     "execution_count": 27,
     "metadata": {},
     "output_type": "execute_result"
    }
   ],
   "source": [
    "zscored_data['trial_RT']"
   ]
  },
  {
   "cell_type": "code",
   "execution_count": null,
   "metadata": {},
   "outputs": [],
   "source": []
  },
  {
   "cell_type": "code",
   "execution_count": 28,
   "metadata": {},
   "outputs": [
    {
     "data": {
      "text/plain": [
       "7.6695969721784785"
      ]
     },
     "execution_count": 28,
     "metadata": {},
     "output_type": "execute_result"
    }
   ],
   "source": [
    "average_depth_estimate = np.array(final_data['depth_estimate']).mean()\n",
    "average_depth_estimate"
   ]
  },
  {
   "cell_type": "code",
   "execution_count": 55,
   "metadata": {},
   "outputs": [],
   "source": [
    "sampled_urls = final_data.url.unique()\n",
    "# sampled_urls"
   ]
  },
  {
   "cell_type": "markdown",
   "metadata": {},
   "source": [
    "#### Unit Distribution "
   ]
  },
  {
   "cell_type": "code",
   "execution_count": 30,
   "metadata": {},
   "outputs": [
    {
     "data": {
      "text/plain": [
       "(85, 17)"
      ]
     },
     "execution_count": 30,
     "metadata": {},
     "output_type": "execute_result"
    }
   ],
   "source": [
    "final_subjects = final_data.subjID.unique()\n",
    "num_feet = 0\n",
    "num_meters = 0\n",
    "feet_subjects = []\n",
    "for subj in final_subjects:\n",
    "    unit = subj_units[subj]\n",
    "    if unit == 'feet':\n",
    "        num_feet += 1\n",
    "        feet_subjects.append(subj)\n",
    "    else:\n",
    "        num_meters += 1\n",
    "\n",
    "num_feet, num_meters"
   ]
  },
  {
   "cell_type": "markdown",
   "metadata": {},
   "source": [
    "Filter data by removing participants that used meters "
   ]
  },
  {
   "cell_type": "code",
   "execution_count": 31,
   "metadata": {},
   "outputs": [],
   "source": [
    "# for subj in final_subjects:\n",
    "#     if subj not in feet_subjects:\n",
    "#         print(subj)\n",
    "#         final_data.drop(final_data.loc[final_data['subjID']==subj].index, inplace=True)"
   ]
  },
  {
   "cell_type": "code",
   "execution_count": 32,
   "metadata": {},
   "outputs": [
    {
     "data": {
      "text/plain": [
       "102"
      ]
     },
     "execution_count": 32,
     "metadata": {},
     "output_type": "execute_result"
    }
   ],
   "source": [
    "len(final_data.subjID.unique())"
   ]
  },
  {
   "cell_type": "markdown",
   "metadata": {},
   "source": [
    "#### Age"
   ]
  },
  {
   "cell_type": "code",
   "execution_count": 33,
   "metadata": {},
   "outputs": [
    {
     "data": {
      "image/png": "[encoded data removed]",
      "text/plain": [
       "<Figure size 504x360 with 1 Axes>"
      ]
     },
     "metadata": {
      "needs_background": "light"
     },
     "output_type": "display_data"
    }
   ],
   "source": [
    "all_ages = final_data['age']\n",
    "plt.figure(figsize = [7,5])\n",
    "plt.xticks(np.arange(20,100, 4) ,fontsize=12)\n",
    "# plt.yticks([])\n",
    "plt.xlabel('Age (years)')\n",
    "plt.ylabel('Proportion')\n",
    "plt.title('Distribution of Age', fontsize=16)\n",
    "_, bins, _= plt.hist(all_ages, 50, density=1, alpha=0.5, color='black')\n",
    "plt.show()\n"
   ]
  },
  {
   "cell_type": "code",
   "execution_count": null,
   "metadata": {},
   "outputs": [],
   "source": []
  },
  {
   "cell_type": "code",
   "execution_count": 34,
   "metadata": {},
   "outputs": [],
   "source": [
    "import os\n",
    "import numpy as np\n",
    "import matplotlib.pyplot as plt\n",
    "from scipy import stats\n",
    "from statsmodels.stats.anova import AnovaRM\n",
    "\n",
    "def subject_pivotTable(data, duration):\n",
    "    \"\"\"\n",
    "    Generate pivot tables from data after cleaning and outlier removal \n",
    "    Organizes data such that for each rounded actual depth the following is calulated:\n",
    "    - average depth estimation\n",
    "    - standard deviation\n",
    "    - standard error \n",
    "    \"\"\"\n",
    "\n",
    "    ###### CREATE DF WITH DATA STATISTICS AFTER OUTLIER REMOVAL ######\n",
    "    avg = pd.pivot_table(data,  values = [\"depth_estimate\"], columns=['actual_depth'], aggfunc=np.mean)\n",
    "    avg.reset_index()\n",
    "    avg_renamed = avg.rename(index={'depth_estimate': 'Average Estimated Depth'})\n",
    "        \n",
    "    std = pd.pivot_table(data, values = [\"depth_estimate\"], columns = [\"actual_depth\"], aggfunc = np.std)\n",
    "    #note - std is normalized byN-1 by default (ddof parameter = 1 by default)\n",
    "    std.reset_index()\n",
    "    std_renamed = std.rename(index={'depth_estimate': 'Standard Deviation'})\n",
    "        \n",
    "    sem = pd.pivot_table(data, values = [\"depth_estimate\"], columns = [\"actual_depth\"], aggfunc = 'sem')\n",
    "    sem.reset_index()\n",
    "    sem_renamed = sem.rename(index={'depth_estimate': 'Standard Error'})\n",
    "        \n",
    "    frames = [avg_renamed, std_renamed, sem_renamed] #list of pivot tables for a given duration\n",
    "    result = pd.concat(frames) #merge the pivot tables for a given duration \n",
    "    result = result.T #transpose \n",
    "        \n",
    "    #Label the data by duration \n",
    "    result[\"Duration\"] = duration\n",
    "    \n",
    "    return result\n",
    "\n",
    "def subject_getxy(data):\n",
    "    \"\"\"\n",
    "    Extracts the data from the dataframes to a list format for plotting. \n",
    "    \"\"\"\n",
    "    x = []\n",
    "    y = []\n",
    "    ste = []\n",
    "    for idx, row in data.iterrows():\n",
    "        x.append(idx) #idx is the actual depth value \n",
    "            \n",
    "        estim_avg = row[\"Average Estimated Depth\"]\n",
    "        y.append(estim_avg)\n",
    "            \n",
    "        standard_error = row[\"Standard Error\"]\n",
    "        ste.append(standard_error)\n",
    "   \n",
    "    return x, y, ste \n"
   ]
  },
  {
   "cell_type": "code",
   "execution_count": 35,
   "metadata": {},
   "outputs": [],
   "source": [
    "def AnovaRM_subjectData(df, durations):\n",
    "    \"\"\"\n",
    "    Analyze data by each subject \n",
    "    Returns list of data by subject\n",
    "    \"\"\"\n",
    "    \n",
    "    all_subjIDs = df.subjID.unique()\n",
    "    subj_slopes = {'subjID': [], 'duration': [], 'slope': [], 'age': []}\n",
    "    subj_intercepts = {'subjID': [], 'duration': [], 'intercept' : [], 'age': []}\n",
    "\n",
    "    for subj in all_subjIDs:\n",
    "        subj_df = df.loc[df['subjID'] == subj] \n",
    "        for duration in durations:\n",
    "            duration_subj_df = subj_df\n",
    "            duration_subj_pivot = subject_pivotTable(duration_subj_df, duration)\n",
    "            duration_subj_data = subject_getxy(duration_subj_pivot)\n",
    "\n",
    "            x = np.array(duration_subj_data[0])\n",
    "            y = np.array(duration_subj_data[1])\n",
    "            slope, intercept, r_value, p_value, std_err = stats.linregress(x, y)\n",
    "            subj_slopes['subjID'].append(subj)\n",
    "            subj_slopes['duration'].append(duration)\n",
    "            subj_slopes['slope'].append(slope)\n",
    "            subj_slopes['age'].append(duration_subj_df.age.unique()[0])\n",
    "            \n",
    "            subj_intercepts['subjID'].append(subj)\n",
    "            subj_intercepts['duration'].append(duration)            \n",
    "            subj_intercepts['intercept'].append(intercept)\n",
    "            subj_intercepts['age'].append(duration_subj_df.age.unique()[0])\n",
    "                \n",
    "    slope_df = pd.DataFrame(data=subj_slopes)\n",
    "    intercept_df = pd.DataFrame(data=subj_intercepts)\n",
    "        \n",
    "    return slope_df, intercept_df\n"
   ]
  },
  {
   "cell_type": "code",
   "execution_count": 36,
   "metadata": {},
   "outputs": [],
   "source": [
    "zs_final_data_250 = zscored_data.loc[zscored_data[\"duration\"]  == 250]\n",
    "zs_final_data_1000 = zscored_data.loc[zscored_data[\"duration\"]  == 1000]"
   ]
  },
  {
   "cell_type": "code",
   "execution_count": 37,
   "metadata": {},
   "outputs": [],
   "source": [
    "slopes_250, df_intercept_250 = AnovaRM_subjectData(zs_final_data_250, [250])\n",
    "slopes_1000, df_intercept_1000 = AnovaRM_subjectData(zs_final_data_1000, [1000])\n",
    "\n"
   ]
  },
  {
   "cell_type": "markdown",
   "metadata": {},
   "source": [
    "#### Distribution of Participant Average Estimates"
   ]
  },
  {
   "cell_type": "code",
   "execution_count": 38,
   "metadata": {},
   "outputs": [],
   "source": [
    "all_subjIDs = zscored_data.subjID.unique()\n",
    "avgs = []\n",
    "for subj in all_subjIDs:\n",
    "    subj_df = zscored_data.loc[zscored_data['subjID'] == subj]\n",
    "    subj_avg = np.array(subj_df['depth_estimate']).mean()\n",
    "    avgs.append(subj_avg)\n",
    "    if subj_avg > 11:\n",
    "        print(subj)\n",
    "    \n",
    "# 9-6-2021_6-48-58_485648.csv\n",
    "# 9-6-2021_7-13-44_277612.csv\n",
    "# 9-6-2021_7-48-11_153554.csv"
   ]
  },
  {
   "cell_type": "code",
   "execution_count": 39,
   "metadata": {},
   "outputs": [
    {
     "data": {
      "image/png": "[encoded data removed]",
      "text/plain": [
       "<Figure size 576x432 with 1 Axes>"
      ]
     },
     "metadata": {
      "needs_background": "light"
     },
     "output_type": "display_data"
    }
   ],
   "source": [
    "plt.figure(figsize = [8,6])\n",
    "plt.title(\"Distribution of Participant Average Depth Estimations\", fontsize = 15)\n",
    "plt.ylabel(\"count\", fontsize = 12)\n",
    "plt.xlabel(\"Average Depth Estimate (meters)\", fontsize = 12)\n",
    "_, bins, _ = plt.hist(avgs, 50, density=1, alpha=0.6, color = 'black')\n",
    "mu, sigma = scipy.stats.norm.fit(avgs)\n",
    "best_fit_line = scipy.stats.norm.pdf(bins, mu, sigma)\n",
    "# plt.plot(bins, best_fit_line, color = 'orange')\n",
    "\n",
    "plt.show()"
   ]
  },
  {
   "cell_type": "markdown",
   "metadata": {},
   "source": [
    "### Data split by duration"
   ]
  },
  {
   "cell_type": "code",
   "execution_count": 40,
   "metadata": {},
   "outputs": [],
   "source": [
    "data_250ms = zscored_data[zscored_data['duration'] == 250]\n",
    "data_1000ms = zscored_data[zscored_data['duration'] == 1000]\n",
    "\n",
    "duration_data = [data_250ms, data_1000ms]\n"
   ]
  },
  {
   "cell_type": "code",
   "execution_count": 41,
   "metadata": {},
   "outputs": [],
   "source": [
    "# dest = '/Users/prachimahableshwarkar/Documents/GW/Depth_MTurk/depth_duration_analysis/TAC_data/matched/'\n",
    "# durations = ['250', '1000']\n",
    "\n",
    "# for i in range(len(duration_data)):  \n",
    "#     duration_data[i].to_csv(dest + 'raw_' + durations[i] + '_data.csv' , index=True)\n",
    "#     normalized_duration_data[i].to_csv(dest + 'normalized_' + durations[i] + '_data.csv' , index=True)"
   ]
  },
  {
   "cell_type": "markdown",
   "metadata": {},
   "source": [
    "# Individual Target Results\n"
   ]
  },
  {
   "cell_type": "code",
   "execution_count": 42,
   "metadata": {},
   "outputs": [],
   "source": [
    "def trial_pivotTable(data):\n",
    "    \"\"\"\n",
    "    Generate pivot tables from data after cleaning and outlier removal \n",
    "    Organizes data such that for each individual target (stimulus) the following is calulated:\n",
    "    - average depth estimation\n",
    "    - standard deviation\n",
    "    - standard error \n",
    "    \"\"\"\n",
    "    \n",
    "    avg_tables = []\n",
    "    std_tables = []\n",
    "    result_tables = []\n",
    "    ###### CREATE DF WITH DATA STATISTICS AFTER OUTLIER REMOVAL ######\n",
    "    cond = 0\n",
    "    for duration in data: #generate pivot tables for data statistics (avg, std, sem)\n",
    "        actual = pd.pivot_table(duration,  values = [\"actual_depth\"], columns=['stimulus'], aggfunc=np.mean)\n",
    "        actual.reset_index()\n",
    "        actual_renamed = actual.rename(index={'actual_depth': 'Actual Depth'})\n",
    "        \n",
    "        avg = pd.pivot_table(duration,  values = [\"depth_estimate\"], columns=['stimulus'], aggfunc=np.mean)\n",
    "        avg.reset_index()\n",
    "        avg_renamed = avg.rename(index={'depth_estimate': 'Average Estimated Depth'})\n",
    "        \n",
    "        RT = pd.pivot_table(duration,  values = [\"trial_RT\"], columns=['stimulus'], aggfunc=np.mean)\n",
    "        RT.reset_index()\n",
    "        RT_renamed = RT.rename(index={'trial_RT': 'Average Trial RT'})\n",
    "        \n",
    "        std = pd.pivot_table(duration, values = [\"depth_estimate\"], columns = [\"stimulus\"], aggfunc = np.std)\n",
    "        #note - std is normalized byN-1 by default (ddof parameter = 1 by default)\n",
    "        std.reset_index()\n",
    "        std_renamed = std.rename(index={'depth_estimate': 'Standard Deviation'})\n",
    "        \n",
    "        sem = pd.pivot_table(duration, values = [\"depth_estimate\"], columns = [\"stimulus\"], aggfunc = 'sem')\n",
    "        sem.reset_index()\n",
    "        sem_renamed = sem.rename(index={'depth_estimate': 'Standard Error'})\n",
    "        \n",
    "        frames = [avg_renamed, std_renamed, sem_renamed, actual_renamed, RT_renamed] #list of pivot tables for a given duration\n",
    "        result = pd.concat(frames) #merge the pivot tables for a given duration \n",
    "        result = result.T #transpose \n",
    "        result = result.sort_values(by=['Actual Depth'])\n",
    "\n",
    "        #Label the data by duration based on condition counter (cond)\n",
    "        if cond == 0:\n",
    "            result[\"Duration\"] = 250\n",
    "        if cond == 1:\n",
    "            result[\"Duration\"] = 1000\n",
    "        \n",
    "        avg_tables.append(avg_renamed) #created for reference (not used in code)\n",
    "        std_tables.append(std_renamed) #created for reference (not used in code)\n",
    "        result_tables.append(result) #list of results for all durations \n",
    "        cond += 1 \n",
    "        \n",
    "    \n",
    "    return result_tables"
   ]
  },
  {
   "cell_type": "code",
   "execution_count": 43,
   "metadata": {},
   "outputs": [],
   "source": [
    "raw_trial_pivot = trial_pivotTable(duration_data)\n"
   ]
  },
  {
   "cell_type": "code",
   "execution_count": 44,
   "metadata": {},
   "outputs": [],
   "source": [
    "# raw_trial_pivot[0]"
   ]
  },
  {
   "cell_type": "code",
   "execution_count": 45,
   "metadata": {},
   "outputs": [],
   "source": [
    "def trial_getxy(data):\n",
    "    \"\"\"\n",
    "    Extracts the data from the dataframes to a list format for plotting. \n",
    "    Args:\n",
    "        df = [250, 500, 750, 1000]\n",
    "        These data frames are POST all outlier cleaning. \n",
    "        \n",
    "    Returns:\n",
    "        actualdepths = [x_250, x_500, x_750, x_1000]\n",
    "        xs = [list of individual targets]\n",
    "        ys = [y_250, y_500, y_750, y_100]\n",
    "        stes = [ste_250, ste_500, ste_750, ste_1000]\n",
    "        \n",
    "    \"\"\"\n",
    "    xs = []\n",
    "    ys = []\n",
    "    stes = []\n",
    "    stds = []\n",
    "    actualdepths = []\n",
    "    trial_RTs = []\n",
    "    for table in data:\n",
    "        x = []\n",
    "        y = []\n",
    "        ste = []\n",
    "        std = []\n",
    "        depths = []\n",
    "        RT = []\n",
    "        for idx, row in table.iterrows():\n",
    "            \n",
    "            x.append(idx) #idx is the target (stimulus path)\n",
    "            \n",
    "            estim_avg = row[\"Average Estimated Depth\"]\n",
    "            y.append(estim_avg)\n",
    "            \n",
    "            standard_error = row[\"Standard Error\"]\n",
    "            ste.append(standard_error)\n",
    "            \n",
    "            depth = row[\"Actual Depth\"]\n",
    "            depths.append(depth)\n",
    "            \n",
    "            standard_deviation = row[\"Standard Deviation\"]\n",
    "            std.append(standard_deviation)       \n",
    "            \n",
    "            reactionTime = row[\"Average Trial RT\"]\n",
    "            RT.append(reactionTime)  \n",
    "            \n",
    "        xs.append(x)\n",
    "        ys.append(y)\n",
    "        stes.append(ste)\n",
    "        actualdepths.append(depths)\n",
    "        stds.append(std)\n",
    "        trial_RTs.append(RT)\n",
    "\n",
    "    return xs, ys, stes, actualdepths, stds, trial_RTs"
   ]
  },
  {
   "cell_type": "code",
   "execution_count": 46,
   "metadata": {},
   "outputs": [],
   "source": [
    "trial_raw_final = trial_getxy(raw_trial_pivot)\n"
   ]
  },
  {
   "cell_type": "markdown",
   "metadata": {},
   "source": [
    "### Raw Data"
   ]
  },
  {
   "cell_type": "code",
   "execution_count": 47,
   "metadata": {},
   "outputs": [],
   "source": [
    "trial_plot_data = trial_raw_final\n",
    "\n",
    "## Execute this cell to prep for plotting\n",
    "final_x_250 = trial_plot_data[0][0]\n",
    "final_y_250 = trial_plot_data[1][0]\n",
    "ste_250 = trial_plot_data[2][0]\n",
    "stim_250 = trial_plot_data[3][0]\n",
    "std_250 = trial_plot_data[4][0]\n",
    "RT_250 = trial_plot_data[5][0]\n",
    "\n",
    "final_x_1000 = trial_plot_data[0][1]\n",
    "final_y_1000 = trial_plot_data[1][1]\n",
    "ste_1000 = trial_plot_data[2][1]\n",
    "stim_1000 = trial_plot_data[3][1]\n",
    "std_1000 = trial_plot_data[4][1]\n",
    "RT_1000 = trial_plot_data[5][1]"
   ]
  },
  {
   "cell_type": "code",
   "execution_count": 56,
   "metadata": {},
   "outputs": [
    {
     "name": "stdout",
     "output_type": "stream",
     "text": [
      "m: [0.54873217]\n",
      "b: -1.652959793305851\n",
      "R-squared:  0.705689156673294\n"
     ]
    },
    {
     "data": {
      "text/plain": [
       "0.706"
      ]
     },
     "execution_count": 56,
     "metadata": {},
     "output_type": "execute_result"
    },
    {
     "data": {
      "image/png": "[encoded data removed]",
      "text/plain": [
       "<Figure size 576x576 with 1 Axes>"
      ]
     },
     "metadata": {
      "needs_background": "light"
     },
     "output_type": "display_data"
    }
   ],
   "source": [
    "from sklearn.linear_model import LinearRegression\n",
    "\n",
    "plt.figure(figsize = [8,8])\n",
    "#run regression\n",
    "X_250 = np.array(stim_250).reshape(-1,1)\n",
    "y_250 = final_y_250\n",
    "reg_250 = LinearRegression().fit(X_250, y_250)\n",
    "\n",
    "#Generated Predictions\n",
    "y_predicted_250 = reg_250.predict(X_250)\n",
    "#Plot Our Actual and Predicted Values\n",
    "plt.plot(X_250, y_250, 'o', color='black', alpha = 0.5);\n",
    "plt.plot(X_250,y_predicted_250,color='chocolate', label = 'm = ' + str(round(reg_250.coef_[0], 3))\n",
    "         + '     r-squared = ' + str(round(float(reg_250.score(X_250, y_250)), 3)))\n",
    "plt.title(\"250 ms\", fontsize = 20)\n",
    "plt.xlabel(\"Actual Depth (m)\", fontsize = 15)\n",
    "plt.ylabel(\"z-scored Estimated Depth (m)\", fontsize = 15)\n",
    "# plt.plot(X_250, X_250, label = \"Perfect Accuracy\", color = 'black',linestyle='--')  # solid\n",
    "plt.errorbar(X_250, y_250, yerr=ste_250, elinewidth = 1, ecolor = \"gray\", fmt = 'or', mfc = \"chocolate\", mec = \"chocolate\", capsize = 3)\n",
    "\n",
    "legend = plt.legend(loc = 0, fontsize = 13, borderpad = 0.6, labelspacing = 1)\n",
    "legend.get_frame().set_facecolor('lightgray')\n",
    "\n",
    "\n",
    "#get coefficients and y intercept\n",
    "print(\"m: {0}\".format(reg_250.coef_))\n",
    "print(\"b: {0}\".format(reg_250.intercept_))\n",
    "\n",
    "#Returns the coefficient of determination R^2 of the prediction.\n",
    "print(\"R-squared: \", reg_250.score(X_250, y_250))\n",
    "\n",
    "round(float(reg_250.score(X_250, y_250)), 3)"
   ]
  },
  {
   "cell_type": "code",
   "execution_count": 57,
   "metadata": {},
   "outputs": [
    {
     "name": "stdout",
     "output_type": "stream",
     "text": [
      "m: [0.52716184]\n",
      "b: -1.5885582686786344\n",
      "R-squared:  0.7192718299446437\n"
     ]
    },
    {
     "data": {
      "image/png": "[encoded data removed]",
      "text/plain": [
       "<Figure size 576x576 with 1 Axes>"
      ]
     },
     "metadata": {
      "needs_background": "light"
     },
     "output_type": "display_data"
    }
   ],
   "source": [
    "from sklearn.linear_model import LinearRegression\n",
    "\n",
    "plt.figure(figsize = [8,8])\n",
    "#run regression\n",
    "X_1000 = np.array(stim_1000).reshape(-1,1)\n",
    "y_1000 = final_y_1000\n",
    "reg_1000 = LinearRegression().fit(X_1000, y_1000)\n",
    "\n",
    "#Generated Predictions\n",
    "y_predicted_1000 = reg_1000.predict(X_1000)\n",
    "#Plot Our Actual and Predicted Values\n",
    "plt.plot(X_1000, y_1000, 'o', color='black', alpha = 0.7);\n",
    "plt.plot(X_1000,y_predicted_1000,color='darkviolet', label = 'm = ' + str(round(reg_1000.coef_[0], 3))\n",
    "         + '     r-squared = ' + str(round(float(reg_1000.score(X_1000, y_1000)), 3)))\n",
    "\n",
    "plt.title(\"1000 ms\", fontsize = 20)\n",
    "plt.xlabel(\"Actual Depth (m)\", fontsize = 15)\n",
    "plt.ylabel(\"z-scored Estimated Depth (m)\", fontsize = 15)\n",
    "# plt.plot(X_1000, X_1000, label = \"Perfect Accuracy\", color = 'black',linestyle='--')  # solid\n",
    "plt.errorbar(X_1000, y_1000, yerr=ste_1000, elinewidth = 1, ecolor = \"gray\", fmt = 'or', mfc = \"darkviolet\", mec = \"darkviolet\", capsize = 3)\n",
    "\n",
    "\n",
    "legend = plt.legend(loc = 0, fontsize = 13, borderpad = 0.6, labelspacing = 1)\n",
    "legend.get_frame().set_facecolor('lightgray')\n",
    "\n",
    "\n",
    "\n",
    "#get coefficients and y intercept\n",
    "print(\"m: {0}\".format(reg_1000.coef_))\n",
    "print(\"b: {0}\".format(reg_1000.intercept_))\n",
    "\n",
    "#Returns the coefficient of determination R^2 of the prediction.\n",
    "print(\"R-squared: \", reg_1000.score(X_1000, y_1000))"
   ]
  },
  {
   "cell_type": "code",
   "execution_count": null,
   "metadata": {},
   "outputs": [],
   "source": []
  },
  {
   "cell_type": "code",
   "execution_count": 50,
   "metadata": {},
   "outputs": [
    {
     "name": "stdout",
     "output_type": "stream",
     "text": [
      "m: [0.15411759]\n",
      "b: -0.00021358595137555735\n",
      "R-squared:  0.338812759634739\n"
     ]
    },
    {
     "data": {
      "text/plain": [
       "0.339"
      ]
     },
     "execution_count": 50,
     "metadata": {},
     "output_type": "execute_result"
    },
    {
     "data": {
      "image/png": "[encoded data removed]",
      "text/plain": [
       "<Figure size 576x576 with 1 Axes>"
      ]
     },
     "metadata": {
      "needs_background": "light"
     },
     "output_type": "display_data"
    }
   ],
   "source": [
    "from sklearn.linear_model import LinearRegression\n",
    "\n",
    "plt.figure(figsize = [8,8])\n",
    "#run regression\n",
    "X_250 = np.array(final_y_250).reshape(-1,1)\n",
    "y_250 = RT_250\n",
    "reg_250 = LinearRegression().fit(X_250, y_250)\n",
    "\n",
    "#Generated Predictions\n",
    "y_predicted_250 = reg_250.predict(X_250)\n",
    "#Plot Our Actual and Predicted Values\n",
    "plt.plot(X_250, y_250, 'o', color='black', alpha = 0.5);\n",
    "plt.plot(X_250,y_predicted_250,color='chocolate', label = 'm = ' + str(round(reg_250.coef_[0], 3))\n",
    "         + '     r-squared = ' + str(round(float(reg_250.score(X_250, y_250)), 3)))\n",
    "plt.title(\"250 ms\", fontsize = 20)\n",
    "plt.xlabel(\"z-scored Estimated Depth\", fontsize = 15)\n",
    "plt.ylabel(\"z-scored RT\", fontsize = 15)\n",
    "plt.errorbar(X_250, y_250, yerr=ste_250, elinewidth = 1, ecolor = \"gray\", fmt = 'or', mfc = \"chocolate\", mec = \"chocolate\", capsize = 3)\n",
    "\n",
    "legend = plt.legend(loc = 0, fontsize = 13, borderpad = 0.6, labelspacing = 1)\n",
    "legend.get_frame().set_facecolor('lightgray')\n",
    "\n",
    "\n",
    "#get coefficients and y intercept\n",
    "print(\"m: {0}\".format(reg_250.coef_))\n",
    "print(\"b: {0}\".format(reg_250.intercept_))\n",
    "\n",
    "#Returns the coefficient of determination R^2 of the prediction.\n",
    "print(\"R-squared: \", reg_250.score(X_250, y_250))\n",
    "\n",
    "round(float(reg_250.score(X_250, y_250)), 3)"
   ]
  },
  {
   "cell_type": "code",
   "execution_count": 51,
   "metadata": {},
   "outputs": [
    {
     "name": "stdout",
     "output_type": "stream",
     "text": [
      "m: [0.20984501]\n",
      "b: -4.1906640186952524e-05\n",
      "R-squared:  0.4386643727838815\n"
     ]
    },
    {
     "data": {
      "image/png": "[encoded data removed]",
      "text/plain": [
       "<Figure size 576x576 with 1 Axes>"
      ]
     },
     "metadata": {
      "needs_background": "light"
     },
     "output_type": "display_data"
    }
   ],
   "source": [
    "from sklearn.linear_model import LinearRegression\n",
    "\n",
    "plt.figure(figsize = [8,8])\n",
    "#run regression\n",
    "X_1000 = np.array(final_y_1000).reshape(-1,1)\n",
    "y_1000 = RT_1000\n",
    "reg_1000 = LinearRegression().fit(X_1000, y_1000)\n",
    "\n",
    "#Generated Predictions\n",
    "y_predicted_1000 = reg_1000.predict(X_1000)\n",
    "#Plot Our Actual and Predicted Values\n",
    "plt.plot(X_1000, y_1000, 'o', color='black', alpha = 0.7);\n",
    "plt.plot(X_1000,y_predicted_1000,color='darkviolet', label = 'm = ' + str(round(reg_1000.coef_[0], 3))\n",
    "         + '     r-squared = ' + str(round(float(reg_1000.score(X_1000, y_1000)), 3)))\n",
    "\n",
    "plt.title(\"1000 ms\", fontsize = 20)\n",
    "plt.xlabel(\"z-scored Estimated Depth\", fontsize = 15)\n",
    "plt.ylabel(\"z-scored RT\", fontsize = 15)\n",
    "# plt.plot(X_1000, X_1000, label = \"Perfect Accuracy\", color = 'black',linestyle='--')  # solid\n",
    "plt.errorbar(X_1000, y_1000, yerr=ste_1000, elinewidth = 1, ecolor = \"gray\", fmt = 'or', mfc = \"darkviolet\", mec = \"darkviolet\", capsize = 3)\n",
    "\n",
    "\n",
    "legend = plt.legend(loc = 0, fontsize = 13, borderpad = 0.6, labelspacing = 1)\n",
    "legend.get_frame().set_facecolor('lightgray')\n",
    "\n",
    "\n",
    "#get coefficients and y intercept\n",
    "print(\"m: {0}\".format(reg_1000.coef_))\n",
    "print(\"b: {0}\".format(reg_1000.intercept_))\n",
    "\n",
    "#Returns the coefficient of determination R^2 of the prediction.\n",
    "print(\"R-squared: \", reg_1000.score(X_1000, y_1000))"
   ]
  },
  {
   "cell_type": "code",
   "execution_count": 54,
   "metadata": {},
   "outputs": [],
   "source": [
    "n_destpath = '/Users/prachi/Documents/depth_duration/verbal_judgement_analysis/TAC_npy_files/matchedVE/z-scored/'\n",
    "\n",
    "with open(n_destpath + 'X_250.npy', 'wb') as f:\n",
    "    np.save(f, X_250)\n",
    "with open(n_destpath + 'final_y_250.npy', 'wb') as f:\n",
    "    np.save(f, final_y_250)\n",
    "    \n",
    "with open(n_destpath + 'X_1000.npy', 'wb') as f:\n",
    "    np.save(f, X_1000)\n",
    "with open(n_destpath + 'final_y_1000.npy', 'wb') as f:\n",
    "    np.save(f, final_y_1000)\n",
    "\n",
    "with open(n_destpath + 'std_250.npy', 'wb') as f:\n",
    "    np.save(f, std_250)\n",
    "    \n",
    "with open(n_destpath + 'std_1000.npy', 'wb') as f:\n",
    "    np.save(f, std_1000)\n",
    "    \n",
    "with open(n_destpath + 'ste_250.npy', 'wb') as f:\n",
    "    np.save(f, ste_250)\n",
    "    \n",
    "with open(n_destpath + 'ste_1000.npy', 'wb') as f:\n",
    "    np.save(f, ste_1000)\n",
    "\n",
    "with open(n_destpath + 'final_stim_250.npy', 'wb') as f:\n",
    "    np.save(f, final_x_250)\n",
    "\n",
    "with open(n_destpath + 'final_stim_1000.npy', 'wb') as f:\n",
    "    np.save(f, final_x_1000)"
   ]
  },
  {
   "cell_type": "code",
   "execution_count": null,
   "metadata": {},
   "outputs": [],
   "source": []
  }
 ],
 "metadata": {
  "kernelspec": {
   "display_name": "Python 3",
   "language": "python",
   "name": "python3"
  },
  "language_info": {
   "codemirror_mode": {
    "name": "ipython",
    "version": 3
   },
   "file_extension": ".py",
   "mimetype": "text/x-python",
   "name": "python",
   "nbconvert_exporter": "python",
   "pygments_lexer": "ipython3",
   "version": "3.6.1"
  }
 },
 "nbformat": 4,
 "nbformat_minor": 4
}
