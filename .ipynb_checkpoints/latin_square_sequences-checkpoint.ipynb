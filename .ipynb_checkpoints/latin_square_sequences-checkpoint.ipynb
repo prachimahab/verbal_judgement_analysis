{
 "cells": [
  {
   "cell_type": "markdown",
   "metadata": {},
   "source": [
    "# Verbal Judgement Late Square Sequences"
   ]
  },
  {
   "cell_type": "code",
   "execution_count": 2,
   "metadata": {},
   "outputs": [],
   "source": [
    "import scipy.io\n",
    "import os \n",
    "import pandas as pd\n",
    "import numpy as np\n",
    "import math\n",
    "import matplotlib.pyplot as plt\n",
    "import scipy \n",
    "import scipy.stats as stats\n",
    "from scipy.stats import sem \n",
    "import json\n",
    "import random\n",
    "import copy"
   ]
  },
  {
   "cell_type": "code",
   "execution_count": 3,
   "metadata": {},
   "outputs": [],
   "source": [
    "homedir = '/Users/prachimahableshwarkar/Documents/GW/Depth_MTurk/depth_duration_analysis/'"
   ]
  },
  {
   "cell_type": "code",
   "execution_count": 5,
   "metadata": {},
   "outputs": [
    {
     "data": {
      "text/plain": [
       "((48, 48),\n",
       " array([14, 18, 19, 34,  2, 48,  6, 37, 16, 10, 46, 33, 28, 29, 44, 30, 25,\n",
       "         5, 22, 43,  8, 38, 24, 31, 36, 26,  7, 35, 21,  9, 27, 47,  1, 12,\n",
       "        23, 20, 15,  4, 39, 42,  3, 13, 45, 40, 32, 17, 11, 41],\n",
       "       dtype=uint8))"
      ]
     },
     "execution_count": 5,
     "metadata": {},
     "output_type": "execute_result"
    }
   ],
   "source": [
    "# load 48x48 latin square from MATLAB randls function\n",
    "randls48 = scipy.io.loadmat(homedir + 'randls48.mat')['ans']\n",
    "randls48.shape, randls48[0]"
   ]
  },
  {
   "cell_type": "code",
   "execution_count": 6,
   "metadata": {},
   "outputs": [],
   "source": [
    "# load an existing balanced VE sequence and seperate into 4 blocks\n",
    "VE_seq_path = '/Users/prachimahableshwarkar/Documents/GW/Depth_MTurk/SUN-RGBD_stimuli_prep/V2_sequences/a.json'\n",
    "\n",
    "with open(VE_seq_path, 'r') as f:\n",
    "    VE_seq = json.load(f)\n",
    "\n",
    "len_block = 48\n",
    "block1 = VE_seq[:len_block]\n",
    "block2 = VE_seq[len_block:len_block*2]\n",
    "block3 = VE_seq[len_block*2:len_block*3]\n",
    "block4 = VE_seq[len_block*3:]"
   ]
  },
  {
   "cell_type": "code",
   "execution_count": 7,
   "metadata": {},
   "outputs": [],
   "source": [
    "def randls_to_sequence(randls_row, block):\n",
    "    '''\n",
    "    Uses indeces from the randls matrix row to build sequence\n",
    "    \n",
    "    Args:\n",
    "        randls_row - one row of the randls matrix\n",
    "        block - one block out of the four in the VE sequence\n",
    "    Returns:\n",
    "        VE trials in sequence\n",
    "    '''\n",
    "    sequence = []\n",
    "    for elem in randls_row:\n",
    "        if elem == len(randls_row):\n",
    "            idx = 0\n",
    "        else:\n",
    "            idx = elem\n",
    "        sequence.append(block[idx])\n",
    "    return sequence \n",
    "\n",
    "def main_randls_blocks(randls, block):\n",
    "    '''\n",
    "    Converts each randls row into a sequence \n",
    "    \n",
    "    Args:\n",
    "        randls - randls matrix from MATLAB\n",
    "        block - one block out of the four in the VE sequence\n",
    "    Returns:\n",
    "        All sequences from the randls matrix in trial sequence format\n",
    "    '''\n",
    "    block_sequences = []\n",
    "    for i in range(randls.shape[0]):\n",
    "        row = randls[i]\n",
    "        seq = randls_to_sequence(row, block)\n",
    "        block_sequences.append(seq)\n",
    "    return block_sequences"
   ]
  },
  {
   "cell_type": "code",
   "execution_count": 8,
   "metadata": {},
   "outputs": [],
   "source": [
    "block1_randls_seqs = main_randls_blocks(randls48, block1)\n",
    "block2_randls_seqs = main_randls_blocks(randls48, block2)\n",
    "block3_randls_seqs = main_randls_blocks(randls48, block3)\n",
    "block4_randls_seqs = main_randls_blocks(randls48, block4)"
   ]
  },
  {
   "cell_type": "code",
   "execution_count": 9,
   "metadata": {},
   "outputs": [
    {
     "data": {
      "text/plain": [
       "(48, 48)"
      ]
     },
     "execution_count": 9,
     "metadata": {},
     "output_type": "execute_result"
    }
   ],
   "source": [
    "len(block1_randls_seqs), len(block1_randls_seqs[0])"
   ]
  },
  {
   "cell_type": "code",
   "execution_count": 10,
   "metadata": {},
   "outputs": [],
   "source": [
    "# shuffle the order of the sequences\n",
    "random.shuffle(block1_randls_seqs)\n",
    "random.shuffle(block2_randls_seqs)\n",
    "random.shuffle(block3_randls_seqs)\n",
    "random.shuffle(block4_randls_seqs)"
   ]
  },
  {
   "cell_type": "code",
   "execution_count": 11,
   "metadata": {},
   "outputs": [
    {
     "name": "stdout",
     "output_type": "stream",
     "text": [
      "24\n",
      "48\n",
      "(1, 2, 3, 0)\n"
     ]
    }
   ],
   "source": [
    "from itertools import permutations\n",
    " \n",
    "# Get all permutations of [0, 1, 2, 3] --> block order structure \n",
    "perm = list(permutations([0, 1, 2, 3]))\n",
    " \n",
    "print(len(perm))\n",
    "all_perm_48 = perm * 2\n",
    "print(len(all_perm_48))\n",
    "random.shuffle(all_perm_48)\n",
    "print(all_perm_48[0])"
   ]
  },
  {
   "cell_type": "code",
   "execution_count": 12,
   "metadata": {},
   "outputs": [
    {
     "data": {
      "text/plain": [
       "(48,\n",
       " 192,\n",
       " {'sequence': 'a',\n",
       "  'image': '/Users/prachi/Documents/depth_duration/mar3_depthDuration_stimuli/targetImages_kinect2data_subset/003492_2014-05-21_15-50-55_094959634447_rgbf000828-resize_1',\n",
       "  'duration': 1000,\n",
       "  'num': 50,\n",
       "  'depth': 4.0687500000000005,\n",
       "  'image_path': 'depth_duration_stimuli/003492_2014-05-21_15-50-55_094959634447_rgbf000828-resize_1/003492_2014-05-21_15-50-55_094959634447_rgbf000828-resize_1-original.jpg',\n",
       "  'image_path_target': 'depth_duration_stimuli/003492_2014-05-21_15-50-55_094959634447_rgbf000828-resize_1/003492_2014-05-21_15-50-55_094959634447_rgbf000828-resize_1-target.png',\n",
       "  'mask_path': 'masks/mask_50.jpg',\n",
       "  'fixation_path': 'fixation.jpg'})"
      ]
     },
     "execution_count": 12,
     "metadata": {},
     "output_type": "execute_result"
    }
   ],
   "source": [
    "# build the blocks together, counterbalancing using all permutations of blocks \n",
    "sequences48 = []\n",
    "\n",
    "blocks = [block1_randls_seqs, block2_randls_seqs, block3_randls_seqs, block4_randls_seqs]\n",
    "for i in range(48):\n",
    "    block_order = all_perm_48[i]\n",
    "    fseq = []\n",
    "    for b_order in block_order:\n",
    "        fseq += blocks[b_order][i]\n",
    "        \n",
    "#     fseq = block1_randls_seqs[i] + block2_randls_seqs[i] + block3_randls_seqs[i] + block4_randls_seqs[i]\n",
    "    sequences48.append(fseq)\n",
    "    \n",
    "len(sequences48), len(sequences48[0]), sequences48[0][0]"
   ]
  },
  {
   "cell_type": "code",
   "execution_count": 13,
   "metadata": {},
   "outputs": [
    {
     "data": {
      "text/plain": [
       "{'sequence': 'a',\n",
       " 'image': '/Users/prachi/Documents/depth_duration/mar3_depthDuration_stimuli/targetImages_kinect2data_subset/003492_2014-05-21_15-50-55_094959634447_rgbf000828-resize_1',\n",
       " 'duration': 250,\n",
       " 'num': 50,\n",
       " 'depth': 4.0687500000000005,\n",
       " 'image_path': 'depth_duration_stimuli/003492_2014-05-21_15-50-55_094959634447_rgbf000828-resize_1/003492_2014-05-21_15-50-55_094959634447_rgbf000828-resize_1-original.jpg',\n",
       " 'image_path_target': 'depth_duration_stimuli/003492_2014-05-21_15-50-55_094959634447_rgbf000828-resize_1/003492_2014-05-21_15-50-55_094959634447_rgbf000828-resize_1-target.png',\n",
       " 'mask_path': 'masks/mask_50.jpg',\n",
       " 'fixation_path': 'fixation.jpg'}"
      ]
     },
     "execution_count": 13,
     "metadata": {},
     "output_type": "execute_result"
    }
   ],
   "source": [
    "# set all trial durations to 250 ms\n",
    "for seq in sequences48:\n",
    "    for trial in seq:\n",
    "        trial['duration'] = 250\n",
    "\n",
    "sequences48[0][0]"
   ]
  },
  {
   "cell_type": "code",
   "execution_count": 14,
   "metadata": {},
   "outputs": [],
   "source": [
    "# deepcopy of sequences - prevents alterations \n",
    "sequences48_250ms = copy.deepcopy(sequences48)"
   ]
  },
  {
   "cell_type": "code",
   "execution_count": 15,
   "metadata": {},
   "outputs": [
    {
     "data": {
      "text/plain": [
       "{'sequence': 'a',\n",
       " 'image': '/Users/prachi/Documents/depth_duration/mar3_depthDuration_stimuli/targetImages_kinect2data_subset/003492_2014-05-21_15-50-55_094959634447_rgbf000828-resize_1',\n",
       " 'duration': 1000,\n",
       " 'num': 50,\n",
       " 'depth': 4.0687500000000005,\n",
       " 'image_path': 'depth_duration_stimuli/003492_2014-05-21_15-50-55_094959634447_rgbf000828-resize_1/003492_2014-05-21_15-50-55_094959634447_rgbf000828-resize_1-original.jpg',\n",
       " 'image_path_target': 'depth_duration_stimuli/003492_2014-05-21_15-50-55_094959634447_rgbf000828-resize_1/003492_2014-05-21_15-50-55_094959634447_rgbf000828-resize_1-target.png',\n",
       " 'mask_path': 'masks/mask_50.jpg',\n",
       " 'fixation_path': 'fixation.jpg'}"
      ]
     },
     "execution_count": 15,
     "metadata": {},
     "output_type": "execute_result"
    }
   ],
   "source": [
    "# set all trial durations to 1000 ms\n",
    "for seq in sequences48:\n",
    "    for trial in seq:\n",
    "        trial['duration'] = 1000\n",
    "\n",
    "sequences48[0][0]"
   ]
  },
  {
   "cell_type": "code",
   "execution_count": 16,
   "metadata": {},
   "outputs": [],
   "source": [
    "# deepcopy of sequences - prevents alterations \n",
    "sequences48_1000ms = copy.deepcopy(sequences48)"
   ]
  },
  {
   "cell_type": "code",
   "execution_count": 17,
   "metadata": {},
   "outputs": [
    {
     "data": {
      "text/plain": [
       "(250, 1000)"
      ]
     },
     "execution_count": 17,
     "metadata": {},
     "output_type": "execute_result"
    }
   ],
   "source": [
    "sequences48_250ms[0][0]['duration'], sequences48_1000ms[0][0]['duration']"
   ]
  },
  {
   "cell_type": "code",
   "execution_count": 18,
   "metadata": {},
   "outputs": [],
   "source": [
    "dest_250ms = '/Users/prachimahableshwarkar/Documents/GW/Depth_MTurk/depth_duration_analysis/randls_sequences/250ms/'\n",
    "dest_1000ms = '/Users/prachimahableshwarkar/Documents/GW/Depth_MTurk//depth_duration_analysis/randls_sequences/1000ms/'"
   ]
  },
  {
   "cell_type": "code",
   "execution_count": 22,
   "metadata": {},
   "outputs": [],
   "source": [
    "# save sequences as jsons \n",
    "num = 0\n",
    "for seq in sequences48_250ms:\n",
    "    with open(dest_250ms + 'VE250_randls_' + str(num)+ '.json', 'w') as outfile:\n",
    "        json.dump(seq, outfile)\n",
    "        num += 1"
   ]
  },
  {
   "cell_type": "code",
   "execution_count": 23,
   "metadata": {},
   "outputs": [],
   "source": [
    "# save sequences as jsons \n",
    "num = 0\n",
    "for seq in sequences48_1000ms:\n",
    "    with open(dest_1000ms + 'VE1000_randls_' + str(num)+ '.json', 'w') as outfile:\n",
    "        json.dump(seq, outfile)\n",
    "        num += 1"
   ]
  },
  {
   "cell_type": "code",
   "execution_count": 24,
   "metadata": {},
   "outputs": [
    {
     "name": "stdout",
     "output_type": "stream",
     "text": [
      "False\n"
     ]
    }
   ],
   "source": [
    "# load json data \n",
    "# confirm that there are 192 unique trials in each sequence\n",
    "\n",
    "repeats = False \n",
    "for js in os.listdir(dest_250ms):\n",
    "    if '.json' in js:\n",
    "        j_path = dest_250ms + '/' + js\n",
    "        with open(j_path) as f:\n",
    "            sample_seq_data = json.load(f)\n",
    "            trial_num = []\n",
    "            for trial in sample_seq_data:\n",
    "                trial_num.append(trial['num'])\n",
    "\n",
    "            if len(set(trial_num)) != 192:\n",
    "                repeats = True\n",
    "print(repeats)"
   ]
  },
  {
   "cell_type": "code",
   "execution_count": null,
   "metadata": {},
   "outputs": [],
   "source": []
  },
  {
   "cell_type": "code",
   "execution_count": null,
   "metadata": {},
   "outputs": [],
   "source": []
  },
  {
   "cell_type": "code",
   "execution_count": null,
   "metadata": {},
   "outputs": [],
   "source": []
  }
 ],
 "metadata": {
  "kernelspec": {
   "display_name": "Python 3",
   "language": "python",
   "name": "python3"
  },
  "language_info": {
   "codemirror_mode": {
    "name": "ipython",
    "version": 3
   },
   "file_extension": ".py",
   "mimetype": "text/x-python",
   "name": "python",
   "nbconvert_exporter": "python",
   "pygments_lexer": "ipython3",
   "version": "3.6.1"
  }
 },
 "nbformat": 4,
 "nbformat_minor": 4
}
