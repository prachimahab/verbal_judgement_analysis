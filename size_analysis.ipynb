{
 "cells": [
  {
   "cell_type": "markdown",
   "metadata": {},
   "source": [
    "# Visible Target Size x Behavioral Data\n",
    "\n",
    "The original idea was to quantify the canonical size of objects in the SUN-RGBD database, however the large variation in occlusion complicates this goal. The complete, not perceived, real-world size of the objects is not known and cannot be derived within a good enough margin of error within this database. Instead, the distribution of objects under occlusion conditions can be ascertained. Specifically, objects can be rank ordered in the amount of visibility they have in the scene so we can understand how unlikely it is to see exemplars of an object at certain sizes. For every target object, we will derive a percentile score so we can find out how much bigger or smaller any particular target object is compared to the whole distirbution. Essentially, the visible size of each target object is calculated and regressed against the behavioral data."
   ]
  },
  {
   "cell_type": "code",
   "execution_count": 3,
   "metadata": {},
   "outputs": [],
   "source": [
    "import os \n",
    "import pandas as pd\n",
    "import numpy as np\n",
    "import math\n",
    "import matplotlib.pyplot as plt\n",
    "import scipy \n",
    "import scipy.stats as stats\n",
    "from string import ascii_letters\n",
    "import seaborn as sns\n",
    "import json \n",
    "from scipy.spatial.transform import Rotation as R"
   ]
  },
  {
   "cell_type": "code",
   "execution_count": 4,
   "metadata": {},
   "outputs": [],
   "source": [
    "pdir = '/Users/prachimahableshwarkar/Documents/GW/Depth_MTurk/depth_duration_analysis/TAC_data/'\n",
    "\n",
    "TAC_250 = pd.read_csv(pdir + 'raw_250_data.csv')\n",
    "TAC_500 = pd.read_csv(pdir + 'raw_500_data.csv')\n",
    "TAC_750 = pd.read_csv(pdir + 'raw_750_data.csv')\n",
    "TAC_1000 = pd.read_csv(pdir + 'raw_1000_data.csv')"
   ]
  },
  {
   "cell_type": "code",
   "execution_count": 5,
   "metadata": {
    "jupyter": {
     "source_hidden": true
    }
   },
   "outputs": [],
   "source": [
    "def trial_pivotTable(data):\n",
    "    \"\"\"\n",
    "    Generate pivot tables from data after cleaning and outlier removal \n",
    "    Organizes data such that for each individual target (stimulus) the following is calulated:\n",
    "    - average depth estimation\n",
    "    - standard deviation\n",
    "    - standard error \n",
    "    - trial RT \n",
    "    \"\"\"\n",
    "    \n",
    "    avg_tables = []\n",
    "    std_tables = []\n",
    "    result_tables = []\n",
    "    cond = 0\n",
    "    ###### CREATE DF WITH DATA STATISTICS AFTER OUTLIER REMOVAL ######\n",
    "    for duration in data: #generate pivot tables for data statistics (avg, std, sem)\n",
    "        actual = pd.pivot_table(duration,  values = [\"actual_depth\"], columns=['stimulus'], aggfunc=np.mean)\n",
    "        actual.reset_index()\n",
    "        actual_renamed = actual.rename(index={'actual_depth': 'Actual Depth'})\n",
    "        \n",
    "        avg = pd.pivot_table(duration,  values = [\"depth_estimate\"], columns=['stimulus'], aggfunc=np.mean)\n",
    "        avg.reset_index()\n",
    "        avg_renamed = avg.rename(index={'depth_estimate': 'Average Estimated Depth'})\n",
    "        \n",
    "        std = pd.pivot_table(duration, values = [\"depth_estimate\"], columns = [\"stimulus\"], aggfunc = np.std)\n",
    "        #note - std is normalized byN-1 by default (ddof parameter = 1 by default)\n",
    "        std.reset_index()\n",
    "        std_renamed = std.rename(index={'depth_estimate': 'Standard Deviation'})\n",
    "        \n",
    "        sem = pd.pivot_table(duration, values = [\"depth_estimate\"], columns = [\"stimulus\"], aggfunc = 'sem')\n",
    "        sem.reset_index()\n",
    "        sem_renamed = sem.rename(index={'depth_estimate': 'Standard Error'})\n",
    "        \n",
    "        trial_RT = pd.pivot_table(duration, values = [\"trial_RT\"], columns = [\"stimulus\"], aggfunc = np.mean)\n",
    "        trial_RT.reset_index()\n",
    "        trial_RT_renamed = trial_RT.rename(index={'trial_RT': 'Average Trial RT'})\n",
    "        \n",
    "        frames = [avg_renamed, std_renamed, sem_renamed, trial_RT_renamed, actual_renamed] #list of pivot tables for a given duration\n",
    "        result = pd.concat(frames) #merge the pivot tables for a given duration \n",
    "        result = result.T #transpose \n",
    "        result = result.sort_values(by=['Actual Depth'])\n",
    "\n",
    "        #Label the data by duration based on condition counter (cond)\n",
    "        if cond == 0:\n",
    "            result[\"Duration\"] = 250\n",
    "        if cond == 1:\n",
    "            result[\"Duration\"] = 500\n",
    "        if cond == 2:\n",
    "            result[\"Duration\"] = 750\n",
    "        if cond == 3:\n",
    "            result[\"Duration\"] = 1000\n",
    "        \n",
    "        avg_tables.append(avg_renamed) #created for reference (not used in code)\n",
    "        std_tables.append(std_renamed) #created for reference (not used in code)\n",
    "        result_tables.append(result) #list of results for all durations \n",
    "        cond += 1 \n",
    "        \n",
    "    \n",
    "    return result_tables"
   ]
  },
  {
   "cell_type": "code",
   "execution_count": 6,
   "metadata": {},
   "outputs": [],
   "source": [
    "TAC_raw_trial_pivot = trial_pivotTable([TAC_250, TAC_500, TAC_750, TAC_1000])\n"
   ]
  },
  {
   "cell_type": "code",
   "execution_count": 7,
   "metadata": {
    "jupyter": {
     "source_hidden": true
    }
   },
   "outputs": [],
   "source": [
    "def trial_getxy(data):\n",
    "    \"\"\"\n",
    "    Extracts the data from the dataframes to a list format for plotting. \n",
    "    Args:\n",
    "        df = [250, 500, 750, 1000]\n",
    "        These data frames are POST all outlier cleaning. \n",
    "        \n",
    "    Returns:\n",
    "        actualdepths = [x_250, x_500, x_750, x_1000]\n",
    "        xs = [list of individual targets]\n",
    "        ys = [y_250, y_500, y_750, y_100]\n",
    "        stes = [ste_250, ste_500, ste_750, ste_1000]\n",
    "        \n",
    "    \"\"\"\n",
    "    xs = []\n",
    "    ys = []\n",
    "    stes = []\n",
    "    stds = []\n",
    "    actualdepths = []\n",
    "    RTs = []\n",
    "    for table in data:\n",
    "        x = []\n",
    "        y = []\n",
    "        ste = []\n",
    "        std = []\n",
    "        depths = []\n",
    "        rts = []\n",
    "        for idx, row in table.iterrows():\n",
    "            \n",
    "            x.append(idx) #idx is the target (stimulus path)\n",
    "            \n",
    "            estim_avg = row[\"Average Estimated Depth\"]\n",
    "            y.append(estim_avg)\n",
    "            \n",
    "            standard_error = row[\"Standard Error\"]\n",
    "            ste.append(standard_error)\n",
    "            \n",
    "            depth = row[\"Actual Depth\"]\n",
    "            depths.append(depth)\n",
    "            \n",
    "            standard_deviation = row[\"Standard Deviation\"]\n",
    "            std.append(standard_deviation)  \n",
    "            \n",
    "            trial_RT = row['Average Trial RT']\n",
    "            rts.append(trial_RT)\n",
    "            \n",
    "        xs.append(x)\n",
    "        ys.append(y)\n",
    "        stes.append(ste)\n",
    "        actualdepths.append(depths)\n",
    "        stds.append(std)\n",
    "        RTs.append(rts)\n",
    "\n",
    "    return xs, ys, stes, actualdepths, stds, RTs\n"
   ]
  },
  {
   "cell_type": "code",
   "execution_count": 8,
   "metadata": {},
   "outputs": [],
   "source": [
    "TAC_trial_raw_final = trial_getxy(TAC_raw_trial_pivot)\n",
    "\n"
   ]
  },
  {
   "cell_type": "code",
   "execution_count": 11,
   "metadata": {},
   "outputs": [],
   "source": [
    "TAC_trial_plot_data = TAC_trial_raw_final\n",
    "\n",
    "## Execute this cell to prep for plotting\n",
    "TAC_final_x_250 = TAC_trial_plot_data[0][0]\n",
    "TAC_final_y_250 = TAC_trial_plot_data[1][0]\n",
    "TAC_ste_250 = TAC_trial_plot_data[2][0]\n",
    "TAC_stim_250 = TAC_trial_plot_data[3][0]\n",
    "TAC_std_250 = TAC_trial_plot_data[4][0]\n",
    "TAC_RT_250 = TAC_trial_plot_data[5][0]\n",
    "TAC_stimfolder_250 = [elem.split('/')[1][:-2] for elem in TAC_final_x_250]\n",
    "\n",
    "\n",
    "TAC_final_x_500 = TAC_trial_plot_data[0][1]\n",
    "TAC_final_y_500 = TAC_trial_plot_data[1][1]\n",
    "TAC_ste_500 = TAC_trial_plot_data[2][1]\n",
    "TAC_stim_500 = TAC_trial_plot_data[3][1]\n",
    "TAC_std_500 = TAC_trial_plot_data[4][1]\n",
    "TAC_RT_500 = TAC_trial_plot_data[5][1]\n",
    "TAC_stimfolder_500 = [elem.split('/')[1][:-2] for elem in TAC_final_x_500]\n",
    "\n",
    "\n",
    "\n",
    "TAC_final_x_750 = TAC_trial_plot_data[0][2]\n",
    "TAC_final_y_750 = TAC_trial_plot_data[1][2]\n",
    "TAC_ste_750 = TAC_trial_plot_data[2][2]\n",
    "TAC_stim_750 = TAC_trial_plot_data[3][2]\n",
    "TAC_std_750 = TAC_trial_plot_data[4][2]\n",
    "TAC_RT_750 = TAC_trial_plot_data[5][2]\n",
    "TAC_stimfolder_750 = [elem.split('/')[1][:-2] for elem in TAC_final_x_750]\n",
    "\n",
    "\n",
    "TAC_final_x_1000 = TAC_trial_plot_data[0][3]\n",
    "TAC_final_y_1000 = TAC_trial_plot_data[1][3]\n",
    "TAC_ste_1000 = TAC_trial_plot_data[2][3]\n",
    "TAC_stim_1000 = TAC_trial_plot_data[3][3]\n",
    "TAC_std_1000 = TAC_trial_plot_data[4][3]\n",
    "TAC_RT_1000 = TAC_trial_plot_data[5][3]\n",
    "TAC_stimfolder_1000 = [elem.split('/')[1][:-2] for elem in TAC_final_x_1000]"
   ]
  },
  {
   "cell_type": "code",
   "execution_count": 13,
   "metadata": {},
   "outputs": [],
   "source": [
    "_dir = '/Users/prachimahableshwarkar/Documents/GW/Depth_MTurk/depth_duration_analysis'\n",
    "\n",
    "residuals_250 = np.load(_dir + '/TAC_npy_files/TAC_raw_individual_trial_residuals/residuals_250.npy')\n",
    "residuals_500 = np.load(_dir + '/TAC_npy_files/TAC_raw_individual_trial_residuals/residuals_500.npy')\n",
    "residuals_750 = np.load(_dir + '/TAC_npy_files/TAC_raw_individual_trial_residuals/residuals_750.npy')\n",
    "residuals_1000 = np.load(_dir + '/TAC_npy_files/TAC_raw_individual_trial_residuals/residuals_1000.npy')\n",
    "\n",
    "\n"
   ]
  },
  {
   "cell_type": "markdown",
   "metadata": {},
   "source": [
    "### Get visible size of target objects\n",
    "\n",
    "Notes:\n",
    "- percentile score for the objects (what percent of the distribution is the object bigger than?) \n",
    "- compare against the residuals \n",
    "- above 50 is larger than avg size \n",
    "- x axis: could subtract 50 from it - bigger or smaller than the average thing "
   ]
  },
  {
   "cell_type": "code",
   "execution_count": 107,
   "metadata": {},
   "outputs": [],
   "source": [
    "updated_dirs_path = '/Users/prachimahableshwarkar/Documents/GW/SUNRGBD/updated/kinect2data_192'\n",
    "stimuli_path = '/Users/prachimahableshwarkar/Documents/GW/Depth_MTurk/depth_duration_stimuli'"
   ]
  },
  {
   "cell_type": "code",
   "execution_count": 108,
   "metadata": {},
   "outputs": [],
   "source": [
    "c = 0\n",
    "targetSize_dict = {}\n",
    "for stim_folder in os.listdir(stimuli_path):\n",
    "    if stim_folder != '.DS_Store':\n",
    "        data_path = stimuli_path + '/' + stim_folder + '/data.json'\n",
    "        data = json.load(open(data_path))\n",
    "        name_dbID = data['objects'][0]['name'] + '_' + str(data['objects'][0]['dbID'])\n",
    "                \n",
    "        annotation2dfinal_path = stim_folder[:-2] + '/annotation2Dfinal'\n",
    "        for file in os.listdir(updated_dirs_path + '/' + annotation2dfinal_path):\n",
    "            if 'objSA' in file:\n",
    "                SA_dict = json.load(open(updated_dirs_path + '/' + annotation2dfinal_path + '/' + file))\n",
    "                try:\n",
    "                    targetSize_dict[stim_folder[:-2]] = SA_dict[name_dbID]\n",
    "                except:\n",
    "                    pass\n",
    "                try:\n",
    "                    targetSize_dict[stim_folder[:-2]] = SA_dict[name_dbID.capitalize()]\n",
    "                except:\n",
    "                    pass\n",
    "                "
   ]
  },
  {
   "cell_type": "code",
   "execution_count": 116,
   "metadata": {
    "collapsed": true,
    "jupyter": {
     "outputs_hidden": true
    }
   },
   "outputs": [
    {
     "name": "stdout",
     "output_type": "stream",
     "text": [
      "001417_2014-06-19_16-25-36_260595134347_rgbf000115-resize_5\n",
      "000009_2014-05-26_14-32-05_260595134347_rgbf000034-resize_3\n",
      "002570_2014-06-24_13-59-54_094959634447_rgbf000059-resize_0\n",
      "002988_2014-06-15_12-24-20_094959634447_rgbf000150-resize_1\n",
      "002949_2014-06-26_15-57-42_094959634447_rgbf000079-resize_1\n",
      "{'Floor_25': 0.18848524112463327, 'Chair_1': 2.224668593786486, 'Chair_4': 1.9447849196756508, 'LoungeChair_6': 2.29496601274176, 'Cabinet_9': 4.0047799362955825, 'Table_10': 2.687083121195838, 'Door_13': 1.4506398807964855, 'Door_14': 3.9672600580077515, 'Wall_15': 4.659717240088337, 'Chair_20': 0.3044615637501351, 'Chair_21': 2.8984116587976736, 'Chair_22': 0.6780701235714641, 'Counter_23': 6.304750368337151, 'WritingBoard_32': 4.850115266007511, 'Chair_35': 0.6765010626574086, 'wall_37': 4.033867076340599, 'door_38': 1.0109370832533509, 'puzzle_39': 0.0725155486354277, 'sofa_40': 7.1766318589602545, 'picure_42': 0.0022340781355810226, 'picture_49': 0.00015413118873577777, 'picture_50': 0.000544083075498132, 'LoungeChairs_8': 11.987183943781053, 'Table_2': 5.655082103505952, 'cauldron_41': 0.09968189124482353, 'Chair_5': 1.3525902374403909, 'Books_17': 0.4548006927787935}\n",
      "001188_2014-06-17_15-54-10_260595134347_rgbf000090-resize_2\n",
      "002875_2014-06-01_15-19-00_094959634447_rgbf000151-resize_1\n",
      "001724_2014-06-26_19-28-50_260595134347_rgbf000037-resize_7\n",
      "002678_2014-06-13_16-15-32_094959634447_rgbf000151-resize_6\n",
      "{'Floor_18': 0.041561976200977596, 'Door_2': 4.021736784539856, 'Desk_4': 6.81227005872922, 'Monitor_6': 0.3168984146723788, 'Whiteboard_9': 0.41405668630999437, 'Window_11': 0.9280984245819767, 'CubicleWall_12': 1.9048163203091497, 'ComputerTower_13': 0.141353870675509, 'TrashCan_14': 0.9456463402126482, 'Wall_15': 0.12034685251029568, 'Drain_16': 0.21215662619900497, 'NamePlate_17': 0.05353244426760475, 'Poster_19': 1.3970008933627434, 'Picture_3': 0.7606726371899916, 'Chair_20': 5.841270012181123, 'Keyboard_7': 0.03899240980945449, 'Papers_8': 0.14099171231802432}\n",
      "003492_2014-05-21_15-50-55_094959634447_rgbf000828-resize_1\n",
      "000943_2014-06-09_19-31-07_260595134347_rgbf000128-resize_1\n",
      "002953_2014-06-08_17-32-18_094959634447_rgbf000059-resize_5\n",
      "000720_2014-06-08_18-37-27_260595134347_rgbf000203-resize_4\n",
      "001066_2014-06-08_22-03-20_260595134347_rgbf000066-resize_4\n",
      "003338_2014-05-20_11-01-23_094959634447_rgbf000051-resize_6\n",
      "002579_2014-06-24_14-08-03_094959634447_rgbf000061-resize_2\n",
      "000749_2014-06-08_21-55-06_260595134347_rgbf000070-resize_2\n",
      "000692_2014-06-08_13-09-42_260595134347_rgbf000199-resize_2\n",
      "002464_2014-06-28_20-36-57_260595134347_rgbf000029-resize_0\n",
      "{'Wall_2': 2.344138320276774, 'Floor_22': 9.829136763007222, 'Wall_3': 24.312951604049076, 'CardboardBox_0': 2.073608718976067, 'PowerStrip_1': 0.06415701435501756, 'Window_4': 8.629663432299312, 'CardboardBox_5': 0.3321761277351593, 'ComputerParts_10': 1.7662811864057204, 'ShoulderBag_18': 0.7423605719310598, 'CardboardBox_19': 0.8916668652688633, 'Paper_20': 0.1598113899272032, 'Speaker_24': 0.0982761299793065, 'Desk_29': 6.031694435147452, 'Desk_30': 0.8542045565121172, 'Shelf_32': 3.9531620774457816, 'TupperwareContainer_34': 0.3087625266864639, 'Sign_31': 0.4661371122864491, 'Cables_33': 0.049359843520562066, 'Screwdriver_26': 0.007258245849526616, 'Box_15': 0.49099869962685977, 'ComputerMonitor_6': 1.238255359169067, 'ShoulderBag_7': 0.6436161248767931, 'Bag_11': 0.04166617353787452, 'Box_14': 0.015322510451205308, 'Box_13': 0.01548333811204104, 'Box_12': 0.17780355724877514, 'Papers_17': 0.05372582675595216, 'Box_9': 0.1945150105027457, 'Box_8': 0.07171266982804791}\n",
      "{'WALL_22': 32.14077094553936, 'FLOOR_23': 10.364300739409483, 'CHAIR_2': 1.9353985770922104, 'CHAIR_4': 3.819926373194075, 'CHAIR_5': 2.0906392292676683, 'CHAIR_6': 2.013763902833029, 'CHAIR_7': 1.2729611877849007, 'CHAIR_8': 0.6419955390474326, 'CHAIR_9': 1.5704882642050506, 'CHAIR_10': 0.35060964993763505, 'CHAIR_11': 0.3796224631436335, 'CHAIR_12': 0.6357225518713454, 'CHAIR_13': 0.33143227614622217, 'CHAIR_14': 1.2972514395634247, 'CHAIR_15': 0.5569850015910437, 'CHAIR_17': 0.5052476191752432, 'CHAIR_18': 0.13176474169094055, 'DUSTBIN_19': 2.9166761318577037, 'CHAIR_20': 2.275915739326561, 'CHAIR_21': 2.484321418847776}\n",
      "003292_2014-05-14_21-53-49_094959634447_rgbf000100-resize_2\n",
      "{'FLOOR_11': 0.5735078031234132, 'wall_4': 2.5660567788638216, 'dresser_0': 2.970909540186, 'wall_2': 0.5885417895811746, 'lamp_3': 0.17013264250377483, 'lamp_5': 0.3767781790505132, 'lamp_6': 0.4805678338780553, 'lamp_7': 0.46601542637094556, 'dresser_8': 5.452269124269769, 'floor_9': 3.515962156635847, 'Bedframe_10': 2.8663500747386794, 'BED_12': 5.179847913258357, 'HEADBOARD_13': 3.6429522382476565, 'PILLOW_14': 0.6175175683897212, 'PILLOW_15': 0.5972861094932544, 'wall_16': 1.1767190980602227, 'wall_17': 0.320977103527631, 'sculpture_18': 0.2750022722381097, 'dresser_19': 1.1288867947307961, 'bed_22': 2.646603430306522, 'dresser_23': 4.071622181651984, 'Lmap_24': 1.815463767527437, 'tag_25': 0.06446412544373081}\n",
      "002657_2014-06-13_15-29-54_094959634447_rgbf000150-resize_1\n",
      "003129_2014-05-12_10-48-10_094959634447_rgbf000100-resize_0\n",
      "000103_2014-05-14_22-01-17_260595134347_rgbf000152-resize_5\n",
      "000470_2014-06-09_19-42-40_260595134347_rgbf000094-resize_1\n",
      "002344_2014-06-28_20-06-29_260595134347_rgbf000030-resize_1\n",
      "000486_2014-06-09_20-47-20_260595134347_rgbf000143-resize_2\n",
      "002039_2014-06-24_20-22-38_260595134347_rgbf000084-resize_1\n",
      "001450_2014-06-19_17-02-03_260595134347_rgbf000203-resize_4\n",
      "002788_2014-06-22_19-36-03_094959634447_rgbf000088-resize_2\n",
      "002660_2014-06-13_15-44-18_094959634447_rgbf001878-resize_2\n",
      "{'table_5': 0.6244987669709301, 'CLASSROOM_20': 79.60339747198284, 'chair_6': 0.07531738069017364, 'board_8': 5.314823565272294, 'garbagecan_9': 0.9054970281017, 'door_13': 4.63968557585221, 'handle_14': 0.026463281051449104, 'baseboard_16': 0.29823114919998295, 'wall_17': 19.418066785249106, 'floor_18': 0.6848027788245116, 'outlet_7': 0.007501379093963572, 'OUTLET_19': 0.03499166042762127, 'window_15': 0.2636032280070873, 'lightswitch_11': 0.008832001242839487, 'sign_10': 0.023013021020607066}\n",
      "001059_2014-06-08_21-53-27_260595134347_rgbf000061-resize_4\n",
      "{'WALL_15': 6.687945570984695, 'carpet_24': 0.07150066620319316, 'chalkboard_2': 2.6382249558885924, 'outlet_9': 0.01204218303278929, 'chalkboardboarder_14': 1.2234543612224948, 'DOOR_16': 5.05519764495481, 'FLOOR_18': 9.190105237275272, 'CABINET_20': 6.498204854656304, 'DOORWINDOW_21': 0.3046182077756531, 'ELECTRICALCORD_22': 0.0034221524263097817, 'OUTLET_23': 0.015880142753044568, 'chair_1': 0.3237589279488438, 'DESK_19': 6.5229313471514265}\n",
      "000682_2014-06-08_23-14-58_260595134347_rgbf000041-resize_5\n",
      "002305_2014-06-28_19-56-50_260595134347_rgbf000102-resize_7\n",
      "001447_2014-06-19_17-00-32_260595134347_rgbf000082-resize_5\n",
      "001810_2014-06-26_20-51-35_260595134347_rgbf000040-resize_3\n",
      "002460_2014-06-28_20-35-43_260595134347_rgbf000028-resize_4\n",
      "001199_2014-06-17_16-03-48_260595134347_rgbf000077-resize_0\n",
      "002445_2014-06-28_20-32-16_260595134347_rgbf000029-resize_4\n",
      "{'floor_20': 26.184479076516844, 'Chair_2': 2.0806905763424135, 'PaperCup_4': 0.16995152207690142, 'Cup_5': 0.05562596382948315, 'WhiteBoard_6': 8.259251527950848, 'Wall_12': 4.869145989281276, 'Floordecormark_13': 0.18199870409936658, 'ExecutiveChair_14': 1.016566818041231, 'window_15': 1.7150772021323692, 'eraser_17': 0.015779623870064027, 'eraser_18': 0.006989696913919115, 'DiscussionTable_7': 12.025358094978369, 'Chairf_0': 0.9317750691963441, 'Chair_1': 1.67868906721288}\n",
      "002467_2014-06-28_20-38-07_260595134347_rgbf000026-resize_2\n",
      "001555_2014-06-20_17-12-10_260595134347_rgbf000065-resize_4\n",
      "001011_2014-06-08_23-18-54_260595134347_rgbf000044-resize_4\n",
      "002509_2014-06-24_13-19-22_094959634447_rgbf000077-resize_0\n",
      "003092_2014-06-24_21-01-49_094959634447_rgbf000049-resize_2\n",
      "000739_2014-06-08_18-45-58_260595134347_rgbf000068-resize_1\n",
      "001175_2014-06-17_15-45-55_260595134347_rgbf000129-resize_4\n",
      "002375_2014-06-28_20-13-44_260595134347_rgbf000032-resize_1\n",
      "002279_2014-06-28_18-55-32_260595134347_rgbf000040-resize_5\n",
      "002748_2014-06-22_19-07-22_094959634447_rgbf000078-resize_1\n",
      "002468_2014-06-28_20-38-39_260595134347_rgbf000045-resize_1\n",
      "{'Floor_8': 14.848505960384745, 'Cupboard_5': 2.1461784366040053, 'Cupboard_4': 2.9762030075417667, 'Shelf_10': 1.7720915704935714, 'Chair_2': 2.787367760798634, 'Umbrella_3': 0.10878428595719528, 'Cupboard_6': 0.3484183676521465, 'BrickWall_7': 10.220628084642218, 'Shelf_9': 1.1571029206520855, 'Chair_1': 1.6578914515095604, 'Table_0': 3.0627411876213246}\n",
      "000734_2014-06-08_17-39-11_260595134347_rgbf000128-resize_2\n",
      "{'SectionalWall_0': 2.7709471301933752, 'Wall_22': 4.964086222055182, 'Floor_23': 16.58369073409705, 'Wall_21': 20.44698025772455, 'Refrigerator_4': 1.9165434623778679, 'FireAlarm_5': 0.0211719662042292, 'FilingCabinet_6': 5.570090033300133, 'FilingCabinet_7': 6.542139225500848, 'GarbageCan_8': 0.5464196774646449, 'FilingBinder_9': 0.25013721765054675, 'FilingBinder_10': 0.1930926346675103, 'FilingBinder_11': 0.13035083934576297, 'FilingBinder_12': 0.17988492499089276, 'FilingBinder_13': 0.2528301070015266, 'FilingBinder_14': 0.5009683172849276, 'FilingCabinet_16': 1.5688864723464304, 'Door_18': 5.435185511710767, 'Window_19': 0.00966960883738673, 'LightSwitch_24': 0.02512695987929326, 'Radio_15': 0.8726314240813988, 'Chair_17': 1.5553422069288965, 'Chair_25': 1.5702085329445026, 'Window_1': 1.3137412425018968}\n",
      "{'Desk_1': 6.264404371871271, 'Chair_0': 2.5120928229374173, 'Desk_3': 5.203602590491334, 'TrashCan_4': 0.19517971287011263, 'Radiator_6': 4.4449365294948455, 'TrashCan_12': 0.7418495284291381, 'Desk_13': 4.878268269970725, 'DividingWall_14': 0.38234181148481067, 'wall_15': 2.148183067870567, 'curtain_16': 2.9024399805895778, 'window_17': 6.523086157255007, 'curtain_18': 2.1496576839547235, 'floor_19': 11.00753646368879, 'desk_20': 0.005129354203651777}\n",
      "{'BACKSPLASH_11': 0.026286103098098194, 'COUNTER_1': 6.70707790440498, 'tiledisplay_0': 0.6961937580546317, 'CABINET_2': 1.4286376446420184, 'CABINETDRAWER_3': 1.180251674680251, 'CABINETDOOR_4': 2.104365853324517, 'FLOOR_6': 4.394295684958746, 'OVEN_7': 1.1511298067998568, 'SIGN_8': 0.6782714910639293, 'UPPERCABINET_10': 1.5764838840691664, 'TILE_12': 0.48704260023292195, 'SIGN_13': 0.26482113461193496, 'PLANT_16': 0.1635650702992245, 'SHELF_17': 0.11424521007882064, 'RANGEHOOD_18': 1.9822955466059415, 'SINK_20': 0.2747273273308113, 'FAUCET_21': 0.043539790208180135, 'STOVE_19': 0.9506383739142564}\n",
      "001264_2014-06-16_16-10-23_260595134347_rgbf000109-resize_1\n",
      "{'Floor_9': 20.674629812317697, 'Window_7': 38.48226354226728, 'WALL_8': 33.38147108959663, 'whiteboard_0': 8.97549837459328, 'Chair_1': 4.274859502053716, 'Chair_2': 0.03481232930008193, 'Chair_3': 6.563967699544531, 'table_4': 0.13100359580574303, 'Statue_5': 4.598956344680554, 'Plant_6': 7.291901975275487, 'Pieceofpaper_10': 0.045749953244218974}\n",
      "001571_2014-06-20_17-21-32_260595134347_rgbf000089-resize_1\n"
     ]
    },
    {
     "data": {
      "text/plain": [
       "65"
      ]
     },
     "execution_count": 116,
     "metadata": {},
     "output_type": "execute_result"
    }
   ],
   "source": [
    "# Folders that do not have an SA dictionary \n",
    "missing_data = []\n",
    "\n",
    "for stim_folder in os.listdir(stimuli_path):\n",
    "    if stim_folder[:-2] not in list(targetSize_dict.keys()):\n",
    "        if 'resize' in stim_folder:\n",
    "            missing_data.append(stim_folder[:-2])\n",
    "            annotation2dfinal_path = stim_folder[:-2] + '/annotation2Dfinal'\n",
    "            filecount = 0\n",
    "            for file in os.listdir(updated_dirs_path + '/' + annotation2dfinal_path):\n",
    "                filecount += 1\n",
    "                if 'objSA' in file:\n",
    "                    SA_dict = json.load(open(updated_dirs_path + '/' + annotation2dfinal_path + '/' + file))\n",
    "                    print(SA_dict)\n",
    "            if filecount != 4:\n",
    "                print(stim_folder)\n",
    "\n",
    "len(missing_data)"
   ]
  },
  {
   "cell_type": "code",
   "execution_count": 117,
   "metadata": {},
   "outputs": [
    {
     "data": {
      "text/plain": [
       "(192, 65)"
      ]
     },
     "execution_count": 117,
     "metadata": {},
     "output_type": "execute_result"
    }
   ],
   "source": [
    "# extract target size in the same stimulus order as the TAC data\n",
    "\n",
    "c = 0\n",
    "target_size = []\n",
    "for folder in TAC_stimfolder_250:\n",
    "    try:\n",
    "        size = targetSize_dict[folder]\n",
    "        target_size.append(size)\n",
    "    except:\n",
    "        c += 1\n",
    "        target_size.append(None)\n",
    "\n",
    "len(target_size), c"
   ]
  },
  {
   "cell_type": "code",
   "execution_count": 129,
   "metadata": {},
   "outputs": [],
   "source": [
    "# exclude values that have None and exclude the corresponding TAC data \n",
    "\n",
    "final_target_size = []\n",
    "\n",
    "_filtered_stim = []\n",
    "_filtered_actualdepth = []\n",
    "_filtered_y_250 = []\n",
    "_filtered_y_500 = []\n",
    "_filtered_y_750 = []\n",
    "_filtered_y_1000 = []\n",
    "\n",
    "_filtered_resid_250 = []\n",
    "_filtered_resid_500 = []\n",
    "_filtered_resid_750 = []\n",
    "_filtered_resid_1000 = []\n",
    "\n",
    "for i in range(len(target_size)):\n",
    "    if target_size[i] != None:\n",
    "        if target_size[i] < 30:\n",
    "            final_target_size.append(target_size[i])\n",
    "\n",
    "            _filtered_stim.append(TAC_final_x_250[i])\n",
    "            _filtered_actualdepth.append(TAC_stim_250[i])\n",
    "            _filtered_y_250.append(TAC_final_y_250[i])\n",
    "            _filtered_y_500.append(TAC_final_y_500[i])\n",
    "            _filtered_y_750.append(TAC_final_y_750[i])\n",
    "            _filtered_y_1000.append(TAC_final_y_1000[i])\n",
    "\n",
    "            _filtered_resid_250.append(residuals_250[i])\n",
    "            _filtered_resid_500.append(residuals_500[i])\n",
    "            _filtered_resid_750.append(residuals_750[i])\n",
    "            _filtered_resid_1000.append(residuals_1000[i])\n",
    "        "
   ]
  },
  {
   "cell_type": "code",
   "execution_count": 130,
   "metadata": {},
   "outputs": [
    {
     "data": {
      "image/png": "[encoded data removed]",
      "text/plain": [
       "<Figure size 720x576 with 1 Axes>"
      ]
     },
     "metadata": {
      "needs_background": "light"
     },
     "output_type": "display_data"
    },
    {
     "name": "stdout",
     "output_type": "stream",
     "text": [
      "(-0.0789119528619047, 0.38365237787936396)\n",
      "(0.04087604888119237, 0.6521661404387442)\n",
      "(-0.05832478433779343, 0.5199336517808433)\n",
      "(0.025134194395433927, 0.7817096535563547)\n"
     ]
    }
   ],
   "source": [
    "plt.figure(figsize=[10,8])\n",
    "plt.plot(np.array(final_target_size), np.array(_filtered_resid_250), 'o', label='250 ms')\n",
    "plt.plot(np.array(final_target_size), np.array(_filtered_resid_500), 'o', label='500 ms')\n",
    "plt.plot(np.array(final_target_size), np.array(_filtered_resid_750), 'o', label='750 ms')\n",
    "plt.plot(np.array(final_target_size), np.array(_filtered_resid_1000), 'o', label='1000 ms')\n",
    "\n",
    "plt.xlabel('Target Visible Size', fontsize=15)\n",
    "plt.ylabel('Average Depth Estimates Residual', fontsize=15)\n",
    "plt.legend()\n",
    "plt.title('Target Visible Size', fontsize=17)\n",
    "plt.show();\n",
    "\n",
    "print(stats.pearsonr(final_target_size, _filtered_resid_250))\n",
    "print(stats.pearsonr(final_target_size, _filtered_resid_500))\n",
    "print(stats.pearsonr(final_target_size, _filtered_resid_750))\n",
    "print(stats.pearsonr(final_target_size, _filtered_resid_1000))"
   ]
  },
  {
   "cell_type": "code",
   "execution_count": 124,
   "metadata": {},
   "outputs": [
    {
     "data": {
      "image/png": "[encoded data removed]",
      "text/plain": [
       "<Figure size 720x576 with 1 Axes>"
      ]
     },
     "metadata": {
      "needs_background": "light"
     },
     "output_type": "display_data"
    },
    {
     "name": "stdout",
     "output_type": "stream",
     "text": [
      "(0.1444845270672806, 0.10508744423944143)\n"
     ]
    }
   ],
   "source": [
    "plt.figure(figsize=[10,8])\n",
    "plt.plot(np.array(final_target_size), np.array(_filtered_actualdepth), 'o', label='250 ms')\n",
    "\n",
    "\n",
    "plt.xlabel('Target Visible Size', fontsize=15)\n",
    "plt.ylabel('Actual Depth', fontsize=15)\n",
    "plt.legend()\n",
    "plt.title('Target Visible Size x Actual Depth', fontsize=17)\n",
    "plt.show();\n",
    "\n",
    "print(stats.pearsonr(final_target_size, _filtered_actualdepth))\n"
   ]
  },
  {
   "cell_type": "code",
   "execution_count": null,
   "metadata": {},
   "outputs": [],
   "source": []
  }
 ],
 "metadata": {
  "kernelspec": {
   "display_name": "Python 3",
   "language": "python",
   "name": "python3"
  },
  "language_info": {
   "codemirror_mode": {
    "name": "ipython",
    "version": 3
   },
   "file_extension": ".py",
   "mimetype": "text/x-python",
   "name": "python",
   "nbconvert_exporter": "python",
   "pygments_lexer": "ipython3",
   "version": "3.7.5"
  }
 },
 "nbformat": 4,
 "nbformat_minor": 4
}
