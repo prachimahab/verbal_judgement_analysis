{
 "cells": [
  {
   "cell_type": "markdown",
   "metadata": {},
   "source": [
    "# Does VE Performance differ by Scene Category?"
   ]
  },
  {
   "cell_type": "code",
   "execution_count": 8,
   "metadata": {},
   "outputs": [],
   "source": [
    "import os\n",
    "import numpy as np\n",
    "import pandas as pd\n",
    "import scipy"
   ]
  },
  {
   "cell_type": "code",
   "execution_count": 9,
   "metadata": {},
   "outputs": [],
   "source": [
    "path = '/Users/prachimahableshwarkar/Documents/GW/Depth_MTurk/SUN_scene_cue_coding/Cleaned Scene Category Labels'"
   ]
  },
  {
   "cell_type": "code",
   "execution_count": 14,
   "metadata": {},
   "outputs": [
    {
     "data": {
      "text/plain": [
       "['002509_2014-06-24_13-19-22_094959634447_rgbf000077-resize',\n",
       " '003621_2014-05-23_18-06-08_094959634447_rgbf000101-resize',\n",
       " '003423_2014-05-21_10-23-26_094959634447_rgbf002665-resize',\n",
       " '002639_2014-06-24_14-51-37_094959634447_rgbf000074-resize',\n",
       " '003338_2014-05-20_11-01-23_094959634447_rgbf000051-resize',\n",
       " '003129_2014-05-12_10-48-10_094959634447_rgbf000100-resize',\n",
       " '003534_2014-05-22_15-06-10_094959634447_rgbf000102-resize',\n",
       " '003587_2014-05-23_16-48-02_094959634447_rgbf002384-resize',\n",
       " '000457_2014-06-08_16-52-43_260595134347_rgbf000199-resize']"
      ]
     },
     "execution_count": 14,
     "metadata": {},
     "output_type": "execute_result"
    }
   ],
   "source": [
    "RA_sceneDistribution = {}\n",
    "RA_scenePaths = {}\n",
    "\n",
    "for file in os.listdir(path):  \n",
    "    if 'ipynb' not in file:\n",
    "        with open(path + '/' + file) as f:\n",
    "            lines = f.readlines()[0]\n",
    "            if lines in RA_sceneDistribution.keys():\n",
    "                RA_sceneDistribution[lines] += 1\n",
    "                RA_scenePaths[lines].append(file[:-10])\n",
    "            else:\n",
    "                RA_sceneDistribution[lines] = 1\n",
    "                RA_scenePaths[lines] = [file[:-10]]\n",
    "            \n",
    "RA_scenePaths['lecture_room']"
   ]
  },
  {
   "cell_type": "code",
   "execution_count": 55,
   "metadata": {},
   "outputs": [],
   "source": [
    "# TAC_raw_individual_trial_data_path = '/Users/prachi/Documents/depth_duration/depth_duration_analysis/TAC_npy_files/TAC_raw_individual_trial_data/'\n",
    "\n",
    "TAC_raw_individual_trial_data_path  = '/Users/prachimahableshwarkar/Documents/GW/Depth_MTurk/depth_duration_analysis/TAC_npy_files/TAC_raw_individual_trial_data/'\n",
    "\n",
    "# stim \n",
    "with open(TAC_raw_individual_trial_data_path + 'final_stim_250.npy' , 'rb') as f:\n",
    "    stim_250 = np.load(f, allow_pickle=True)\n",
    "\n",
    "with open(TAC_raw_individual_trial_data_path + 'final_stim_500.npy' , 'rb') as f:\n",
    "    stim_500 = np.load(f, allow_pickle=True)\n",
    "    \n",
    "with open(TAC_raw_individual_trial_data_path + 'final_stim_750.npy' , 'rb') as f:\n",
    "    stim_750 = np.load(f, allow_pickle=True)\n",
    "\n",
    "with open(TAC_raw_individual_trial_data_path + 'final_stim_1000.npy' , 'rb') as f:\n",
    "    stim_1000 = np.load(f, allow_pickle=True)\n",
    "\n",
    "# x data\n",
    "with open(TAC_raw_individual_trial_data_path + 'X_250.npy' , 'rb') as f:\n",
    "    X_250 = np.load(f, allow_pickle=True)\n",
    "\n",
    "with open(TAC_raw_individual_trial_data_path + 'X_500.npy' , 'rb') as f:\n",
    "    X_500 = np.load(f, allow_pickle=True)\n",
    "    \n",
    "with open(TAC_raw_individual_trial_data_path + 'X_750.npy' , 'rb') as f:\n",
    "    X_750 = np.load(f, allow_pickle=True)\n",
    "\n",
    "with open(TAC_raw_individual_trial_data_path + 'X_1000.npy' , 'rb') as f:\n",
    "    X_1000 = np.load(f, allow_pickle=True)\n",
    "\n",
    "# y data \n",
    "with open(TAC_raw_individual_trial_data_path + 'final_y_250.npy' , 'rb') as f:\n",
    "    y_250 = np.load(f, allow_pickle=True)\n",
    "    \n",
    "with open(TAC_raw_individual_trial_data_path + 'final_y_500.npy' , 'rb') as f:\n",
    "    y_500 = np.load(f, allow_pickle=True)\n",
    "    \n",
    "with open(TAC_raw_individual_trial_data_path + 'final_y_750.npy' , 'rb') as f:\n",
    "    y_750 = np.load(f, allow_pickle=True)\n",
    "    \n",
    "with open(TAC_raw_individual_trial_data_path + 'final_y_1000.npy' , 'rb') as f:\n",
    "    y_1000= np.load(f, allow_pickle=True)"
   ]
  },
  {
   "cell_type": "code",
   "execution_count": 34,
   "metadata": {},
   "outputs": [],
   "source": [
    "# TAC_raw_individual_trial_residuals_path = '/Users/prachi/Documents/depth_duration/depth_duration_analysis/TAC_npy_files/TAC_raw_individual_trial_residuals/'\n",
    "\n",
    "TAC_raw_individual_trial_residuals_path = '/Users/prachimahableshwarkar/Documents/GW/Depth_MTurk/depth_duration_analysis/TAC_npy_files/TAC_raw_individual_trial_residuals/'\n",
    "\n",
    "# residuals\n",
    "with open(TAC_raw_individual_trial_residuals_path + 'residuals_250.npy' , 'rb') as f:\n",
    "    residuals_250 = np.load(f, allow_pickle=True)\n",
    "\n",
    "with open(TAC_raw_individual_trial_residuals_path + 'residuals_500.npy' , 'rb') as f:\n",
    "    residuals_500 = np.load(f, allow_pickle=True)\n",
    "    \n",
    "with open(TAC_raw_individual_trial_residuals_path + 'residuals_750.npy' , 'rb') as f:\n",
    "    residuals_750 = np.load(f, allow_pickle=True)\n",
    "\n",
    "with open(TAC_raw_individual_trial_residuals_path + 'residuals_1000.npy' , 'rb') as f:\n",
    "    residuals_1000 = np.load(f, allow_pickle=True)"
   ]
  },
  {
   "cell_type": "code",
   "execution_count": 37,
   "metadata": {},
   "outputs": [],
   "source": [
    "stimfolder_250 = [elem.split('/')[1][:-2] for elem in stim_250]\n",
    "stimfolder_500 = [elem.split('/')[1][:-2] for elem in stim_500]\n",
    "stimfolder_750 = [elem.split('/')[1][:-2] for elem in stim_750]\n",
    "stimfolder_1000 = [elem.split('/')[1][:-2] for elem in stim_1000]\n"
   ]
  },
  {
   "cell_type": "code",
   "execution_count": 52,
   "metadata": {},
   "outputs": [],
   "source": [
    "sceneCategory_indeces = {}\n",
    "for key in RA_scenePaths:\n",
    "    img_list = RA_scenePaths[key]\n",
    "    # indeces should be the same across durations\n",
    "    img_indeces_250 = [stimfolder_250.index(elem) for elem in img_list]\n",
    "#     img_indeces_500 = [stimfolder_500.index(elem) for elem in img_list]\n",
    "#     img_indeces_750 = [stimfolder_750.index(elem) for elem in img_list]\n",
    "#     img_indeces_1000 = [stimfolder_1000.index(elem) for elem in img_list]\n",
    "    sceneCategory_indeces[key] = img_indeces_250"
   ]
  },
  {
   "cell_type": "markdown",
   "metadata": {},
   "source": [
    "### Calculate average residuals for each scene category"
   ]
  },
  {
   "cell_type": "code",
   "execution_count": 59,
   "metadata": {},
   "outputs": [],
   "source": [
    "sceneCategory_ref = []\n",
    "avgresid_byCategory_250 = []\n",
    "avgresid_byCategory_500 = []\n",
    "avgresid_byCategory_750 = []\n",
    "avgresid_byCategory_1000 = []\n",
    "\n",
    "for key in sceneCategory_indeces:\n",
    "    rvals250 = []\n",
    "    rvals500 = []\n",
    "    rvals750 = []\n",
    "    rvals1000 = []\n",
    "    for idx in sceneCategory_indeces[key]:\n",
    "        rvals250.append(residuals_250[idx])\n",
    "        rvals500.append(residuals_500[idx])\n",
    "        rvals750.append(residuals_750[idx])\n",
    "        rvals1000.append(residuals_1000[idx])\n",
    "    \n",
    "    avgresid_byCategory_250.append(np.mean(np.array(rvals250)))\n",
    "    avgresid_byCategory_500.append(np.mean(np.array(rvals500)))\n",
    "    avgresid_byCategory_750.append(np.mean(np.array(rvals750)))\n",
    "    avgresid_byCategory_1000.append(np.mean(np.array(rvals1000)))\n"
   ]
  },
  {
   "cell_type": "code",
   "execution_count": null,
   "metadata": {},
   "outputs": [],
   "source": []
  },
  {
   "cell_type": "code",
   "execution_count": null,
   "metadata": {},
   "outputs": [],
   "source": []
  }
 ],
 "metadata": {
  "kernelspec": {
   "display_name": "Python 3",
   "language": "python",
   "name": "python3"
  },
  "language_info": {
   "codemirror_mode": {
    "name": "ipython",
    "version": 3
   },
   "file_extension": ".py",
   "mimetype": "text/x-python",
   "name": "python",
   "nbconvert_exporter": "python",
   "pygments_lexer": "ipython3",
   "version": "3.7.5"
  }
 },
 "nbformat": 4,
 "nbformat_minor": 4
}
