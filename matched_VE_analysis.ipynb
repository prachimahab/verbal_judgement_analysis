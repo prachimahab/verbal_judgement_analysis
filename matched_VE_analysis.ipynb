{
 "cells": [
  {
   "cell_type": "code",
   "execution_count": 90,
   "metadata": {},
   "outputs": [],
   "source": [
    "import os \n",
    "import pandas as pd\n",
    "import numpy as np\n",
    "import math\n",
    "import matplotlib.pyplot as plt\n",
    "import scipy \n",
    "import scipy.stats as stats"
   ]
  },
  {
   "cell_type": "code",
   "execution_count": null,
   "metadata": {},
   "outputs": [],
   "source": []
  },
  {
   "cell_type": "code",
   "execution_count": 91,
   "metadata": {
    "jupyter": {
     "source_hidden": true
    }
   },
   "outputs": [],
   "source": [
    "def combineCSVs(datafolder):\n",
    "    \"\"\"\n",
    "    Combine all participant data into one pandas df\n",
    "    OR \n",
    "    Create df for single participant file \n",
    "\n",
    "    exclude: list of subject IDs that should be excluded from the final df \n",
    "\n",
    "    \"\"\"\n",
    "    \n",
    "    exclude = []\n",
    "    \n",
    "    #checks if path is a file\n",
    "    isFile = os.path.isfile(datafolder)\n",
    "\n",
    "    #checks if path is a directory\n",
    "    \n",
    "    isDirectory = os.path.isdir(datafolder)\n",
    "    \n",
    "    if isDirectory == True:\n",
    "        data = []\n",
    "        for filename in os.listdir(datafolder):\n",
    "            if 'csv' in filename:\n",
    "                path = datafolder + \"/\" + filename\n",
    "                df = pd.read_csv(path, index_col=None, header=0)\n",
    "                \n",
    "                # do NOT include subject IDs that have been flagged \n",
    "                subjID = df.subjID.unique()[0]\n",
    "                if subjID not in exclude:\n",
    "                    data.append(df)\n",
    "\n",
    "        input_frame = pd.concat(data, axis=0, ignore_index=True)\n",
    "        \n",
    "    if isFile == True:\n",
    "        if 'csv' in datafolder:\n",
    "            input_frame = pd.read_csv(datafolder, index_col=None, header=0)\n",
    "    \n",
    "    print('Number of participants before cleaning: ', len(input_frame.subjID.unique()))\n",
    "\n",
    " \n",
    "    return input_frame\n",
    "\n",
    "\n",
    "def feet_to_meters(ft):\n",
    "    \"\"\"\n",
    "    Args: \n",
    "        ft = float value in feet \n",
    "        \n",
    "    returns:\n",
    "        m = float value converted to meters \n",
    "    \"\"\"\n",
    "    m = ft * 0.3048\n",
    "    return m\n",
    "\n",
    "def getUnitConveredData(datafolder):\n",
    "    input_data = combineCSVs(datafolder) # combine CSVs from all participants \n",
    "    \n",
    "    for idx, row in input_data.iterrows():\n",
    "        unit = row['unitSelection']\n",
    "        # if estimate was made in feet, convert to meters \n",
    "        if unit == 'feet':\n",
    "            estim_ft = row['depth_estimate']\n",
    "            estim_m = feet_to_meters(estim_ft)\n",
    "            # update depth estimates in existing dataframe\n",
    "            input_data.at[idx, 'depth_estimate'] = estim_m\n",
    "            # update units in existing dataframe\n",
    "#             input_data.at[idx, 'unitSelection'] = 'meters'\n",
    "    \n",
    "    return input_data\n",
    "\n",
    "def cleanAgeResponses(datafolder):\n",
    "    input_data = getUnitConveredData(datafolder)\n",
    "    \n",
    "    for idx, row in input_data.iterrows():\n",
    "        age = row['age']\n",
    "        # if year of birth was given, convert to age\n",
    "        if age > 100:\n",
    "            actual_age = 2021-age\n",
    "            # update age in existing dataframe\n",
    "            input_data.at[idx, 'age'] = actual_age\n",
    "        # participants must be over 18 so age reports below 18 are junk \n",
    "        if age < 18:\n",
    "            actual_age = None\n",
    "            # update age in existing dataframe\n",
    "            input_data.at[idx, 'age'] = actual_age    \n",
    "        if 90 < age < 100:\n",
    "            actual_age = None\n",
    "            # update age in existing dataframe\n",
    "            input_data.at[idx, 'age'] = actual_age \n",
    "    \n",
    "    return input_data    \n",
    "    \n",
    "\n",
    "def removeMissedTrials(datafolder):\n",
    "    \"\"\"\n",
    "    Participants were told that if they missed a trial, to respond '0'.\n",
    "    This function removes those trials, and keeps track of:\n",
    "    (1) How many missed trials per participant\n",
    "    (2) Number of missed trials per duration \n",
    "    (3) Number of missed trials per sequence \n",
    "    \"\"\"\n",
    "    input_data = cleanAgeResponses(datafolder)\n",
    "    \n",
    "    missedTrials_participants = {}\n",
    "    missedTrials_durations = {}\n",
    "    missedTrials_sequences = {}\n",
    "    \n",
    "    \n",
    "    for idx, row in input_data.iterrows():\n",
    "        estimate = row['depth_estimate']\n",
    "        if estimate == 0.0:\n",
    "            subjID = row['subjID']\n",
    "            duration = row['duration']\n",
    "            sequenceName = row['sequenceName']\n",
    "            \n",
    "            if subjID not in missedTrials_participants:\n",
    "                missedTrials_participants[subjID] = 1\n",
    "            else:\n",
    "                missedTrials_participants[subjID] += 1\n",
    "\n",
    "            if duration not in missedTrials_durations:\n",
    "                missedTrials_durations[duration] = 1\n",
    "            else:\n",
    "                missedTrials_durations[duration] += 1\n",
    "            \n",
    "            if sequenceName not in missedTrials_sequences:\n",
    "                missedTrials_sequences[sequenceName] = 1\n",
    "            else:\n",
    "                missedTrials_sequences[sequenceName] += 1\n",
    "            \n",
    "#             print(subjID, duration, sequenceName)\n",
    "            \n",
    "            # remove trials with depth estimate = 0 \n",
    "            input_data.drop(idx, inplace=True)\n",
    "    \n",
    "    # remove participants data if the participant's missed trial count is 10% or more of num_trials\n",
    "    threshold = math.floor(192 * 0.1)\n",
    "#     print(\"Missing Trial Count Threshold: \", threshold)\n",
    "    remove_ids = []\n",
    "    for key in missedTrials_participants:\n",
    "        if missedTrials_participants[key] >= threshold:\n",
    "            remove_ids.append(key)\n",
    "    print(\"Number of participants with 10% or more missed trials: \", len(remove_ids))\n",
    "\n",
    "    for index, row in input_data.iterrows():\n",
    "        if row['subjID'] in remove_ids:\n",
    "            input_data.drop(index, inplace=True)\n",
    "\n",
    "    # Note if a particular participant, duration, or sequence has maximum missing trials\n",
    "    # ** If the participant had no missed trials, then ID will not show up in dict \n",
    "#     print(\"Missed Trials\")\n",
    "#     print(missedTrials_participants)\n",
    "#     print(missedTrials_durations)\n",
    "#     print(missedTrials_sequences)\n",
    "\n",
    "    \n",
    "    return input_data\n"
   ]
  },
  {
   "cell_type": "code",
   "execution_count": 92,
   "metadata": {},
   "outputs": [
    {
     "name": "stdout",
     "output_type": "stream",
     "text": [
      "Number of participants before cleaning:  125\n",
      "Number of participants with 10% or more missed trials:  4\n"
     ]
    }
   ],
   "source": [
    "\n",
    "# path = \"/Users/prachimahableshwarkar/Documents/GW/FacialAge/FacialAge_MTurk/BNav_EC2/DepthDuration/v2_depth_duration_MTurk/data\"\n",
    "\n",
    "# path = '/Users/prachi/Documents/depth_duration/target_at_center/january2022_data/VE_data'\n",
    "\n",
    "path = '/Users/pmahableshwarkar/Documents/Depth_Project/DATA/0_2022_VE'\n",
    "\n",
    "missed_trial_cleaned_data = removeMissedTrials(path)"
   ]
  },
  {
   "cell_type": "code",
   "execution_count": null,
   "metadata": {},
   "outputs": [],
   "source": []
  },
  {
   "cell_type": "markdown",
   "metadata": {},
   "source": [
    "#### Distribution of Unit Preferences"
   ]
  },
  {
   "cell_type": "code",
   "execution_count": 93,
   "metadata": {},
   "outputs": [
    {
     "name": "stdout",
     "output_type": "stream",
     "text": [
      "Number of participants before cleaning:  125\n"
     ]
    }
   ],
   "source": [
    "pre_unitconversion_data = combineCSVs(path)"
   ]
  },
  {
   "cell_type": "code",
   "execution_count": 94,
   "metadata": {},
   "outputs": [
    {
     "data": {
      "text/plain": [
       "(30, 95)"
      ]
     },
     "execution_count": 94,
     "metadata": {},
     "output_type": "execute_result"
    }
   ],
   "source": [
    "subject_ids_pre_cleaning = pre_unitconversion_data.subjID.unique()\n",
    "subj_units = {}\n",
    "meters_count = 0\n",
    "feet_count = 0\n",
    "for subj in subject_ids_pre_cleaning:\n",
    "    subj_df = pre_unitconversion_data.loc[pre_unitconversion_data['subjID'] == subj]\n",
    "    unit = subj_df.unitSelection.unique()\n",
    "    subj_units[subj] = unit[0]\n",
    "    if unit == \"feet\":\n",
    "        feet_count += 1\n",
    "    if unit == \"meters\":\n",
    "        meters_count += 1\n",
    "    \n",
    "meters_count, feet_count"
   ]
  },
  {
   "cell_type": "code",
   "execution_count": 95,
   "metadata": {
    "jupyter": {
     "source_hidden": true
    }
   },
   "outputs": [],
   "source": [
    "\n",
    "def RT_Cleaning(df):\n",
    "    #List unique values in the df['subjID'] column\n",
    "    all_subjIDs = df.subjID.unique()\n",
    "    \n",
    "    remove = []\n",
    "    df2_list = []\n",
    "    for subj in all_subjIDs:\n",
    "        count = 0\n",
    "        subj_df = df.loc[df['subjID'] == subj]\n",
    "        cleaned_subj_df = subj_df.copy(deep=True) # prevent setting with copy warning \n",
    "        # calculate subject's average trial RT \n",
    "        average_trial_RT = subj_df[\"trial_RT\"].mean()\n",
    "        std_trial_RT = subj_df[\"trial_RT\"].std()\n",
    "#         outlier_range = [(average_trial_RT - (3*std_trial_RT)), (average_trial_RT + (3*std_trial_RT))] \n",
    "        outlier_range = [1000, (average_trial_RT + (3*std_trial_RT))] \n",
    "\n",
    "        for idx, row in subj_df.iterrows():\n",
    "            RT = row[\"trial_RT\"]\n",
    "            if RT < outlier_range[0]: # outlier\n",
    "                cleaned_subj_df.drop([idx], inplace=True)\n",
    "                count += 1\n",
    "            if RT > outlier_range[1]:\n",
    "                cleaned_subj_df.drop([idx], inplace=True)\n",
    "                count += 1\n",
    "                \n",
    "        threshold = math.floor(192 * 0.1)\n",
    "        if count >= threshold:\n",
    "            remove.append(subj)\n",
    "        \n",
    "        df2_list.append(cleaned_subj_df)\n",
    "    \n",
    "    df2 = pd.concat(df2_list)\n",
    "            \n",
    "    print(\"Number of Participants with 10% or more trials outside their RT range: \", len(remove))\n",
    "    \n",
    "    for index, row in df2.iterrows():\n",
    "        if row['subjID'] in remove:\n",
    "            df2.drop(index, inplace=True)\n",
    "    \n",
    "    return df2\n",
    "\n"
   ]
  },
  {
   "cell_type": "code",
   "execution_count": 96,
   "metadata": {},
   "outputs": [
    {
     "name": "stdout",
     "output_type": "stream",
     "text": [
      "Number of Participants with 10% or more trials outside their RT range:  0\n"
     ]
    }
   ],
   "source": [
    "RT_cleaned_data = RT_Cleaning(missed_trial_cleaned_data)"
   ]
  },
  {
   "cell_type": "code",
   "execution_count": 97,
   "metadata": {},
   "outputs": [],
   "source": [
    "# RT_cleaned_data"
   ]
  },
  {
   "cell_type": "code",
   "execution_count": 98,
   "metadata": {
    "jupyter": {
     "source_hidden": true
    }
   },
   "outputs": [],
   "source": [
    "def participant_Outlier_Removal(df):\n",
    "    #List unique values in the df['subjID'] column\n",
    "    all_subjIDs = df.subjID.unique()\n",
    "    remove = []\n",
    "    \n",
    "    df2_list = []\n",
    "    for subj in all_subjIDs:\n",
    "        count = 0\n",
    "        subj_df = df.loc[df['subjID'] == subj]\n",
    "        cleaned_subj_df = subj_df.copy(deep=True) # prevent setting with copy warning \n",
    "\n",
    "        # calculate subject's average trial RT \n",
    "        average = subj_df[\"depth_estimate\"].mean()\n",
    "        std = subj_df[\"depth_estimate\"].std()\n",
    "        outlier_range = [(average - (3*std)), (average + (3*std))]\n",
    "        \n",
    "        for idx, row in subj_df.iterrows():\n",
    "            estim = row[\"depth_estimate\"]\n",
    "            if estim < outlier_range[0]: # outlier\n",
    "                cleaned_subj_df.drop([idx], inplace=True)\n",
    "                count += 1\n",
    "            if estim > outlier_range[1]:\n",
    "                cleaned_subj_df.drop([idx], inplace=True)\n",
    "                count += 1\n",
    "                \n",
    "        threshold = math.floor(192 * 0.1)\n",
    "        if count >= threshold:\n",
    "            remove.append(subj)\n",
    "         \n",
    "        df2_list.append(cleaned_subj_df)\n",
    "    \n",
    "    df2 = pd.concat(df2_list)\n",
    "        \n",
    "    print(\"Number of Participants with 10% or more outlier trials: \", len(remove))\n",
    "    \n",
    "    for index, row in df2.iterrows():\n",
    "        if row['subjID'] in remove:\n",
    "            df2.drop(index, inplace=True)\n",
    "    \n",
    "    return df2\n",
    "\n"
   ]
  },
  {
   "cell_type": "code",
   "execution_count": 99,
   "metadata": {},
   "outputs": [
    {
     "name": "stdout",
     "output_type": "stream",
     "text": [
      "Number of Participants with 10% or more outlier trials:  0\n"
     ]
    }
   ],
   "source": [
    "outlier_cleaned_data = participant_Outlier_Removal(RT_cleaned_data)"
   ]
  },
  {
   "cell_type": "code",
   "execution_count": 100,
   "metadata": {},
   "outputs": [],
   "source": [
    "# outlier_cleaned_data"
   ]
  },
  {
   "cell_type": "code",
   "execution_count": 101,
   "metadata": {
    "jupyter": {
     "source_hidden": true
    }
   },
   "outputs": [],
   "source": [
    "def getActualDepthAverage(df):\n",
    "    \"\"\"\n",
    "    True average of target depths in the stimuli\n",
    "    \"\"\"\n",
    "    \n",
    "    avg_actual = np.mean(np.array(df['actual_depth']))\n",
    "    \n",
    "    return avg_actual\n",
    "\n",
    "def participantAverageEstim_Cleaning(df):\n",
    "    true_average = getActualDepthAverage(df)\n",
    "    octave_window = [true_average/4, true_average * 4]\n",
    "    print(true_average, octave_window)\n",
    "    \n",
    "    #List unique values in the df['subjID'] column\n",
    "    all_subjIDs = df.subjID.unique()\n",
    "    \n",
    "    remove = []\n",
    "    for subj in all_subjIDs:\n",
    "        subj_df = df.loc[df['subjID'] == subj]\n",
    "        # calculate subject's average depth estimation  \n",
    "        avg = subj_df['depth_estimate'].mean()\n",
    "        if avg < octave_window[0]:\n",
    "            remove.append(subj)\n",
    "        if avg > octave_window[1]:\n",
    "            remove.append(subj)\n",
    "    \n",
    "    print(\"Avg Estim Cleaning: Number of Participants Removed\", len(remove))\n",
    "    \n",
    "    for index, row in df.iterrows():\n",
    "        if row['subjID'] in remove:\n",
    "            df.drop(index, inplace=True)\n",
    "    return df \n",
    "\n"
   ]
  },
  {
   "cell_type": "code",
   "execution_count": 102,
   "metadata": {},
   "outputs": [
    {
     "name": "stdout",
     "output_type": "stream",
     "text": [
      "3.012648374164151 [0.7531620935410378, 12.050593496656605]\n",
      "Avg Estim Cleaning: Number of Participants Removed 8\n"
     ]
    }
   ],
   "source": [
    "avg_estim_cleaned_data = participantAverageEstim_Cleaning(outlier_cleaned_data)"
   ]
  },
  {
   "cell_type": "code",
   "execution_count": null,
   "metadata": {},
   "outputs": [],
   "source": []
  },
  {
   "cell_type": "code",
   "execution_count": 103,
   "metadata": {},
   "outputs": [],
   "source": [
    "# avg_estim_cleaned_data"
   ]
  },
  {
   "cell_type": "code",
   "execution_count": 104,
   "metadata": {
    "jupyter": {
     "source_hidden": true
    }
   },
   "outputs": [],
   "source": [
    "def repeatResponses_Cleaning(df):\n",
    "    \"\"\"\n",
    "    Some participants gave'junk data' - same number repeated for many trials \n",
    "    Count the frequency of unique responses entered by the participant. \n",
    "    If you look at the maximum number of repeats and/or the number of unique responses / 48 per participant you will find our vandals.\n",
    "    \"\"\"\n",
    "    #List unique values in the df['subjID'] column\n",
    "    all_subjIDs = df.subjID.unique()\n",
    "    \n",
    "    remove = []\n",
    "    max_repeats_distribution = []\n",
    "    num_unique_responses_distribution = []\n",
    "    for subj in all_subjIDs:\n",
    "        subj_df = df.loc[df['subjID'] == subj]\n",
    "        # ideally, the max repeats and num_unique_responses should be ~ 48 since there are 48 imgs at each depth bin \n",
    "        count_depth_estimates = subj_df['depth_estimate'].value_counts()\n",
    "        num_unique_responses = len(count_depth_estimates)\n",
    "        num_unique_responses_distribution.append(num_unique_responses)\n",
    "        max_repeats = count_depth_estimates.max()\n",
    "        max_repeats_distribution.append(max_repeats)\n",
    "        if num_unique_responses < 6:\n",
    "            remove.append(subj)\n",
    "    \n",
    "    avg_max_repeats = np.array(max_repeats_distribution).mean()\n",
    "    std_max_repeats = np.array(max_repeats_distribution).std()\n",
    "    \n",
    "    for subj in all_subjIDs:\n",
    "        subj_df = df.loc[df['subjID'] == subj]\n",
    "        count_depth_estimates = subj_df['depth_estimate'].value_counts()\n",
    "        max_repeats = count_depth_estimates.max()\n",
    "\n",
    "        outlierrange = [avg_max_repeats - (3*std_max_repeats), avg_max_repeats + (3*std_max_repeats)]\n",
    "        if max_repeats < outlierrange[0]:\n",
    "            if subj not in remove:\n",
    "                remove.append(subj)\n",
    "        if max_repeats > outlierrange[1]:\n",
    "            if subj not in remove:\n",
    "                remove.append(subj)\n",
    "                \n",
    "    print(\"Number of participants removed: repeat responses: \", len(remove))\n",
    "    \n",
    "    for index, row in df.iterrows():\n",
    "        if row['subjID'] in remove:\n",
    "            df.drop(index, inplace=True)\n",
    "\n",
    "    return df, max_repeats_distribution, num_unique_responses_distribution\n",
    "\n"
   ]
  },
  {
   "cell_type": "code",
   "execution_count": 105,
   "metadata": {},
   "outputs": [
    {
     "name": "stdout",
     "output_type": "stream",
     "text": [
      "Number of participants removed: repeat responses:  8\n"
     ]
    }
   ],
   "source": [
    "repeat_resp_cleaned_data, max_repeats_distrib, num_unique_distrib = repeatResponses_Cleaning(avg_estim_cleaned_data)"
   ]
  },
  {
   "cell_type": "code",
   "execution_count": 106,
   "metadata": {},
   "outputs": [],
   "source": [
    "# repeat_resp_cleaned_data"
   ]
  },
  {
   "cell_type": "code",
   "execution_count": 107,
   "metadata": {
    "jupyter": {
     "source_hidden": true
    }
   },
   "outputs": [],
   "source": [
    "def finalTrialCountCheck(df):\n",
    "    \"\"\"\n",
    "    If more then 10% of a participants data is missing, remove the participant\n",
    "    \"\"\"\n",
    "    #List unique values in the df['subjID'] column\n",
    "    all_subjIDs = df.subjID.unique()\n",
    "    \n",
    "    remove = []\n",
    "    for subj in all_subjIDs:\n",
    "        subj_df = df.loc[df['subjID'] == subj]\n",
    "        count_trials = len(subj_df.index)\n",
    "        threshold_trials_remaining = 192 - math.floor(192 * 0.1)\n",
    "\n",
    "        if count_trials <= threshold_trials_remaining:\n",
    "            remove.append(subj)\n",
    "            \n",
    "    print(\"Number of Participants with >= 10% trials removed: \", len(remove))\n",
    "    \n",
    "    for index, row in df.iterrows():\n",
    "        if row['subjID'] in remove:\n",
    "            df.drop(index, inplace=True)\n",
    "        \n",
    "    print(\"Number of participants left: \",len(df.subjID.unique()))\n",
    "    \n",
    "    return df"
   ]
  },
  {
   "cell_type": "code",
   "execution_count": 108,
   "metadata": {},
   "outputs": [
    {
     "name": "stdout",
     "output_type": "stream",
     "text": [
      "Number of Participants with >= 10% trials removed:  0\n",
      "Number of participants left:  105\n"
     ]
    }
   ],
   "source": [
    "cleaned_data = finalTrialCountCheck(repeat_resp_cleaned_data)"
   ]
  },
  {
   "cell_type": "code",
   "execution_count": 109,
   "metadata": {
    "jupyter": {
     "source_hidden": true
    }
   },
   "outputs": [
    {
     "name": "stdout",
     "output_type": "stream",
     "text": [
      "[467334 567839]\n",
      "[679064 911073]\n",
      "[675375 838133]\n",
      "[875825 761733]\n",
      "[551476 329210]\n",
      "[698911 751172]\n",
      "[152222 257518]\n",
      "[808337 381112]\n",
      "[512694 477529]\n",
      "[366614 189255]\n"
     ]
    }
   ],
   "source": [
    "# find repeat sequences due to mturk glitch (so that N=192, as pre-registered) --> remove subject that was collected last \n",
    "\n",
    "all_subjects = cleaned_data.subjID.unique()\n",
    "all_sequences = cleaned_data.sequenceName.unique()\n",
    "for seq in all_sequences:\n",
    "    seq_df = cleaned_data.loc[cleaned_data['sequenceName']== seq]\n",
    "    seq_subjs = seq_df.subjID.unique()\n",
    "    if len(seq_subjs) > 1:\n",
    "        print(seq_subjs)\n",
    "    "
   ]
  },
  {
   "cell_type": "code",
   "execution_count": 110,
   "metadata": {},
   "outputs": [],
   "source": [
    "# remove participants\n",
    "remove = []\n",
    "for index, row in cleaned_data.iterrows():\n",
    "    if row['subjID'] in remove:\n",
    "        cleaned_data.drop(index, inplace=True)"
   ]
  },
  {
   "cell_type": "code",
   "execution_count": 111,
   "metadata": {},
   "outputs": [],
   "source": [
    "final_data = cleaned_data.copy(deep=True)"
   ]
  },
  {
   "cell_type": "code",
   "execution_count": 112,
   "metadata": {},
   "outputs": [
    {
     "data": {
      "text/plain": [
       "105"
      ]
     },
     "execution_count": 112,
     "metadata": {},
     "output_type": "execute_result"
    }
   ],
   "source": [
    "len(final_data.subjID.unique())"
   ]
  },
  {
   "cell_type": "code",
   "execution_count": 113,
   "metadata": {},
   "outputs": [
    {
     "data": {
      "text/plain": [
       "2.3959238564563954"
      ]
     },
     "execution_count": 113,
     "metadata": {},
     "output_type": "execute_result"
    }
   ],
   "source": [
    "average_depth_estimate = np.array(final_data['depth_estimate']).mean()\n",
    "average_depth_estimate"
   ]
  },
  {
   "cell_type": "code",
   "execution_count": 114,
   "metadata": {},
   "outputs": [],
   "source": [
    "sampled_urls = final_data.url.unique()\n",
    "# sampled_urls"
   ]
  },
  {
   "cell_type": "markdown",
   "metadata": {},
   "source": [
    "#### Unit Distribution "
   ]
  },
  {
   "cell_type": "code",
   "execution_count": 115,
   "metadata": {},
   "outputs": [
    {
     "data": {
      "text/plain": [
       "(90, 15)"
      ]
     },
     "execution_count": 115,
     "metadata": {},
     "output_type": "execute_result"
    }
   ],
   "source": [
    "final_subjects = final_data.subjID.unique()\n",
    "num_feet = 0\n",
    "num_meters = 0\n",
    "feet_subjects = []\n",
    "for subj in final_subjects:\n",
    "    unit = subj_units[subj]\n",
    "    if unit == 'feet':\n",
    "        num_feet += 1\n",
    "        feet_subjects.append(subj)\n",
    "    else:\n",
    "        num_meters += 1\n",
    "\n",
    "num_feet, num_meters"
   ]
  },
  {
   "cell_type": "markdown",
   "metadata": {},
   "source": [
    "Filter data by removing participants that used meters "
   ]
  },
  {
   "cell_type": "code",
   "execution_count": 116,
   "metadata": {},
   "outputs": [],
   "source": [
    "# for subj in final_subjects:\n",
    "#     if subj not in feet_subjects:\n",
    "#         print(subj)\n",
    "#         final_data.drop(final_data.loc[final_data['subjID']==subj].index, inplace=True)"
   ]
  },
  {
   "cell_type": "code",
   "execution_count": 117,
   "metadata": {},
   "outputs": [
    {
     "data": {
      "text/plain": [
       "105"
      ]
     },
     "execution_count": 117,
     "metadata": {},
     "output_type": "execute_result"
    }
   ],
   "source": [
    "len(final_data.subjID.unique())"
   ]
  },
  {
   "cell_type": "markdown",
   "metadata": {},
   "source": [
    "### Normalize Data by Participant's Avg "
   ]
  },
  {
   "cell_type": "code",
   "execution_count": 118,
   "metadata": {},
   "outputs": [],
   "source": [
    "def normalize_dfs(df):\n",
    "    \"\"\"\n",
    "    Args:\n",
    "        final data \n",
    "    Return:\n",
    "        data normalized by participants average depth estimation\n",
    "    \"\"\"\n",
    "    pd.options.mode.chained_assignment = None  # default='warn'\n",
    "\n",
    "    #List unique values in the df['subjID'] column\n",
    "    all_subjIDs = df.subjID.unique()\n",
    "    \n",
    "    norm_subjects = []\n",
    "    for subj in all_subjIDs:\n",
    "        subj_df = df.loc[df['subjID'] == subj]\n",
    "\n",
    "        # calculate subject's average depth estimation \n",
    "        avg = subj_df['depth_estimate'].mean()\n",
    "\n",
    "        # divide each depth estimate by the subject's average depth estimation \n",
    "        subj_df['depth_estimate'] = subj_df['depth_estimate'].apply(lambda x:x/avg)\n",
    "\n",
    "        norm_subjects.append(subj_df)\n",
    "    \n",
    "    normalized_df = pd.concat(norm_subjects)\n",
    "    \n",
    "    return normalized_df"
   ]
  },
  {
   "cell_type": "code",
   "execution_count": 119,
   "metadata": {},
   "outputs": [],
   "source": [
    "normalized_data = normalize_dfs(final_data)"
   ]
  },
  {
   "cell_type": "code",
   "execution_count": 120,
   "metadata": {},
   "outputs": [],
   "source": [
    "normalized_data_250 = normalized_data.loc[normalized_data['duration'] == 250]\n",
    "normalized_data_1000 = normalized_data.loc[normalized_data['duration'] == 1000]\n"
   ]
  },
  {
   "cell_type": "markdown",
   "metadata": {},
   "source": [
    "### Distribution of VE Estimates for a Discrimination Trial Pair"
   ]
  },
  {
   "cell_type": "code",
   "execution_count": 121,
   "metadata": {},
   "outputs": [],
   "source": [
    "s0 = 'depth_duration_stimuli/001810_2014-06-26_20-51-35_260595134347_rgbf000040-resize_3/001810_2014-06-26_20-51-35_260595134347_rgbf000040-resize_3-target.png'\n",
    "\n",
    "stimulus_0_df = normalized_data_250.loc[normalized_data_250['stimulus'] == s0]\n",
    "stimulus_0_estims = list(stimulus_0_df['depth_estimate'])\n",
    "\n",
    "s1 = 'depth_duration_stimuli/003010_2014-06-15_12-54-35_094959634447_rgbf000112-resize_0/003010_2014-06-15_12-54-35_094959634447_rgbf000112-resize_0-target.png'\n",
    "\n",
    "stimulus_1_df = normalized_data_250.loc[normalized_data_250['stimulus'] == s1]\n",
    "stimulus_1_estims = list(stimulus_1_df['depth_estimate'])\n"
   ]
  },
  {
   "cell_type": "code",
   "execution_count": 122,
   "metadata": {},
   "outputs": [
    {
     "data": {
      "image/png": "[encoded data removed]",
      "text/plain": [
       "<Figure size 504x504 with 1 Axes>"
      ]
     },
     "metadata": {
      "needs_background": "light"
     },
     "output_type": "display_data"
    }
   ],
   "source": [
    "fig, ax = plt.subplots(figsize=[7,7])\n",
    "\n",
    "right_side = ax.spines[\"right\"]\n",
    "right_side.set_visible(False)\n",
    "top = ax.spines['top']\n",
    "top.set_visible(False)\n",
    "\n",
    "plt.hist(stimulus_0_estims, color='chocolate', alpha=0.7)\n",
    "# plt.hist(stimulus_0_estims, label='Avg Depth Estimate = ' + str(np.mean(stimulus_0_estims))[:4], color='chocolate', alpha=0.7)\n",
    "plt.vlines(x=[np.mean(stimulus_0_estims)], ymin=0, ymax=17, colors='black', ls='--', lw=1.5, label='average depth estimate')\n",
    "plt.vlines(x=[2.25], ymin=0, ymax=18, colors='red', ls='--', lw=1.5, label='kinect depth')\n",
    "\n",
    "plt.xticks(np.arange(0,3.4,0.4))\n",
    "plt.yticks(np.arange(0,20,2))\n",
    "\n",
    "plt.xlabel('Normalized Depth Estimate (m)', fontsize=12)\n",
    "plt.ylabel('Count', fontsize=12)\n",
    "\n",
    "plt.legend(loc=2)\n",
    "\n",
    "plt.show()"
   ]
  },
  {
   "cell_type": "code",
   "execution_count": 123,
   "metadata": {},
   "outputs": [
    {
     "data": {
      "image/png": "[encoded data removed]",
      "text/plain": [
       "<Figure size 504x504 with 1 Axes>"
      ]
     },
     "metadata": {
      "needs_background": "light"
     },
     "output_type": "display_data"
    }
   ],
   "source": [
    "fig, ax = plt.subplots(figsize=[7,7])\n",
    "\n",
    "right_side = ax.spines[\"right\"]\n",
    "right_side.set_visible(False)\n",
    "top = ax.spines['top']\n",
    "top.set_visible(False)\n",
    "\n",
    "# plt.hist(stimulus_1_estims, label='Avg Depth Estimate = ' + str(np.mean(stimulus_1_estims))[:4], color='chocolate', alpha=0.7)\n",
    "\n",
    "plt.hist(stimulus_1_estims, color='chocolate', alpha=0.7)\n",
    "plt.xticks(np.arange(0,3.4,0.4))\n",
    "plt.yticks(np.arange(0,20,2))\n",
    "plt.vlines(x=[np.mean(stimulus_1_estims)], ymin=0, ymax=17, colors='black', ls='--', lw=1.5, label='average depth estimate')\n",
    "plt.vlines(x=[3.12], ymin=0, ymax=18, colors='red', ls='--', lw=1.5, label='kinect depth')\n",
    "\n",
    "plt.xlabel('Normalized Depth Estimate (m)', fontsize=12)\n",
    "plt.ylabel('Count', fontsize=12)\n",
    "plt.legend(loc=2)\n",
    "\n",
    "plt.show()"
   ]
  },
  {
   "cell_type": "code",
   "execution_count": 124,
   "metadata": {},
   "outputs": [
    {
     "data": {
      "image/png": "[encoded data removed]",
      "text/plain": [
       "<Figure size 648x504 with 1 Axes>"
      ]
     },
     "metadata": {
      "needs_background": "light"
     },
     "output_type": "display_data"
    }
   ],
   "source": [
    "fig, ax = plt.subplots(figsize=[9,7])\n",
    "\n",
    "right_side = ax.spines[\"right\"]\n",
    "right_side.set_visible(False)\n",
    "top = ax.spines['top']\n",
    "top.set_visible(False)\n",
    "\n",
    "plt.hist(stimulus_0_estims, color='chocolate', alpha=0.7, hatch='.')\n",
    "# plt.hist(stimulus_0_estims, label='Avg Depth Estimate = ' + str(np.mean(stimulus_0_estims))[:4], color='chocolate', alpha=0.7)\n",
    "plt.vlines(x=[np.mean(stimulus_0_estims)], ymin=0, ymax=16, colors='black', ls='dotted', lw=1.5, label='S0: avg depth estimate')\n",
    "plt.vlines(x=[2.25], ymin=0, ymax=16, colors='red', lw=1.5, label='S0: kinect depth', linestyles='dotted')\n",
    "\n",
    "plt.xticks(np.arange(0,3.4,0.4))\n",
    "plt.yticks(np.arange(0,20,2))\n",
    "\n",
    "plt.hist(stimulus_1_estims, color='chocolate', alpha=0.7, hatch='-')\n",
    "plt.xticks(np.arange(0,3.4,0.4))\n",
    "plt.yticks(np.arange(0,20,2))\n",
    "plt.vlines(x=[np.mean(stimulus_1_estims)], ymin=0, ymax=16, colors='black', ls='solid', lw=1.5, label='S1: avg depth estimate')\n",
    "plt.vlines(x=[3.12], ymin=0, ymax=16, colors='red', ls='solid', lw=1.5, label='S1: kinect depth')\n",
    "\n",
    "plt.xlabel('Normalized Depth Estimate (m)', fontsize=12)\n",
    "plt.ylabel('Count', fontsize=12)\n",
    "\n",
    "plt.legend(loc=4)\n",
    "\n",
    "plt.show()"
   ]
  },
  {
   "cell_type": "code",
   "execution_count": 125,
   "metadata": {},
   "outputs": [],
   "source": [
    "s0 = 'depth_duration_stimuli/001810_2014-06-26_20-51-35_260595134347_rgbf000040-resize_3/001810_2014-06-26_20-51-35_260595134347_rgbf000040-resize_3-target.png'\n",
    "\n",
    "stimulus_0_df_1000 = normalized_data_1000.loc[normalized_data_1000['stimulus'] == s0]\n",
    "stimulus_0_estims_1000 = list(stimulus_0_df_1000['depth_estimate'])\n",
    "\n",
    "s1 = 'depth_duration_stimuli/003010_2014-06-15_12-54-35_094959634447_rgbf000112-resize_0/003010_2014-06-15_12-54-35_094959634447_rgbf000112-resize_0-target.png'\n",
    "\n",
    "stimulus_1_df_1000 = normalized_data_1000.loc[normalized_data_1000['stimulus'] == s1]\n",
    "stimulus_1_estims_1000 = list(stimulus_1_df_1000['depth_estimate'])\n"
   ]
  },
  {
   "cell_type": "code",
   "execution_count": 126,
   "metadata": {},
   "outputs": [
    {
     "data": {
      "image/png": "[encoded data removed]",
      "text/plain": [
       "<Figure size 504x504 with 1 Axes>"
      ]
     },
     "metadata": {
      "needs_background": "light"
     },
     "output_type": "display_data"
    }
   ],
   "source": [
    "fig, ax = plt.subplots(figsize=[7,7])\n",
    "\n",
    "right_side = ax.spines[\"right\"]\n",
    "right_side.set_visible(False)\n",
    "top = ax.spines['top']\n",
    "top.set_visible(False)\n",
    "\n",
    "plt.hist(stimulus_0_estims_1000, color='darkviolet', alpha=0.7)\n",
    "# plt.hist(stimulus_0_estims, label='Avg Depth Estimate = ' + str(np.mean(stimulus_0_estims))[:4], color='chocolate', alpha=0.7)\n",
    "plt.vlines(x=[np.mean(stimulus_0_estims_1000)], ymin=0, ymax=22, colors='black', ls='--', lw=1.5, label='average depth estimate')\n",
    "plt.vlines(x=[2.25], ymin=0, ymax=20.5, colors='red', ls='--', lw=1.5, label='kinect depth')\n",
    "\n",
    "plt.xticks(np.arange(0,3.4,0.4))\n",
    "plt.yticks(np.arange(0,24,2))\n",
    "\n",
    "plt.xlabel('Normalized Depth Estimate (m)', fontsize=12)\n",
    "plt.ylabel('Count', fontsize=12)\n",
    "\n",
    "plt.legend(loc=1)\n",
    "\n",
    "plt.show()"
   ]
  },
  {
   "cell_type": "code",
   "execution_count": 127,
   "metadata": {},
   "outputs": [
    {
     "data": {
      "image/png": "[encoded data removed]",
      "text/plain": [
       "<Figure size 504x504 with 1 Axes>"
      ]
     },
     "metadata": {
      "needs_background": "light"
     },
     "output_type": "display_data"
    }
   ],
   "source": [
    "fig, ax = plt.subplots(figsize=[7,7])\n",
    "\n",
    "right_side = ax.spines[\"right\"]\n",
    "right_side.set_visible(False)\n",
    "top = ax.spines['top']\n",
    "top.set_visible(False)\n",
    "\n",
    "# plt.hist(stimulus_1_estims, label='Avg Depth Estimate = ' + str(np.mean(stimulus_1_estims))[:4], color='chocolate', alpha=0.7)\n",
    "\n",
    "plt.hist(stimulus_1_estims_1000, color='darkviolet', alpha=0.7)\n",
    "plt.xticks(np.arange(0,3.4,0.4))\n",
    "plt.yticks(np.arange(0,24,2))\n",
    "plt.vlines(x=[np.mean(stimulus_1_estims_1000)], ymin=0, ymax=22, colors='black', ls='--', lw=1.5, label='average depth estimate')\n",
    "plt.vlines(x=[3.12], ymin=0, ymax=20.5, colors='red', ls='--', lw=1.5, label='kinect depth')\n",
    "\n",
    "plt.xlabel('Normalized Depth Estimate (m)', fontsize=12)\n",
    "plt.ylabel('Count', fontsize=12)\n",
    "plt.legend(loc=1)\n",
    "\n",
    "plt.show()"
   ]
  },
  {
   "cell_type": "code",
   "execution_count": 141,
   "metadata": {},
   "outputs": [
    {
     "data": {
      "image/png": "[encoded data removed]",
      "text/plain": [
       "<Figure size 648x504 with 1 Axes>"
      ]
     },
     "metadata": {
      "needs_background": "light"
     },
     "output_type": "display_data"
    }
   ],
   "source": [
    "fig, ax = plt.subplots(figsize=[9,7])\n",
    "\n",
    "right_side = ax.spines[\"right\"]\n",
    "right_side.set_visible(False)\n",
    "top = ax.spines['top']\n",
    "top.set_visible(False)\n",
    "\n",
    "plt.hist(stimulus_0_estims_1000, fill= False, alpha=0.7, hatch='.', label='Stimulus 0')\n",
    "# plt.hist(stimulus_0_estims, label='Avg Depth Estimate = ' + str(np.mean(stimulus_0_estims))[:4], color='chocolate', alpha=0.7)\n",
    "plt.vlines(x=[np.mean(stimulus_0_estims_1000)], ymin=0, ymax=22, colors='black', ls='dotted', lw=1.5, )\n",
    "plt.vlines(x=[2.25], ymin=0, ymax=22, colors='red', ls='dotted', lw=1.5)\n",
    "\n",
    "plt.hist(stimulus_1_estims_1000, fill=False, alpha=0.7, hatch='-', label='Stimulus 1')\n",
    "plt.xticks(np.arange(0,3.4,0.4))\n",
    "plt.yticks(np.arange(0,24,2))\n",
    "plt.vlines(x=[np.mean(stimulus_1_estims_1000)], ymin=0, ymax=22, colors='black', ls='solid', lw=1.5, label='avg depth estimate')\n",
    "plt.vlines(x=[3.12], ymin=0, ymax=22, colors='red', ls='solid', lw=1.5, label='kinect depth')\n",
    "\n",
    "plt.xticks(np.arange(0,3.4,0.4))\n",
    "plt.yticks(np.arange(0,24,2))\n",
    "\n",
    "plt.xlabel('Normalized Depth Estimate (m)', fontsize=12)\n",
    "plt.ylabel('Count', fontsize=12)\n",
    "\n",
    "plt.legend(loc=4, prop={'size': 11})\n",
    "\n",
    "plt.show()"
   ]
  },
  {
   "cell_type": "markdown",
   "metadata": {},
   "source": [
    "#### Age"
   ]
  },
  {
   "cell_type": "code",
   "execution_count": 30,
   "metadata": {},
   "outputs": [
    {
     "data": {
      "image/png": "[encoded data removed]",
      "text/plain": [
       "<Figure size 504x360 with 1 Axes>"
      ]
     },
     "metadata": {
      "needs_background": "light"
     },
     "output_type": "display_data"
    }
   ],
   "source": [
    "all_ages = final_data['age']\n",
    "plt.figure(figsize = [7,5])\n",
    "plt.xticks(np.arange(20,100, 5) ,fontsize=12)\n",
    "# plt.yticks([])\n",
    "plt.xlabel('Age (years)')\n",
    "plt.ylabel('Proportion')\n",
    "plt.title('Distribution of Age', fontsize=16)\n",
    "_, bins, _= plt.hist(all_ages, 50, density=1, alpha=0.9)\n",
    "plt.show()\n"
   ]
  },
  {
   "cell_type": "code",
   "execution_count": null,
   "metadata": {},
   "outputs": [],
   "source": []
  },
  {
   "cell_type": "code",
   "execution_count": 31,
   "metadata": {},
   "outputs": [],
   "source": [
    "import os\n",
    "import numpy as np\n",
    "import matplotlib.pyplot as plt\n",
    "from scipy import stats\n",
    "from statsmodels.stats.anova import AnovaRM\n",
    "\n",
    "def subject_pivotTable(data, duration):\n",
    "    \"\"\"\n",
    "    Generate pivot tables from data after cleaning and outlier removal \n",
    "    Organizes data such that for each rounded actual depth the following is calulated:\n",
    "    - average depth estimation\n",
    "    - standard deviation\n",
    "    - standard error \n",
    "    \"\"\"\n",
    "\n",
    "    ###### CREATE DF WITH DATA STATISTICS AFTER OUTLIER REMOVAL ######\n",
    "    avg = pd.pivot_table(data,  values = [\"depth_estimate\"], columns=['actual_depth'], aggfunc=np.mean)\n",
    "    avg.reset_index()\n",
    "    avg_renamed = avg.rename(index={'depth_estimate': 'Average Estimated Depth'})\n",
    "        \n",
    "    std = pd.pivot_table(data, values = [\"depth_estimate\"], columns = [\"actual_depth\"], aggfunc = np.std)\n",
    "    #note - std is normalized byN-1 by default (ddof parameter = 1 by default)\n",
    "    std.reset_index()\n",
    "    std_renamed = std.rename(index={'depth_estimate': 'Standard Deviation'})\n",
    "        \n",
    "    sem = pd.pivot_table(data, values = [\"depth_estimate\"], columns = [\"actual_depth\"], aggfunc = 'sem')\n",
    "    sem.reset_index()\n",
    "    sem_renamed = sem.rename(index={'depth_estimate': 'Standard Error'})\n",
    "        \n",
    "    frames = [avg_renamed, std_renamed, sem_renamed] #list of pivot tables for a given duration\n",
    "    result = pd.concat(frames) #merge the pivot tables for a given duration \n",
    "    result = result.T #transpose \n",
    "        \n",
    "    #Label the data by duration \n",
    "    result[\"Duration\"] = duration\n",
    "    \n",
    "    return result\n",
    "\n",
    "def subject_getxy(data):\n",
    "    \"\"\"\n",
    "    Extracts the data from the dataframes to a list format for plotting. \n",
    "    \"\"\"\n",
    "    x = []\n",
    "    y = []\n",
    "    ste = []\n",
    "    for idx, row in data.iterrows():\n",
    "        x.append(idx) #idx is the actual depth value \n",
    "            \n",
    "        estim_avg = row[\"Average Estimated Depth\"]\n",
    "        y.append(estim_avg)\n",
    "            \n",
    "        standard_error = row[\"Standard Error\"]\n",
    "        ste.append(standard_error)\n",
    "   \n",
    "    return x, y, ste \n"
   ]
  },
  {
   "cell_type": "code",
   "execution_count": 32,
   "metadata": {},
   "outputs": [],
   "source": [
    "def AnovaRM_subjectData(df, durations):\n",
    "    \"\"\"\n",
    "    Analyze data by each subject \n",
    "    Returns list of data by subject\n",
    "    \"\"\"\n",
    "    \n",
    "    all_subjIDs = df.subjID.unique()\n",
    "    subj_slopes = {'subjID': [], 'duration': [], 'slope': [], 'age': []}\n",
    "    subj_intercepts = {'subjID': [], 'duration': [], 'intercept' : [], 'age': []}\n",
    "\n",
    "    for subj in all_subjIDs:\n",
    "        subj_df = df.loc[df['subjID'] == subj] \n",
    "        for duration in durations:\n",
    "            duration_subj_df = subj_df\n",
    "            duration_subj_pivot = subject_pivotTable(duration_subj_df, duration)\n",
    "            duration_subj_data = subject_getxy(duration_subj_pivot)\n",
    "\n",
    "            x = np.array(duration_subj_data[0])\n",
    "            y = np.array(duration_subj_data[1])\n",
    "            slope, intercept, r_value, p_value, std_err = stats.linregress(x, y)\n",
    "            subj_slopes['subjID'].append(subj)\n",
    "            subj_slopes['duration'].append(duration)\n",
    "            subj_slopes['slope'].append(slope)\n",
    "            subj_slopes['age'].append(duration_subj_df.age.unique()[0])\n",
    "            \n",
    "            subj_intercepts['subjID'].append(subj)\n",
    "            subj_intercepts['duration'].append(duration)            \n",
    "            subj_intercepts['intercept'].append(intercept)\n",
    "            subj_intercepts['age'].append(duration_subj_df.age.unique()[0])\n",
    "                \n",
    "    slope_df = pd.DataFrame(data=subj_slopes)\n",
    "    intercept_df = pd.DataFrame(data=subj_intercepts)\n",
    "        \n",
    "    return slope_df, intercept_df\n"
   ]
  },
  {
   "cell_type": "code",
   "execution_count": 33,
   "metadata": {},
   "outputs": [],
   "source": [
    "final_data_250 = final_data.loc[final_data[\"duration\"]  == 250]\n",
    "final_data_1000 = final_data.loc[final_data[\"duration\"]  == 1000]"
   ]
  },
  {
   "cell_type": "code",
   "execution_count": 34,
   "metadata": {},
   "outputs": [],
   "source": [
    "slopes_250, df_intercept_250 = AnovaRM_subjectData(final_data_250, [250])\n",
    "slopes_1000, df_intercept_1000 = AnovaRM_subjectData(final_data_1000, [1000])\n",
    "\n"
   ]
  },
  {
   "cell_type": "markdown",
   "metadata": {},
   "source": [
    "### Duration x Avg Participant Slope"
   ]
  },
  {
   "cell_type": "code",
   "execution_count": 35,
   "metadata": {},
   "outputs": [
    {
     "data": {
      "image/png": "[encoded data removed]",
      "text/plain": [
       "<Figure size 576x432 with 1 Axes>"
      ]
     },
     "metadata": {
      "needs_background": "light"
     },
     "output_type": "display_data"
    }
   ],
   "source": [
    "avg_slope_250 = np.mean(np.array(slopes_250['slope']))\n",
    "ste_avg_slope_250 = stats.sem(np.array(slopes_250['slope']))\n",
    "\n",
    "avg_slope_1000 = np.mean(np.array(slopes_1000['slope']))\n",
    "ste_avg_slope_1000 = stats.sem(np.array(slopes_1000['slope']))\n",
    "\n",
    "avg_stes = [ste_avg_slope_250, ste_avg_slope_250, ste_avg_slope_1000, ste_avg_slope_1000]\n",
    "avgslopes = [avg_slope_250, 0.58, 0.6, avg_slope_1000]\n",
    "xAxis = ['250', '500', '750', '1000']\n",
    "plt.figure(figsize = [8, 6])\n",
    "plt.plot(xAxis,avgslopes, color=\"black\")\n",
    "plt.errorbar(xAxis, avgslopes, yerr=avg_stes, elinewidth = 1, ecolor = \"gray\", fmt = 'or', mfc = \"black\", mec = \"red\", capsize = 3)\n",
    "\n",
    "plt.xlabel('Duration', fontsize=16)\n",
    "plt.ylabel('Average Participant Slope', fontsize=16)\n",
    "# plt.title(\"Linear Model Slopes by Duration\", fontsize = 20)\n",
    "\n",
    "plt.show()"
   ]
  },
  {
   "cell_type": "code",
   "execution_count": 36,
   "metadata": {},
   "outputs": [
    {
     "data": {
      "text/plain": [
       "(0.49073422398265437, 0.5775054908563145)"
      ]
     },
     "execution_count": 36,
     "metadata": {},
     "output_type": "execute_result"
    }
   ],
   "source": [
    "avg_slope_250, avg_slope_1000"
   ]
  },
  {
   "cell_type": "markdown",
   "metadata": {},
   "source": [
    "#### Distribution of Participant Average Estimates"
   ]
  },
  {
   "cell_type": "code",
   "execution_count": 37,
   "metadata": {},
   "outputs": [],
   "source": [
    "all_subjIDs = final_data.subjID.unique()\n",
    "avgs = []\n",
    "for subj in all_subjIDs:\n",
    "    subj_df = final_data.loc[final_data['subjID'] == subj]\n",
    "    subj_avg = np.array(subj_df['depth_estimate']).mean()\n",
    "    avgs.append(subj_avg)\n",
    "    if subj_avg > 11:\n",
    "        print(subj)\n",
    "    \n",
    "# 9-6-2021_6-48-58_485648.csv\n",
    "# 9-6-2021_7-13-44_277612.csv\n",
    "# 9-6-2021_7-48-11_153554.csv"
   ]
  },
  {
   "cell_type": "code",
   "execution_count": 38,
   "metadata": {},
   "outputs": [
    {
     "data": {
      "image/png": "[encoded data removed]",
      "text/plain": [
       "<Figure size 576x432 with 1 Axes>"
      ]
     },
     "metadata": {
      "needs_background": "light"
     },
     "output_type": "display_data"
    }
   ],
   "source": [
    "plt.figure(figsize = [8,6])\n",
    "plt.title(\"Distribution of Participant Average Depth Estimations\", fontsize = 15)\n",
    "plt.ylabel(\"count\", fontsize = 12)\n",
    "plt.xlabel(\"Average Depth Estimate (meters)\", fontsize = 12)\n",
    "_, bins, _ = plt.hist(avgs, 50, density=1, alpha=0.6, color = 'black')\n",
    "mu, sigma = scipy.stats.norm.fit(avgs)\n",
    "best_fit_line = scipy.stats.norm.pdf(bins, mu, sigma)\n",
    "# plt.plot(bins, best_fit_line, color = 'orange')\n",
    "\n",
    "plt.show()"
   ]
  },
  {
   "cell_type": "markdown",
   "metadata": {},
   "source": [
    "### Data split by duration"
   ]
  },
  {
   "cell_type": "code",
   "execution_count": 39,
   "metadata": {},
   "outputs": [],
   "source": [
    "data_250ms = final_data[final_data['duration'] == 250]\n",
    "data_1000ms = final_data[final_data['duration'] == 1000]\n",
    "\n",
    "duration_data = [data_250ms, data_1000ms]\n",
    "\n",
    "n_data_250ms = normalized_data[normalized_data['duration'] == 250]\n",
    "n_data_1000ms = normalized_data[normalized_data['duration'] == 1000]\n",
    "\n",
    "normalized_duration_data = [n_data_250ms, n_data_1000ms]\n"
   ]
  },
  {
   "cell_type": "code",
   "execution_count": 36,
   "metadata": {
    "collapsed": true,
    "jupyter": {
     "outputs_hidden": true
    }
   },
   "outputs": [
    {
     "ename": "FileNotFoundError",
     "evalue": "[Errno 2] No such file or directory: '/Users/prachimahableshwarkar/Documents/GW/Depth_MTurk/depth_duration_analysis/TAC_data/matched/raw_250_data.csv'",
     "output_type": "error",
     "traceback": [
      "\u001b[0;31m---------------------------------------------------------------------------\u001b[0m",
      "\u001b[0;31mFileNotFoundError\u001b[0m                         Traceback (most recent call last)",
      "\u001b[0;32m<ipython-input-36-16d99d907a40>\u001b[0m in \u001b[0;36m<module>\u001b[0;34m\u001b[0m\n\u001b[1;32m      3\u001b[0m \u001b[0;34m\u001b[0m\u001b[0m\n\u001b[1;32m      4\u001b[0m \u001b[0;32mfor\u001b[0m \u001b[0mi\u001b[0m \u001b[0;32min\u001b[0m \u001b[0mrange\u001b[0m\u001b[0;34m(\u001b[0m\u001b[0mlen\u001b[0m\u001b[0;34m(\u001b[0m\u001b[0mduration_data\u001b[0m\u001b[0;34m)\u001b[0m\u001b[0;34m)\u001b[0m\u001b[0;34m:\u001b[0m\u001b[0;34m\u001b[0m\u001b[0m\n\u001b[0;32m----> 5\u001b[0;31m     \u001b[0mduration_data\u001b[0m\u001b[0;34m[\u001b[0m\u001b[0mi\u001b[0m\u001b[0;34m]\u001b[0m\u001b[0;34m.\u001b[0m\u001b[0mto_csv\u001b[0m\u001b[0;34m(\u001b[0m\u001b[0mdest\u001b[0m \u001b[0;34m+\u001b[0m \u001b[0;34m'raw_'\u001b[0m \u001b[0;34m+\u001b[0m \u001b[0mdurations\u001b[0m\u001b[0;34m[\u001b[0m\u001b[0mi\u001b[0m\u001b[0;34m]\u001b[0m \u001b[0;34m+\u001b[0m \u001b[0;34m'_data.csv'\u001b[0m \u001b[0;34m,\u001b[0m \u001b[0mindex\u001b[0m\u001b[0;34m=\u001b[0m\u001b[0;32mTrue\u001b[0m\u001b[0;34m)\u001b[0m\u001b[0;34m\u001b[0m\u001b[0m\n\u001b[0m\u001b[1;32m      6\u001b[0m     \u001b[0mnormalized_duration_data\u001b[0m\u001b[0;34m[\u001b[0m\u001b[0mi\u001b[0m\u001b[0;34m]\u001b[0m\u001b[0;34m.\u001b[0m\u001b[0mto_csv\u001b[0m\u001b[0;34m(\u001b[0m\u001b[0mdest\u001b[0m \u001b[0;34m+\u001b[0m \u001b[0;34m'normalized_'\u001b[0m \u001b[0;34m+\u001b[0m \u001b[0mdurations\u001b[0m\u001b[0;34m[\u001b[0m\u001b[0mi\u001b[0m\u001b[0;34m]\u001b[0m \u001b[0;34m+\u001b[0m \u001b[0;34m'_data.csv'\u001b[0m \u001b[0;34m,\u001b[0m \u001b[0mindex\u001b[0m\u001b[0;34m=\u001b[0m\u001b[0;32mTrue\u001b[0m\u001b[0;34m)\u001b[0m\u001b[0;34m\u001b[0m\u001b[0m\n",
      "\u001b[0;32m~/Documents/depth_duration/experiment/lib/python3.6/site-packages/pandas/core/generic.py\u001b[0m in \u001b[0;36mto_csv\u001b[0;34m(self, path_or_buf, sep, na_rep, float_format, columns, header, index, index_label, mode, encoding, compression, quoting, quotechar, line_terminator, chunksize, date_format, doublequote, escapechar, decimal, errors)\u001b[0m\n\u001b[1;32m   3165\u001b[0m             \u001b[0mdecimal\u001b[0m\u001b[0;34m=\u001b[0m\u001b[0mdecimal\u001b[0m\u001b[0;34m,\u001b[0m\u001b[0;34m\u001b[0m\u001b[0m\n\u001b[1;32m   3166\u001b[0m         )\n\u001b[0;32m-> 3167\u001b[0;31m         \u001b[0mformatter\u001b[0m\u001b[0;34m.\u001b[0m\u001b[0msave\u001b[0m\u001b[0;34m(\u001b[0m\u001b[0;34m)\u001b[0m\u001b[0;34m\u001b[0m\u001b[0m\n\u001b[0m\u001b[1;32m   3168\u001b[0m \u001b[0;34m\u001b[0m\u001b[0m\n\u001b[1;32m   3169\u001b[0m         \u001b[0;32mif\u001b[0m \u001b[0mpath_or_buf\u001b[0m \u001b[0;32mis\u001b[0m \u001b[0;32mNone\u001b[0m\u001b[0;34m:\u001b[0m\u001b[0;34m\u001b[0m\u001b[0m\n",
      "\u001b[0;32m~/Documents/depth_duration/experiment/lib/python3.6/site-packages/pandas/io/formats/csvs.py\u001b[0m in \u001b[0;36msave\u001b[0;34m(self)\u001b[0m\n\u001b[1;32m    188\u001b[0m                 \u001b[0mencoding\u001b[0m\u001b[0;34m=\u001b[0m\u001b[0mself\u001b[0m\u001b[0;34m.\u001b[0m\u001b[0mencoding\u001b[0m\u001b[0;34m,\u001b[0m\u001b[0;34m\u001b[0m\u001b[0m\n\u001b[1;32m    189\u001b[0m                 \u001b[0merrors\u001b[0m\u001b[0;34m=\u001b[0m\u001b[0mself\u001b[0m\u001b[0;34m.\u001b[0m\u001b[0merrors\u001b[0m\u001b[0;34m,\u001b[0m\u001b[0;34m\u001b[0m\u001b[0m\n\u001b[0;32m--> 190\u001b[0;31m                 \u001b[0mcompression\u001b[0m\u001b[0;34m=\u001b[0m\u001b[0mdict\u001b[0m\u001b[0;34m(\u001b[0m\u001b[0mself\u001b[0m\u001b[0;34m.\u001b[0m\u001b[0mcompression_args\u001b[0m\u001b[0;34m,\u001b[0m \u001b[0mmethod\u001b[0m\u001b[0;34m=\u001b[0m\u001b[0mself\u001b[0m\u001b[0;34m.\u001b[0m\u001b[0mcompression\u001b[0m\u001b[0;34m)\u001b[0m\u001b[0;34m,\u001b[0m\u001b[0;34m\u001b[0m\u001b[0m\n\u001b[0m\u001b[1;32m    191\u001b[0m             )\n\u001b[1;32m    192\u001b[0m             \u001b[0mclose\u001b[0m \u001b[0;34m=\u001b[0m \u001b[0;32mTrue\u001b[0m\u001b[0;34m\u001b[0m\u001b[0m\n",
      "\u001b[0;32m~/Documents/depth_duration/experiment/lib/python3.6/site-packages/pandas/io/common.py\u001b[0m in \u001b[0;36mget_handle\u001b[0;34m(path_or_buf, mode, encoding, compression, memory_map, is_text, errors)\u001b[0m\n\u001b[1;32m    491\u001b[0m         \u001b[0;32mif\u001b[0m \u001b[0mencoding\u001b[0m\u001b[0;34m:\u001b[0m\u001b[0;34m\u001b[0m\u001b[0m\n\u001b[1;32m    492\u001b[0m             \u001b[0;31m# Encoding\u001b[0m\u001b[0;34m\u001b[0m\u001b[0;34m\u001b[0m\u001b[0m\n\u001b[0;32m--> 493\u001b[0;31m             \u001b[0mf\u001b[0m \u001b[0;34m=\u001b[0m \u001b[0mopen\u001b[0m\u001b[0;34m(\u001b[0m\u001b[0mpath_or_buf\u001b[0m\u001b[0;34m,\u001b[0m \u001b[0mmode\u001b[0m\u001b[0;34m,\u001b[0m \u001b[0mencoding\u001b[0m\u001b[0;34m=\u001b[0m\u001b[0mencoding\u001b[0m\u001b[0;34m,\u001b[0m \u001b[0merrors\u001b[0m\u001b[0;34m=\u001b[0m\u001b[0merrors\u001b[0m\u001b[0;34m,\u001b[0m \u001b[0mnewline\u001b[0m\u001b[0;34m=\u001b[0m\u001b[0;34m\"\"\u001b[0m\u001b[0;34m)\u001b[0m\u001b[0;34m\u001b[0m\u001b[0m\n\u001b[0m\u001b[1;32m    494\u001b[0m         \u001b[0;32melif\u001b[0m \u001b[0mis_text\u001b[0m\u001b[0;34m:\u001b[0m\u001b[0;34m\u001b[0m\u001b[0m\n\u001b[1;32m    495\u001b[0m             \u001b[0;31m# No explicit encoding\u001b[0m\u001b[0;34m\u001b[0m\u001b[0;34m\u001b[0m\u001b[0m\n",
      "\u001b[0;31mFileNotFoundError\u001b[0m: [Errno 2] No such file or directory: '/Users/prachimahableshwarkar/Documents/GW/Depth_MTurk/depth_duration_analysis/TAC_data/matched/raw_250_data.csv'"
     ]
    }
   ],
   "source": [
    "dest = '/Users/prachimahableshwarkar/Documents/GW/Depth_MTurk/depth_duration_analysis/TAC_data/matched/'\n",
    "durations = ['250', '1000']\n",
    "\n",
    "for i in range(len(duration_data)):  \n",
    "    duration_data[i].to_csv(dest + 'raw_' + durations[i] + '_data.csv' , index=True)\n",
    "    normalized_duration_data[i].to_csv(dest + 'normalized_' + durations[i] + '_data.csv' , index=True)"
   ]
  },
  {
   "cell_type": "markdown",
   "metadata": {},
   "source": [
    "# Individual Target Results\n"
   ]
  },
  {
   "cell_type": "code",
   "execution_count": 40,
   "metadata": {},
   "outputs": [],
   "source": [
    "def trial_pivotTable(data):\n",
    "    \"\"\"\n",
    "    Generate pivot tables from data after cleaning and outlier removal \n",
    "    Organizes data such that for each individual target (stimulus) the following is calulated:\n",
    "    - average depth estimation\n",
    "    - standard deviation\n",
    "    - standard error \n",
    "    \"\"\"\n",
    "    \n",
    "    avg_tables = []\n",
    "    std_tables = []\n",
    "    result_tables = []\n",
    "    cond = 0\n",
    "    ###### CREATE DF WITH DATA STATISTICS AFTER OUTLIER REMOVAL ######\n",
    "    for duration in data: #generate pivot tables for data statistics (avg, std, sem)\n",
    "        actual = pd.pivot_table(duration,  values = [\"actual_depth\"], columns=['stimulus'], aggfunc=np.mean)\n",
    "        actual.reset_index()\n",
    "        actual_renamed = actual.rename(index={'actual_depth': 'Actual Depth'})\n",
    "        \n",
    "        avg = pd.pivot_table(duration,  values = [\"depth_estimate\"], columns=['stimulus'], aggfunc=np.mean)\n",
    "        avg.reset_index()\n",
    "        avg_renamed = avg.rename(index={'depth_estimate': 'Average Estimated Depth'})\n",
    "        \n",
    "        std = pd.pivot_table(duration, values = [\"depth_estimate\"], columns = [\"stimulus\"], aggfunc = np.std)\n",
    "        #note - std is normalized byN-1 by default (ddof parameter = 1 by default)\n",
    "        std.reset_index()\n",
    "        std_renamed = std.rename(index={'depth_estimate': 'Standard Deviation'})\n",
    "        \n",
    "        sem = pd.pivot_table(duration, values = [\"depth_estimate\"], columns = [\"stimulus\"], aggfunc = 'sem')\n",
    "        sem.reset_index()\n",
    "        sem_renamed = sem.rename(index={'depth_estimate': 'Standard Error'})\n",
    "        \n",
    "        frames = [avg_renamed, std_renamed, sem_renamed, actual_renamed] #list of pivot tables for a given duration\n",
    "        result = pd.concat(frames) #merge the pivot tables for a given duration \n",
    "        result = result.T #transpose \n",
    "        result = result.sort_values(by=['Actual Depth'])\n",
    "\n",
    "        #Label the data by duration based on condition counter (cond)\n",
    "        if cond == 0:\n",
    "            result[\"Duration\"] = 250\n",
    "        if cond == 1:\n",
    "            result[\"Duration\"] = 500\n",
    "        if cond == 2:\n",
    "            result[\"Duration\"] = 750\n",
    "        if cond == 3:\n",
    "            result[\"Duration\"] = 1000\n",
    "        \n",
    "        avg_tables.append(avg_renamed) #created for reference (not used in code)\n",
    "        std_tables.append(std_renamed) #created for reference (not used in code)\n",
    "        result_tables.append(result) #list of results for all durations \n",
    "        cond += 1 \n",
    "        \n",
    "    \n",
    "    return result_tables"
   ]
  },
  {
   "cell_type": "code",
   "execution_count": 41,
   "metadata": {},
   "outputs": [],
   "source": [
    "raw_trial_pivot = trial_pivotTable(duration_data)\n",
    "normalized_trial_pivot = trial_pivotTable(normalized_duration_data)"
   ]
  },
  {
   "cell_type": "code",
   "execution_count": 130,
   "metadata": {},
   "outputs": [
    {
     "data": {
      "text/plain": [
       "pandas.core.series.Series"
      ]
     },
     "execution_count": 130,
     "metadata": {},
     "output_type": "execute_result"
    }
   ],
   "source": [
    "type(raw_trial_pivot[0]['Average Estimated Depth'])"
   ]
  },
  {
   "cell_type": "code",
   "execution_count": 118,
   "metadata": {},
   "outputs": [],
   "source": [
    "# raw_trial_pivot[0].loc[raw_trial_pivot[0]['stimulus'] == s0]"
   ]
  },
  {
   "cell_type": "code",
   "execution_count": 42,
   "metadata": {},
   "outputs": [],
   "source": [
    "def trial_getxy(data):\n",
    "    \"\"\"\n",
    "    Extracts the data from the dataframes to a list format for plotting. \n",
    "    Args:\n",
    "        df = [250, 500, 750, 1000]\n",
    "        These data frames are POST all outlier cleaning. \n",
    "        \n",
    "    Returns:\n",
    "        actualdepths = [x_250, x_500, x_750, x_1000]\n",
    "        xs = [list of individual targets]\n",
    "        ys = [y_250, y_500, y_750, y_100]\n",
    "        stes = [ste_250, ste_500, ste_750, ste_1000]\n",
    "        \n",
    "    \"\"\"\n",
    "    xs = []\n",
    "    ys = []\n",
    "    stes = []\n",
    "    stds = []\n",
    "    actualdepths = []\n",
    "    for table in data:\n",
    "        x = []\n",
    "        y = []\n",
    "        ste = []\n",
    "        std = []\n",
    "        depths = []\n",
    "        for idx, row in table.iterrows():\n",
    "            \n",
    "            x.append(idx) #idx is the target (stimulus path)\n",
    "            \n",
    "            estim_avg = row[\"Average Estimated Depth\"]\n",
    "            y.append(estim_avg)\n",
    "            \n",
    "            standard_error = row[\"Standard Error\"]\n",
    "            ste.append(standard_error)\n",
    "            \n",
    "            depth = row[\"Actual Depth\"]\n",
    "            depths.append(depth)\n",
    "            \n",
    "            standard_deviation = row[\"Standard Deviation\"]\n",
    "            std.append(standard_deviation)       \n",
    "            \n",
    "        xs.append(x)\n",
    "        ys.append(y)\n",
    "        stes.append(ste)\n",
    "        actualdepths.append(depths)\n",
    "        stds.append(std)\n",
    "\n",
    "    return xs, ys, stes, actualdepths, stds"
   ]
  },
  {
   "cell_type": "code",
   "execution_count": 43,
   "metadata": {},
   "outputs": [],
   "source": [
    "trial_raw_final = trial_getxy(raw_trial_pivot)\n",
    "trial_normalized_final = trial_getxy(normalized_trial_pivot)"
   ]
  },
  {
   "cell_type": "markdown",
   "metadata": {},
   "source": [
    "### Raw Data"
   ]
  },
  {
   "cell_type": "code",
   "execution_count": 44,
   "metadata": {},
   "outputs": [],
   "source": [
    "trial_plot_data = trial_raw_final\n",
    "\n",
    "## Execute this cell to prep for plotting\n",
    "final_x_250 = trial_plot_data[0][0]\n",
    "final_y_250 = trial_plot_data[1][0]\n",
    "ste_250 = trial_plot_data[2][0]\n",
    "stim_250 = trial_plot_data[3][0]\n",
    "std_250 = trial_plot_data[4][0]\n",
    "\n",
    "\n",
    "final_x_1000 = trial_plot_data[0][1]\n",
    "final_y_1000 = trial_plot_data[1][1]\n",
    "ste_1000 = trial_plot_data[2][1]\n",
    "stim_1000 = trial_plot_data[3][1]\n",
    "std_1000 = trial_plot_data[4][1]"
   ]
  },
  {
   "cell_type": "code",
   "execution_count": 51,
   "metadata": {},
   "outputs": [
    {
     "data": {
      "text/plain": [
       "('depth_duration_stimuli/000368_2014-06-09_15-53-01_260595134347_rgbf000155-resize_2/000368_2014-06-09_15-53-01_260595134347_rgbf000155-resize_2-target.png',\n",
       " 2.4860000000000015,\n",
       " 1.5552549019607849)"
      ]
     },
     "execution_count": 51,
     "metadata": {},
     "output_type": "execute_result"
    }
   ],
   "source": [
    "final_x_250.index('depth_duration_stimuli/000368_2014-06-09_15-53-01_260595134347_rgbf000155-resize_2/000368_2014-06-09_15-53-01_260595134347_rgbf000155-resize_2-target.png')\n",
    "\n",
    "final_x_250[70], stim_250[70], final_y_250[70]"
   ]
  },
  {
   "cell_type": "code",
   "execution_count": 45,
   "metadata": {},
   "outputs": [
    {
     "name": "stdout",
     "output_type": "stream",
     "text": [
      "m: [0.48732363]\n",
      "b: 0.7053770550067895\n",
      "R-squared:  0.6620114256959317\n"
     ]
    },
    {
     "data": {
      "text/plain": [
       "0.662"
      ]
     },
     "execution_count": 45,
     "metadata": {},
     "output_type": "execute_result"
    },
    {
     "data": {
      "image/png": "[encoded data removed]",
      "text/plain": [
       "<Figure size 576x576 with 1 Axes>"
      ]
     },
     "metadata": {
      "needs_background": "light"
     },
     "output_type": "display_data"
    }
   ],
   "source": [
    "from sklearn.linear_model import LinearRegression\n",
    "\n",
    "plt.figure(figsize = [8,8])\n",
    "#run regression\n",
    "X_250 = np.array(stim_250).reshape(-1,1)\n",
    "y_250 = final_y_250\n",
    "reg_250 = LinearRegression().fit(X_250, y_250)\n",
    "\n",
    "#Generated Predictions\n",
    "y_predicted_250 = reg_250.predict(X_250)\n",
    "#Plot Our Actual and Predicted Values\n",
    "plt.plot(X_250, y_250, 'o', color='black', alpha = 0.5);\n",
    "plt.plot(X_250,y_predicted_250,color='chocolate', label = 'm = ' + str(round(reg_250.coef_[0], 3))\n",
    "         + '     r-squared = ' + str(round(float(reg_250.score(X_250, y_250)), 3)))\n",
    "plt.title(\"250 ms\", fontsize = 20)\n",
    "plt.xlabel(\"Actual Depth (m)\", fontsize = 15)\n",
    "plt.ylabel(\"Estimated Depth (m)\", fontsize = 15)\n",
    "plt.plot(X_250, X_250, label = \"Perfect Accuracy\", color = 'black',linestyle='--')  # solid\n",
    "plt.errorbar(X_250, y_250, yerr=ste_250, elinewidth = 1, ecolor = \"gray\", fmt = 'or', mfc = \"chocolate\", mec = \"chocolate\", capsize = 3)\n",
    "\n",
    "legend = plt.legend(loc = 0, fontsize = 13, borderpad = 0.6, labelspacing = 1)\n",
    "legend.get_frame().set_facecolor('lightgray')\n",
    "\n",
    "\n",
    "#get coefficients and y intercept\n",
    "print(\"m: {0}\".format(reg_250.coef_))\n",
    "print(\"b: {0}\".format(reg_250.intercept_))\n",
    "\n",
    "#Returns the coefficient of determination R^2 of the prediction.\n",
    "print(\"R-squared: \", reg_250.score(X_250, y_250))\n",
    "\n",
    "round(float(reg_250.score(X_250, y_250)), 3)"
   ]
  },
  {
   "cell_type": "code",
   "execution_count": null,
   "metadata": {},
   "outputs": [],
   "source": [
    "from sklearn.linear_model import LinearRegression\n",
    "\n",
    "plt.figure(figsize = [8,8])\n",
    "#run regression\n",
    "X_1000 = np.array(stim_1000).reshape(-1,1)\n",
    "y_1000 = final_y_1000\n",
    "reg_1000 = LinearRegression().fit(X_1000, y_1000)\n",
    "\n",
    "#Generated Predictions\n",
    "y_predicted_1000 = reg_1000.predict(X_1000)\n",
    "#Plot Our Actual and Predicted Values\n",
    "plt.plot(X_1000, y_1000, 'o', color='black', alpha = 0.7);\n",
    "plt.plot(X_1000,y_predicted_1000,color='darkviolet', label = 'm = ' + str(round(reg_1000.coef_[0], 3))\n",
    "         + '     r-squared = ' + str(round(float(reg_1000.score(X_1000, y_1000)), 3)))\n",
    "\n",
    "plt.title(\"1000 ms\", fontsize = 20)\n",
    "plt.xlabel(\"Actual Depth (m)\", fontsize = 15)\n",
    "plt.ylabel(\"Estimated Depth (m)\", fontsize = 15)\n",
    "plt.plot(X_1000, X_1000, label = \"Perfect Accuracy\", color = 'black',linestyle='--')  # solid\n",
    "plt.errorbar(X_1000, y_1000, yerr=ste_1000, elinewidth = 1, ecolor = \"gray\", fmt = 'or', mfc = \"darkviolet\", mec = \"darkviolet\", capsize = 3)\n",
    "\n",
    "\n",
    "legend = plt.legend(loc = 0, fontsize = 13, borderpad = 0.6, labelspacing = 1)\n",
    "legend.get_frame().set_facecolor('lightgray')\n",
    "\n",
    "\n",
    "\n",
    "#get coefficients and y intercept\n",
    "print(\"m: {0}\".format(reg_1000.coef_))\n",
    "print(\"b: {0}\".format(reg_1000.intercept_))\n",
    "\n",
    "#Returns the coefficient of determination R^2 of the prediction.\n",
    "print(\"R-squared: \", reg_1000.score(X_1000, y_1000))"
   ]
  },
  {
   "cell_type": "markdown",
   "metadata": {},
   "source": [
    "### Normalized"
   ]
  },
  {
   "cell_type": "code",
   "execution_count": null,
   "metadata": {},
   "outputs": [],
   "source": [
    "norm_trial_plot_data = trial_normalized_final\n",
    "\n",
    "## Execute this cell to prep for plotting\n",
    "n_final_x_250 = norm_trial_plot_data[0][0]\n",
    "n_final_y_250 = norm_trial_plot_data[1][0]\n",
    "n_ste_250 = norm_trial_plot_data[2][0]\n",
    "n_stim_250 = norm_trial_plot_data[3][0]\n",
    "n_std_250 = norm_trial_plot_data[4][0]\n",
    "\n",
    "n_final_x_1000 = norm_trial_plot_data[0][1]\n",
    "n_final_y_1000 = norm_trial_plot_data[1][1]\n",
    "n_ste_1000 = norm_trial_plot_data[2][1]\n",
    "n_stim_1000 = norm_trial_plot_data[3][1]\n",
    "n_std_1000 = norm_trial_plot_data[4][1]"
   ]
  },
  {
   "cell_type": "code",
   "execution_count": null,
   "metadata": {},
   "outputs": [],
   "source": []
  },
  {
   "cell_type": "code",
   "execution_count": null,
   "metadata": {},
   "outputs": [],
   "source": [
    "from sklearn.linear_model import LinearRegression\n",
    "\n",
    "plt.figure(figsize = [8,8])\n",
    "#run regression\n",
    "n_X_250 = np.array(stim_250).reshape(-1,1)\n",
    "n_y_250 = n_final_y_250\n",
    "n_reg_250 = LinearRegression().fit(n_X_250, n_y_250)\n",
    "\n",
    "#Generated Predictions\n",
    "n_y_predicted_250 = n_reg_250.predict(n_X_250)\n",
    "#Plot Our Actual and Predicted Values\n",
    "plt.plot(n_X_250, n_y_250, 'o', color='black', alpha = 0.5);\n",
    "plt.plot(n_X_250,n_y_predicted_250,color='chocolate', label = 'm = ' + str(round(n_reg_250.coef_[0], 3))\n",
    "         + '     r-squared = ' + str(round(float(n_reg_250.score(n_X_250, n_y_250)), 3)))\n",
    "plt.title(\"Normalized: 250 ms\", fontsize = 20)\n",
    "plt.xlabel(\"Actual Depth (m)\", fontsize = 15)\n",
    "plt.ylabel(\"Estimated Depth (m)\", fontsize = 15)\n",
    "plt.plot(n_X_250, n_X_250/average_depth_estimate, label = \"Perfect Accuracy\", color = 'black',linestyle='--')  # solid\n",
    "plt.errorbar(n_X_250, n_y_250, yerr=n_ste_250, elinewidth = 1, ecolor = \"gray\", fmt = 'or', mfc = \"chocolate\", mec = \"chocolate\", capsize = 3)\n",
    "\n",
    "legend = plt.legend(loc = 0, fontsize = 13, borderpad = 0.6, labelspacing = 1)\n",
    "legend.get_frame().set_facecolor('lightgray')\n",
    "\n",
    "\n",
    "#get coefficients and y intercept\n",
    "print(\"m: {0}\".format(n_reg_250.coef_))\n",
    "print(\"b: {0}\".format(n_reg_250.intercept_))\n",
    "\n",
    "#Returns the coefficient of determination R^2 of the prediction.\n",
    "print(\"R-squared: \", n_reg_250.score(n_X_250, n_y_250))\n",
    "\n",
    "round(float(n_reg_250.score(n_X_250, n_y_250)), 3)"
   ]
  },
  {
   "cell_type": "code",
   "execution_count": null,
   "metadata": {},
   "outputs": [],
   "source": [
    "from sklearn.linear_model import LinearRegression\n",
    "\n",
    "plt.figure(figsize = [8,8])\n",
    "#run regression\n",
    "n_X_1000 = np.array(n_stim_1000).reshape(-1,1)\n",
    "n_y_1000 = n_final_y_1000\n",
    "n_reg_1000 = LinearRegression().fit(n_X_1000, n_y_1000)\n",
    "\n",
    "#Generated Predictions\n",
    "n_y_predicted_1000 = n_reg_1000.predict(n_X_1000)\n",
    "#Plot Our Actual and Predicted Values\n",
    "plt.plot(n_X_1000, n_y_1000, 'o', color='black', alpha = 0.7);\n",
    "plt.plot(n_X_1000,n_y_predicted_1000,color='darkviolet', label = 'm = ' + str(round(n_reg_1000.coef_[0], 3))\n",
    "         + '     r-squared = ' + str(round(float(n_reg_1000.score(n_X_1000, n_y_1000)), 3)))\n",
    "\n",
    "plt.title(\"Normalized: 1000 ms\", fontsize = 20)\n",
    "plt.xlabel(\"Actual Depth (m)\", fontsize = 15)\n",
    "plt.ylabel(\"Estimated Depth (m)\", fontsize = 15)\n",
    "plt.plot(n_X_1000, n_X_1000/average_depth_estimate, label = \"Perfect Accuracy\", color = 'black',linestyle='--')  # solid\n",
    "plt.errorbar(n_X_1000, n_y_1000, yerr=n_ste_1000, elinewidth = 1, ecolor = \"gray\", fmt = 'or', mfc = \"darkviolet\", mec = \"darkviolet\", capsize = 3)\n",
    "\n",
    "\n",
    "legend = plt.legend(loc = 0, fontsize = 13, borderpad = 0.6, labelspacing = 1)\n",
    "legend.get_frame().set_facecolor('lightgray')\n",
    "\n",
    "\n",
    "\n",
    "#get coefficients and y intercept\n",
    "print(\"m: {0}\".format(n_reg_1000.coef_))\n",
    "print(\"b: {0}\".format(n_reg_1000.intercept_))\n",
    "\n",
    "#Returns the coefficient of determination R^2 of the prediction.\n",
    "print(\"R-squared: \", n_reg_1000.score(n_X_1000, n_y_1000))"
   ]
  },
  {
   "cell_type": "markdown",
   "metadata": {},
   "source": []
  },
  {
   "cell_type": "code",
   "execution_count": null,
   "metadata": {},
   "outputs": [],
   "source": [
    "# Save data arrays to a binary file in NumPy .npy format. \n",
    "\n",
    "n_destpath = '/Users/prachimahableshwarkar/Documents/GW/Depth_MTurk/depth_duration_analysis/TAC_npy_files/matchedVE/normalized/'\n",
    "\n",
    "with open(n_destpath + 'n_X_250.npy', 'wb') as f:\n",
    "    np.save(f, n_X_250)\n",
    "with open(n_destpath + 'n_final_y_250.npy', 'wb') as f:\n",
    "    np.save(f, n_final_y_250)\n",
    "    \n",
    "with open(n_destpath + 'n_X_1000.npy', 'wb') as f:\n",
    "    np.save(f, n_X_1000)\n",
    "with open(n_destpath + 'n_final_y_1000.npy', 'wb') as f:\n",
    "    np.save(f, n_final_y_1000)\n",
    "\n",
    "with open(n_destpath + 'n_std_250.npy', 'wb') as f:\n",
    "    np.save(f, n_std_250)\n",
    "    \n",
    "with open(n_destpath + 'n_std_1000.npy', 'wb') as f:\n",
    "    np.save(f, n_std_1000)\n",
    "    \n",
    "with open(n_destpath + 'n_ste_250.npy', 'wb') as f:\n",
    "    np.save(f, n_ste_250)\n",
    "    \n",
    "with open(n_destpath + 'n_ste_1000.npy', 'wb') as f:\n",
    "    np.save(f, n_ste_1000)\n",
    "\n",
    "with open(n_destpath + 'n_final_stim_250.npy', 'wb') as f:\n",
    "    np.save(f, n_final_x_250)\n",
    "\n",
    "with open(n_destpath + 'n_final_stim_1000.npy', 'wb') as f:\n",
    "    np.save(f, n_final_x_1000)"
   ]
  },
  {
   "cell_type": "code",
   "execution_count": null,
   "metadata": {},
   "outputs": [],
   "source": []
  },
  {
   "cell_type": "code",
   "execution_count": null,
   "metadata": {},
   "outputs": [],
   "source": []
  }
 ],
 "metadata": {
  "kernelspec": {
   "display_name": "Python 3",
   "language": "python",
   "name": "python3"
  },
  "language_info": {
   "codemirror_mode": {
    "name": "ipython",
    "version": 3
   },
   "file_extension": ".py",
   "mimetype": "text/x-python",
   "name": "python",
   "nbconvert_exporter": "python",
   "pygments_lexer": "ipython3",
   "version": "3.7.6"
  }
 },
 "nbformat": 4,
 "nbformat_minor": 4
}
