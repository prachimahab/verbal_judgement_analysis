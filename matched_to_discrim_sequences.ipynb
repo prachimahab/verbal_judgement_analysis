{
 "cells": [
  {
   "cell_type": "markdown",
   "metadata": {},
   "source": [
    "# VE Sequences Matched to Latin Square Discrimination Sequences\n",
    "\n",
    "Ref: https://github.com/prachimahab/depth_discrimination/blob/main/latin_square_discrim_sequences.ipynb\n"
   ]
  },
  {
   "cell_type": "code",
   "execution_count": 1,
   "metadata": {},
   "outputs": [],
   "source": [
    "import os\n",
    "import numpy as np \n",
    "import json "
   ]
  },
  {
   "cell_type": "code",
   "execution_count": 5,
   "metadata": {},
   "outputs": [],
   "source": [
    "# load discrimination sequences into dictionaries \n",
    "\n",
    "discrim_seqs = '/Users/prachi/Documents/depth_duration/depth_discrimination/discrimination_sequences/v2_randls_sequences'\n",
    "\n",
    "seqs_250 = {}\n",
    "seqs_1000 = {}\n",
    "\n",
    "\n",
    "for seq in os.listdir(discrim_seqs + '/250ms'):\n",
    "    if 'json' in seq:\n",
    "        with open(discrim_seqs + '/250ms/' + seq, 'r') as f:\n",
    "            discrim_seq = json.load(f)\n",
    "            seqs_250[seq] = discrim_seq\n",
    "        \n",
    "for seq in os.listdir(discrim_seqs + '/1000ms'):\n",
    "    if 'json' in seq:\n",
    "        with open(discrim_seqs + '/1000ms/' + seq, 'r') as f:\n",
    "            discrim_seq = json.load(f)  \n",
    "            seqs_1000[seq] = discrim_seq"
   ]
  },
  {
   "cell_type": "code",
   "execution_count": 8,
   "metadata": {},
   "outputs": [
    {
     "data": {
      "text/plain": [
       "{'sequence': 'j13',\n",
       " 'duration': 250,\n",
       " 'depth_0': 4.2115,\n",
       " 'depth_1': 3.753,\n",
       " 'image_path_target_0': 'depth_discrimination_stimuli/001133_2014-06-17_14-49-16_260595134347_rgbf000100-resize_0/001133_2014-06-17_14-49-16_260595134347_rgbf000100-resize_0-target.png',\n",
       " 'image_path_target_1': 'depth_discrimination_stimuli/001132_2014-06-17_14-48-54_260595134347_rgbf000100-resize_2/001132_2014-06-17_14-48-54_260595134347_rgbf000100-resize_2-target.png',\n",
       " 'mask_path': 'masks/mask_39.jpg',\n",
       " 'fixation_path': 'fixation.jpg'}"
      ]
     },
     "execution_count": 8,
     "metadata": {},
     "output_type": "execute_result"
    }
   ],
   "source": [
    "seqs_250['Discrim250_randls_0.json'][0]"
   ]
  },
  {
   "cell_type": "markdown",
   "metadata": {},
   "source": [
    "### Convert discrimination sequences to VE sequences"
   ]
  },
  {
   "cell_type": "code",
   "execution_count": 27,
   "metadata": {},
   "outputs": [
    {
     "data": {
      "text/plain": [
       "{'sequence': 'j13',\n",
       " 'duration': 250,\n",
       " 'depth_0': 4.2115,\n",
       " 'depth_1': 3.753,\n",
       " 'image_path_target_0': 'depth_discrimination_stimuli/001133_2014-06-17_14-49-16_260595134347_rgbf000100-resize_0/001133_2014-06-17_14-49-16_260595134347_rgbf000100-resize_0-target.png',\n",
       " 'image_path_target_1': 'depth_discrimination_stimuli/001132_2014-06-17_14-48-54_260595134347_rgbf000100-resize_2/001132_2014-06-17_14-48-54_260595134347_rgbf000100-resize_2-target.png',\n",
       " 'mask_path': 'masks/mask_39.jpg',\n",
       " 'fixation_path': 'fixation.jpg'}"
      ]
     },
     "execution_count": 27,
     "metadata": {},
     "output_type": "execute_result"
    }
   ],
   "source": [
    "test = seqs_250['Discrim250_randls_0.json']\n",
    "test[0]"
   ]
  },
  {
   "cell_type": "markdown",
   "metadata": {},
   "source": [
    "#### 250 ms"
   ]
  },
  {
   "cell_type": "code",
   "execution_count": 20,
   "metadata": {},
   "outputs": [],
   "source": [
    "VE_250_seqs = {}\n",
    "\n",
    "for key in seqs_250:\n",
    "    # define new VE seq list \n",
    "    corr_VE_seq_250 = []\n",
    "    # name for VE seq\n",
    "    sequence = 'VE' + key[7:]\n",
    "    num = 0\n",
    "    for trial in seqs_250[key]:\n",
    "        # trial 0\n",
    "        t0 = {}\n",
    "        t0['sequence'] = sequence\n",
    "        t0['image'] = trial['image_path_target_0'].split('/')[-1]\n",
    "        t0['duration'] = 250\n",
    "        t0['num'] = num\n",
    "        num += 1\n",
    "        t0['depth'] = trial['depth_0']\n",
    "        t0['image_path'] = 'depth_duration_stimuli/' + trial['image_path_target_0'].split('/')[1] + '-original.jpg'\n",
    "        t0['image_path_target'] = 'depth_duration_stimuli/' + trial['image_path_target_0'].split('/')[1] + '/' + trial['image_path_target_0'].split('/')[-1]\n",
    "        t0['mask_path'] = trial['mask_path']\n",
    "        t0['fixation_path'] = \"fixation.jpg\"\n",
    "        corr_VE_seq_250.append(t0)\n",
    "        # trial 1\n",
    "        t1 = {}\n",
    "        t1['sequence'] = sequence\n",
    "        t1['image'] = trial['image_path_target_1'].split('/')[-1]\n",
    "        t1['duration'] = 250\n",
    "        t1['num'] = num\n",
    "        num += 1\n",
    "        t1['depth'] = trial['depth_1']\n",
    "        t1['image_path'] = 'depth_duration_stimuli/' + trial['image_path_target_1'].split('/')[1] + '-original.jpg'\n",
    "        t1['image_path_target'] = 'depth_duration_stimuli/' + trial['image_path_target_1'].split('/')[1] + '/' + trial['image_path_target_1'].split('/')[-1]\n",
    "        t1['mask_path'] = trial['mask_path']\n",
    "        t1['fixation_path'] = \"fixation.jpg\"\n",
    "        corr_VE_seq_250.append(t1)\n",
    "        \n",
    "    # at sequence to list of sequences    \n",
    "    VE_250_seqs[sequence] = corr_VE_seq_250\n",
    "        "
   ]
  },
  {
   "cell_type": "code",
   "execution_count": 22,
   "metadata": {},
   "outputs": [
    {
     "data": {
      "text/plain": [
       "[{'sequence': 'VE250_randls_0.json',\n",
       "  'image': '001133_2014-06-17_14-49-16_260595134347_rgbf000100-resize_0-target.png',\n",
       "  'duration': 250,\n",
       "  'num': 0,\n",
       "  'depth': 4.2115,\n",
       "  'image_path': 'depth_duration_stimuli/001133_2014-06-17_14-49-16_260595134347_rgbf000100-resize_0-original.jpg',\n",
       "  'image_path_target': 'depth_duration_stimuli/001133_2014-06-17_14-49-16_260595134347_rgbf000100-resize_0/001133_2014-06-17_14-49-16_260595134347_rgbf000100-resize_0-target.png',\n",
       "  'mask_path': 'masks/mask_39.jpg',\n",
       "  'fixation_path': 'fixation.jpg'},\n",
       " {'sequence': 'VE250_randls_0.json',\n",
       "  'image': '001132_2014-06-17_14-48-54_260595134347_rgbf000100-resize_2-target.png',\n",
       "  'duration': 250,\n",
       "  'num': 1,\n",
       "  'depth': 3.753,\n",
       "  'image_path': 'depth_duration_stimuli/001132_2014-06-17_14-48-54_260595134347_rgbf000100-resize_2-original.jpg',\n",
       "  'image_path_target': 'depth_duration_stimuli/001132_2014-06-17_14-48-54_260595134347_rgbf000100-resize_2/001132_2014-06-17_14-48-54_260595134347_rgbf000100-resize_2-target.png',\n",
       "  'mask_path': 'masks/mask_39.jpg',\n",
       "  'fixation_path': 'fixation.jpg'}]"
      ]
     },
     "execution_count": 22,
     "metadata": {},
     "output_type": "execute_result"
    }
   ],
   "source": [
    "VE_250_seqs['VE250_randls_0.json'][:2]"
   ]
  },
  {
   "cell_type": "code",
   "execution_count": 24,
   "metadata": {},
   "outputs": [
    {
     "data": {
      "text/plain": [
       "{'sequence': 'j13',\n",
       " 'duration': 250,\n",
       " 'depth_0': 4.2115,\n",
       " 'depth_1': 3.753,\n",
       " 'image_path_target_0': 'depth_discrimination_stimuli/001133_2014-06-17_14-49-16_260595134347_rgbf000100-resize_0/001133_2014-06-17_14-49-16_260595134347_rgbf000100-resize_0-target.png',\n",
       " 'image_path_target_1': 'depth_discrimination_stimuli/001132_2014-06-17_14-48-54_260595134347_rgbf000100-resize_2/001132_2014-06-17_14-48-54_260595134347_rgbf000100-resize_2-target.png',\n",
       " 'mask_path': 'masks/mask_39.jpg',\n",
       " 'fixation_path': 'fixation.jpg'}"
      ]
     },
     "execution_count": 24,
     "metadata": {},
     "output_type": "execute_result"
    }
   ],
   "source": [
    "seqs_250['Discrim250_randls_0.json'][0]"
   ]
  },
  {
   "cell_type": "code",
   "execution_count": 26,
   "metadata": {},
   "outputs": [],
   "source": [
    "# save sequences as jsons \n",
    "dest_250 = '/Users/prachi/Documents/depth_duration/depth_duration_analysis/matched_sequences/250ms/'\n",
    "\n",
    "for key in VE_250_seqs:\n",
    "    dest = dest_250 + key\n",
    "    #creates json file for the sequence \n",
    "    with open(dest, 'w') as f:\n",
    "        json.dump(VE_250_seqs[key] , f)"
   ]
  },
  {
   "cell_type": "markdown",
   "metadata": {},
   "source": [
    "#### 1000 ms"
   ]
  },
  {
   "cell_type": "code",
   "execution_count": 28,
   "metadata": {},
   "outputs": [],
   "source": [
    "VE_1000_seqs = {}\n",
    "\n",
    "for key in seqs_1000:\n",
    "    # define new VE seq list \n",
    "    corr_VE_seq_1000 = []\n",
    "    # name for VE seq\n",
    "    sequence = 'VE' + key[7:]\n",
    "    num = 0\n",
    "    for trial in seqs_1000[key]:\n",
    "        # trial 0\n",
    "        t0 = {}\n",
    "        t0['sequence'] = sequence\n",
    "        t0['image'] = trial['image_path_target_0'].split('/')[-1]\n",
    "        t0['duration'] = 1000\n",
    "        t0['num'] = num\n",
    "        num += 1\n",
    "        t0['depth'] = trial['depth_0']\n",
    "        t0['image_path'] = 'depth_duration_stimuli/' + trial['image_path_target_0'].split('/')[1] + '-original.jpg'\n",
    "        t0['image_path_target'] = 'depth_duration_stimuli/' + trial['image_path_target_0'].split('/')[1] + '/' + trial['image_path_target_0'].split('/')[-1]\n",
    "        t0['mask_path'] = trial['mask_path']\n",
    "        t0['fixation_path'] = \"fixation.jpg\"\n",
    "        corr_VE_seq_1000.append(t0)\n",
    "        # trial 1\n",
    "        t1 = {}\n",
    "        t1['sequence'] = sequence\n",
    "        t1['image'] = trial['image_path_target_1'].split('/')[-1]\n",
    "        t1['duration'] = 1000\n",
    "        t1['num'] = num\n",
    "        num += 1\n",
    "        t1['depth'] = trial['depth_1']\n",
    "        t1['image_path'] = 'depth_duration_stimuli/' + trial['image_path_target_1'].split('/')[1] + '-original.jpg'\n",
    "        t1['image_path_target'] = 'depth_duration_stimuli/' + trial['image_path_target_1'].split('/')[1] + '/' + trial['image_path_target_1'].split('/')[-1]\n",
    "        t1['mask_path'] = trial['mask_path']\n",
    "        t1['fixation_path'] = \"fixation.jpg\"\n",
    "        corr_VE_seq_1000.append(t1)\n",
    "        \n",
    "    # at sequence to list of sequences    \n",
    "    VE_1000_seqs[sequence] = corr_VE_seq_1000\n",
    "        "
   ]
  },
  {
   "cell_type": "code",
   "execution_count": 29,
   "metadata": {},
   "outputs": [
    {
     "data": {
      "text/plain": [
       "[{'sequence': 'VE1000_randls_0.json',\n",
       "  'image': '001133_2014-06-17_14-49-16_260595134347_rgbf000100-resize_0-target.png',\n",
       "  'duration': 1000,\n",
       "  'num': 0,\n",
       "  'depth': 4.2115,\n",
       "  'image_path': 'depth_duration_stimuli/001133_2014-06-17_14-49-16_260595134347_rgbf000100-resize_0-original.jpg',\n",
       "  'image_path_target': 'depth_duration_stimuli/001133_2014-06-17_14-49-16_260595134347_rgbf000100-resize_0/001133_2014-06-17_14-49-16_260595134347_rgbf000100-resize_0-target.png',\n",
       "  'mask_path': 'masks/mask_39.jpg',\n",
       "  'fixation_path': 'fixation.jpg'},\n",
       " {'sequence': 'VE1000_randls_0.json',\n",
       "  'image': '001132_2014-06-17_14-48-54_260595134347_rgbf000100-resize_2-target.png',\n",
       "  'duration': 1000,\n",
       "  'num': 1,\n",
       "  'depth': 3.753,\n",
       "  'image_path': 'depth_duration_stimuli/001132_2014-06-17_14-48-54_260595134347_rgbf000100-resize_2-original.jpg',\n",
       "  'image_path_target': 'depth_duration_stimuli/001132_2014-06-17_14-48-54_260595134347_rgbf000100-resize_2/001132_2014-06-17_14-48-54_260595134347_rgbf000100-resize_2-target.png',\n",
       "  'mask_path': 'masks/mask_39.jpg',\n",
       "  'fixation_path': 'fixation.jpg'}]"
      ]
     },
     "execution_count": 29,
     "metadata": {},
     "output_type": "execute_result"
    }
   ],
   "source": [
    "VE_1000_seqs['VE1000_randls_0.json'][:2]"
   ]
  },
  {
   "cell_type": "code",
   "execution_count": 30,
   "metadata": {},
   "outputs": [
    {
     "data": {
      "text/plain": [
       "{'sequence': 'j13',\n",
       " 'duration': 1000,\n",
       " 'depth_0': 4.2115,\n",
       " 'depth_1': 3.753,\n",
       " 'image_path_target_0': 'depth_discrimination_stimuli/001133_2014-06-17_14-49-16_260595134347_rgbf000100-resize_0/001133_2014-06-17_14-49-16_260595134347_rgbf000100-resize_0-target.png',\n",
       " 'image_path_target_1': 'depth_discrimination_stimuli/001132_2014-06-17_14-48-54_260595134347_rgbf000100-resize_2/001132_2014-06-17_14-48-54_260595134347_rgbf000100-resize_2-target.png',\n",
       " 'mask_path': 'masks/mask_39.jpg',\n",
       " 'fixation_path': 'fixation.jpg'}"
      ]
     },
     "execution_count": 30,
     "metadata": {},
     "output_type": "execute_result"
    }
   ],
   "source": [
    "seqs_1000['Discrim1000_randls_0.json'][0]"
   ]
  },
  {
   "cell_type": "code",
   "execution_count": 31,
   "metadata": {},
   "outputs": [],
   "source": [
    "# save sequences as jsons \n",
    "dest_1000 = '/Users/prachi/Documents/depth_duration/depth_duration_analysis/matched_sequences/1000ms/'\n",
    "\n",
    "for key in VE_1000_seqs:\n",
    "    dest = dest_1000 + key\n",
    "    #creates json file for the sequence \n",
    "    with open(dest, 'w') as f:\n",
    "        json.dump(VE_1000_seqs[key] , f)"
   ]
  },
  {
   "cell_type": "code",
   "execution_count": null,
   "metadata": {},
   "outputs": [],
   "source": []
  }
 ],
 "metadata": {
  "kernelspec": {
   "display_name": "Python 3",
   "language": "python",
   "name": "python3"
  },
  "language_info": {
   "codemirror_mode": {
    "name": "ipython",
    "version": 3
   },
   "file_extension": ".py",
   "mimetype": "text/x-python",
   "name": "python",
   "nbconvert_exporter": "python",
   "pygments_lexer": "ipython3",
   "version": "3.6.1"
  }
 },
 "nbformat": 4,
 "nbformat_minor": 4
}
