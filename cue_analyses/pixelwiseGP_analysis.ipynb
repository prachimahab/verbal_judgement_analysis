{
 "cells": [
  {
   "cell_type": "markdown",
   "metadata": {},
   "source": [
    "# Pixelwise Visible Ground Plane and Complete Ground Plane"
   ]
  },
  {
   "cell_type": "code",
   "execution_count": 1,
   "metadata": {},
   "outputs": [],
   "source": [
    "import os\n",
    "import numpy as np\n",
    "import pandas as pd\n",
    "import scipy\n",
    "import path \n",
    "from matplotlib import pyplot as plt\n",
    "import json\n",
    "from PIL import Image, ImageStat\n",
    "from sklearn.linear_model import LinearRegression\n",
    "from scipy import stats\n",
    "import math"
   ]
  },
  {
   "cell_type": "markdown",
   "metadata": {},
   "source": [
    "## Load VE Behavioral Data"
   ]
  },
  {
   "cell_type": "code",
<<<<<<< HEAD
   "execution_count": 3,
=======
   "execution_count": 2,
>>>>>>> 0d3dfe7d093369c11bcb755e59c287c21dca45d9
   "metadata": {},
   "outputs": [],
   "source": [
    "\n",
    "dpath = '/Users/prachimahableshwarkar/Documents/GW/Depth_MTurk/verbal_judgement_analysis/data/finalVEMatched/z_scored/'\n",
    "\n",
    "# dpath = '/Users/pmahableshwarkar/Documents/Depth_Project/verbal_judgement_analysis/data/finalVEMatched/z_scored/'\n",
    "\n",
    "# stim \n",
    "with open(dpath + 'z_final_stim_125.npy' , 'rb') as f:\n",
    "    stim_125 = np.load(f, allow_pickle=True)\n",
    "    \n",
    "with open(dpath + 'z_final_stim_250.npy' , 'rb') as f:\n",
    "    stim_250 = np.load(f, allow_pickle=True)\n",
    "\n",
    "with open(dpath + 'z_final_stim_1000.npy' , 'rb') as f:\n",
    "    stim_1000 = np.load(f, allow_pickle=True)\n",
    "    \n",
    "# std \n",
    "with open(dpath + 'z_std_125.npy' , 'rb') as f:\n",
    "    std_125 = np.load(f, allow_pickle=True)\n",
    "    \n",
    "with open(dpath + 'z_std_250.npy' , 'rb') as f:\n",
    "    std_250 = np.load(f, allow_pickle=True)\n",
    "\n",
    "with open(dpath + 'z_std_1000.npy' , 'rb') as f:\n",
    "    std_1000 = np.load(f, allow_pickle=True)\n",
    "\n",
    "# x data\n",
    "with open(dpath + 'X_125.npy' , 'rb') as f:\n",
    "    X_125 = np.load(f, allow_pickle=True)\n",
    "with open(dpath + 'X_250.npy' , 'rb') as f:\n",
    "    X_250 = np.load(f, allow_pickle=True)\n",
    "with open(dpath + 'X_1000.npy' , 'rb') as f:\n",
    "    X_1000 = np.load(f, allow_pickle=True)\n",
    "\n",
    "# y data \n",
    "with open(dpath + 'z_final_y_125.npy' , 'rb') as f:\n",
    "    y_125 = np.load(f, allow_pickle=True)\n",
    "with open(dpath + 'z_final_y_250.npy' , 'rb') as f:\n",
    "    y_250 = np.load(f, allow_pickle=True) \n",
    "with open(dpath + 'z_final_y_1000.npy' , 'rb') as f:\n",
    "    y_1000= np.load(f, allow_pickle=True)\n",
    "    \n",
    "# residuals\n",
    "with open(dpath + 'residuals/'+ 'z_residuals_125.npy' , 'rb') as f:\n",
    "    residuals_125 = np.load(f, allow_pickle=True)\n",
    "with open(dpath + 'residuals/'+ 'z_residuals_250.npy' , 'rb') as f:\n",
    "    residuals_250 = np.load(f, allow_pickle=True) \n",
    "with open(dpath + 'residuals/'+ 'z_residuals_1000.npy' , 'rb') as f:\n",
    "    residuals_1000= np.load(f, allow_pickle=True)\n",
    "    \n",
    "# difference between z-scored estimate and z-scored actual depth\n",
    "with open(dpath + '/diff_125.npy' , 'rb') as f:\n",
    "    diff_125 = np.load(f, allow_pickle=True)\n",
    "with open(dpath + '/diff_250.npy' , 'rb') as f:\n",
    "    diff_250 = np.load(f, allow_pickle=True) \n",
    "with open(dpath + '/diff_1000.npy' , 'rb') as f:\n",
    "    diff_1000= np.load(f, allow_pickle=True)\n",
    "    \n",
    "# difference between raw estimate and raw actual depth\n",
    "with open('/Users/prachimahableshwarkar/Documents/GW/Depth_MTurk/verbal_judgement_analysis/data/finalVEMatched/raw' + '/raw_diff_125.npy' , 'rb') as f:\n",
    "    raw_diff_125 = np.load(f, allow_pickle=True)\n",
    "with open('/Users/prachimahableshwarkar/Documents/GW/Depth_MTurk/verbal_judgement_analysis/data/finalVEMatched/raw' + '/raw_diff_250.npy' , 'rb') as f:\n",
    "    raw_diff_250 = np.load(f, allow_pickle=True) \n",
    "with open('/Users/prachimahableshwarkar/Documents/GW/Depth_MTurk/verbal_judgement_analysis/data/finalVEMatched/raw' + '/raw_diff_1000.npy' , 'rb') as f:\n",
    "    raw_diff_1000= np.load(f, allow_pickle=True)"
   ]
  },
  {
   "cell_type": "code",
   "execution_count": 4,
   "metadata": {},
   "outputs": [],
   "source": [
    "# stim_125"
   ]
  },
  {
   "cell_type": "markdown",
   "metadata": {},
   "source": [
    "## Load Discrimination Derived TD (target depth) data"
   ]
  },
  {
   "cell_type": "code",
   "execution_count": 48,
   "metadata": {},
   "outputs": [],
   "source": [
    "# dpath = '/Users/prachimahableshwarkar/Documents/GW/Depth_MTurk/depth_discrimination/data/finalDiscrimMatched/kinectCoded_discrimination/discrimination_derived_TD/'\n",
    "\n",
    "dpath = '/Users/pmahableshwarkar/Documents/Depth_Project/depth_discrimination/data/finalDiscrimMatched/kinectCoded_discrimination/discrimination_derived_TD/'\n",
    "\n",
    "with open(dpath + 'stim.npy' , 'rb') as f:\n",
    "    derivedTD_stim = np.load(f, allow_pickle=True)\n",
    "derivedTD_stim = [elem.split('/')[1][:-2] for elem in derivedTD_stim]\n",
    "\n",
    "    \n",
    "with open(dpath + 'derivedTD_125.npy' , 'rb') as f:\n",
    "    _derivedTD_125 = np.load(f, allow_pickle=True) \n",
    "with open(dpath + 'derivedTD_250.npy' , 'rb') as f:\n",
    "    _derivedTD_250 = np.load(f, allow_pickle=True) \n",
    "with open(dpath + 'derivedTD_1000.npy' , 'rb') as f:\n",
    "    _derivedTD_1000 = np.load(f, allow_pickle=True) \n",
    "    \n",
    "with open(dpath + 'residuals_derivedTD_125.npy' , 'rb') as f:\n",
    "    _residuals_derivedTD_125 = np.load(f, allow_pickle=True) \n",
    "with open(dpath + 'residuals_derivedTD_250.npy' , 'rb') as f:\n",
    "    _residuals_derivedTD_250 = np.load(f, allow_pickle=True) \n",
    "with open(dpath + 'residuals_derivedTD_1000.npy' , 'rb') as f:\n",
    "    _residuals_derivedTD_1000 = np.load(f, allow_pickle=True) \n",
    "    "
   ]
  },
  {
   "cell_type": "markdown",
   "metadata": {},
   "source": [
    "## Load Discrimination Derived VE  Data"
   ]
  },
  {
   "cell_type": "code",
   "execution_count": 49,
   "metadata": {},
   "outputs": [],
   "source": [
    "# dpath = '/Users/prachimahableshwarkar/Documents/GW/Depth_MTurk/depth_discrimination/data/finalDiscrimMatched/discrimination_derived_VE/'\n",
    "\n",
    "dpath = '/Users/pmahableshwarkar/Documents/Depth_Project/depth_discrimination/data/finalDiscrimMatched/discrimination_derived_VE/'\n",
    "\n",
    "with open(dpath + 'stimuli_125.npy' , 'rb') as f:\n",
    "    derivedVE_stim_125 = np.load(f, allow_pickle=True)\n",
    "derivedVE_stim_125 = [elem.split('/')[1][:-2] for elem in derivedVE_stim_125]\n",
    "\n",
    "with open(dpath + 'stimuli_250.npy' , 'rb') as f:\n",
    "    derivedVE_stim_250 = np.load(f, allow_pickle=True)\n",
    "derivedVE_stim_250 = [elem.split('/')[1][:-2] for elem in derivedVE_stim_250]\n",
    "\n",
    "with open(dpath + 'stimuli_1000.npy' , 'rb') as f:\n",
    "    derivedVE_stim_1000 = np.load(f, allow_pickle=True)\n",
    "derivedVE_stim_1000 = [elem.split('/')[1][:-2] for elem in derivedVE_stim_1000]\n",
    "\n",
    "    \n",
    "with open(dpath + 'derivedVE_125.npy' , 'rb') as f:\n",
    "    _derivedVE_125 = np.load(f, allow_pickle=True) \n",
    "with open(dpath + 'derivedVE_250.npy' , 'rb') as f:\n",
    "    _derivedVE_250 = np.load(f, allow_pickle=True) \n",
    "with open(dpath + 'derivedVE_1000.npy' , 'rb') as f:\n",
    "    _derivedVE_1000 = np.load(f, allow_pickle=True) \n",
    "    \n",
    "with open(dpath + 'residuals_derivedVE_125.npy' , 'rb') as f:\n",
    "    _residuals_derivedVE_125 = np.load(f, allow_pickle=True) \n",
    "with open(dpath + 'residuals_derivedVE_250.npy' , 'rb') as f:\n",
    "    _residuals_derivedVE_250 = np.load(f, allow_pickle=True) \n",
    "with open(dpath + 'residuals_derivedVE_1000.npy' , 'rb') as f:\n",
    "    _residuals_derivedVE_1000 = np.load(f, allow_pickle=True) \n",
    "    "
   ]
  },
  {
   "cell_type": "markdown",
   "metadata": {},
   "source": [
    "## Data arrays must be in the same stimulus order as the VE behavioral data"
   ]
  },
  {
   "cell_type": "code",
   "execution_count": 50,
   "metadata": {},
   "outputs": [],
   "source": [
    "derivedVE_dict_125 = {}\n",
    "derivedVE_dict_250 = {}\n",
    "derivedVE_dict_1000 = {}\n",
    "\n",
    "for i in range(len(derivedVE_stim_125)):\n",
    "    derivedVE_dict_125[derivedVE_stim_125[i]] = [_derivedVE_125[i], _residuals_derivedVE_125[i]]\n",
    "    \n",
    "for i in range(len(derivedVE_stim_250)):\n",
    "    derivedVE_dict_250[derivedVE_stim_250[i]] = [_derivedVE_250[i], _residuals_derivedVE_250[i]]\n",
    "    \n",
    "for i in range(len(derivedVE_stim_1000)):\n",
    "    derivedVE_dict_1000[derivedVE_stim_1000[i]] = [_derivedVE_1000[i], _residuals_derivedVE_1000[i]]"
   ]
  },
  {
   "cell_type": "code",
   "execution_count": 51,
   "metadata": {},
   "outputs": [
    {
     "data": {
      "text/plain": [
       "'002272_2014-06-28_18-53-56_260595134347_rgbf000067-resize'"
      ]
     },
     "execution_count": 51,
     "metadata": {},
     "output_type": "execute_result"
    }
   ],
   "source": [
    "stimfolder_125 = [elem.split('/')[1][:-2] for elem in stim_125]\n",
    "stimfolder_250 = [elem.split('/')[1][:-2] for elem in stim_250]\n",
    "stimfolder_1000 = [elem.split('/')[1][:-2] for elem in stim_1000]\n",
    "stimfolder_250[0]"
   ]
  },
  {
   "cell_type": "code",
   "execution_count": null,
   "metadata": {},
   "outputs": [],
   "source": []
  },
  {
   "cell_type": "code",
   "execution_count": null,
   "metadata": {},
   "outputs": [],
   "source": [
    "\n"
   ]
  },
  {
   "cell_type": "code",
   "execution_count": 6,
   "metadata": {},
   "outputs": [
    {
     "data": {
      "text/plain": [
       "'002272_2014-06-28_18-53-56_260595134347_rgbf000067-resize'"
      ]
     },
     "execution_count": 6,
     "metadata": {},
     "output_type": "execute_result"
    }
   ],
   "source": [
    "stimfolder_125 = [elem.split('/')[1][:-2] for elem in stim_125]\n",
    "stimfolder_250 = [elem.split('/')[1][:-2] for elem in stim_250]\n",
    "stimfolder_1000 = [elem.split('/')[1][:-2] for elem in stim_1000]\n",
    "stimfolder_250[0]"
   ]
  },
  {
   "cell_type": "code",
   "execution_count": 53,
   "metadata": {},
   "outputs": [],
   "source": [
    "derivedTD_dict_125 = {}\n",
    "derivedTD_dict_250 = {}\n",
    "derivedTD_dict_1000 = {}\n",
    "\n",
    "for i in range(len(derivedTD_stim)):\n",
    "    derivedTD_dict_125[derivedTD_stim[i]] = [_derivedTD_125[i], _residuals_derivedTD_125[i]]\n",
    "    \n",
    "for i in range(len(derivedTD_stim)):\n",
    "    derivedTD_dict_250[derivedTD_stim[i]] = [_derivedTD_250[i], _residuals_derivedTD_250[i]]\n",
    "    \n",
    "for i in range(len(derivedTD_stim)):\n",
    "    derivedTD_dict_1000[derivedTD_stim[i]] = [_derivedTD_1000[i], _residuals_derivedTD_1000[i]]"
   ]
  },
  {
   "cell_type": "markdown",
   "metadata": {},
   "source": [
    "## Load Ground Plane Metrics: Pixel Sum"
   ]
  },
  {
   "cell_type": "code",
   "execution_count": 4,
   "metadata": {},
   "outputs": [],
   "source": [
    "path = '/Users/prachimahableshwarkar/Documents/GW/Depth_MTurk/SUN_scene_cue_coding/gp_metrics.json'\n",
    "# path = '/Users/pmahableshwarkar/Documents/Depth_Project/SUN_scene_cue_coding/gp_metrics.json'\n",
    "\n",
    "gp_metrics = json.load(open(path))\n",
    "# [percent_VGP_GP, percent_VGP_image, percent_GP_image]"
   ]
  },
  {
   "cell_type": "code",
   "execution_count": 7,
   "metadata": {},
   "outputs": [],
   "source": [
    "ordered_gp_metrics = []\n",
    "ordered_gp_metrics_folders = []\n",
    "c_none = 0\n",
    "for folder in stimfolder_250:\n",
    "    try:\n",
    "        ordered_gp_metrics.append(gp_metrics[folder])\n",
    "        ordered_gp_metrics_folders.append(folder)\n",
    "    except:\n",
    "        c_none += 1\n",
    "        ordered_gp_metrics.append(None)\n",
    "        ordered_gp_metrics_folders.append(None)"
   ]
  },
  {
   "cell_type": "code",
   "execution_count": 34,
   "metadata": {},
   "outputs": [
    {
     "data": {
      "text/plain": [
       "(156, 0)"
      ]
     },
     "execution_count": 34,
     "metadata": {},
     "output_type": "execute_result"
    }
   ],
   "source": [
    "len(ordered_gp_metrics), c_none"
   ]
  },
  {
   "cell_type": "code",
   "execution_count": null,
   "metadata": {},
   "outputs": [],
   "source": []
  },
  {
   "cell_type": "code",
   "execution_count": 8,
   "metadata": {},
   "outputs": [
    {
     "data": {
      "text/plain": [
       "156"
      ]
     },
     "execution_count": 8,
     "metadata": {},
     "output_type": "execute_result"
    }
   ],
   "source": [
    "actual_depth_values = []\n",
    "for i in range(len(stim_250)):\n",
    "    targetobj_num = stim_250[i].split('/')[1][-1]\n",
    "    folder = stimfolder_250[i]\n",
    "    p = '/Users/prachimahableshwarkar/Documents/GW/Depth_MTurk/depth_duration_stimuli/' + folder + \"_\" + targetobj_num\n",
    "#     p = '/Users/pmahableshwarkar/Documents/Depth_Project/final_stimuli/' + folder + '_' + targetobj_num\n",
    "    # JSON file\n",
    "    f = open (p + '/data.json', \"r\")\n",
    "    # Reading from file\n",
    "    data = json.loads(f.read())\n",
    "    depthval = data['objects'][0]['crossing_point'][0]['depth']\n",
    "    actual_depth_values.append(depthval)\n",
    "len(actual_depth_values)"
   ]
  },
  {
   "cell_type": "code",
   "execution_count": 9,
   "metadata": {},
   "outputs": [],
   "source": [
    "trunc_resid_125 = []\n",
    "trunc_resid_250 = []\n",
    "trunc_resid_1000 = []\n",
    "trunc_vgp_gp = []\n",
    "trunc_vgp = [] \n",
    "trunc_gp = []\n",
    "trunc_actual = []\n",
    "trunc_std_125 = []\n",
    "trunc_std_250 = []\n",
    "trunc_std_1000 = []\n",
    "# trunc_diff_125 = []\n",
    "# trunc_diff_250 = []\n",
    "# trunc_diff_1000 = []\n",
    "\n",
    "for i in range(len(ordered_gp_metrics)):\n",
    "    metrics = ordered_gp_metrics[i]\n",
    "    if type(metrics) == list:\n",
    "        trunc_vgp_gp.append(metrics[0])\n",
    "        trunc_vgp.append(metrics[1])\n",
    "        trunc_gp.append(metrics[2])\n",
    "        \n",
    "        trunc_resid_125.append(residuals_125[i])\n",
    "        trunc_resid_250.append(residuals_250[i])\n",
    "        trunc_resid_1000.append(residuals_1000[i])\n",
    "        \n",
    "        trunc_actual.append(actual_depth_values[i])\n",
    "        \n",
    "        trunc_std_125.append(std_125[i])\n",
    "        trunc_std_250.append(std_250[i])\n",
    "        trunc_std_1000.append(std_1000[i])\n",
    "        \n",
    "#         trunc_diff_125.append(diff_125[i])\n",
    "#         trunc_diff_250.append(diff_250[i])\n",
    "#         trunc_diff_1000.append(diff_1000[i])\n",
    "\n"
   ]
  },
  {
   "cell_type": "code",
   "execution_count": 10,
   "metadata": {},
   "outputs": [
    {
     "data": {
      "text/plain": [
       "(156, 156, 156)"
      ]
     },
     "execution_count": 10,
     "metadata": {},
     "output_type": "execute_result"
    }
   ],
   "source": [
    "len(trunc_vgp_gp), len(trunc_resid_250), len(ordered_gp_metrics)"
   ]
  },
  {
   "cell_type": "code",
   "execution_count": 60,
   "metadata": {},
   "outputs": [],
   "source": [
    "# print(stats.pearsonr(trunc_resid_125, trunc_pitches))\n",
    "# print(stats.pearsonr(trunc_resid_250, trunc_pitches))\n",
    "# print(stats.pearsonr(trunc_resid_1000, trunc_pitches))"
   ]
  },
  {
   "cell_type": "code",
   "execution_count": 61,
   "metadata": {},
   "outputs": [],
   "source": [
    "# plt.hist(trunc_vgp_gp)"
   ]
  },
  {
   "cell_type": "code",
   "execution_count": null,
   "metadata": {},
   "outputs": [],
   "source": []
  },
  {
   "cell_type": "code",
   "execution_count": 62,
   "metadata": {},
   "outputs": [],
   "source": [
    "# discrimination derived verbal estimates variables\n",
    "dd_vgp_gp = []\n",
    "dd_vgp = []\n",
    "dd_gp = []\n",
    "\n",
    "dd_residuals_125 = []\n",
    "dd_residuals_250 = []\n",
    "dd_residuals_1000 = []\n",
    "\n",
    "dd_125 = []\n",
    "dd_250 = []\n",
    "dd_1000 = []\n",
    "\n",
    "for i in range(len(ordered_gp_metrics)):\n",
    "    metrics = ordered_gp_metrics[i]\n",
    "    if type(metrics) == list:\n",
    "        try:\n",
    "            stim_dd_125, stim_dd_resid_125 = derivedVE_dict_125[ordered_gp_metrics_folders[i]]\n",
    "            stim_dd_250, stim_dd_resid_250 = derivedVE_dict_250[ordered_gp_metrics_folders[i]]\n",
    "            stim_dd_1000, stim_dd_resid_1000 = derivedVE_dict_1000[ordered_gp_metrics_folders[i]]\n",
    "            \n",
    "            dd_125.append(stim_dd_125)\n",
    "            dd_residuals_125.append(stim_dd_resid_125)\n",
    "\n",
    "            dd_250.append(stim_dd_250)\n",
    "            dd_residuals_250.append(stim_dd_resid_250)\n",
    "\n",
    "            dd_1000.append(stim_dd_1000)\n",
    "            dd_residuals_1000.append(stim_dd_resid_1000)\n",
    "\n",
    "            dd_vgp_gp.append(metrics[0])\n",
    "            dd_vgp.append(metrics[1])\n",
    "            dd_gp.append(metrics[2])\n",
    "        \n",
    "\n",
    "        except:\n",
    "            pass\n"
   ]
  },
  {
   "cell_type": "code",
   "execution_count": 63,
   "metadata": {},
   "outputs": [
    {
     "data": {
      "text/plain": [
       "(152, 152)"
      ]
     },
     "execution_count": 63,
     "metadata": {},
     "output_type": "execute_result"
    }
   ],
   "source": [
    "len(dd_1000), len(dd_vgp)"
   ]
  },
  {
   "cell_type": "code",
   "execution_count": 64,
   "metadata": {},
   "outputs": [],
   "source": [
    "# discrimination derived target depth variables\n",
    "\n",
    "ddTD_vgp_gp = []\n",
    "ddTD_vgp = []\n",
    "ddTD_gp = []\n",
    "\n",
    "ddTD_residuals_125 = []\n",
    "ddTD_residuals_250 = []\n",
    "ddTD_residuals_1000 = []\n",
    "\n",
    "ddTD_125 = []\n",
    "ddTD_250 = []\n",
    "ddTD_1000 = []\n",
    "\n",
    "for i in range(len(ordered_gp_metrics)):\n",
    "    metrics = ordered_gp_metrics[i]\n",
    "    if type(metrics) == list:\n",
    "        stim_ddTD_125, stim_residTD_125 = derivedTD_dict_125[ordered_gp_metrics_folders[i]]\n",
    "        ddTD_125.append(stim_ddTD_125)\n",
    "        ddTD_residuals_125.append(stim_residTD_125)\n",
    "\n",
    "        stim_ddTD_250, stim_residTD_250 = derivedTD_dict_250[ordered_gp_metrics_folders[i]]\n",
    "        ddTD_250.append(stim_ddTD_250)\n",
    "        ddTD_residuals_250.append(stim_residTD_250)\n",
    "\n",
    "        stim_ddTD_1000, stim_residTD_1000 = derivedTD_dict_1000[ordered_gp_metrics_folders[i]]\n",
    "        ddTD_1000.append(stim_ddTD_1000)\n",
    "        ddTD_residuals_1000.append(stim_residTD_1000)\n",
    "\n",
    "        ddTD_vgp_gp.append(metrics[0])\n",
    "        ddTD_vgp.append(metrics[1])\n",
    "        ddTD_gp.append(metrics[2])\n",
    "            \n",
    "#         try:\n",
    "#             stim_ddTD_125, stim_residTD_125 = derivedTD_dict_125[ordered_gp_metrics_folders[i]]\n",
    "#             ddTD_125.append(stim_ddTD_125)\n",
    "#             ddTD_residuals_125.append(stim_residTD_125)\n",
    "\n",
    "#             stim_ddTD_250, stim_residTD_250 = derivedTD_dict_250[ordered_gp_metrics_folders[i]]\n",
    "#             ddTD_250.append(stim_ddTD_250)\n",
    "#             ddTD_residuals_250.append(stim_residTD_250)\n",
    "\n",
    "#             stim_ddTD_1000, stim_residTD_1000 = derivedTD_dict_1000[ordered_gp_metrics_folders[i]]\n",
    "#             ddTD_1000.append(stim_ddTD_1000)\n",
    "#             ddTD_residuals_1000.append(stim_residTD_1000)\n",
    "\n",
    "#             ddTD_vgp_gp.append(metrics[0])\n",
    "#             ddTD_vgp.append(metrics[1])\n",
    "#             ddTD_gp.append(metrics[2])\n",
    "\n",
    "#         except:\n",
    "#             pass\n"
   ]
  },
  {
   "cell_type": "code",
   "execution_count": 65,
   "metadata": {},
   "outputs": [
    {
     "data": {
      "text/plain": [
       "(156, 156)"
      ]
     },
     "execution_count": 65,
     "metadata": {},
     "output_type": "execute_result"
    }
   ],
   "source": [
    "len(ddTD_125), len(ddTD_vgp)"
   ]
  },
  {
   "cell_type": "code",
   "execution_count": 66,
   "metadata": {},
   "outputs": [
    {
     "name": "stdout",
     "output_type": "stream",
     "text": [
      "Correlation between Discrimination Derived Verbal Estimates and VGP/GP\n",
      "125 ms:  (-0.09905440173336112, 0.22469736262734133)\n",
      "250 ms:  (0.05692085042343996, 0.48609113976829077)\n",
      "1000 ms:  (-0.017004321817383438, 0.835285348641447)\n"
     ]
    }
   ],
   "source": [
    "print(\"Correlation between Discrimination Derived Verbal Estimates and VGP/GP\")\n",
    "print('125 ms: ',stats.pearsonr(dd_125, dd_vgp_gp))\n",
    "print('250 ms: ',stats.pearsonr(dd_250, dd_vgp_gp))\n",
    "print('1000 ms: ',stats.pearsonr(dd_1000, dd_vgp_gp))\n"
   ]
  },
  {
   "cell_type": "code",
   "execution_count": 67,
   "metadata": {},
   "outputs": [
    {
     "name": "stdout",
     "output_type": "stream",
     "text": [
      "Correlation between Discrimination Derived Verbal Estimates and VGP\n",
      "125 ms:  (0.020992708514684856, 0.7974047582961941)\n",
      "250 ms:  (0.1209637490375713, 0.1376797800662004)\n",
      "1000 ms:  (0.013949430923838406, 0.8645628793621422)\n"
     ]
    }
   ],
   "source": [
    "print(\"Correlation between Discrimination Derived Verbal Estimates and VGP\")\n",
    "print('125 ms: ',stats.pearsonr(dd_125, dd_vgp))\n",
    "print('250 ms: ',stats.pearsonr(dd_250, dd_vgp))\n",
    "print('1000 ms: ',stats.pearsonr(dd_1000, dd_vgp))\n"
   ]
  },
  {
   "cell_type": "code",
   "execution_count": 68,
   "metadata": {},
   "outputs": [
    {
     "name": "stdout",
     "output_type": "stream",
     "text": [
      "Correlation between Discrimination Derived Verbal Estimates and GP\n",
      "125 ms:  (0.07667157040598357, 0.3478076105617776)\n",
      "250 ms:  (0.019349135147536316, 0.8129631865599586)\n",
      "1000 ms:  (0.008797962175322811, 0.9143326412418443)\n"
     ]
    }
   ],
   "source": [
    "print(\"Correlation between Discrimination Derived Verbal Estimates and GP\")\n",
    "print('125 ms: ',stats.pearsonr(dd_125, dd_gp))\n",
    "print('250 ms: ',stats.pearsonr(dd_250, dd_gp))\n",
    "print('1000 ms: ',stats.pearsonr(dd_1000, dd_gp))"
   ]
  },
  {
   "cell_type": "code",
   "execution_count": 69,
   "metadata": {},
   "outputs": [
    {
     "name": "stdout",
     "output_type": "stream",
     "text": [
      "Correlation between Discrimination Derived Verbal Estimates Linear Model Residuals and VGP/GP\n",
      "125 ms:  (-0.04910762717814736, 0.5479703676007115)\n",
      "250 ms:  (0.14155335776627115, 0.0819379190804502)\n",
      "1000 ms:  (0.06875601582162488, 0.3999670130938618)\n"
     ]
    }
   ],
   "source": [
    "print(\"Correlation between Discrimination Derived Verbal Estimates Linear Model Residuals and VGP/GP\")\n",
    "print('125 ms: ',stats.pearsonr(dd_residuals_125, dd_vgp_gp))\n",
    "print('250 ms: ',stats.pearsonr(dd_residuals_250, dd_vgp_gp))\n",
    "print('1000 ms: ',stats.pearsonr(dd_residuals_1000, dd_vgp_gp))\n"
   ]
  },
  {
   "cell_type": "code",
   "execution_count": 70,
   "metadata": {},
   "outputs": [
    {
     "name": "stdout",
     "output_type": "stream",
     "text": [
      "125 ms:  (-0.015529877085814412, 0.8493905532743488)\n",
      "250 ms:  (0.10297748347717708, 0.20677957097851332)\n",
      "1000 ms:  (-0.03671863691738538, 0.6533506767348262)\n"
     ]
    }
   ],
   "source": [
    "\"Correlation between Discrimination Derived Verbal Estimates Linear Model Residuals and VGP\"\n",
    "print('125 ms: ',stats.pearsonr(dd_residuals_125, dd_vgp))\n",
    "print('250 ms: ',stats.pearsonr(dd_residuals_250, dd_vgp))\n",
    "print('1000 ms: ',stats.pearsonr(dd_residuals_1000, dd_vgp))\n"
   ]
  },
  {
   "cell_type": "code",
   "execution_count": 71,
   "metadata": {},
   "outputs": [
    {
     "name": "stdout",
     "output_type": "stream",
     "text": [
      "125 ms:  (-0.061157186059493315, 0.4541747852693216)\n",
      "250 ms:  (-0.14117047644265324, 0.0827766210293775)\n",
      "1000 ms:  (-0.19462461173411158, 0.01627418427342178)\n"
     ]
    }
   ],
   "source": [
    "\"Correlation between Discrimination Derived Verbal Estimates Linear Model Residuals and GP\"\n",
    "print('125 ms: ',stats.pearsonr(dd_residuals_125, dd_gp))\n",
    "print('250 ms: ',stats.pearsonr(dd_residuals_250, dd_gp))\n",
    "print('1000 ms: ',stats.pearsonr(dd_residuals_1000, dd_gp))\n"
   ]
  },
  {
   "cell_type": "code",
   "execution_count": 72,
   "metadata": {},
   "outputs": [
    {
     "data": {
      "image/png": "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\n",
      "text/plain": [
       "<Figure size 432x288 with 1 Axes>"
      ]
     },
     "metadata": {
      "needs_background": "light"
     },
     "output_type": "display_data"
    }
   ],
   "source": [
    "plt.plot(dd_gp, dd_residuals_125, 'o')\n",
    "plt.show();"
   ]
  },
  {
   "cell_type": "code",
   "execution_count": 73,
   "metadata": {},
   "outputs": [
    {
     "name": "stdout",
     "output_type": "stream",
     "text": [
      "Correlation between Average Discrimination Derived Verbal Estimates Linear Model Residuals and GP\n",
      "GP:  (-0.16661384113109742, 0.040212514009119654)\n",
      "VGP:  (0.02299815370614811, 0.778528728185084)\n",
      "VGP/GP:  (0.05695854087890539, 0.4858019858252776)\n"
     ]
    }
   ],
   "source": [
    "print(\"Correlation between Average Discrimination Derived Verbal Estimates Linear Model Residuals and GP\")\n",
    "\n",
    "print('GP: ',stats.pearsonr(np.mean([dd_residuals_125, dd_residuals_250, dd_residuals_1000], axis=0), dd_gp))\n",
    "print('VGP: ',stats.pearsonr(np.mean([dd_residuals_125, dd_residuals_250, dd_residuals_1000], axis=0), dd_vgp))\n",
    "print('VGP/GP: ',stats.pearsonr(np.mean([dd_residuals_125, dd_residuals_250, dd_residuals_1000], axis=0), dd_vgp_gp))\n",
    "\n"
   ]
  },
  {
   "cell_type": "code",
   "execution_count": 74,
   "metadata": {},
   "outputs": [
    {
     "name": "stdout",
     "output_type": "stream",
     "text": [
      "Correlation between All Discrimination Derived Verbal Estimates Linear Model Residuals and GP\n",
      "GP  (-0.11754533592654323, 0.01200811999900642)\n",
      "VGP  (0.01622509681505024, 0.7296846547731117)\n",
      "VGP/GP  (0.040184001377344555, 0.39195017607697025)\n"
     ]
    }
   ],
   "source": [
    "print(\"Correlation between All Discrimination Derived Verbal Estimates Linear Model Residuals and GP\")\n",
    "\n",
    "print('GP ',stats.pearsonr(dd_residuals_125+dd_residuals_250+dd_residuals_1000, dd_gp*3))\n",
    "print('VGP ',stats.pearsonr(dd_residuals_125+dd_residuals_250+dd_residuals_1000, dd_vgp*3))\n",
    "print('VGP/GP ',stats.pearsonr(dd_residuals_125+dd_residuals_250+dd_residuals_1000, dd_vgp_gp*3))\n",
    "\n"
   ]
  },
  {
   "cell_type": "code",
   "execution_count": 75,
   "metadata": {},
   "outputs": [
    {
     "name": "stdout",
     "output_type": "stream",
     "text": [
      "Correlation between Abs All Discrimination Derived Verbal Estimates Linear Model Residuals and GP*3 Metrics\n",
      "GP  (-0.0932404646683296, 0.04659716575836634)\n",
      "VGP  (-0.011430831600634846, 0.8076693990285713)\n",
      "VGP/GP  (0.09233232137974401, 0.04878359543444316)\n"
     ]
    }
   ],
   "source": [
    "print('Correlation between Abs All Discrimination Derived Verbal Estimates Linear Model Residuals and GP*3 Metrics')\n",
    "\n",
    "print('GP ',stats.pearsonr(np.abs(np.array(dd_residuals_125+dd_residuals_250+dd_residuals_1000)), dd_gp*3))\n",
    "print('VGP ',stats.pearsonr(np.abs(np.array(dd_residuals_125+dd_residuals_250+dd_residuals_1000)), dd_vgp*3))\n",
    "print('VGP/GP ',stats.pearsonr(np.abs(np.array(dd_residuals_125+dd_residuals_250+dd_residuals_1000)), dd_vgp_gp*3))\n"
   ]
  },
  {
   "cell_type": "code",
   "execution_count": 76,
   "metadata": {},
   "outputs": [
    {
     "name": "stdout",
     "output_type": "stream",
     "text": [
      "Correlation between Avg Abs Discrimination Derived Verbal Estimates Linear Model Residuals and GP Metrics\n",
      "GP  (-0.12484016542917677, 0.125416645655988)\n",
      "VGP  (-0.01530480262075554, 0.8515480397786865)\n",
      "VGP/GP  (0.12362424743923853, 0.12916897357582477)\n"
     ]
    }
   ],
   "source": [
    "print('Correlation between Avg Abs Discrimination Derived Verbal Estimates Linear Model Residuals and GP Metrics')\n",
    "\n",
    "print('GP ',stats.pearsonr(np.mean([np.abs(np.array(dd_residuals_125)), np.abs(np.array(dd_residuals_250)), np.abs(np.array(dd_residuals_1000))], axis=0), dd_gp))\n",
    "print('VGP ',stats.pearsonr(np.mean([np.abs(np.array(dd_residuals_125)), np.abs(np.array(dd_residuals_250)), np.abs(np.array(dd_residuals_1000))], axis=0), dd_vgp))\n",
    "print('VGP/GP ',stats.pearsonr(np.mean([np.abs(np.array(dd_residuals_125)), np.abs(np.array(dd_residuals_250)), np.abs(np.array(dd_residuals_1000))], axis=0), dd_vgp_gp))\n",
    "\n",
    "# MORE VISIBLE GP, CLOSER TO LINEAR MODEDL"
   ]
  },
  {
   "cell_type": "markdown",
   "metadata": {},
   "source": [
    "## Discrimination Derived Target Depths"
   ]
  },
  {
   "cell_type": "code",
   "execution_count": 77,
   "metadata": {},
   "outputs": [
    {
     "name": "stdout",
     "output_type": "stream",
     "text": [
      "Correlation between Discrimination Derived Target Depths and VGP/GP\n",
      "125 ms:  (0.007228561122906716, 0.92863707012222)\n",
      "250 ms:  (0.01150186836012744, 0.8866790558100873)\n",
      "1000 ms:  (0.009986639594745932, 0.90152667978339)\n"
     ]
    }
   ],
   "source": [
    "print(\"Correlation between Discrimination Derived Target Depths and VGP/GP\")\n",
    "print('125 ms: ',stats.pearsonr(ddTD_125, ddTD_vgp_gp))\n",
    "print('250 ms: ',stats.pearsonr(ddTD_250, ddTD_vgp_gp))\n",
    "print('1000 ms: ',stats.pearsonr(ddTD_1000, ddTD_vgp_gp))\n"
   ]
  },
  {
   "cell_type": "code",
   "execution_count": 78,
   "metadata": {},
   "outputs": [
    {
     "name": "stdout",
     "output_type": "stream",
     "text": [
      "Correlation between Discrimination Derived Target Depths and VGP\n",
      "125 ms:  (0.07986505515082294, 0.32164854677843585)\n",
      "250 ms:  (0.08616514794141146, 0.2848275349647912)\n",
      "1000 ms:  (0.08537649690589527, 0.2892755582699411)\n"
     ]
    }
   ],
   "source": [
    "print(\"Correlation between Discrimination Derived Target Depths and VGP\")\n",
    "print('125 ms: ',stats.pearsonr(ddTD_125, ddTD_vgp))\n",
    "print('250 ms: ',stats.pearsonr(ddTD_250, ddTD_vgp))\n",
    "print('1000 ms: ',stats.pearsonr(ddTD_1000, ddTD_vgp))\n"
   ]
  },
  {
   "cell_type": "code",
   "execution_count": 79,
   "metadata": {},
   "outputs": [
    {
     "name": "stdout",
     "output_type": "stream",
     "text": [
      "Correlation between Discrimination Derived Target Depths and GP\n",
      "125 ms:  (0.12299635455305453, 0.1260952125661137)\n",
      "250 ms:  (0.12613744209109612, 0.1166341307553005)\n",
      "1000 ms:  (0.12547347996191388, 0.11858653572164973)\n"
     ]
    }
   ],
   "source": [
    "print(\"Correlation between Discrimination Derived Target Depths and GP\")\n",
    "print('125 ms: ',stats.pearsonr(ddTD_125, ddTD_gp))\n",
    "print('250 ms: ',stats.pearsonr(ddTD_250, ddTD_gp))\n",
    "print('1000 ms: ',stats.pearsonr(ddTD_1000, ddTD_gp))"
   ]
  },
  {
   "cell_type": "code",
   "execution_count": 80,
   "metadata": {},
   "outputs": [
    {
     "name": "stdout",
     "output_type": "stream",
     "text": [
      "Correlation between Discrimination Derived Target Depths Linear Model Residuals and VGP/GP\n",
      "125 ms:  (0.0721254261529207, 0.3709115227933711)\n",
      "250 ms:  (0.02966487724942421, 0.7131601354080673)\n",
      "1000 ms:  (0.02896893440096863, 0.7196046062708478)\n"
     ]
    }
   ],
   "source": [
    "print(\"Correlation between Discrimination Derived Target Depths Linear Model Residuals and VGP/GP\")\n",
    "print('125 ms: ',stats.pearsonr(ddTD_residuals_125, ddTD_vgp_gp))\n",
    "print('250 ms: ',stats.pearsonr(ddTD_residuals_250, ddTD_vgp_gp))\n",
    "print('1000 ms: ',stats.pearsonr(ddTD_residuals_1000, ddTD_vgp_gp))\n"
   ]
  },
  {
   "cell_type": "code",
   "execution_count": 81,
   "metadata": {},
   "outputs": [
    {
     "name": "stdout",
     "output_type": "stream",
     "text": [
      "125 ms:  (0.06417748442814057, 0.4260606237554256)\n",
      "250 ms:  (0.08569470213308043, 0.28747532347700333)\n",
      "1000 ms:  (0.08456856079134173, 0.29388014947427404)\n"
     ]
    }
   ],
   "source": [
    "\"Correlation between Discrimination Derived Target Depths Linear Model Residuals and VGP\"\n",
    "print('125 ms: ',stats.pearsonr(ddTD_residuals_125, ddTD_vgp))\n",
    "print('250 ms: ',stats.pearsonr(ddTD_residuals_250, ddTD_vgp))\n",
    "print('1000 ms: ',stats.pearsonr(ddTD_residuals_1000, ddTD_vgp))\n"
   ]
  },
  {
   "cell_type": "code",
   "execution_count": 82,
   "metadata": {},
   "outputs": [
    {
     "name": "stdout",
     "output_type": "stream",
     "text": [
      "125 ms:  (0.030495422703114748, 0.7054957212197278)\n",
      "250 ms:  (0.10637119475481355, 0.1862868412996942)\n",
      "1000 ms:  (0.10420484379249907, 0.1954658436907015)\n"
     ]
    }
   ],
   "source": [
    "\"Correlation between Discrimination Derived Target Depths Linear Model Residuals and GP\"\n",
    "print('125 ms: ',stats.pearsonr(ddTD_residuals_125, ddTD_gp))\n",
    "print('250 ms: ',stats.pearsonr(ddTD_residuals_250, ddTD_gp))\n",
    "print('1000 ms: ',stats.pearsonr(ddTD_residuals_1000, ddTD_gp))\n"
   ]
  },
  {
   "cell_type": "markdown",
   "metadata": {},
   "source": [
    "### VE Data"
   ]
  },
  {
   "cell_type": "code",
   "execution_count": 83,
   "metadata": {},
   "outputs": [
    {
     "name": "stdout",
     "output_type": "stream",
     "text": [
      "Correlation between Linear Model Residuals and VGP/GP\n",
      "125 ms:  (-0.015282171882610572, 0.8498183438384499)\n",
      "250 ms:  (-0.042305036272171255, 0.6000177395669556)\n",
      "1000 ms:  (-0.04319764416643546, 0.5923392758929656)\n"
     ]
    }
   ],
   "source": [
    "# corr, p-value\n",
    "print('Correlation between Linear Model Residuals and VGP/GP')\n",
    "print('125 ms: ',stats.pearsonr(trunc_resid_125, trunc_vgp_gp))\n",
    "print('250 ms: ',stats.pearsonr(trunc_resid_250, trunc_vgp_gp))\n",
    "print('1000 ms: ',stats.pearsonr(trunc_resid_1000, trunc_vgp_gp))"
   ]
  },
  {
   "cell_type": "code",
   "execution_count": 84,
   "metadata": {},
   "outputs": [
    {
     "name": "stdout",
     "output_type": "stream",
     "text": [
      "Correlation between Linear Model Residuals and VGP\n",
      "125 ms:  (-0.13900640934428962, 0.08351626748864727)\n",
      "250 ms:  (-0.15706703880009817, 0.050211156398460084)\n",
      "1000 ms:  (-0.17103316963726514, 0.03277908583748147)\n"
     ]
    }
   ],
   "source": [
    "# corr, p-value\n",
    "print('Correlation between Linear Model Residuals and VGP')\n",
    "print('125 ms: ',stats.pearsonr(trunc_resid_125, trunc_vgp))\n",
    "print('250 ms: ',stats.pearsonr(trunc_resid_250, trunc_vgp))\n",
    "print('1000 ms: ',stats.pearsonr(trunc_resid_1000, trunc_vgp))"
   ]
  },
  {
   "cell_type": "code",
   "execution_count": 85,
   "metadata": {},
   "outputs": [
    {
     "name": "stdout",
     "output_type": "stream",
     "text": [
      "Correlation between Linear Model Residuals and GP\n",
      "125 ms:  (-0.28041514533706174, 0.00039168378390723186)\n",
      "250 ms:  (-0.2506914571800794, 0.0015966663318469528)\n",
      "1000 ms:  (-0.2705272723536888, 0.0006363550476424708)\n"
     ]
    }
   ],
   "source": [
    "# corr, p-value\n",
    "print('Correlation between Linear Model Residuals and GP')\n",
    "print('125 ms: ',stats.pearsonr(trunc_resid_125, trunc_gp))\n",
    "print('250 ms: ',stats.pearsonr(trunc_resid_250, trunc_gp))\n",
    "print('1000 ms: ',stats.pearsonr(trunc_resid_1000, trunc_gp))"
   ]
  },
  {
   "cell_type": "code",
   "execution_count": 86,
   "metadata": {},
   "outputs": [
    {
     "name": "stdout",
     "output_type": "stream",
     "text": [
      "Correlation between All Linear Model Residuals and GP*3\n",
      "GP  (-0.26742442285745466, 4.173128597682774e-09)\n",
      "VGP  (-0.15547345602774695, 0.0007382781792263152)\n",
      "VGP/GP  (-0.0333159205168127, 0.47213736623136804)\n"
     ]
    }
   ],
   "source": [
    "print('Correlation between All Linear Model Residuals and GP*3')\n",
    "\n",
    "print('GP ',stats.pearsonr(trunc_resid_125+trunc_resid_250+trunc_resid_1000, trunc_gp*3))\n",
    "print('VGP ',stats.pearsonr(trunc_resid_125+trunc_resid_250+trunc_resid_1000, trunc_vgp*3))\n",
    "print('VGP/GP ',stats.pearsonr(trunc_resid_125+trunc_resid_250+trunc_resid_1000, trunc_vgp_gp*3))\n",
    "\n",
    "\n"
   ]
  },
  {
   "cell_type": "code",
   "execution_count": 87,
   "metadata": {},
   "outputs": [
    {
     "name": "stdout",
     "output_type": "stream",
     "text": [
      "Correlation between All Linear Model Residuals and GP*3\n",
      "GP  (-0.27303621695468716, 0.0005635893495644496)\n",
      "VGP  (-0.1587360040534294, 0.04778963934847049)\n",
      "VGP/GP  (-0.034015041726844365, 0.6733513772955032)\n"
     ]
    }
   ],
   "source": [
    "print('Correlation between All Linear Model Residuals and GP*3')\n",
    "\n",
    "print('GP ',stats.pearsonr(np.mean([trunc_resid_125, trunc_resid_250, trunc_resid_1000], axis=0), trunc_gp))\n",
    "print('VGP ',stats.pearsonr(np.mean([trunc_resid_125, trunc_resid_250, trunc_resid_1000], axis=0), trunc_vgp))\n",
    "print('VGP/GP ',stats.pearsonr(np.mean([trunc_resid_125, trunc_resid_250, trunc_resid_1000], axis=0), trunc_vgp_gp))\n",
    "\n"
   ]
  },
  {
   "cell_type": "markdown",
   "metadata": {},
   "source": [
    "#### Absolute value of residuals"
   ]
  },
  {
   "cell_type": "code",
   "execution_count": null,
   "metadata": {},
   "outputs": [],
   "source": []
  },
  {
   "cell_type": "code",
   "execution_count": 88,
   "metadata": {},
   "outputs": [
    {
     "name": "stdout",
     "output_type": "stream",
     "text": [
      "Correlation between Abs(Linear Model Residuals) and VGP/GP\n",
      "125 ms:  (-0.13327395835809094, 0.09719415830599334)\n",
      "250 ms:  (-0.13373881364860193, 0.09602276192519789)\n",
      "1000 ms:  (-0.1588476310974773, 0.047631207692296694)\n"
     ]
    }
   ],
   "source": [
    "# corr, p-value\n",
    "print('Correlation between Abs(Linear Model Residuals) and VGP/GP')\n",
    "print('125 ms: ',stats.pearsonr(np.abs(trunc_resid_125), trunc_vgp_gp))\n",
    "print('250 ms: ',stats.pearsonr(np.abs(trunc_resid_250), trunc_vgp_gp))\n",
    "print('1000 ms: ',stats.pearsonr(np.abs(trunc_resid_1000), trunc_vgp_gp))\n",
    "\n",
    "# interp: clutter (pixel space)"
   ]
  },
  {
   "cell_type": "code",
   "execution_count": 89,
   "metadata": {},
   "outputs": [
    {
     "name": "stdout",
     "output_type": "stream",
     "text": [
      "Correlation between Abs(Linear Model Residuals) and GP\n",
      "125 ms:  (0.01670774214769947, 0.8359975411539116)\n",
      "250 ms:  (-0.008929903663237001, 0.911902107303004)\n",
      "1000 ms:  (-0.049298933576694196, 0.5410915830463255)\n"
     ]
    }
   ],
   "source": [
    "# corr, p-value\n",
    "print('Correlation between Abs(Linear Model Residuals) and GP')\n",
    "print('125 ms: ',stats.pearsonr(np.abs(trunc_resid_125), trunc_gp))\n",
    "print('250 ms: ',stats.pearsonr(np.abs(trunc_resid_250), trunc_gp))\n",
    "print('1000 ms: ',stats.pearsonr(np.abs(trunc_resid_1000), trunc_gp))"
   ]
  },
  {
   "cell_type": "code",
   "execution_count": 90,
   "metadata": {},
   "outputs": [
    {
     "name": "stdout",
     "output_type": "stream",
     "text": [
      "Correlation between Abs(Linear Model Residuals) and VGP\n",
      "125 ms:  (-0.09063353025817367, 0.2604933827346035)\n",
      "250 ms:  (-0.12062841923497408, 0.13361071209963024)\n",
      "1000 ms:  (-0.16083986579727114, 0.04487637958175426)\n"
     ]
    }
   ],
   "source": [
    "# corr, p-value\n",
    "print('Correlation between Abs(Linear Model Residuals) and VGP')\n",
    "print('125 ms: ',stats.pearsonr(np.abs(trunc_resid_125), trunc_vgp))\n",
    "print('250 ms: ',stats.pearsonr(np.abs(trunc_resid_250), trunc_vgp))\n",
    "print('1000 ms: ',stats.pearsonr(np.abs(trunc_resid_1000), trunc_vgp))"
   ]
  },
  {
   "cell_type": "code",
   "execution_count": 91,
   "metadata": {},
   "outputs": [
    {
     "name": "stdout",
     "output_type": "stream",
     "text": [
      "Correlation between Abs All Linear Model Residuals and GP*3 Metrics\n",
      "GP  (-0.012956391648929063, 0.7798214044571219)\n",
      "VGP  (-0.12292711048738077, 0.007760579995129009)\n",
      "VGP/GP  (-0.14154487856170114, 0.0021451619650346187)\n"
     ]
    }
   ],
   "source": [
    "print('Correlation between Abs All Linear Model Residuals and GP*3 Metrics')\n",
    "\n",
    "print('GP ',stats.pearsonr(np.abs(np.array(trunc_resid_125+trunc_resid_250+trunc_resid_1000)), trunc_gp*3))\n",
    "print('VGP ',stats.pearsonr(np.abs(np.array(trunc_resid_125+trunc_resid_250+trunc_resid_1000)), trunc_vgp*3))\n",
    "print('VGP/GP ',stats.pearsonr(np.abs(np.array(trunc_resid_125+trunc_resid_250+trunc_resid_1000)), trunc_vgp_gp*3))\n"
   ]
  },
  {
   "cell_type": "code",
   "execution_count": 92,
   "metadata": {},
   "outputs": [
    {
     "name": "stdout",
     "output_type": "stream",
     "text": [
      "Correlation between Avg Abs Linear Model Residuals and GP Metrics\n",
      "GP  (-0.01370959394541684, 0.8651173990757665)\n",
      "VGP  (-0.13007331171597342, 0.10556942146552359)\n",
      "VGP/GP  (-0.14977339854454466, 0.06201832609989145)\n"
     ]
    }
   ],
   "source": [
    "print('Correlation between Avg Abs Linear Model Residuals and GP Metrics')\n",
    "\n",
    "print('GP ',stats.pearsonr(np.mean([np.abs(np.array(trunc_resid_125)), np.abs(np.array(trunc_resid_250)), np.abs(np.array(trunc_resid_1000))], axis=0), trunc_gp))\n",
    "print('VGP ',stats.pearsonr(np.mean([np.abs(np.array(trunc_resid_125)), np.abs(np.array(trunc_resid_250)), np.abs(np.array(trunc_resid_1000))], axis=0), trunc_vgp))\n",
    "print('VGP/GP ',stats.pearsonr(np.mean([np.abs(np.array(trunc_resid_125)), np.abs(np.array(trunc_resid_250)), np.abs(np.array(trunc_resid_1000))], axis=0), trunc_vgp_gp))\n",
    "\n",
    "# MORE VISIBLE GP, CLOSER TO LINEAR MODEDL"
   ]
  },
  {
   "cell_type": "code",
   "execution_count": 93,
   "metadata": {},
   "outputs": [
    {
     "name": "stdout",
     "output_type": "stream",
     "text": [
      "m: [-0.11823934]\n",
      "b: 0.3276984008387228\n",
      "R-squared:  0.017886070276135313\n"
     ]
    },
    {
     "data": {
      "text/plain": [
       "0.018"
      ]
     },
     "execution_count": 93,
     "metadata": {},
     "output_type": "execute_result"
    },
    {
     "data": {
      "image/png": "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\n",
      "text/plain": [
       "<Figure size 504x504 with 1 Axes>"
      ]
     },
     "metadata": {
      "needs_background": "light"
     },
     "output_type": "display_data"
    }
   ],
   "source": [
    "\n",
    "fig, ax = plt.subplots(figsize=[7,7])\n",
    "ax.spines['right'].set_visible(False)\n",
    "ax.spines['top'].set_visible(False)\n",
    "for axis in ['bottom','left']:\n",
    "    ax.spines[axis].set_linewidth(2.3)\n",
    "\n",
    "plt.tight_layout()    \n",
    "\n",
    "    \n",
    "#run regression\n",
    "X = np.array(trunc_vgp_gp).reshape(-1,1)\n",
    "y = np.abs(trunc_resid_250)\n",
    "reg = LinearRegression().fit(X, y)\n",
    "\n",
    "#Generated Predictions\n",
    "y_predicted = reg.predict(X)\n",
    "#Plot Our Actual and Predicted Values\n",
    "plt.plot(X, y, 'o', color='black', alpha = 0.5);\n",
    "plt.plot(X,y_predicted,color='chocolate', label = 'm = ' + str(round(reg.coef_[0], 3))\n",
    "         + '     r-squared = ' + str(round(float(reg.score(X, y)), 3)))\n",
    "plt.title(\"250 ms\", fontsize = 20)\n",
    "plt.xlabel(\"VGP/GP\", fontsize = 15)\n",
    "plt.ylabel(\"Abs(Residuals)\", fontsize = 15)\n",
    "\n",
    "legend = plt.legend(loc = 0, fontsize = 13, borderpad = 0.6, labelspacing = 1)\n",
    "legend.get_frame().set_facecolor('lightgray')\n",
    "\n",
    "\n",
    "#get coefficients and y intercept\n",
    "print(\"m: {0}\".format(reg.coef_))\n",
    "print(\"b: {0}\".format(reg.intercept_))\n",
    "\n",
    "#Returns the coefficient of determination R^2 of the prediction.\n",
    "print(\"R-squared: \", reg.score(X, y))\n",
    "\n",
    "round(float(reg.score(X, y)), 3)"
   ]
  },
  {
   "cell_type": "markdown",
   "metadata": {},
   "source": [
    "#### Actual Depth"
   ]
  },
  {
   "cell_type": "code",
   "execution_count": 94,
   "metadata": {},
   "outputs": [
    {
     "name": "stdout",
     "output_type": "stream",
     "text": [
      "Correlation between Actual Depth and VGP/GP\n",
      "(-0.08712410753715587, 0.2794809959214527)\n",
      "Correlation between Actual Depth and VGP\n",
      "(0.04754284307903839, 0.5556146971691864)\n",
      "Correlation between Actual Depth and GP\n",
      "(0.16743673736446735, 0.03668635251276759)\n"
     ]
    }
   ],
   "source": [
    "print('Correlation between Actual Depth and VGP/GP')\n",
    "print(stats.pearsonr(trunc_actual, trunc_vgp_gp))\n",
    "print('Correlation between Actual Depth and VGP')\n",
    "print(stats.pearsonr(trunc_actual, trunc_vgp))\n",
    "print('Correlation between Actual Depth and GP')\n",
    "print(stats.pearsonr(trunc_actual, trunc_gp))"
   ]
  },
  {
   "cell_type": "code",
   "execution_count": 95,
   "metadata": {},
   "outputs": [
    {
     "name": "stdout",
     "output_type": "stream",
     "text": [
      "m: [-0.75954305]\n",
      "b: 0.3807782681608714\n",
      "R-squared:  0.07318500508712711\n"
     ]
    },
    {
     "data": {
      "text/plain": [
       "0.073"
      ]
     },
     "execution_count": 95,
     "metadata": {},
     "output_type": "execute_result"
    },
    {
     "data": {
      "image/png": "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\n",
      "text/plain": [
       "<Figure size 504x504 with 1 Axes>"
      ]
     },
     "metadata": {
      "needs_background": "light"
     },
     "output_type": "display_data"
    }
   ],
   "source": [
    "fig, ax = plt.subplots(figsize=[7,7])\n",
    "ax.spines['right'].set_visible(False)\n",
    "ax.spines['top'].set_visible(False)\n",
    "for axis in ['bottom','left']:\n",
    "    ax.spines[axis].set_linewidth(2.3)\n",
    "\n",
    "plt.tight_layout()    \n",
    "\n",
    "#run regression\n",
    "X = np.array(trunc_gp).reshape(-1,1)\n",
    "y = trunc_resid_1000\n",
    "reg = LinearRegression().fit(X, y)\n",
    "\n",
    "#Generated Predictions\n",
    "y_predicted = reg.predict(X)\n",
    "#Plot Our Actual and Predicted Values\n",
    "plt.plot(X, y, '*', color='black', alpha = 0.5);\n",
    "plt.plot(X,y_predicted,color='darkviolet', label = 'm = ' + str(round(reg.coef_[0], 3))\n",
    "         + '     r-squared = ' + str(round(float(reg.score(X, y)), 3)))\n",
    "plt.title(\"1000 ms\", fontsize = 20)\n",
    "plt.xlabel(\"Inferred Complete Ground Plane\", fontsize = 15)\n",
    "plt.ylabel(\"Linear Model Residuals\", fontsize = 15)\n",
    "\n",
    "legend = plt.legend(loc = 0, fontsize = 13, borderpad = 0.6, labelspacing = 1)\n",
    "legend.get_frame().set_facecolor('lightgray')\n",
    "\n",
    "\n",
    "#get coefficients and y intercept\n",
    "print(\"m: {0}\".format(reg.coef_))\n",
    "print(\"b: {0}\".format(reg.intercept_))\n",
    "\n",
    "#Returns the coefficient of determination R^2 of the prediction.\n",
    "print(\"R-squared: \", reg.score(X, y))\n",
    "\n",
    "round(float(reg.score(X, y)), 3)"
   ]
  },
  {
   "cell_type": "code",
   "execution_count": 96,
   "metadata": {},
   "outputs": [
    {
     "name": "stdout",
     "output_type": "stream",
     "text": [
      "m: [-0.47504241]\n",
      "b: 0.10916056133259697\n",
      "R-squared:  0.024670054677431552\n"
     ]
    },
    {
     "data": {
      "text/plain": [
       "0.025"
      ]
     },
     "execution_count": 96,
     "metadata": {},
     "output_type": "execute_result"
    },
    {
     "data": {
      "image/png": "iVBORw0KGgoAAAANSUhEUgAAAgQAAAIUCAYAAABl1DQNAAAABHNCSVQICAgIfAhkiAAAAAlwSFlzAAALEgAACxIB0t1+/AAAADh0RVh0U29mdHdhcmUAbWF0cGxvdGxpYiB2ZXJzaW9uMy4xLjEsIGh0dHA6Ly9tYXRwbG90bGliLm9yZy8QZhcZAAAgAElEQVR4nOzdeXhU5dnH8e+dHUJIEAHBsFglRRFZBTcqihvaQHGp2mpFUeveBV/rVl6LtqUW7asVN6pFrZVarUIQtC644FIBg7JoLCpCMLInEAiEkOf9YyZDJsmESTL7/D7XlSszzzln5p7JZM59ntWcc4iIiEhyS4l2ACIiIhJ9SghERERECYGIiIgoIRARERGUEIiIiAhKCERERAQlBCIiIoISApGEZWadzexyM3vBzFaZWZWZVZjZQjObaGaN/v/NrI+ZuWZ+ZjXzfJeY2YdmVul9njfN7PvhfZUiEipp0Q5ARMLmPOAhoAxYAKwBugFnA38BxpjZea7p2ck+Bl5sonx5U09kZtOASUApMAPIAC4AiszseufcA218LSISZqaZCkUSk5mdDGQDLznnauuVHwR8CPQEznXOPV9vWx/gK+AJ59yEIJ/nOOBd4AvgaOfc1nqPtcQbQz/n3Oo2viQRCSM1GYgkKOfcG865ovrJgLf8W+Bh791RIXiqq7y/f1uXDHifZzUwHcgELg3mgcxsgrdpYoKZnWpm73ibIDaa2V/NLM+732Azm2tmW73b53gTkIaP9x0ze7Rek8kWM1tmZg+bWec2vm6RhKKEQCQ57fH+rgmwvYeZ/dTMbvX+PqqZxzrZ+/vlJrbNb7BPsMYCLwEb8SQv/wUmAC+a2THAQjxNno/hqZ0oBF6q3y/CzLoDi/AkIyuA+4Gn8NSAXAx0b2FMIglNfQhEkoyZpQE/8d5t6iQOcKr3p/5xbwKXOOfW1CvLBg4GKp1zZU08zn+9vwtaGOZYYLRz7i3v86QArwCnAPOAK51zT9eL4zHgMjyJwWxv8bnAAcDPnXP3NXgt2YBfzYlIslMNgUjymQocCcxzzr3SYNtO4E5gKNDJ+3Mink6Jo4DXvSfTOrne3xUBnquuPK+FMT5TlwwAeJs9nvLeXV4/GfB60vt7UBOPVdWwwDm3wznXqFwkmSkhEEkiZnYDntEAn+GpNvfjnNvgnJvsnPvIOVfu/XkbOA34D3AYcHkrnrqlvZcXN1H2jff3kia2rfP+zq9XNgeoBKab2fNmdqWZ9Tcza2EsIklBCYFIkjCza4H7gJXASc65LcEe65yrwTNUEeB79TbV1QDk0rT91SAE0tT+NUFsS68rcM59DQwH/oWnqeERPMMmv/YmRiJSjxICkSRgZj8HHsBzQjzJO9KgpTZ6f/uaDJxzO/BcnXfwduJrqK/39+eteL42c8596pw7H+gMDANuxvO9d5+ZTYxGTCKxSgmBSIIzs18BfwKW4kkGNrTyoY7x/v6yQfkb3t9nNHHMmAb7RIVzrsY5t8Q59wfgQm/xD6IZk0isUUIgksDM7Nd4OhEuwdNrf9N+9h9hZhlNlJ8M/MJ7928NNtfNaXCbmXWqd0wf4FpgN/DX1sTfFmY23My6NbGprmxnJOMRiXUadiiSoMzsEmAKsBd4B7ihif50q51zM+vd/wPQ3zvEsNRbdhT75hH4tXPuvfoP4Jx7z8zuBX4JfGJmz+GZuvh8PMP+ro/SLIU/Aq41s7eAVcBW4FA8QxN3A/8XhZhEYpYSApHEdYj3dyrw8wD7vAXMrHf/KWA8cDSe6v50YD3wLPCAc+6dph7EOTfJzD4BrgOuxDPG/yPgj865uW17Ga32DJ5ZEo8DhgDt8PR3mAXc45xrcl0GkWSltQxEREREfQhERERECYGIiIiQ4H0IvL2l+3jvrnbOVUcxHBERkZiV6DUEfYAS70+fqEYiIiISwxK6hqC+kpKSkmjHICIiEmUB1/JI9BoCERERCYISAhEREVFCICIiIkoIREREBCUEIiIighICERERIYmGHYokkoqKCsrKyqipqUHrkYgIgJmRlpZG9+7dyc3NbfHxSghE4kxFRQWlpaWkpaWRmZlJE0sai0gScs5RW1tLaaln5fKWJgUx12RgZmeYWYmZrTKzm5vY3svMFphZsZl9YmZnRiNOkWgpKysjLS2N1NRUJQMi4mNmpKamkpaWRllZWYuPj6mEwMxSgel41mE/ArjQzI5osNvtwLPOucHABcCDkY1SJLpqampISYmpf10RiSEpKSnU1NS0/LgwxNIWw4FVzrkvvQsRzQLGNdjHAR29t3OBbyIYn0jUOedUMyAiAZlZq/oWxVpCcDCwtt79Um9ZfXcAF5lZKTAPuL6pBzKzK4HnwxCjiIhIwom1hKCpy56Gac6FwEznXD5wJvCUmTV6Hc65R4FzQh+iiIhI4om1hKAU6Fnvfj6NmwQmAs8COOfeB7KAAyMSnYiISIKKtYRgEdDXzA4xsww8nQbnNNhnDTAawMwOx5MQbIxolCIiElPKysro27evb8idtFxMJQTOuRrgOuAV4FM8owlWmNkUMxvr3W0ScIWZfQw8A0xwmplFRFpo2bJlnHPOOQwYMICTTz6Z2bNnB3Xczp07Ofnkk+nXr59f+cSJExk4cKDvZ8CAAfTt25dXXnkFgNLSUvr27ctRRx3l2+eEE04I+euS8Hj77bcZM2YMRx55JGeeeSbvvPNOs/tv3ryZa665hkGDBjF8+HDuvvtuamtrfdvvvvtuxowZw6BBgzj++OO57bbbKC8v921//vnnKSgo8PtM/fznPw/b64MYnJjIOTcPT2fB+mWT691eCRwf6bhEJHFs376diRMnMnHiRP7+97+zaNEirr32Wnr16sXgwYObPXbatGn07NmTb77xb8187LHH/O7/4x//YNq0aYwaNcqv/JVXXqF79+4heR0ttWfPHtLT06Py3MGKxRjXrFnDtddey1133cWYMWOYP38+1157LfPmzSM/P7/JY375y1+SnZ3NO++8w9atW5k4cSK5ubn89Kc/BSA1NZVp06ZRUFDAtm3buOmmm7j55pt5+OGHfY/Rs2dPXn/99Yi8RoixGgKRcJs8eTITJkxo9DN58uT9HyytNmrUKKZPn85FF13EwIEDOeuss/jss88oKipi9OjRDB48mFtvvbVVY6db45VXXiErK4srr7ySzMxMTjjhBE499VRmzZrV7HEffvghixYt4oorrtjvc8yaNYvx48eTmZkZqrBb7P777+fiiy9m6tSpHHPMMVx11VVN7rdixQouuOACBg8ezLBhw/jhD39IRUUFAJWVldx0000MGzaME088kX/961/069eP//znP77nuOSSS/we78c//jHTp08HoKqqimuuuYZjjz2WQYMGMW7cOBYuXOjb9/nnn2f06NHMmDGDE044gbFjPZXBW7du5ZZbbmHkyJEMHz6cG264gU2bNvmO27hxIz/96U8ZPHgwp5566n6v2NvihRde4Mgjj2TcuHFkZGQwbtw4+vfvzwsvvNDk/mvXruW9997jV7/6FTk5OfTq1Ysrr7zS7/M1adIk+vfvT3p6Op07d+aiiy7yvafREnM1BCLhtGbNGvr06dOofPXq1RGPJRyqF0zHbfwiIs9lXQ4l46Rrg97/hRde4OGHH6Z3797cfPPNXHPNNRx33HEUFRVRXl7O+PHjOeaYY3wnhIauuOIKlixZEvDx77jjjoDHNvTZZ5/Rv39/v/kc+vfvz4svvhjwmKqqKm6//XamTZtGVVVVs4+/fPlyli9fzj333NNo23nnnUd1dTV9+/blhhtuYMSIEUHF3FqLFi1i1KhRvP322+zdu7fJfX7zm98wcuRInn76aWpra1m+fLnvKv23v/0tq1evZv78+WRlZfGrX/0q4OM0pba2ltNPP527776bzMxMZs6cyXXXXcfrr79O586dAVi3bh0bNmzgtddewzmHc45rrrmGQw45hHnz5pGWlsaUKVP45S9/yZNPPgl4TqgdOnTg7bffZteuXVx/fZMj0H0WL17MlVdeGXB7jx49mDt3bpPb6j4v9R1xxBF8+umnAffPycmhd+/efvuXlpayfft2cnJyGh3z/vvvN2qGKisr49hjjyUtLY2hQ4cyadIkevbs2ejYUFFCICIRcf7553PYYYcBUFhYyJw5c/jFL35B+/btad++PSNGjGDZsmUBT+ozZswIWSw7duxo9KWck5NDZWVlwGOmTZvGySefzFFHHbXfK7lnnnmGESNG8J3vfMdX1qlTJ5599ln69+9PTU0Nzz33HBMnTuS5555rdCIIpe7duzNx4sRm90lPT6esrIyysjLy8/N9zSa1tbXMmTOHGTNm0KVLFwBuuukmXn311aCfPzs7m3Hj9s0vd8UVVzBjxgyWLVvma05JS0vjxhtv9NWmLFu2jOXLlzNz5kxf2U033cTw4cMpKyvDzHj//fd57bXXyMnJIScnh+uuu45LL700YBzDhg3jo48+Cjru+pr6vHTs2JFVq1a1aH/w1Lg03Pbyyy/z7LPP8vTTT/vKjj76aF566SV69+7N5s2b+eMf/8iECRMoKiqiffv2rXod+6OEQCSBtOSKPdK6du3qu92uXTtSU1N9V4gAWVlZ7NixI+TP+9BDD/naZXv06MH8+fPJzs5m3bp1fvtt376dDh06NPkYixcv5q233qKoqGi/z7d9+3bmzp3L7373O7/y7Oxs34k2IyODn/zkJ7z++uvMnz8/rAlBwzbuX//618yZ4xm8NWzYMB577DGmTp3K9OnTueCCC0hPT2fs2LFcf/31lJeXU11dzcEHHxzw8fZn165d3H333SxYsICtW7eSkpLCjh072LJli2+fLl26+DWtlJaWUl1dzbHHHuv3WJmZmZSVlfmm7q4fVzivnLOzs9m+fbtf2bZt28jOzm7R/kCjz9j8+fP59a9/zcMPP+xXC9GrVy/f7S5duvDb3/6WIUOGsHTpUo477rg2vZ5AlBCISFyYOHEiixcvDrh9ypQpfleida6++mquvvpqv7J+/fo1uspduXJlwBPze++9x7fffsuJJ54IeDq+7d27l+HDh/P73/+e0aNH+/adM2cO7dq149RTT93va0pJSQn78tUN17248847ufPOO/3KevbsydSpUwEoKSnh0ksvJT8/n3POOYf09HTWrVvnq/5uOKyvffv27Ny5069sw4YNvtuPP/44H374IU8++ST5+fmYGcOHD/d73Q1j7NGjB+3atWPx4sVNrttRt3BP/bjWrl3baL/6Fi1axOWXXx5we12y2JR+/frxwQcf+JWtXLky4Im5X79+bN++nTVr1vhO7CtXriQ/P9+vduC5555j6tSpPPLIIwwdOrTZ+M2s1VMSB0udCkUkLjz22GN8/PHHAX+aSgYCOe2006iqqmLGjBlUV1fz3nvv8e9//5sLLrigyf0vvfRSXn31VWbPns3s2bP53e9+R2pqKrNnz+b44/0HPc2aNYtzzz2XjIwMv/Li4mI+//xzampq2L17N7NmzeLDDz/ktNNOa/mbEWL/+te/WL9+PeCp2q5bMS8lJYXCwkLuv/9+Nm3axPbt25k2bZrfsQMGDGDFihUsX76cmpoannrqKb+kobKykoyMDPLy8qiurubPf/6z72o5kAEDBnD44Ydz1113sXXrVsAzjK+ujb979+6MGDGCu+++m+3bt7Np0yZfJ8ZAjj766GY/P4GSAYAf/OAHLF++nKKiIvbs2UNRURErVqxg/PjxTe7fs2dPjjvuOF98a9euZcaMGX6fryeeeII//OEPPP74400mAwsWLKCsrAznHOXl5dxxxx106tSJQYMGNfs620IJgSSVXr16sXr16kY/9avnJPF17NiRv/zlL7z88ssMGTKE2267jSlTpvgNORwzZgwPPfQQ4Olf0L17d9/PAQccAHhOTFlZWb5jiouLKSkp4fzzz2/0nKWlpVx99dUMGTKEE044gdmzZ/PII49w5JFHhvnV7t8HH3zA+PHjGThwIOeddx6FhYW+vhy33347+fn5nH766Xz/+9/n5JNPJjU11XfsiBEjmDhxIpdddhnHHXccmzZtYsiQIb7tl112GTk5OZxwwgmMHj2adu3a+VX1NyUlJYWHHnqI2tpaxo8fz6BBgzj33HP9+m7ce++9VFdX873vfY8LL7ww4Mk5FHr37s306dN58MEHGTx4MA8++CDTp0/3az4ZOHCg31wW9957L7W1tYwcOZJzzjmH0aNH+41Oueuuu6isrOTiiy/2m2ugzn/+8x/OPfdcBg4cyJlnnkl5eTkzZ84M2EwRCpbIc/qYWQFQAp5qsIKCgihHJNJ2y5Yto127dtEOQ5JYv379eOKJJ8I+QkJar6qqigEDBjS1KeBSqaohEBERESUEIiIiolEGIiLSQp999lm0Q5AwUEIgEgMmT57MmjVrGpX36tWLKVOmRCEiEUk2SghEYkCiT6ksIrFPfQhERERECYGIiIioyUBaQO3csaFu+tL6K/WJiNRp7feDEgIJmtq5Y0NaWhq1tbV+s8WJiNSpra0lLa3lp3clBCIxoG5K5abKG+revbtvrviUlJSI1RR88803VFdXNyrPyMigR48eEYlBRAJzzlFbW0tNTU2LV6UEJQQiMaElTS65ubmAZ8W33bt3h321vDq1tbV+8/bXqampoaqqKiIxiEhgZkZaWhr5+fm+74mWUEIgEodyc3Nb9Q/fFhMmTAjYZDRz5syIxiIioadRBiIiIqIaAgleS9q5o0GjIEREWk8JgQQt1k+qGgUhItJ6SghEJCixXkMkIm2jhECkBZK5WSLRX59IslNCINICapYQkUSlUQYiIiKiGgJJHGrjFhFpPSUEkjDUxi0i0npqMhARERHVEIi0hJolRCRRWaQWRokGMysASgBKSkooKCiIckQiIiJRFXB5VNUQiEhSz68gIh5KCBKcvuglGJpfQUSUECS4ZPyiVxIkItJySggk4SRjEiQi0lZKCEQkJFQzIxLflBCISEioZkYkvikhEBHNryAiSggSnb7oJRiq0hcRJQQJLhm/6JUEiYi0nBICSTjJmASJiLSVEgIRCQnVzIjEN61lICIikjwCrmWg5Y9FREQk9hICMzvDzErMbJWZ3Rxgnx+a2UozW2Fmf490jCIiIokmpvoQmFkqMB04FSgFFpnZHOfcynr79AVuAY53zm01s67RiVZaQ7PZiYjEpphKCIDhwCrn3JcAZjYLGAesrLfPFcB059xWAOfchohHKa2m2exERGJTrDUZHAysrXe/1FtWXwFQYGbvmtkHZnZGUw9kZlcCz4cnTBERkcQSazUETfV+bDgMIg3oC4wC8oF3zOxI51y530HOPWpmb+IdZSAiIiKBxVoNQSnQs979fOCbJvaZ7Zzb45z7Cs8Jv2+E4hMREUlIsZYQLAL6mtkhZpYBXADMabDPi8BJAGZ2IJ4mhC8jGqWIiEiCiakmA+dcjZldB7wCpAKPO+dWmNkUYLFzbo5322lmthLYC/yPc25z9KKWltBsdiIisUkzFYqIiCQPzVQoIiIigSkhEBERESUEIiIiooRAREREUEIgIiIiKCEQERERYmweAhGRWKBVOSUZKSEQEWlAq3JKMlKTgYiIiCghEBERESUEIiIighICERERQZ0KJYGpp7i0llbllGSkhCCJJNsJUj3FpbUS8f9BZH+UECQRnSAlFiVboioSq5QQiEhUKVEViQ3qVCgiIiJKCERERERNBpLA1FNcRCR4SgiSSLKdINUhTUQkeEoIkohOkNJa4RwJEKlEVaMZRJqnhEBE9iucIwEidTLWaAaR5ikhkKjRFZuISOxQQiBRoys2EZHYoWGHIiIiooRARERE1GQgIkFIhCGrifAaRMJJCYGI7FcidPJMhNcgEk5KCCRqdMUmIhI7zDkX7RjCxswKgBKAkpISCgoKohyRiIhIVFmgDaohEIlRmqdBRCJJCYFIjNI8DSISSRp2KCIiIkoIRERERAmBiIiIoIRAREREUKdCkZileRpEJJI0D4GIiEjy0DwEoaKx4SIikoiUELSQxoaLiEgiUqdCERERUUIgIiIiSghEREQE9SEQEQk5dT6WeKSEoIU0NlxE9kedjyUexVxCYGZnAPcBqcBfnHNTA+x3LvBP4Gjn3OJIxafsXkREElFM9SEws1RgOjAGOAK40MyOaGK/HOAG4D+RjVBERCQxxVRCAAwHVjnnvnTOVQOzgHFN7HcncDewK5LBiYiIJKpYSwgOBtbWu1/qLfMxs8FAT+fc3EgGJiIikshirQ9BU3Ms+xZbMLMU4E/AhP0+kNmVwPUhi0xEJEjqfCzxKNYSglKgZ737+cA39e7nAEcCb5oZwEHAHDMb27BjoXPuUTN7E+/iRiIikaLOxxKPYq3JYBHQ18wOMbMM4AJgTt1G51yFc+5A51wf51wf4AOgUTIgIiIiLRNTNQTOuRozuw54Bc+ww8edcyvMbAqw2Dk3p/lHEIlPmshGRKItphICAOfcPGBeg7LJAfYdFYmYRMJNE9mISLTFWpOBiIiIREHM1RCISGJRc4hIfFBCID764pZwUHOISHxQQiA++uIWEUleSghEYoAmshGRaFNCEKdUvZ9Y9DcTkWhTQhCnVL0vkniU6Es0KSEQkbBSc0jwlOhLNCkhEB99cUs46MpWJD4oIRCfWPviVvWpiEjkKCGQmKXqUxGRyFFCEKdUvS8iIqGkhCBOqcpcJPEo0ZdoUkIgIhIjlOhLNGm1QxEREVENgcQuVZ9Gn0Z6iCQPJQQSs3TCib5YHemhREUk9JQQiEjcidVERSSeKSEQiSG68hWRaFFCIBIGrT2x68pXRKKl1QmBmfUD+gEfOue+CV1IIvEvVk7sqnEQkWAFlRCY2SOAc85d5b1/PvA3IBWoNLMznHPvhS9MEWmNtiYmGukhkjyCrSE4A7il3v07gWeAm4A/e++PDm1oIhJtsVqLoERFJPSCTQi6AmsBzKwvcBhwtnPuWzN7FPhHmOITEWkkVhMVkXgWbEKwBejmvX0K8K1zbrn3vuFpOhCRNtKVr4hES7AJwXxgipl1w9NM8Gy9bUcCq0Mcl0hca+2JXVe+IhItwSYEk4A/AVcBbwOT620bD7wc4rhE4lqsnNhV4yAiwTLnXLRjCBszKwBKAEpKSigoKIhyRNJSGjYnIhJSFmiDJiaSmBYr4/lFRBJdwITAzBYBQVcfOOeGhyQiEUk6qgkSib7maghW0IKEQESktVQTJBJ9ARMC59yECMYhIiIiUaQ+BJI0VC0tIhJY0AmBmfUBLgIKgKyG251zPwxZVCJeoRw2l6zV0kqERCQYwS5uNBR4C8/0xQXAJ0Au0AcoBVaFKT5JcjphtV2yJkIi0jLB1hD8EXgeuAzYA0x0zn1kZsfhWeTo7jDFJxIUXQXHN02gJBJ9wSYEg4A/ALXe+1kAzrn3zOw3wFQ0W6FEka6C45uSNpHoCzYhcEC1c86Z2QagN/Ced9taoG84ghOR2KKaGJHEFWxCsBI4FFgAvA/8wswWA9V4Fjv6IjzhiYSOqqXbTjUxIokr2ITgUTy1AgC3Av8GPvPe3wGcG+K4REIuWa9glQiJSDCCSgicc0/Vu/2pmR0OHIenL8EHzrkNYYpPRNooWRMhEWmZVk1M5JyrxFNLIBITdBUsItI2wc5DcM3+9nHOPdj2cERaR1fBIiJtE2wNwQPNbKtbAEkJgUiCU02MSOIy51q3oKGZ5QGnA78CLnTOlYQysFAwswKgBKCkpISCgoIoRyQiIhJVFmhDqxc3cs6VA/8ws1zgEWBUax9LREREoisUqx1+BQwLweMAYGZnAPcBqcBfnHNTG2z/JXA5UANsBC5zzn0dqucXEQkHTeoksa5NCYGZdQcm4UkK2szMUoHpwKl4Fk1aZGZznHMr6+1WDAxzzu00s6vxrKNwfiieXyQZ6UQVGZrUSWJdsKMMNrKv82CdDCAH2AWcHaJ4hgOrnHNfep93FjAOz0yJADjnFtTb/wM8SzJLlOmkEr90ohIRCL6GYDqNE4JdeK7iX3bObQ5RPAfjWRuhTikwopn9JwLzm9pgZlcC14coLtkPnVSkrZRUhofeVwlWsDMV3hHmOOo01fuxyWEQZnYRnr4LJza13Tn3qJm9iXeUgYjENiWV4aH3VYIVik6FoVQK9Kx3Px/4puFOZnYKcBtwonNud4RiExERSVgBEwIz+4oAV+dNcc59JwTxLAL6mtkhwDrgAuBHDeIajGeY4xlaQ6ExVQ+KxCZN6iSxrrkagufxTwguANoDrwIbgK54RgPsAGaFIhjnXI2ZXQe8gmfY4ePOuRVmNgVY7JybA/wR6AD808wA1jjnxobi+ROBqgfjWzQSOp2o2ibYv5kScol1ARMC59yNdbfN7FbgC+As59yOeuUdgLnAtlAF5JybB8xrUDa53u1TQvVcEjo6qYRGNBI6najaRkm4JIpg+xBcC1xZPxkAz6qHZjYNmAHcFergJH7opCJtFYtJZSI0wcXi+yqxKdiEIBfoFmDbQXiq8EVEWi0WT7CJcPUfi++rxKZgE4I5wB/NbBtQ5JzbbWaZwFjgD0BRuAIUkdBIhKtdEQmfYBOCq4GZwLOAM7PteGYpNDzJwtVhiU5aTNWDEkgiXO3uj5IekdYLdmKiCmC8mR0BHI2nmeBbYFGDdQYkyvSlFz+aOnkVFxdTXFzM4MGD/cqV0AUnGkmPknBJFC2amMh78lcCIBICTZ28+vTpw+rVq5k5c2ZUYpKWUxKe2JKp1qm5iYmOAL7w9hc4Yn8PpJoCEUk0uvqXZGhqq9NcDcFy4BjgQ+/tQLMWmndbamhDExGJrkS7AhRpTnMJwUnsax44KQKxiEgYteRqN5mqSUXEo7mZCt9q6raIxKeWnMjjtZpUVfwirRdUp0Iz6wpkO+e+8t434ArgCOB155zmIQgxXaElvlCevPR58ZgyZUqT78WaNWuYPHlyUr0XIi0V7CiDmcAq4Abv/d8At3rLrjOzy51zM0MeXRKL1ys0CV4oT076vOyj90JCKZlqnYJNCIYAjwKYWQqeiYhudc7dbWa/AX6OJ2kQkQhoeBW8cOFCli5dSm5uLiedpC4/IqGSTLVKLVnLYLP39k7HwAsAACAASURBVFDgAOBp7/03gEkhjktEmtHwKnjp0qXk5eVRXl4evaBEJK4FmxCU4ukv8A5wFvCZc26dd1susCsMsYlIlCRTNamIeASbEDwO3G1mp+BJCG6pt+0Y4NNQByYi0ZNM1aQi4hHsWga/N7N1eNYxuB5PglDnAOAvYYgtqekKTVoiNzeX8vJyKisr/T43yfh50f+OSOuYc4EmIIx/ZlYAlACUlJRQUFAQ5YhEQmPChAkBe9JrHQQRaYYF2hD04kZmlglcBgwDegLXOuf+a2bnA58455Km2eDbOX9k48sP+O53POo0svuOoNOx55HaPjeKkUmy0FWwiIRaUDUE3ivtV/F0IFwCjAKOds59ZGYPAB2dcz8JZ6CtEeoagrqhXoelbmRc5vL97p+SmU23whs5YOSPSEnPatNziyQrTbokElJtriG4H1gDFAKVQHW9bW8Bf2h1aHGkbqhXDX14nqMBSKvdQ9q6jzgrs/Fij7W7d1D23G8oe+43fuUZXfrQrfBGcoechaWkRCR2kdaIhZOxJhoSiYxgE4KRwHnOuXIza7iq4Xqge2jDih81Kems2tuNmx+c71devWkNG+b/ma3vP9vomOqNq1n7+HWsffw6v/L23xlKt8Ib6fDd48Ias0iwdDIWSR7BJgS7gHYBth0MaDaUBjIO7EX+xX8k/+I/+pVXrVnG+rn3sn35G42O2fnlEr6678JG5R0Hnk63wklk9fhu2OIVEZHkFmxC8Cpwq5m9hqfJAMB5OxpeD8wLR3CJqF2vAfS55q9+Zc45Kle+xfqiaVStWdbomG0fv8K2j19pVH7AyIvoOuZ60vMOClu8IiKSHIJNCP4HeBfPYkavAg6YDPQHMoCzwxJdkjAzcvqPIqf/KL9yt7eG8sVzWF80jT1b1jU6bss7f2PLO39rVN71zJ9x4OjLSW3XMVwhi0iIxEI/DREIfmKitWY2EPglMBr4Ak+/gX8C9zrnNjd3fKKI9FAvS02j04iz6TTCP9+q3b2TzW8/yfqie3A11Y2O2zDvPjbMu8+vLDU7j26FN9LpuPNJScsIS7wi4RDu/7ton5DVT0NiRdDzEDjntgK/9v4kpVjJ1lMy29Pl1KvocupVfuU12zez8dWH2fTao42O2bujnG9m3c43s273K8/sdijdCifRcdAYjXiIkGifgFoiFuY7CPd7ohOyiEfQCUEgZnYYMMk5d3UI4pE2SMvpTPezb6P72bf5le/esJoN8+6j/MN/NTpm9/ovWPOXaxqVZ/c9hm6FN5J92NFhizdZxdMJKNYSFBEJn2YTAjNLY9/MhF855xbX23Y08CtgHLANUEIQozK79qHnhD/Rc8Kf/Mp3flXM+rn3Uvnp242O2fHfD/jy3nMblecOLaTrWT8n66DDwhaviIhEXsCEwMx6Ay8Bh+OZ2ciZ2XzgR8AjwA+BzXg6Fz4Q6HEkdrU/ZDCHXP+UX5lzju3L32B90TR2lTaebKliSREVS4oalXc+8RK6nHEt6bndwhaviIiET3M1BL/Hs5Lhj4CPgd7esiXe2/8L3OOcqwp3kBI5ZkbHAaPpOGC0X7nbu4etHzzP+qJp1Gzb2Oi4zW89wea3nmhU3q3wRjqfdCmpWR3CFnNbtKQ9P57a/iV+xEI/DRFoPiEYCdzqnPuH9/5nZlYGLAX+xzl3T9ijk5hhqekccPwFHHD8BX7le3ftYPObM1k/9x6o3dvouPVF01hfNM2vLLVDZw4aeyOdjj0PS00Pa9z705L2/Hhq+5fgRfuErGRSYkVzCUEP4LMGZXV1yAvDE47Em9SsbLqecS1dz7jWr3xPxQY2/vshNi94vNExeys3s+7vt7Du77f4lWf16Ee3sTeSM+AUzAKuvxG36moYiouLWbjQ8y+0ebNnxG7nzp3Jzs5mwoQJgGodIknvs4hHcwmBAQ0v+eqWRmw8+F2knvTcrvQ473/pcd7/+pXv+nYVG+bdR8XiOY2O2fXNZ3z98OWNyjv0G0m3wkm0P2Rw2OKNhLoahvq1DC+++CIAP/jBD/z2Va2DiETa/oYdzjSzHU2UP2VmO+sXOOeGhy4sSVRZBx1Gr8v+DJf92a98xxeLWD/3XnaUvNfomMrP3qHys3calecePY5uZ/2CzK6HhC1eEZFk0VxC0LiHmMeKcAQiyS370KP5zs+e8StzzrHt41dYXzSN3WX/bXRMxaLZVCya3aj8wNGX0+W0q0nLOdBXFqhDYHFxcZP9AkREkk3AhMA5d2kkAxFpyMzIHXQGuYPO8Cuvralm6/v/ZH3RPeytbDxr9qbX/8Km1//iV3aOM1Z0GcIX7Q9nr+3ryFhcXBx0h7Jodz4TEQknc87tf684ZWYFQAlASUkJBQUFUY5Iwmlv1XY2LXicDXPvDfqY7bWZHH7Jb8kbPh5LbfPEnQFNnjyZv//973To4D/8sqysjO7duzfZh2DmzJlhi0dEklbAHtvh+wYUibDUdjl0O/NndDvzZ37le8q/Zdb/nM2g9MYrRuak7Kb0qRspfepGv/KsnkfSrXASOf1PCsmIhzVr1nDwwQdTUVHhV15dXY1zrlHNg2odRCTSlBBIwkvPO4jX9xTwxcGn+ZXn1Gyl94Z3+W5a44mWdq1dztcPNm4163DEiXQrvJH2vY9qcRwnnXRSozLVBIhIrFBCIC2SSLP1bU/rxNzqIzn30Zl+5ZWfv8/6onvY+cWiRsdUrnyLypVvNSrvdMx5dD3zBjIO1JW9iMQnJQTSIvE6W19LOgR2KDiWDpOe8ytztbVsWzqf9UX3sHv9F42O2frBP9n6wT8blR94yk/pctpVjcpFRGKNEgJJCm2tvbCUFHKHnEXukLP8ymv37GbLu8+wvugeaqu2NTpu02uPsOm1R5jUHtjgKashlZUdhvBFu35tiklEJJSaW+3w2RY8jnPOnR+CeETiSkp6JgeOmsCBoyb4le/dWcHG12ewcf6fGx2Txl6OqlzEUZWLoD0su6Y3AOmd8+n2/UnkHT0OS0mNRPgiIj7N1RB0iVgUIgkmtX0uBxXeyEGF/qMXqresY+PLD7Bl4d8bHbNncymlT/yC0id+4Vfers8guhXeSId+JyTkGg8iEhuam5iocZfoCDCzM4D7gFTgL865qQ22ZwJPAkOBzcD5zrnVkY5TpDUyDjiYg3/0ew7+0e/9yqtKV7Jh7p/Y9sm/Gx1TtXopq/98UaPynAGn0K1wEu3yjwhbvCKSPFrch8A8lyjdgQ3OuZpQBmNmqcB04FSgFFhkZnOccyvr7TYR2OqcO8zMLgD+AKi5IkI0W194tMs/gt5XzfArc86xo+Rdz4iHrz5qdMz2Za+xfdlrjco7HXc+Xc/8GRkHHBy2eEUk8QQ9U6GZnQn8LzAITyJxtHPuIzObAbzlnPtbm4MxOxa4wzl3uvf+LQDOud/X2+cV7z7vm1ka8C3QxTXxQjRToSQiV7uXiiVFfDtnGns2rw36uC5nXEeXU64ktX1uGKMTkRjXtpkKzewnwOPA08CDwF/rbf4cz1V7mxMC4GCg/jdcKTAi0D7OuRozqwA6A5saxHwlcH0IYhKJKZaSSt7RPyDvaP/pjmurd/HANWcxMnM1aU1U3m18+QE2vvyAX1lKVg7dCidxwAkXkpKeFc6wY1Iizash0lbBNhncBvzROXeLt1q/fkKwArix6cNarKnMpeGVfzD74Jx71MzexFtDIJLoUjKy+KimJ1vyR/qVZ9TuomvZu4xIb3ziq921nbJ/3kHZP+/wP6ZLH7oV3kjukLOwlJRwhh1V8Tqvhkg4BJsQ9AZeDbBtF9AxNOFQCvSsdz8f+CbAPqXeJoNcYEuInl8k4VSnZLFwz6FcPuMd//JNa9gw/362vt94QqXqjatZ+/h1rH38Or/y9ocO84x4KDg2rDGLSOQFmxCsBQYDbzSxbRiwKkTxLAL6mtkhwDrgAuBHDfaZA1wCvA+cC7zRVP8BEWlexoG9yL94GvkXT/Mrr1qzjPVz72X78sb/7ju/WMxX/3dBo/KOA0+nW+Eksnp8N2zxikh4BZsQPAb8r5mtB170lpmZjQZuAkLS2ObtE3Ad8AqeYYePO+dWmNkUYLFzbo43lqfMbBWemoHG304i0mrteg2gzzV/9StzzlG58i3WF91D1ZpPGh2z7eNX2PbxK43KDxh5EV3HXE963kFhizcWqW+CxKNgE4I/4KmmfwLY6y17D89J+xHn3P2hCsg5Nw+Y16Bscr3bu4DzQvV8IokkXMNCzYyc/qPI6T/Kr9ztraF80YusL7qHPVsbtu7Blnf+xpZ3/Psbdxw8hryhheQceTIpGe3aFFesUt8EiUdBJQTeKvlrzexe4BQ8vfq34Kmu/zyM8YlIC0T66tNS0+h0zLl0OuZcv/La3TvZ/PaTrC+6B1dT7bdtW/F8thXP93+c9CzyhhWSO3QsHb57HJYamWVWNK+GyD5Bz0MQjzQPgUhs2Vu1jW0fv0r5kjlUrnhzv/un5XYld2ghecPG0q73wLiZunnChAn06dOHBQsWUFFR4SuvrKzkhBNOUNOBRFPL5yEws++15Bmcc2+3ZH8RST6p7TrS6Zhz6HTMOX7leyo2UFE8j4olRez8YrGvvKZiA5vfeIzNbzzmt39mt0PJHVpI7rBCsg46LCKxt0ZFRQV5eXl+ZX369FHTgcSk5url3sQzvr8um6hflWA0Hvuv5dkkIamDWPil53ZtctXI3Ru+omJJEeWLi9hdtq91cvf6L9gw7//YMO///PZv12ewp+lhyFlJ15FRpK2aSwgG1LvdHc9MhS8D/8KzsntX4BzgdOCycAWYyHSiiQ+J2EEs0p+91j5fZtdD6DrmBrqOucFX5pyjas0yKpYUUbFkrl9nxqrVxVStLqbsOf/H7HD498gdVkjuwNMjMnVzXd+EyspKv/LcXE0bLbGrudUOV9TdNrPfAU86525vsNvLZnYX8HOg8SorSaAtX6yJeKKR+BDpz14on8/MaN/7KNr3PoruZ9/mK3e1e9nx3w8oX1xExZIianftOxlXfvo2lZ++zbqn/sfvsXKHnEXu0EJyjjwppFM31/3v1/UlEGmJaF0sBtuVdzTwQIBtb+FJCJKSTuoiscFSUunw3ePp8N3jyf/xvlXTa6t3sX3FAk+Nwkcv+R1T8dFLjcpSsjp4OzIWkt33GCxFraESWdE6rwSbEGwBxtH09MXj0dTBIs0Kd8av5qfAUjKyyB08htzBY/yu2NNrd9Nj9xryd3/FQdXrfPvX7qpk67vPsPXdZ/weJy3vIPKGFpI7bCzteg0IasSDhjVKPAk2IZgKPGBmffBMHVzXh2AcMAa4LuCRIhL2jF81VS23JyWTr9v15et2fVm9ejUzZ870lJd/S8VHL1G+uIiq1cW+/WvKv2XT6zPY9PoMv8fJ7F7gnUOhkMyuh/hti/VkTImk1BfsxEQPmtk64FY8TQdpQA2wFDjbOfdic8eLxDNd5SWX9LyDOPDkiRx48kS/8l1l//U0MSwpYve3+5Zv2V32OeuL7mF90T1++7f/zlDP0MghZ5Ge2zUisbeUEkmpL+jpwJxzs4HZZpYCdAE2OudqwxZZEtCJJj4k4pVSpD97ifBZz+rel6yzfk63s/Z1mXLOUfX1x5QvnkPFkiJqKjb4tu38cgk7v1zSaGnpDv1HkTd0LB0HnkZqu5xIhS+yX62ZH/QAPMsd1wCbQxtO/GnLF10inmgkPkT6s5eon3Uzo32fQbTvM4ge5/qWXMHtraGy5D0qlsyhfHERbs8u37bKFW82nqXRzDcjY4fDv0dKemaEXoHEomgl0EEnBGZ2PnAHUFCv7HNgsnOu8YLqSSJRv+hEElGkvmgtNY2cI75HzhHf81teura6iu3L36B8SZH/eg7OUbF4DhWL5/g9Tkq7jt6OjIVkHzZcIx6SRLTOK0ElBGZ2IfA0MB/4PbAe6AacD8wys1Tn3KywRSkS58J9IkqEKvlIiHYCn5LRzjP3wZCz/MprKrey7eOXKV9cxI6Sd33ltVXb2LLwabYsfNpv//QD8n0dGbPyj4ibNR4ktgW1uJGZLQcWOueuamLbw8AJzrkjwxBfm2hxo8SiHtGSbKq3rPN2ZJxL1dcf73f/rIMP982hkHHg/pNB/U8lpYDZY7AJwS6g0DnXaB4CMzsVKHLOhW6arxBRQpBYAs36Vn/ImCSPZD6Z7frmc88aD0uKqN7w1X73b3/YcE/Tw5AzScs5MAIRSgxr+WqHDawHhtH0xETDvNtFRCImmYfMZfUoIKvHJLoVTvKVudpadn71kW8xqL2V+/p871z1ITtXfcg3//i13+PkDDiFvGGF5Aw4ldSs7IjFL7Ep2ITgr8AdZpYKPIcnAegKnAfcjqdfgYjEqWS+2k4UlpJC9qHDyD50GD1++Btfudu7h8rP3qV8SREVi4twNbt927Yve43tyxosQ5OS6puRscPhI0lJy4jUSwgLfbaDF2xCMAVIB24GflOvvAqY5t0uEpD+KWNbMl9tJzpLTSen/yhy+o+i50/2TZ60d9cOti9/nYrFRWz75N/7DqjdS/miFylf5D/fXGp2J3KHFZI3dCztvzMUS0mJ1EtoE322gxfsTIW1wG1mNg04Es9yyGXAcufc1jDGJwlC/5QisSU1K5u8YWPJGzbWr7xm+2Yqlr5MxZIidnz+vq98746tbHnrSba89aTf/hldevvmUMjq8d2IxC7h0aKJibwn/3fCFItIszS0TiT80nI603nkj+k88sd+5dWb11Kx5CXKl8xh19oV+8o3fs3Glx9g48v+C+Jm9exP3tCx5A79Phmd8yMSu7RNwITAzL7Xkgdyzr3d9nBEAlPTgtSnBDGyMjr3pMtpV9HltH2jz51z7Fr3mbcj4xz2bF7r27Zr7Qq+XbuCb1/072KWXXAsecPG0nHQGaR1OCBi8cv+NVdD8CZQNyZxf7NeOEBTaInEoETtvxHPsScKM6Nd/uG0yz+cg8bd5Ct3tbXs/HIJ5UvmULG4iL079rUs7/j8fXZ8/j7r/n6L32N1POo0cocV0nHAKaRkto/Ya5B99tdksAOYDcwCVoc9Ggm7RD05xKNI/S2C6b+hq20JJUtJIfuwo8k+7GgOPv9OX3ltTTWVn75DxeI5lC8pgtq9vm3bPvm3f+dGwNIyvR0ZC+nQ73gsNb3FseizHbzmEoJewAXenznAf4BngH86576NQGwSBtHq3Bfv/5ThOHnHUkdLJYMSCSlpGXQcMJqOA0bT89L7fOV7q7azbdlrVCyZ6zcM0tXspvyD5yj/4Dm/x0nr2MWztPTQ79P+kCHNTt2sz3bwAiYEzrlSPEMKp5lZXzyJwU+Be83sHTzJwfPOuS0RiVTiWrz/U8bSyVsSX7LV5KW2y6HT8PF0Gj7er3zPto1sK55P+ZIidq760Fdes20jmxc8zuYFj/vtn9H1EN9iUFndNTNtSwU77PC/wJ3AnWY2ALgSeBAYA5wdvvBERJKPElCP9I5d6HziT+h84k/8yndv/JoK70RLu775zFdeveErNsy/nw3z7/fbv13vgZ6mhyHfJ71T94jEHo9asvxxJvB9PDUFZwEbgNeaPUgkzJLtSkr2T5+JxJfZpTddz7iOrmdc5ytzzrGrdKVv6uY9W0p926q+/piqrz/m2+fv8nuc7O8eT96wQjoOGkNadl7E4o9VzSYE3qmKT8eTBPwA2A08D5wJvOWCWRlJJIx0JbV/8d5/o6X0mUhOZka7nv1p17M/B/3gZl+5q93LjlUfUrHYsxhUbdU237YdJe+yo+Rd1j19s99jdRw8hryhheQcOZqUjJhbty9smpuH4BHgHDzDCWcDPwRedc7tDXSMxL5kOznEskj9LXRVLMnMUlLpUHAsHQqO5eAf/c5XXrtnF5Ur3/as8bCkCOpd324rns+24vl+j5OS2d7bkbGQDgXHYqktmtcvLjT3iq4AtgNvAe2By4DLAvTmdM6580MfnoSaTg6tE46Tt/4WItGTkp5Fx4Gn0XHgaXDZn33le6u2se3jVylfMofKFW/6ymt372Tre/9g63v/8HuctNyuvqmb2/Ue2OyIh1jXXELwNp4Jh3K8PyJJSydviSTV5EVParuOdDrmHDodc45f+Z6K9VR8NI+KxXPY+dVHvvKaig1sfuMxNr/xmN/+mQcdRu6wseQN/T6Z3Q6NSOxt1dyww1ERjENERLyUgMae9NxuHHjSpRx40qV+5bvXf0nFR3MpX1zE7rLP95V/u4oNc+9lw9x7/fZv12cwecMKyR3yfdLzukUk9mAlXiOIJJW2XkmpR3ri0dW1RFJmt+/QdcwNdB1zg6/MOUfVmmW+GRlryvfN5Ve1upiq1cWUPef//dLhiBPJG1pIx4Gnkdo+N2Lx12eJPFDAzAqAEoCSkhIKCjRRhfibMGFCwB7pM2fOjEgMSkrCL5be41iKJVQS8TWFg9tbw47/fkD5krlULCmidldls/undjiAfne9R0pGu1CGEbCTg2oIJOktWLCAzz77jD179vjK9uzZw/z58znooIMYPHiw3/6BvuRa+6WoYXLhF0vvcSzFEiqJ+JrCwVLT6NDvBDr0O4H8H0/1lddW72L7igWeyZY+eslXvrdyC1VrV5B96LCIxKeEQJJeRUUFZkbHjh19Zbt27aK6uhoza/RFF+hLTl+KItIaKRlZ5A4eQ+7gMVGNQwmBiCSsulqbhQsXsnTpUl95bm4uJ510UhQjE4k9+00IzCwLqADOd869GP6QRERCo67WZunSpeTl7Zuatry8PIpRxQ61/Ut9+00InHO7zGwDUBOBeEQiqlevXixcuJDq6mq/8szMzEZlEn06gYWWmrmkvmCbDB4BbjCzV5xze/a7t0icmDJlCmvWrGl0BQnwySefRCQGDZMLXmtPYLm5uX61ApWVlaxevToq73Ei/r0T8TUlo2ATgjzgSGC1mb0OrMczi2Ed55z7VaiDE4mEXr16UVxcTGlpqV95eno6zrlGX3SBvuRa+6WoK9vwa9hfIJLDShtKxL93Ir6mZBRsQnAOnpUOAUY2sd0BSggkLk2ZMiUkX2j6UhSReBZUQuCcOyTcgYhIdCVi+7yqskWCp2GHIgIkZgezeE1kIkUJk9QXdEJgnjUdjwcKgKyG251zD4YwLpGkkohX56E2efJkiouLWbhwoV95dnY248aNi1JU8U2fLakvqITAzLoBrwNH4OkvUDcXcv2OhW1KCMzsAOAfQB9gNfBD59zWBvsMAh4COgJ7gd865/wXpxaJQ4l4dd5agZKj4uJixo8f36j8hRdeYM2aNUyYMMGvXMmUSMsEW0NwD57JiXoCa4EReEYaXAT8BDgrBLHcDLzunJtqZjd77zfsqLgT+Ilz7r9m1gNY4h0KqVlG4oSuhGV/AiVHDWsG6uzYsUPJlEgIBJsQnAj8DCjz3jfn3Brgd2aWgqd24PQ2xjIOGOW9/QTwJg0SAufc5/Vuf+OdMKkLoIQgTuhKWEQkNrVkHoKNzrlaM9sGdK237T1CM+Swm3OuDMA5V2ZmXZvb2cyGAxnAFwG2XwlcH4K4RJKCOpiJJLdgE4KvgO7e2yuAHwNzvfcLgS3BPIiZvQYc1MSm24KMo+5xugNPAZc452qb2sc596iZvQmUtOSxRZKVmmz2UdOWJKNgE4KXgNOAZ4G7gNlmVgrsAXoRZA2Bc+6UQNvMbL2ZdffWDnQHNgTYr6M3ntudcx8EGb9ITNPV+f5lZ2c3+R5lZ2eH/LnUtCXJKNiJiW6pd3u+mR0P/ABoB7zqnJsfgljmAJcAU72/ZzfcwcwygBeAJ51z/wzBc0qcS5QruXiKNdwCJUfjxo1r8n2aPHlyzCZTifL5lOTQqomJnHOLgEUhjmUq8KyZTQTWAOcBmNkw4Crn3OXAD4HvAZ3NbIL3uAnOuaVNPJ7EoFBfCetKLvG09EQZyydWfT4lnrRkYqJM4DJgGJ7hh9d6h/+dD3zinPu0LYE45zYDo5soXwxc7r39N+BvbXkeia5Y/vIWqbuiX7hwIUuX7rvOyM3NbbRAkkiiSQlmJzMrAD4Hfo9n4qDRQI5380jglqaPFBGJH3VX9B06dCAvL8/3U1FREe3QRMIu2BqC+/FU4xcClUB1vW1vAX8IcVwiIlGTm5tLefm+6U0qKytZvXp1TPRLEAmXYBOCkcB5zrlyM0ttsG09+4YkSpJQZykJRrx+Tho2D6xevZqZM2dGJxiRCAk2IdiFZ0RBUw5GMwUmnVjpLKXherEtVj4n0aLPp8STYBOCV4FbvRMLVXrLnLej4fXAvHAEJ7I/sXyVKaLPp8STYBOC/wHeBVbhSQ4cMBnoj2f64LPDEp2IxKV47a2vK3pJZsFOTLTWzAYCv8QzwuALPP0G/gnc6x0yKDEqXttxpfUa/s2Li4vZsWMH2dnZDB482Fcers9AXVPB0qVLycvL85XX76gXi/T/IMks6HkInHNbgV97fySOJHs7biTEWtLV8G++dOlS8vPzKS8v9yvXZ0BE6rRqpkJJXMGe2FS16k9JV9M0fE8kfgSVEJhZOvAzPH0F8oGshvs455pdrljiQ7AnNlWtSjCScfherNUWiQQr2BqCPwE/xbPk8QL8JyYSkRgRqDNfWVmZX1u+hI9qiyReBZsQnAfc7Jy7J5zBiEjbBOrM19QVazhFqklJV+Meeh8kFIJNCAz4JJyBSPiovT/5NGy7d85RWlpKdna232chXJ+BSJ2EdDXuofdBQiHYhGAGcCGeOQgkzugKIfxiLelKxrZ7EWmbYBOC9cCPzWwBnqSg4WBi55x7KKSRSVTE2oktXtRPuupX365Zs4YJEyYAqr4VkdgWbELwf97fvYATm9juACUECUAnrLZT9W1yU1It8SrYmQpTwh2ISLIJR0cwnYyiT0m1xCtNTCQSJeGoSUi2k5ESIA+9DxIKARMCMzsC+MI5t9t7u1nOuZUhjUxE4lokhsIlWwIUiN4HCYXm5fJmwgAAFu1JREFUagiWA8cAH3pvuwD7mXdbamhDE5FQiNYYdfWlEIkvzSUEJwEr690WkSDEWvWtTswiEoyACYFz7q2mbjdkZgcC+21SEEkWqr4VkXgUik6FJwLPoiYDkRaJtZoEEUluGmUg0gqhaJePVk3CggULqKiooLKy0jdpEmjiJJFkp4RApBXiuV2+oqLCt/BR/dcQ6thVAyISX5QQiB+tmpZ4Gp6YKysrAc8CSOGkz4tIfFFCIH7i+cpXmtbwxDxhwoQm/8Yiktyam5hoI4HnHqgvM3ThiIiISDQ0V0MwneASAhEREYlzzc1DcEcE4xCJK/HcYS6eYxeR8FEfApFWiOcOc/Ece7xQ51yJR0oIxI+uHkXaTp1zJR4pIRA/unoR2T/VAEgiUkIgIhJAoBN/cXEx48ePb1SuGgCJZ0oIREQCCFT1v3DhwsgHIxJmKdEOQERERKJPNQQiIiGmzrkSj5QQiIiEmDoWSjxSQiAi0kLZ2dmqAZCEo4RAJIw0PC2+Bar6HzdunP5+knCUEIiEkSaoiW866Usy0SgDERERUUIgIiIiSghEREQEJQQiIiJCDHUqNLMDgH8AfYDVwA+dc1sD7NsR+BR4wTl3XaRiFGkpTVAjIvHCnHPRjgEAM7sb2OKcm2pmNwOdnHO/CrDvfUAX7/4BEwIzKwBKAEpKSigoKAhD5CIiInHDAm2ImRoCYBwwynv7CeBNoFFCYGZDgW7Ay8CwCMUmSUbzB4hIsomlhKCbc64MwDlXZmZdG+5gZinAPcDFwOjmHszMrgSuD0egkvg0f4CIJJuIJgRm9hpwUBObbgvyIa4B5jnn1poFrPUAwDn3qJm9ibfJQERERAKLaELgnDsl0DYzW29m3b21A92BDU3sdiww0syuAToAGWZW6Zy7OUwhi4iIJIVYajKYA1wCTPX+nt1wB+fcj+tum9kEYJiSARERkbaLpYRgKvCsmU0E1gDnAZjZMOAq59zl0QxORCQS1KFVoiVmEgLn3Gaa6CjonFsMNEoGnHMzgZlhD0wSWqAv3y+//LLJ/TV/gISbOrRKtMRMQiASDYG+fAFmzpwZ0VhERKJJUxeLiIiIEgIRERFRQiAiIiKoD4GISEzRglgSLUoIJKnpy1dijYYWSrTEzGqH4aDVDkVERPwEnPdffQhERERETQYSXzSLm4hIeCghkLiiWdxERMJDTQYiIiKihOD/27v3aMnK8s7j358gN1EHLygzeGw1NGpYTkyQyJgBRDGOkuYiQSYzK5A1CRpvMZEYDTNIcJIx4tJMIrmAxEDWEgl4Qxkk0NBjcEmCGhAv04rStsQWDCCCyE2e+ePdxy6LqnPqNH2q6tT5ftaqVbX3fveup97a59Sz3/fde0uSJBMCSZKECYEkScJBhVphvJCQZoFny2gamRBoRfGfpWaBZ8toGpkQaEXyCEuSti8TAq1IHmFJ0vbloEJJkmQLgTSL7FKRtFQmBNIMsktlunm2jKaRCYEkjZmtNJpGJgRakTzCkqTty4Rghs1yP/JKj1+Spo0JwQyzH1mSNCoTAmkG2aWipZjl1kSNzoRAmkH+E9dS2Joo8MJEkiQJEwJJkoRdBjPNfmRJ0qhMCGaY/ciSpFGZEEjSKmdrogBSVZOOYdkkWQtsBNi4cSNr166dcESSJE1Uhi1wUKEkSbLLQJoVXlxG0sNhQiDNCC8uI43XrCXhJgSSJG2DWUvCHUMgSZJsIZhls9acJUlaPiYEM2zWmrMkScvHhECaEV5cRtLDYUIgzQi7gaTxmrUk3IRAkqRtMGtJuGcZSJIkWwhm2aw1Z0mSls/U3NwoyeOA84E1wCbg2Kq6fUC5OeB9wFOAAl5WVZuGbNObG0mStNWKuLnRW4D1VbUPsL6bHuRc4PSqehZwAHDLmOKTJGlmTVNCcARwTvf6HODI/gJJng3sWFWXAVTVXVV19/hClCRpNk1TQvCkqtoC0D3vOaDMWuB7ST6c5J+TnJ5kh7FGKUnSDBrroMIklwNPHrDo5BE3sSPwH4HnAptpYw5OAM4e8F4nAq/fpkAlSVplxpoQVNWLhy1LcnOSvapqS5K9GDw24Cbgn6vqG906HwWez4CEoKrOTLKBblChJEkabpq6DC4Cju9eHw98bECZa4A9kjyxmz4U+PIYYpMkaaZNU0LwDuCwJF8DDuumSbJ/kvcBVNWPgJOA9Umup50+cdaE4pUkaWZMzXUIloPXIZAk6ScMvQ6BVyrUinTKKaewefPmh8yfm5ubueuLS9I4mBBoRdq8eTNr1qx5yPxBl2qWJC1umsYQSJKkCbGFQJKmmN1jGhcTAkmaYnaPaVzsMpAkSbYQaGWam5sbeIQ0Nzc3/mAkaQaYEGhFsu9UkrYvuwwkSZItBJI0zewe07h46WJJklYPL10safXyXH5pcSYEkmae5/JLi3NQoSRJMiGQJEkmBJIkCRMCSZKEgwolrQKeyy8tzusQSJK0egy9DoFdBpIkyYRAkiSZEEiSJEwIJEkSJgSSJAkTAkmShAmBJEnChECSJGFCIEmSMCGQJEmYEEiSJEwIJEkSJgSSJAkTAkmShAmBJEnChECSJGFCIEmSMCGQJEmYEEiSJEwIJEkSJgSSJAnYcdIBSNPmlFNOYfPmzQ+ZPzc3x2mnnTaBiCRp+ZkQSH02b97MmjVrHjJ/06ZNY49FksbFLgNJkmRCIEmSTAgkSRImBJIkiSkaVJjkccD5wBpgE3BsVd0+oNw7gZfTkpnLgN+qqhpfpJp1c3NzAwcQzs3NjT8YSRqTTMtvafdDf1tVvSPJW4A9qur3+sr8B+B04KBu1lXAW6tqw5BtrgU2AmzcuJG1a9cuV/iSJK0EGbZgmroMjgDO6V6fAxw5oEwBuwA7ATsDjwRuHkt0kiTNsGlKCJ5UVVsAuuc9+wtU1WeAK4Et3ePSqvrKoI0lORH40PKFK0nS7BjrGIIklwNPHrDo5BHX/yngWcDe3azLkhxUVZ/qL1tVZybZQNdlIEmShhtrQlBVLx62LMnNSfaqqi1J9gJuGVDsKODqqrqrW+cS4PnAQxICSZI0umnqMrgIOL57fTzwsQFlNgMHJ9kxySOBg4GBXQaSJGl005QQvAM4LMnXgMO6aZLsn+R9XZkLga8D1wPXAddV1ccnEawkSbNkak47XA6edihJ0k9YEacdSpKkCTEhkCRJJgSSJMmEQJIkYUIgSZIwIZAkSZgQSJIkxnzp4gl45PyLG2+8cZJxSJI0cfvuu+9aYFNV3de/bNYvTPQS4NJJxyFJ0hTZt6q+2j/TLgNJkjTzLQSPAl7QTf4LcP922vSHgFdsp22tBtbX6Kyr0VlXS2N9jW7W62pgl8FMjyGoqh8Af7+9t5vk3kHNLRrM+hqddTU662pprK/Rrda6sstAkiSZEGyjMycdwApjfY3OuhqddbU01tfoVmVdzfQYAkmSNBpbCCRJkgmBJEkyIVhQkpcm2ZjkhiRvGbB85yTnd8v/Mcma8Uc5HUaoq4OSfD7JA0mOmUSM02SE+vqdJF9O8oUk65M8dRJxToMR6urVSa5Pcm2Sq5I8exJxTovF6qun3DFJKsn+44xvmoywb52Q5LvdvnVtkl+fRJxjU1U+BjyAHYCvA08HdgKuA57dV+Y1wF92r48Dzp903FNcV2uA5wDnAsdMOuYVUF8vBHbrXv+m+9aCdfWYntfrgE9OOu5prq+u3KOBTwFXA/tPOu5prSvgBOC9k451XA9bCIY7ALihqr5R7QIOHwSO6CtzBHBO9/pC4EVJMsYYp8WidVVVm6rqC8CDkwhwyoxSX1dW1d3d5NXA3mOOcVqMUlff75l8FLCaR0qP8n8L4O3AO4F7xhnclBm1rlYNE4Lh/h3wrZ7pm7p5A8tU1QPAHcDjxxLddBmlrrTVUuvrvwGXLGtE02ukukry2iRfp/3IvWFMsU2jResryXOBp1TVJ8YZ2BQa9e/wFV3X3YVJnjKe0CbDhGC4QUf6/Uceo5RZDayHpRm5vpL8V2B/4PRljWh6jVRXVXVGVT0D+D3gvy97VNNrwfpK8gjgPcCbxhbR9Bpl3/o4sKaqngNcztYW4ZlkQjDcTUBvNrg38O1hZZLsCDwWuG0s0U2XUepKW41UX0leDJwMrKuqe8cU27RZ6r71QeDIZY1oui1WX48G9gM2JNkEPB+4aJUOLFx036qqW3v+9s4Cfm5MsU2ECcFw1wD7JHlakp1ogwYv6itzEXB89/oY4IrqRqKsMqPUlbZatL66Zt2/oiUDt0wgxmkxSl3t0zP5cuBrY4xv2ixYX1V1R1U9oarWVNUa2viUdVX12cmEO1Gj7Ft79UyuA74yxvjGbqZvbvRwVNUDSV4HXEobjfrXVfWlJKcBn62qi4Czgb9NcgOtZeC4yUU8OaPUVZLnAR8B9gB+KckfVNVPTzDsiRlx3zod2B24oBunurmq1k0s6AkZsa5e17Wm3A/cztYkfdUZsb7EyHX1hiTrgAdo/+NPmFjAY+CliyVJkl0GkiTJhECSJGFCIEmSMCGQJEmYEEiSJEwItIIlObW7W9v849tJPpTkGZOObamS7NR9np9ZpNxJ3R0j9xyyfP4OdgckWdO9PnwJcVR3Ktb89IYkFy6yzpLfZ5Ht7Zzkt5Nck+TOJPck+VqS9yR52vZ4j3FIsl9XL4csUGa+7uYfdyb5bJJje8oc0i3bbyyBa9UyIdBKdwdwYPc4CfgZYH2SR000qqXbCXgbLf6FfJD2d/vLQ5YfB3yjqv4J2EKrl6uWEMeBwAVLKL9dJdkNWA+cSjs//BjgPwF/CryIdoe+WXQSre5fQbuw0vnbK8GSRuWFibTSPVBVV3evr06yGfgH4GU8jB+2JLtU1dTdCa6qbkpyFe2H/4zeZUl2p33ud3dl76VdiW4p219S+WXwh7Sk6Oer6ks9869McgbtRk9DJdm1qn64nAEuk43zdZ/kcuBnabe9Xu03INIY2UKgWfO57nnN/Iwkv5Dk/ya5O8mtSc5K8uie5Sf0NLNvSPJD4He7ZbsmeWeSbya5N8mNSf5X7xsm+fUkX+qWfzPJm/uW/03XDHxY2l3TfpDkqiS9V2q8s3t+f0/z8RoGOw94QZL+WyIfCexKa0UY2JSfZF2Sz3Ux3J7kH5Mc3LP8J7oMeuafmGRTkh8muTjJonezXKxeBpTfDTgR+PO+ZACAqnqwqs7qKT/flP6LSS5Kchfw3vltJfnTJN/puhyuSfKSvvfblORdffPm94Xd+97jkCQXJLkryTeSvGZA/K9J8q2ubj8O7NVfZhRV9SBwLT378ID3elP3me5IcnOSjyf5qb4yG9Lu0PcrSW5I8v0kl/TvN0l26fbxb3Xf1XVJXrYtsWtlMyHQrFnTPX8HIMkLaE3Q36E1P7+RdhT9/gHrnkc7InsZ8IkkAT5GO1I7o5v/NuAJ8ysk+V3gL4CPAod3r98+4Ed1jnY54j8E/jOwJ/B33XsAHNo9/0+2doFsGfIZLwB+BLyyb/5xwPVV9cVBK6WNrbgQuAL4JeC/dJ/3cUPeZ96BwOuB36EdoT+H9nmHWkK99Po5YDfg7xeJp9/ZwHW0a82f3c07C/g1Wn0fRbvN7cVJfmGJ2553VvceRwEbgDOSHDC/MMkRtH3kE8DRwPXAX2/je0Hbj7+zwPK9acnPEcBv0C69++kkj+0r9/PA62h3NzyR1vJwZl+ZC2mX5P0j2n5xDe2GR4t1X2nWVJUPHyvyQetn/lda19eOwFrgSuD7wF5dmX8Aruxb71DabU7366ZP6KZ/q6/cL3bz1w15/8cAdwFv65t/Gu2f+Q7d9N/QroW+T0+ZI7ttP7Ob3r2bPmHEz34JcE3P9B7AfcBbe+at6bZ5eDd9DHDrItst4HU90xto9wh4as+8F3TlXjrkfUaqlwHv/cpuO/v2zX9Ez3e8Y8/8Q7ry7+kr/yzgQeD4vm18Ebi0Z94m4F19687vC7v3vcdpPWUeCXwXeEfPvH8CLunb1lnduocsUN/zdbeu+3yPA97c+z30xLDfkG3sQGsZuhP41b7v7g5gj555b+y2tWs3/aJu+uC+bX4KuGC5/4Z9TNfDFgKtdI+n/WDdD2wEng68sqq2dE3QB9KOxHecf9AG2d3PQ29lenHf9KHAbTX8hjAHAo+i3YCod/tXAE+iHcXN21RVvXfh+3L33N/sP6rzgP2TPL2bPpr2Q/XBBda5HnhsknOSvCSjD7z8fFV9c36iqj4N3AIcMKT8Uuql13xrSf8NVi5i63d8fx462r7/e3tet60fjyGp1gx/AbCtLQQ/brWoqvtpA//2BkiyA/BcWmtSrw8vYfsfo32+W2mtRO+mtaoMlOT5SS5Lcist2bybllSu7St6TVXd3jM9v9/Nd/m8mJakfbrvu1oPrMZbIq9qJgRa6e6g/QDsT/sHvaaqLumW7UE7evpzen5QgHtpP55P6dvWzX3Tj2d4sz1s7Tr4Ut/2r+zm927/e33r3tc977LA9hfyEeAett5h8zjg6qq6cdgKVbWR1sT8dOD/AP+a5ANJnrjIew26/fItDO8jX0q99PqX7rk/YXgj7Tt+9ZD1+r+3vYC7quruAeV2S7LzkO0sZND3N//dPZF2dN9fT0u5bfVv0z7jM2mtE2+qqh8NKphkjpagBHgVrcXmed379e9Pi+13TwCezE9+T/fTWt+GfU+aUZ5loJXugRp+L/fv0Y42T6X9APb7dt90/5HprSw8MOy27vlwHvqjBK3FYllU1Z1JLgaOS/I+4IW0Pv7F1ruY1pf+WODlwJ8Af8bCt+4edM2DPRmeLG1rvXyOdqT7ElprwnzMN8CPz6IYpP972wLsnmS3vqTgScDd1c6+gJZQ7dS37mLjKQb5Lu0ovb+eBl4rYogbFtiP+72UNtbiiKr6AUB3VL8tsd9GS8SO3IZ1NWNMCDSzquoHSa6m9Umftg2bWA+8OcnhVTXo9K/PAD8E/m33Q/twbEuLwXm0AWFvox0t/t2oK1bVHcAHujMMDlyk+M8mmauqzfDjgZp70vrNB9mmeqmqu5OcCbw2yTlV9ZVR1+1zDS1JOAY4t4s53XTvNRluoo036HXYUt+sqn6U5Fpa68tf9iw6eqnbGtGutDESD/TMO5Zt+3++njbg8K6q+n/bITatYCYEmnVvpl2o6EHaj+edtBH/LwdOrqqvLrDuZbSL43wgyWnA52ktBgdV1auq6ntJTgX+d5Kn0gZiPYLWj/vCqjpq1CCr6r4kNwLHJvki7ej1C1V13wKrXUwbQPmbwBVVtdCodJK8ivbj/0la68g+tAscnbtIeLfQzro4lZaw/DFtXMEnh3yWh1MvJ9PGJnwmyXtpg0LvofV5H087u2LB60NU1VeSnAe8N8ljgBtoI/GfSaureR8B/izJ79OSiKOBn+7f3oj+CPhwkr/otnsw7Uh+OVxB6wp7f5KzaTGfxEO7B0Yxv49fluSPad08j6FdC2KXqnrr9glZK4EJgWZaVV2V5CDgD4C/pf0j/SbtR3FQc3bvupXkKODttH7sJ9J+SD/QU+adSb5N6wN+E+3H6qvA+dsQ7quBdwGXAzsDT6ONhB8W3z1JPgr8KgsPJpz3Bdpo9nfTmpe30EbCn7LIep/pYvoTWh1soJ3CNtS21kvXSnAo8FrgV2j1viPttMH1wL+f70JYxG/QEpf/Afwb2oDKw6uqt4XgTOAZwBto9X0ubUDfX42w/f64P5Lk9cBbaInLBtopmpcudVsjvNf1SX6N1jJ0FO10yF9mG/a5bh8/Gvh9Wl3P0boRrqV1JWkVSVV/95skSVptPMtAkiSZEEiSJBMCSZKECYEkScKEQJIkYUIgSZIwIZAkSZgQSJIk4P8DWs4hZ/iby8cAAAAASUVORK5CYII=\n",
      "text/plain": [
       "<Figure size 504x504 with 1 Axes>"
      ]
     },
     "metadata": {
      "needs_background": "light"
     },
     "output_type": "display_data"
    }
   ],
   "source": [
    "fig, ax = plt.subplots(figsize=[7,7])\n",
    "ax.spines['right'].set_visible(False)\n",
    "ax.spines['top'].set_visible(False)\n",
    "for axis in ['bottom','left']:\n",
    "    ax.spines[axis].set_linewidth(2.3)\n",
    "\n",
    "plt.tight_layout()    \n",
    "#run regression\n",
    "X = np.array(trunc_vgp).reshape(-1,1)\n",
    "y = trunc_resid_250\n",
    "reg = LinearRegression().fit(X, y)\n",
    "\n",
    "#Generated Predictions\n",
    "y_predicted = reg.predict(X)\n",
    "#Plot Our Actual and Predicted Values\n",
    "plt.plot(X, y, 's', color='black', alpha = 0.5);\n",
    "plt.plot(X,y_predicted,color='chocolate', label = 'm = ' + str(round(reg.coef_[0], 3))\n",
    "         + '     r-squared = ' + str(round(float(reg.score(X, y)), 3)))\n",
    "plt.title(\"250 ms\", fontsize = 20)\n",
    "plt.xlabel(\"Percent Visible Ground Plane\", fontsize = 15)\n",
    "plt.ylabel(\"Linear Model Residuals\", fontsize = 15)\n",
    "\n",
    "legend = plt.legend(loc = 0, fontsize = 13, borderpad = 0.6, labelspacing = 1)\n",
    "legend.get_frame().set_facecolor('lightgray')\n",
    "\n",
    "\n",
    "#get coefficients and y intercept\n",
    "print(\"m: {0}\".format(reg.coef_))\n",
    "print(\"b: {0}\".format(reg.intercept_))\n",
    "\n",
    "#Returns the coefficient of determination R^2 of the prediction.\n",
    "print(\"R-squared: \", reg.score(X, y))\n",
    "\n",
    "round(float(reg.score(X, y)), 3)"
   ]
  },
  {
   "cell_type": "code",
   "execution_count": 97,
   "metadata": {},
   "outputs": [],
   "source": [
    "# fig, ax = plt.subplots(figsize=[7,7])\n",
    "# ax.spines['right'].set_visible(False)\n",
    "# ax.spines['top'].set_visible(False)\n",
    "# for axis in ['bottom','left']:\n",
    "#     ax.spines[axis].set_linewidth(2.3)\n",
    "\n",
    "# plt.tight_layout()    \n",
    "# #run regression\n",
    "# X = np.array(trunc_vgp_gp).reshape(-1,1)\n",
    "# y = trunc_resid_250\n",
    "# reg = LinearRegression().fit(X, y)\n",
    "\n",
    "# #Generated Predictions\n",
    "# y_predicted = reg.predict(X)\n",
    "# #Plot Our Actual and Predicted Values\n",
    "# plt.plot(X, y, 'v', color='black', alpha = 0.5);\n",
    "# plt.plot(X,y_predicted,color='chocolate', label = 'm = ' + str(round(reg.coef_[0], 3))\n",
    "#          + '     r-squared = ' + str(round(float(reg.score(X, y)), 3)))\n",
    "# plt.title(\"250 ms\", fontsize = 20)\n",
    "# plt.xlabel(\"VGP/GP\", fontsize = 15)\n",
    "# plt.ylabel(\"Linear Model Residuals\", fontsize = 15)\n",
    "\n",
    "# legend = plt.legend(loc = 0, fontsize = 13, borderpad = 0.6, labelspacing = 1)\n",
    "# legend.get_frame().set_facecolor('lightgray')\n",
    "\n",
    "\n",
    "# #get coefficients and y intercept\n",
    "# print(\"m: {0}\".format(reg.coef_))\n",
    "# print(\"b: {0}\".format(reg.intercept_))\n",
    "\n",
    "# #Returns the coefficient of determination R^2 of the prediction.\n",
    "# print(\"R-squared: \", reg.score(X, y))\n",
    "\n",
    "# round(float(reg.score(X, y)), 3)"
   ]
  },
  {
   "cell_type": "markdown",
   "metadata": {},
   "source": [
    "## Global Mean Depth"
   ]
  },
  {
   "cell_type": "code",
   "execution_count": 100,
   "metadata": {},
   "outputs": [],
   "source": [
    "# kinect192_path = '/Users/prachimahableshwarkar/Documents/GW/SUNRGBD/updated/kinect2data_192'\n",
    "kinect192_path = '/Users/pmahableshwarkar/Documents/Depth_Project/SUNRGBD/kinect2data_192'\n",
    "\n",
    "# stimuli_path = '/Users/prachimahableshwarkar/Documents/GW/Depth_MTurk/depth_duration_stimuli'\n",
    "stimuli_path = '/Users/pmahableshwarkar/Documents/Depth_Project/final_stimuli'"
   ]
  },
  {
   "cell_type": "code",
   "execution_count": 101,
   "metadata": {},
   "outputs": [],
   "source": [
    "globalMeanDepths = []\n",
    "for folder in stimfolder_250:\n",
    "    for file in os.listdir(kinect192_path + '/' + folder + '/depth_bfx'):\n",
    "        if 'png' in file:\n",
    "            dm = Image.open(kinect192_path + '/' + folder + '/depth_bfx/' + file)\n",
    "            dm.load()\n",
    "            depth_data = np.asarray(dm)/8000\n",
    "            globalMeanDepths.append(np.mean(depth_data))"
   ]
  },
  {
   "cell_type": "code",
   "execution_count": 102,
   "metadata": {},
   "outputs": [],
   "source": [
    "trunc_globalMeanDepths = []\n",
    "\n",
    "for i in range(len(ordered_gp_metrics)):\n",
    "    metrics = ordered_gp_metrics[i]\n",
    "    if type(metrics) == list:\n",
    "        trunc_globalMeanDepths.append(globalMeanDepths[i])\n"
   ]
  },
  {
   "cell_type": "code",
   "execution_count": 103,
   "metadata": {},
   "outputs": [
    {
     "name": "stdout",
     "output_type": "stream",
     "text": [
      "Correlation between Global Mean Depth and Complete Ground Plane\n",
      "(0.29999835041981887, 0.00014188365894478912)\n"
     ]
    }
   ],
   "source": [
    "print('Correlation between Global Mean Depth and Complete Ground Plane')\n",
    "print(stats.pearsonr(trunc_globalMeanDepths, trunc_gp))"
   ]
  },
  {
   "cell_type": "code",
   "execution_count": 104,
   "metadata": {},
   "outputs": [
    {
     "name": "stdout",
     "output_type": "stream",
     "text": [
      "m: [0.08390167]\n",
      "b: 0.2844751501870869\n",
      "R-squared:  0.08999901025461254\n"
     ]
    },
    {
     "data": {
      "text/plain": [
       "0.09"
      ]
     },
     "execution_count": 104,
     "metadata": {},
     "output_type": "execute_result"
    },
    {
     "data": {
      "image/png": "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\n",
      "text/plain": [
       "<Figure size 576x576 with 1 Axes>"
      ]
     },
     "metadata": {
      "needs_background": "light"
     },
     "output_type": "display_data"
    }
   ],
   "source": [
    "plt.figure(figsize = [8,8])\n",
    "#run regression\n",
    "X = np.array(trunc_globalMeanDepths).reshape(-1,1)\n",
    "y = trunc_gp\n",
    "reg = LinearRegression().fit(X, y)\n",
    "\n",
    "#Generated Predictions\n",
    "y_predicted = reg.predict(X)\n",
    "#Plot Our Actual and Predicted Values\n",
    "plt.plot(X, y, 'o', color='darkgreen', alpha = 0.5);\n",
    "plt.plot(X,y_predicted,color='darkgreen', label = 'm = ' + str(round(reg.coef_[0], 3))\n",
    "         + '     r-squared = ' + str(round(float(reg.score(X, y)), 3)))\n",
    "plt.title(\"Complete Ground Plane x Global Mean Depth\", fontsize = 20)\n",
    "plt.xlabel(\"Global Mean Depth (m)\", fontsize = 15)\n",
    "plt.ylabel(\"Complete Ground Plane (pixels)\", fontsize = 15)\n",
    "\n",
    "legend = plt.legend(loc = 0, fontsize = 13, borderpad = 0.6, labelspacing = 1)\n",
    "legend.get_frame().set_facecolor('lightgray')\n",
    "\n",
    "\n",
    "#get coefficients and y intercept\n",
    "print(\"m: {0}\".format(reg.coef_))\n",
    "print(\"b: {0}\".format(reg.intercept_))\n",
    "\n",
    "#Returns the coefficient of determination R^2 of the prediction.\n",
    "print(\"R-squared: \", reg.score(X, y))\n",
    "\n",
    "round(float(reg.score(X, y)), 3)"
   ]
  },
  {
   "cell_type": "markdown",
   "metadata": {},
   "source": [
    "### Navigation Clutter: Pixel Sum Method; GP - VGP"
   ]
  },
  {
   "cell_type": "code",
   "execution_count": 105,
   "metadata": {},
   "outputs": [],
   "source": [
    "clutter_pixel = (np.array(trunc_gp) - np.array(trunc_vgp))"
   ]
  },
  {
   "cell_type": "code",
   "execution_count": 106,
   "metadata": {},
   "outputs": [
    {
     "name": "stdout",
     "output_type": "stream",
     "text": [
      "Correlation between Linear Model Residuals and Clutter (pixel sum)\n",
      "125 ms:  (-0.1399528916486357, 0.08141413790535226)\n",
      "250 ms:  (-0.09840891452273424, 0.22162795420850231)\n",
      "1000 ms:  (-0.10494264099115734, 0.19230357702289963)\n"
     ]
    }
   ],
   "source": [
    "# corr, p-value\n",
    "print('Correlation between Linear Model Residuals and Clutter (pixel sum)')\n",
    "print('125 ms: ',stats.pearsonr(trunc_resid_125, clutter_pixel))\n",
    "print('250 ms: ',stats.pearsonr(trunc_resid_250, clutter_pixel))\n",
    "print('1000 ms: ',stats.pearsonr(trunc_resid_1000, clutter_pixel))"
   ]
  },
  {
   "cell_type": "markdown",
   "metadata": {},
   "source": [
    "## Load Ground Plane Metrics: Pixel SA"
   ]
  },
  {
   "cell_type": "code",
   "execution_count": 11,
   "metadata": {},
   "outputs": [],
   "source": [
    "# path = '/Users/pmahableshwarkar/Documents/Depth_Project/SUN_scene_cue_coding/VGP_size_dict.json'\n",
    "path = '/Users/prachimahableshwarkar/Documents/GW/Depth_MTurk/SUN_scene_cue_coding/VGP_size_dict.json'\n",
    "\n",
    "vgp_size_dict = json.load(open(path))\n"
   ]
  },
  {
   "cell_type": "code",
   "execution_count": 12,
   "metadata": {},
   "outputs": [],
   "source": [
    "# path = '/Users/pmahableshwarkar/Documents/Depth_Project/SUN_scene_cue_coding/GP_size_dict.json'\n",
    "path = '/Users/prachimahableshwarkar/Documents/GW/Depth_MTurk/SUN_scene_cue_coding/GP_size_dict.json'\n",
    "\n",
    "gp_size_dict = json.load(open(path))"
   ]
  },
  {
   "cell_type": "code",
   "execution_count": 13,
   "metadata": {},
   "outputs": [
    {
     "name": "stdout",
     "output_type": "stream",
     "text": [
      "(0.6305436407876517, 4.100796404472425e-18)\n"
     ]
    }
   ],
   "source": [
    "VGPS = []\n",
    "GPS = []\n",
    "for key in vgp_size_dict:\n",
    "    try:\n",
    "        gp = gp_size_dict[key]\n",
    "        VGPS.append(vgp_size_dict[key])\n",
    "        GPS.append(gp)\n",
    "    except:\n",
    "        pass\n",
    "\n",
    "print(stats.pearsonr(VGPS, GPS))"
   ]
  },
  {
   "cell_type": "code",
   "execution_count": null,
   "metadata": {},
   "outputs": [],
   "source": []
  },
  {
   "cell_type": "code",
   "execution_count": 14,
   "metadata": {},
   "outputs": [
    {
     "name": "stdout",
     "output_type": "stream",
     "text": [
      "002118_2014-06-25_20-32-08_260595134347_rgbf000078-resize excluded\n",
      "002657_2014-06-13_15-29-54_094959634447_rgbf000150-resize excluded\n"
     ]
    }
   ],
   "source": [
    "# Find GP or VGP Outliers \n",
    "\n",
    "gpsize_list = [[key, gp_size_dict[key]] for key in gp_size_dict]\n",
    "gpsize_mean = np.mean(np.array([elem[1] for elem in gpsize_list]))\n",
    "gpsize_std = np.std(np.array([elem[1] for elem in gpsize_list]))\n",
    "\n",
    "gpsize_outlierRange = [gpsize_mean - (3*gpsize_std), gpsize_mean + (3*gpsize_std)]\n",
    "\n",
    "cleaned_gpsize_dict = {}\n",
    "for key in gp_size_dict:\n",
    "    if gpsize_outlierRange[0] < gp_size_dict[key] < gpsize_outlierRange[1]:\n",
    "        cleaned_gpsize_dict[key] = gp_size_dict[key]\n",
    "    else:\n",
    "        print(key, 'excluded')"
   ]
  },
  {
   "cell_type": "code",
   "execution_count": 15,
   "metadata": {},
   "outputs": [
    {
     "name": "stdout",
     "output_type": "stream",
     "text": [
      "002568_2014-06-24_13-59-21_094959634447_rgbf000062-resize excluded\n",
      "002600_2014-06-24_14-27-04_094959634447_rgbf000074-resize excluded\n",
      "002118_2014-06-25_20-32-08_260595134347_rgbf000078-resize excluded\n",
      "002570_2014-06-24_13-59-54_094959634447_rgbf000059-resize excluded\n"
     ]
    }
   ],
   "source": [
    "# Find GP or VGP Outliers \n",
    "\n",
    "vgpsize_list = [[key, vgp_size_dict[key]] for key in vgp_size_dict]\n",
    "vgpsize_mean = np.mean(np.array([elem[1] for elem in vgpsize_list]))\n",
    "vgpsize_std = np.std(np.array([elem[1] for elem in vgpsize_list]))\n",
    "\n",
    "vgpsize_outlierRange = [vgpsize_mean - (3*vgpsize_std), vgpsize_mean + (3*vgpsize_std)]\n",
    "\n",
    "cleaned_vgpsize_dict = {}\n",
    "for key in vgp_size_dict:\n",
    "    if vgpsize_outlierRange[0] < vgp_size_dict[key] < vgpsize_outlierRange[1]:\n",
    "        cleaned_vgpsize_dict[key] = vgp_size_dict[key]\n",
    "    else:\n",
    "        print(key, 'excluded')"
   ]
  },
  {
   "cell_type": "code",
   "execution_count": 16,
   "metadata": {},
   "outputs": [],
   "source": [
    "ordered_gp_size = []\n",
    "ordered_vgp_size = []\n",
    "\n",
    "gp_none = 0\n",
    "vgp_none = 0\n",
    "for folder in stimfolder_250:\n",
    "    try:\n",
    "        ordered_gp_size.append(cleaned_gpsize_dict[folder])\n",
    "    except:\n",
    "        gp_none += 1\n",
    "        ordered_gp_size.append(None)\n",
    "    try:\n",
    "        ordered_vgp_size.append(cleaned_vgpsize_dict[folder])\n",
    "    except:\n",
    "        vgp_none += 1\n",
    "        ordered_vgp_size.append(None)"
   ]
  },
  {
   "cell_type": "code",
   "execution_count": 17,
   "metadata": {},
   "outputs": [
    {
     "data": {
      "text/plain": [
       "(156, 7)"
      ]
     },
     "execution_count": 17,
     "metadata": {},
     "output_type": "execute_result"
    }
   ],
   "source": [
    "len(ordered_gp_size), gp_none"
   ]
  },
  {
   "cell_type": "code",
   "execution_count": 18,
   "metadata": {},
   "outputs": [
    {
     "data": {
      "text/plain": [
       "(156, 9)"
      ]
     },
     "execution_count": 18,
     "metadata": {},
     "output_type": "execute_result"
    }
   ],
   "source": [
    "len(ordered_vgp_size), vgp_none"
   ]
  },
  {
   "cell_type": "code",
   "execution_count": 19,
   "metadata": {},
   "outputs": [
    {
     "data": {
      "text/plain": [
       "156"
      ]
     },
     "execution_count": 19,
     "metadata": {},
     "output_type": "execute_result"
    }
   ],
   "source": [
    "actual_depth_values = []\n",
    "folders = []\n",
    "for i in range(len(stim_250)):\n",
    "    targetobj_num = stim_250[i].split('/')[1][-1]\n",
    "    folder = stimfolder_250[i]\n",
    "    p = '/Users/prachimahableshwarkar/Documents/GW/Depth_MTurk/depth_duration_stimuli/' + folder + \"_\" + targetobj_num\n",
    "#     p = '/Users/pmahableshwarkar/Documents/Depth_Project/final_stimuli/' + folder + '_' + targetobj_num\n",
    "    # JSON file\n",
    "    f = open (p + '/data.json', \"r\")\n",
    "    # Reading from file\n",
    "    data = json.loads(f.read())\n",
    "    depthval = data['objects'][0]['crossing_point'][0]['depth']\n",
    "    actual_depth_values.append(depthval)\n",
    "    folders.append(folder)\n",
    "len(actual_depth_values)"
   ]
  },
  {
   "cell_type": "code",
   "execution_count": 212,
   "metadata": {},
   "outputs": [],
   "source": [
    "# derivedVE_dict_125"
   ]
  },
  {
   "cell_type": "code",
   "execution_count": 20,
   "metadata": {},
   "outputs": [],
   "source": [
    "trunc_resid_125 = []\n",
    "trunc_resid_250 = []\n",
    "trunc_resid_1000 = []\n",
    "\n",
    "trunc_vgpSize_gpSize = []\n",
    "trunc_vgpSize = []\n",
    "trunc_gpSize = []\n",
    "trunc_actual = []\n",
    "\n",
    "trunc_std_125 = []\n",
    "trunc_std_250 = []\n",
    "trunc_std_1000 = []\n",
    "\n",
    "trunc_diff_125 = []\n",
    "trunc_diff_250 = []\n",
    "trunc_diff_1000 = []\n",
    "\n",
    "trunc_raw_diff_125 = []\n",
    "trunc_raw_diff_250 = []\n",
    "trunc_raw_diff_1000 = []\n",
    "\n",
    "for i in range(len(actual_depth_values)):\n",
    "    if type(ordered_gp_size[i]) == float: \n",
    "        try:\n",
    "            trunc_vgpSize_gpSize.append(ordered_vgp_size[i]/ordered_gp_size[i])\n",
    "            trunc_vgpSize.append(ordered_vgp_size[i])\n",
    "            trunc_gpSize.append(ordered_gp_size[i])\n",
    "\n",
    "            trunc_resid_125.append(residuals_125[i])        \n",
    "            trunc_resid_250.append(residuals_250[i])\n",
    "            trunc_resid_1000.append(residuals_1000[i])\n",
    "\n",
    "            trunc_actual.append(actual_depth_values[i])\n",
    "\n",
    "            trunc_std_125.append(std_125[i])\n",
    "            trunc_std_250.append(std_250[i])\n",
    "            trunc_std_1000.append(std_1000[i])\n",
    "            \n",
    "            trunc_diff_125.append(diff_125[i])\n",
    "            trunc_diff_250.append(diff_250[i])\n",
    "            trunc_diff_1000.append(diff_1000[i])\n",
    "            \n",
    "            trunc_raw_diff_125.append(raw_diff_125[i])\n",
    "            trunc_raw_diff_250.append(raw_diff_250[i])\n",
    "            trunc_raw_diff_1000.append(raw_diff_1000[i])\n",
    "            \n",
    "        except: \n",
    "            pass\n",
    "\n"
   ]
  },
  {
   "cell_type": "code",
   "execution_count": null,
   "metadata": {},
   "outputs": [],
   "source": []
  },
  {
   "cell_type": "code",
   "execution_count": 21,
   "metadata": {},
   "outputs": [
    {
     "ename": "NameError",
     "evalue": "name 'derivedVE_dict_125' is not defined",
     "output_type": "error",
     "traceback": [
      "\u001b[0;31m---------------------------------------------------------------------------\u001b[0m",
      "\u001b[0;31mNameError\u001b[0m                                 Traceback (most recent call last)",
      "\u001b[0;32m<ipython-input-21-26a635a428ec>\u001b[0m in \u001b[0;36m<module>\u001b[0;34m\u001b[0m\n\u001b[1;32m      9\u001b[0m \u001b[0;32mfor\u001b[0m \u001b[0mi\u001b[0m \u001b[0;32min\u001b[0m \u001b[0mrange\u001b[0m\u001b[0;34m(\u001b[0m\u001b[0mlen\u001b[0m\u001b[0;34m(\u001b[0m\u001b[0mactual_depth_values\u001b[0m\u001b[0;34m)\u001b[0m\u001b[0;34m)\u001b[0m\u001b[0;34m:\u001b[0m\u001b[0;34m\u001b[0m\u001b[0;34m\u001b[0m\u001b[0m\n\u001b[1;32m     10\u001b[0m     \u001b[0;32mif\u001b[0m \u001b[0mtype\u001b[0m\u001b[0;34m(\u001b[0m\u001b[0mordered_gp_size\u001b[0m\u001b[0;34m[\u001b[0m\u001b[0mi\u001b[0m\u001b[0;34m]\u001b[0m\u001b[0;34m)\u001b[0m \u001b[0;34m==\u001b[0m \u001b[0mfloat\u001b[0m\u001b[0;34m:\u001b[0m\u001b[0;34m\u001b[0m\u001b[0;34m\u001b[0m\u001b[0m\n\u001b[0;32m---> 11\u001b[0;31m         \u001b[0;32mif\u001b[0m \u001b[0mfolders\u001b[0m\u001b[0;34m[\u001b[0m\u001b[0mi\u001b[0m\u001b[0;34m]\u001b[0m \u001b[0;32min\u001b[0m \u001b[0mderivedVE_dict_125\u001b[0m\u001b[0;34m.\u001b[0m\u001b[0mkeys\u001b[0m\u001b[0;34m(\u001b[0m\u001b[0;34m)\u001b[0m\u001b[0;34m:\u001b[0m\u001b[0;34m\u001b[0m\u001b[0;34m\u001b[0m\u001b[0m\n\u001b[0m\u001b[1;32m     12\u001b[0m \u001b[0;34m\u001b[0m\u001b[0m\n\u001b[1;32m     13\u001b[0m             \u001b[0;32mtry\u001b[0m\u001b[0;34m:\u001b[0m\u001b[0;34m\u001b[0m\u001b[0;34m\u001b[0m\u001b[0m\n",
      "\u001b[0;31mNameError\u001b[0m: name 'derivedVE_dict_125' is not defined"
     ]
    }
   ],
   "source": [
    "ddresid125_trunc_vgpSize = []\n",
    "ddresid125_trunc_gpSize = []\n",
    "ddresid125_trunc_actual = []\n",
    "\n",
    "trunc_derivedVE_125 = []\n",
    "\n",
    "trunc_residuals_derivedVE_125 = []\n",
    "\n",
    "for i in range(len(actual_depth_values)):\n",
    "    if type(ordered_gp_size[i]) == float: \n",
    "        if folders[i] in derivedVE_dict_125.keys():\n",
    "            \n",
    "            try:\n",
    "                if ordered_vgp_size[i] != None:\n",
    "                    \n",
    "                    trunc_residuals_derivedVE_125.append(derivedVE_dict_125[folders[i]][1])\n",
    "\n",
    "\n",
    "                    trunc_derivedVE_125.append(derivedVE_dict_125[folders[i]][0])\n",
    "\n",
    "                    ddresid125_trunc_vgpSize.append(ordered_vgp_size[i])\n",
    "                    ddresid125_trunc_gpSize.append(ordered_gp_size[i])\n",
    "\n",
    "                    ddresid125_trunc_actual.append(actual_depth_values[i])\n",
    "\n",
    "\n",
    "            except: \n",
    "                pass\n"
   ]
  },
  {
   "cell_type": "code",
   "execution_count": 216,
   "metadata": {},
   "outputs": [
    {
     "data": {
      "text/plain": [
       "(144, 144, 144)"
      ]
     },
     "execution_count": 216,
     "metadata": {},
     "output_type": "execute_result"
    }
   ],
   "source": [
    "len(trunc_residuals_derivedVE_125), len(ddresid125_trunc_vgpSize), len(trunc_derivedVE_125)"
   ]
  },
  {
   "cell_type": "code",
   "execution_count": 217,
   "metadata": {},
   "outputs": [],
   "source": [
    "# trunc_residuals_derivedVE_125"
   ]
  },
  {
   "cell_type": "code",
   "execution_count": 218,
   "metadata": {},
   "outputs": [],
   "source": [
    "ddresid250_trunc_vgpSize = []\n",
    "ddresid250_trunc_gpSize = []\n",
    "ddresid250_trunc_actual = []\n",
    "\n",
    "trunc_residuals_derivedVE_250 = []\n",
    "\n",
    "trunc_derivedVE_250 = []\n",
    "\n",
    "\n",
    "for i in range(len(actual_depth_values)):\n",
    "    if type(ordered_gp_size[i]) == float: \n",
    "        if folders[i] in derivedVE_dict_250.keys():\n",
    "            \n",
    "            try:\n",
    "                if ordered_vgp_size[i] != None:\n",
    "                    \n",
    "                    trunc_residuals_derivedVE_250.append(derivedVE_dict_250[folders[i]][1])\n",
    "\n",
    "\n",
    "                    trunc_derivedVE_250.append(derivedVE_dict_250[folders[i]][0])\n",
    "\n",
    "                    ddresid250_trunc_vgpSize.append(ordered_vgp_size[i])\n",
    "                    ddresid250_trunc_gpSize.append(ordered_gp_size[i])\n",
    "\n",
    "                    ddresid250_trunc_actual.append(actual_depth_values[i])\n",
    "\n",
    "\n",
    "            except: \n",
    "                pass\n"
   ]
  },
  {
   "cell_type": "code",
   "execution_count": 219,
   "metadata": {},
   "outputs": [
    {
     "data": {
      "text/plain": [
       "(144, 144, 144)"
      ]
     },
     "execution_count": 219,
     "metadata": {},
     "output_type": "execute_result"
    }
   ],
   "source": [
    "len(trunc_residuals_derivedVE_250), len(ddresid250_trunc_vgpSize), len(trunc_derivedVE_250)"
   ]
  },
  {
   "cell_type": "code",
   "execution_count": 220,
   "metadata": {},
   "outputs": [],
   "source": [
    "ddresid1000_trunc_vgpSize = []\n",
    "ddresid1000_trunc_gpSize = []\n",
    "ddresid1000_trunc_actual = []\n",
    "\n",
    "trunc_residuals_derivedVE_1000 = []\n",
    "\n",
    "trunc_derivedVE_1000 = []\n",
    "\n",
    "for i in range(len(actual_depth_values)):\n",
    "    if type(ordered_gp_size[i]) == float: \n",
    "        if folders[i] in derivedVE_dict_1000.keys():\n",
    "            \n",
    "            try:\n",
    "                if ordered_vgp_size[i] != None:\n",
    "                    \n",
    "                    trunc_residuals_derivedVE_1000.append(derivedVE_dict_1000[folders[i]][1])\n",
    "\n",
    "\n",
    "                    trunc_derivedVE_1000.append(derivedVE_dict_1000[folders[i]][0])\n",
    "\n",
    "                    ddresid1000_trunc_vgpSize.append(ordered_vgp_size[i])\n",
    "                    ddresid1000_trunc_gpSize.append(ordered_gp_size[i])\n",
    "\n",
    "                    ddresid1000_trunc_actual.append(actual_depth_values[i])\n",
    "\n",
    "\n",
    "            except: \n",
    "                pass\n"
   ]
  },
  {
   "cell_type": "code",
   "execution_count": 221,
   "metadata": {},
   "outputs": [
    {
     "data": {
      "text/plain": [
       "(144, 144, 144)"
      ]
     },
     "execution_count": 221,
     "metadata": {},
     "output_type": "execute_result"
    }
   ],
   "source": [
    "len(trunc_residuals_derivedVE_1000), len(ddresid1000_trunc_vgpSize), len(trunc_derivedVE_1000)"
   ]
  },
  {
   "cell_type": "code",
   "execution_count": 222,
   "metadata": {},
   "outputs": [],
   "source": [
    "# plt.plot(trunc_gpSize, trunc_vgpSize, 'o')"
   ]
  },
  {
   "cell_type": "code",
   "execution_count": 223,
   "metadata": {},
   "outputs": [
    {
     "data": {
      "image/png": "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\n",
      "text/plain": [
       "<Figure size 576x432 with 1 Axes>"
      ]
     },
     "metadata": {
      "needs_background": "light"
     },
     "output_type": "display_data"
    }
   ],
   "source": [
    "plt.figure(figsize=[8,6])\n",
    "plt.title('Distribution of GP and VGP Size')\n",
    "plt.hist(trunc_gpSize, label='GP')\n",
    "plt.hist(trunc_vgpSize, label='VGP')\n",
    "\n",
    "plt.ylabel('count')\n",
    "plt.xlabel('SA (meters-squared)')\n",
    "\n",
    "plt.legend()\n",
    "plt.show();"
   ]
  },
  {
   "cell_type": "code",
   "execution_count": 224,
   "metadata": {},
   "outputs": [],
   "source": [
    "# corr, p-value\n",
    "# print('Correlation between Discrimination Derived VE and VGP/GP SA')\n",
    "# print('125 ms: ',stats.pearsonr(trunc_derivedVE_125, ddtrunc_vgpSize_gpSize))\n",
    "# print('250 ms: ',stats.pearsonr(trunc_derivedVE_250, ddtrunc_vgpSize_gpSize))\n",
    "# print('1000 ms: ',stats.pearsonr(trunc_derivedVE_1000, ddtrunc_vgpSize_gpSize))\n",
    "\n"
   ]
  },
  {
   "cell_type": "code",
   "execution_count": 225,
   "metadata": {},
   "outputs": [
    {
     "name": "stdout",
     "output_type": "stream",
     "text": [
      "Correlation between Discrimination Derived VE and VGP SA\n",
      "125 ms:  (0.14854987140438985, 0.07557895685659838)\n",
      "250 ms:  (0.25732008842547055, 0.001848626022712316)\n",
      "1000 ms:  (0.019902057566154402, 0.8128377992692554)\n"
     ]
    }
   ],
   "source": [
    "# corr, p-value\n",
    "print('Correlation between Discrimination Derived VE and VGP SA')\n",
    "print('125 ms: ',stats.pearsonr(trunc_derivedVE_125, ddresid125_trunc_vgpSize))\n",
    "print('250 ms: ',stats.pearsonr(trunc_derivedVE_250, ddresid250_trunc_vgpSize))\n",
    "print('1000 ms: ',stats.pearsonr(trunc_derivedVE_1000, ddresid1000_trunc_vgpSize))\n",
    "\n"
   ]
  },
  {
   "cell_type": "code",
   "execution_count": 226,
   "metadata": {},
   "outputs": [
    {
     "name": "stdout",
     "output_type": "stream",
     "text": [
      "Correlation between Discrimination Derived VE and GP SA\n",
      "125 ms:  (0.12221835633350275, 0.14447850728649458)\n",
      "250 ms:  (0.11366888069868848, 0.17492758066390462)\n",
      "1000 ms:  (0.09596141292558243, 0.2525641616642558)\n"
     ]
    }
   ],
   "source": [
    "# corr, p-value\n",
    "print('Correlation between Discrimination Derived VE and GP SA')\n",
    "print('125 ms: ',stats.pearsonr(trunc_derivedVE_125, ddresid125_trunc_gpSize))\n",
    "print('250 ms: ',stats.pearsonr(trunc_derivedVE_250, ddresid250_trunc_gpSize))\n",
    "print('1000 ms: ',stats.pearsonr(trunc_derivedVE_1000, ddresid1000_trunc_gpSize))\n"
   ]
  },
  {
   "cell_type": "code",
   "execution_count": 227,
   "metadata": {},
   "outputs": [],
   "source": [
    "# corr, p-value\n",
    "# print('Correlation between Discrimination Derived VE Linear Model Residuals and VGP/GP SA')\n",
    "# print('125 ms: ',stats.pearsonr(trunc_residuals_derivedVE_125, ddtrunc_vgpSize_gpSize))\n",
    "# print('250 ms: ',stats.pearsonr(trunc_residuals_derivedVE_250, ddtrunc_vgpSize_gpSize))\n",
    "# print('1000 ms: ',stats.pearsonr(trunc_residuals_derivedVE_1000, ddtrunc_vgpSize_gpSize))\n",
    "\n"
   ]
  },
  {
   "cell_type": "code",
   "execution_count": 228,
   "metadata": {},
   "outputs": [
    {
     "name": "stdout",
     "output_type": "stream",
     "text": [
      "Correlation between Discrimination Derived VE Linear Model Residuals and VGP SA\n",
      "125 ms:  (0.03707977833351704, 0.6590456700674888)\n",
      "250 ms:  (0.1594652167571622, 0.05624400194618461)\n",
      "1000 ms:  (-0.12437566901936403, 0.13747133836340902)\n"
     ]
    }
   ],
   "source": [
    "# corr, p-value\n",
    "print('Correlation between Discrimination Derived VE Linear Model Residuals and VGP SA')\n",
    "print('125 ms: ',stats.pearsonr(trunc_residuals_derivedVE_125, ddresid125_trunc_vgpSize))\n",
    "print('250 ms: ',stats.pearsonr(trunc_residuals_derivedVE_250, ddresid250_trunc_vgpSize))\n",
    "print('1000 ms: ',stats.pearsonr(trunc_residuals_derivedVE_1000, ddresid1000_trunc_vgpSize))\n",
    "\n"
   ]
  },
  {
   "cell_type": "code",
   "execution_count": 229,
   "metadata": {},
   "outputs": [
    {
     "name": "stdout",
     "output_type": "stream",
     "text": [
      "Correlation between Discrimination Derived VE Linear Model Residuals and GP SA\n",
      "125 ms:  (-0.031134697152731622, 0.7110472409659078)\n",
      "250 ms:  (-0.06038694925760896, 0.4721505754852709)\n",
      "1000 ms:  (-0.1257865594150241, 0.13303082854053003)\n"
     ]
    }
   ],
   "source": [
    "# corr, p-value\n",
    "print('Correlation between Discrimination Derived VE Linear Model Residuals and GP SA')\n",
    "print('125 ms: ',stats.pearsonr(trunc_residuals_derivedVE_125, ddresid125_trunc_gpSize))\n",
    "print('250 ms: ',stats.pearsonr(trunc_residuals_derivedVE_250, ddresid250_trunc_gpSize))\n",
    "print('1000 ms: ',stats.pearsonr(trunc_residuals_derivedVE_1000, ddresid1000_trunc_gpSize))\n",
    "\n"
   ]
  },
  {
   "cell_type": "code",
   "execution_count": 230,
   "metadata": {},
   "outputs": [
    {
     "data": {
      "text/plain": [
       "(0.6162035194788191, 1.2431826720725843e-16)"
      ]
     },
     "execution_count": 230,
     "metadata": {},
     "output_type": "execute_result"
    }
   ],
   "source": [
    "stats.pearsonr(trunc_vgpSize, trunc_gpSize)"
   ]
  },
  {
   "cell_type": "code",
   "execution_count": 231,
   "metadata": {},
   "outputs": [
    {
     "data": {
      "image/png": "iVBORw0KGgoAAAANSUhEUgAAAfUAAAH7CAYAAADVQgZhAAAABHNCSVQICAgIfAhkiAAAAAlwSFlzAAALEgAACxIB0t1+/AAAADh0RVh0U29mdHdhcmUAbWF0cGxvdGxpYiB2ZXJzaW9uMy4xLjEsIGh0dHA6Ly9tYXRwbG90bGliLm9yZy8QZhcZAAAgAElEQVR4nO3debxcdX34/9c7MYEQFxKBSAIU3EWtW4yC1ioWpdZvQAUX6oLaH7XYVosaolILVi3GiktdqEVFrUFFbUwtioK4LyEgFtnVgiZARBO2sCQm798fZ25y783M3DMzZ9b7ej4e93Fnzpk58z7nzp33fPbITCRJ0vCb0e8AJElSNUzqkiSNCJO6JEkjwqQuSdKIMKlLkjQiTOqSJI0Ik7o0oCJiVkQ8MyLeGxE/jogbI2JLRKyPiC9GxNObPPesiMgmP1c1ee6MiHhtRKyNiDsi4taI+F5EvKQrJyqpMvfqdwCSGvpT4Ju12zcBFwObgYOBFwAviIh/zsy3NTnGD4Bf1Nl+Y70HR8RM4MvAUuA24BvAbsAzgZURcUhm/n0b5yKpB0zq0uDaDnwJ+EBmfm/8joh4EfBZ4B8j4sLMvLDBMc7MzLNaeM3XUyT0K4DDMnND7fUeAnwP+LuIuCAzv9LaqUjqBavfpQGVmd/KzKMnJ/Tavs8DZ9XuvrSK16uV0pfV7v7NWEKvvd61wEm1u2+t4vUkVc+kLg2vn9Z+71fR8Q4B9gHWZeZ36+w/B9gKPDEiFpU96Fg7fu32cbW2+s0RcVNEfDwi9q7t2z0iTo2IayLi7oj4dUS8MyJm1Tnm7hGxPCIuqbX731Prc/CjiHhHROze1hWQhpzV79Lwekjtd9328ZpnRMQfA/cGNgDfB76ZmdvrPPZxtd8X1TtQZt4ZEZcDj639rG8l2Ih4N0X1/neArwOHAq8CFkfEU4DzgEfU9v+Cok/BW4C9gePHHWcG8D/AYcCttcffCiwAHkZRk/Ahin4I0rRiUpeGUEQ8ADiudvdLTR768jrbroiIF2fmZZO2H1T7fX2T4/2aIqEf1OQxjbwCeGxmXgkQEfOAHwF/XPt9C3BQZt5a2/9Yii8YfxUR78zMsbieSpHQLwGelpmbx14gIoLiy8JtbcQnDT2r36UhExH3Av4TuB9wQWb+d52HXQr8PfBIilL6QuC5wM8oes+fX6cK/d6135tp7I7a7/u0EfrbxhI6QGZuAs6o3T0YOH4sodf2XwqcCwRFqX3Mgtrv741P6LXnZGb+IDPvbCM+aehZUpeGzxkUQ8x+Q4NOcpn5/kmbNgP/ExHfpKiufjLwZuBvxz0mxp5eabQ7fb3OtrHhdtePT/jjXFv7vXDctkuAbcCrI+Ia4EvjO/VJ05kldWmIRMQHgFdTtBc/MzNbajfOzC3Av9TuPmfS7ttrv+9NY2P7bm/ymEbW1dl2R5N94/fv6PiWmb8E/gGYDXwYuCkifhkRn4mIo2u9+KVpyaQuDYmIeC9FlfrNFAn92ime0sjYbHKTq9+vq/3+oybP3X/SY0tr0DlvTLN99Y71bxRx/g3FeP2ZFLUW5wBrI+K+rcYnjQKTujQEImIFcCLwe+DwzLyig8Pdv/b7jknbL6n9fmKDGPYAHlW7+9N6j+mlzLwpM8/IzJdm5oEUHfguq/1e3tfgpD4xqUsDLiJOA94EbKJI6D/r8JAvrP2ePHTtR8Bvgf0i4ml1nncMMAu4KDNbGs7WC7Xr8oHa3cf0MxapX0zq0gCLiH+mmMntFoqEPmUJOSIeGxHPndy2HBH3iogTKarwAd43fn9mbgPeU7v70YjYZ9xzHwKcVrv7zrZOpiIRcVhEPKc2CmD89pns7CfQbFieNLLs/S4NqIhYCpxcu/sLinnX6z30qsw8bdz9A4H/AjbWeoevoxiC9miKXuTbgZMy87w6x3of8DTg/wHXRsQFFKXzP6PorPZvAzDv+x9TxHlrRFxCMfnOHsCTgH0pOhG+u3/hSf1jUpcG1/xxtxfXfur5DjtL0VCMRf8AsISiM9njKIaprQM+CXw4My+ud6DM3BYRRwEnAK8Enk0xfOxi4COZubLts6nOfwN7Unz5eDDFZDN3UEyMcwbw0cy8uX/hSf0Tmd0akipJknrJNnVJkkaESV2SpBFhUpckaUSY1CVJGhEmdUmSRsTQD2k74ogj8utfr7f4kyRJI6nuhBUwAiX13/3ud/0OQZKkgTD0SV2SJBVM6pIkjQiTuiRJI8KkLknSiDCpS5I0IkzqkiSNCJO6JEkjwqQuSdKIMKlLkjQiTOqSJI0Ik7okSSPCpC5J0ogwqUuSNCJM6pIkjQiTuiRJI+Je/Q5A0uDatGYVG1avYOvGG5g1fyELli5j3pKj+h2WpAZM6pLq2rRmFetXLie33AXA1o3rWb9yOYCJXRpQVr9LqmvD6hU7EvqY3HIXG1av6FNEkqZiSV1SXVs33tDS9ipY3S91xpK6pLpmzV/Y0vZOjVX3b924Hsgd1f2b1qzqyutJo8ikLqmuBUuXEbPnTNgWs+ewYOmyrrye1f1S56x+l1TXWLV3r6rD+1HdL40ak7qkhuYtOapnbdqz5i+sVb3vul1SOVa/SxoIva7ul0aRJXVJA6HX1f3SKDKpSxoYvazul0aR1e+SJI0Ik7okSSPCpC5J0ogo1aYeEfcCZmbmPeO2PQs4GPhuZl7SpfgkSVJJZTvKfR64FXgVQET8PfB+4B5gZkQ8PzO/2p0QJUlSGWWr358MnDvu/puA92bmHOBM4K1VByZJklpTNqnfH7gJICIeDSwEzqjtO4eiGl6SJPVR2aS+ATiwdvsI4PrM/GXt/hxge8VxSZKkFpVtUz8HeHdEPAZ4JfChcfseB1xbdWCSJKk1ZZP6cuA24InAR4F3jdv3BIqOdJIkqY9KJfXM/APw9gb7nl9pRJIkqS1OPiNJ0ohoWFKPiJuBLHugzNynkogkSVJbmlW/f5gWkrokSeqvhkk9M0/pYRySJKlDtqlLkjQiyg5pIyIOAV4NPBTYffL+zFxSYVySJKlFpUrqEXE48F1gP+CpwM3AHcBjKKaQ/Xm3ApQkSeWUrX5/O/AB4C9q9/8xMw+jKLVvBb5dfWiSJKkVZZP6wcDXKOZ4T2AuQGZeD5yCq7RJktR3ZZP63cCMzEzgRuBB4/bdRlEtL0mS+qhsR7mfAQ8DvglcALw5ItYDWyiq5i/rTniSJKmssiX197NzIpq3AJuB84ALgX2A11YfmiRJakXZBV3OHXd7fUQ8AXgwxVrqV2Xmli7FJ0mSSio9Tn28Wtu6a6hLkjRASiX1iFgx1WMyc1nn4UiSpHaVLakfU2fbPOC+wK3AJsCkLklSH5VtUz+o3vaIeBLwMeA1VQYlSZJa19GCLpn5E+A9wIeqCUeSJLWrilXafk8xhl2SJPVR2Y5ye9TZPBt4BMXkM5dXGZQkSWpd2Y5yd7Bz8pnxAlgPHFVZRJIkqS1lk/qr2DWp3w2sA9Zk5tZKo5IkSS0r2/v9rC7HIUmSOlRFR7nKRcTMiPhpRHy137FIkjQsGpbUI2Js7fRSMnNmJREVXgdcSTG5jSRJKqFZ9fvfszOpzwLeQNFh7ivAb4EFwJHAXOC9VQUUEfsBfwG8EzixquNKkjTqGib1zNwxoUxEnA78BDimtpjL2PblwDlA3Rnn2vR+iiln79PoARFxPHA8wAEHHFDhS0uSNLzKtqm/HPiP8QkddqzW9h/AS6sIJiKeC/w2My9u9rjM/FhmLs7MxXvvvXcVLy1J0tArm9RnUkw0U88jWzjOVJ4CLI2I64DPAYdFxH9WdGxJkkZa2XHqnwXeFRH3AlZTtKnvQ9Gm/nbg41UEk5lvBt4MEBFPB96YmZXUAkiSNOrKJvUTga0UCfzd47bfA/w7LrsqSVLfxaRm8uYPjpgPPBp4AHATcFlmbuxSbKUsXrw4165d288QJEnqpWi0o2xJHYBaAv9Ox+FIkqTKNZt85jnA9zPzttrtpjLz3EojkyRJLWlWUv8q8GRgTe120rjInxQ95CVJUp80S+oHATeOuy1JkgZYsxnlrq93W5IkDaZSk8ZExCMi4snj7s+JiHdFxKqI+LvuhSdJksoqOxPcR4D/N+7+v1KspLY78O6IeFPVgUmSpNaUTeqPAn4EEBGzKOZ6f31mHgG8BXhVd8KTJElllU3qc4HbarefXLv/5dr9S4A/qjguSZLUorJJ/VcUyRzgecBPM/P3tft7AbdXHZgkSWpN2Rnl3gd8NCKOAR4HvHLcvqcD/1txXJIkqUWlknpmfjwirgWeCCzPzAvG7d4IvL8bwUmSpPJKz/2emd8Fvltn+ylVBiRJktpTtk2diNgnIt4dERdExDUR8cja9tdFxCHdC1GSJJVRdvKZJcAvgBcA1wEPAnar7d4XeEM3gpMkSeWVLam/D/gW8FDgr5m4sMsaYEnFcUmSpBaVbVN/PHBkZm6PiMkrtf0e2KfasCRJUqvKltRvBfZusO+BwIZqwpEkSe0qm9S/ApwaEQ8cty0jYi/gjeycXU6SJPVJ2aS+nGKa2CvYOaztDOBq4C7gbdWHJkmSWlF28plNtaVXXwY8E9hMMenMmcCnM/Oe7oUoSZLKaGXymS3Ax2s/kiRpwJSefKaRiHhGRHytimAkSVL7mpbUI2JP4Ahgf4qV2lZn5tbavmOAkyiGu13T5TglSdIUGib1iHg08A1gwbjNl0TEC4CVFEuxXgH8JfD5bgYpSZKm1qz6/V0UPd4PAfYAHkHROe4i4FHAKzLz0Zl5dmZu73qkkiSpqWbV74uB12XmT2r3r46IvwGuBY7PzP/senSSJKm0ZiX1BRSLt4w3dv9n3QhGkiS1b6re79lg+x+qDkSSJHVmqnHq50VEvQR+weTtmemiLpIk9VGzpH5qz6KQJEkda5jUM9OkLknSEOl4RjlJkjQYTOqSJI0Ik7okSSPCpC5J0ogwqUuSNCJM6pIkjYhmq7RdROMZ5XaRmUsqiUiSJLWl2eQzl9NCUpckSf3VbPKZ43oYhyRJ6lBLbepR2D8iDo2Iud0KSpIkta50Uo+IE4D1wPXA94CH1bZ/OSJe353wJElSWaWSekS8CTgd+A/gMCDG7f428KLKI5MkSS2ZaunVMa8F3paZKyJi5qR9VwMPrTYsSZLUqrLV7w8ALm6wbzuwezXhSJKkdpVN6r8A/rTBvqcBV1QTjiRJalfZ6vf3Ax+JiC3AF2vb9omIVwMnAv9fN4KTJEnllUrqmXlmRMwD3gacWtt8LnAncEpmruxSfJIkqaSyJXUy8z0RcQZwCLAXsBH4UWbe2q3gJElSeaWTOkBm3g58o0uxSJKkDjRb0OXlrRwoMz/deTiSJKldzUrqZ026P7a4S9TZBmBSl6QhsWnNKjasXsHWjTcwa/5CFixdxrwlR/U7LHWo2ZC2+4z7eSJwHfCPwMEUbeoHU3Scuw5w2VVJGhKb1qxi/crlbN24Hki2blzP+pXL2bRmVb9DU4eardK2eex2RLwX+HBmnj7uIRuBd0bE3RRTyDYaxy5JGiAbVq8gt9w1YVtuuYsNq1dYWh9yZSefWUKxvno9P6coyUsaIJvWrOKqkw/lshMO5KqTD7UUph22bryhpe0aHmWT+m+AVzbY92pgXTXhSKqC1atqZtb8hS1t1/Aom9TfArwgIn4eEe+KiNfXfv8ceD7w5u6FKKlVzapXpQVLlxGz50zYFrPnsGDpsj5FpKqUnVHuSxHxJGA58BKKBV5uAi4CXpGZjRZ7kdQHVq+qmbF2c3u/j55WZpS7BHhhF2ORVJFZ8xfWqt533S5BkdhN4qOnbPU7ABExOyKeEBGHR8TjI2J2twKT1D6rV6XpqXRSj4hlwAZgDXAesBbYEBFv6lJskto0b8lRLDr2NGbNXwQEs+YvYtGxp1kyk0Zcqer3iHg98C/AGcDnKZL7AuBFwL9ExD2Z+cGuRSmpZVavStNP2Tb11wKnZeZbx227GvhuRNwC/D1gUpckqY/KVr/vD1zYYN+3gf0qiUaSJLWtbFL/NfCsBvsOr+2XJEl9VLb6/YPAByNiPvBFijb1fYBjgOMoqt8lSVIflZ185kMRcQ/wT8CrKJZcDeAG4DWZeWb3QpQkSWW0MvnMf0TEmRTt5/sCNwLrMjObP1OSJPVC6aQOUEvgv6n9SJKkAdIwqUfEy1s5UGZ+uvNwJElSu5qV1M+iaDuHov28mQRM6pIk9VGzpL6ZIll/Bfgc8F1gey+CkiRJrWs2Tn1vip7uc4BzgCuBtwMHZ+bmyT89iFWSJDXRMKln5t2Z+cXMPJpiTPpbgIcD34+IX0bEOyPi4VUGExH7R8SFEXFlRFweEa+r8viSJI2yUjPKZeYdmfnpzPwL4AHAl4FlwLsqjucPwBsy8xHAk4HXRsTBFb+GJEkjqfSQtojYj2JVthcDT6BYgvXsKoPJzBspxr+TmbdHxJXAIuCKKl9HkqRR1DSpR8TeFFPBvgQ4FLiMotPcMZl5XTcDi4gDgccBP6mz73jgeIADDjigm2FIkjQ0mo1TPw94BvBLijXU/yozr+5FUBFxb+BLwOsz87bJ+zPzY8DHABYvXuyMdpIk0bykfjhwR+3nOcBzIhoPV8/MJVUEFBGzKBL6ZzPzy1UcU5Kk6aBZUv80Oyef6YkovjV8HLgyM0/v5WtLkjTsGib1zDyuh3GMeQrwMuCyiLi0tu0tmXluH2KRJGmotLSgS7dl5veZekpaSZJUR6lx6pIkafCZ1CVJGhEmdUmSRsSUST0iZkTEotrYcUmSNKDKlNRnANcBT+1uKJIkqRNTJvXM/ANwPbBH98ORJEntKtum/m7grbW54CVJ0gAqO079WcC+wHURcTGwgYmzzWVmvqjq4CRJUnllk/pewNWT7kuSpAFSKqln5jO6HYiG36Y1q9iwegVbN97ArPkLWbB0GfOWHNXvsCRp2hioaWI1vDatWcX6lcvJLXcBsHXjetavXA5gYpekHimd1CPiPsCRwEOB3Sfvz8xlFcalCvWiBL1h9YodCX1MbrmLDatXmNQlqUdKJfWIeBDwA4phbXOBm4H5tedvAm4FTOoDqFcl6K0bb2hpuySpemWHtL0PWAssoFhF7TnAHOClwB2APd8HVLMSdJVmzV/Y0nZ1z6Y1q7jq5EO57IQDuerkQ9m0ZlW/Q5LUI2WT+hLgDOCe2v3ZmbktM1cC7wU+0I3g1LlelaAXLF1GzJ4zYVvMnsOCpVbg9NJYzczWjeuB3FEzY2KXpoeySX134LbM3A5sBMYXv34OPKbqwFSNXpWg5y05ikXHnsas+YuAYNb8RSw69jTb03usVzUzkgZT2Y5y1wB/VLv9U+A1EXEusA14NWDD6YBasHTZhDZ16F4Jet6So0zifWbfBml6K5vUPwc8FvgM8I/AecBtwPbaMY7rRnDq3FiSdfz49DBr/sJa1fuu2yWNvsjMqR81+UkR+wN/TlEt/63M/HnVgZW1ePHiXLt2bb9eXhook0c7QFEzY1OINFKi0Y62Jp/JzN8AH2s7HEldYc2MNL21MvnMPsAbgMXA/sDzMvPyiHgdsCYzf9SlGCW1wL4N0vRVqvd7RCwBrgVeAFwHPAjYrbZ7X4pkL0mS+qiVyWcupJgi9q+ZWJ+/hmIcuyRJ6qOy1e+PB47MzO0RMbmB/vfAPtWGpUZcCU2S1EjZpH4rsHeDfQ8ENlQTjppxJTRJUjNlq9+/ApwaEQ8cty0jYi/gjcCXK49Mu3C2MElSM2WT+nKKyWauAL5b23YGcDVwF/C26kPTZM4WJklqplRSz8xNwJOB1wLXA+cD/0eR7J+Smbd3LULt4EpokqRmSo9Tz8wtwMdrP+qDXs7jLkkaPi3PKBcR9wJmT96emXdWEpEacrYwSVIzpZJ6RNwXeBfwfIrha/XmnZ1ZYVxqwNnCJEmNlC2p/zvwXOBMis5yW7oWkSRJakvZpP5s4B8y88xuBiONEicKktRrZZP6ZmBdNwORRokTBUnqh7Lj1N8LnBARZR8vTWtOFCSpH8qW1BcBjwGujogLgVsm7c/MPKnSyKQh5kRBkvqhbFI/Gthee/zhdfYnYFKXambNX8jWjevrbpekbimV1DPzoG4HIo0SJwqS1A8tTz4jaWpOFCSpHxom9Yh4DvD9zLytdrupzDy30sikIedEQZJ6rVlJ/asUi7isqd1O6s8kR22fM8r1kGOgJUmTNUvqBwE3jrutAeEYaEn1+GVfDZN6Zl5f7/ZkEXEA8HTg05VGNsI6/cdrNgbaf2BptDX6/PDLvqD85DPNPBH4ZAXHmRbG/vGK4U654x9v05pVpY/hGGhpemr2+eGER4JqkrpaUMU/XqOxzo6BlkZbs88Pv+wLTOo9V29CkmJ7+X+8BUuXEbPnTNjmGGgNqk1rVnHVyYdy2QkHctXJh7ZUK6WJmiVuv+wLTOo9VXyY1R9A0Mo/3rwlR7Ho2NOYNX8REMyav4hFx57Wl3YzP7DVTBXNTdqpWeL2y76g+Tj1PUoeY/eKYhl5RRV71tkTLf/jDcIY6EHomGNv38Fmp85qNZup0AmPBM2HtN1B/Qw0WZR83LTXuIo9h/Ifr98f2IPwpULN2c5brakS9yB82Vd/NUvqr8JkXanGi3ws6kM0nev3B3a/v1Roai5sUz0Tt5ppNk79rB7GMS2M2iIf3fzALlOt3u8vFZraqL3npUFnR7keGqQOblVo1jGnkw50ZTtX2dt38I3ae14adJE53DXsixcvzrVr1/Y7jI612+Gr3x3F6r0+ULd0VvbD/KqTD23YTPHwd/xwwmt38jqSNKQarcPi0quDoEyHrzLJsx8dxeq171118qEdtXWXrVa3t68kTWRSHwBTdfhqlPRnzNp9IDuKddrW3UpbvZ2GJGkn29QHwFRJsFHS37Z5U0vH65VO27qdREOS2tNs8plDgZ9l5uZmB4iI+wPPzsyVVQc3XUxVMm01SY89r1GVfaPq6qra5zvt8dzravV+90uo2qidj6TyGnaUi4htwCGZuaZ2fyawBXhiZl4y7nFPAn6YmTN7EO8uRqGj3FQdvhp1HJsxd09y6z11nwe7dlZj5qxipqBtW0s9vp1OZzsTynqYMRO2b2PW/EVdSyydJrBR62w3aucjqa6GHeWaVb/Xe1LDA6l9Uw37aVQdvfCYUxs+r16VPdu2TkjosLMNvorV4yYORQO2b9tlCst2NBoeV8W84qO2XOVU59PqUEPn9peGix3lBkSzDl9lpoacrJUq+2aPbeU43ZjhrdnIgCper9VOfYNetd3sfKYaZTH53O79yMO45SdfdBpeaYiY1IdEq728G7XTN3os1F8WtpWJXKZKkO0kxG6vH91KT/tuzTVf5ReFhn/3GTO48ZxTmpbiJ5/bpu/9J5Nnih6E0RWSGpuq93u9Bvfhnq2mSwatmrJelT0zZxEzZ03YNFY9XkWP82a93tutKm+cuNfDjPpv31a+iLRy3t2oqq96adK6f3eA7duajpao21zT4F+936MrJDU2VUn9rIiY3Pv9MxFx57j7cyuOaegM4mphjars620bH2MnJcZmvd7brSpvXOMQsH3brltb/CLSSk/7bsw1X0UTwuSS/p5POppNP1hZ9/rUU1zj1mo3JA2mZr3fz6KFUnlmvrKimFoyCL3fy05rCoPfJtupRud32QkH0mgt+Ud/5Lqmx9ulF3+j1X5nzGSPhzyZO6/9cZHQZsxk3lOOZb+XvKOjcxrTyt+5rHavy5hGvd13LXXXN9YzfseIhTpxTIyvuN/NEQ2SptT6NLGZeVxXQhlQnSTbsiW4QSzRV61e2/+mNasa5uGZc/ec8ngwsSTdsK/A9m3cefUPJtzf9L3PAFSS2Lux4linK901KumPDSecbMbcPZm529y67/N657bnk47mjsu/VYtx5x9xFN+70ihoNvnMh4CVmdleEWSIdJpsy34wd3P9717XAJQdjz52bWlQI5QlKoMmf1FoVGJuGOv3P1tJUu/GpDhlvyg0+vs2rDavDSecfNyFx5xaN96pzq3eNa/33m0U56jXUEmDolmb+rHA30TEOuBs4HOZeWlvwuqtTpNt2Q/mbq3/3epQpUYfqK08bsL51kqE9b4M1e+AtdP2zbe2fL6NrnfD18ntLb9GI1XPNV/mi0Kzv2+zmouYtRszZu3Ots23lEqkzc6tzHu3UZybf7nWoXFSjzRL6vsARwAvBv4GeFNEXAOsBD6fmdf0IL6e6DTZli3BdVrV2shUvbLL1EK0UlvRLFFP/jI01TVs59znLTmKzb9cu7Mz2IyZReewWlX7sJnqi0Kzv2+9Lzhjtm++hZg9h/2Oe3/HybPMe7dRnPU67Tk0rjPWfKiRhkPaMvMPmfnVzHwpRYJ/EXA5sBy4MiLWRsSJEbFfj2Ltmk4XIIHig/nh7/ghj/7IdTz8HT+s+w/WrYVKmn0pKTsMq5XhWlMl6vH7m13Dds9905pV3PKTL+5MFNu3FfcnDdfbod4QryHS7O87cTbCXVU1O16Z926zpoB6mk3wM0jDQwdN1cMgNVpKrdKWmfdk5hcz82iKBP9y4AbgXcB1EfGdLsbYdb1aFWyq6WDb1exLSdlaiFZqK6b6sjN+f6Nx0zPnzmv73Bt9AZm5+70hJr2lYwb71ea2H1ZTfekc+0LZqENsFePKy7x3G74vZtRfFqLZBD8mrMZGbWpjVavlpVczc3Nmfhb4J+BTFJ8kT606sF7qVrJt9FpTlehb1exLSdlaiFZqKxpOcMKuX4bqXdv9jvsAB7/n0qbn3qy01ihJbdt8C/u94n0TX+sV7xv6asmyXzqrqHFqZqr3bqM45z3l2L5O8DNqutU3R6OhpWliI+LhFG3sLwYeAmwCzqToSDfUqu4A1alW2symatMv04mvleFaE19v6tXYxl/bsfNad9brd8wvXgyZmjhBTrP2/Wbtu4P2d5xKmb9z2T4b3Rhy14pmcc590OK+TfAzarrVN0ejoeHkMzseEHEQOxP5o4DNwGqKRH5eZv6h20E2MwiTz1St6uUz15198oROZY0mZOl255v6E8lMFLPnELN2Y/vmW3bZNzbJSy+XF63ymtRbMGXTDz8H41fOmzmL/V72r5W9xrB1oOrGBD+jxuV1RZPJZ5rNKF+x7wgAACAASURBVPcPFIl8McU66l+nSOT/nZnlpqtqQ0QcAXwAmAmcmZlNG0RHMalX+cE2SB8ArY4v39XOWdZ6kbyqvHZlvtCMmTF3Tx75np+1HO8oGKT36yAb9i9v6ljrM8oBK4ALgb8CvpyZrQ8oblFEzAQ+DBwOrAMuiojVmXlFt197kFRZBdnNCW9a1WkV6vjqxV5Us1d57aYarz9evVqK6aIbE/yMomFrZlLvNEvqizLztz2LpLAE+EVm/gogIj4HHAlMq6ReZZvZILVRll0OdubceWzfenff2obHVHntbBMuz4Qlta/ZOPVeJ3SARcBvxt1fV9s2rZTp7Vx2LG+3e0S3Ek+zXvNjYvYc9j3mlMpHI7Qz9rnKa9fKc2bOndfy8SUJ2hjS1mX12gl2afSPiONrk9+svfnmm3sQVm9NNcSulbG8jRLptns2Vzb2t2w89c5r3p+8bJfzhGqrX5vF1yzZVzl/QaP17SeP4Y6Zs9j3mFNaPv4wc7IZqTpT9n7vpYg4BDglM59du/9mgMz8l0bPGcWOclNptSPdpjWruPGcU9i2edOE7Z10+hqfdLffc+cux24Wz1THrrqjVKPrNWPunuTWe5q+Vjd7v5dZ377d4w5L9bUd46S2tN77vR8i4l7ANcAzgfXARcCxmXl5o+dMx6TeyhrcE1ZTq6PVxNtKL+5ma4JP/qIxY+6eLDzm1IaxdmfN8vqGafhUP5JilV8i+j2EbZi/EGlaa5jUB6r6vTbm/W+B84ArgS80S+j91q9qw7JtvROrnetrtQNXK724G8W5ac0q1n/mjRNK99s338K6z7yxYaxbN65v+xq32gY+TJ3aqpiBrZX3cdXTuPazI6dT0moUNVtP/W2tHCgz3955OJCZ5wLnVnGsbup0DfaxY7RTSig7c1iZBNxKwtu0ZlXpceYxcxbb7tnMZSccuMu5bVi9ghw/4cqYbVt3zE5XT7tLdja6XsWypPWaDVq7Jv0s6XWaFFt9H1c9RLKfs6MN0nBPqSrNhrT93aT7c4A9arfvAO5du31n7aeSpD4sOv1AWHf2yWz63n8yVi3cSsIquwb3VAm4lU5fYx/+ZcycO49td99B1sZbTz63pgln+7ama6O386E79tgbzvmnHWPAZ8zanfs+/rkT1vmG9q7J+IS47jNvrDUrlFvDvFOdJsVW38dVl6x7NbVtvS9fgzTcU6pKsyFte4/9AEuB3wIvBfbIzPtSJPiX1bYf2YtgB0knHwib1qyakNDHtFJt2mxxjbIJuJV211aq3WfstsfEqU+ZeG7NEs5YD/hGS4nCxGvcStVxbr1nx+1tmzdxy0++yJ5POrrtoXN1r8m2rbXSf2+qczvtod/q+7jqIZK9WEypUTX7zLl71n28c6iPpukyyqLsgi4fBN6VmSvHNmTm3cBnI2IuxSxwj+9CfD1Xtjq1kxJSkdzqd9yqopRQrtp9UUsfnK3ENVWiWLB0Ges/88Zdq+BjBtvvuXPHYi8z5u7ZYA744hq3UnXcqES66Qcr2e/lp7eVRMpck3arc8u+Dzudga3V93E3Stbdnmym0d8+Z+22S61QPyY5UvdV0Vw6LMp2lHsUxfrp9awHHlFNOP3V6fjvsh8IzZJBFaWEqZLN+Dg7ncRmshlz9yy1/veil/3rxElWZs8hZsycUMrNuzcXY7kbxN5KJ7GG12T7trZL02WvSatf1FrtwNXJcr6tvo97uUxxVRpd/+2bbx26c1F7ptOSvmVL6tcAJ0bEBZm5ow4zInYHTgSu7kZwvdZK+2InJaTG06VGJaWEZtOxjl8etZVvr/VKaLuYOYuFx5wKTL3c6+TSWb2hTbltKzPnzmPGbnvUvcatVB03uybtlqZLXRPqJ/9mJfFeduBq5308bNO4jtJSvWrPdOo/UTap/x1Fj/R1EfFNinb0fSgWXtkD+PPuhNdbrf7h2/1AqJ8Mgnl/8tJKPmAaVZFOLoW0/yVm5xrqzdZSr5coGiWzRtd42+ZbOPg9l9bd10rV8VQJuJ1/7skJccbc+5F3b57QrFCv1DvVl6lO+2u0+kVz1BNbv9eZV/9NpzXoSyX1zPxuRDwE+AfgicDjgJuATwLvz8yR+LrTqz98t1eiKnv8bn6JqffYZslsqmtfL1m18mE9Fsu6T59Yd8hcJx29JndSnOq6T/Vlqt334XRqN2yFK7+pX1/s+jHkdaBmlGtHlTPKTbcpK3s9m1ez12tWuwD1q/PbmSe+0Yx4M+fOY99jTun633nTmlWsO+t1DfYWM/C1+z7sxt+z3+PwBz0eDY9ev3e6nE/aWk9916NEHAw8Adgf+ERm3hQRDwY2ZObtncXYf9PtG32vv702rhkoEtGiY0+re+2vOvnQhiXbVjuG1RuzDsUQt26Xaqcaaji+IyG0/j6sut1w0Er+gxaPhkuvm5n6NblRqaQeEfcGPgEcDWytPe/rFFXw7wJ+DbyxSzH21Ki3L47X6y8xzTqrrV+5nEXHnla3RFl1spq35Cg2rF6xy3C5bv/DNRtqOFVHwjKqbj4atBnXBi0eqZl+dc4rO6TtdOBQioVW7sPEov+5wBEVx6Ue6WQ4VKuarafebHhJN9aE78c/XLNjT66Sa2eijCqXim0Wb796DA9aPFIz3fjcKqNsUn8+cFJmXghM7mV0PfBHlUalkTQ2xrmRRh/OVScr6M8/XOPXXLRLQm9noZGqx5D360OpkUGLR2qmG59bZZRN6nOA3zfYdx92TfRSXUXv7vpTwDb6cO7GhCf9+IdbsHTZLpPpMHNWqYV4yk6UUWXNS9XXqNNpOvv1ISm1o18TNZXtKHcR8HKKdvTJjgaGY/FpDYR2OuhV3dehWX+CbvaSDSZOEFyvC2uvqpmnOs8q+1xU0cltunVk1fDrRx+tUkPaIuKpwPnA94FzgI8A/wQ8jCKpPy0zL+pinA1VOaRNvTOoQ5O6OQyl7JCzXgw17PXwzV4Pn5RGXMMhbaWq3zPz+xSd5HYDPlQ74KnAA4E/61dC1/DqZQe9VnRzjuiyJfBeVDP3ei5sO7lJvVF6nHpm/gD4k4iYA8wDbsnMO7sWmXpuUEvPVWl2fjv31R9yV0XyKTvkrBfVzL1OstNpmk6pn8qOU38l8F+ZeUtm3gWUW1hbQ2PUJ/Zodn6w64x1k5WZonWqJNzqtLbdvO69TrLOvy71Rtne72cAN0XE6og4traGukbIKC9NuGnNKtZ9+sSG5zfV+vNTJZ+yQ9AGadnSXvckH6Rzl0ZZ2Y5ye1KMVX8hcBjFrHJfA84G/icz7+5mkM3YUa4al51wIBP7ZY8p5iMfVo3met9prL9J/f+DeqvPTTasncBGvblFGmGdzf2embdQTBP7iYi4P0WP9xcCnwfujIjVmfnSKiJVf3S7OrZfCWSqUvjY+XWSlIe1E9h0mhJZmi7KVr/vkJm/z8x/z8xnAkcCtwMvqTwy9VQ3q2PbnSGtCs0S69j5dXruU8101umkK5I6N13+D1tO6hHx6Ih4R0RcC6wGNlMs6qIh1s02z3621zesaZgxc8f5dXruzb4U9PMLjaTCdPo/LNum/giK6vYXUUw48xvgC8DnMvOSrkY4BdvUB18/2+t7NclKo+aFYW1vl0bJCP4fdrye+uXAjRSzyb06M39URVSaHvo5RrlXU4s2ap8e1vZ2aZRMp//Dskn9MOA7WaZYr4EwSD2bOxmjXMV59LNDmJOuSP03nf4Py04T+20T+vAYtPajdtusB+082uHKYlL/Taf/w4Zt6hHxBeDNmfnL2u1mMjNfVHl0JdimvqtRaT8alfMYpFqTqoziOWm0jdh7tq029b2BscWf96HR7BwaOKPSfjQq5zFq48FHfUphjaZR+z9spGFSz8xnjLv99J5Eo0qMSvvRqJzHqGk2RHE6fGhKg2zKNvWI2D0iromII3oRkDo3Ku1HZc9jukwqMShGpQZFGkVT9n7PzLtrc79v70E8qkA3hnH1oz2qzHlYFdx71qBIg6vs5DPvAx6QmQM3Hex07SjXyyTbqwlc2jEqnemGySC/H6RpouPJZ34NvDAi1gLnAhuY2HEuM/Oj7cenVvS6dDrIbahWBfderyb0kdS6skn9vbXf+wKPr7M/AZN6j/Q6yQ5y4rQquD+mS09iadiUnXxmxhQ/M7sdqHbqdZKdahWyfhqVToGSVIWWV2lT//U6yQ5y4uzm6nKSNGzKVr8TEfsAbwAWA/sDz8vMyyPidcCaUVnkZRhmHepkLvXxyp7roLehWhUsSYVSST0ilgDfBG4GvgM8HdittntfimR/dBfi66lhGR5VRZJt9VxNnJI0+MoOafsBRUJ/PkWV/RZgcWZeEhHPB96fmQd0NdIGqhzSNp2GR02nc5WkEdPxkLbHA0dm5vaImHyw31PMDT/0BrmXd9Wm07lK0nRRtqPcrRQLvNTzQIpx60NvkHt5V206naskTRdlk/pXgFMj4oHjtmVE7AW8Efhy5ZH1wSD38q7adDpXSZouyla/LwcuAK4ALq5tOwN4MPB/wNuqD633Br2Xd5Wm07lK0nRRqqMcQETMBl4GPBPYC9hIkeg/nZn3dC3CKUzXud8lSdNWxx3lyMwtwMdrP9LAGoa5BiSpG8qOU38o8GRgQW3TTcCPMvMX3QpMasewzDUgSd3QNKlHxAHAJykmm5lc3M+I+Bbwqsz8TXfCk1ozyCvKSVK3Nez9HhH3BS4EHg6cQNEpbndgTu323wIHA9+KiPt0P1Rpao6/lzSdNRvS9jfAfYEnZua/Z+avMnNLZt5Tu/1R4EnA/YDX9CJYaSqOv5c0nTVL6s8FPpKZDYs4mbmOYmjb0qoDk9rh+HtJ01mzpP4I4McljvHD2mOlvnMpVknTWbOOcvejGIs+lVtqj5UGgivKSZqumiX1mcD2EsdIyk83K9Xl2HJJ6txU49TPiojNUzxmblXBaHpybLkkVaNZUv9UC8dZ02kgmr4cWy5J1WiY1DPzlb0MRNOXY8slqRq2havvHFsuSdUwqavvHFsuSdUovUqb1C2u7S5J1TCpayA4tlySOmf1uyRJI8KkLknSiChd/R4RRwPPB/ajWIJ1gsxcUmFckiSpRaWSekScArwN+BlwBbClizFJkqQ2lC2pvxo4LTPf0s1gJElS+8q2qd8HuKCbgUiSpM6UTeqfA47oZiCSJKkzZavfLwDeHRF7Ad+kWEN9gsw8t8rAJElSa8om9c/Xfh8IvKLO/qRYf12SJPVJ2aR+UFejkCRJHSuV1DPz+m4HIkmSOtPK5DP3Al4APBWYD2wEvgd8OTP/0J3wJElSWWUnn9kH+Abwx8B1wAbgEOC1wM8i4lmZeXO3gpQkSVMrO6TtdOD+wJMy84GZeUhmPhB4Um376Z0GEhHviYirIuJ/I+K/ImLPTo8pSdJ0UjapPwc4KTMvGr+xdv/NwF9UEMs3gUdl5h8D19SOK0mSSiqb1HcDbm+w73ZgdqeBZOY3xrXN/5hi4RhJklRS2aT+Y+CkiJg7fmPt/km1/VV6FfC1io8pSdJIK9v7/Q3AhcBvIuIbFB3l9gGeDQTw9DIHiYjzgQfU2fXWzPxK7TFvBf4AfLbJcY4Hjgc44IADSp6CJEmjLTKz3AOLKWLfCDwR2Be4EfgJcHpm/q6SYCJeAbwGeGZm3lnmOYsXL861a9dW8fKSJA2DaLSj9Dj1WuJeXkk4dUTEERRV+X9aNqFLkqSdyrap98KHKJZ4/WZEXBoRZ/Q7IEmShknDknpErAGOy8wrIuIiikVbGsrMJZ0EkpkP7uT5kiRNd82q3y8H7hp3u1zjuyRNYdOaVWxYvYKtG29g1vyFLFi6jHlLjup3WNLQa5jUM/OV424f15NoJI28TWtWsX7lcnJLUWbYunE961cW3XVM7FJnSrWpR8QnIqLu8qsR8UcR8Ylqw5I0qjasXrEjoY/JLXexYfWKPkUkjY6yHeWOA/ZusG8v4BWVRCNp5G3deENL2yWV10rv90Zt6o8CXKFNUimz5i9sabuk8hom9Yh4XUT8KiJ+RZHQV43dH/dzA/AJ4H96FbCk4bZg6TJi9pwJ22L2HBYsXdaniKTR0az3+xXAlyhmrjmRYprYGyc9ZgtwFfCFrkQnaeSMdYaz97tUvVLTxEbEPwFnZub67ofUGqeJlSRNM51NE5uZp1YXi3rNMcGSND2Unvs9Ig4BXg08FNh98v5OZ5RTdzgmWJKmj7Lj1A8HvgvsBzyVorf7HcBjgPsDP+9WgOqMY4IlafooO6Tt7cAHgL+o3f/HzDyMotS+Ffh29aGpCo4JlqTpo2xSPxj4GrCdYnjbXIDMvB44BXhrN4JT5xwTLEnTR9mkfjcwI4uu8jcCDxq37zaKankNIMcES9L0Ubaj3M+AhwHfBC4A3hwR6ynGqb8duKw74alTjgmWpOmjbFJ/PzC2oMtbgP8GzqvdXwc8r+K4VKF5S44auSTuMD1J2lXZcernjru9PiKeADwYmANclZlbuhSftAuH6UlSfa0s6LJDFq7NzP81oavXHKYnSfW1MvnMQuC5FJ3iJk8+k5l5UpWBSY04TE+S6iuV1CPiecDZwEzgtxQd5MZLwKSunpg1fyFbN+66DIHD9CRNd2Wr398FfANYkJmLMvOgST8P7GKM0gQO05Ok+spWv+8P/F1mbuxmMFIZDtOTpPrKJvUfUoxTP7+LsUiljeIwPUnqVNmkfiLw2Yi4g2ICmlsmPyAz76wyMEmS1JqySf1/a78/SdEprp6ZnYcjSZLaVTapv4rGyVySJA2AsjPKndXlOCRJUofamlFOkiQNnoYl9YhYAxyXmVdExEVMUf2emUuqDk6SJJXXrPr9cuCucbdtU5ckaYA1TOqZ+cpxt4/rSTSSJKlttqlLkjQiWlmlbQnwPGARu67SRma+sMK4JElSi8qu0vYPwHuBDcCv2HWVNkmS1GdlS+pvAD4AnJiZdpiTJGkAlW1T3w34HxO6JEmDq2xSPwt4fhfjkCRJHSpb/X4S8KGIOB/4Fruu0paZ+dFKI5MkSS0pm9QPA/4SuE/t9mQJmNQlSeqjstXvHwF+AjwS2C0zZ0z6cdlVSZL6rGxJfSFwQmZe2c1gJElS+8qW1M8HHtPNQCRJUmfKltQ/CJwREXOo31GOzLyiysAkSVJryib182u/3w6cOmlfUHSUs11dkqQ+KpvUn9HVKCRJUsdKJfXM/E63A5EkSZ1x6VVJkkZEw5J6RPwWeHZm/jQibqZoN28oM/epOjhJklRes+r3D1MstTp228VcJEkaYA2TemaeChARM4D/AG7NzDt6FZgkSWpNmTb1GcB1wFO7G4okSerElEk9M/8AXA/s0f1wJElSu8r2fn838NaI2LubwUiSpPaVnXzmWcC+wHURcTFFB7rxHecyM19UdXCSJKm8skl9L+DqSfclSdIAKTujnNPESpI04JxRTpKkEVEqqUfEJyLi8w32nR0RZ1YbliRJalXZkvrhwBcb7PsSRUc6SZLUR2WT+t7Axgb7NgHO+y5JUp+VTerXA09rsO9pwLpqwpEkSe0qm9TPAk6KiNdGxL0BIuLeEXECsAywTV2SpD4rO0793cCDgH8DPhgRm4G5QAAfq+2XJEl9VHac+nbgryLiPcAzgPsDvwe+lZnXdDE+SZJUUtmSOgCZeTUTZ5aTJEkDouw49T+JiCPH3b9/RKyMiEsj4r0RMat7IUqSpDLKdpRbATxq3P0PAs8EfgwcB5xabVhq16Y1q7jq5EO57IQDuerkQ9m0ZlW/Q5Ik9UjZpP4w4GKAiNgDeB7wusx8DUXvd1doGwCb1qxi/crlbN24Hki2blzP+pXLTeySNE2UTeqzgbtrt59C0Rb/P7X711Asy6o+27B6BbnlrgnbcstdbFi9ok8RSZJ6qWxSvwo4onb7L4EfZebttfsLaTzbnHpo68YbWtouSRotZXu/vx04JyJeDdwPOHLcviOAn1YdmFo3a/7CWtX7rtslSaOvVEk9M1cDjwBeAzwqM782bvePgHd2ITa1aMHSZcTsORO2xew5LFi6rE8RSZJ6qfQ49cz8FfCrOts/VmlEatu8JUcBRdv61o03MGv+QhYsXbZjuyRptDVM6hHxHOD7mXlb7XZTmXlupZGpLfOWHGUSl6RpqllJ/avAk4E1tdtJMdd7PQnMrCKgiHgj8B5g78z8XRXHlCRpOmiW1A8Cbhx3u+siYn/gcODXvXg9SZJGScOknpnX17vdZe+jmMzmKz16PUmSRsaUHeUiIihKz08GFtQ2b6Do9X5+ZmYVgUTEUmB9Zv6seElJktSKpkk9Ih4HfJ5iLfVtwO8o2tXvX3vuNRHx4sy8tMyLRcT5wAPq7Hor8BbgWSWPczxwPMABBxxQ5imSJI28aFTQjogFwGUU7erLgAszc0tt327AYcC7KUrvj87M37YdRMSjgQuAO2ub9gNuAJZk5k3Nnrt48eJcu3Ztuy8tSdKwaVid3Wzymb8D7gL+JDPPG0voAJl5T20CmqfVHvO3nUSXmZdl5j6ZeWBmHgisAx4/VUKXJEk7NUvqzwI+kpm3NXpAZt4CfJSd88JLkqQ+aZbUHwxcUuIYF9ceW5laid0x6pIktaBZUr8fcGuJY9wO3LeacCRJUruaJfWgmCmuDMegSZLUZ1ONUz8vIv7Q4TEkSVIPNEvIp/YsCkmS1LFm08Sa1CVJGiLN2tQlSdIQMalLkjQiTOqSJI0Ik7okSSPCpC5J0ohwjLnYtGYVG1avYOvGG5g1fyELli5j3pKj+h2WJKlFJvVpbtOaVaxfuZzcchcAWzeuZ/3K5QAmdkkaMla/T3MbVq/YkdDH5Ja72LB6RZ8ikiS1y6Q+zW3deENL2yVJg8ukPs3Nmr+wpe2SpMFlUp/mFixdRsyeM2FbzJ7DgqXL+hSRJKlddpSb5sY6w9n7XZKGn0ldzFtylElckkaA1e+SJI0Ik7okSSPCpC5J0ogwqUuSNCJM6pIkjQiTuiRJI8KkLknSiDCpS5I0IkzqkiSNCJO6JEkjwqQuSdKIMKlLkjQiTOqSJI0Ik7okSSPCpC5J0oiIzOx3DB2JiJuB6ys85F7A7yo83nTldayO17IaXsdqeB2r0cl1/F1mHlFvx9An9apFxNrMXNzvOIad17E6XstqeB2r4XWsRreuo9XvkiSNCJO6JEkjwqS+q4/1O4AR4XWsjteyGl7Hangdq9GV62ibuiRJI8KSuiRJI8KkPk5EHBERV0fELyJieb/jGVYRcV1EXBYRl0bE2n7HMywi4hMR8duI+Pm4bfMj4psRcW3t97x+xjgsGlzLUyJife19eWlEPKefMQ6DiNg/Ii6MiCsj4vKIeF1tu+/LFjS5jpW/J61+r4mImcA1wOHAOuAi4CWZeUVfAxtCEXEdsDgzHcvagoh4GnAH8OnMfFRt2wpgY2aeVvuiOS8zT+pnnMOgwbU8BbgjM/+1n7ENk4jYF9g3My+JiPsAFwNHAcfh+7K0JtfxhVT8nrSkvtMS4BeZ+avM3AJ8DjiyzzFpGsnM7wIbJ20+EvhU7fanKD4INIUG11ItyswbM/OS2u3bgSuBRfi+bEmT61g5k/pOi4DfjLu/ji5d9GkggW9ExMURcXy/gxlyCzLzRig+GIB9+hzPsPvbiPjfWvW8VcYtiIgDgccBP8H3ZdsmXUeo+D1pUt8p6myzbaI9T8nMxwN/Dry2VhUq9dtHgQcBjwVuBN7b33CGR0TcG/gS8PrMvK3f8QyrOtex8vekSX2ndcD+4+7vB9zQp1iGWmbeUPv9W+C/KJo21J4Ntfa4sXa53/Y5nqGVmRsyc1tmbgf+A9+XpUTELIpE9NnM/HJts+/LFtW7jt14T5rUd7oIeEhEHBQRs4EXA6v7HNPQiYi5tY4gRMRc4FnAz5s/S02sBl5Ru/0K4Ct9jGWojSWhmufh+3JKERHAx4ErM/P0cbt8X7ag0XXsxnvS3u/j1IYTvB+YCXwiM9/Z55CGTkQ8kKJ0DnAvYKXXsZyIOBt4OsXqTRuAfwJWAV8ADgB+DRyTmXYAm0KDa/l0imrOBK4D/nqsXVj1RcRTge8BlwHba5vfQtEe7PuypCbX8SVU/J40qUuSNCKsfpckaUSY1CVJGhEmdUmSRoRJXZKkEWFSlyRpRJjUpSEUEV+NiMua7P9QRGyKiN3GbXtMRKysrQq1JSI2RsT5EfGiiLjXuMedFRFZ+9keEddHxCcjYsEUMe1Ve91fRcTdEXFDRJwXEUeNe8wpEeFCP1KXmNSl4XQ28KiIeOTkHbUVB48GvpyZ99S2HU0xwdK+wJuBPwNeBfwK+DQ7JxIZcxVwCPBU4B3AXwCrI6LuZ0ZttqwLKaYGfidwBLCMYoz4M8c99Ezg2a2frqQyHKcuDaHaHNIbgNMz8x8n7fsz4JvA4Zl5fkQsAq4GzgFelZP+6SPiYRTLQn67dv8s4FGZuXjcY14KfAZYkpkX1YnncOAb9fZHREx+TUndYUldGkKZeQfwVeBFdXa/mCLhX1i7/1cUs/u9oV5yzcyrxxJ6ExfXfh/YYP+etd831Tn+jtecXP0eEd8eV9U//uescY85ICI+V2suuLNWpf+wKeKVpiWTujS8zqZYr+AJYxtq1eDPA76Qmdtqm58GrO1wGs8Da793Sdo1l1JMf/mJiHjq+Db6KZxAUc0/9vNqiikzrwGIiPnA94GHAa8BXgjMBc6PiDmtn4Y02sr+40kaPF8DbqEomY+VpJ8NzKdI+GMWUiTdCSYl3u21laIm758BHAysAH4z7nUmyMxrI+JNwGkUc1zfHRHfAT6emec0OoHMvGLc692Pon3/W8C7a5v/gSKJP3bsS0lE/IBinuxXAR9udGxpOrKkLg2pWie4/wJeWFsFCorq+OuBH497aFCUfnduiFgMbB3384VJh39Cbfs9wE9r247OzDubxHM6cBDwWuC/gScBX4iIf5nqXGod8D4L7Aa8eFwtw1j/gNsi4l61Lxq3VM2ZXgAAAgNJREFUU3y5WFz3YNI0ZlKXhtvZFCtlHRIRuwNHAmdPajtfD+w36XlXAE+s/VxS57hX1vY9HliQmY/OzDVTBZOZ6zPzI5n5wtprfh14U0Tcf4qnvp2il/zzM3P8kLe9KL6obJ308wxg/6nikaYbq9+l4fYtik5xL6YYrnYfJla9A3wXWB4R8zJzE0CtxL0WICJur3PcOzNzbSeBZebmiPgIxfC2BwO/r/e4iHgexTKUr87MydX7GynW7v7nOk+tF7c0rZnUpSGWmdsi4hzgGGARcGVm/u+kh50JvAl4D0VP+MrVOrTdlpl/mLTrIbXfv23wvIOBTwFnZOYn6zzkAorOcZdn5l1VxSuNKpO6NPzOBv6Wotf72ybvzMz1EfFK4LMR8UDgkxQdze5N0S79xxSl4U4cBvxLRHySYpKb7cChwHLgq5n5fw2etwq4FfhcRDx53PabM/OXwOnAS4FvRcS/UTQlLAD+FPh+Zk6ulZCmNZO6NPx+RJGkDwQ+V+8BmXlORFwLnETRs3xviurrSylmmPtEhzH8BPgKRal6GTCzFtM7gA80ed5YSf47k7Z/CjguM39XS/bvBN5HMR7+RophbpNrJKRpzxnlJEkaEfZ+lyRpRJjUJUkaESZ1SZJGhEldkqQRYVKXJGlEmNQlSRoRJnVJkkaESV2SpBFhUpckaUT8/zth84AjsMY0AAAAAElFTkSuQmCC\n",
      "text/plain": [
       "<Figure size 576x576 with 1 Axes>"
      ]
     },
     "metadata": {
      "needs_background": "light"
     },
     "output_type": "display_data"
    }
   ],
   "source": [
    "\n",
    "fig, ax = plt.subplots(figsize=[8,8])\n",
    "ax.spines['right'].set_visible(False)\n",
    "\n",
    "ax.spines['top'].set_visible(False)\n",
    "\n",
    "plt.plot(ddresid250_trunc_vgpSize, trunc_residuals_derivedVE_250, 'o', color='chocolate')\n",
    "plt.xlabel('VGP Size', fontsize=15)\n",
    "plt.ylabel('Discrimination Derived VE Linear Model Residuals', fontsize=15)\n",
    "plt.title('250 ms', fontsize=22)\n",
    "plt.show();"
   ]
  },
  {
   "cell_type": "markdown",
   "metadata": {},
   "source": [
    "### Absolute Value"
   ]
  },
  {
   "cell_type": "code",
   "execution_count": 232,
   "metadata": {},
   "outputs": [
    {
     "name": "stdout",
     "output_type": "stream",
     "text": [
      "Correlation between Abs Discrimination Derived VE Linear Model Residuals and VGP SA\n",
      "125 ms:  (-0.14948268777673618, 0.07374055274822758)\n",
      "250 ms:  (0.07475538139850273, 0.37320116781867047)\n",
      "1000 ms:  (0.2160366866403141, 0.009305227124102445)\n"
     ]
    }
   ],
   "source": [
    "# corr, p-value\n",
    "print('Correlation between Abs Discrimination Derived VE Linear Model Residuals and VGP SA')\n",
    "print('125 ms: ',stats.pearsonr(np.abs(trunc_residuals_derivedVE_125), ddresid125_trunc_vgpSize))\n",
    "print('250 ms: ',stats.pearsonr(np.abs(trunc_residuals_derivedVE_250), ddresid250_trunc_vgpSize))\n",
    "print('1000 ms: ',stats.pearsonr(np.abs(trunc_residuals_derivedVE_1000), ddresid1000_trunc_vgpSize))\n",
    "\n"
   ]
  },
  {
   "cell_type": "code",
   "execution_count": 233,
   "metadata": {},
   "outputs": [
    {
     "name": "stdout",
     "output_type": "stream",
     "text": [
      "Correlation between Abs Discrimination Derived VE Linear Model Residuals and GP SA\n",
      "125 ms:  (-0.09407062814211789, 0.2620758932378874)\n",
      "250 ms:  (0.01344991105799265, 0.8728814632895391)\n",
      "1000 ms:  (0.0648606605890878, 0.43990229056893304)\n"
     ]
    }
   ],
   "source": [
    "# corr, p-value\n",
    "print('Correlation between Abs Discrimination Derived VE Linear Model Residuals and GP SA')\n",
    "print('125 ms: ',stats.pearsonr(np.abs(trunc_residuals_derivedVE_125), ddresid125_trunc_gpSize))\n",
    "print('250 ms: ',stats.pearsonr(np.abs(trunc_residuals_derivedVE_250), ddresid250_trunc_gpSize))\n",
    "print('1000 ms: ',stats.pearsonr(np.abs(trunc_residuals_derivedVE_1000), ddresid1000_trunc_gpSize))\n",
    "\n"
   ]
  },
  {
   "cell_type": "markdown",
   "metadata": {},
   "source": [
    "### Linear Model Residuals x GP Metrics"
   ]
  },
  {
   "cell_type": "code",
   "execution_count": 234,
   "metadata": {},
   "outputs": [],
   "source": [
    "# corr, p-value\n",
    "# print('Correlation between Linear Model Residuals and VGP/GP SA')\n",
    "# print('125 ms: ',stats.pearsonr(trunc_resid_125, trunc_vgpSize_gpSize))\n",
    "# print('250 ms: ',stats.pearsonr(trunc_resid_250, trunc_vgpSize_gpSize))\n",
    "# print('1000 ms: ',stats.pearsonr(trunc_resid_1000, trunc_vgpSize_gpSize))"
   ]
  },
  {
   "cell_type": "code",
   "execution_count": 235,
   "metadata": {},
   "outputs": [
    {
     "name": "stdout",
     "output_type": "stream",
     "text": [
      "Correlation between Linear Model Residuals and VGP SA\n",
      "125 ms:  (-0.1256853848003345, 0.13063327458941837)\n",
      "250 ms:  (-0.13975017720528077, 0.09249915746986676)\n",
      "1000 ms:  (-0.2029040907121239, 0.014040259377118997)\n"
     ]
    }
   ],
   "source": [
    "# corr, p-value\n",
    "print('Correlation between Linear Model Residuals and VGP SA')\n",
    "print('125 ms: ',stats.pearsonr(trunc_resid_125, trunc_vgpSize))\n",
    "print('250 ms: ',stats.pearsonr(trunc_resid_250, trunc_vgpSize))\n",
    "print('1000 ms: ',stats.pearsonr(trunc_resid_1000, trunc_vgpSize))"
   ]
  },
  {
   "cell_type": "code",
   "execution_count": 236,
   "metadata": {},
   "outputs": [
    {
     "name": "stdout",
     "output_type": "stream",
     "text": [
      "Correlation between Linear Model Residuals and GP SA\n",
      "125 ms:  (-0.15469642808682377, 0.06226883755908266)\n",
      "250 ms:  (-0.13545458299060154, 0.103068153802325)\n",
      "1000 ms:  (-0.19634639109051022, 0.017537613910745663)\n"
     ]
    }
   ],
   "source": [
    "# corr, p-value\n",
    "print('Correlation between Linear Model Residuals and GP SA')\n",
    "print('125 ms: ',stats.pearsonr(trunc_resid_125, trunc_gpSize))\n",
    "print('250 ms: ',stats.pearsonr(trunc_resid_250, trunc_gpSize))\n",
    "print('1000 ms: ',stats.pearsonr(trunc_resid_1000, trunc_gpSize))"
   ]
  },
  {
   "cell_type": "code",
   "execution_count": 237,
   "metadata": {},
   "outputs": [
    {
     "data": {
      "image/png": "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\n",
      "text/plain": [
       "<Figure size 576x576 with 1 Axes>"
      ]
     },
     "metadata": {
      "needs_background": "light"
     },
     "output_type": "display_data"
    }
   ],
   "source": [
    "\n",
    "fig, ax = plt.subplots(figsize=[8,8])\n",
    "ax.spines['right'].set_visible(False)\n",
    "\n",
    "ax.spines['top'].set_visible(False)\n",
    "\n",
    "plt.plot(trunc_gpSize, trunc_resid_1000, 'o', color='blue')\n",
    "plt.xlabel('GP Size', fontsize=18)\n",
    "plt.ylabel('VE Linear Model Residuals', fontsize=18)\n",
    "plt.xticks(fontsize=15)\n",
    "plt.yticks(fontsize=15)\n",
    "plt.title('1000 ms', fontsize=22)\n",
    "plt.show();"
   ]
  },
  {
   "cell_type": "markdown",
   "metadata": {},
   "source": [
    "### Combined duration residuals"
   ]
  },
  {
   "cell_type": "code",
   "execution_count": 238,
   "metadata": {},
   "outputs": [
    {
     "name": "stdout",
     "output_type": "stream",
     "text": [
      "Correlation between Average Linear Model Residuals and GP SA\n",
      "(-0.16582722568323638, 0.045462838682144)\n",
      "\n",
      "Correlation between All Linear Model Residuals and GP SA * 3\n",
      "(-0.16244656254142054, 0.0006431466035249003)\n",
      "\n",
      "Correlation between Average Linear Model Residuals and VGP SA\n",
      "(-0.15946540556481875, 0.05453192515784107)\n",
      "\n",
      "Correlation between All Linear Model Residuals and VGP SA * 3\n",
      "(-0.15621443868186868, 0.0010375451273257701)\n"
     ]
    }
   ],
   "source": [
    "# corr, p-value\n",
    "print('Correlation between Average Linear Model Residuals and GP SA')\n",
    "print(stats.pearsonr(np.mean([trunc_resid_125, trunc_resid_250, trunc_resid_1000], axis=0), trunc_gpSize))\n",
    "\n",
    "print()\n",
    "\n",
    "print('Correlation between All Linear Model Residuals and GP SA * 3')\n",
    "print(stats.pearsonr(trunc_resid_125 + trunc_resid_250 + trunc_resid_1000, trunc_gpSize*3))\n",
    "\n",
    "print()\n",
    "\n",
    "print('Correlation between Average Linear Model Residuals and VGP SA')\n",
    "print(stats.pearsonr(np.mean([trunc_resid_125, trunc_resid_250, trunc_resid_1000], axis=0), trunc_vgpSize))\n",
    "\n",
    "print()\n",
    "\n",
    "print('Correlation between All Linear Model Residuals and VGP SA * 3')\n",
    "print(stats.pearsonr(trunc_resid_125 + trunc_resid_250 + trunc_resid_1000, trunc_vgpSize*3))"
   ]
  },
  {
   "cell_type": "code",
   "execution_count": null,
   "metadata": {},
   "outputs": [],
   "source": []
  },
  {
   "cell_type": "code",
   "execution_count": 240,
   "metadata": {},
   "outputs": [
    {
     "name": "stdout",
     "output_type": "stream",
     "text": [
      "Correlation between Abs Average Linear Model Residuals and GP SA\n",
      "(0.25569451338249677, 0.0018396851738189735)\n",
      "\n",
      "Correlation between Abs All Linear Model Residuals and GP SA * 3\n",
      "(0.24389460305600313, 2.366172236213853e-07)\n",
      "\n",
      "Correlation between Abs Average Linear Model Residuals and VGP SA\n",
      "(0.11713071928119469, 0.1591363804891919)\n",
      "\n",
      "Correlation between Abs All Linear Model Residuals and VGP SA * 3\n",
      "(0.11213417399278468, 0.018900067118270122)\n"
     ]
    }
   ],
   "source": [
    "# corr, p-value\n",
    "print('Correlation between Abs Average Linear Model Residuals and GP SA')\n",
    "print(stats.pearsonr(np.abs(np.mean([trunc_resid_125, trunc_resid_250, trunc_resid_1000], axis=0)), trunc_gpSize))\n",
    "\n",
    "print()\n",
    "\n",
    "print('Correlation between Abs All Linear Model Residuals and GP SA * 3')\n",
    "print(stats.pearsonr(np.abs(np.array(trunc_resid_125 + trunc_resid_250 + trunc_resid_1000)), trunc_gpSize*3))\n",
    "\n",
    "print()\n",
    "\n",
    "print('Correlation between Abs Average Linear Model Residuals and VGP SA')\n",
    "print(stats.pearsonr(np.abs(np.mean([trunc_resid_125, trunc_resid_250, trunc_resid_1000], axis=0)), trunc_vgpSize))\n",
    "\n",
    "print()\n",
    "\n",
    "print('Correlation between Abs All Linear Model Residuals and VGP SA * 3')\n",
    "print(stats.pearsonr(np.abs(trunc_resid_125 + trunc_resid_250 + trunc_resid_1000), trunc_vgpSize*3))"
   ]
  },
  {
   "cell_type": "code",
   "execution_count": 241,
   "metadata": {},
   "outputs": [
    {
     "data": {
      "image/png": "iVBORw0KGgoAAAANSUhEUgAAAboAAAG+CAYAAADlZsGTAAAABHNCSVQICAgIfAhkiAAAAAlwSFlzAAALEgAACxIB0t1+/AAAADh0RVh0U29mdHdhcmUAbWF0cGxvdGxpYiB2ZXJzaW9uMy4xLjEsIGh0dHA6Ly9tYXRwbG90bGliLm9yZy8QZhcZAAAgAElEQVR4nO29e5glV1nv/3m7ZyZkJolJegIKOD0ncjOBH5BMFIhcBCEYQcAogTQhIjKmxzwmouBlQANx1KNHHyPHROdHSALdBOFnuOeAejB6EERHIUAQOWIyISAkmcGQyeQyl/X7o2pndlfXZdWu26ra38/zrKd7V9Vetar23utb71rvel9zziGEEEIMlZmuGyCEEEI0iYROCCHEoJHQCSGEGDQSOiGEEINGQieEEGLQrOm6AV3xwhe+0H3sYx/ruhlCCCHqwbJ2TK1Fd9ddd3XdBCGEEC0wtUInhBBiOpDQCSGEGDQSOiGEEINGQieEEGLQSOiEEEIMGgmdEEKIQSOhE0IIMWgkdEIIIQaNhE4IIcSgkdAJIYQYNMEKnZldZGa7zOwBM7um4NhfNLNvmtndZvYOMzuqpWYKIYQInGCFDvgG8FvAO/IOMrOzgF8FngdsBk4G3tJ044QQQvSDYIXOOXe9c+4DwJ6CQy8ArnLO3eyc+zZwGfDTTbdPCDF9LC/D5s0wMxP9XV7uukXCh2CFrgSnAjeNvb4JeISZzSUPNLOt8XDorjvvvLO1Bgoh+s/yMmzdCrt3g3PR361bJXZ9YAhCdwxw99jr0f/HJg90zu10zm1xzm056aSTWmmcEGIYbN8O+/ev3LZ/f7RdhM0QhG4fcNzY69H/93TQFiHEQLnttnLbRTgMQehuBp489vrJwLecc0Vze0II4c2mTeW2i3AIVujMbI2ZPQyYBWbN7GFmtibl0HcCrzWzU8zsBOBNwDUtNlUIMQXs2AHr16/ctn59tF2ETbBCRyRY9xEtHXhV/P+bzGyTme0zs00AzrmPAb8H/A2wOy6/2U2ThRBDZWEBdu6E+Xkwi/7u3BltF2Fjzrmu29AJW7Zscbt27eq6GUIIIerBsnaEbNEJIYQQlZHQCSGEGDQSOiGEEINGQieEEGLQSOiEEEIMGgmdEEKIQSOhE0IIMWgkdEIIIQaNhE4IIcSgkdAJIYQYNBI6IYQQg0ZCJ4QQYtBI6IQQQgwaCV1gLC/D5s0wMxP9XV7uukVCCNFv0hKZio5YXoatW2H//uj17t3Ra1DOKyGEmBRZdAGxffsRkRuxf3+0XQghxGRI6ALittvKbU+iYU8hhFiNhC4gNm0qt32c0bDn7t3g3JFhT4mdEGLakdAFxNlngyWSwa9fDzt2FL9Xw55CCJGOhC4Qlpfh2msja2yEGVxwgZ8jStVhTyGEGCoSukBIs8icgxtu8Ht/lWFPIYQYMhK6QKhqke3YEQ1zjuM77CmEEENGQhcIVS2yhQXYuRPm56Mhz/n56LXW3wkhph0JXSDUYZEtLMCtt8Lhw9FfiZwQQkjogkEWmRBCNIO5cTe/KWLLli1u165dXTdDCCFEPVjWDll0QgghBo2ETgghxKCR0AkhhBg0EjohhEhBQdKHg/LRCSFEAuWGHBay6IQQIoGCpA8LCZ0QQiRQkPRhIaETQogECpI+LCR0AaPJcCG6QUHSh4WELlCUMXy60ENNWCgk37BQCLBA2bw5Erck8/NRwOZJWF6OJtNvuy0agtmxQz/cEEh6+EFkPahjFaIUmSHAJHSBMjOzMtv4CLMoO0FZ1JmGSxMPNUJMIYp12TfqngyXu3S4yMNPiGaR0AVK3ZPh6kzDRR5+QjSLhC4gxh0Stm+HCy6obzJcnWm4yMNPiGaR0AVCmpfltddGnV0dGcPVmYaLPPyEaBYJXSA0PYemzrQaTbv/LyxEDzN1PNSIetCSj+Egr8tAqNvLUtSHPFanD33mvUTLC5KEJnRyMQ8XfTbThz7zXqLlBaGTNodmBmef3U17xBHksTp96DMfFhK6QFhYiLwsbeyZxLnIIUVzA0foYt5EHqvThz7zYSGhC4gbblg9T6dF3UfoKv6nPFanD33mw0JCFxBND5f03Yusq+gu8lidPvSZDws5owRE1QnwvKDNQ/Aik2eqECIHOaP0gSrDJUXDekOIdTnkeZO+W9tChIyELiCqDJcUCdkQvMi6nDdpUoiUe1CIhnHOTWU5/fTT3ZAwcy7qJlcWs2j//Hz6/vn5Llu9kqWlqD1m0d+lpcmOaaJd69evvG/r19d37j58NkL0gMz+XnN0A6Fofi/0ObqQ29f04mHNPQpRC5qj6yNlhsuKhvVC9yILeQ6x6WHfIc89ChECErpAKTtv4yNkIQcODnkOsWkh0potIZpFQhcok1g4IQtZESFbNU0LUejWthB9R0IXKCFbOGXwHX4N2aqREAnRc/I8VYZcQve6HIInXllvxS48Ktug6LqWlpxbu3blfVq7djjXL0RLZPb3sugCJStrQZ+yGYTsYNIWPnOtF18MBw6sfN+BA9F2IUR1tLwgUIaQD6uM23zIywuq4PM5WqZTdPr9E0KkosSrSUIXuiGsrSoj1kMQ9jR8PkcJnRC1oHV0fSNkL0RfyjiYDMX5JonP5zg3l35M1nYhRDkkdIESsheiL2W8FYcg7Gn4fI6XXw7r1q08Zt26aLsQogbyPFWGXEL3unRuuF6Iafh6aHZ1T6qcN9QYnkIMjMz+XnN0Ihjy8umN9nfhsDJURxkhBkb/nFHM7ETgKuAFwF3Arznn3p1x7GnAHwGnAfcCv+2cyx34kdD1j64cVobqKCPEwOilM8qfAA8CjwAWgCvN7NTkQWa2EfgY8GfAHPAY4C9bbGdv6Htyz64cVobqKCPEtBCk0JnZBuAc4M3OuX3OuU8CHwLOTzn89cDHnXPLzrkHnHP3OOf+tc329oGuknvWKa5dOawM1VFGiGkhSKEDHgcccs59ZWzbTcAqiw54GrDXzD5lZneY2YfNLLULMrOtZrbLzHbdeeedDTQ7XLqIUlK3uHbliToED1ghpplQhe4Y4O7EtruBY1OOfTRwAXAxsAm4BbgurVLn3E7n3Bbn3JaTTjqpxubWR1PDi10Mv9Utrl0FV1ZQZyH6TZDOKGb2VODvnXPrx7b9EvAc59yLE8feBPyLc+418es5IueV451zSbF8iBCdUZr07uvCoWII0V2EEL2hd84oXwHWmNljx7Y9Gbg55djPA+Pd6ej/nMBKYdLk8GIXw2+a2xJChECQQuecuxe4HnirmW0wszOBlwDvSjn8auBlZvYUM1sLvBn4pHPuv9prcT00ObzYxfCb5raEECEQpNDFbAOOBu4gmnNbdM7dbGbPNLN9o4Occ58Afh34aHzsY4DzOmhvZapaQEXze21nINfclhAiBNZ03YAsnHN7gZembP8/RM4q49uuBK5sqWmNsWNH+hydjwWUnN8beTiChEUIMd2EbNFNHVUsoBCTnDaxdq+Pi9772GaRjj7LfhKk12UbhOh1WYUQPRzr9vTsY8zJPrZZpKPPMniqeV3G82IvGXu90czebWafM7M/iJ1ARIeE6OFYt3NNiFZrEaG1WRbJ5IT2WQp/fIcufw944tjry4HnAf8A/DTwlnqbJYpIdlhnnx2eh2Pd4tvHmJMhtbmrMHBDIaTPUpTDV+geD/wzgJmtB14GXOycuxB4I3BuM80TaaR1WNdeCxdcEJaHY93LC0K0Wotoqs2TWGaySKrRx++fiMlLVjcqwD6iqCQAzyfKKnBs/PqZwH6fekIqISZe9U2+OT+/MkHpqMzPt9dWX+pMKOqbnDUkmmhzUZ1Z99ws/XtjVvUqp4M+fv+mjGwNy9v50EGwC/jd+P9rgL8d23cucLtPPSGV0ISuzI9omjusPmbirjvDeN6DTt73qE8PSKHSx+/fFJHZ33t5XZrZjwPvA74DfBfwEufc/4r3XQ1sdIkYlKETmtdlGQ/FjRthz57Vx87NwV13NdE60SRlvfnyPGw3bcr+HmWt0+x6iFuImqjmdemc+xDw/cCFwBNHIhfzaUBBnSqiie7ppezcWd5cUd73SJFqyiEP1eGgdXSBUMaiC3HNnJicsp9nngW4fXv7WSqGiNbM9ZJMiy4zBJiZnV3mDM65G8ocL1ZSJvxX1vCUvL/6SdnPc9TRbt8eWWqbNkXfk9H2n/kZePDBI8evW6dA2mXJs7IldP0jL9blR4hS3viku3HAbC0tmlKKOq9xqsTEFOExyee5sJDd4SatwykdtKmEphKGRebQpZnNl6nIOZfyTBouoQ1dlmXbtmgY5dAhmJ2NOsorrui6VWJSlpf9HnKK6CLB7hDRfewl5Z1RnHO7y5Rm2i3SWF6OFogfOhS9PnQoet33yfKhTv77XFfZFEpZdcoSqQflUhwYeWsPkoVoqPNk4JRkKVNPCCW0dXRlGOJ6qKEuxm17wfjcXPp3Y26uvmuaFtLWzGkdXdBka1fezocOgrVE+d72A4fSik89IZWqQtflFz5rwfho0Xib7anrPgxRvJ1r5rry6pTQNcdQH8YGRGWhuwz4GvBK4DCwCLwa+Evgq8DZPvWEVKoIXddf+KyOru321HkfhhrtpYnryqtzqPcxBIb6MDYgMvt738go/0aUweAa4ABwhnNuFOT5WuB+59zPVRxFbZUqzihdT1SnrfFJo+n21Hkfur6nTdHEdeXVCcO8jyGg9avBUy0yCvC9wFecc4eA+4ETxvYtA+dM3rb+0fWEfzLCRRZNtyetQ83bnsdQJ/+buK68Ood6H0NA2Qt6TJ65NypEw5Mvjv+/GXjr2L5F4C6fekIqVYYuQxvC6Ko9s7Pp552dnay+vkz0l21nE9eVV2df7mPf6HrKQhSSrWF5Ox86CK4Cfi/+/xLgIPBu4GoiB5WrfOoJqfR5ji6E9iwtpYvcqAyV0D570S56iAiazP7ed47uu4kyFHwxfv2LwE8CRwN/FVt499ZmZrZA1QXjdS3wrYs221M0Rzjk+aChziUKMQAyJ3IU1FmUJquzh+EHvpVDghDBUtkZRSQYahQPH/KcXIYsctC+Q8I0f8+EqAsvoTOzO83sjrzSdENDYjR0t3t39HS/e3f0elo6oaxOfX5+2CIHzXk1pgnatH/PhKgL3zm6S4HkgScCzwWOI3JGeWvtrWuQPq+j65ppz9VV93xo1v08+uj0TPLT8j0ToiTZi63yPFWKSlzx+4Bfr1JPF6WK1+VQo0+U8SiT91l9+ES6qet7ps9NDJhqXpe5Emp2FnC1c+6RlSpqGVl0K5l2K61Lshxcspj0e6bPWAycRp1RTgbW1VBPbxhi9Im8jMp5yFmiOllznnNz9X7PJv2Mheg7vs4o21LKJWb2Z8DvAx9utplhkQzBNT/f/6fiScKateUsMXQxzXpwuvzyer9nXYeuE6IrfJ1R0lYIPQDcDrwfeIubsgXjQ2OS4dg2hnCnZbitjQX/QxxyF2IMLRhPIqFbySSC0sbiaXXO9TEtDw1iatGCcZHPJMOxbSyenvbhtjqHbYc45C6ED5kWnZm9ukxFzrl31tKilpBFV506LISiIbtptuhkgQlRivLr6IgyiY+XQ3FJ23Yobw1DiKXKOjpxhCrrsnwyASwupq8lW1xstm0hUCb9Ut+vVYgayNazzB2wYaycTpST7teBJxBFRXkCsD3efnreSUIsErrVtN1Z+nTkk+baG0I6Hd/ABEO4ViFqoLzQrTgIbgRen7Hvl4C/9aknpFJV6Ib2BN1FZ+nTkU8ahSa05LiT4HsNQ7hWIWogs7/3dUb5AaLM4ml8ETjDs55BEGKw3apOC10sJvZxZpnU4WUITiy+gQmGcK1CNImv0H0NeE3GvtcSraebGkKLMFGH8HbRWfp05JNGoWk7nU4T+HpJDuFahWiUPHNvVIBzgANE1ttvA5fEf78IHATO8aknpDKkoM55Q1e+Q6xlh7/qGrr1qWeSc03TvFUVhx0hBkS2huXtXHEgnAa8F7gFuC/++1566IjiKgpdaHMiWcI76tx9OvsywpB17OJiM/OWk4rq0OZRswjt+yhER1QXuqGVKkIXmrWQ1dHNzqZvn5tLr6eq9ZcU3DruSWj3etSmkAQ06yEHum2XEC0joUuWIXldZolBXgdYpb15FmTdVkVo1koowjv+/cu697Oz7bZJiI7J7O/zIqO8F/g159xX4/8LpvrcuRWnC1tlaJFR0iKMbN+eHlUEqkUWyYpWksX8fHbkk6LIKG3E0yxDCJFa0iKmZJHx8xZiiGRGRlmT86aTgLXx/w8H9JMJmIWF9LBQr3pV+vFlhCrJjh3+He34uUbeoBC1dXkZXv3qI4K1e3f0erQfIvFLa2tXHoUhuPKnef2mMT/ffFuE6AV55t6Qy1AioxQNoc7MNDOstbh4ZA4way6waDhzw4b0/Rs2rLy+EIYKR4QwlOozdNz1PKYQHZDZ31fKXmBmx9cluKI8aevnXvUq2LjxyBq6rOG9Q4eqnfeqq47UUbaukfVzb0YGw/HtoUXcDyG7fJY1Ozvb3D0aevJbMXDyVHBUgEXgjWOvn0K0SPwQ8M/Ao33qCakMwaLLsi7G3f2znv6rWCBzc36WW9G5++ot2LUjUttWbmhWtRAZZGtY3s6HDoIvAReOvf474B+BVwCfBZZ86gmpDEHoioawsoYUzap1UkXDkiMBWFzM7yCzhlVnZlaer2thCZE270kIw7VCeJDZ3/sOXW4C/g3AzE4CzowtvPcAlwHPrcO6FOUocsjIGlJ0rp2hvzPPzB92/LmfS3/f+PYQ44o2ie8Q4cJC5OV5+HD0t8nPM8txqYpDkxCtkqeCowLsAc6K/385cA8wG79+DrDfp56QyhAsurQhJR+LruqTuK/Tic/wVtKpJRm2qoo10TdLMNQhwqzvkdbpicCobNH9I/DzZnYq8AvAx5xzI3vhZOAbtSmv8GbkqDE3t3rf+vWR5dOE40Ta+dJIC3SdtFjOPBMOHoy6zoMH4YorVh4/qTt/25ZgHc4aoQULH5E1MlDFoUmIVslTwVEBTgH+nSir+G7gcWP7Pg5c61NPSGUIFt04WdZLE1ZNVhDhrPnA8TaWtVgmtejanFeqyxILLVj4CM3RiZ6Q2d9nRkZJw8zmgL1u7E1m9iTgm865O+uT3+YZWmSUNikTGWU8YsgkUUXSooCsX1/sPt9mRJW6oqWEEHUljUk/AyFaJjMyStl1dHuBR5vZM8xsA4Bz7gt9EzlRDd8oIMlh0kmcGpLr6Obm4Oij4fzz84cI28zRVle0lBDW6KUR2lpGIUqTZ+6NF2Ab0VzcYaL1c6fF268HLvGtJ5QytKHLNskaypqbyx8mrerUUEcqoTodO0bDwnlLLSatsy8ONEIERLZ+5e186CB4A3A/8BYiL8vDY0L3C8CnfeoJqQxN6PI6yLo7z0lFJG8uz+faygpKk6JR5PEagrekLxJXMRAqC92txJFRgNmE0J0F7PGpJ6QyJKHLE56mLJtJOse8vHlZ9SwtObduXb5IduGsUSS8fRGLUJc0hIAeAHpHZaG7H3ieSxe65wP3+tQTUhmS0OV5xU0iLk1RZAWldbI+4ca6sOja8pBsurOVR2U6egDoJZWF7ovAW1260F0G/JNPPSGVIQldXqdbJtJ9G0+w4+fwWdDu2/a08zTVUS0tNbcYP3mepjvbUJc0dI0eAHpJZaH7WeBB4E3AE2KheyHwWuBe4DyfekIqbQtdkyIyiUWXLHNz7T/B+nSyeW1Oi6Tic0+qkGeV1n2/2uhs1aGnoweAXlJN6Fwkdm8gCv11KBa6w8A+4A2+dYRU2hS6pp/My87RlSlNdng+nWzR0GXWfWyqo8obCq77oaCNzlZDdOnoAaCXVBc6F4ndscALgPNii+67yrw/pNKW0LU5zOXjdVk2SWqTT7A+nezSknNr15YX46Y6qjaf9NvqbOV0sRo9APSSeoQusxLlo0ulyJrqYhgk6wecZTk1/QTr08kWLS9Iu49NdVR9DC0mJqMo4LgIjmaEDngScC3wQJV6uihtCF3R/FgdneMkT+Np7+lDp1pWZJqwVLpIeiprq3368HsQq5hM6OIhyo8BNwMfAc50RwTuo/F83V3Am/PqmaQAJwLvj51ddmc5vMRzh1+M5w9v8Z0zbEPo8jwe61rLVuePsSlhmLTO5HuLErm2RdaDggRpOGiOrpeUF7rYo/JwLHLvAT4F3AdcBDwA3An8MrAh7wSTFuA64M+BY4AfAu4GTk057o3AacAa4PGxKL6iqP4uLbpJHReSnWlXw42+VBHitIXi69ZFYheaoOjp35++PBDI67KXTCR0nwOuSWy7JLbi/g9wfF7FVQqwIV7OMJ4O6F3A73q894+BtxUd19Uc3aQdYFnvybxztNXZVHkqzhLxublm2loFPf370acHAn2mvWQiobtnFA1lbNvxozV0eZVWLcBTgfsS234Z+HDB+wz4LHBh0Tna9LqsQ1R818MVdSBFSxHqFMAqT8V51xYadT7998XimYQ+iUefRFk8xERCdxj4gcS2FVFRmirAM4ly3I1vex1wY8H73gLcBByVsX8rsAvYtWnTplrvcNP4RDjx6UDyMg/U/cOu0rH1Sejq6sCH3rn2bThwyA8dAyVTG4ry0T3DzM4eFeBHAQecOb493lcn+4DjEtuOI7IyUzGzi4BXAz/mnHsg7Rjn3E7n3Bbn3JaTTjqptsbmsbwc5U2bmcnPn1ZEVh61Y47Jfk9aPrSsHGl79qxMrAnR6+3b/dqXRpX8apaRQjFre5fUlUdu+/b6P4OQaDNHYB0sLEQJbw8fjv4q/16PyVJAjkQ/8SmH8tS0bOHIHN1jx7a9k4w5OuBngNuBk33PMYQ5unXr8hdTl7HoskrVp+1Jn4r7ZNE5V8/Tf98snrL0zWKVRdc7sjUlcwfMlyl5J5mkEHl6XheL3plke10uAN8Evr9M/V16XU46J+HrdTkqaQtc61gw3kYH0GaorVAIfQ6rjs+9L+LRN1EWzrlJhK7rQrSO7gNE6+huI15HRzR/t2/suFuAA0TDnaPyp0X1d7mOrq4n9KJ5u2QHOR5hZBTxYdTZLC76iWVbHUCbwZOrUlfnHXLnGnLbmiD0hw6RSv+ErunSR4vOt/40QS3qqHzb2nYIrDbihFahD4v262DaOv6hDyMPFAldsvRtjm5UX1GkkKxOqKij8v1hl+0A0tqc9zp5b0LvcKZFAEL/HOpmWj7XgSGhS5a+raPLEs3FxfT5taSgFnVUTVh0ZRe5p7U79A5nWgQg9M+hbqZtqHYgSOiSpW8Zxos6miJB9Xl/WsitZD1lOoCyHp5pnafv3GEX9GFoNcmkD14hfw5NEeowsshEQpcsfRO6qpZDlnU1N3ckKkpyqcLatdnRVXw6gEkWuSevKVRLok/OMiOqWCmhfg5CjJHZ36/JWl9nZqeUXI/3pTLHi3Js2gS7d6dv92G02PXii6PF4SP27IGtW+Hoo+HAgZXvOXAgWqw86ULZrDb7vG9E1gL3rO1tkba4G2B2FnbuDHNxcd6C9KL2hvo5COFDXmSULwJf8Cij40SDnJ0ReyZrexoLC+mRVPbvXyl+4yQ7suXlSBh3746e6Xfvhle9CjZuXB31JS1iSBHJiCKhRtPIEvBDh8IUOagmVieeWG67ECGRJ3Q/DDzXo4yOEw1yww3lto9IhiAra2ElBSXLkhlZhuNit7AQWTfz81Horvl5WFzMf520hnbsgHXrVp5r3bry4bXqZna23HZf6goZl0aoDw1CNE7euOaQS9tzdFUntieZo0ubk8mqxzeoc9lF6lUpM3fYJnn3YFKa9vSrUv+0eJeKXpPZ35cSB6Kgzm8GdgKb4m3PAh5Zpp4QSptCV0cHNokzQNZ7kp1WmTQ9ZRap10GoThBNtKuNa530gSvUz0GIMaoJHfAI4DPAQeDfiZKvnhbvuxq40qeekEqbQldHJzGJWOZZX5Nal0Vr4+ru+EK1JJqwvkK9Vue0rkz0gspC917gZuAxwBrGctIRBVX+ik89IZUqQlfmqXhpKVsUynZgvucdj2nZhBgtLaUvUk9bd1eVkC2JutdZhXytzmldmQieykL3HeBl8f+zCaF7NnCvTz0hlUmFrsyTbdvWj88563oK95k7W1w8sqB6dnayxcXTZElM07UK0QC1CN2Pu3ShOwe4y6eekMqkQlfmqTvPqmqqAyuy5Oo6Z9F9qDOSxjRZEtN0rULUTGZ/by4Sq1zM7KPAOuCF8aYDwOnOuc/G++51zr3c39eze7Zs2eJ27dpV+n0zM1GXncQsykTscyzA0lIz663KtK/J86xZE60pS6OpaxeTsbwcLRu57bZoqcGOHfp8RC+xrB156+jG+RXgDKLF4ZcBDnidmf0d8HTgTVVb2BfKLJzNWp80P99cR9LWWqmi82SJHKxeb9d3tm2LhN0s+rttW9ct8md5GV7zmpUBAF7zmtWfT5Pr+4RonDxzb7wA3we8C/gG8CBRVu9l4LG+dYRUJh263LAhfUhuw4bVx3Yx55J3zjqHxYrm6LKGT9tysGhrCLDvwY6zMsvPzR05RnOHoidk61feziGXSYUur/NOo4s5l7RzNpEbLy/bQZHQNeky32bHnJW9YHa2/nM1gc/3OXRvUCFiMvt7rzm6ITLpHJ1ljgJnz8eFQFb4r/l5uPXW+uvzCTe2uAhXXFH+3FXbVid9/T6M8Gl/W/O+QlSk/BydmX2iTGmm3eExN1dueyhkBe7dvbv83MvycraIjc7jE9D5yiujzrLuOZ82I+03FfOyLXy+z4qRKfpOnjPKnkR5HPBMYD2wL/77Q8BjgbuabWY4XH55epDhyy/vpj2+ZHVKZisdEYocRUbZC4rOMx7QuQif85Yh61pnZup3osi6F3n3KCR8vs9pDy3JLBNCBE3euOaoAK8FPk8c33Js+6Z4++t86gmptBUZJRTKBHieJH5m3jxYXnSYJuZ8shxEmpqrq2NhfJf4fJ/7+J0XU0e2huXtfOgg+A/gpRn7Xgbc4lNPSKVvGcbLkNUpJbdP4iiSFz9zkugwTTioFAWelhOFEIMks7/3XUf33cBRGfuOAh4+qUUpIupap5SWGHU0LLiwEDljHD4c/c0aVsybe8laRzg3l644OooAACAASURBVL42MCt/XdnzjvC5T0VzccqKLcR04St0NwL/3cy2jG80szOA/w78bc3tmiryxKksacKyf3+0PUkdWcuL8BUVnzkf3/tUJJhNZMXWgmohAibP3BsV4NHAvxCl5/kG8Ln47yHgs8CjfeoJqYQ0dFnnOqUyqV58FgtXqT/v2ubmys/5+N6nouHSvOubBC2oFiIIqg1dOudud86dBrwY+DPg0/HfFzvnnuqcu712BZ4i6nSHL+MKvmdP+rFZ28vWD9kee5dfvnIY1Sckmu99Gnl8ZrF3b/G5ylDGihbDR9Z9gOSp4JBLSBZdmbBiRZSxLvIcNuqof/w9dXjslbV824roEXLCVNEusu47JbO/9xYGooSr5wJvI4px+Tbg5cAa3zpCKiEJ3cxMekc5MzNZfb7CMsnQZZn666ZsJ9JWp6MQWWKEvgudktnfew1dmtnDgV3AdcCPASfHf98D/JOZnVS7qTlFZIVRmjS8UtK7MmtY8PLLYe3aldvWrp188XvTQzbji9DNor87d66+vlE7zj8fjj468gjNO74qWlAtRrQZlUeUIE8FRwVYAr4GnJHYfgZwG/Aun3pCKiFZdF0GBi5rnWVZSYuLYQzZdDV0pAXVwjlZdB2TrWF5Ox86CPYC52XsWwD2+tQTUglJ6NpK9VJHZ5z1Q84S67Z/4EUdjQRJNInm6DqlstDdS+Rhmbbvx4F9PvWEVEISOueaDyNV1w8wLzJKWceWJshzDFEnFB5DfPAY4jX1hMz+3itNj5n9b6IIKGc55+4d274B+EvgPufcj9QyltoSk6bp6St1pa7xSb8zzuwsHDzof3xV8q4T2kvfI4oZBQAYX5qxfn0z86hiKiifpifBLwGnAl8zs/eY2eVmdh3RvN0p8X4RMHVNkmc5XmRx6FD69qYcV/IcQ+QoEBZZ6w8vvrib9ojh4rtg/HNE6Xh2AicBzyeKb/mnwGOdczc11kJRC3XlFMvyfMyKm5m2vc6QZ77tW1hQXrXQyHrA2LNHi6xFzeSNaw65hDZH1zRNz0+Vqb8rzzTN0YVFXpYJeSmKCcjs732HLkXA+AwDLizABRccyXw9Oxu9rmsupEz9ednOm3yS912HJ9ohb52hhpNFrWQpIPCJMiVPTUMsVS26SdafNeGJ5Wul1GXN5OW6q2rRycKaPrKi8/TZopPXZWdk61nmDjgM3A18EHhfUck7SYilaobxdetW/jDXresmFFXeurbxH1odw4V515FXf/KHn7a4fCidnCjH0IaTh3Y9PWMiobsK2AN8G7gaeAEwk1dZn0oVoSsbI7LJOSmfdW15olIm8HDWdTzsYeXOP4qkkveeumjj6TrEJ/gQ25RFn9pahCKjdEp5oXOR2K0FXkQUAuw7wLeAK4Bn5r2vD6WK0JXtoJuMbp83DJi08Kr+ACdZLJ533qZDn7XxdF3HOeru6GVVdIcyWXTKZEK34kB4GFG2gr8A9gO3A4u+7w+ttCl0TT7lFSUZLbKsynR+vqKadb7kD79pi66Np+uq52hClGRVdIfufadk61feztQ3RAvH/xg4CFxf9v2hlDaHLttw7R9ZBHkWVFXLYWmpnNAVzd013Sm08XRd9RxN3IO+WRVDGrqUNd0p1YQO+D5gO/AF4ADwN8CFwEaf94dYqjqjJAVldrad5KM+bWvyh+Y7fDkeRDmrPU0Hs+6DRdeEKPXJqhiiMAxJuHtGeaEDHgW8HvhH4BDwD8AlwCPzKuxLqSp0a9eu/HGuXRvOF7rJH1qRE0laR5XWnrSHhbo75D7M0TUhSpMkqO2qY+6TKIvgmUjoDsbLC5Zih5RT8kreSUIsVYSurz/OOjq0pSXn1qxZed0zM9GwbZWcdk0NsTXRiactl5j0HE2Jse91d21R9W2YVQTNREJ3eKwcyimHgUN5JwmxVBG6Pv446+rQ6hD5IqeWZF1NpzAqQxPCME0WVfJah7hgXHRGZn+fmabHzJ6duiMD59zfljm+a6qk6akr5U2b5KXXWVyEK67wq2dmJuqKkpjB4cPV6oDVaVq2bYMrr6zW5jrp42efRx2fpy9paXnWrFmdxkmpesSEZKbp8cpHN0SqCF0f82hZ5lcgwlc4Nm6MossnKdPRZ4nF7Cxce+3Ke7hmTXqqn7bz3I1oUxjaoE3h9sllaAYXXtjNQ4zoPZXz0Ykx+hgceKbgk965s7iO5WX4zndWb1+3Lj9Ab5KsnHHXXhv9Px6gOiufXdb28bY2ke+uiVQ/TbTVt868/H114xOo2Tm44Yb6zy2mnLxxzSGXaUvTU+QpCcV1ZM3nZK0fTDI+PzM3t9qBpczi97zoKU06WNRZ99JS+hxVHXN+IXpd+gYcCHmuWwRNZn/fueB0VSR0/sIxoooTTlHnm7fcIK3kOaQ07WBRl/dqU4GtQ/UK9n2Q8X1wEiKBhC5Zpk3oihZ6+3gyVulAi7Ib+FpyZsVtreoV24aF42PdTErZ62/T6zNp1c/MrG5nXiYQIXKYXOiAo4iiojy56Ng+lWkTuqoi51y1Ybs84SoTQ7OqqDZ5jWUous4qga3LhKjreh2dlheIGsns7wudUZxzD8RCd3yzs4WiK3w93LKccCDf8WF5Odvrc9OmctmkfY6t4mCxfftKb1qIXm/f7t/GOihytqmLrq9379707cowLurE1+vyM8DpTTZENMvcXLntWSwsRG7nhw8fcT/fujVyG3cu+rt160qx27492pfELBKfMh6LPsfmecUWeSNmdbBlO96qnpTz8+n1mUVLLsyy680Sj7TtdV3vpDThxSrEKvLMvVEBzgD+L3ARcDKwAVg/XnzqCalMy9BlXgaBSeNz+mZLGJE3PziqLzl8tnbt6izubXgj1pWJvSgWatHQ5fhwct4cZto9KXMNecPGbURp6XroVAyKbA3L2/nQQR7hwHzqCalMg9CldSIj0Zm0E1tc9MtgMO744NPxZgV+rtNJwrcdVTtenzmyovs33iafkGlJJ4+k0GZdQ5EjUBNBsJv+nMXUUlnofhq4IK/41BNSmQahq9vNfGmpfJqe0fuS1lmbVsMIX2/Eqh1v3n0ZkSWGaW3yuedpgbY3bDjyem6ueB2dz2dZBVlvomGqCd0QS8hCVzaIcVbHnNdBTtKB+3pHpqXpSVoYXXR2ba0v8xG6onsybv0ViaJvKbrPTQcrD3V9nxgMmf1954LTVQlV6MomI817Si4SprICk1fX7Gy2BeQjkHNz9Qxf5VljbaXEOeaY7GtMvi/rfmzYcOS4uoSuSFSaFqI+Zv0QvSKzv/cWBuBc4K+B24A7ksW3nlBKqEKX5dyRta6q6kLsoszoPm2DySyFIhEum+fNR8jqSPlTNB+2du3qocSsRdB596DK/fOpd5L7V4XQLTrNFfaebP3K2/nQQXAecD/wp7FDytuBdwB3Af8O/IZPPSGVUIWubAdV9JQ83rHniUqVRd95nadz5RaEJ6+hTDuLOtIyHXlWp1cmjJVPp+lzTye9f2mlaCF62c6+zPFp927dunJJe5tC84eDILO/9xIF4LNEi8ZnY6E7Ld5+LPAPwC/71BNSCVXo2rboyjxV5wV1zuvssoZjJyl57SwSfV+LospwcPKcRfh4aBYtL3je88rdw7qYRBwm9Q5tmjqtTVmGnZHZ33uJArAPeE78/4HR//HrlwG3+tQTUglV6NqcoyvbMU+63q3Io6/sHFRWx1HUWfnOEeXVM4nXadE9Td6/tGHO8c9z9DA03okmh2Sz5gnrHCasKg4hDWXWNX8oy7BTMvt7L1EAvg6cFf9/K7A4tu8ngHt86gmphCp0zrXjdVmlYx4/V55FUiQMo04kb71fWimzJmz8WN+ONa/T83l4KNuxNWEBTNrhlmlLVXEIyTmlLtENSbynkGwNy9v50EHwQeAN8f9/DPwn8Lp4Dd1Xgb/2qcfzXCcC7wfuBXYD5+Uc+wbgi8A9wC2jNvqUkIWuLrJ+dGXnvvKo4iiRtmB83GIpWh6RRh1el2WHg0OZZ0riK1p51n9e9JwhWXR1WWIhifcUUlnongacG/9/fCx8B+L5us8AJ/vU43mu64A/B44Bfgi4Gzg149g3AqcBa4DHx8L4Cp/zhCx0dT3h563VShv+moRJHSXSOpEyc4qTLvL2OS4t+ksyd954HWW9Q8u2uUl87nlWfriq4hDaMF8dn0dI4j2FVBO61DdG6XuOm/T9GXVuAB4EHje27V3A73q+/4+Bt/kcG6rQ1fnjT5v/qbtTKSNOI4FKyy7uXDnRTFqDdd6ztGHUSeZIy56ni07e955nUVUcQhD7Ognlc51S6hE6wIDvBZ4BbCjzXs/6nwrcl9j2y8CHPdv2WeDCnGO2AruAXZs2barzBtdGnU+EPp1YHU+avvN2WUN/o47Adxi0iUDMk9Y16blDefL3vefCn6GJd4+oLnTANuAbHAnsPFpicD1wiW89Bed4JvDNxLbXATd6vPctwE3AUT7nCtWiq3OMv2zw5bqYxBN0ft7fukh2HG3cs6y6Jj13KHM5Pvc8a+hyaEigek9mf++Vj87M3gD8IfD/As+NracRNxJFTfGp50Yzcxnlk0TLGI5LvO04ImeTvHovAl4N/JiLEsX2ljrzc/m8p4m8X3n54LLynO3eDfv2Fdc9Px/VM04b96yu7VXfVzdpSWrHWbcOLr+8vfZ0xfJycV5F0WPyVHBUiJYUvDH+P7lo/Cxgj089HucZzdE9dmzbO8mZowN+Bridkg4xoVp0Tc83jZessFRFdVZ56vX1BPUZshyRtyC9bBvrXMeYR9n3NWltJBdxh+hB2jShDCWLSmRrS97Ohw6Kwn89z6UL3fOBe33q8TzXe4g8LzcAZ5LvdbkAfBP4/rLnCVXonKu3U1tayo62UnZIqg4RLrNmzjeMVtHwW5k2TtLhTfp5lfEUlYNDs4QylCwqUVnovgi81aUL3WXAP/nU43muE4EPEK2ju42xdXREc3j7xl7fQrTMYd9Y+VOf84QsdHUw3olmCUDZH3EZEShazza+r2r7fKxB3yfzEDu8rqyNaZqzkkU3CCoL3c/GQ4pvAp4QC90LgdfGgpS5qDvUMmSh83X5L/sj9hWBonVoSbLCVR1zjF+7fEKI+QpViB1eF+I7bVbktF3vQKkmdC4SuzcQOYUcioXucGxBeUcjCakMSeh83fur/oh9RCBvmUCWWFTtyH2u11eoyop0G3QhviEKftNMkwU7UDL7ey+vy9hp5feBRwJnA6+K/z4q3i46Is1bbM+e7OOTXpBlSPPQW78+2j5i+/aoHWns3h21d3kZNm+GmZnob9bxWdvHWV7Ov960NibfP2rLxo3w9revPu+M968kvd7Nm6t57/nc97rJ8o7N2i5E0OSp4JDLUCy6SaOJTErRU2/RfFlatoOskpWaaHw9XtH55ubKOXn4WMBF96DKMFhW3W1bG9Nm0WnochBk9vfewgA8DHgBkTv/tkRZ9K0nlDIUoSsTVDnNRb5sB1p0/KSxL8u0t0zIsbzOqmxbiyK7FNVbJBIhdbYhtaUNpk3YfenZcG41oSMKrnwHR+bmkuWQTz0hlaEIXRWLbpK1XEXHlxWipAU3+pu1bm0SIS07N5hV8rxEx88x6Zxjlc42rUNSHEp/QvS27ZoePuxka1jezocOgn8BPg08GVjr857Qy1CEroywlEkwmobv8XmhvorEqOrQaJnOapI2+nSIPlnD05i0s037DqxbF0727j4gi241Pbwnmf29lygQLSE4y+fYvpShCJ1z/l6Xs7MrBaTpuI6+mcNHHXCVYUEfEU27b2kCsWFDdht9fvyTCl3dAaJ71kl1Sg+tl8bpoZWb2d97iUJszV3gc2xfypCELomPlWeW3qHndYZlO+KiDtc3TU9y+cKkc3Rlhvfythd1iHVaZj6dbRkrN+BOqnOmaajWh2m06J4CfA54ts/xfShDFjrnVv5os0KAFQlRVW/CrPNmeVP6CoTv0Oi4x2XdMUQncciZdK6tCFl0ogl6aOVWFro74+HLQ0RxL+9IFp96QipDF7pxJpnXyvpSl+mI8+pOYxKBKAroXKXuSWlieUHZ82mOTtRBz6zcykJ3KfCbecWnnpDKNAldFZf/SYSgyOIqM2fm0zlnnWfcEmx7vqEuwaoikD3rpISoSjWhG2KZJqHLs3p8ShmWllZbEmU67knW9WWJ2Oxsufm/rml7yFOIgZHZ35tzrsY4K/1hy5YtbteuXV03ozGWl6NwXLfdFoWhOnQo/bg1a+Dgwex6Zmfz9yfZuDE7JNf8fBS2qmzosTw2b45Ci2Wxfn0U7gyiUGn796/eV2d7qjAzE0lbEjM4fDj7faMwcCFfmxAtYJk7soTOzN4L/Jpz7qvx/7k4514+efvaZ8hCl9bxZbF2LRw4kH9MmWchy/yqlasnj3ER96lzfh5uvXXl+zZtShddn2OaIku0R+2v+31CDIzM3icvXO1JwNr4/4fHr/OKCITt2/1Ebna2WOTm5+tpU10kg1j7MApEvLAQdfyHD0d/00QuGSB769ZqAZnLMGnw5i4DMNcZvFqIxsgb1xxyGfIcnY+Xpc9atEm89PIWidcxbzSJY41vJvUQ5vHqXF7QdLt76H4uhk1mfz9BApKVmNmzzOwTdYiuqIdNm9K3z86uTNOTZ61Nmsrn8suz923fXq6uNCaxUr7zHT9LI6vuUXqhNiiyOtPoIo0PpI8c7N9fz+csRK3kqaBPAc5BQZ2DwvdJu6knch93/0mZdKmEj3WTV3folkoXXpc9DBElhk1zFp0Ij4WFIxZbXqLV5HFzc3D00XD++dXmW7IsxSxLswxp1osPWdba+BzTvn2Rc04aoVgqWXNik1iCk55rRNbnWcfnLESt5KmgT0EW3SCoO0RWk3M349bLzMzkFl1WRJEmLdIqtDkn5puSKblmcu3asC1fMWhk0Yl86pxv8bUoJ2XcejnhhOLjs+ar0q75wQejucw0urZU8j6jur0ffb8PyeUkectLhOiKvHV02zzreArwWudcRvcQJkNeRzcJky5W7pqsdo/IW6Se997168NbgN1me32+D1q/JwIj+zEry9QjO5u4MowPkDwX9ZDDS2W126y4nX275qz2ZmWJqLK8oMlM6kI0RPmhS+fcTInSK2tOrCbLRf3ss7tdRF1EWrvN4MILi62ZPLf8Jpw7qpLV3qzwblUWjPssWZAziugNeSo45CKLbjVpVkwIi6iLqGJ9LS4esYhmZ6PXIdPmZ1R0b7RgXARGZn/fueB0VSR0fgx5eGooHXUT11FmLWZoQ7xiasns75W9QOTSlsNBF8GUh+RMUff9G9K9EVND+ewFQ0dC50cbKWC6SjPTV0/TNtC9ET1kouwFQjS+Jg66i5koZ4psdG/EkJDQiUKa9kAsk2ZmeTlK7moWlY0b/T1Ak4uqzz67m2DIfaCrQNEiLAaThilr8g7YCWxObHs1cEJi2xOAv8ybCAyxyBklHHy9BpeW0kN0+YSdynKuWFyUM0UWcjSZbnrorFXeGcXMDgNPc879Y/x6FngQOMM59y9jx/0g8CnXs7V0mqMLB985uiwHCVAWbiHqpoe/mdrm6BTJTtSO7zxg3gLoosXRXWbhFqKPDOk3ozk6UUgb4/Q+84B5jhBFThJtO1cMZm5DTC1DckiS0IlcRsOKIYQA27ED1q1bvX3t2mIniTadK0K6Z0JMyqAckrIm74iCNZ8LnBKXJ8XbfnJs2ynAK1FQ58ESWgiwpSXn5uaOtGNuzn9y3Me5og4HjNDumRCT0jOHpImdUZI7R3N0LrHNOTmjDJLQFg43GUGlroXrod0zH7qITCNEzZSPjGJmzy5zBufc35ZsVKdI6PwIyfOq6QgqdV1rSPfMh64i04jw6dkD0ET56NbmmYJ9Lxq69COktTRN54+rK4B1SPfMBw21ijT69j12Of19ntDtIVo0/sPElt+QioTOn1DG6bOEaPQDrPqDrLPDD+We+TDkDBVicnr4AJTZ3+cNXf5P4BzgEcA3gT8HrnPxAvK+o6HL/pE1JDg7m558tOxQ4bQO4fVtqFW0Qw/nmssvGHfOXQQ8CngBcANwPvBpM/sPM/stM3ti7c0UIoezz07f7pthu2htWxsBrENkUG7kojaGtI7Oe6gPWAO8CHgXcDdwCPgi8GvAyb71hFI0dNk/soZSRlmw84ZYejjf0Cp9GmoV7dDD30xmf++9YNw5d9A59xHn3PnAw4GfAr4MXAZ8pV75FWI1WaGHDh0qtki6SgUkRF8Z0gjHpJFRngo8C3hGXEcPo5+JvpE1ZDL6Aeb9IIcUt69uFMlFZNF0iq62QuV5Zxg3s6cCrwBeDmwC7gDeR+Sg8ulmmtccckbpH1WcReRwkY3ujeiCBpy/JsteYGbfb2ZvMbMvA7uA1wGfAM4CHuWc+4U+ilzIhBgMuEqy0zqpMpQih4tsZO2KLmh1OiFr8g74PJHDyT7gPcBLgHV5E359KiE6o4Q4+bu0FCU2TTp6rFsX9KR0Kn1wuOiijT1cLyUGQAPrNzP7+7x1dB8GrgM+6Jy7twGN7ZQQhy5DHEKqkuxUlKOrdXzbtsGVV67evrgIV1zR3HnFdNNAfzfROroXO+fePUSRC5UQh5CqJDsV5ejKM/SGG8ptF6IOstbFZm2vgvLRBUSICzSrJDsV5ejqQSfEBywxfNp8wJLQBUSIDhM7dkSOMWk08eQ1zXT1oBPiA5YYPm0+YEnoAiLEBZoLC3DCCen7NLRVL1096IT4gCWGT5sPWBK6wGh6geYk7N2bvl1DW/XS1YNOiA9YYvi0+YDlvWB8aITodRkqIXqDCiH6T82JXSdbMC4EaGhLCNEMbY1gSehEIRraEkL0GQ1dCiGEGAIauhTZhBhfUwgh6mJN1w0Q3ZIMOzVK0QIamhRCDANZdFOOEpIKIbqirdEkCV1gbNsGa9ZETh9r1kSvm0Thn4QQXdBmwl8JXUCMosgfOhS9PnQoet2k2Cn8kxCiC9ocTZLQBcTOneW214HWyJVHzjtCVEexLqeUkSXnu70OfNfIqXOP8B1u0f0SIh/FupxSZmfLbW+LNsfSQ8dnuEX3S4hiWh1Nyks/3kUBTgTeD9wL7AbOKzj+NODvgH3At4CLfc5z+umnT5yvvSkWF9NTyy8uNnfOpSXn1q9feb7166PtI+bn09s1P99cu0LFLP1emB05RvdLCD+WlqLfhVn0d7zfmYDM/j64yChmdh2Rpfla4CnAR4FnOOduTjl2I/Al4BeB/w9YBzzaOfevRecJNTLKtm3R0OGhQ5Elt3UrXHFFc+fzCdg8MxN11UnMohh104TulxDB0o/IKGa2ATgHeLNzbp9z7pPAh4DzM97yeuDjzrll59wDzrl7fEQuZK64Ag4ejDrKgwebFTnwmxCWZ+YRfIZbdL+ECIughA54HHDIOfeVsW03AadmHP80YK+ZfcrM7jCzD5tZZndiZlvNbJeZ7brzzjtrbHZ/8emU5Zl5BB/nHd0vIcIiNKE7Brg7se1u4NiM4x8NXABcDGwCbgGuy6rcObfTObfFObflpJNOqqG5/cenU1b2gpUUpRbR/RIiLFoVOjO70cxcRvkkkUPJcYm3HQfck1HlfcD7nXP/5Jy7H3gL8Awz+67mrmJY+HbKIWY+7wqfpQO6X0KEQ6tBnZ1zz8nbH8/RrTGzxzrn/m+8+cnAKkeUmM8D49P+o/8zJyXFahYW1BH7sLwMF18Me/Yc2aYg2EKET1BDl865e4Hrgbea2QYzOxN4CfCujLdcDbzMzJ5iZmuBNwOfdM79VzstFtPCaG3cuMiNUBBsIcImKKGL2QYcDdxBNN+2OFpaYGbPNLN9owOdc58Afp1oCcIdwGOA81pvsRg8aQvFx1EQbCHCJbh1dG0R6jo6ESZZa+NGzM3BXXe11x4hxCr6sY5OdIPiMhajNXBC9BcJ3ZSjuIx+pC3DGGfv3vbaIoQoh4Ruygk5w3hIluZoGUZWgG1ZfEKEi4Ruygk1w3iolubxx6/epqgnYqiE9LBZBQndlBNqXMbQLM2s5QVzc4p6IoZJqA+bkyCvyyln9GUeF5X167vvvEPLAOCTtUCIIdHD77y8LkU6ocZlDM3SDHWIV4imGNJ3XkIngozLGFoGgNCEV4imGdJ3XkIngiQ0SzM04RWiaYb0ndccnRCetJ39XYiuWV6OHMBuuy2y5HbsCGPEJ4PMOToJnRAehOq0I4R4CDmjCFGF0JY7CCH8kdAJ4cGQPNCEmDYkdEJ4MCQPNCGmDQmdEB4MyQNNiGlDQieEB6EtdxBC+COvSyGEEENAXpdCCCGmEwmdEEKIQSOhE0IIMWgkdEIIIQaNhE4Ey1CyGwshumVN1w0QIo1kbMlRdmOQS78Qohyy6ESQKLakEKIuJHQiSBRbUojuGcr0gYYuRZCceCLs2ZO+XQjRPEOaPpBFJ4QQYhVDmj6Q0Ikg2bu33HYhRL0MafpAQieCRGlxhOiWIf0GJXQiSJQWR4huGdJvUEIngkRpcYToloUFuOACmJ2NXs/ORq/7+BtUmh4hhBCrSHpdQmTRBfzAqTQ9Qggh/JHXpRBCiEEjr0shhBCDRl6XQgghBo28LoUQQgyaIXk+y+tSCCHEEJDXpRBCiOlEQieEEGLQSOiEEEIMGgmdEEKIQSOhE0IIMWgkdEIIIQaNhE4IIcSgkdAJIYQYNBI6IYQQg0ZCJ4QQYtBI6IQQQgwaCZ0QQohBI6ETQggxaCR0QgghBo2ETgghxKCR0AkhhBg0EjohhBCDRkInhBBi0EjohBBCDBoJnRBCiEEjoRNCCDFoJHRCCCEGjYROCCHEoJHQCSGEGDQSOiGEEINGQieEEGLQSOiEEEIMGgmdEEKIQROc0JnZRWa2y8weMLNrPI7/RTP7ppndbWbvMLOjWmimEEKInhCc0AHfAH4LeEfRgWZ2FvCrwPOAzcDJwFuabJwQQoh+EZzQOeeud859ANjjcfgFYNJfGgAADABJREFUwFXOuZudc98GLgN+usn2CSGE6Bdrum5ARU4FPjj2+ibgEWY255xbJZRmthXYGr/cZ2b/VvH8G4G7KtYxNHRPVqL7sRrdk9XonqxkkvvxMefcC9N29F3ojgHuHns9+v9YUixC59xOYGddJzezXc65LXXVNwR0T1ai+7Ea3ZPV6J6spO770erQpZndaGYuo3xygir3AceNvR79f0/11gohhBgCrVp0zrnn1FzlzcCTgffGr58MfCtt2FIIIcR0EpwzipmtMbOHAbPArJk9zMyyBPmdwGvN7BQzOwF4E3BNS02FGodBB4TuyUp0P1aje7Ia3ZOV1Ho/zDlXZ32VMbNLgd9MbH6Lc+5SM9sEfAk4xTl3W3z864FfAY4G/gK40Dn3QItNFkIIETDBCZ0QQghRJ8ENXQohhBB1IqETQggxaCR0E2BmJ5rZ+83sXjPbbWbndd2mromXjtxvZvviUnUxfq/Ii9FqZs8zsy+b2X4z+xszm++oma2SdU/MbHO8pGjfWHlzh01tBTM7ysyuivuMe8zss2b2o2P7p+57kndP6vye9H3BeFf8CfAg8AjgKcBHzewm59zN3Tarcy5yzr2960Z0xChG61lEjlEAmNlG4HrgZ4EPE4Wp+3PgaR20sW1S78kYxzvnDrbbpE5ZA3wNeDZwG3A28F4zexLRmuBp/J7k3ZMRlb8nErqSmNkG4Bzgic65fcAnzexDwPlEAabFFOKcux7AzLYAjx7b9RPAzc6598X7LwXuMrMnOOe+3HpDWyTnnkwlzrl7gUvHNn3EzG4BTgfmmMLvScE9+ee6zqOhy/I8DjjknPvK2LabiOJuTju/Y2Z3mdnfm9lzum5MIJxK9P0AHvphfxV9XwB2m9ntZnZ1bPlOFWb2CKL+5Gb0PQFW3ZMRlb8nErryJONrEr8+toO2hMSvEKVJehTRYs8Pm9n3ddukIND3ZTV3AWcA80RP7scCy522qGXMbC3RNV8bW2xT/z1JuSe1fU8kdOVJxtckfj3V8TWdc59xzt3jnHvAOXct8PdE4+3Tjr4vCZxz+5xzu5xzB51z3wIuAl5gZsn7NEjMbAZ4F9E8/0Xx5qn+nqTdkzq/JxK68nwFWGNmjx3b9mRWmtoCHGBdNyIARvFYgYfmeL8PfV/GGUWtGPz3xcwMuIrIke0c59yBeNfUfk9y7kmSib8nErqSxGPn1wNvNbMNZnYm8BKip5GpxMyON7OzRnFJzWwBeBbw8a7b1hY5MVrfDzzRzM6J9/8G8PkhOxiMyLonZvaDZvZ4M5sxszngj4EbnXPJobshciXw/cCLnXP3jW2f2u8JGfek1u+Jc06lZAFOBD4A3EvkEnte123q+H6cBPwT0TDLfwH/ADy/63a1fA8uJXriHC+Xxvt+BPgycB9wI7C56/Z2eU+AVwK3xL+f/yQKzv7dXbe3hfsxH9+D+4mGKkdlYVq/J3n3pM7viWJdCiGEGDQauhRCCDFoJHRCCCEGjYROCCHEoJHQCSGEGDQSOiGEEINGQieEEGLQSOjEIDGzj5jZF3L2/08z+7aZHTW27clm9m4z+7qZPWhme83sr83s3Hjx9+i4a+I8Wc7MDse5tK6OA9LmtWljfN7/sCh33zfM7ONm9tJ6rjoKpWRmf2Jm34rbd2lddVfFzP5b3Kbb4mgYQrSC0vSIoXIdsGRmp7pEnkAzmwV+ErjeOfdAvO0ngXcTxej8NeBWosAAZxMtVD2GKEzRiC8DryF6WDwV2AGcYmZPd84dTjYmDlj7N8D6+NivEqWueQHwPKIABHXwE8A24LXAl4Dba6q3Dl4Z//1e4Ezgkx22RUwREjoxVD4I7AdeASSzEv8wUVy96wDM7FHANUSR0X/GrYyi8AEz+wPgexJ13Ouc+4f4/0+Z2X1EYeBOJ4oSk+Q5wBOBH3DOje9fqsO6MbOjXRQ+6QnAt51z76haZwO8kihqzpPi/3OFLn4gmXXOPdhC28SA0dClGCQuSor7EeDclN2vAL5FZGFBlNV5DfBLLiVUkHPu35xzNxaccpQkcnPG/uPjv99Mqf+hc8bDorvG95vZ5njI70Vj25yZvd7M/sjM7gS+YGY3EmWmPmFsaHWzmX2Pmb0jHjK9z8y+Yma/ZWbrEuc52sx+Lx6KfcDMbjGz30kc87NmdnO8f7eZvbHgvozedyqR0F8NfAj4qfHh4PFrN7OXmtnNRGGhfjDet8nM3hMPJ++Ph3wfn3j/75rZF8xsn0X5y5bN7Lt92ieGjYRODJnrgMea2emjDfEQ4suA9zrnDsWbnwXscs7trXCuzfHfVUIW8zngMPAOM/uhZCc/IW8gsjTPB36BaMjyKqI8Zk+Py38CG4G9wOuBFwK/TzTs+rZRRbFV+UFgEfgToiHb34zfOzrmDUQBeD8AvCj+/zIzG6WayeM84CDwF0Sfy0lEQ7ZJNgO/B/xO3IZbzOxEIuvv8cCFwMuBDcBfm9nRY+99OPDbwI8BlxDlR/xEbBmKaabroJ4qKk0V4Cjg28Dvj217EVEQ2aePbftX4LqU968ZKzNj268BdsXb1wFPAb5AFOB7fU57Xk+Ub8sRBe79GPBTiWOuIRLd8W2b4/e8aGybAz6bco5LgbsK7ssaIuG5H1gXbzsrrvPHM95zHFGw3d9MbH8rkbjPFpzzq8AN8f/riIT3mpRrd8BTEtsvA/YAJ45tO4FI0H8+43yzREmAHfCsrr+LKt0WWXRisLjI0eT9wMvH5sHOBXYTzRWNMI7kuoo2mG0BDoyV9yaqPz3e/gDw2XjbTzrn9ue05w+B/wb8PPBhomG59yaHB0vwUZ+DLOISM/tSPJd4gGg+8ihgU3zYc4G9zrkPZVTzdCIr6n0WpdpZE1ulnyCa73x0zvl/kMi6eg+Ai+bcrgdeZlFKmnG+7pz7XGLbjwB/BXxn7Lz3EA0Xbxk7z4+a2afM7G4i63HkiPO4rLaJ6UBCJ4bOdUSd+dPjTvUlRNbbuLB9ndUd9ZeAM+LyLyn1/mu87zTgEc65Jznn/rGoMc65rzvnrnDOvTw+58eAN1iUb6ss3/I87hLgD4hE/yXADxCJLcBIaOaIhjmzGA1h3szKB4DRPOf35rz3lfGxN1qUu/B4IpE+jtVZ6NOuaSPRA8qBRPnh0XnN7Ayiub/biYZynw48LXGNYkqR16UYOp8g6jxfQTSfdSyxt+UYfwf8qpmd4Jz7NkBsme0CMLN7Uurd75zblbLdG+fcvWZ2BdG82WOIhufuJxraG+fErCo8T/VTwPucc9tHG8zslMQxe1jtWTrOaP7yRaSL0b+lvcnMZojm1NYSWdJJXklk3Y1Iu6a9RCJ2Wcq+0WfzMuBO4NzRQ4yZzae1SUwfEjoxaJxzh8zsfUSd/aOAf3XOfT5x2NuJHDt+n8gDs3Zih4rvOOcOJnY9Nv57R/z3dmCzmT3MOXd/vO35FU9/NNEQ6zgLidf/G3ijmb3IOfeRlDo+TTSv+EjnnNeQacxziAT0V4CkxfsaomHlY51zaQ8T4217OXCzW5mVe5yjgQMJSz15jWJKkdCJaeA64CKip/7fSO50zn3dzF4DLJvZyUQu8LcSLRLfAvw/RBZFFZ4L/I6ZXU20zu4w8AzgV4GPOOduiY/7AJGDx9vN7BrgqUSCUIW/An7BzD5D5BSyQGRBJo/5OPBuM3sr0XDt9xA5cvycc+6/4igrl8eW0t8RTX08Dvhh59zLMs79SqKs85fHc6YPYWbfAV4NvJRoDWIWfwi8isiD8m1EQ82PAJ4NfNI5d13c/kvM7I+I5j+fEb9HCHldqgy/EDmb3EI0LPaYnOOeQiSK3yCaA9pLNPT5c8DaseOuIeEZ6dGG7wX+B9Eyg/8iGnL7AlEUlvWJY3+aSJD2E60FfAbpXpcXpZznUhJel0SCfXV8PXuJLNiR9+kTx447Om7j7UQW4C3AjkRdryJyArmPyKP1M8DrM655bXy+nTn35WbgfxXdV+CR8TV8K27brcAScOrYMW8EvgbcC/w1kbWcep9UpquYc77D/EIIIUT/kNelEEKIQSOhE0IIMWgkdEIIIQaNhE4IIcSgkdAJIYQYNBI6IYQQg0ZCJ4QQYtBI6IQQQgya/x/pV6e9WVynCAAAAABJRU5ErkJggg==\n",
      "text/plain": [
       "<Figure size 432x432 with 1 Axes>"
      ]
     },
     "metadata": {
      "needs_background": "light"
     },
     "output_type": "display_data"
    }
   ],
   "source": [
    "import matplotlib.pyplot as plt\n",
    "\n",
    "fig, ax = plt.subplots(figsize=[6,6])\n",
    "ax.spines['right'].set_visible(False)\n",
    "ax.spines['top'].set_visible(False)\n",
    "\n",
    "plt.plot(trunc_vgpSize*3, trunc_resid_125 + trunc_resid_250 + trunc_resid_1000, 'o', color='blue')\n",
    "plt.tight_layout()\n",
    "plt.xlabel('VGP Surface Area', fontsize=15)\n",
    "plt.ylabel('VE Linear Model Residuals', fontsize=15)\n",
    "plt.yticks(np.arange(-1,1.2, 0.4),fontsize=12)\n",
    "plt.xticks(fontsize=12)\n",
    "plt.show();"
   ]
  },
  {
   "cell_type": "code",
   "execution_count": 242,
   "metadata": {},
   "outputs": [
    {
     "data": {
      "image/png": "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\n",
      "text/plain": [
       "<Figure size 432x432 with 1 Axes>"
      ]
     },
     "metadata": {
      "needs_background": "light"
     },
     "output_type": "display_data"
    }
   ],
   "source": [
    "import matplotlib.pyplot as plt\n",
    "\n",
    "fig, ax = plt.subplots(figsize=[6,6])\n",
    "ax.spines['right'].set_visible(False)\n",
    "ax.spines['top'].set_visible(False)\n",
    "\n",
    "plt.plot(trunc_gpSize*3, trunc_resid_125 + trunc_resid_250 + trunc_resid_1000, 'o', color='blue', alpha=0.6)\n",
    "plt.tight_layout()\n",
    "plt.xlabel('GP Surface Area', fontsize=15)\n",
    "plt.ylabel('VE Linear Model Residuals', fontsize=15)\n",
    "plt.yticks(np.arange(-1,1.2, 0.4),fontsize=12)\n",
    "plt.xticks(fontsize=12)\n",
    "plt.show();"
   ]
  },
  {
   "cell_type": "code",
   "execution_count": 22,
   "metadata": {},
   "outputs": [
    {
     "name": "stdout",
     "output_type": "stream",
     "text": [
      "Correlation between Average Raw Diff (estim - actual) and GP SA\n",
      "(-0.28817600844084856, 0.0004199084111618552)\n",
      "\n",
      "Correlation between All Raw Diff (estim - actual) and GP SA * 3\n",
      "(-0.2366486828155096, 5.446582086224715e-07)\n",
      "\n",
      "Correlation between Average Raw Diff (estim - actual) and VGP SA\n",
      "(-0.2502969735535634, 0.0023113225807515386)\n",
      "\n",
      "Correlation between All Raw Diff (estim - actual) and VGP SA * 3\n",
      "(-0.205542610658782, 1.4524680744490677e-05)\n"
     ]
    }
   ],
   "source": [
    "# corr, p-value\n",
    "print('Correlation between Average Raw Diff (estim - actual) and GP SA')\n",
    "print(stats.pearsonr(np.mean([trunc_raw_diff_125, trunc_raw_diff_250, trunc_raw_diff_1000], axis=0), trunc_gpSize))\n",
    "\n",
    "print()\n",
    "\n",
    "print('Correlation between All Raw Diff (estim - actual) and GP SA * 3')\n",
    "print(stats.pearsonr(trunc_raw_diff_125 + trunc_raw_diff_250 + trunc_raw_diff_1000, trunc_gpSize*3))\n",
    "\n",
    "print()\n",
    "\n",
    "print('Correlation between Average Raw Diff (estim - actual) and VGP SA')\n",
    "print(stats.pearsonr(np.mean([trunc_raw_diff_125, trunc_raw_diff_250, trunc_raw_diff_1000], axis=0), trunc_vgpSize))\n",
    "\n",
    "print()\n",
    "\n",
    "print('Correlation between All Raw Diff (estim - actual) and VGP SA * 3')\n",
    "print(stats.pearsonr(trunc_raw_diff_125 + trunc_raw_diff_250 + trunc_raw_diff_1000, trunc_vgpSize*3))"
   ]
  },
  {
   "cell_type": "code",
   "execution_count": 244,
   "metadata": {},
   "outputs": [
    {
     "name": "stdout",
     "output_type": "stream",
     "text": [
      "Correlation between Average Z-scored Diff (estim - actual) and GP SA\n",
      "(-0.3160792329271877, 0.00010170364529212977)\n",
      "\n",
      "Correlation between All Z-scored Diff (estim - actual) and GP SA * 3\n",
      "(-0.3132498715597317, 1.991727001012583e-11)\n",
      "\n",
      "Correlation between Average Z-scored Diff (estim - actual) and VGP SA\n",
      "(-0.2456938968836485, 0.00279735607970203)\n",
      "\n",
      "Correlation between All Z-scored Diff (estim - actual) and VGP SA * 3\n",
      "(-0.2434945849781351, 2.47934070301745e-07)\n"
     ]
    }
   ],
   "source": [
    "# corr, p-value\n",
    "print('Correlation between Average Z-scored Diff (estim - actual) and GP SA')\n",
    "print(stats.pearsonr(np.mean([trunc_diff_125, trunc_diff_250, trunc_diff_1000], axis=0), trunc_gpSize))\n",
    "\n",
    "print()\n",
    "\n",
    "print('Correlation between All Z-scored Diff (estim - actual) and GP SA * 3')\n",
    "print(stats.pearsonr(trunc_diff_125 + trunc_diff_250 + trunc_diff_1000, trunc_gpSize*3))\n",
    "\n",
    "print()\n",
    "\n",
    "print('Correlation between Average Z-scored Diff (estim - actual) and VGP SA')\n",
    "print(stats.pearsonr(np.mean([trunc_diff_125, trunc_diff_250, trunc_diff_1000], axis=0), trunc_vgpSize))\n",
    "\n",
    "print()\n",
    "\n",
    "print('Correlation between All Z-scored Diff (estim - actual) and VGP SA * 3')\n",
    "print(stats.pearsonr(trunc_diff_125 + trunc_diff_250 + trunc_diff_1000, trunc_vgpSize*3))"
   ]
  },
  {
   "cell_type": "code",
   "execution_count": 246,
   "metadata": {},
   "outputs": [
    {
     "name": "stdout",
     "output_type": "stream",
     "text": [
      "Correlation between Abs Average Z-scored Diff (estim - actual) and GP SA\n",
      "(0.045895263503488985, 0.5822659701611137)\n",
      "\n",
      "Correlation between Abs All Z-scored Diff (estim - actual) and GP SA * 3\n",
      "(0.04818746674212623, 0.3143233730541045)\n",
      "\n",
      "Correlation between Abs Average Z-scored Diff (estim - actual) and VGP SA\n",
      "(0.07160222801011094, 0.39042912061846885)\n",
      "\n",
      "Correlation between Abs All Z-scored Diff (estim - actual) and VGP SA * 3\n",
      "(0.06732249969477104, 0.15956817443095778)\n"
     ]
    }
   ],
   "source": [
    "# corr, p-value\n",
    "print('Correlation between Abs Average Z-scored Diff (estim - actual) and GP SA')\n",
    "print(stats.pearsonr(np.abs(np.mean([trunc_diff_125, trunc_diff_250, trunc_diff_1000], axis=0)), trunc_gpSize))\n",
    "\n",
    "print()\n",
    "\n",
    "print('Correlation between Abs All Z-scored Diff (estim - actual) and GP SA * 3')\n",
    "print(stats.pearsonr(np.abs(trunc_diff_125 + trunc_diff_250 + trunc_diff_1000), trunc_gpSize*3))\n",
    "\n",
    "print()\n",
    "\n",
    "print('Correlation between Abs Average Z-scored Diff (estim - actual) and VGP SA')\n",
    "print(stats.pearsonr(np.abs(np.mean([trunc_diff_125, trunc_diff_250, trunc_diff_1000], axis=0)), trunc_vgpSize))\n",
    "\n",
    "print()\n",
    "\n",
    "print('Correlation between Abs All Z-scored Diff (estim - actual) and VGP SA * 3')\n",
    "print(stats.pearsonr(np.abs(trunc_diff_125 + trunc_diff_250 + trunc_diff_1000), trunc_vgpSize*3))\n"
   ]
  },
  {
   "cell_type": "code",
   "execution_count": 23,
   "metadata": {},
   "outputs": [
    {
     "name": "stdout",
     "output_type": "stream",
     "text": [
      "Correlation between Abs Average Raw Diff (estim - actual) and GP SA\n",
      "(-0.15229464216262142, 0.06649304134483743)\n",
      "\n",
      "Correlation between Abs All Raw Diff (estim - actual) and GP SA * 3\n",
      "(-0.13506404032474656, 0.0046317360943654625)\n",
      "\n",
      "Correlation between Abs Average Raw Diff (estim - actual) and VGP SA\n",
      "(-0.1855028260138151, 0.02498297905891591)\n",
      "\n",
      "Correlation between Abs All Raw Diff (estim - actual) and VGP SA * 3\n",
      "(-0.12919847548648358, 0.0067781163980593345)\n"
     ]
    }
   ],
   "source": [
    "# corr, p-value\n",
    "print('Correlation between Abs Average Raw Diff (estim - actual) and GP SA')\n",
    "print(stats.pearsonr(np.abs(np.mean([trunc_raw_diff_125, trunc_raw_diff_250, trunc_raw_diff_1000], axis=0)), trunc_gpSize))\n",
    "\n",
    "print()\n",
    "\n",
    "print('Correlation between Abs All Raw Diff (estim - actual) and GP SA * 3')\n",
    "print(stats.pearsonr(np.abs(trunc_raw_diff_125 + trunc_raw_diff_250 + trunc_raw_diff_1000), trunc_gpSize*3))\n",
    "\n",
    "print()\n",
    "\n",
    "print('Correlation between Abs Average Raw Diff (estim - actual) and VGP SA')\n",
    "print(stats.pearsonr(np.abs(np.mean([trunc_raw_diff_125, trunc_raw_diff_250, trunc_raw_diff_1000], axis=0)), trunc_vgpSize))\n",
    "\n",
    "print()\n",
    "\n",
    "print('Correlation between Abs All Raw Diff (estim - actual) and VGP SA * 3')\n",
    "print(stats.pearsonr(np.abs(trunc_raw_diff_125 + trunc_raw_diff_250 + trunc_raw_diff_1000), trunc_vgpSize*3))\n"
   ]
  },
  {
   "cell_type": "code",
   "execution_count": 33,
   "metadata": {},
   "outputs": [
    {
     "data": {
      "image/png": "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\n",
      "text/plain": [
       "<Figure size 432x432 with 1 Axes>"
      ]
     },
     "metadata": {
      "needs_background": "light"
     },
     "output_type": "display_data"
    }
   ],
   "source": [
    "import matplotlib.pyplot as plt\n",
    "\n",
    "fig, ax = plt.subplots(figsize=[6,6])\n",
    "ax.spines['right'].set_visible(False)\n",
    "ax.spines['top'].set_visible(False)\n",
    "\n",
    "plt.plot(trunc_gpSize*3, (trunc_raw_diff_125 + trunc_raw_diff_250 + trunc_raw_diff_1000), 'o', color='lightblue', alpha=0.6)\n",
    "plt.tight_layout()\n",
    "plt.xlabel('GP Surface Area', fontsize=15)\n",
    "plt.ylabel('Raw Diff (Estimate-Actual)', fontsize=15)\n",
    "# plt.yticks(np.arange(-1,1.2, 0.4),fontsize=12)\n",
    "plt.xticks(fontsize=12)\n",
    "plt.show();"
   ]
  },
  {
   "cell_type": "code",
   "execution_count": 32,
   "metadata": {},
   "outputs": [
    {
     "data": {
      "image/png": "iVBORw0KGgoAAAANSUhEUgAAAbsAAAG+CAYAAAAKpKqtAAAABHNCSVQICAgIfAhkiAAAAAlwSFlzAAALEgAACxIB0t1+/AAAADh0RVh0U29mdHdhcmUAbWF0cGxvdGxpYiB2ZXJzaW9uMy4xLjEsIGh0dHA6Ly9tYXRwbG90bGliLm9yZy8QZhcZAAAgAElEQVR4nO29ebglVXX3/1l9GxpMAO1uvbYNTbeRljhFY6soiVOMU4xonMAxZiDxlagxidHk9zrHKa+ZnBJeBxwiinEiihJHlNdgaI1iGEUbGb1ANzKIgt29fn/UKbtu3Rp2nVPz+X6e5z73nKo6dfapU2d991p77bXN3RFCCCHGzKquGyCEEEI0jcROCCHE6JHYCSGEGD0SOyGEEKNHYieEEGL0rO66AW3w6Ec/2j/72c923QwhhBDNY1kb58Kzu/baa7tughBCiA6ZC7ETQggx30jshBBCjB6JnRBCiNEjsRNCCDF6JHZCCCFGj8ROCCHE6JHYCSGEGD0SOyGEEKNHYieEEGL0SOyEEEKMHomdEEKI0SOxE0IIMXokdkIIIUbPXCzxI4QQrbG0E3ZcAbfcCmv2hy0bYXFd162aeyR2QghRF0s74aIfwN690fNbbo2egwSvYxTGFEKIuthxxT6hi9m7N9ouOkWenShHYRkhwrjl1mrbRWvIsxPFxGGZ+Mcah2WWdnbbLiH6yJr9q20XrSGxE8UoLCNEOFs2wqqUWV21KtouOkVhTFGMwjJChBOH9xX27x0SO1HMmv2zhU1hGSGyWVwnceshCmOKYhSWEUKMgF6JnZkdZmZfMrPzzexcM3thxjEPNbPrzexbk7+Xd9HWuWFxHWw9fJ8nt2b/6Ll6rkKIAdG3MOZu4M/c/ZtmdhDwDTP7nLuflzruq+7+uA7aN58oLCOEGDi98uzc/Sp3/+bk8Y3A+YDiZUIIIWaiV2KXxMw2A/cBvp6x+4Fm9m0z+4yZ3T3n9ceb2XYz237NNdc02FIhhBB9p5diZ2a/CHwUeJG735Da/U3gcHf/FeAtwCeyzuHuJ7r7Nnffdvvb377ZBgshhOg1vRM7M9uPSOj+1d0/lt7v7je4+02Tx6cB+5nZ+pabKYQQYkD0SuzMzIB3Aee7+9/lHHPHyXGY2f2JPoNqVwkhhMilb9mYRwPPAr5jZt+abPsrYBOAu/8z8GTgeWa2G/gJcKy7exeNFUIIMQx6JXbufiZgJce8FXhrOy0SQggxBnoldkL0Ci1tJMRokNgJkYVWnBZiVPQqQUWI3qCljYQYFRI7IbLQ0kZCjAqJnRBZaMVpIUaFxE6ILLS0kRCjQgkqQmShFaeFGBUSuy5Ranu/0dJGQowGiV1XKLVdCCFaQ2N2XaHUdiGEaA2JXVcotV0IIVpDYtcVSm0XQojWkNh1hVLbhRCiNZSg0hVKbRdCiNaQ2HWJUtuFEKIVJHZdonl2QgjRChK7rtA8OyGEaA0lqHSF5tkJIURrSOy6QvPshBCiNSR2XaF5dkII0RoSu67QPDshhGgNJah0hebZCSFEa0jsukTz7IQQohUUxhRCCDF6JHZCCCFGj8ROCCHE6NGYXdeoZFg2ui6ir+jeHCQSuy5RybBsdF1EX9G9OVgUxuwSlQzLRtdF9BXdm4NFYtclKhmWja6L6Cu6NweLxK5LVDIsG10X0Vd0bw4WiV2XqGRYNrouoq/o3hwsSlDpEpUMy0bXRfQV3ZuDRWLXNUMpGdZ2uvVQrouYP3RvDhKJnShH6dZCiIEjseuatMe09mDYdUO/QiRF6dZdt00IIQKQ2HVJlsd01bX79k/rQdUdclS6tRBi4Cgbs0uyPKY0VSesxgIaC1EsmEs7p2+n0q2FEANHYtcloZ5RFQ+qiQoPSrcWQgycXomdmR1mZl8ys/PN7Fwze2HGMWZm/2RmF5vZOWb2q120tRZCPaMqHlQTIcfFdbD18H3tWLN/9FzjdUKIgdC3MbvdwJ+5+zfN7CDgG2b2OXc/L3HMY4AjJn8PAN4x+T88tmxcPmaXRVUPas3+2cI2a8hR6dZCiAHTK8/O3a9y929OHt8InA+kLf0xwPs84izgtma2oeWm1kOWx7Rh/WwelEKOQgixgr55dj/HzDYD9wG+ntq1Ebgs8fzyybarWmlY3dTtManCgxDNovXsBkkvxc7MfhH4KPAid78hvTvjJZ5xjuOB4wE2bdpUext7jUKOQjSDCiwMll6FMQHMbD8ioftXd/9YxiGXA4clnh8KXJk+yN1PdPdt7r7t9re/fTONFULMF1rPbrD0yrMzMwPeBZzv7n+Xc9ipwAlm9iGixJTr3X2YIcymUJhFiGZQgYXB0iuxA44GngV8x8y+Ndn2V8AmAHf/Z+A04LHAxcDNwHM7aGd/UZhFiOZoKttZNE6vxM7dzyR7TC55jAPPb6dFA0R1LOtDHrJIkzVdSNnOg6BXYidqQGGWepCHLLJQtvNgkdiNDYVZ6kEesshD2c6DpHfZmGJGNKm8HuQhCzEq5NmNjT6EWcYw1iUPWYhRIc9ujCyug6PuBUduiZ5fsAPOOme2ZX5CaWKJoS6QhyzEqJDYjZWuRGcsk2610oMQo0JhzLHSVYLFmMa6lIggxGiQZzdWuhIdrWouhOghErux0pXoaKxLCNFDFMYcClUzHLuq9NCHbFAhhEghsRsC01Tz6FJ0NNYlhOgZErshMG2yyZBFZwxz9YQQvUFiNwTGlOEYgupSCiFqRgkqQ2DeMhzHMldPCNEb5NkNgXlbVmTePNm6UOhXiFwkdkMgnWwCyz2dsRk01aWsjkK/QhSiMOZQWFy3cg7bUOtOlqG5etVR6FeIQuTZDYk+rrHWROhMc/Wqo9CvEIVI7IZE3wzatKGzEIEc8rSJLlDoV4hCKomdmd0TuD9wR+AAYBdwEfA1d7+u/uaJZfTNoE3jaWpsqRnmLYlJiIqUip2Z3Rl4HvAMYBHYC/wIuAW4LXAbYK+ZnQG8E/iwu+/NOZ2Yhb4ZtGk8zT6GYseAQr9CFFIodmb2TiKROxN4NfA14Fx335M4Zj1wP+BRwJuAV5rZ77v7mY21el6pYtDaSEOfxtPsWyh2TCj0K0QuZZ7dT4Ej3f0HeQe4+7XAZ4DPmNmLgacAip00RYhBaytUOI2nWSaQmismhGiAQrFz9xOqnGwSvvzwTC0Ss9NWqHCa0FmRQGo8TwjREMrGHCNthgqrhs6KBPKsczSeJ4RohLIxuzdVOJe7+1/O2J7h04cwXN+yNtPkCaTG84QQDVHm2T2lwrkcmG+x60sYrm9Zm6H0XaSFEIOlbMxuS1sNGQV9SatvIg29DY91qCI9FPoQdRCiIzRmVyd9CsPVmYbelsequWLN0ZeogxAdUbWCigFHA1uJKqgsw93fXlO7hslYw3BteqyaK1adEI+tL1EHIToiWOzMbBH4AnA3ovE5m+zyxGHzLXZjDcP1yWPtE30IC4Z6bPoOxZxTxbN7M3A9cBhwGfAAYAl4JvBs4Ldqb93QqDsMF2JM+1opZez0JSwY6rHpOxRzThWxewjwQuCqyXNz90uB15nZKiKv7lE1t2941BWGCzGmfa6UEkofvKNp6EtYMNRjG2vUQYhAqojdbYFr3H2vmd0A3CGx72vM+7SDugkxpn2ulBJCX7yjaZglLFinwId6bEr+EXNOFbHbAWyYPD6XqED0pybPf5touR9RFyHGtO1KKbDPWMYrYM9iLMtW1+6zYZ42LFi3wFfx2JT8I+aYVRWO/TTwyMnj1wJPMrPLzWwH8ALgLXU3bq7JM5rJ7SHH1EVspGMDHxvppZ3Tn7NIrOt+r7rZsjESlSQhYcEyga/K4jrYevi+73zN/tFziZoQywj27Nz9ZYnHnzGzo4EnAAcCn3P3zzTQvvklpMc+6zhMlXBaEyHTPO8oPned71U3IWHBrOvbhDcuj02IUqaeVO7uZwNn19gWkSTEmM4yDlM1nNaEkc4T67TQVXmvNhNeikQm7/ouLMCePSuPV1akEI1SZZ7d3cqOcffzZmuOWEZIj33aXn1VT62J1PU8sY6fV32vPiW85F3f1QsrBV1ZkUI0ThXP7n9YPoE8i4UZ2iKmYVpPpqqn1lTqep5YT/NefZkOAPnXcfceOHJLv5NvhBghVcTuYRnb1hIlrTySaA7ezJjZu4HHAVe7+z0y9j8U+CRRdijAx9z91XW89+Ao82SKhLCqp9Zm6vq079WnKiFF11djbEK0TpUElTNydn3czF4LPJV9UxFm4STgrcD7Co75qrs/rob3GjZlmX1FQjiNp9amkZ7mvfpUJUSTuMfLUAshzDl1rXrwJeBjdZzI3b9iZpvrONfoKfJkykJ6Y5xk3CeBqXJ9ZTyHQ5/GhUUl6hK73wJ+VNO5QnigmX0buBL4c3c/N32AmR0PHA+wadOmFpvWIkWeTEhIb2zhtL4JeMj1lfEcFn0aFxaVqJKNeUrG5v2BI4EjgL+qq1ElfBM43N1vMrPHAp+YvP8y3P1E4ESAbdu2lSXWDJMiT2bajMahMzQBl/EcFn0aFxaVqOLZ3YGV2Zg/Bb4KvNjdT6utVQW4+w2Jx6eZ2dvNbL27X9vG+/eKMk+mi5CeQnLVGILx1He6jz6NC4tKVElQeWiD7QjGzO4ILLm7m9n9iUqe9aiOVMvkeTJFQtiU8VJIrjp9N576TpfTp3FhUYkqYcx3A69x9x0Z+w4HXuHuvzdrg8zsZOChwHozuxx4BbAfgLv/M/Bk4Hlmthv4CXCsu48zTDkrSSGMBe6C1NdXp/FSSK46fTee+k6X07dxYRFMlTDm7wL/zL75bUnWA88BZhY7dz+uZP9biaYmiFDSvfM0dRmvIYTk+kbfjae+05UMbVxYANWzMfM8qHsA18zYFtEUWb3zNFWM10WXwFWJIdIN62Hr5v6H5PpKn42nvlMxEgrFzsxeyL7KKA58wsxuSR12ALBINBlc9JEQIQs1Xmmhg33P1x68ch/AATKMg6XvYVYhAinz7M4DPgoY8GKiyeNXpY65FbgAyJqaILokHqcro4rxyhKzeHueYF5/U9SWvnoveSgLsf9hViECKRQ7d/8c8DkAM7sR+L/ufmUbDRMzkuWBZbGwEHVlLtgRGbRZDFmRBzm0hAZlIe6jz2FWIQKpMmb3buCORFVLlmFmvwpc4+6X1dUwMQNLO4uFLu6dQ2TA99Rk0EMrtwyBIWUhygMVopRVFY59B/DMnH1PB94+e3NELZSFLo+6V2QMywpJZ7Fhff72olDo0BIahiLasQcatyvusCzN79RTIbKo4tkdRTT1IIsvEU09EH2gyCAnRaeKQU96D2aQnNoYZ2MCXH/jSq8yPSbYpCdS17mHkoU4JA90aMhjHhVVxO42FC/e+gsztkXURVE4MSk6oQY9PX7lHgnY1sNX/vi3boZDDso3Ek2OhdV57qFkIQ7FAx0aGrMdHVXE7jvAccCnM/YdB6xYeWBU1N3La7LXmGWoIfLAku8RatCreg9FCQ1NeiJ1nnsoWYhD8UCHhjzm0VFF7N4AfNTM1hDNqbsK2EAUvnzS5G+c1N3Lq+N8ZWJptu/x6gW4y6aV5w416HV6D2XnmqUTULeXM4QsxKF4oENDHvPoqFII+uNm9hzg9UTC5kRJ61cAz3T3TzTTxB5Qdy9v1vMViSWsNH57C6LPIQa9Tu+h6FyzdgLm0csZigc6NObxXho5lcqFufv7zewDwF2BdUSrDVw4+kLMdffyZj1fWRZl3eGXOr2HsjX4stoeF68ua/+8ejlD8ECHxrzeSyOm8krlE2G7ILnNzI4Gnu7uz6+rYb2i7l7erOebRixnCb/U6T0UnSu9IkOSEA9PXo6oC91Lo6Oy2MWY2b2JElOOBQ4DdgHjFLu6e3l5CSS795SX1SqbP9VU+KVO7yHvXEVZpKHe6di9HKXDt8fY76U5o8qkcsxsq5m93MzOB74B/DlwPtEY3p0aaF8/WFwXpdnHgrFm/+y0+6rnW72wfPuePcUTguMxrSK2bIyEOMlQwi9ZbU8y78kBmkAuxNSUenZmdijwNCIv7j7AXuDLRBPM/x54nbt/pcE29oO6e3lxBZPde5Zvz/NglnYWh/kgEuEhh1/iNuZ9znlPDlA6vBBTU7bEzxnA0URZl2cRLfdzirtfbWaHEInd+GkqdBQ69hbi0cE+723I4Ze43UoOWElX6fAKnYoRUObZ/frk/xeANwJfdPeSVUBHRpOVFELH10IWX03Oqxs6Q/ZOpyFUTLpIh1clETESysTu4UThyycBpwPXmNlHgA8x9oopMU2GjkITX0J67u7jCmcN2TutQhUx6SIdXqFTMRIKE1Tc/cvu/kdES/scQ+ThPQf4CtHCrk6UiTlemgwdhSa+zDolQfSXKitP1J0oFYIqiYiREDT1wN13A58CPmVmBwKPJ/L4HgW8z8z+Cnifu7+xsZZ2RdOhoxAPJm+qQlNtmgWN71Sjqpi07fGqkogYCZWmHgC4+0/c/cPu/gQij+8PiRZ0fU3djesFeenwB7T4Y0/36LPoQwJHaGr80k446xw4Y3v0f55T5/O+076IyZCnsgiRwOqq9GVmd3D3q2s5Wc1s27bNt2/fPv0JvnUBXH/Tyu3Jddzapo8e1Fnn5HsBR90repweo4L85YLmgaLrAWHfcdP3Qh/vNSHyyczWm6qCipmtAi4GftvdzwXoq9DVQpbQQbRIaVrs2jIMfUzgCAnJhSY8zIuBzcs8hbDElTayJft4rwlRkWnLhRmwGVhTX1NGQBXDMyRjftEly1cfz/NoQ8Z3QgRx3tLds8TkrHPCOgXKlhQiiKlrY4oMqngtQzHmaaGDfc/TgheSGh8iiPNmwLM6PqGJK8qWFCKIygkqc8mG9WHbQw1PlXTzrkkLXdH2kNT4kISHeTLgeUk96bqpMenElb4nuAjRE6by7Nx9j5ltIcrCHD+xB1MWygtN0x6zMS8b3wmpjrJ6YWXN0Hj72Mjr+NhC1Akom0CuddeECKKy2JnZ7YB7EE0m/wxwnZkdANw66lJiWzeXZ16GGp55nLtUZYwyL0F4jEsE53Vw9uyBI7eUX7N5K63WJkMaVxelBIudmS0Arydas+5AItNzP+A64KPAduAVDbRxOIQanrZ643X8WDeszw5Z5oV289pRZYxyT4ZXV7R9yBR5saFZkMqWrJ8hjauLIKp4dq8jmkB+AvAl4PuJfZ8E/ph5FzsIMzxt9Mbr+rGWhXBDBLVqwklfPd+6e/pLO7OFDsIW8h0DffWe5i1Jag6oInbPBl7q7u+ZeHlJvgfcub5mzQFpwYuTU+r6IZUlwVQxMHkh3FBBrTpG2cdxqCZ6+mUJSUnD2ldRmIU+e09jHlefU6pkY96WSNSy2B8YYfZAgzS96nTRj7Wu9w3NKq2aMdhFweMymsigLTOc8f6xrlDe56xkZbmOjipi9z9EKx9k8Rjgm7M3Z47I+6FfsKMeI1b0o6zLwIT2fqepr7i4Liox9pBt0XE7rui2lmYTPf0ywxnv77MozEKfvSfVBB0dVcKYrwU+Oln14CNECSr3NrMnAn9EtBKCCKXoB11HKCd0pYSQ9uQRMrYWh9+S7agShssLdV1/I+y6ob2wXhPjiEXfUdKw9lkUZqGvY7OgLNcREix27v5JM3s68Cbg9yab3wlcATzL3U9voH3jJe+HDvUMhKd/rCHtKSJrzKhsbC2vyHEVo5Hn1SQTZtoY62liHDHvO0ob1rZEoe1xwT6OzSZRluuoqDTPzt1PAU4xs63AemAXcKHXtXTCPFHmedW1OOziuvzVCGLKDEyed7X18Ogvz0DWkdEWeh2azpRrqqc/7XqGdYlCUuCStNGBkPckWqTKPLuXA+909yvd/SLgosS+DcAfuvurG2jjOIl/0BfsyN5fZ6+9SDBCDEyRaB11r/zXth1+azqs11VPvylRyPK8k7SRai/vSbREFc/uFcBnyS4RdqfJfoldFeIfedOhnKIwWJz8ccGOfCM6rWi1PSbT1lhPF9MAmhCFrE5MmmRGqDwwMWCqiJ2RX7DpUKJKKjNjZu8GHgdc7e73yNhvwD8CjwVuBn7X3YebCdpGKGfLRrjwEkhGm81g7cFh85zyRGthYV+INKvdbY7JtDXWU8fcsLRwrD243WSbmNCx3D7PhxMikEKxM7PnAM+ZPHXgHWZ2Q+qwA4B7Av9RU5tOAt4KvC9n/2OAIyZ/DwDeMfk/XJK99tgQFnlaVbn+xuVCB9Hzq68LG1PLG1/cuxdumVQAyTKAdQh5XjmtVatgv9XtC8Ss45BZwtF2sk1MUZIU7OtAqJqIGAFlnt3NQDypyYDriZJSktxKVBD67XU0yN2/YmabCw45BnjfJCnmLDO7rZltcPer6nj/TpmmB10WXlramb9MT16tybQBzBKtPXtWitC0FVqKuMumbK+0q0nms45DhoQO2xKSoiSp5PeWN6489KkPYq4oFDt3/wjRnDrM7D3Aq909585vjY3AZYnnl0+2DV/sqvagQ8RxmonHWWNf6TGjM7ZnvzZuQ10hr75l7M06DhkqEG0ISei17fN8OCECqTLP7rlNNqQClrFtxViimR0PHA+wadOmpttUD1W9hhBxLDKaqxdgr083plY2T7CoTVXpU8berOOQZaHD5HFt0PXUByFaotI8u0l48ZnAVqKxumW4+1NraVUxlxOtpRdzKBkZou5+InAiwLZt29qbBzhL1lrVHnSIOBYZ17tMOgHTtDfPAIbMGxxyZt+snmZIZZuqQtL09eybdy3EFFSZZ3df4AyiEOJW4BzgEGAzkQBd3ED7sjgVOMHMPkSUmHJ9b8brZs1aq9qDDhHHPOO6Yf3KRJIq5BnAPEMerzI+hsy+WTzN9HVbvQB79u4bk1y9EHVCqmR2tnE9++RdCzEFVTy7vyVapPX3gJ8Bv+/u3zSzBwEnE5URmxkzOxl4KLDezC4nmr+3H4C7/zNwGtG0g4uJEmj6El6dPWutag86T1z27InG1OLXF1U5mYW0AVzame+xxL51UQHs628sXw1+DMTXLRaqZPLN3opBCGVKChFEFbG7N/BGIP5lHQDg7l8zs1cBbyCadD4T7n5cyX4nWi29f9RRMaRKDzotjgsLkaHbnZoOsPXwqNLJNFQJkRUlw+xJtCmPOGt0FsEbUoi0yXJqypQUYhlVlvhx4NaJ2FwNHJ7YdxnRvLf5pos1sJJL4axeWDmfbpalYKquo1ZWliz5P4+8aRIhDG3dtzqEquh69vVzC9EBVTy784BfAr4E/Cfwp2a2nWie3UvIX9h1+IR6C11nrYUaz9DPUxRyzJr0XpQME1+DkASNpZ3TeWNth/Rm9SLrSOkvup5DGwvtmiFFBURlqojdiezz5v6KqGLKBZPnPwaeXGO7+kOVBICus9byjOfqRFmvONQZe4BFn6fMw0i/tkoyTN5EZZhenNoM6dWRGFJH56joelYV+nk29mNInBKFVJln9/7E4/PN7JeBBxGN3Z3l7lc30L7uqeotdJm1lmU8zaIxvHgcL6tqSt7nCZkTlq6akrVIK6ysoblhfX7IclpxWljI/nxNhJHr8CLr6hzVUeVk3o29En1GT6V5dknc/Sbqq4fZX4aUAJBlPHfvyS8LliTr84Sudp6umgLLPZS8tfB+uHPlGCOsFKcQj6MoE7SJMHJd90VdnaNZQ6LzbuyH9DsXU1F1UvkBwEOIynOlJ5W7u7+jrob1hi5LJU0TVgot65Umr0QYFIccY/IMZdG+u24uD+OFehw7rsgWztULzRjrvpXQmjUkKmOfz1nnzFdId6RUmVT+MOAUIO8bd6IVCMZFV0kndYWV8kJ7SYo+T96aeyEUGcpbbg0L44V6HHnvlbViQh10nYyUZtaQaFHIet6N/byFdEdKFc/ubcC3gBcAF7v7z5ppUs9oI+kky4OrK6yUVUk0yeqFqJtywY7o3FmfLX0NQom9nCIPqCyMF+pxtO1pLa6LJsEnxx0X13ZrDGcJiRaFrOfB2JeNT89TSHekVBG7w4AXuPv5TTWmtzSZdJLnwYXUmAyhyLM5cku1TNPFdeFh0bwxu/S+MkIXjl17MCztas/TWtoZvd+ybbvgkIOGaRDLOjRjN/Yh49MK6Q6aKpPKPw9MWYZD5JLnweVR1VMpmuhe5D1WPd/CwvKJ44tr9y1Cu8qi/fG+KmvRbdkYiVaavXuXTx5f2hW9Z7INTa55N8216ztxgYI8xmzsF9dF90vR70tLGg2aKp7d8cDJZnYg0cTyH6UPcPfz6mrY3FBkQNKrCEzjqRSNLU2Trp53viMSxYvT3uruPdExR26ZLq0ewhaO3XXD9GXRqjLmhI42Q8J9mtuXrlnal/FYUQtVxO42wBrgNaxcP84m2xZqatf8UGRY4rG7WedgQfZ58kJWRUatzqSSIoqMYNHCsW3Rt2zMOglNvplVqPo6t6/r4hCiEaqI3QeIxu2eT7TiwAi6sD2gyLBUHSvMMz5555k2o7CupJI8yoxgH4Rm7cHZk+LXHtxeG5oixNjXIVR9ntunJY1GRxWxuy9wrLuf2lRj5pK6epFZxufCS+C7l0Zhv6zzNtWDbXqCcx/S/nfdUG370Cgz9lqxQQyMKmJ3LvALTTVkrqmjF5llfNyXL61z4SX73q/O907T9ATnPqT912mo+zRuFUpdKzZ07aGLuaGK2D0f+Bczu8zdz2yqQWJKQoyMO1x8afOGNMtjXHvwvuzMMoNeZgT7kPZfl6Guc9yqTtEsO1dTKzYoEUQ0RBWx+zRRksoZZnYrcGP6AHe/Q10NExUJKdoMzVUUSZP0GKsa9DIj2IexnrrG7Or6LHWLZtm56lyxYWherRgkVSuoZBQfFL0gtGhzF0yzckT8uiwjWBRCa6u01SxjdkmvKY+q4dA6OwAh56pzxQaJm2iBKkv8vLLBdohZCS3pZWX1wxpgmvGdIiNY5MU2lb6eDutNO2aVNYcri6rh0DrHEEPPJaESA2LqJX7EQFmoUjSnJorEIXRV8qTYZFVUSVJ3SDMrrJdHmUhleU1pphm3ChlDCx3TU+KIGCGFYmdmpwAvc/fvTR4X4u5Pra1lohqhHkNbY3ZJiqq1XHxp2Fp1yc8WEqqtM309RKAgTKTK2jVtOLBsDK3KmJ4SR8QIKfPsbg/sN3l8BzRmV8VPjBoAACAASURBVB91Z86FrDkH0SoHbbO4Lr99yVXUi9aqqzoWWacXUubJVfkOi7ymWUqdlY2hVRnTU+KIGCGFYufuD0s8fmjjrZkXmsicC2VPRwksodmie/dGwpicojCNl1ZnJZM6BWpWr6mok1Q0hlZ1TE/jcWJkVFm89eXAO939yox9G4A/dPdX19m40dJ05lwRWat5h3DRJctT7Tesh62bw18/TbZo3AlYvVA9/FpnJZM6w3qzeE2hnaQsQdQ4nJhzqiSovAL4LLBC7IA7TfaPV+zqDDsW9bKrvk8bpZW+dQFcf9PybbHwhQpe/BlCw60xe/eCLaxcAaKMW26NCkbXEYKrIlAh39+0XlNeJyk57rmwEG2LOzWxIC6ubXe9v1CGWD1GDJIqYhevbJDFocB1szenp9Rdnb1oQdKq7xMaHoypOma3tHOl0MVcdW222BUVpK4qdhCVPDtyS1jqf5q6piKECFTTVfzzPnNy3HNPhgccL3+09fDpPcomBKmvqx6IUVKWjfkc4DmTpw68w8zS8aEDgHsC/1F/83pC3RU78sJixsoxtbL3yQsPmq0MWZrBXTZVa2vVxUjLDNg0IcnVCyuNbdl8wiRtVVdpurLLwkK2mIVwy63TeZRNClIfKuGIuaHMs7sZ2Dl5bMD1QKooIbcCnwHeXm/TekTd1dnzwmJFi6kWeUsQhbKSIhILXSwu0/bI667kUXXI0Cw7YzMrLFdEXF2lyXBZ01X8Z6kHMO3YXJOCpFUPRIuUZWN+BPgIgJm9B3iNu3+/jYaNnliolnZGQlUU3ltdEt5cXBcZnyyPaWEBjr7P9O0sChluWL9yW5kBq+KZrNk/+kzp12SF5UKIj2sqXNZ0Esi0cyRnGZtrcnWHPE9VSTOiAYLLabj7c9NCZ2a3M7N7m9ma+ps2ByztjJbdKTJiq1ZF3lBe7zqmqV7ylo3ZFUsO+cXs8bo8QxVvr2LIjrpXvjjGYbmj7gUP2RZ+zpj09auDrGsVIjRLOyOv84zt0f+lndnHVbl28djsmv2jTsG0ol72fYYSh0OTHY4sr7wPSTNilFSZevAqYI27v3Ty/OHAJ4lWQvihmT3S3c9tppkd01SPfccVxVMBQsKbZW2ElVmJVRIOyjIR0+dae3Bx1l/oFISkOIZc+6qJOlB/uGyaaQVZY2IX7IjW60t3JvLGehfXRp5uEyHauqZd5K23uHoh8vCUjSkapko25jOA1yaevxk4E3gV8DfA64HH19e0HtFU+aQyYxtPWM4L1SUNfpmIxKG7629cLkYhIb28xIYsQ720q9j4hhasLhLHrGufd1xRqLOJcFnVJJC8eZJXXbt8fb64U5E8tg1xqKuaSlEm6SxhdiECqSJ2dwK+D2BmhwG/AvyRu/+Xmf0d8J4G2tcPmiqfVOSNlAlZ2uBnrd6dZu/e7P2hCQdpL27Pnuzw6q4biiuLxIJwxvbiY5L/Q+auFR3X11qPRYIffydZdU/j9rfhBdVRTUWT2kXHVBG7G4FDJo8fDlzn7v81ef5TonDmeGmifNKWjdGYXVYoMy1kUG7wZ6kaUnVpmqLjQ8ODoQYw9NrnHdfnWo9FUzHiazOGFH0VlxYdU0XszgBeamZ7gT8nGq+L2QpcVmfD5oKsaQMLC3DEpumqbswyBlXH0jSh54pp0wD2sdbj0s7i5KT4Oo4hRb/PHQ4xF1QRuz8F3g98CPgW8NeJfc8GvlJju+aHOoxwHF4MYcP66cpGhRrWKmI17waw6DtLXsc+hADrqKLSxw6HmBuqrFR+BVH4MotHEYUyRduErmMH0QTtQw6KHifH7hbXTr80zcJCFIqb1giGGsAx1lAs6kAkpwt0HQJUWS8xAupaqfxmovXusopEiyapEl50j0Kme1NjhEu7lmf+ZZFncLNCrnUzVmNb5LElP1fXHvAYxgzF3FNWG/NW4Gh3P3vyfBXweaIszO8mDr0v8DWgg5VB55yq4zZZY0TxGnI7rsg3olXn29VpjIdkbEOuQ/KYNHkeWxMhwNDvbAxjhmLuKfPsVrO8Ip8BDwUOaqpBoiLTTKbOo8xjqjLfro1q/30ztiHXoSjs3KbHVuU768OYoRAzElwurC3M7NFmdqGZXWxmL83Y/7tmdo2ZfWvy9wddtLM35JWompZpymgVeV51UFfJqqYJuQ55Yed41fM+hCbTTFsGTYgeUdeYXS2Y2QLwNuA3gcuBs83sVHc/L3Xoh939hNYb2Efywot5YbLVC9GYXdE4X11lt+ryvNpM0JglHBtyHeq+VtO2t0o7uh4zFKIGeiV2wP2Bi+OC02b2IeAYIC12IkleeDFLIOL17IrKdVX1mJoOc7VlbGcNx4Zchzqv1SztrdoOTRsQTdFSpnWI2P2JmV01eRyP373QzJYSx2yoqT0bWT45/XLgARnHPcnMHgxcBPypu6+Y0G5mxwPHA2zaVHHB0iFQdoOUCURZGaoqFHledd3IbRjbWRNhQjzQOr3UWdrb9XQGIaDVTOsysbsU+LXUth8AD845dlaylqdM19L6d+Bkd7/FzP4YeC8Z8//c/UTgRIBt27ZVXTK034TeIGUCUZfHlHceGNaUgVlDjCHXs04vdZb2KjQp+kCLmdZli7durvXdyrkcOCzx/FBSc/fcPbnY1/8F3thCu/pFnTdIXR5T1nnOOiesndN4f02EPuoIMYZcz6xjpvk8s7ZXoclixljIoG+0mGndtzG7s4EjzGwLcAVwLPD05AFmtsHd47Dq44Hz221iIE3+UIaSih/Szjwv9fob85cJair0UTW0V9d3PO3nUSiyOcZayKBvtDitpWxS+a+7+1ernNDMDgE2uft3qjbG3Xeb2QnA6UQT1N/t7uea2auB7e5+KvACM3s8sBvYBfxu1fdpnKZ/KG3cIHUY8pB25nmpyXJm6evXZOhjlUF86ryi3FDvdzzt56kjFCnvJZshFTIYMi122Mo8u1PM7PvAu4CPu/t1eQea2dFEntizgJcAlcUOwN1PA05LbXt54vHLgJdNc+7WaPqH0vQNUpchD2lnqDeavH5NeLZZyTrppZeKKp+k21iFWcfepr2n5L3kM5ToydBpcey4TOzuDLwAeAXwL2Z2EfA/wLXALcBtgS3AfYADiUTqEe5esCrnHND0D2Vx3cqFWkOKOYdSl1iH3MhVKsDExxW95qxzyn8sWd5M2WcOLbg9zXfcVYUSeS/5qGpMe7Q0dlyWoPIT4I1m9ibgN4iyHu8LHAkcQBRGvBD4IPBJd7+62eYOhKZ/KEs7o+LNy7YFFHMOpUisp639mHdslveXR3z9il5T5p3keTN571+0gGpRG6sQ4gE3EW6U95KPxkNHR1CCirs7UQHozzfbnJHQ9A+l6R55nlivXpi+9mPR9AhYbsjXHly85l76NWmKrkXetcujbAHVJNN+xyFFtpsIN8p7yUdTM0ZH37Ixx0HTP5QuynOZ5a+YkBSWIg8oT4SywhiHHFQ+X21xHZyREzGf5hqtWpU/Mb6MWb/jolBOU50beS/FaGrGqJDYNUWTP5S6S07liUq8ffVCttDFhNR+DN0fE3r9ql6LouOTNUWT1+Ksc4rbEAtEU993U50beS9ijpDYDZG6euRl4bHY6J11TrHYxcds2Ril6+8pOLbuEFnVa5E33nfLrdGafgAb1sPWzcv3FdF0UkeT4UZ5L2JOkNgNkbp65KHhsRAP4pZb4cJLVqbrJ2kiRFb1WqSPT4cuYV+Wayx4IRmjTSZ1dBFu1Pw7MTLKJpU/G/h0qkSX6AN19MhDw2Oh0wOKhK5Jg1n1WiSPzxvzu+rafWK39uDl0zyyaDKpo+1wo+bfiTbpyaoH7wEeCOw0sz3AA939v2pvheiG0PDYATWshn7UvWZ7fZfsuqH8mN17oh9tU2LQZrhR8+9EW/Ro1YPrgDtNHhsrVyAQQyYkPHbRJXD9TbO9T92JM20TIvR79ozH+9H8O9EWfVn1gGhe3fvN7EIioTvJzH6cd7C737/OxokZmXXNOygP3yUxWxnKbCJxpk42rM/+jBvW73scGsYdi/ej+XeiLXq06sHvAf8LuCvwq8AO4JraWyGqkxSyhYXI7969p9pacnV7T3dcVz4/LoQ2w2jxuFxS8NLZmFWqvIzB+2kzIaZPHrxon76seuDuNwP/B8DMHgH8tbt/u/ZWzDPTruWWNEbJVP9Y1Myq1Xqsw3vadUMkEkMrY7V183JxSxN/nu9eWjytAvrt/YTea20lxPQtEUbC2z59WfVgkpRylLufDXwZCBipF8FM+2Mvq9NYtK+o1mOW95QX5is696xM29tr2lgVZZtCv6uPhNxrbRv7PiXC9E1454UerXpwK7Bm8vjZwDuIQpmiDqb9sc8iKmW1HtPbs8J8WXPTkueelWl6e00bq7IORt89gaqrOrRh7PuUCNMn4Z03+rDqAXAe8Eoz+wTRqNCTzWxbzrHu7u+otXVjZ9ofe0jCxOoF2Ov5glHFe0qH+bKKPdfp1WSVK3OiCic7rsgWlbqMVZ53U3S9H5L3k+gRZfdaF8a+T4kwfRLevjGS8G6Z2P0J8C/A3xOZmz8vONaJPD8RyrQ/9rKEiVWr4C6bosd5N+kssfI2Qg9xby/U46jDWBW9V58M8zSUtb8LY9+nQtRD/36bYkTh3bIEla8B9wQws71E43eaVF4X0/7Y02KTlY0ZC0XoOaoKVluTnPM8ju9euvz96zBWRd5NnYa5i55yUfuL7pMxVYYpok/C2ydGFN6tUhvzYURhTVEXs/zYy8Rmaee+wsawvNBx/LqQc3RtiPI8iz2piiV1GKsi72aa7yrr+kE3PeW89sftyaINY9+XQtR9Et4+MaLwbrDYufsZTTak91Q1/FXSvJv4QX330vztIe/Xdfgivn5FJHuXdRirMu+wyneVd/3KpoQ0SVb7zzonPxy+9fD5MvZ9Ed4+MaLwbtnUg6uBR7n7f5vZNZSUC3P3O9TZuN5Q1fDXJRSzeFZ588Fij6jsvF2FL5Z2wsWXli8pBCt/hLMaqzLvsMr3UXVF9K56ykXv28S8OnlOw2JE4d0yz+5twFLi8XzWxqxq+OsQiiY9q/R5L9gR/YVkHzZplNOh1zLq7l0WeYdZ38eFl+ybaJ423lWvU1c95bZ67l1HCsR0tBHe7cOqB+7+qsTjV9b+7kOhquGvQyhmFcyi1cXzPIyQ7MPVC1Hoq44bc2lnWFWSLJrqXeZ5h1nfh/u+tqeNd9H1K5oS0jZt9dxHlOgwdzQZ3u3RqgfLMLNNwOLk6ZK75wwMjYyqvd86esvTCmbcS8oSuqxCzWmKsg/NovPuzjHwZW1KJ0ZU8eKSdBECq1oIOk9EyqaEtE1biRkjSnSYO5r0vHq06gFmthp4GfA89gldvO+HwNuBN7j7FN3zgZC1eGdR77eO3vI0gpk12Tv5ui0b9920ReRlH+7es9ILS9+Y6R/G2oNhaVd2okZVirzVpgld+SA+pkxE+uTNtJGYMaJEh7miac+rxU5QWYKKAf8OPAL4N+BzwOVEs7o2Ao8CXgU8CPit2lvXB5Z2RsY6zeLa/C+7jt7yNMkSeSWt1uy/fPHUMo8qL/swb1Xv+MbM+mFk1dUMWT0gTexVxuctSxCa9trnvTZ05YOk8VZ23z5GlOgwVzTtefVl1QPgGcDDgce4++cz9r/bzH4T+JSZPd3dP1h7C7smT0DKVq+e1dBVTZYoMsTJm2lxXbHYFRmgIu/mrHMiMZpGyIowi9pU5lHGzNITDXltsoRZ2ss0m27tvr6ENJtE89iGSdOeV19WPQCOA07KEToA3P1zZnYSkTCOT+y6HGuokixRVqQ4/Tyv/UVzq4q8mzqvRywksUHME+es95ylJ1r22uT3kZU5mh4PLROyectQlKc7PJr2vFrsBJWJ3b2BdwWc53TgLbM3p4f0cayhSFjSKxJk9ZLyRGvD+uKbLH1j1s3qhSiBI2vOX8h3sLRzts5JldfmTXivsoqAMhT7y7x43GW04Xm11AkqE7t1wFUB5/nh5Njx0cexhrxEjVgsyn6ki+vg+htXjqct7YpWGs9LNonPtbguf/xuWtLjiitWYk9lkqa/g1hcis6fde7k56rSsSkSxnhqRpq0kClDsZ/Mm8ddxIjCz2Vitz8Qkv62B9hv9ub0kD5+2XmzB5zwXlLWmGOV9c1CsxM3rF+ejZlH8lx5K7Gnw5vJz1m03lw6sSfvc1Xp2BR9/qLrktzXx6iBkMedZiTh55B5dn9iZmXe3YY6GtNb+vZlF5UCS1IUiikz1GU/+NDsxK2bI2+xLPSZNPB5wrWwAEffZ99nS05uLzp3chyy6HPFnmVIxyb086dJfs4+Rg2EPO6RUiZ2lwK/Fniu+Zhg3gdCPIJpPbPQ9c1Cxu+ypjCELPxa9t5Zny2PNfsvF6uQzxXSscny+MuMYfpz9jFqIORxj5SycmGbW2qHqEKIRzCNZ1Z1JfNYGKqsXB5i4MveuyhkmSSrDXUasrQw5o3VxefPGz/NE7eLLlk+rrph/fIV42OUTFEv8rhHSaVyYaInhAhGVc8sZCVziCqiTNOe9PFFxrjM2JR5ckVtaNKQ5Z17mqVy0kIH+54nBU/JFPUjj3uUSOzGShXPLIvQjM2Qc1WlzNgUfbZkRuc0526y3VXIqjwTb0+K3azJFPIKs+nbOL2YGYndEAnpzc/qwSztzC/11dVCozGzfrYmDVnbRnKWZAp5hWKOkNgNkZDe/CxeRtmctSaz0kI8DYWZ9jHLGKRS7MUcIbEbIqG9+Wm9jLIEkKay0qp4GmMPM21Yn+1Zb1i//PksXq5S7MUcESx2ZvZL7v69JhszeZ9HA/8ILADvdPc3pPavAd4H3BfYCTzN3S9pul29ounU6DJjF1cJqepNlXltQ/E0ij5HXWNg8bhcWTZmnpcL5YvsKsVezBFVPLvvTtav+2ri7xz3stVAwzGzBeBtwG8SLSV0tpmd6u7nJQ77feA6d7+LmR0LvBF4Wl1tGAShvflpDW/InLGq4zshXltVT6OL5IqizwH1joFt3Zw91SBN2ssN9ZCrZNwKMXBWVTj2fsCbiATyfwP/Dewys0+b2UvNLHTyeRH3By529++7+63Ah4BjUsccA7x38vjfgN+YrLs3Pyyui9LZ4x74mv1XprfHBi8WitjgLe0sP/+WjZF4lhF7XSFcfGm+1xZTtPJ7mlk+3ywUeZ9F+9oktB2L62Bx7crXL+1q/joK0TLBnp27fwP4BvAPAGZ2JPBg4OnA64gqMy7M2J6NwGWJ55cDD8g7xt13m9n1REWoc3K1R0rZmNUsIcEq1UFCs/7yVhhPvr7K+FNXIc9Z62G2QZU2ltVIFWIkVE5QMbOtwK9P/h4MHA6cSxTWnJUsDy0dJg05BjM7HjgeYNOmTbO3bGjMmnwQWh0kNOsvj/S8v/j4stBkV8kV05RZa3sMrK7VG4QYEVUSVP6NqE7m7YBvAmcCLwK+6u7X1dSey4HDEs8PBa7MOeZyM1sNHALsSp/I3U8ETgTYtm1bbeOKg6HM4IWOdyWPSzNr1h+sfH1olmVXyRVl3mcfykzVsXqDklTEyKji2f0O8FOixVw/A5xZo8jFnA0cYWZbgCuAY4nCpElOBZ4D/CfwZOCLdSbJjIYigxeawJBV8zImb+XtKuvELSxMHypbe3B2an5eckVdySwh3mfX8/+qeMiqAynmhCpiF4/R/TrwT8BhZnYe8JX4z91/OEtjJmNwJxCtfL4AvNvdzzWzVwPb3f1UIrF9v5ldTOTRHTvLe46WIoN31jlh41158+2yynJNs07cETOEl7PGmvK2110ppKzMWtdjXVW99uT3Ms8T9MWoqZKgchFwEfBOADM7lEj8jgeeRzRuNvMkdXc/DTgtte3licc/BZ4y6/vMBXmGN3Scpsp4Tl3rxIVSV9vGZtRn8dpjj25s10QIKorTJMX/PuxLUPk14A7ADcDXam+daIbQcZo6Ex2KPJ5pQozzlIRR5fqECvs8dQCEoFqCyunAUcBBwNVE2Zevm/z/lsbNBkToOE2V8ZzVC9nTC1ZnzEZJGu+Fhej88e0TGmLsaxJG3RPdq4Zgm/DahRgBVTy7HwIvJsq+vKih9og2CE1gqJLokNfVSW9f2gkX7Nj3fE+GQIZ4GHUmYdQlUE2sIlDVA2vCaxdiBFQZs3tOkw2ZW7paTyw0kSL0uCzRytr+3UvLzwX76m+WiXHoZ4Ds61ynQDURGqzqgTXhtQsxAqaZVH4osBU4IL1vklwiQhnTemKhnkKeKGaRLgUG01+XPGGsU6CaCA1W9cCqeO3pxXkX1w7vvhMikCpjdgcBpwCPjDdN/icDVbOWC5svxpQk0LSn0NR1qVOgQoWpijc/zXUN8XiXdkY1MJdty1mFXogRUMWzez2wiSgL80zgicB1wDOBhwPH1d66sTOmJIFQjyIvkSWEJq5LXZVmIEyYqnrzTS1U20VHq6uQvRBUE7vHAv8f8PXJ8yvd/WzgK2b2ZuAvgKfW3L5xM7YkgRCP4i6b4MJL9mVfVqGJ61JHpZmY0OoqVUWmiYnqbXe0xhSyF4OkitgtApe5+x4z+zGQXBvkNOCjtbZsHpiHJIGs3vxdN+fX24RoOoJ7O9eljkoz6fMVGe++ePNtd7TGFLIXg6SK2F0GrJ88/i7wOKKyXhAtw/PTGts1HzQVouoLF12yPAEi7s1vPTyqqpJXxSMuI9bWdZm10kwV+uLNt93R6ovIh6KQ6+ioInafAx4BfBz4e+C9ZnZf4BaismFvrr95c0Afaik2wdLO7ELNyd58mdh3fV2aEKa+ePNtd7T6IvIhzBpylVD2kipi95fAbQDc/f1mdhPRqgMHAicA/1J/88RgKVrDLmn0mhb7WQxPE8LUJ2++zY5WX0Q+hFlCrhqb7C1VJpXfDNyceP5xIi9PiJUUhafa6s3PaniaEqaxevNF9Enky5gl5Kqxyd4y8yoFAGb2MOAl7v6YOs4nWqDpUEte2Ara683XYXjmUZiaYijXcpaQ69DGJkMYSVi2VOzM7LbAo4lWB/8+cKq7/2yy7ylE4c1fJVr+RwyBNkItWWErgA3r2/uhFBmeslJkbTESQzIqZgm5DmlsMoQRhWULxc7M7gn8B9G0g5hvmtmTgA8SrYJwHvAM4MNNNVLUTBuhlj6ErYq8yzpLkU1LlbXn+iiIfW3XrMxy7w5pbDKEEYVlyzy71xGtVfcE4NvA4cBbgLOBNcBz3P0DjbZQ1E9boZauw1Z53mWarn68IYakrz3rvrarLqa9d/vQyauTEYVly8RuG/BCd4+rplxoZs8jmmd3vIRuoIwt1JJHluHp0483pC197Vn3tV19oOtOXp2MyFaUid0icElqW/z823U3RrTE2EItRaQNTzxWl6aLH2+IIemTOIe8f9ftEvUyIlsRko2ZV8Rwd50NES0ytlBLCMnxpTRd/XhDDMk0Pes2xtJG1OMXBYzIVoSI3elmliVsX0hvd/c71NMs0TizhlqGlJyQVZYsputJ3VB8Hav2rNsaS6urxz+k+2heGUlYtkzsXtVKK8Sw6EtyQqihzBpfgug1R92r+XYWERuS+LNcsCP6H3+Wqj3rtsbS6ujx9+U+EnNBodi5u8ROrCQ0i7DJHnsVQ9n38aWyz1KlZ93mZ521x68kF9EitVRQEXNGmUHNM97X3wi7bqhHAKsYyr6PL9Vp9Jv6rE10XvreCRGjQmLXFGMeiygzqHnGO2u5H5huAnUVQ9n3jLI6jX7e3MK1B1c/V0xT4ca+d0LEqFjVdQNGSWwc0lU6lnZ226662LIxEoskSfEINdKx9xJT5brlGcSs7YvrojX04n1r9o+e96XzUeWzlLG4DhbXrty+tGv6+6/I85yFsvtIiBqRZ9cEYx+LKEtOKJq8nWbaCdRVvbU+Z5Rt2QgXXhKtzh5jNr3R33XDym2z3H9NhRtHlNa+jDFHdQaMxK4J5mEsokg8Qst0wfQTqPtqKKc1dO7Fz6tQ9/3XZLixz52QaVCGaW+R2DVBX8YiZulhzvLaLCFae3AUSqtzAnXfDOU0hm5pZzTdIItpPbGq17Hsu+77mGefGHtUZ8BI7JqgD8Zhlh5mHb3TLCE65KByo5pl+IdiVKsauvg65zGtJ1bl/gv5rvvqRfeReYjqDBSJXRP0wTjM0sPMe+0FO6K/aT9PiCdmtnLsqi+UeUBVDV3eZPeYaSMBVe6/0Pukb150X+lLVEesQGLXFF0bh1l6mGXH3HJrlFDx3Uthz576xHzHFdljV30IAYV4QFUNXdF1njUSEHr/yROplz5EdUQmEruxMksPMySb0j0SOsg2/NOM+fXZ8IZ4QFUNXdF1nnVqROj179oTGVvmYh+iOiITid1YmaWHWSWbMiZp+Kcd8+va8BYRIsRVDV3ed1SH0IVe/y49kbFmLnYd1RGZSOzGyiw9zMV1UWmvZMWTEGLDP+14YZ9DQKFCXMXQNeUFVLn+XXoiylwULSKxGzOz9DCzJiaXERv+acORfQ4BNSXEs3oBWWHAqte/K0+kz2FrMTokdiKbIoOzegF271m+LWn4ZwlH9jUE1EchzgsDZn0/0I9wcJI+h63F6JDYiWyKDNFR98r2KADOOif7dX0JRxZRlizRNyHOCwPaQnS9+xgOTtLnsLUYHRI7kU2ZIUob/r6uBh7KEJMl8rzvPXvgyC398kKz6KO3LEaLxE5kU9UQ9XU18FlWM+9LskTeZyjyvvvmheYxlHaKwdMbsTOztcCHgc3AJcBT3f26jOP2AN+ZPL3U3R/fVhvnjiqGqOlkgxDRSh+TrsdZ5K31NVmiyONUGFCIYPq0nt1LgS+4+xHAFybPs/iJu9978ieh6wt1rsmWJmSdu6xjrro2fB22Jts/C2UeZ5/X6RPjYGlnNBZ/xvbo/0DX5eyNZwccAzx08vi9wJeBv+yqMaIiTXoZISHGsjqTSYa0mnmZx6kwoGiSIY5l59Anz27RUSsEggAAEQZJREFU3a8CmPy/Q85xB5jZdjM7y8yekHcyMzt+ctz2a665pon2iiRNehkhIcYq4cYhrWbeV49TzAdNrVLfAa16dmb2eeCOGbv+usJpNrn7lWZ2Z+CLZvYdd/9e+iB3PxE4EWDbtm0zrIQpgmnKywiZjxW6OvrQVjPvq8cp5oO+jmVPQati5+6PyNtnZktmtsHdrzKzDcDVOee4cvL/+2b2ZeA+wAqxEyMixODnrYW3YX1UDWaoqe1KzxddMqKJ/30aszsVeA7whsn/T6YPMLPbATe7+y1mth44GnhTq60UzVKUdVlm8LPWwjvkINi6ubXmN0IfPU4xH4wostAnsXsDcIqZ/T5wKfAUADPbBvyxu/8B8MvAv5jZXqLxxje4+3ldNVjUTNlgeJHBz1sLL/b2JBZCVGdEkYXeiJ277wR+I2P7duAPJo+/Btyz5aaJtphlYnfRGMJAs8eC6HI9uLGtRSeyGUlkoTdiJ8RMg+FFCSqhgjk0491lWviIUtLFfNCnqQdi3pklzX7LxmgsIY8ywQyZuN43ukwLH1FKupgPJHaiP2QJVuhgeDxPLo8ywRyi8e4yLXxEKeliPpDYif4w68TuxXVRtf9pBHOIxrvLCeea7C4GhsbsRL+YdTB82uyxIc4n6jItfEQp6WI+kNiJ8TGNYA7ReHeZFj6ilHQxH0jshIDhGu8u08JHkpIu5gOJnRAxMt5CjBYlqAghhBg9EjshhBCjR2FMIUIZWoUVIcTPkdgJEYLKYwkxaBTGFCKEIVZYEUL8HImdECEMscKKEOLnSOyECEHlsYQYNBI7IUKYpUi1EKJzlKAiRAhDrbAihAAkdkKEoworQgwWhTGFEEKMHomdEEKI0SOxE0IIMXokdkIIIUaPxE4IIcToUTamGC4qzCyECERiJ4aJCjMLISogsRPDpKgwc51iJ+9RiFEgsRPDIC06bRRmlvcoxGiQ2In+kyU6bdCW9yhEnxlJdENiJ/pPlui0gZb1EfPOiKIbEjvRHHX1CKuIi5bcEaI+RhTd0Dw70QxxjzAWqrhHuLSz+rlCBUxL7ghRLyOKbkjsRDMU9QirkreW3Ib1+4Rwzf6w9fB6e5tasFXMOyP6DSiMKZqhzh5hV2vJbdm4fLwC5D2K+WJEvwGJnWiGvOkB0/YIu1hLTgu2inlnRL8BiZ1ohrH0CLVgq5h3RvIbkNiJZhhRj1AIMXwkdqI5RtIjFEIMH2VjCiGEGD3y7MS4GUmpIyHEbPTGszOzp5jZuWa218y2FRz3aDO70MwuNrOXttlGMTDqnNguhBg0vRE74H+A3wG+kneAmS0AbwMeA9wNOM7M7tZO88TgqHNiuxBi0PQmjOnu5wOYWdFh9wcudvfvT479EHAMcF7jDRTDY0SljoQQs9Enzy6EjcBlieeXT7YJsZIRlToSQsxGq56dmX0euGPGrr9290+GnCJjm+e81/HA8QCbNm0KbqMYEUOa2K5EGiEapVWxc/dHzHiKy4HDEs8PBa7Mea8TgRMBtm3blimIYuQMZWL7iNYME6Kv9GbMLpCzgSPMbAtwBXAs8PRumyR6zRAmto9ozTAh+kpvxuzM7IlmdjnwQODTZnb6ZPudzOw0AHffDZwAnA6cD5zi7ud21WYhakGJNEI0Tm88O3f/OPDxjO1XAo9NPD8NOK3FpgnRLHWvECGEWEFvPDsh5pa8xWn7mEgjxEDpjWcnxNwylEQaMZ+MJFNYYidEHxhCIo2YP0aUKawwphBCiGxGVHJPYieEECKbEWUKS+yEEEJkM6KSexI7IYQQ2YwoU1gJKkIIIbIZUaawxE4IIUQ+I8kUVhhTCCHE6JHYCSGEGD0SOyGEEKNHYieEEGL0SOyEEEKMHomdEEKI0SOxE0IIMXokdkIIIUaPxE4IIcTokdgJIYQYPRI7IYQQo0diJ4QQYvRI7IQQQowec/eu29A4ZnYN8IMaTrUeuLaG84wJXZNsdF2y0XXJRtclm2muy7Xu/uj0xrkQu7ows+3uvq3rdvQJXZNsdF2y0XXJRtclmzqvi8KYQgghRo/ETgghxOiR2FXjxK4b0EN0TbLRdclG1yUbXZdsarsuGrMTQggxeuTZCSGEGD0SOyGEEKNHYieEEGL0SOwCMLO1ZvZxM/uxmf3AzJ7edZv6gJl92cx+amY3Tf4u7LpNbWNmJ5jZdjO7xcxOSu37DTO7wMxuNrMvmdnhHTWzdfKui5ltNjNP3DM3mdn/7rCprWFma8zsXRMbcqOZ/beZPSaxfy7vl6LrUuf9srreZo+WtwG3AovAvYFPm9m33f3cbpvVC05w93d23YgOuRJ4LfAo4MB4o5mtBz4G/AHw78BrgA8DR3XQxi7IvC4Jbuvuu9ttUuesBi4DHgJcCjwWOMXM7gncxPzeL0XXJWbm+0ViV4KZ/QLwJOAe7n4TcKaZnQo8C3hpp40TnePuHwMws23AoYldvwOc6+4fmex/JXCtmR3p7he03tCWKbguc4u7/xh4ZWLTp8xsB3BfYB1zer+UXJdv1PU+CmOWsxXY4+4XJbZ9G7h7R+3pG683s2vN7P+Z2UO7bkyPuDvRfQL8/Af9PXTfxPzAzC43s/dMvOC5w8wWiezLueh++Tmp6xIz8/0isSvnF4HrU9uuBw7qoC194y+BOwMbiSZ//ruZ/VK3TeoNum+yuRa4H3A4Uc/9IOBfO21RB5jZfkSf+70Tz033C5nXpbb7RWJXzk3AwaltBwM3dtCWXuHuX3f3G939Fnd/L/D/iOLtQvdNJu5+k7tvd/fd7r4EnAA80szS12q0mNkq4P1EeQAnTDbP/f2SdV3qvF8kduVcBKw2syMS236F5S62iHDAum5ETziX6D4Bfj72+0vovkkTl3Cai/vGzAx4F1Gy25Pc/WeTXXN9vxRclzRT3y8SuxImsfOPAa82s18ws6OBY4h6IHOLmd3WzB5lZgeY2WozewbwYOD0rtvWJpPPfgCwACzE1wP4OHAPM3vSZP/LgXPGnmwQk3ddzOwBZnZXM1tlZuuAfwK+7O7pEN5YeQfwy8Bvu/tPEtvn+n4h57rUer+4u/5K/oC1wCeAHxOlxj696zZ1/QfcHjibKMzyI+As4De7blcH1+GVRL3N5N8rJ/seAVwA/AT4MrC56/Z2fV2A44Adk9/SVcD7gDt23d6Wrsnhk+vwU6KwZfz3jHm+X4quS533iwpBCyGEGD0KYwohhBg9EjshhBCjR2InhBBi9EjshBBCjB6JnRBCiNEjsRNCCDF6JHZidJjZp8zsOwX732pm15nZmsS2XzGzD5rZFWZ2q5ntMrPPm9nTJpPE4+NOmqyv5Wa2d7IG13smxWuL2rR+8r7ft2gNwCvN7HQze0I9nzoqt2RmbzOzpUn7XlnXuWfFzLZM2nTppFqGEK2iJX7EGDkZ+ICZ3d1Taw6a2QLwZOBj7n7LZNuTgQ8S1fZ8GXAJUSGBxxJNYv1FolJGMRcAzyXqLN4d+Bvgbmb2QHffm27MpLjtl4DbTI79HtGyN48EfoOoYEEd/A7wv4DfB84DLq/pvHVw3OT/YcDRwJkdtkXMIRI7MUY+CdwMHAukVzV+GFH9vZMBzGwjcBJRJfXf8+VVFj5hZm8GNqTO8WN3P2vy+Gtm9hOi8nH3Jaoqk+ahwD2A+7t7cv8H6vByzOxAj0osHQlc5+7vnvWcDXAcUZWde04eF4rdpFOy4O63ttA2MQcojClGh0eL7H4KeFrG7mOBJSJPC6KVoVcDf+YZ5YTc/UJ3/3LJW8YLTG7O2X/byf8fZpz/5+85CZFuT+43s82T8N/jEtvczF5sZv9gZtcA3zGzLxOtbn27RJh1s5ltMLN3T8KnPzGzi8zstWa2f+p9DjSzN03CsreY2Q4ze33qmD8ws3Mn+39gZi8puS7x6+5OJPbvAU4FnpIMDSc/u5k9wczOJSod9YDJvk1m9qFJaPnmSfj3rqnXv8HMvmNmN1m07tm/mtkdQ9on5gOJnRgrJwNHmNl94w2TcOITgVPcfc9k84OB7e6+a4b32jz5v0LMJnwL2Au828x+LW3op+QviDzOZwEvIApfvotoDbQHTv6uAtYDu4AXA48G/pYoBPuW+EQT7/KTwPOAtxGFb18xeW18zF8QFev9BPC4yePXmFm8RE0RTwd2Ax8l+l5uTxS+TbMZeBPw+kkbdpjZWiIv8K7AHwNPBX4B+LyZHZh47R2A1wG/BbyIaJ3FL048RCFUCFp/4/wD1gDXAX+b2PY4ooKzD0xsOx84OeP1qxN/qxLbTwK2T7bvD9wb+A5RgfDbFLTnxUTrdDlRod/PAk9JHXMSkfAmt22evOZxiW0O/HfGe7wSuLbkuqwmEp+fAvtPtj1qcs7H57zmYKLCvK9IbX81kcAvlLzn94DTJo/3JxLfkzI+uwP3Tm1/DbATWJvYdjsiUX9+zvstEC0o7MCDu74X9dePP3l2YpR4lHzyceCpiXGxpwE/IBo7ijH2rZEVbTDbBvws8XdK6vT3nWy/BfjvybYnu/vNBe35O2AL8Hzg34lCdKekQ4UV+HTIQRbxIjM7bzK2+DOi8ck1wKbJYQ8Hdrn7qTmneSCRN/URi5bpWT3xTr9INP55aMH7P4DIy/oQgEdjcB8DnmjRUjZJrnD3b6W2PQL4HHBD4n1vJAodb0u8z2PM7Gtmdj2RFxkn52zNa5uYLyR2YsycTGTQHzgxrMcQeXFJcbuClcb6POB+k79vZpz3/Mm+XwUW3f2e7v5fZY1x9yvc/e3u/tTJe34W+AuL1umqylLgcS8C3kwk/McA9ycSXIBYbNYRhTzziMOZ57K8ExCPex5W8NrjJsd+2aI1EG9LJNQHs3JV+6zPtJ6ok/Kz1N/D4vc1s/sRjQVeThTWfSBwVOozijlH2ZhizHyRyIAeSzS+dRCTLMwEXwFeama3c/frACYe2nYAM7sx47w3u/v2jO3BuPuPzeztRONodyEK1f2UKMyXZG3eKQLf6inAR9z9r+MNZna31DE7WZlxmiQez3wc2YJ0YdaLzGwV0RjbfkQedZrjiLy8mKzPtItIyF6TsS/+bp4IXAM8Le7ImNnhWW0S84vETowWd99jZh8hMvgbgfPd/ZzUYe8kSvb4W6LMzNqZJFnc4O67U7uOmPy/evL/cmCzmR3g7j+dbPvNGd/+QKJwa5JnpJ5/AXiJmT3O3T+VcY7/JBpnvJO7B4VPJzyUSET/Ekh7vs8lCjEf5O5ZHYpk254KnOvLV/ZOciDws5THnv6MYs6R2ImxczJwAlHv/+Xpne5+hZk9F/hXM7szUXr8JUQTybcB9yLyLGbh4cDrzew9RPPw9gIPAl4KfMrdd0yO+wRR0sc7zewk4D5EojALnwNeYGZfJ0oUeQaRJ5k+5nTgg2b2aqLQ7Qai5I4/cvcfTaqx/OPEY/oK0RDIVuBh7v7EnPc+jmgV+3+cjKH+HDO7AXg28ASiOYp5/B3wTKLMyrcQhZ0XgYcAZ7r7yZP2v8jM/oFoPPRBk9cIsY+uM2T0p78m/4gSUHYQhcjuUnDcvYmE8UqiMaFdRGHQPwL2Sxx3EqmMyYA2HAb8H6IpCD8iCr99h6hay21Sx/4ukSjdTDRX8EFkZ2OekPE+rySVjUkk2u+ZfJ5dRJ5snJV6j8RxB07aeDmRJ7gD+JvUuZ5JlBjyE6JM168DL875zPtN3u/EgutyLvCZsusK3GnyGZYmbbsE+ABw98QxLwEuA34MfJ7Ia868Tvqbzz9zDw39CyGEEMNE2ZhCCCFGj8ROCCHE6JHYCSGEGD0SOyGEEKNHYieEEGL0SOyEEEKMHomdEEKI0SOxE0IIMXr+f5ICHP+j3yTJAAAAAElFTkSuQmCC\n",
      "text/plain": [
       "<Figure size 432x432 with 1 Axes>"
      ]
     },
     "metadata": {
      "needs_background": "light"
     },
     "output_type": "display_data"
    }
   ],
   "source": [
    "import matplotlib.pyplot as plt\n",
    "\n",
    "fig, ax = plt.subplots(figsize=[6,6])\n",
    "ax.spines['right'].set_visible(False)\n",
    "ax.spines['top'].set_visible(False)\n",
    "\n",
    "plt.plot(trunc_vgpSize*3, (trunc_raw_diff_125 + trunc_raw_diff_250 + trunc_raw_diff_1000), 'o', color='pink', alpha=1)\n",
    "plt.tight_layout()\n",
    "plt.xlabel('VGP Surface Area', fontsize=15)\n",
    "plt.ylabel('Raw Diff (Estimate-Actual)', fontsize=15)\n",
    "# plt.yticks(np.arange(-1,1.2, 0.4),fontsize=12)\n",
    "plt.xticks(fontsize=12)\n",
    "plt.show();"
   ]
  },
  {
   "cell_type": "markdown",
   "metadata": {},
   "source": [
    "### Issue: The correlations are all against the a gpSize list that is constrained by the 125 ms outliers in the residuals \n",
    "\n",
    "Each duration has different ones excluded "
   ]
  },
  {
   "cell_type": "code",
   "execution_count": 150,
   "metadata": {},
   "outputs": [
    {
     "name": "stdout",
     "output_type": "stream",
     "text": [
      "Correlation between Average Discrimination Derived Linear Model Residuals and GP SA\n",
      "(-0.07939470551294797, 0.34418570946852317)\n",
      "\n",
      "Correlation between All Discrimination Derived Linear Model Residuals and GP SA * 3\n",
      "(-0.057181012368192036, 0.23561751594081018)\n",
      "\n",
      "Correlation between Average Discrimination Derived Linear Model Residuals and VGP SA\n",
      "(0.09682198496628269, 0.24831479728431366)\n",
      "\n",
      "Correlation between All Discrimination Derived Linear Model Residuals and VGP SA * 3\n",
      "(0.06973234656014966, 0.1479187551227646)\n"
     ]
    }
   ],
   "source": [
    "# corr, p-value\n",
    "print('Correlation between Average Discrimination Derived Linear Model Residuals and GP SA')\n",
    "print(stats.pearsonr(np.mean([trunc_residuals_derivedVE_125, trunc_residuals_derivedVE_250, trunc_residuals_derivedVE_1000], axis=0), ddresid125_trunc_gpSize))\n",
    "\n",
    "print()\n",
    "\n",
    "print('Correlation between All Discrimination Derived Linear Model Residuals and GP SA * 3')\n",
    "print(stats.pearsonr(trunc_residuals_derivedVE_125 + trunc_residuals_derivedVE_250 + trunc_residuals_derivedVE_1000, ddresid125_trunc_gpSize*3))\n",
    "\n",
    "print()\n",
    "\n",
    "print('Correlation between Average Discrimination Derived Linear Model Residuals and VGP SA')\n",
    "print(stats.pearsonr(np.mean([trunc_residuals_derivedVE_125, trunc_residuals_derivedVE_250, trunc_residuals_derivedVE_1000], axis=0), ddresid125_trunc_vgpSize))\n",
    "\n",
    "print()\n",
    "\n",
    "print('Correlation between All Discrimination Derived Linear Model Residuals and VGP SA * 3')\n",
    "print(stats.pearsonr(trunc_residuals_derivedVE_125 + trunc_residuals_derivedVE_250 + trunc_residuals_derivedVE_1000, ddresid125_trunc_vgpSize*3))"
   ]
  },
  {
   "cell_type": "code",
   "execution_count": 151,
   "metadata": {},
   "outputs": [
    {
     "name": "stdout",
     "output_type": "stream",
     "text": [
      "Correlation between Abs Average Discrimination Derived Linear Model Residuals and GP SA\n",
      "(0.0002058734177092375, 0.9980460228449622)\n",
      "\n",
      "Correlation between Abs All Discrimination Derived Linear Model Residuals and GP SA * 3\n",
      "(-0.024945897861649524, 0.6051080213813691)\n",
      "\n",
      "Correlation between Abs Average Discrimination Derived Linear Model Residuals and VGP SA\n",
      "(-0.03766038988845555, 0.6540485499704107)\n",
      "\n",
      "Correlation between Abs All Discrimination Derived Linear Model Residuals and VGP SA * 3\n",
      "(-0.030194278520251003, 0.5313800814658219)\n"
     ]
    }
   ],
   "source": [
    "# corr, p-value\n",
    "print('Correlation between Abs Average Discrimination Derived Linear Model Residuals and GP SA')\n",
    "print(stats.pearsonr(np.abs(np.mean([trunc_residuals_derivedVE_125, trunc_residuals_derivedVE_250, trunc_residuals_derivedVE_1000], axis=0)), ddresid125_trunc_gpSize))\n",
    "\n",
    "print()\n",
    "\n",
    "print('Correlation between Abs All Discrimination Derived Linear Model Residuals and GP SA * 3')\n",
    "print(stats.pearsonr(np.abs(trunc_residuals_derivedVE_125 + trunc_residuals_derivedVE_250 + trunc_residuals_derivedVE_1000), ddresid125_trunc_gpSize*3))\n",
    "\n",
    "print()\n",
    "\n",
    "print('Correlation between Abs Average Discrimination Derived Linear Model Residuals and VGP SA')\n",
    "print(stats.pearsonr(np.abs(np.mean([trunc_residuals_derivedVE_125, trunc_residuals_derivedVE_250, trunc_residuals_derivedVE_1000], axis=0)), ddresid125_trunc_vgpSize))\n",
    "\n",
    "print()\n",
    "\n",
    "print('Correlation between Abs All Discrimination Derived Linear Model Residuals and VGP SA * 3')\n",
    "print(stats.pearsonr(np.abs(trunc_residuals_derivedVE_125 + trunc_residuals_derivedVE_250 + trunc_residuals_derivedVE_1000), ddresid125_trunc_vgpSize*3))\n"
   ]
  },
  {
   "cell_type": "code",
   "execution_count": 35,
   "metadata": {},
   "outputs": [
    {
     "name": "stdout",
     "output_type": "stream",
     "text": [
      "Correlation between Average VE Standard Deviation and GP SA\n",
      "(0.3003740881421549, 0.00022989571681127945)\n",
      "\n",
      "Correlation between All VE Standard Deviation and GP SA * 3\n",
      "(0.23977971235230863, 3.8113607522193305e-07)\n",
      "\n",
      "Correlation between Average VE Standard Deviation and VGP SA\n",
      "(0.09806213711977171, 0.23897805797187177)\n",
      "\n",
      "Correlation between All VE Standard Deviation and VGP SA * 3\n",
      "(0.07828009125775061, 0.10181641464700862)\n"
     ]
    }
   ],
   "source": [
    "# corr, p-value\n",
    "print('Correlation between Average VE Standard Deviation and GP SA')\n",
    "print(stats.pearsonr(np.mean([trunc_std_125, trunc_std_250, trunc_std_1000], axis=0), trunc_gpSize))\n",
    "\n",
    "print()\n",
    "\n",
    "print('Correlation between All VE Standard Deviation and GP SA * 3')\n",
    "print(stats.pearsonr(trunc_std_125 + trunc_std_250 + trunc_std_1000, trunc_gpSize*3))\n",
    "\n",
    "print()\n",
    "\n",
    "print('Correlation between Average VE Standard Deviation and VGP SA')\n",
    "print(stats.pearsonr(np.mean([trunc_std_125, trunc_std_250, trunc_std_1000], axis=0), trunc_vgpSize))\n",
    "\n",
    "print()\n",
    "\n",
    "print('Correlation between All VE Standard Deviation and VGP SA * 3')\n",
    "print(stats.pearsonr(trunc_std_125 + trunc_std_250 + trunc_std_1000, trunc_vgpSize*3))"
   ]
  },
  {
   "cell_type": "markdown",
   "metadata": {},
   "source": [
    "### STANDARD DEVIATION"
   ]
  },
  {
   "cell_type": "code",
   "execution_count": 152,
   "metadata": {},
   "outputs": [
    {
     "name": "stdout",
     "output_type": "stream",
     "text": [
      "Correlation between SD and VGP/GP SA\n",
      "125 ms:  (-0.1899662602787627, 0.021641889405914362)\n",
      "250 ms:  (-0.2299178902425394, 0.005242701065407059)\n",
      "1000 ms:  (-0.14079843809789633, 0.09005539893247042)\n"
     ]
    }
   ],
   "source": [
    "# corr, p-value\n",
    "print('Correlation between SD and VGP/GP SA')\n",
    "print('125 ms: ',stats.pearsonr(trunc_std_125, trunc_vgpSize_gpSize))\n",
    "print('250 ms: ',stats.pearsonr(trunc_std_250, trunc_vgpSize_gpSize))\n",
    "print('1000 ms: ',stats.pearsonr(trunc_std_1000, trunc_vgpSize_gpSize))"
   ]
  },
  {
   "cell_type": "code",
   "execution_count": 153,
   "metadata": {},
   "outputs": [
    {
     "name": "stdout",
     "output_type": "stream",
     "text": [
      "Correlation between SD and VGP SA\n",
      "125 ms:  (-0.004116882685445657, 0.9606665858778467)\n",
      "250 ms:  (0.12320109094927507, 0.13847371669413716)\n",
      "1000 ms:  (0.1227865463663378, 0.13981623594131254)\n"
     ]
    }
   ],
   "source": [
    "# corr, p-value\n",
    "print('Correlation between SD and VGP SA')\n",
    "print('125 ms: ',stats.pearsonr(trunc_std_125, trunc_vgpSize))\n",
    "print('250 ms: ',stats.pearsonr(trunc_std_250, trunc_vgpSize))\n",
    "print('1000 ms: ',stats.pearsonr(trunc_std_1000, trunc_vgpSize))"
   ]
  },
  {
   "cell_type": "code",
   "execution_count": 154,
   "metadata": {},
   "outputs": [
    {
     "name": "stdout",
     "output_type": "stream",
     "text": [
      "Correlation between SD and GP SA\n",
      "125 ms:  (0.14970360825423906, 0.07130900008302953)\n",
      "250 ms:  (0.3317951039326756, 4.2925055042489975e-05)\n",
      "1000 ms:  (0.24285041679359726, 0.003141966906696011)\n"
     ]
    }
   ],
   "source": [
    "# corr, p-value\n",
    "print('Correlation between SD and GP SA')\n",
    "print('125 ms: ',stats.pearsonr(trunc_std_125, trunc_gpSize))\n",
    "print('250 ms: ',stats.pearsonr(trunc_std_250, trunc_gpSize))\n",
    "print('1000 ms: ',stats.pearsonr(trunc_std_1000, trunc_gpSize))"
   ]
  },
  {
   "cell_type": "markdown",
   "metadata": {},
   "source": [
    "#### Absolute value of residuals"
   ]
  },
  {
   "cell_type": "code",
   "execution_count": 155,
   "metadata": {},
   "outputs": [
    {
     "name": "stdout",
     "output_type": "stream",
     "text": [
      "Correlation between Abs(Linear Model Residuals) and VGP/GP\n",
      "125 ms:  (-0.11700508161445311, 0.1595871718682568)\n",
      "250 ms:  (-0.12761305226133143, 0.12478793656341539)\n",
      "1000 ms:  (-0.1191260053058651, 0.15210448431512202)\n"
     ]
    }
   ],
   "source": [
    "# corr, p-value\n",
    "print('Correlation between Abs(Linear Model Residuals) and VGP/GP')\n",
    "print('125 ms: ',stats.pearsonr(np.abs(trunc_resid_125), trunc_vgpSize_gpSize))\n",
    "print('250 ms: ',stats.pearsonr(np.abs(trunc_resid_250), trunc_vgpSize_gpSize))\n",
    "print('1000 ms: ',stats.pearsonr(np.abs(trunc_resid_1000), trunc_vgpSize_gpSize))\n",
    "\n",
    "# interp: clutter (pixel space)"
   ]
  },
  {
   "cell_type": "code",
   "execution_count": 156,
   "metadata": {},
   "outputs": [
    {
     "name": "stdout",
     "output_type": "stream",
     "text": [
      "Correlation between Abs(Linear Model Residuals) and VGP\n",
      "125 ms:  (0.1445023517413062, 0.08182992382235903)\n",
      "250 ms:  (0.08238051236902039, 0.3228917398879787)\n",
      "1000 ms:  (0.1074579833507391, 0.19670342795205858)\n"
     ]
    }
   ],
   "source": [
    "# corr, p-value\n",
    "print('Correlation between Abs(Linear Model Residuals) and VGP')\n",
    "print('125 ms: ',stats.pearsonr(np.abs(trunc_resid_125), trunc_vgpSize))\n",
    "print('250 ms: ',stats.pearsonr(np.abs(trunc_resid_250), trunc_vgpSize))\n",
    "print('1000 ms: ',stats.pearsonr(np.abs(trunc_resid_1000), trunc_vgpSize))"
   ]
  },
  {
   "cell_type": "code",
   "execution_count": 157,
   "metadata": {},
   "outputs": [
    {
     "name": "stdout",
     "output_type": "stream",
     "text": [
      "Correlation between Abs(Linear Model Residuals) and GP\n",
      "125 ms:  (0.24139123760005063, 0.0033332831172700837)\n",
      "250 ms:  (0.24455379921834405, 0.002931201605631384)\n",
      "1000 ms:  (0.24662034981983538, 0.002692687105919793)\n"
     ]
    }
   ],
   "source": [
    "# corr, p-value\n",
    "print('Correlation between Abs(Linear Model Residuals) and GP')\n",
    "print('125 ms: ',stats.pearsonr(np.abs(trunc_resid_125), trunc_gpSize))\n",
    "print('250 ms: ',stats.pearsonr(np.abs(trunc_resid_250), trunc_gpSize))\n",
    "print('1000 ms: ',stats.pearsonr(np.abs(trunc_resid_1000), trunc_gpSize))"
   ]
  },
  {
   "cell_type": "code",
   "execution_count": null,
   "metadata": {},
   "outputs": [],
   "source": []
  },
  {
   "cell_type": "code",
   "execution_count": 158,
   "metadata": {},
   "outputs": [
    {
     "name": "stdout",
     "output_type": "stream",
     "text": [
      "m: [0.00500221]\n",
      "b: 0.19089216273438375\n",
      "R-squared:  0.05826972959008414\n"
     ]
    },
    {
     "data": {
      "text/plain": [
       "0.058"
      ]
     },
     "execution_count": 158,
     "metadata": {},
     "output_type": "execute_result"
    },
    {
     "data": {
      "image/png": "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\n",
      "text/plain": [
       "<Figure size 432x432 with 1 Axes>"
      ]
     },
     "metadata": {
      "needs_background": "light"
     },
     "output_type": "display_data"
    }
   ],
   "source": [
    "fig, ax = plt.subplots(figsize=[6,6])\n",
    "ax.spines['right'].set_visible(False)\n",
    "ax.spines['top'].set_visible(False)\n",
    "plt.tight_layout()\n",
    "\n",
    "#run regression\n",
    "X = np.array(trunc_gpSize).reshape(-1,1)\n",
    "y = np.abs(trunc_resid_125)\n",
    "reg = LinearRegression().fit(X, y)\n",
    "\n",
    "#Generated Predictions\n",
    "y_predicted = reg.predict(X)\n",
    "#Plot Our Actual and Predicted Values\n",
    "plt.plot(X, y, '*', color='black', alpha = 0.5);\n",
    "plt.plot(X,y_predicted,color='darkgreen', label = 'm = ' + str(round(reg.coef_[0], 3))\n",
    "         + '     r-squared = ' + str(round(float(reg.score(X, y)), 3)))\n",
    "plt.title(\"125 ms\", fontsize = 20)\n",
    "plt.xlabel(\"Complete Ground Plane Surface Area (meters-squared)\", fontsize = 15)\n",
    "plt.ylabel(\"Abs(Linear Model Residuals)\", fontsize = 15)\n",
    "\n",
    "legend = plt.legend(loc = 0, fontsize = 13, borderpad = 0.6, labelspacing = 1)\n",
    "legend.get_frame().set_facecolor('lightgray')\n",
    "\n",
    "\n",
    "#get coefficients and y intercept\n",
    "print(\"m: {0}\".format(reg.coef_))\n",
    "print(\"b: {0}\".format(reg.intercept_))\n",
    "\n",
    "#Returns the coefficient of determination R^2 of the prediction.\n",
    "print(\"R-squared: \", reg.score(X, y))\n",
    "\n",
    "round(float(reg.score(X, y)), 3)"
   ]
  },
  {
   "cell_type": "code",
   "execution_count": 159,
   "metadata": {},
   "outputs": [],
   "source": [
    "# plt.figure(figsize = [7,7])\n",
    "# #run regression\n",
    "# X = np.array(trunc_gpSize).reshape(-1,1)\n",
    "# y = np.abs(trunc_resid_1000)\n",
    "# reg = LinearRegression().fit(X, y)\n",
    "\n",
    "# #Generated Predictions\n",
    "# y_predicted = reg.predict(X)\n",
    "# #Plot Our Actual and Predicted Values\n",
    "# plt.plot(X, y, 'o', color='black', alpha = 0.5);\n",
    "# plt.plot(X,y_predicted,color='darkviolet', label = 'm = ' + str(round(reg.coef_[0], 3))\n",
    "#          + '     r-squared = ' + str(round(float(reg.score(X, y)), 3)))\n",
    "# plt.title(\"1000 ms\", fontsize = 20)\n",
    "# plt.xlabel(\"Ground Plane Surface Area (meters-squared)\", fontsize = 15)\n",
    "# plt.ylabel(\"Linear Model Residuals\", fontsize = 15)\n",
    "\n",
    "# legend = plt.legend(loc = 0, fontsize = 13, borderpad = 0.6, labelspacing = 1)\n",
    "# legend.get_frame().set_facecolor('lightgray')\n",
    "\n",
    "\n",
    "# #get coefficients and y intercept\n",
    "# print(\"m: {0}\".format(reg.coef_))\n",
    "# print(\"b: {0}\".format(reg.intercept_))\n",
    "\n",
    "# #Returns the coefficient of determination R^2 of the prediction.\n",
    "# print(\"R-squared: \", reg.score(X, y))\n",
    "\n",
    "# round(float(reg.score(X, y)), 3)"
   ]
  },
  {
   "cell_type": "markdown",
   "metadata": {},
   "source": [
    "#### Actual Depth"
   ]
  },
  {
   "cell_type": "code",
   "execution_count": 160,
   "metadata": {},
   "outputs": [],
   "source": [
    "# trunc_vgpSize == trunc_gpSize"
   ]
  },
  {
   "cell_type": "code",
   "execution_count": 161,
   "metadata": {},
   "outputs": [
    {
     "name": "stdout",
     "output_type": "stream",
     "text": [
      "Correlation between Actual Depth and VGP/GP\n",
      "(-0.08630803579661092, 0.30027947496074353)\n",
      "Correlation between Actual Depth and VGP\n",
      "(0.17889075672164295, 0.030739849680656246)\n",
      "Correlation between Actual Depth and GP\n",
      "(0.2597216514034745, 0.0015467718871468219)\n"
     ]
    }
   ],
   "source": [
    "print('Correlation between Actual Depth and VGP/GP')\n",
    "print(stats.pearsonr(trunc_actual, trunc_vgpSize_gpSize))\n",
    "print('Correlation between Actual Depth and VGP')\n",
    "print(stats.pearsonr(trunc_actual, trunc_vgpSize))\n",
    "print('Correlation between Actual Depth and GP')\n",
    "print(stats.pearsonr(trunc_actual, trunc_gpSize))"
   ]
  },
  {
   "cell_type": "code",
   "execution_count": 162,
   "metadata": {},
   "outputs": [
    {
     "name": "stdout",
     "output_type": "stream",
     "text": [
      "m: [-0.00972686]\n",
      "b: 0.08105836608972516\n",
      "R-squared:  0.01953011202890753\n"
     ]
    },
    {
     "data": {
      "text/plain": [
       "0.02"
      ]
     },
     "execution_count": 162,
     "metadata": {},
     "output_type": "execute_result"
    },
    {
     "data": {
      "image/png": "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\n",
      "text/plain": [
       "<Figure size 432x432 with 1 Axes>"
      ]
     },
     "metadata": {
      "needs_background": "light"
     },
     "output_type": "display_data"
    }
   ],
   "source": [
    "plt.figure(figsize = [6,6])\n",
    "#run regression\n",
    "X = np.array(trunc_vgpSize).reshape(-1,1)\n",
    "y = trunc_resid_250\n",
    "reg = LinearRegression().fit(X, y)\n",
    "\n",
    "#Generated Predictions\n",
    "y_predicted = reg.predict(X)\n",
    "#Plot Our Actual and Predicted Values\n",
    "plt.plot(X, y, 's', color='black', alpha = 0.5);\n",
    "plt.plot(X,y_predicted,color='chocolate', label = 'm = ' + str(round(reg.coef_[0], 3))\n",
    "         + '     r-squared = ' + str(round(float(reg.score(X, y)), 3)))\n",
    "plt.title(\"250 ms\", fontsize = 20)\n",
    "plt.xlabel(\"Visible Ground Plane SA\", fontsize = 15)\n",
    "plt.ylabel(\"Linear Model Residuals\", fontsize = 15)\n",
    "\n",
    "legend = plt.legend(loc = 0, fontsize = 13, borderpad = 0.6, labelspacing = 1)\n",
    "legend.get_frame().set_facecolor('lightgray')\n",
    "\n",
    "\n",
    "#get coefficients and y intercept\n",
    "print(\"m: {0}\".format(reg.coef_))\n",
    "print(\"b: {0}\".format(reg.intercept_))\n",
    "\n",
    "#Returns the coefficient of determination R^2 of the prediction.\n",
    "print(\"R-squared: \", reg.score(X, y))\n",
    "\n",
    "round(float(reg.score(X, y)), 3)"
   ]
  },
  {
   "cell_type": "code",
   "execution_count": 163,
   "metadata": {},
   "outputs": [
    {
     "name": "stdout",
     "output_type": "stream",
     "text": [
      "m: [-0.00972686]\n",
      "b: 0.08105836608972516\n",
      "R-squared:  0.01953011202890753\n"
     ]
    },
    {
     "data": {
      "text/plain": [
       "0.02"
      ]
     },
     "execution_count": 163,
     "metadata": {},
     "output_type": "execute_result"
    },
    {
     "data": {
      "image/png": "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\n",
      "text/plain": [
       "<Figure size 432x432 with 1 Axes>"
      ]
     },
     "metadata": {
      "needs_background": "light"
     },
     "output_type": "display_data"
    }
   ],
   "source": [
    "plt.figure(figsize = [6,6])\n",
    "#run regression\n",
    "X = np.array(trunc_vgpSize).reshape(-1,1)\n",
    "y = trunc_resid_250\n",
    "reg = LinearRegression().fit(X, y)\n",
    "\n",
    "#Generated Predictions\n",
    "y_predicted = reg.predict(X)\n",
    "#Plot Our Actual and Predicted Values\n",
    "plt.plot(X, y, 'v', color='black', alpha = 0.5);\n",
    "plt.plot(X,y_predicted,color='chocolate', label = 'm = ' + str(round(reg.coef_[0], 3))\n",
    "         + '     r-squared = ' + str(round(float(reg.score(X, y)), 3)))\n",
    "plt.title(\"250 ms\", fontsize = 20)\n",
    "plt.xlabel(\"VGP\", fontsize = 15)\n",
    "plt.ylabel(\"Linear Model Residuals\", fontsize = 15)\n",
    "\n",
    "legend = plt.legend(loc = 0, fontsize = 13, borderpad = 0.6, labelspacing = 1)\n",
    "legend.get_frame().set_facecolor('lightgray')\n",
    "\n",
    "\n",
    "#get coefficients and y intercept\n",
    "print(\"m: {0}\".format(reg.coef_))\n",
    "print(\"b: {0}\".format(reg.intercept_))\n",
    "\n",
    "#Returns the coefficient of determination R^2 of the prediction.\n",
    "print(\"R-squared: \", reg.score(X, y))\n",
    "\n",
    "round(float(reg.score(X, y)), 3)"
   ]
  },
  {
   "cell_type": "markdown",
   "metadata": {},
   "source": [
    "## Global Mean Depth"
   ]
  },
  {
   "cell_type": "code",
   "execution_count": 360,
   "metadata": {},
   "outputs": [],
   "source": [
    "# kinect192_path = '/Users/prachimahableshwarkar/Documents/GW/SUNRGBD/updated/kinect2data_192'\n",
    "\n",
    "# stimuli_path = '/Users/prachimahableshwarkar/Documents/GW/Depth_MTurk/depth_duration_stimuli'"
   ]
  },
  {
   "cell_type": "code",
   "execution_count": 264,
   "metadata": {},
   "outputs": [],
   "source": [
    "globalMeanDepths = []\n",
    "for folder in stimfolder_250:\n",
    "    for file in os.listdir(kinect192_path + '/' + folder + '/depth_bfx'):\n",
    "        if 'png' in file:\n",
    "            dm = Image.open(kinect192_path + '/' + folder + '/depth_bfx/' + file)\n",
    "            dm.load()\n",
    "            depth_data = np.asarray(dm)/8000\n",
    "            globalMeanDepths.append(np.mean(depth_data))"
   ]
  },
  {
   "cell_type": "code",
   "execution_count": 265,
   "metadata": {},
   "outputs": [],
   "source": [
    "trunc_globalMeanDepths = []\n",
    "\n",
    "for i in range(len(ordered_gp_size)):\n",
    "    if type(ordered_gp_size[i]) == float:\n",
    "        trunc_globalMeanDepths.append(globalMeanDepths[i])\n"
   ]
  },
  {
   "cell_type": "code",
   "execution_count": 266,
   "metadata": {},
   "outputs": [
    {
     "name": "stdout",
     "output_type": "stream",
     "text": [
      "Correlation between Global Mean Depth and Complete Ground Plane\n"
     ]
    },
    {
     "ename": "ValueError",
     "evalue": "x and y must have the same length.",
     "output_type": "error",
     "traceback": [
      "\u001b[0;31m---------------------------------------------------------------------------\u001b[0m",
      "\u001b[0;31mValueError\u001b[0m                                Traceback (most recent call last)",
      "\u001b[0;32m<ipython-input-266-eb01b2bca96a>\u001b[0m in \u001b[0;36m<module>\u001b[0;34m\u001b[0m\n\u001b[1;32m      1\u001b[0m \u001b[0mprint\u001b[0m\u001b[0;34m(\u001b[0m\u001b[0;34m'Correlation between Global Mean Depth and Complete Ground Plane'\u001b[0m\u001b[0;34m)\u001b[0m\u001b[0;34m\u001b[0m\u001b[0;34m\u001b[0m\u001b[0m\n\u001b[0;32m----> 2\u001b[0;31m \u001b[0mprint\u001b[0m\u001b[0;34m(\u001b[0m\u001b[0mstats\u001b[0m\u001b[0;34m.\u001b[0m\u001b[0mpearsonr\u001b[0m\u001b[0;34m(\u001b[0m\u001b[0mtrunc_globalMeanDepths\u001b[0m\u001b[0;34m,\u001b[0m \u001b[0mtrunc_gpSize\u001b[0m\u001b[0;34m)\u001b[0m\u001b[0;34m)\u001b[0m\u001b[0;34m\u001b[0m\u001b[0;34m\u001b[0m\u001b[0m\n\u001b[0m",
      "\u001b[0;32m~/opt/anaconda3/envs/defaultenv/lib/python3.7/site-packages/scipy/stats/stats.py\u001b[0m in \u001b[0;36mpearsonr\u001b[0;34m(x, y)\u001b[0m\n\u001b[1;32m   3387\u001b[0m     \u001b[0mn\u001b[0m \u001b[0;34m=\u001b[0m \u001b[0mlen\u001b[0m\u001b[0;34m(\u001b[0m\u001b[0mx\u001b[0m\u001b[0;34m)\u001b[0m\u001b[0;34m\u001b[0m\u001b[0;34m\u001b[0m\u001b[0m\n\u001b[1;32m   3388\u001b[0m     \u001b[0;32mif\u001b[0m \u001b[0mn\u001b[0m \u001b[0;34m!=\u001b[0m \u001b[0mlen\u001b[0m\u001b[0;34m(\u001b[0m\u001b[0my\u001b[0m\u001b[0;34m)\u001b[0m\u001b[0;34m:\u001b[0m\u001b[0;34m\u001b[0m\u001b[0;34m\u001b[0m\u001b[0m\n\u001b[0;32m-> 3389\u001b[0;31m         \u001b[0;32mraise\u001b[0m \u001b[0mValueError\u001b[0m\u001b[0;34m(\u001b[0m\u001b[0;34m'x and y must have the same length.'\u001b[0m\u001b[0;34m)\u001b[0m\u001b[0;34m\u001b[0m\u001b[0;34m\u001b[0m\u001b[0m\n\u001b[0m\u001b[1;32m   3390\u001b[0m \u001b[0;34m\u001b[0m\u001b[0m\n\u001b[1;32m   3391\u001b[0m     \u001b[0;32mif\u001b[0m \u001b[0mn\u001b[0m \u001b[0;34m<\u001b[0m \u001b[0;36m2\u001b[0m\u001b[0;34m:\u001b[0m\u001b[0;34m\u001b[0m\u001b[0;34m\u001b[0m\u001b[0m\n",
      "\u001b[0;31mValueError\u001b[0m: x and y must have the same length."
     ]
    }
   ],
   "source": [
    "print('Correlation between Global Mean Depth and Complete Ground Plane')\n",
    "print(stats.pearsonr(trunc_globalMeanDepths, trunc_gpSize))"
   ]
  },
  {
   "cell_type": "code",
   "execution_count": 364,
   "metadata": {},
   "outputs": [
    {
     "name": "stdout",
     "output_type": "stream",
     "text": [
      "m: [17.53990948]\n",
      "b: -22.297939447106252\n",
      "R-squared:  0.08533325037416128\n"
     ]
    },
    {
     "data": {
      "text/plain": [
       "0.085"
      ]
     },
     "execution_count": 364,
     "metadata": {},
     "output_type": "execute_result"
    },
    {
     "data": {
      "image/png": "iVBORw0KGgoAAAANSUhEUgAAAf4AAAH6CAYAAADm/i4zAAAABHNCSVQICAgIfAhkiAAAAAlwSFlzAAALEgAACxIB0t1+/AAAADh0RVh0U29mdHdhcmUAbWF0cGxvdGxpYiB2ZXJzaW9uMy4xLjEsIGh0dHA6Ly9tYXRwbG90bGliLm9yZy8QZhcZAAAgAElEQVR4nOzdeXxU1f3/8deHfVExgqIVI+C+sGmUr1tFUVyqVeNeWzeKrUr7VctPC1rFpdaF2lbR9qtVsK3VUoyK1VYsaq21IkE07jsGlE2MUfbt8/vj3ITJZGZyk8wkE+b9fDzmMZlzz73zmbk39zP33nPONXdHRERECkO71g5AREREWo4Sv4iISAFR4hcRESkgSvwiIiIFRIlfRESkgCjxi4iIFBAl/jbEzMabmZvZsNaORZrGzPpG63ByjpY/LFr++Fwsv5Bka12Z2bnRcs7NTmQp30PrvQCY2XNm1uw++JtU4jez3c3sDjN7w8yqzWyNmX1mZk+Y2Ugz69LaMeYDM5sc7ST6tuB7bm9m15vZf83sczNbG62jOWZ2l37MpJaQfBIf68xsUbRdH9PaMbYFZtbRzM42s0fNbJ6ZrTSzFWb2sZk9YmbfN7PurR1nS0n4oeDRd5AyF5jZZmb2VULdvi0baXal+F9abWZLzOwVM/u9mR1jZu1bMb4W2Td3yOXCW5KZXQ1cQ/gx8xJwP7AM6A0MA34PXAiUtFKIBcvMLgB+A3QB3gEeARYD3YHdgLOBC81sgrv/v1YLNL9VA7+O/u4CDAKOBY41s/9199tbLbI8Z2a7Aw8DewJfAs8AHwPrgO2BbwInAr8Atm6lMFvLOqAvcAQwPcX0M4DNo3qbTL4Aro2e2wNbAnsB3wNGAuVmdpa7v9daweXaJrEizWwcYUXOA05195kp6hwH/KSlYyt0ZnYO8H9AFXCGuz+Wos4WwA+A4hYOry350t3HJxaY2XnAfcCNZvZ7d1/RKpHlMTPbDpgBfAO4Axjn7stS1DsSuLWFw8sH/wQOA0aROvGPAhYAlcDQFowrp5L/lwDMrDdhGzkV+KeZlbj74paOrUW4e5t+EH6trokeezdQt3OKstOA5wlHVCuB14GxaerOjR6bAb8i/NBYCbwKnBjV6QCMA94HVgEfAqNTLGsY4MB44ADCP2A18DXwFFCSYp7x0TzDUkzbHZgcxbQaWAT8GdgtqZ6necxNqrcV4Qjo7egzVhN2oCMasW56EBK+A0fGqN8h3ecFvgPMJJzFSY61MevQgefSvP/kaHrfpO3Lo2l9gYeAz6N1Ww4cl2ZZmwO3AfOjuu8AlwH9a5bXiO273vqJpln0fTiwX/J2lVR3X8JZl9eAL6KY3gd+CRSlWPa50XLOJSSG56Jt8yvgCWCPNPF2i777V4HlUXz/Bc5sxHZzWfTeD6eYdgSwPlrHXWMsa1K0rAeasP3VrvsUdbcD7iTsD9YAS4AyYN8GvstvAS9G300VMBXYJcU8uwI3RdvYEsL/9CfA3UCfFPVTrvcMn7Wm/p8I+4k1wNZJdQZGdX4OvEDS/0ZCvVj7nuZ+LmBwtO19CawA/gUcGHe7Svj/9wzT2wHPRvV+nWJ67P1iY9c7MfbNhP9Dp26eWR199zcDnWJ9D4350vLxQTjSd+DBJsx7YzTvEuC3hF/8b0RlzwEdk+rPBT4l7MjeBSZGG+zXhJ3RcMIpxfnAPdH0RdHyTk+zQf89WnFPRPFMIZxWWwkckjTPeFIkfuDo6B9hLWHnc0v0j7cq2jD3SVrGqzUbdvR6PHBJQp0dCadCnZBQfxV9zs+ADcComN/vyGgZ/2niuq35vI9Hn+WvhJ3Gb5uxDpua+J8lXJ54Kfo+7o9iWg8clrSczsDL0XyvEv4ha856PEZuEn9J0nY1Pqnu76JtcQoh2f86WrcOvAVsnlT/3Gja1Gi7mhZ9t09E5YuBXknzbAm8Ek2fTTh6uhP4ICq7oRHrflo0z0UJZdsCCwk7zz1jLKNbtI4c2LUJ21/Ndz85qbwfYT/ghJ3+LwgJdHX0OC6pfs13OS36LqdE2+2TUflS6v9A/ykhwT0C3A5MIOwrNhCOwLdPsz8ZH/Oz1dT/E+GHnQNjkurcEb1ff9Ikfhqx72nm5/pb9D4zonmmEP73ViZ/dw187oyJP6ozPKq3CLCE8kbtFxu73om3b34umj4l+r7ui+q+F5VPivU9NPafId8e0YbgwPcbOd8B0XyVwLYJ5R0IicYJpwUT55nLxkTUOaH8kKj8C2AWsGXCtP6EX9Nz0mzQTtIZAeCEqPx9oF3ShlEn8QNFhITyOUk7Q8J1q2XAK0nlk0nz6z1h49pAODWfWL5ltGGuBHrH+I7vi97n+iau25rPuxwYkqV12NTE78A1SfWPisqfTCofF5U/nLT++kXbSLYS//nRtGVER7+kT/w7Au1TLKPmx9kVSeXnRuXrgOFJ034RTbs8zfeXXN4F+Ee0TQ2O+bl7svGM2iDCkdg/o+WfF3MZ34zqz2vi9lfz3U9OKn8qKr8yqfzA6PtaCmyW4rt06v8o+N+ofEZS+fakPmM1gpDwfptUnnK9Z/hsNfX/RPgB+T7wTsL0roT9ytPR63qJn6bte5r6uRw4N2naD6LyuxqxTuMk/s6ERO1Av4Ty52jEfrGJ631y8vecNP05Nv6w3iqhvDvhB/Z6EvaFaT9jU/4h8ulBOFpx4OhGzndPNN8FKabtGn2BHyWVz43m2SnFPB9F0w5PMe1Zwg6hfUJZzQZdJ7mnWMGHJpSNp37ir9mALk7zOX8VTd8zoSztxkXYyTrw1zTLq/lRclGq6Ul1a37Z/jDFtC3Z+Iu29pFUp+bz/iqL67CpiX8uqRPnJ8DnSWXvR++dajup+UyTY26nNe//ZcL3dFPCd+vAj1NsV+NjLt8IR2bPJJWfGy3nTynm6RdNm5pQ1jPaxmeleZ+a7eqWOHFF8xwcLfMdNp7ZqRdPhvlPi+Z5Kc30c1Nsg4MTptd895MTyvpEZZ+QdDYpmv7HaPrZKb7LGSnqt2fjGZEdY36uihTbdWPXe039P0Wvr4hefzN6/b3o9WnR61SJv9H7nmZ8rhdS1O9ISNDljdgmGkz8Ub2FUd39k7bf2PvFpqx34if+I1JMqzn7nfLyY+JjU2jcZ9GzN3K+faLnZ5InuPt7ZjYf6GdmW7r7lwmTv3T3D1Ms7zPCDnF2immfElb0ttHfif7t7htSzPMccCgwhHAtK50DoudBafrw7ho970H4kdSQmuX1SLO8mlbPe8RYVqZ1syWhF0ayVO/5cprlN3UdNsWr7r4+Rfk8Nn5nmNnmwM6Eo8xU28lzpP7cDemRMN96wpmDvwMT3f3JhmY2s46EI6QzCK3be1C3O+/2aWYtT1E2L3ouSijbj7CNp+tL3jF6jrPdAODuL5jZNcANhHYD7wM/jDs/De8bziX8jyWaSzh6S2dI9Pxvd1+bYvozwHejen9Imlbv/9jd15vZC8BO0TyfAJiZAWdFMQ4ifNeJ3czWZIixKSYD1xMa8z0PXEA4kn80wzyN3vc043PV2w7dfa2ZLaLudpgtydtOc/aLsdd7I8T9v0xpU0j8nxEal/Rp5Hw9oucFaaYvILQy70E42qpRnab+OgB3TzV9XfTcMcW0RWmWtzApznR6Rs+jGqi3WQPTk5d3ZPRozvJqvtt6ScXd57Lxn4soSadLPgvTlDd1HTZFuvnXUTeB1sTU0HptrE/cvW8T5wX4C3AS4czUY1Ecq6NplxBOb6ZS73O7+7qw/66zw67ZbvaLHunE3Q5rlAHXEb7j33uKFvkZpN3+ANx9WM3fZnYDcGWMZcbZ5iD8sE3WmP/12wjrZQHh0sKnhFPJEJLmjjFijc3dF5nZ48DJZnYX4WzLL9090w+Mpux7mvq5Mv3/ZbXffTTey1bRyyXRc3P2i83dx9eT5kCmJs80+H1sCon/BeBwQoOMexsxX02C3pbQ8j7Zdkn1cqV3mvJtY75/zfRB7l6RhXhqlpeNvuH/Ac4jrJurm7GcdEdsTVmHTvrtPtXOurFq3quh9dpizKyEkPT/CRybeKQaDdxyeRbepuZz/8rdL8vC8mp2wA9GL6uAq83sMXd/N+Yiygk/bnYws13c/f0shJW4zaWSab8R63/dzLYBfkxopHqgu3+dWNnMzowdbePcDZQSGo5BuJSWSaP2Pa34uRrrYMI+YlF0gALN2y82dx+fdZvCyH2TCNd5TjazPTNVNLPEo5o50fOwFPV2JpxB+DgLp4gbcnCaUbNq4pqTYlqil6LnQxrxnjWnrFP9MmzK8tKZSvilfqCZDc/C8pI1ZR1WATukqN+e0F2oWaKd2QfA9ma2U4oq9WJtATtHz9NSnJ7en9CQq7leJjR8ysZ2U+M2wungXxAuUXQD/hJ3BE4P4xrU/HBozg/PRDXb3MFmluoH5GHR8ysppiVfVqjZ7g5OWnZ/wr55eork2CeangtPE0459wGej/EDq7H7itb6XLFF++KaMz9/TpjUnP1i3PUOmffNWdPmE3/0i2w80Al4Ijq6qcfMjiZcE61xX/R8lZltnVCvPaG7SDsadwahqXYBLkosMLMTCBvLB8C/G5h/EiG5XmNm+ydPNLN2KYbDXRo91xswx93Lo/csNbPzU72hmQ2Ifr1nFF32uCR6OcXMjk+zvG6kvgzSkKasw5eBYjMbkVR+Fdk7fTopeu+bE3/UmVk/whFPS5sbPQ9LLIzW4Z3ZeAMPA508AJSY2c9SJUUz2yn6DhpkZicTRtr8D6E3xXRCV7FBhB8EcV1JuBz4XTP7VYZheWOdbnX3+YQE2ZeN23ZNzEMJ401UEbqrJTs8Gkgs0WjCdd5n3b3mOu/c6PngxOFjzWwzwlF4Ts7URm2NSglnhy6IMUtj9z1zo+cW/VxxRf8PDxH+TyoJDUqBZu8X4653yLBvzqZN4VQ/7n5jtKO5BphlZi8STvPVDNn7TUKCLU+Y50Uzu4VwmvMNM5tK6DZ2DLA34RJCS4zk9Q/glxbGXH+NcHRWSugHOzJNw79a7r7UzE4h7GheMrMZwJuEo69iQqOUnoQuVTVmAP8PuCf63MsIjRYnRtO/Q2ikdK+Z/ZgwcM6XhCOBgYTv5wBCX+6M3P3+6EzL7cA0M3ubsDNfTLge1ofQlWczGv6Rk7zspqzDCYRueI+Z2V8IjeQOJDTMfI7sHJH/kjAE7MnAK2b2FCGxnE5oOPXtLLxHY8wifOel0f/GC4T/i2MI41F8lqX3GU34P7sO+F7UeGkRYdS8PQjX/s8k9IVOKxqn/PeEBPqdhEaVVxH+ly80sxnu/nBDAbn7Z9HZpjJCoj7HzJ4htHXYQPgeDoriXkzoQdCQHxK+z1ujH5DlhLNIp0bLPC/5iDbyOPCImT1C+FFfM+zyFyT8+Hf3hWb2EOEsx6tmNp2w/RxJ2C+8ShbOTqXi7q+Q+mxFqrqN2ve05udKltBArx0bh+w9mHAA+TJwlrt/njRbU/eLsdZ7pKF9c3bE7QbRFh6EncsdhGtIXxFaiC4gHOmPJHX/0TMIO8KvCRvfm4SjhC4p6s4lRX9qT+hmkWbaZOp3hRkWlY1n48h9X0VxTCcaiS1pOeNJ6s6XMK0vYcCgmhEDvyLsxP5INKpgUv3LCKNPrSZFP3HCyHPjCL0UlhEa4HxMGMDlAqB7I9dNH8IIYDMJG/xawrWt1wiDyxzamM/b1HUY1f82YWe9ivAL+yHC0X6q9dSXDN3v0q13YAvCkemnbBy57ydkceS+NPVrt6uk8q2Au6JtuGZEyRsJp8/rbdckjDqW5n2cFN0iCTvO0YRRyqqj7auSsEO7BOjZQPwdCadVHShNMX1Hwg+CL0noYx3je+kEnEMYTKVmnawknNp+jLB/2CxpnrTrntBg8LfR/GvY2AI+1f9t7XcJHEcYAGx59BkeJsXgQtF6+TkhUawitNi+k5BI621z6dZ7jO0kVvdIMo/c15eY+55sf65U224Dn8OTHqujdTebcNbhaFJ0r06YP/Z+sSnrPZov7b451XcU93828WHRDNLColNgzwLXeopxo0VEpO2ycBvmSYQzQJNbN5q62vw1fhEREYlPiV9ERKSAKPGLiIgUEF3jFxERKSA64hcRESkgm0Q//kS9evXyvn37tnYYIiIiLWb27Nmfu/vWDdfcBBN/3759KS9PdeMiERGRTZOZxb7Dn071i4iIFBAlfhERkQKixC8iIlJAlPhFREQKyCbXuE9kU1JdXc2CBQtYt24dGnNDpDCZGZttthnFxcW0a9f843UlfpE8VV1dzfz58+nQoQOdO3fGzFo7JBFpBe7O8uXLWbJkCb1792728nSqXyRPLViwgA4dOtC+fXslfZECZmZ07NiRL774IivLU+IXyVPr1q3Lymk9EWn7zIx169ZlZVnaq4jkKXfXkb6IAGR1X6DELyIiUkCU+EVERAqIEr+IiEgBUeIXEZG8NW7cOC6//PLWDmOTosQvIpuM+++/n5NPPpkBAwYwfPjwetN/9rOfMWjQoDqPXXbZhfvuuy/tMocNG8Zee+1VZ5533323Xr0NGzZw2mmnscsuu7BgwYKsfi7JjZUrV/LTn/6Ufffdl3322YexY8eyatWqjPM88sgjHH744QwYMICTTz6ZN954o970Y445hsGDB3PooYdy++231xl8K+72lEtK/CKyydhmm20YNWoUF154Ycrp119/Pa+99lrt484776RDhw5861vfyrjcG2+8sc58u+22W706kyZNomvXrln5HI3h7lnr5pVLa9eube0Q6rnhhhv46KOPeOqpp3j66af58MMPufHGG9PWLy8v55prruHaa6+lvLyco446iu9///t8/fXXALz99tuMHTuWMWPGMGfOHO677z4eeughpkyZUmc5cbanXFLiF5GsGTZsGHfeeSff/e53GTRoEN/61rd45513ePzxxxk+fDhDhgxh3LhxWU1UK9eu5LPqz5i7dC6DDhzEocMPjT262UMPPcRhhx3W7NHQPv74Yx544AGuuOKKZi0nrl122YXJkydz0kknMWDAAF5//fV6ddyd2267jYMOOojBgwczbNgw/vCHP9ROf/bZZzn66KMZNGgQo0aN4oYbbuCss86q8x7l5eW1r2fOnMnuu+9e+/pvf/sbxx9/PIMHD+bAAw/kqquuYsWKFbXThw0bxh133MF3v/tdBg4cyFNPPQXA008/zYknnsg+++zDUUcdxWOPPVYn7r/+9a8cfvjhDB48mDFjxrB69ermf2EprFq1iscee4xLLrmEXr160bNnTy655BIeeeSRtO85ZcoURowYwSGHHELnzp0ZNWoUnTp14umnnwagsrKSnj17Mnz4cMyMnXbaif3335933nknJ5+hqZT4RSSrHnnkEcaPH095eTm77747F110ETNnzuTxxx/niSeeYMaMGTz55JNp5x81ahT77LNP2se0adNq665cu5JF1YtYv2E9ndp3Yv2G9SyqXsTa9Q0fXS5ZsoRnnnmGM888s8G6N954IyUlJRx//PE8+OCDdaZt2LCBsWPHcsUVV7DFFls0uKxsmTp1Kr/+9a957bXX2HPPPetNf+GFFygrK2Pq1Km8+uqrTJ06lX333RcICeriiy/mwgsvZPbs2Zx99tn1jkobsvnmm3Pbbbfxyiuv8OCDD1JeXs5dd91Vp86UKVMYO3Ysr732GkcccQQvvPAC48aN48orr6S8vJxbbrmF6667jpdffhmAWbNmce2113LddddRXl7OQQcdlHFbgcZtL4k++ugjVq9ezd57711bttdee7Fq1So+/vjjlPO8/fbb7LXXXrWvzYw999yzNrEfcsghbLPNNkyfPp0NGzbw3nvvUV5ezuGHH15nOZm2p5agsfpF2qAb/nkDby9+u0Xea49t9uCqI66KXf/0009n5513BuD4449n2rRpXHrppXTr1o1u3boxdOhQXn/9db797W+nnP+ee+6J/V5VK6po37497du1B6C9hefla5Y3OO9f//pXtt12Ww4++OCM9W6++Wb23ntvOnXqxMyZM7n00ksBan8w3H///fTq1YujjjqK+fPnx469uUaOHMmOO+4IQPv27etN79SpE2vWrOH9999nq622olevXvTq1QsIR+uDBg3ihBNOAELCOuKII1i0aFHs9z/00ENr/95xxx0566yzePTRR+vUOe2002oTZZcuXbj//vs5++yz2W+//QBqY3j00UfZf//9efTRRzn66KNr18lJJ53EQw89lDGOxmwviZYvD9vI5ptvXltW8/eyZcvSzpNYH2CLLbaord+tWzdOPvlkLr/8clatWsX69eu54IILOOSQQ2rrN7Q9tQQd8YtIVm2zzTa1f3ft2pX27dvTs2fP2rIuXbrU7nSba826NbXJvkZ7a8+69ZkvJWzYsIEpU6Zw+umnNzgi2tChQ+nevTsdO3bk4IMP5rzzzqs9ivzkk0+49957ueaaa5r3QZpg++23r/37s88+q9NYbNasWQwdOpTLLruMu+66i6FDh3LeeefVXhJYuHBhnfkB+vTp06j3f+GFFzjzzDPZf//9GTx4MLfeemu9seSTlzl//nzuueeeOkfkZWVlLF68OGtxxdW9e3eA2uvziX9vttlmaedJrA/w1Vdf1dafOnUqt99+O5MnT+att97i2WefZebMmfz617+urZ9pe2opOuIXaYMacwTe1owcObLOteVk1113Xe2RaqcO4fR+YvJf7+vp0D7zru35559n8eLFnHLKKY2Or127drWttMvLy/niiy9qGwdu2LABCGc6Lr300jrXzLMt8T4O3/jGN3jttdfq1TnjjDM444wzWLlyJbfffjsXX3wxzz//PL179+aFF16oUzf5bEW3bt1YuXJl7evEswFr1qzhoosu4vLLL+eUU06hS5cu/PGPf+Tee+9NGyOEHyulpaWMGjUq5Wfq3bs3n376ab24as5spNKY7SVR//796dy5M2+++SYHHHAAAG+99RZdunShX79+KZe1xx578NZbb9W+dnfefvttRowYAVC7rMGDBwPhR8u3v/1tpk6dyiWXXJJymYnbU0tR4heRvJKcPDIp6lbEouqQkNpbe9asXcOaNWvo1K4T7l7bSKtz58515nvooYcYMWJEnTMRqXz66afMmzePIUOG0KFDB8rLy5k0aRIXX3wxAMceeywHHnhgbf2FCxdy2mmnMWnSJPr37x/7c+RCRUUFa9asYcCAAXTq1Inu3bvXXhI47rjjuPPOO3n88cc55phjmDlzJjNmzKhzvXvvvfemrKyMoUOHsnjxYiZNmlQ7be3ataxevZotttiCLl268P777/OnP/2pwZjOOeccxo4dy+DBg9lnn31Yv3497733Hu7OgAEDOPHEEzn//PMpLS1l//3354knnqCioiJj4m/M9pKoS5cunHDCCfzmN79h1113BeA3v/kNJ554Yr3tpcZpp53GyJEjOemkkygpKeEPf/gDq1ev5sgjjwRgn3324YYbbuCNN95g7733ZsGCBTz22GO1lzsa2p5aihK/iLRZXTt2pXeP3lStqGLNujU8MOkBJt8zuXZ6TSJ7//33a8sWLlzIc889x/33359ymYMGDao9SlyxYgU33ngjlZWVQDiyHj16NN/73vfC+3ftWqcL3/r16wHo1atX7ank1rJ8+XJuuukmPvnkE9q1a8duu+1We8p5xx135I477uCWW27hqquuYr/99uPUU0/l7bc3thu55pprGDt2LPvttx8777wzpaWl/PznPwfCKe9rr72WW265hZ/97GcMGDCA4447jocffjhjTIcccgjXX389N998Mx9//DHt2rVj5513rj0a3n///bn66qu58sorqaqqYvjw4Rx77LE5+obgqquu4tprr61N3EcddRRXXnll7fTf/va3TJs2jb///e8AlJSUMH78eK688kqWLFnCbrvtxu9///va6/7HH388Cxcu5JJLLuHzzz+nW7duHHrooYwbNw6gwe2ppVhLn2LItZKSEs902kekrXj99ddbpV+4FKY777yTF198kQceeKC1Q5E0Vq5cyYABA1JOM7PZ7l4SZzlq3CciIlJAlPhFREQKiBK/iIhw8cUX6zR/gVDiFxERKSBK/CIiIgVEiV9ERKSAKPGLiIgUECV+kTxlZi0+lKeI5Kds7guU+EXyVIcOHWrHfheRwubudOiQncF2lfhF8tR2223HunXrWL9+vY78RQqYu7N27Vq22mqrrCxPY/WL5KkePXoAsGDBAlavXq3kL1KgzIzNNtuMrbfeOivLU+IXyWM9evSo/QEgIpINOtUvIiJSQJT4RURECogSv4iISAFR4hcRESkgSvwiIiIFRIlfRESkgCjxi4iIFBAlfhERkQKixC8iIlJAlPhFREQKSOwhe82sL/BdYFegS/J0dz8ta1GJiIg0UcW8CsrmlFG5tJLinsWUDill4A4DWzusvBHriN/M9gXeAM6KHrsAJcApwP8AvXIVoIiISFwV8yqYMH0CVSuq6LNVH6pWVDFh+gQq5lW0dmh5I+6p/luBh4G9AQNGunt/4GDAgVtyE56IiEh8ZXPKKOpeRFG3ItpZO4q6FVHUvYiyOWWtHVreiJv4BwN/BjZEr7sAuPuLwLXATdkPTUREpHEql1bSo2vdO1r26NqDyqWVrRRR/omb+B1Y4+GG4IuBHROmzSOc+hcREWlVxT2LqV5ZXaesemU1xT2LWymi/BM38b8F7BT9/V/gUjPbxcx2BC4HPsxFcCIiIo1ROqSUquVVVK2oYoNvoGpFFVXLqygdUtraoeWNuIn/bmDb6O9xwHbAO8BHwFBgTJyFmNl9ZrbYzN5IKBtvZp+a2avR49iEaWPN7AMze9fMjooZq4iIFKiBOwxkzIgxFHUrYv4X8ynqVsSYEWPUqj+BhbP3jZzJbDPgAKAr8JK7L4453zeBZcAf3H3vqGw8sMzdJyTV3RN4ENgf+AbwT2BXd1+f6T1KSkq8vLy8cR9IRESkDTOz2e5eEqdu7H78idx9GfB0E+Z7PhoPII4TgIfcfTXwsZl9QPgR8N/Gvq+IiIgEsUfuM7OBZvYXM/vQzFab2T5R+c/N7JhmxjHazCqiSwFFUdn2hIaDNeZHZSIiItJEcQfwOYlLUZ0AACAASURBVAaYTbjO/wegY8Lk1cCPmhHDbwkNBwcDC4Bf1rxtiropr0uY2QVmVm5m5UuWLGlGKCIiIpu2uEf8vwAmu/uhwM+Tpr1KSNpN4u6L3H29u28A7iGczodwhL9DQtU+wGdplnG3u5e4e8nWW2/d1FBEREQ2eXET/+7AX6K/k4+6vwK2amoAZrZdwsuTCEMDA0wDzjCzzmbWjzBWwMtNfR8RERGJ37hvMdA/zbS9gFhDIpnZg8AwoJeZzQeuAYaZ2WDCD4q5wA8A3P1NM5tCGENgHXBxQy36RUREJLO4if8h4Doze4uNrerdzHYFrgDujbMQdz8zRXHaed3959S/tCAiIiJNFDfx/wzYE/gXsDAqe4zQ2G86cGP2QxMREZFsi5X4o770x5nZcGA44Ta8XwAz3L3R/flFRESkdTSY+M2sM2FI3r+5+wxgRs6jEhERkZxosFV/dLR/JbBl7sMRERGRXIrbnW8msG8uAxEREZHci9u473Lgz2a2BngSWERSf353X5Hl2ERERCTL4ib+mdHz7cBv0tRp3/xwREREJJfiJv7zSTNOvoiIiLQdcbvzTc403cw6ZpouIiIi+SH2bXmTWXC4md3DxkF9REREJI/FPdVfy8yGAmcCpwG9CQP5PJTluERERCQHYiV+M9ubkOzPAPoCa4BOwGXAne6+LlcBioiISPakPdVvZv3NbJyZvQ68Rhi9723gbMItcg2Yo6QvIiLSdmQ64v+A0JJ/JuFWuQ+7exWAmfVogdhEREQkyzI17vuEcFS/NzAMONDMGt0mQERERPJH2sTv7v2Ag4D7CXfkexxYFLXiH4769YuIiLQ5GY/g3f2/wH/N7H8Jyf5M4GRgJCHxjzKzFe5envNIRSRrKuZVUDanjMqllRT3LKZ0SCkDdxjY2mGJSAuI1Y/f3Te4+9Pufj6wLVAK/BU4CZhpZm/nMEYRyaKKeRVMmD6BqhVV9NmqD1UrqpgwfQIV8ypaOzQRaQGNHsDH3de4+6PufgahH//ZhIaAItIGlM0po6h7EUXdimhn7SjqVkRR9yLK5pS1dmgi0gKaPHIfgLsvd/cH3P34bAUkIrlVubSSHl3rdszp0bUHlUsrWykiEWlJzUr8ItL2FPcspnpldZ2y6pXVFPcsbqWIRKQlKfGLFJjSIaVULa+iakUVG3wDVSuqqFpeRemQ0tYOTURagBK/SIEZuMNAxowYQ1G3IuZ/MZ+ibkWMGTFGrfpFCoQG5BEpQAN3GKhEL1KgGpX4zWxPYF9gB+A+d19oZjsDi9z961wEKCIiItkT9+58mwH3EQbvWRfN9w9gIXAjUEm4iY+IiIjksbjX+G8DDgSOADYnjOFf40ng6CzHJSIiIjkQ91R/KfC/7v6smbVPmvYJsGN2wxIREZFciHvE3xVYmmba5sD67IQjIiIiuRQ38c8iDM2byinAi9kJR0RERHIp7qn+q4B/mtk/CTfnceBYM7uUkPi/maP4REREJIvi3p3vBcJteTsDEwmN+64F+gNHuPusnEUoIiIiWRO7H7+7/wc4xMy6AkXAl+6+ImeRiYiISNbF7ce/ObCZuy9w95XAyoRp2wFfu/uyHMUoIiIiWRL3iP9eoBoYlWLaeKAHcEaWYhIREZEciduq/5vAE2mmPYka94mIiLQJcRN/DyDd9fxVhGv+IiIikufiJv73gW+lmXYs8GF2whEREZFcinuN/w7gd2a2BpgMLAC2A84BLgYuzEl0IiIiklWxEr+732NmvYGxwGUJk1YBV7n7PbkITkRERLKrMf34bzCzO4ADgJ6Esfv/6+7VuQpOREREsit24geIkvw/chSLiIiI5FjsxG9mBhwE7Ap0SZ7u7ndlMS4RERHJgbgj9/UGZgB7Em7QY9EkT6imxC8iIpLn4nbn+yVh5L4dCEl/KNAX+Bmhq9+uuQhOREREsivuqf5Dgf8ldOMDMHevBG40s3aEo/2jchCfiIiIZFHcI/4tgSXuvgH4CtgmYdqLwIHZDkxERESyL27i/5gwYA/Am8BZCdOOB77IZlAiIiKSG3FP9T8JjACmADcAj5nZfGAtUAxckZvwREREJJvijtz304S//25mBwInAV2Bp9397zmKT0RERLIobeI3s2eAi9z9HTM7G3jC3ZcCuHs5UN5CMYqIiEiWZLrGfwihUR/AJGCn5r6Zmd1nZovN7I2EslvN7B0zqzCzR8xsy6i8r5mtNLNXo8fvmvv+IiIihS7Tqf55wKlmtozQd79f9HdK7v5WjPebDEwE/pBQ9jQw1t3XmdnNhBsB1bQZ+NDdB8dYroiIiMSQKfH/gtA//xLCCH1/TlPPountG3ozd3/ezPomlU1PePkScEpDyxEREZGmSZv4o1vxTgN2AZ4HLgbiHNU3x/nAXxJe9zOzOYSxA65y93/n+P1FREQ2aRlb9bv7IjNbAtwHPO7u83MViJldCawDHoiKFgDF7r7UzPYFHjWzvdz9qxTzXgBcAFBcXJyrEEVERNq8OAP4tAPOAfbOVRBmdg5wHHCWuzuAu69O6EUwG/iQNPcEcPe73b3E3Uu23nrrXIUpIiLS5jWY+N19HfAJ0C0XAZjZ0YTGfN929xUJ5VubWfvo7/6ESw4f5SIGERGRQhF3yN6bgSvNrFmH02b2IPBfYDczm29mIwmt/DcHnk7qtvdNoMLMXgOmAj90dw0NLCIi0gxxh+wdQRirf66ZzQYWEVry13B3P72hhbj7mSmK701T92Hg4ZjxiYiISAxxE38v4N2k1yIiItLGxB2r/7BcByIiIiK5F/cav4iIiGwCYh3xm9ktDdVx98ubH46IiIjkUtxr/KemKCsCtgCqgSpAiV9ERCTPxb3G3y9VuZkNBe4GfpjNoERERCQ3mnWN391nArcS+uKLiIhInstG476lwG5ZWI6IiIjkWNzGfamG6+0E7AFcB7yZzaBEREQkN+I27ltG3ZH6ahjwKXBi1iISERGRnImb+M+nfuJfBcwHXnb3tVmNSkRERHIibqv+yTmOQ0RERFpA3CP+OszseGB3YCHwqLt/ndWoREREJCfSJn4zuwI4zt0PSSjrCMwADiJc3weYZ2YHuPtnOY1UREREmi1Td76TgP8klf0YOBi4gTBqXwmwHrgyJ9GJiIhIVmVK/DsBLyWVnQF87O7XuPsyd38FuAk4MlcBioiISPZkSvzdgC9rXpjZZsAQ4J9J9d4Bts9+aCIiIpJtmRL/R8D+Ca+PJFzXn5FUrwfwVZbjEhERkRzI1Kp/EjDezNYBi4BrgSXAE0n1DgPezU14IiIikk2ZEv/thDH4fwF0BOYBZ7r78poKZtYDOAe4OZdBioiISHakTfzuvg74gZldAnR3989TVFsO7IpO9YuIiLQJDQ7g4+4rgZVppq0j3J1PRERE2oBs3JZXRERE2gglfhERkQKixC8iIlJAlPhFREQKSKPuzmdmRcDewA7A3929ysy6AGvcfUMuAhQREZHsiXXEb2btzewWYD7wL+CPQL9o8sPANbkJT0RERLIp7qn+G4FRwGigPxtvyQvwGHB8luMSERGRHIh7qv9s4KfuPsnM2idN+5DwY0BERETyXNwj/i0JCT6VTkDyjwERERHJQ3ET/xvACWmmHQO8kp1wREREJJfinuq/AXjYzLoCfwUcGGxmJwE/AL6do/hEREQki2Id8bv7Y8B3gCOAvxMa9/0eOBf4nrs/lasARUREJHti9+N39ynAFDPbFegFfAG86+6eq+BEREQkuxo1gA+Au78HvJeDWERERCTHYid+M/sGcBzQB+iSNNnd/YpsBiYiIiLZFyvxR434HiR021sMrEmq4oASv4hkXcW8CsrmlFG5tJLinsWUDill4A4DWzsskTarMSP3TQd6u/v27t4v6aEBfEQk6yrmVTBh+gSqVlTRZ6s+VK2oYsL0CVTMq2jt0ETarLiJfwfgdnf/IpfBiIgkKptTRlH3Ioq6FdHO2lHUrYii7kWUzSlr7dBE2qy4if9FYLdcBiIikqxyaSU9uvaoU9ajaw8ql1a2UkQibV/cxn2XAQ+Y2TLgaeDL5AruviKbgYmIFPcspmpFFUXdimrLqldWU9yzuBWjEmnb4h7xVwADgEnAPODrFA8RkawqHVJK1fIqqlZUscE3ULWiiqrlVZQOKW3t0ETarLhH/OcTWu6LiLSYgTsMZMyIMXVa9Y88aKRa9Ys0Q6zE7+6TcxyHiEhKA3cYqEQvkkVxT/WLiIjIJqAxI/edDowCdqX+yH24+zZZjEtERERyINYRv5l9B7gf+IAwZO804G/R/F8BE3MVoIiIiGRP3FP9/w+4Hrg4en2Xu58P9AM+B9SVT0REpA2Im/h3Af7j7uuB9cAWAO7+NXAzMDo34YmIiEg2xU381UDn6O9PgT0SphnQM5tBiYiISG7ETfzlQE1/mmnA1WY2yszOAW4FZsZ9QzO7z8wWm9kbCWVbmdnTZvZ+9FwUlZuZ3W5mH5hZhZntE/d9REREpL64if8XQM3g2FcDLwN3EUby+xy4oBHvORk4Oqnsp8AMd98FmBG9BjiGcJlhl+g9ftuI9xEREZEkcQfweQl4Kfr7S+AEM+sMdHb3rxrzhu7+vJn1TSo+ARgW/X0/8BxwRVT+B3d34CUz29LMtnP3BY15TxEREQmaPICPu69ubNLPoHdNMo+ea8YE2J5wb4Aa86OyOszsAjMrN7PyJUuWZCkkERGRTU/aI34zu6URy3F3vyIL8dQLI9V7pXjzu4G7AUpKSnRPARERkTQyneo/tRHLccKp+aZaVHMK38y2AxZH5fOBHRLq9QE+a8b7iIiIFLS0id/d+7VgHNOAc4CboufHEspHm9lDwFCgWtf3RUREmq7Bxn1m1hPoCyx090+b+4Zm9iChIV8vM5sPXENI+FPMbCSh90DN2YYngWMJQwWvAM5r7vuLiIgUskzX+DcH7gVOTiibBXzX3T9o6hu6+5lpJg1PUdfZOEywiIiINFOmVv3XEvrRXw18izAs7/aEHwMiIiLSBmU61f9t4Cp3/01NQTTa3nNm1sPdq3MenYiIiGRVpiP+HYFZSWUzCV3sdsxZRCIiIpIzmRJ/e2BtUtn6hGkiIiLSxjTUqv8XZvZFwuuaAXVuMbOqhHJ399OzG5qIiIhkW6bE/zzhyH7rpPJ/RfMll4uIiEieyzSAz7AWjENERERaQJNv0iMiIiJtjxK/iIhIAVHiFxERKSBK/CIiIgVEiV9ERKSAKPGLiIgUkEx357uvMQty9/ObH46IiIjkUqYBfAYkvS4mDNqzOHpsEz2WAJ/kJDoRERHJqrSn+t19v5oHcB2wDDjY3bd194Huvi1wCPA1cEPLhCsiIiLNEfca/02EW/S+mFjo7v8BrgZuznZgIiIikn1xE39/YEWaaSuAvlmJRkRERHIqbuJ/BRhvZtslFprZN4DxwOwsxyUiIiI50NBteWtcAEwH5prZbDY27tsXWAp8NzfhiYiISDbFOuJ39zeBnYBLgXeBztHzpcBO7v5GziIUERGRrIl7xI+7rwLuymEsIiIikmOxE38NM+sAdEoud/d0jf9EREQkT8RK/Ga2BXAjUEq4tm8pqrXPYlwi0kwV8yoom1NG5dJKinsWUzqklIE7DGztsESklcU94v8/4Djg98BbwJqcRSQizVYxr4IJ0ydQ1L2IPlv1oWpFFROmT2DMiDFK/iIFLm7iPwq41N1/n8tgRCQ7yuaUUdS9iKJuRQC1z2VzypT4RQpc3H78y4H5uQxERLKncmklPbr2qFPWo2sPKpdWtlJEIpIv4ib+XwIXmZlu4yvSBhT3LKZ6ZXWdsuqV1RT3LG6liEQkX8Q91b89MAh418yeBb5Mmu7ufkVWIxORJisdUsqE6ROAcKRfvbKaquVVjDxoZCtHJiKtzdy94UpmHzdQxd29f3ZCap6SkhIvLy9v7TBEWp1a9YsUDjOb7e4lcerGOuJ3937NC0lEWtrAHQYq0YtIPbpmLyIiUkDiDuBzUUN13F3D+YqIiOS5uI37JmaYVtNIQIlfREQkz8W9O1+75AewFXAm8BqwZy6DFBERkexo9E16arj7l8BfzKwHYUjfYdkKSkRERHIjG437PgZidSEQERGR1tWsxG9m2wE/ISR/ERERyXNxW/UvYWMjvhqdgM2BVYTb9YqIiEiei3uN/07qJ/5VhBv3/MPdl2Y1KhEREcmJuCP3jc9xHCIiItICGtWq38y+ARxA6Mr3BfBfd/8sF4GJiIhI9sW9xt8euAMYBbRPmLTezO4GfuTuG3IQn4iIiGRR3Fb91wLnA+OAvkDX6HlcVD4++6GJiIhItsU91X82cJW7T0goqwRuNTMHfgxcne3gREREJLviHvFvA1SkmVYRTRcREZE8FzfxvweckWbaGcC72QlHREREcinuqf4bgIfMrBiYCiwiHOWfChxG+h8FIiIikkfi9uOfYmZfEhr5/QboCKwFZgNHu/vTuQtRREREsiV2P353nw5MN7N2QC/gc3XhExERaVsavMZvZl3MbLWZnQjg7hvcfXE2k76Z7WZmryY8vjKzS8xsvJl9mlB+bLbeU0REpBA1eMTv7qvMbDGwLldBuPu7wGCoHSzoU+AR4DzgV0ndCEVERKSJ4rbq/z/gx2bWMZfBRIYDH7r7Jy3wXiIiIgUl7jX+LYG9gblmNoPQqj/xbn3u7ldkKaYzgAcTXo82s7OBcuAn7l6VpfcREREpOOaefLfdFJXMPm6girt7/2YHY9YJ+AzYy90XmVlv4HPCj4zrge3c/fwU810AXABQXFy87yef6GSBiIgUDjOb7e4lcerG7c7Xr3khxXYM8Iq7L4red1HNBDO7B/hbqpnc/W7gboCSkpKGf8mIiIgUqLjX+FvKmSSc5jez7RKmnQS80eIRiYiIbEIyHvGb2WGE/vqvR68NuDmp2jJ3v665gZhZN+BI4AcJxbeY2WDCqf65SdNERESkkdImfjM7GngcODihuB0wBlgArInKepvZ2+7+1+YE4u4rgJ5JZd9rzjJFRESkrkyn+i8Cprj7zBTTjnf3ftG1/zuAc3ISnYiIiGRVpsQ/lDCITkOeB2K1JBQREZHWlSnxFwELEwvcfT3hjnwfJhRXR3VFREQkz2Vq3FcFbJdc6O4PJxVtB3yZzaBEREQkNzId8f8XOD3GMk6P6oqIiEiey3TE/yvgGTP7GfDz5LvxRV37rgROBA7PXYgiIpueinkVlM0po3JpJcU9iykdUsrAHQa2dlhSANImfnf/l5n9BLgV+IGZPQPMI/Sp70O4mU5vwvj5z7dEsCIim4KKeRVMmD6Bou5F9NmqD1UrqpgwfQJjRoxR8pecyziAj7v/2syeB34EHAJ8I5r0GfA0cIe7z8ltiCIim5ayOWUUdS+iqFtoF13zXDanTIlfcq7Bsfrd/RXgvBaIRUSkIFQuraTPVn3qlPXo2oPKpZWtFJEUknwbq19EZJNX3LOY6pXVdcqqV1ZT3LO4lSKSQqLELyLSwkqHlFK1vIqqFVVs8A1UraiiankVpUNKWzs0KQBK/CIiLWzgDgMZM2IMRd2KmP/FfIq6Falhn7SYBq/xi4ikoy5pTTdwh4H6rqRV6IhfRJqkpkta1YqqOl3SKuZVtHZoIpJBoxK/mR1jZj8zs7vNrDgq+6aZfaOheUVk05LYJa2dtaOoWxFF3Ysom1PW2qGJSAaxTvWbWW9gGrAvMBfoB/wOqCR09VsFXJibEEUkH6lLWsvQ5RTJtrhH/HcAmwG7Rw9LmPZPwih+IlJA1CUt93Q5Jfsq5lUwftp4zp90PuOnjS/I7zJu4j8auMrdPyAM2ZtoPrB9VqMSkbynLmm5p8sp2aUfUkFjrvGvT1PeC1iZhVhEpA1Rl7Tcq1xaSY+uPeqU6XJK0+mHVBC3O9+/gR+Z2RMJZTVH/ucDz2Q1KhFpE9QlLbeKexZTtaKqdix/0OWU5lC7lCDuEf8VwH7AG8D1hKQ/KrqBzwHAVbkJT0SkcOlySnapXUoQK/G7+xtACVAOnEs47V9KuE3vUHd/L1cBiogUKl1OyS79kArMPbmtXttWUlLi5eXlrR2GiIjkoU21e6SZzXb3kjh14/bjfwa4yN3fSTFtV+B37n5448IUERFpWWqXEv8a/zBgizTTtgC+mZVoREREJKca052v3jUBM+sEHA4szFpEIiIikjNpT/Wb2TXA1dFLB14ys3TVb81yXCIiIpIDma7xPwl8Thie93bgl4Rx+hOtAd5x93/nJDqRNDbVBjoiIrmWNvG7+yxgFoCZfQ084e6ft1RgIunUDLtZ1L2ozrCb6uYkItKwuP3473f3z81sTzP7npmNM7NtAcxsZzPbPLdhimykYTdFRJoubne+7sAk4BRgbTTfPwiN+m4k3J53TI5iFKljUx52U5cwRCTX4rbq/xVwIOH2u5tT97a8TxLu3ifSIjbVYTd15zARaQlxE38pcIW7P0v9u/R9AuyY1ahEMthUh93UJQwRaQlxE39XYGmaaZuT/pa9Ilm3qY5frluwikhLiHtb3lnA2YTr+slOAV7MWkQiMWyKw27qFqwi0hLiHvFfBZSa2T+B7xMG9DnWzP4InApck6P4RArGpnoJQ0TyS+y785nZQcBNwP8A7YlG8wMud/f/5CzCRtLd+aQtU6t+2ZRoe245jbk7X6Nvy2tmXYEi4Et3X9GE+HJKiV9EpK7WSMCJA2316NqD6pXVVC2v2iTa4+SjxiT+xtykBwB3X+nun+Vj0hcRkbpaq5uoeqnkr0w36bmlEctxd78iC/GIiEgWJSZgoPa5bE5ZTo+8N+WBttq6TK36T23EchxQ4hcRyTOtlYDVSyV/ZbpJT7+WDERERLKvtRJw6ZBSJkyfAFDnGv/Ig0bm9H2lYY2+xi8iIm1Ha3UT3VQH2toUNKY73zbAJcD+wHbAAmAmcLu7L8pZhI2kVv2FQ12FROLR/8qmL+vd+aI+/E8C64CngcXANsCRQEfgmHzpy6/EXxjUVUhEZKPGJP64Q/ZOBGYDx7v78oQ32gz4G3AHsE9jAxVpqtZqqdxW6AhPRNKJe41/d+CXiUkfwN2XAROAPbIdmEgmuqFNerq9r4hkEjfxvwVsm2badsA72QlHJJ7insVUr6yuU6auQoEGThGRTOIm/h8B48zsdDPrDGBmnc3sDOCnwOhcBSiSim5ok57OhohIJnGv8T8GdAP+DGBmy4DNommrgEfMrLayu2+TxRhF6qnpKpR4HXvkQSN1HRsNnJJM7R1E6oqb+O8kjM4nkjcG7jBQO/AUNHDKRom9PxLbO6j3hxSyWInf3cfnOA4AzGwu8DWwHljn7iVmthXwF6AvMBc4zd2rWiIekbZIZ0M2Uu8PkfriHvG3pMPc/fOE1z8FZrj7TWb20+i17gsgkoHOhgS6UYxIfbETv5mdBpwEbA90SZ7u7vtnMa5EJwDDor/vB55DiV9EYlB7B5H6YrXqN7ObgIeA/sA84M0Uj2xwYLqZzTazC6Ky3u6+ACB6VsNBEYlFvT9E6os7ZO9i4Ffu/oucBmP2DXf/LLovwNOEboTT3H3LhDpV7l6UNN8FwAUAxcXF+37yySe5DFNE2hC16pdCkIshe9cShuzNKXf/LHpebGaPEG4ItMjMtnP3BWa2HeE+Acnz3Q3cDWGs/lzHKSJth9o7iNQVdwCf3wDft8TO+llmZt3NbPOav4ERwBvANOCcqNo5hDEFREREpAnidue7xcwmAO+Y2b+AL+tX8eY2uOvNxoGAOgB/dvd/mNksYIqZjQQqgVOb+T4iIiIFK1biN7OzgEuADYQR+9YkVXGa2dLe3T8CBqUoXwoMb86yRUREJIh7jf8mwiA6P3T3r3MYj4iItFFqSNk2xL3GvwVwn5K+iIikottBtx1xE//DwGG5DERERNou3Q667Yh7qv8p4CYz2xZ4hvqN+3D3J7MZmIiItB0aHrntiJv4H4yez48eyRxon5WIRESkzdHwyA3LlzYQcU/192vg0T8n0YmISJug4ZEzy6c2EHH78WsMXBGpJ1+OYKT16XbQmeXTLaIbc3e+DsDJwMHAVsAXwL+BMndfl5vwRCRf1RzBFHUvqnMEM2bEGO3sC5SGR04vn9pAxL073zZAOeFa/7cIp/a/Rbhj3ywz2zpnEYpIXlIrbpH4insWU72yuk5Za7WBiHuN/zagJzDU3fu7+wHu3h8YGpXflqsARSQ/VS6tpEfXHnXK1IpbJLV8agMRN/EfC1zh7rMSC6PXYwlH/yJSQPLpCEYk39W0gSjqVsT8L+ZT1K2o1S6Lxb3G3xlIN2rf10Cn7IQjIm1F6ZBSJkyfAIQj/eqV1VQtr2LkQSNbOTKR/JQvbSDMveHb15vZDELyP8rdlyeUdwemAyvd/YicRdkIJSUlXl5e3tphiBQEtepvOn13kk1mNtvdS2LVjZn4BwPPEgbqmQ4sArYBjgIMGOburzU54ixS4hdpmwopESb2iEg8W6IeEdJUjUn8sa7xu/urwC7A3cDWwJGExP87YJd8Sfoi0jblcnCTinkVjJ82nvMnnc/4aePz4qYx6hFRWD5Y/AGX/eUyOv2wEzbKsFHGitUrWi2e2P343f1z4Kc5jEWkRRTSkWVbkavBTfJ1rIF86tMt2fXlii+Z9J9J3PHMHXz8+ccp62y9+da0b9d6o9ynTfxm1hH4ITDL3V9KU+d/gP2A/3P3NbkJUSR78jURFLpcJcJ8Gi0tkca13zSsW7+OR199lInPTORf7/0rbb2ibkWMPnw0P/jmD9i+aPsWjDC1TEf85wJXArtnqPM2UEa4zn979sISyY18TQSFLleJMF+PrNUjom16+eOXmfjMRP740h8z1jv3wHMZffho9t1x3xaKrHEyJf5RwB3uXu8WvDXcvdrMJgJnocQvbUC+JoJCl6tEmK9H1hrXPv/N+2Iev/vX77jjmTv4elW63uwwfI/hjD5sNMcNPI4Oyk2e9AAAIABJREFU7WNfPW9VmaLci3jX9F8CxmUnHJHcytdEUOhylQjz+cg6X/p0CyxbtYw/vfQnJj47kTc/ezNtvV222YXRh4/mnAPOoUe3Hmnr5btMib/hfn4ibUw+J4JCl4tEqCNrSbZhwwb+8eY/mPjMRP7+xt/T1uvcoTM/OvxHXDjsQvpvvWndeT5T4n8POAh4poFlHBTVFcl7SgSFR0fWhe31+a8z8dmJ3P383Rnrnb7f6Yw+bDQH7XwQZtZC0bWOTIn/z8A4M5vq7m+nqmBmewCXAD/PRXAiudCURKAugCJBPv8vLPpqEfc8fw8Tn53Ioq8Wpa13wE4HMPqw0Zy8z8l07ti5BSPMD2lH7jOzTsAMYDDwW+ApoJJwCaCYMGrfhcAc4Ah3X9sSATdEI/dJtmmUNZEgn/4XVq1dxZRZU5j47ERmzZ2Vtt72W27P6MNHM/LgkWy9+aZ7B/nGjNyX9ojf3deY2ZGEo/kLgZ/8//bOPL6q6lr835U5ATIAIYAkTApaLYKiggMCaqdXtVJrrS1acWjVYKn6Xt9P+tpYWzu82toSHyoFFNunfVpUWrWtMjpAHQDTyCCThCBhSEICZE72749zb3pzufM9d17fz+d+knvOvuess/c5Z+219tpru54DOAE8Dnw/XpS+kpjEswUBOgUwHon3eyZZidWzYIxh7UdrqVxVyZ82/sln2btm3MWd0+/kU8M/FTF5Eh2fcw+MMW3AvSLyfeBcwJl5YD/wnmO/ooRMIiTU0SmA8UUi3DPJSrSehR0Hd/Do6kepXF1Jd0+313JXnn0l5TPKufyMy0lLC3SVeSWgSYfGmFbgzQjLoqQgiWBN6xTA+CIR7plkJRLPQuOJRpa+tZTK1ZVeU9wCnD3ibMpnlnPD+TeQl50X8vmUIHL1K0okSARrWqcAxheJcM8kK+E+C51dnbz0wUt+U9wO7DeQuTPncvu02xleONwW2ZV/oYpfiSmJYE3rFMD4IhHumWQl2GfhH7v/wYJVC/jDP/7g87g3X3Qzd824K25T3CYbqviVmJIo1rTOBY8fEuWeSVa8PQv7GvaxcM1CKldXJl2K22TD63S+REWn8yUeiRahHY/yxqNMkSTVrjfeCDTFbdnAMu77zH3cdOFN5OfmR1HC1COY6Xyq+BUlCOJpHnM8y6QkDz09Pbxa/SqVqyv5a/VfvZbLychhTPEYzht9HmUDy/Q+jDK2zOMXkSXBnNQYMyeY8oqSiMRjRHk8yqQkLlW1VVSuqmTRG4t8lnNPcVuxoqJP7IXeh/GLrwGWT7t9LwOKgUOOzxDH5zCwNyLSKSlDorhu7Y4ot+O6NcpdCZVgUtzOnTGXL5/7ZbIysjyW0fswcfCVue885/8iciXwCHCNMeZtl+0XAU8BP46kkEpyk0gJWeyMKLfrujXKXQmEts42/vjuH6lcVcl7e70Ph44oGsHcmXOZc9EcBg8YHPDx9T5MHAINqfwZVmret103GmPeEpEfAD8HVtgtnJIaJJKr2s6IcruuOxZR7onioUlVjDGs3raaytWVvLDpBZ9l7UpxG+vZFnpPBk6gOQ7HAC1e9rUAo2yRRklJauprKMgt6LMtXl2EznnMRXlF1DbUUpRXFLJnwq7rtlOmQHB6KhpbGvt4Kqr2VUXkfIp/dhzcwbxn55HxrQzkNiHt9jQu+9VlJyn9K8++kr/N+xvdj3djFhnMIkPlDZW25LWP9n3oit6TwRGoxb8RqBCRd4wxB5wbRWQ4UAG8HwHZlBQh0VyEds3pt/O6o5lnIJE8NMnIgaMHuPvZu3n+/ed9lptYOpG5M+dy/XnXRy3FbazyXeg9GRyBKv7bgb8DH4vI+/wruO9coB74RmTEU1KBWLsIY0WiXrcGcUWP9s52fvrqT3ngzw/4LDeo/yDKZ5SnbIpbvSeDI9BFej4UkbHAHOA8YCiwHfg9sNSxiI+ihESqpsRN1OtONA9NomCM4U8b/8SNS26ktcP3K3Vgv4E8dfNTfPHsL0ZJuvhG78ngCDhfomMJ3v+JoCxKCpOqKXHDve5YBDQlqqci3qjeX80tT93CO3ve8Vv2Z7N+xj1X3ENmRmYUJEs89J4MjqAy94nI54HJQCnwY2NMjYhMA3YaYz6JkIxBoZn7lFQhlhn7NII6OBpONHDfc/ex9K2lfst+Y8o3+NV1v6J4QHEUJEse4vGejKZMtqfsFZESrOl65wIfA6OB84wxG0VkKdBmjLkjdJHtQxW/kiq4Z0oDer9XXFURO8FSnK7uLn678rfc+9y9fstOLJ3I4psWc87Ic6IgmRJNot0xtyVlrxsLgP7A6ViKv8Nl3+vAD4MRUFGU8NGApvjgtS2vMXvxbJ+Z7wDS09J5es7TXH/+9YhIlKRTYkU8zzQIVPF/DrjJGLNTRNLd9tUCp9grlqIo/tCApuiz69AuvvX7b7Fy60q/ZS869SLOHnE2x9qOxWUWSiWyxHPHPJjFkLu9bB8MaFS/okSZVA9oivT46fG243z/xe/zm5W/8Vv2qrOvovKGSha/ufikzlhGekZcWHlKdInnjnmgiv8NYK6IvOyyzRkcMAdYZatUiqL4JVGnA9qB3es7GGNY8uYSbl12q9+yoweP5smbn2TauGkn7YtnK0+JLvHcMQ9U8X8PeBOoBl7AUvq3ichZwFnAlMiIpyiKL1J1GmS446frd63npiU3sePQDr9lH/vGY9x2yW2kpfnPcB7PVp4SXeK5Yx5oAp9qETkXKz3vN7Hc/rOAlcAtxhj/T4+iKIpNBGNZf3L0E+Y+M5flG5f7Pe5dM+7ioWseIj83PyS54tnKU6JPvHbM/U7nE5E0YBjQZIw5HhWpwkCn8ylK8uNtKuOA7AGkp6Xzo7/8yO8xLh13KY/PfpzxQ8fbKls8zidXkh+7p/OlYU3huxL4axhyKYqi2MKsSbP477/9NzsO7uC1La/R1dPls/zg/oN5as5TfOHTX4i4bPFq5SmKE7+K3xjTJSJ7gYgt7yQipcAyrDUAeoAnjDG/EZEK4DbgsKPo/caYVyIlh6Io8cs/a//JnCfn8N5e/x69n3/553z38u9qiltF8UCgwX0/B+aLyBvGmMN+SwdPF3CvIxPgAOB9EXnNse/XxphfRuCciqLEKfXH67nvuft48u0n/ZadPWU2D1/3sKa4VZQACVTxfwZrnN+5LO9B/jWdD8AYY74aqhDGmAPAAcf/x0RkK5oUSFGSAn9j3sGkuJ1UNonFNy1mUtmkSIqc0GiMgeKPQHP1r6Gvoj8JY8wMWwQSGQWsw5omeA/WLIJm4D0sr0Cjh9/cDtwOUFZWdu7evXvtEEVRlDDxlK/8w/0fsmnfJhpONPj8bWZ6JsvmLOOr531VU9wGSCwXblJii+25+o0x08OSKEBEpD/wJ2CeMaZZRBYCD2J1Oh4EHsZKGOQu3xPAE2BF9UdD1mRELQXFbn735u9YvX01tY21fsvO/8J85v/bfHKzcqMgWeyI5HMWz/nhlfjBr+IXkRygCrjbGBOxqH4RycRS+n8wxiwHMMYcdNm/CPhLpM6f6tidCU1JPY63HWf+i/P57crf+i1bNrCMt7731klz8ZOdSD9nmjlQCYRAovrbRKQQK9o+Iojlx1sMbDXG/Mpl+zDH+D/ANViZA5UIoJZC4hNNj01PTw9L3lrCbctu81u2ILeAayZdw8hBI4F/LR2cakofIv+caeZAJRD856C0+ANwcwTluAiYDcwUkc2OzxeAX4jIP0WkCpgBfDeCMqQ0NfU1FOQW9NmmlkLi4LQkG1sa+1iSVfuqbDn+2zvf5rT5pyG3CXKbkP6tdK9K//HZj9P9eDdmkeGDH3zAVWdfRX5uPj2mh8aWRhpPNDJr0ixb5Eo0Iv2czZo0i8YTjTS2NGp9K14JNKq/BrhORN4DXsFzVP/CUIUwxrwJeIre0Tn7UUIthcTGTktyf+N+5j4zlxc2veC3bPmMcn5yzU+8priN53zlsSDSz5nWtxIIgSr+hx1/hwHneNhvgJAVvxJ7NMf4ySRSsGOoY7ttnW089MpDPPiXB/2eY8b4GTz2jccYN3RcWLKmAt7unWg8Z5o5UPFHQNP5EgnN1R86iaToIk2iTYvylru+KK+IiqsqAGvp2efee44bl9xIe1e7z+MVDyjmqZuf4vOf/nxYclXtq2L+i/M5dOwQ7R3tZGdlM2TAEH7ypZ/EZT3agb97R58zJRIEM51PFb+ieCAQRRpPeFI2uw/tZveR3Ww5sMXv739x7S+Yd9k821Pc3vH0HazZvob8vHxyMnJo62qjuaWZ6eOns3B2cjoJE+3eUZID2+fxOw46BLgXmAyUAtcYYz4Uke8A7xhj1ockraLEIYk2LeqUolNoam3i6Q1P+y1749QbefgrDzN4wOCIy7VhzwYG5A4gN9Oam5+bmcvxtOO8sPkF2rvaI27xxsK6TrR7xxfqnUhOAorqF5HzgR3Al7FW6hsLZDt2D8PqEChK0lA2qIym1qY+2+Il2LGru4uH//5wb4S93CYM/u5gVnyw4qSy55Sdw6b/2oRZZHo/T815KipKH6zhBVeOtx1n/9H9NLc2s3HvRl6tfpX5L863bfaBK5Ge6eCNeL53giFW9adEnkAt/l8Dq4FZWJ0F16l97wA32CyXooRNONZKPAU7/rX6r9y45EYOH/O9PlZWRhbL5izjusnXxU2K2yljprD2o7WICDkZOdQ01NDS3kJhXiEFeQW0dbWx8+BOFq5ZaLvrP1a5KeLp3vFEoM+F5vZIXgJV/OcAVxtjeuTkN0o9MMResRQlPMLNkBaraVE7D+3k9mW3s3r7ar9lzxt1HpefcTknOk5ELPAwXFfvndPvpLaxlsPHD9PU2sTxjuPkZuVSNrAMESE3MxeTa9iwZ4OtckPsXO7xPKUumOcimYYslL4EqvibAG9rXo7BmtevKHGDHdZKpKdFHWs7xvdf/H5AKW6/NPFLLPjaAkYMHHFS8FhWRhZgvyVmR3rZCaUTeOiah3qVYF1zHYP7D6Z/Tv8+5SIRZBzL3BTxOqUumOeibFAZHx38iE+OfkJTaxMFuQUMLxzOuBKdzpnoBKr4XwIeEJH1gHPpOyMig4H7gOWREE5RQsUua8Wu4Kaenh4Wv7mY25++3W/ZU4ecytJvLuXi0y72uD9alphdrl5XJfjtp7/N2o/W0trZ2hvlf6ztGJeOu9RW2SH+Xe7hEOp9Gcy9c9aws1i2fhn5Ofnk5+RztOUoNQ01zJqoWQATnUBT9v4n1tK4W7CWzAV4DNgOtAI/sF80RQkdOwKswgluemvnW5x6/6l9Utx6U/pPzH6iN8WtWWTY8ZMdXpW+XdcWCJFIL3vn9DsZWzwWoPcaxhaP5c7pd4YuqBecLveivCJqG2opyiuK2zwMwRDOfRnMvVN9oJqpo6dSmFfIsbZjFOYVMnX0VKoP6JIpiU6gy/I2isgUrHz6lwEngAbgd8AyY4zvbCCKEmXssPYCtXj3N+6n/H/LeXHzi36Pefdld/PjL/2YATkDgrmcPkTLko2Eq9zd9R/pKWLRcLlHe8pbOJ6YYO6dmvoaxpaM5bShp/Vu6zE9AXX8dBpgfOM1gY+ILAEeNMbsEZFpwEZjzPGoShcCmsBHcRLuy2fO0jmMGDiCNPmXY6yzu5O3dr7F2o/W+v39zNNn8tg3HuO0ktP8lg2WUK8tmN8lWvbCWBCLOvJ0X/aYHmobally85KAZA7kHqhYUeF1jN9XIiK9b2KDXQl8bsJy5+/Bmso3FWvqnqIkBOFae6UDS9l6YCtb67ZSvd+3e9OuFLfe8PSyDjYLXLDBenZFpweiaBLVQozFlLdwPTGengtP9R/qGL9OA4x/fCn+A8B0EdmCtXJejojkeStsjGmxWzhFiSZ76/eycM1CKldXcqL9hNdyU8dM5Y7pd/C1879GRnrAyS9Dxo7oegjthRxu5ykQ2e26vlgQiylv7u76XQd3UX2gmtEDR1OxoiLoTpO3+u+X1Y+po6eyv2k/TS1NFOYVcuawM6k+UM21XOv1eDoNMP7x9dZ6AvgZ8FOs1ff8TSxOt0soJbIkqnVlJ8fajvH0+qdZsGoB2+q2eS13SuEp5Gbl0tPdQ+mgUsqnl3Pted5fepHALgsqFi/kQGSPhIUYrXs8FlMGXT0xm2s2s+fIHs485UxOHXJqSJ0mb/W/7qN1XHn2lUGP8esS3/GPV8VvjPmRiLwMnAEsA34M7IqWYEpkSGTrKlS6e7p5ueplKldX8tqW17yWy83M5e7L7ubbl36bUYNHeRyrXFG1gnFDx9k+nu4LuxR2LF7Igchud4ckmvd4rKYMOj0xFSsqGDl4ZFidJm/1b4yhqbUp6PslmadRJgs+/ZTGmPeB90XkMmCpMWZPdMRSIkUqjL9trtlM5epKFr+52Ge5UYNGcd7o8xhfMp7mtmYaTzRyw/k3MGrwKCC8urJT+dilsCPxQvbXuQlEdjuuz1WO3Ud2c0rBKT7bza5OWayz9NnRafJW/1PGTKHxRGPvMQO9X2JdJ4p/Ap3Od7P/UkoikGzjb3VNdTyx7gkWrFrAkeNHvJa7+NSLmTtzLtdMuobMjMyTst95Ug7h1JWvToPzb6BKxy6FbfcL2bVzk5meyavVr/L7Db/nijOu4I7pdzChdEJAsnsqs+vQLkqLSpmzdI7fOnr+3ed58OUH6ezppLh/MTUNNTQcbyA/N5+SgpLe4zrbzW6PQCyz9NnRafLWRvd95j6AkO6XeM1cqFgEsyzvZKxFekYAOe77jTHX2SiXEiESefyttaOVZ999lgWrFrCpZpPXciMHjaR8RjlzLp7DwH4DPZYJRKmHU1fejr9572Z2H94dlNKxU2Hb+UJ2dm7aO9vZsGcDOZk5DOw3kI37Nva5Jn+yu5fJyshCRMjKzKI4v9hnHVXtq+LBVx5ERCjuX0xbVxutHa1kpmeytW5rr+J3bbdk8nrZ0Sn010aJVieKfwJS/CJyB/AocARred6OSAqlRI5EGX8zxrBy60oqV1fy0uaXvJYTEcpnlHPXjLsYP3R8wMd3KvX2zna21W2jqbWJrIwsJpVO6nUDb967mT0Nezhr2FmMLRkbVF156zQcbTvKyOLgx2Tj0YJydm5e2fkKR44dodt0k52RTW5GLkX9inqvKRDZXctUrKggOzM7oDpavmk5nV2dFA8oRkTo7u62AtAaamhsaWR8yXhysnL6tFsyeb3C7RS6D3nMu3xe3N1niv0EavHfBywBvm2M6YqgPEoQhDJOGa/jb9vrtvPo6kdZsGqBz3KnDz2de664h1svuTWspWdnTZrF/S/cz67DuxiQM4DM9EyaW5rZemAr979wP2OHjGVC2QTycvKo3l/NiY4TTCybGHBdeetgFeYW9qbBrWuqY1vdNo62HO39TazbIRici7jsPrybnMwcsjOyae9sp62zjbaONmpaQ1OkwSjmmvoaigdYln53dzf7GveRkZ5BTmYOWRlZrNy2kivOuKKPtyCRvV6eCLVTmIqBvopFoIp/CPCMKv34IZyHNtbWY8OJBha/uZgFqxawr2Gf13LnjjyXq8++mq11WykeUNyrQN/Y8QYXjL4grGuYUDqB0qJSDh8/TEdnBwV5BZxbdi4b922k7Xgbk0dZCbDGlYyjeEAxRXlFQSXM8dbBWr5pea+nYf3u9b0KSkQS7qU7a9IsZi+eTVZ6FoLQ1dOFwTBkwBA2127m82eFlswoGMVcNqiM9s52qj+p5siJI2SkZdDV00V2RjZXTriy13PgWqeJ4vWKNMk05KEER6CK/1XgAmBlBGVRgiBRHtqOrg6Wb1xO5epK3tr5ltdyxQOKKZ9Rzu3TbmdowdDe7RUrKnoVL9h7ne1d7Xz2zM/2SX3avqvdSlflQqhuYG8drF/+/ZdsP7id7Ixs65yd7Vw49kKyMrPirv18MaF0AqMHjyYjLYM99XvIzcxlROEI0tPTqT9Wz6xJoa3iFoxidpY9a/hZvL71dXpMD+lp6Vxy2iUMLRjaO+/c3Tt21YSrqD5QHVder2iTTEMeSnAEqvgfBZ4QkUzgNeCoewFjzBY7BVN8E48PrTGG9bvWU7m6kmfeecZn2VsvuZXyGeWcXXq2z3KhXGegQyBlg8rYUbejNzNZQV4B3aabvKy+CSrtdAM7PQE3Lb0J02Mo7FfIOaXnUFJQEvACKMFcY6SZWDaRkYNHMqZxDO9+/C4f139MTlYOF465MGR5ghmOci27pW5Lb5yGs/PojN1w946tqFqRUN6VSJBsQx5K4ASq+J1Z+37IyUvwClZmP83cF0Xi4aF1prhdsGoBLR3eMzZ/9szPUj6jnM9/+vOkpwV3mwR7ncEMgXjKRd7Y0khRvyIaWxoj5gaeUDqBqydeHXL7xdPYrGusxJD8IQzJH8Kx1mO0dbVRta8qrERHgV6Ls6zT+s/OzKbH9PS2Xb+sfhT1K6Kjs4N1+9bR1NJEVmYWC9csZOHsheFWQcKiQx6pS6CKf0ZEpVD84v5yPGvYWayoWgFE56E91naMp95+isrVlWyv2+613BnDzqB8Rjmzp84Oa+lZJ8G+nIIZAqk+UM2UMVN6Vx8rzCvkU8M/RX5OPkV5RRF1A4fz0o32MI8v74K3WIlAhy3s7MR48xQ88voj9JgeNuzeQE5WDvm5+bR2tvLa1tcC7pwkI/Ea6KtEnkAT+Phfg1SJGJ5ejiuqVkRsnDLQFLf9svsxd+Zcvn3ptxk5aGTY5/VEsC+nYCPCTx1yKuNKxvVucy5vGuzKd4Fg1zizp2ts62jjxe0v2u76d7/3dtTtYPaS2YweOJqJIycya9Isj7ESgQ5b2N2J8eQpKBtUxqvVr5KTlUNuZi5gTQMd1H9QVGIq4mVYxhOxDvSNNfHcNpEk8kuLKWHj7eVYfaDaFgUVaIrbr1/wdcpnlHPBmAvCmkoXLMG8nIKNCI/WcIm3zpsdKXzrmupYt2Md+bn5trv+Xe+9g00Hqf6kGhGhsbWxzypuoeR0r9pXxUubX+qNdThj6BmUFJTYHqsya9Isfr/+9wzsPxBjDG1dbbR1tjFl9JSIx8TE07CM0pdUbhuvil9EDmON3QeEMWaILRIpJ2FnIF9dUx2Pr32cBasXUH+83mu5S067hPIZ5b0pbhOFYCPC73/hfg4fP0x7ZzvZmdkU9y/moWsesl0uOy1b92vctG8TGDin9BzSJM1W17/rvbe1bis5WTnkZOTQ3Nbce572zvagc7o7X7pZGVkYY2jtbOXtXW/3zm5w7TSEa5VNKJ3A5Z+6nE37NtHc1kxBbgGTSieRnZnNsLxhoVRLwCTK7JtIEO/WdCq3jS+L/1GCUPxK5AjVMm3taOWZd56hcnVl2CluE4VghwZ6PRfG7bvN2Nl5c7/Gjq4Opo2b1pueNpxju+N67zW1NJGfm09bV1tvEqKC3AJqW2uDHit2vnQnlU7qzWeQnZnNxn0bGV8yvrfTYJdVduf0O09aaTEagWzxOPsmGiSCNZ2qbQO+l+WtiKIcig8CsWIDTXGbJmnMnTmXO6ffybih47yWS2QCHRpYvmk5Y4rHcO7Ic3u3NbY09vb47bBYnMfYWLORDw982Dt1D8IbVnBPcdvY0thnv11DFq73Xn5uPk2tTRgMk0on9TlPoHXurI8/bPgDwwuH86lhn2LqmKl9Mhi6Kge7rLJYBbLFw+ybWJAI1nSqtg3oGH9C4Omlddn4y1j0xiIqV1f6/O01k66hfEY5M06fEdVx+UTAV4/fDovF9RgXjL6AdTvWsWb7GqaNm3ZS/vhwiOS0LNd7ryiviKMtRznzlDMZkj+ExpbGoM7jWh/DC4fT1NrU696fPn5670vYWb9V+6p4cdOLABTmFXL60NMZWjDU9oRKkSRVp8wlgjWdqm0DIMYklzd/8uTJ5r333ou1GLZSf7yexW8upnJ1pd8Ut3NnzuWr532VnMyTFlCMG+Jl7M99aV6gz3dv+wINqHQ/fl1THZv2baKjq4MLRl+AILR3tdtSB9Gq03DO41ofdU11rN+9HkEoyC1gYtnE3qVgnd4WZ4ZDYwwiQltnG1PHTO1Nw+vaDsHKFc17MF7u92ji69mKxIyZUEmmthGR940xkwMqq4o/trjfeFdOuJIdh3b4TXE7ZMAQ5s6cy62X3NonxW2842r1ua/9He0Hzpcsj7z+CCMGjjhpilptQy1Lbl4S0PHnLJ3j8RhVNVXk5+XHRR1EE/f6qGuqY+uBrXxy9BO+PuXrfV66TsXR0dnB27veJicrp7cDML5kfJ+6Cvaeiqd7MFnROo4+wSh+dfXHkA9qPuB7y7/HniN7+OjgRwA88OcHPJa97ZLbuGvGXX5T3EYD185KdkY2BkNHV0dAPWbn2F+ks6gF0pP3Ne7rOv53sOkgW+u2cqj5EEPyhwSc9MXupXnjiVAsJff6GFowlOzMbGacPuMkK9DpKk7LS+PCsReytW4rR08cRdLkJOUR7HhyIow/JzqaHCi+UcUfRT4+8jH/s+Z/qFxdSWtHq9dyY4vH8shXHwkpxW2kce3JZ6Znsmb7GhCYdtq0gMbBa+pryEzPjGgWtWDG572N+zrH/440H+Gf+/9JWloaGekZDC8cHvBYv+sYYltHG5trN1N/rJ709HTGl4wHlyUB4m380xehxj8EM6bq2kkoKSihpKDkpBgAJ4GOJ3sKLHQGWiZS/ScKqZ4cKJ5RxR8hmlubWbZ+md8Ut4P7D7aWmB0xgayMrF538hfP/mJE5Ap3TMvVWlqzbw35efkAbD+4nenjp/eW8XbMaGRRs8Oic1osdz97N12miyF5Q3qDy1wj/wM5xsI1C1m5bSWD+g/isjMuY3PtZtZ9tI7p46d7jfAPt50iOXYZav0GYwWG2klw4qk+vQUWlhSU9C7mU7GiIinGexXFF2n+iyj+6O7pZsXmFXzm159BbhPkNqHg7gLmPjO3j9IfkDOA//f5/8fen+3FLDL88MofcsMgS0QyAAAUdklEQVQFNzB51GSyMrKAyE4ncb78Glsa+1hqVfuqAj5GTX1N7xzuppYmcjKshC5NrU2Af8tp1qRZ1B+rxxjTm7ilrbONiSMm2mZxucroJFSL7mjLUbLSrbapP17Pmu1rWLt9LS9uetFvvTmV74Y9GxjUfxCTSicxrHCYNRVOYOO+jfSYnt7oeOcytuG2kx3t7Itw6ndC6QQqrqpgyc1LqLiqwqtidXYSivKKqG2opb2znX5Z/Xjk9UeoWFHR51pmTZpF4wkrk6Cn+oS+nZUzhp2BwYoX2HJgC40tjew6tIv9R/dHrM4UJZ5QxR8Cm2o2ccuTt/Qq+YxvZXD1o1eflNd+zOAx3HLxLWz+r82YRYbmBc08NOuhXsUeyAvLTlxffs4Mb0X9ili+aXnAxygbVPYvJZ9XYKU/dUno4q/j4syiJiI0tzWTm5nL1DFTycnKsa3D4yrjwaaDrNm+huffe57dR3YHrTyzM7PJysjiyPEjvL7tdeqP15OVkUV2ZrZPxVC1r4r5L87n1epX+fjIx9Q21LJq2yo+3P8h2+q20d3dzd76vVTtq6Ior8jr3PVQ2smOdvaFa/06iUSH1dlJmHf5PFo6WsjKzPKolN07Ce71CX07K0MLhjJ1zFQKcgv45OgnFOUVUVpUypjiMRGrM0WJJ9TV74e6pjoeW/sYlasrfaa4nTZuGnNnzmX0oNH8ZuVv+kSzPvzaw17Hl6MZAGPH3FpXF+z4kvGs+2gdCEwcMTHged3BZlFzdVtnZWT5nQZnx/i8U3meU3oOb+96m8aWRrLSs2hoaWCwDO5NLevNvb1wzUJ2HtxJfl4++bn5tHe2c6j5EKu2ruLUoadS2K+Qov5F5Ofmn3QN4bZTpOdQ2zH/OZihiECGFvyNJ/sLLJyzdA7F+cV9fqPj/kqyoha/D5pbmxl23zAe+PMDfZT+6MGjefgrD9PwSANmkcEsMqz997Vce+61/Lnqz0FZW4G6Pu3ADkvN1brq7O5k+vjpXDruUjq7Oz1aWv6O4c1Cc+Lqts5Mz2TtR2tZs30NmemZXt2xzuNvP7idA80HqGuuIysjy1puN0ArzmkhlhSUcOHYC+nu6QZjDes4x4V9KYYNezYwIHcA3d3ddHZ10tTaxPH245zoPAFAe1c7k0oneZQn3HaKtEUeTPt5ItihCDuGbvx516LlxVCUeEAtfh/k5+Zz3eTrGFYwLOAUt5GytuwI1rIrU5Ud0brBpNXtE0yYG3gw4dGWo4wePJrczFzautpYv3u9tSJbq/+2cI8qP33o6RxtOUphXmFAKXeNMbR0tHD42GEy0jMozCvkUPMhOrs76e7uZuqYqQwtGOpx+dpw2ykaGcnCuQeCDQ60I7WqP+9aKmdxU1IPtfj98Mdv/ZFHrn8k4Lz2kbAc7ArW8mWpVe2romKF5fJ0D56KJX2CCVtdgglbfAcTLt+0nEEDBiEiiAi5mbnkZOawuXZzQG3hbiEOLxxOc1szpxScElA8xpQxU6hrqgMgQzJIkzSyM7MpzCmkf07/3qRLnu6NcC3qcH8faYK14O2KhfHlXYv3OlMUO1GL32YiYTnYmXDEk6UWzytpuVp7BbkFtHZa+Q8K8nwHE9bU1zBxxEQ27N4AQE6Glfmt4URDn+h5b14UdwtxXMk4Zk2cRfWB6oDiMe6cficvf/AyPfTQ3t1Oelo6g/sPJjs9m0PHDtFjenzeG+F6VeJ5DnWwFny0YmHiuc4UxU5U8dtMJF5SkQ7WiudMZicFE+5YBwYmjvMdTOhULs6sb84MgVeccUWfXPC+OjueFMG1XOtXZmeHIjc7lxMdJyjMKWRowVBOH3o6x1qPsb9pP7UNtSmbzSyUzrEqZUWxD1X8EcDul1Skl4+M55W0+nSkWmu4dNylvVH9w/KG+U0AU9SviGnjpvUqlzum3wFErrPj2qGYMX5Gb0dlfMl4sjOzaelo4bfX/zallVg8pXNNpkVaFCVQVPEnAJEOPIr3dalD6Uj5Uy6R6uz06VDkwaXjLmXTvk288/E7XD3x6pSw8ANdJyHW9RDPQ1yKEklU8fsgXqyBSFtIyRrR7Eu5RKqz496hGFowlM/mf5bahtq4Wo40UiSSMo3nIS5FiSSq+L0Qby+wSFpI8eR6jRbhdHZ8dQjj3XsSaRJJmcbzEJeiRBJV/F5IpBeYHcSD6zWahNrZ8dchTFbvSaAkkjJN9U6akrqo4vdCIr3AlNAIpbPjr0OYit4TVxJJmaZ6J01JXRJC8YvI54DfAOnA74wxP4v0ORPpBaZEj0A6hInsPQklrsX1N9kZ2exr3MfYIWPjXpmmeidNSV3iXvGLSDrwKHAFUAu8KyIrjDFbInletQYUTyRzhzCUuBb33zS1NiEitHe2U9sa/7kKErmTpiihkggpe88HdhpjdhtjOoBngasjfVJN4al4ItpLKUeTUJbz9fSbMcVjGFowNCoLTymKEjxxb/EDpwD7XL7XAhe4FhCR24HbAcrK7LO81BpQ3Elm93AocS0aC6MoiUciKH7xsM30+WLME8ATAJMnTzYeyiuKbSRrhzCUYYxkHvpQlGQlEVz9tUCpy/cRwCcxkkVRkpZQhjGSeehDUZKVRFD87wKnichoEckCrgdWxFgmRUk6Qolr0VgYRUk84t7Vb4zpEpFy4G9Y0/mWGGM+jLFYipKUhLougip6RUkc4l7xAxhjXgFeibUciqIoipLoJIKrX1EURVEUm1DFryiKoigphCp+RVEURUkhVPEriqIoSgqhil9RFEVRUghV/IqiKIqSQqjiVxRFUZQUQhW/oiiKoqQQqvgVRVEUJYVQxa8oiqIoKYQqfkVRFEVJIVTxK4qiKEoKoYpfURRFUVIIVfyKoiiKkkKIMSbWMtiKiBwG9gKDgSMxFkex0LaIH7Qt4gdti/ghGdpipDGmOJCCSaf4nYjIe8aYybGWQ9G2iCe0LeIHbYv4IdXaQl39iqIoipJCqOJXFEVRlBQimRX/E7EWQOlF2yJ+0LaIH7Qt4oeUaoukHeNXFEVRFOVkktniVxRFURTFjYRW/CKyREQOiUi1l/3TRaRJRDY7Pj+ItoypgoiUishqEdkqIh+KyHc8lBER+a2I7BSRKhE5JxayJjsBtoU+G1FARHJE5B0R+cDRFg94KJMtIn90PBf/EJFR0Zc0+QmwLb4pIoddnotbYyFrpMmItQBh8iRQCSzzUeYNY8wXoyNOStMF3GuM2SgiA4D3ReQ1Y8wWlzKfB05zfC4AFjr+KvYSSFuAPhvRoB2YaYw5LiKZwJsi8qoxZoNLmVuARmPMqSJyPfBz4KuxEDbJCaQtAP5ojCmPgXxRI6EtfmPMOqAh1nIoYIw5YIzZ6Pj/GLAVOMWt2NXAMmOxASgUkWFRFjXpCbAtlCjguNePO75mOj7ugVVXA085/n8euExEJEoipgwBtkVKkNCKP0CmOlw7r4rImbEWJhVwuConAf9w23UKsM/ley2qkCKKj7YAfTaigoiki8hm4BDwmjHG63NhjOkCmoBB0ZUyNQigLQC+7BiKfF5ESqMsYlRIdsW/ESuN4dnAAuDFGMuT9IhIf+BPwDxjTLP7bg8/SckedzTw0xb6bEQJY0y3MWYiMAI4X0TOciuiz0WUCKAt/gyMMsZMAF7nX56YpCKpFb8xptnp2jHGvAJkisjgGIuVtDjGzf4E/MEYs9xDkVrAtQc9AvgkGrKlGv7aQp+N6GOMOQqsAT7ntqv3uRCRDKAAHcKMKN7awhhTb4xpd3xdBJwbZdGiQlIrfhEZ6hwrE5Hzsa63PrZSJSeOel4MbDXG/MpLsRXAjY7o/ilAkzHmQNSETBECaQt9NqKDiBSLSKHj/1zgcmCbW7EVwE2O/68FVhlNsGI7gbSFW8zRVVjxMUlHQkf1i8gzwHRgsIjUAj/ECtjAGPMY1kN0h4h0Aa3A9fpARYyLgNnAPx1jaAD3A2XQ2x6vAF8AdgItwM0xkDMVCKQt9NmIDsOAp0QkHatz9X/GmL+IyI+A94wxK7A6aU+LyE4sS//62Imb1ATSFneLyFVYM2MagG/GTNoIopn7FEVRFCWFSGpXv6IoiqIofVHFryiKoigphCp+RVEURUkhVPEriqIoSgqhil9RFEVRUghV/ErKIiJfEpG/i0i9iHSIyH4ReVZELnIrZ0QkqEU7RKRCRI7YJOeTIvJeAOczIrLDy/6djv0VdshkF45rM45Pl6Mt3hSR/xSRggie93xPdRFuu4nIlx11nR6WgNaxXhaR/wr3OIrijip+JSURkV9jZbbbD9yKlczjP4EBWKt2jY2heKHSBowWkcmuG0XkPGCkY388sg2YClwC3AisBu4DNkVwidrzsfJ+2IaIpAEPAP9tjOm24ZA/A+5xJp1RFLtI6AQ+ihIKInI1MA+42RjzpNvup0XkSqykNonGCawc/NcDrh6C64FVxG/60RNuS6O+LCKPA+8AS4EZsREraC4DxgL/a8fBjDFviEg9VjKmBXYcU1FALX4lNZkHvOtB6QNgjPmzMcbnGgIiUi4iO0Sk3eHa/a6XcheJyEYRaRORzSJysdv+Gx2u7QYRaRSR1e4We5A8C1znko5XgOsc2z3Jd7GIrBWRFoebfZGIDHDZP0xElojIbhFpFZGPROTHIpLlUmaUw1V/nYg8LiJNIlIrIg84rOCgMcbUAj8CpovI6S7nGug4x0FHnb4tIhe4XZMRkXtE5DeOej0qIgucMovIN3EoUpdhhjVux5gkIhsc9bJJRC4JQOybgL87lkJ2HuebjuOfIyJrHMfb7PjeT0SWOuprt4h8zcMx/4TlBVEU21DFr6QUYi2CMhX4exjHuA1LcawArgSeAx4Wkf90K5oH/B54DPgKcBR4VUSGupQZBSxz7L8Ba8GWdSIyJkTxlgMlgLODcQlQDLzg4TouAlYCdVgpfOdhpVRe6lJsMFbq0nuwFjT5b6xUy54s0F8Axx3H+j3wA8f/ofKa4+8Uh7zZWCumXQH8O/Al4DDwuludAtyLtQjU14EfA7cDP3Hsexl42PH/VMfnTpff5mGtyvY48GWgHXhBRPL8yDsTeNvLvqeAZxzHE+B5rFS9n2DV0T+AZSIywu13bwPnikiRn3MrSuAYY/Sjn5T5YClFA3zLbbtgDX05P+KyzwDljv/TsOIClrr9/n+w1lHPcXyvcPzuBpcy/bGU6M+8yJbmOPc24Acu25/EyiXu67oqgCOO/18CHnWR60XH/0eACpffvAGsdjvOTIfcZ3k5TwZWB6UNyHJsG+X4zTK3spuBZ/3I7fXagGzHcb/n+H4L0AGc5ibPLqxxddf22gakuWybj7U+xEDH93Lr9eexHg0w02XbRMe2z/m4juGOMv/mtv2bju03uWz7gmPbEpdtBUAncIfb7511e0Wsnx39JM9HLX4l1XCufe6+SMW9WC9e5+cuL78fgfWSf85t+x+BfODTbtt7LW1jLYP7GlZgmSWMyBki8oKIHAS6HeceD4wL8Ho88SxwrcNCvhYPbn6H9ToV+D8RyXB+gDcdMpzrKCciMk9EtohIq2PfH7CUcpnbYd29KFuw6itU3Nepvxx4H9jjIi/AWsB9eOQlY0yPy/flQC7gvv66Jzqxlmx1ssXx19e1OD0O3mYErHT5f6fj7yrnBmNME5b34hS33zmP5+7RUJSQUcWvpBpHsFy37i/xp4HzHB9fOJftPOi23fl9oMu248YY9yDBQ85jOMbS/461Fvs9WG7584APgBw/cvhiBZZ34SdAP+DPHsoUAelYHgHXDk871gqXpY5y87Dc4i8AV2N1WpydIncZj7p97wjzOpxK0Fm3g7Hc/p1un5td5HVyyMv3Yfin2bXTYIzpcPzr61qc+9q97Hetmw4P25zb3c/hPF449agofdCofiWlMMZ0ich64DNYY9DO7QdxKBhHXJw3Djj+DnHbXuL42+Cyrb+I5Lop/yEux5iK1QG5whjTuy64hDl/3RhzQkT+AnwXeM4Yc8JDsaNYXo8KrOWS3XEGN37FcYz5LvJ9Khz5guAzjr/rHX8bsGYr3OGhrLvCdW8f5/cDRAZnu9s99c55vAafpRQlCNTiV1KRR4ALRGR2CL+txVKKX3Hbfh3QDPzTbfs1zn9EpD9WYNo7jk25jr/tLmUuxBrXDZeFWJb+Y552OjoDG4Dxxpj3PHycij+Xk5Xq122QzyeOILf/wopB2O7YvBI4FajxIK97vV/tNqNgFtYUzWrH9w7HeeyypPc4jjnapuM5GeX4+5HNx1VSGLX4lZTDGPOSiDwCPCkiM7AU5BFgEJZiBis63dNve8TK+Pa4Y471a8ClWFbo/cYY1yQ5rcBPHAr/E6ykNFnAbxz7NzjOs0hEfoFl/VdgBQ+Ge41r6DtO7Yn/AFaKSA9WlPkxrHH7fwPmG2M+wrq+u0XkH1hBdF/HUr520k9EpmCN6RcCFwLfdshzs0u5ZY7ta0Tkl8BurDY7H6gzxvzapewA4DkRWQScieXdqTTGOC1np4flOyKyCsu9v50QMca0i8j7WLERS/2VD4LJWEGjH9p4TCXFUcWvpCTGmO+KyDqsaVyLsRTFYSy38heMMa/6+O0iR+DcPOA7WF6Ae90UD1hR5DdiTX07A0vZfMEYc8BxnIMi8hXgl1iR+DuwFNt/2HahPjDGvCki07CyzT2NNea/F/gr/xpX/xHWdMAfO74vB+7Gc9xAqJyOVe89WEpuK1ZcwUJH0JtT3jZHR+1HDplLsMbu38GKa3DlYWAM1hS6NOB3wP0u+9/Ampr4HeCnwDpgepjXsRyr/ezkc8ALboGKihIWYox7cLOiKEriIiIGmGuMqYzyeUuAGuBiY8y7NhyvAKsDdrkx5s1wj6coTnSMX1EUxQYcAaK/w/Ii2MEdwAZV+ordqOJXFEWxjweBrWLD6nxYwx5323AcRemDuvoVRVEUJYVQi19RFEVRUghV/IqiKIqSQqjiVxRFUZQUQhW/oiiKoqQQqvgVRVEUJYVQxa8oiqIoKcT/B7mPyeayV93aAAAAAElFTkSuQmCC\n",
      "text/plain": [
       "<Figure size 576x576 with 1 Axes>"
      ]
     },
     "metadata": {
      "needs_background": "light"
     },
     "output_type": "display_data"
    }
   ],
   "source": [
    "plt.figure(figsize = [8,8])\n",
    "#run regression\n",
    "X = np.array(trunc_globalMeanDepths).reshape(-1,1)\n",
    "y = trunc_gpSize\n",
    "reg = LinearRegression().fit(X, y)\n",
    "\n",
    "#Generated Predictions\n",
    "y_predicted = reg.predict(X)\n",
    "#Plot Our Actual and Predicted Values\n",
    "plt.plot(X, y, 'o', color='darkgreen', alpha = 0.5);\n",
    "plt.plot(X,y_predicted,color='darkgreen', label = 'm = ' + str(round(reg.coef_[0], 3))\n",
    "         + '     r-squared = ' + str(round(float(reg.score(X, y)), 3)))\n",
    "plt.title(\"Complete Ground Plane x Global Mean Depth\", fontsize = 20)\n",
    "plt.xlabel(\"Global Mean Depth (m)\", fontsize = 15)\n",
    "plt.ylabel(\"Inferred Complete Ground Plane Surface Area\", fontsize = 15)\n",
    "\n",
    "legend = plt.legend(loc = 0, fontsize = 13, borderpad = 0.6, labelspacing = 1)\n",
    "legend.get_frame().set_facecolor('lightgray')\n",
    "\n",
    "\n",
    "#get coefficients and y intercept\n",
    "print(\"m: {0}\".format(reg.coef_))\n",
    "print(\"b: {0}\".format(reg.intercept_))\n",
    "\n",
    "#Returns the coefficient of determination R^2 of the prediction.\n",
    "print(\"R-squared: \", reg.score(X, y))\n",
    "\n",
    "round(float(reg.score(X, y)), 3)"
   ]
  },
  {
   "cell_type": "markdown",
   "metadata": {},
   "source": [
    "## GP Defined Clutter "
   ]
  },
  {
   "cell_type": "code",
   "execution_count": 305,
   "metadata": {},
   "outputs": [],
   "source": [
    "clutter_size = (np.array(trunc_gpSize) - np.array(trunc_vgpSize)) \n"
   ]
  },
  {
   "cell_type": "code",
   "execution_count": 306,
   "metadata": {},
   "outputs": [
    {
     "data": {
      "image/png": "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\n",
      "text/plain": [
       "<Figure size 432x288 with 1 Axes>"
      ]
     },
     "metadata": {
      "needs_background": "light"
     },
     "output_type": "display_data"
    }
   ],
   "source": [
    "plt.title('Distribution of Clutter Score')\n",
    "plt.hist(clutter_size)\n",
    "\n",
    "plt.ylabel('count')\n",
    "plt.xlabel('clutter score (meters-squared)')\n",
    "\n",
    "plt.show();"
   ]
  },
  {
   "cell_type": "code",
   "execution_count": 311,
   "metadata": {},
   "outputs": [
    {
     "data": {
      "text/plain": [
       "146"
      ]
     },
     "execution_count": 311,
     "metadata": {},
     "output_type": "execute_result"
    }
   ],
   "source": [
    "len(clutter_size)"
   ]
  },
  {
   "cell_type": "code",
   "execution_count": 310,
   "metadata": {},
   "outputs": [
    {
     "name": "stdout",
     "output_type": "stream",
     "text": [
      "Correlation between Average Linear Model Residuals and GP Clutter\n",
      "(-0.1115398291520184, 0.1801339418991115)\n",
      "\n",
      "Correlation between All Linear Model Residuals and GP Clutter\n"
     ]
    },
    {
     "ename": "ValueError",
     "evalue": "x and y must have the same length.",
     "output_type": "error",
     "traceback": [
      "\u001b[0;31m---------------------------------------------------------------------------\u001b[0m",
      "\u001b[0;31mValueError\u001b[0m                                Traceback (most recent call last)",
      "\u001b[0;32m<ipython-input-310-063162cae5d2>\u001b[0m in \u001b[0;36m<module>\u001b[0;34m\u001b[0m\n\u001b[1;32m      6\u001b[0m \u001b[0;34m\u001b[0m\u001b[0m\n\u001b[1;32m      7\u001b[0m \u001b[0mprint\u001b[0m\u001b[0;34m(\u001b[0m\u001b[0;34m'Correlation between All Linear Model Residuals and GP Clutter'\u001b[0m\u001b[0;34m)\u001b[0m\u001b[0;34m\u001b[0m\u001b[0;34m\u001b[0m\u001b[0m\n\u001b[0;32m----> 8\u001b[0;31m \u001b[0mprint\u001b[0m\u001b[0;34m(\u001b[0m\u001b[0mstats\u001b[0m\u001b[0;34m.\u001b[0m\u001b[0mpearsonr\u001b[0m\u001b[0;34m(\u001b[0m\u001b[0mtrunc_resid_125\u001b[0m \u001b[0;34m+\u001b[0m \u001b[0mtrunc_resid_250\u001b[0m \u001b[0;34m+\u001b[0m \u001b[0mtrunc_resid_1000\u001b[0m\u001b[0;34m,\u001b[0m \u001b[0mclutter_size\u001b[0m\u001b[0;34m*\u001b[0m\u001b[0;36m3\u001b[0m\u001b[0;34m)\u001b[0m\u001b[0;34m)\u001b[0m\u001b[0;34m\u001b[0m\u001b[0;34m\u001b[0m\u001b[0m\n\u001b[0m\u001b[1;32m      9\u001b[0m \u001b[0;34m\u001b[0m\u001b[0m\n\u001b[1;32m     10\u001b[0m \u001b[0mprint\u001b[0m\u001b[0;34m(\u001b[0m\u001b[0;34m)\u001b[0m\u001b[0;34m\u001b[0m\u001b[0;34m\u001b[0m\u001b[0m\n",
      "\u001b[0;32m~/opt/anaconda3/envs/defaultenv/lib/python3.7/site-packages/scipy/stats/stats.py\u001b[0m in \u001b[0;36mpearsonr\u001b[0;34m(x, y)\u001b[0m\n\u001b[1;32m   3387\u001b[0m     \u001b[0mn\u001b[0m \u001b[0;34m=\u001b[0m \u001b[0mlen\u001b[0m\u001b[0;34m(\u001b[0m\u001b[0mx\u001b[0m\u001b[0;34m)\u001b[0m\u001b[0;34m\u001b[0m\u001b[0;34m\u001b[0m\u001b[0m\n\u001b[1;32m   3388\u001b[0m     \u001b[0;32mif\u001b[0m \u001b[0mn\u001b[0m \u001b[0;34m!=\u001b[0m \u001b[0mlen\u001b[0m\u001b[0;34m(\u001b[0m\u001b[0my\u001b[0m\u001b[0;34m)\u001b[0m\u001b[0;34m:\u001b[0m\u001b[0;34m\u001b[0m\u001b[0;34m\u001b[0m\u001b[0m\n\u001b[0;32m-> 3389\u001b[0;31m         \u001b[0;32mraise\u001b[0m \u001b[0mValueError\u001b[0m\u001b[0;34m(\u001b[0m\u001b[0;34m'x and y must have the same length.'\u001b[0m\u001b[0;34m)\u001b[0m\u001b[0;34m\u001b[0m\u001b[0;34m\u001b[0m\u001b[0m\n\u001b[0m\u001b[1;32m   3390\u001b[0m \u001b[0;34m\u001b[0m\u001b[0m\n\u001b[1;32m   3391\u001b[0m     \u001b[0;32mif\u001b[0m \u001b[0mn\u001b[0m \u001b[0;34m<\u001b[0m \u001b[0;36m2\u001b[0m\u001b[0;34m:\u001b[0m\u001b[0;34m\u001b[0m\u001b[0;34m\u001b[0m\u001b[0m\n",
      "\u001b[0;31mValueError\u001b[0m: x and y must have the same length."
     ]
    }
   ],
   "source": [
    "# corr, p-value\n",
    "print('Correlation between Average Linear Model Residuals and GP Clutter')\n",
    "print(stats.pearsonr(np.mean([trunc_resid_125, trunc_resid_250, trunc_resid_1000], axis=0), clutter_size))\n",
    "\n",
    "print()\n",
    "\n",
    "print('Correlation between All Linear Model Residuals and GP Clutter')\n",
    "print(stats.pearsonr(trunc_resid_125 + trunc_resid_250 + trunc_resid_1000, clutter_size*3))\n",
    "\n",
    "print()\n",
    "\n",
    "print('Correlation between Average Linear Model Residuals and GP Clutter')\n",
    "print(stats.pearsonr(np.mean([trunc_resid_125, trunc_resid_250, trunc_resid_1000], axis=0), clutter_size))\n",
    "\n",
    "print()\n",
    "\n",
    "print('Correlation between All Linear Model Residuals and GP Clutter')\n",
    "print(stats.pearsonr(trunc_resid_125 + trunc_resid_250 + trunc_resid_1000, clutter_size*3))"
   ]
  },
  {
   "cell_type": "code",
   "execution_count": 307,
   "metadata": {},
   "outputs": [
    {
     "name": "stdout",
     "output_type": "stream",
     "text": [
      "Correlation between Linear Model Residuals and Clutter(size)\n",
      "125 ms:  (-0.11753589746487046, 0.15768908520826339)\n",
      "250 ms:  (-0.085309863770998, 0.30592481319921444)\n",
      "1000 ms:  (-0.12367523919935568, 0.13695024255743518)\n"
     ]
    }
   ],
   "source": [
    "# corr, p-value\n",
    "print('Correlation between Linear Model Residuals and Clutter(size)')\n",
    "print('125 ms: ',stats.pearsonr(trunc_resid_125, clutter_size))\n",
    "print('250 ms: ',stats.pearsonr(trunc_resid_250, clutter_size))\n",
    "print('1000 ms: ',stats.pearsonr(trunc_resid_1000, clutter_size))"
   ]
  },
  {
   "cell_type": "code",
   "execution_count": 308,
   "metadata": {},
   "outputs": [
    {
     "name": "stdout",
     "output_type": "stream",
     "text": [
      "Correlation between Abs Linear Model Residuals and Clutter(size)\n",
      "125 ms:  (0.21593931577518033, 0.008851505483242187)\n",
      "250 ms:  (0.2566392505778625, 0.0017667692507990981)\n",
      "1000 ms:  (0.24391765332985527, 0.00300837250814679)\n"
     ]
    }
   ],
   "source": [
    "# corr, p-value\n",
    "print('Correlation between Abs Linear Model Residuals and Clutter(size)')\n",
    "print('125 ms: ',stats.pearsonr(np.abs(trunc_resid_125), clutter_size))\n",
    "print('250 ms: ',stats.pearsonr(np.abs(trunc_resid_250), clutter_size))\n",
    "print('1000 ms: ',stats.pearsonr(np.abs(trunc_resid_1000), clutter_size))"
   ]
  },
  {
   "cell_type": "code",
   "execution_count": 309,
   "metadata": {},
   "outputs": [
    {
     "name": "stdout",
     "output_type": "stream",
     "text": [
      "m: [-0.00537633]\n",
      "b: 0.062235813501440744\n",
      "R-squared:  0.015295564791017903\n"
     ]
    },
    {
     "data": {
      "text/plain": [
       "0.015"
      ]
     },
     "execution_count": 309,
     "metadata": {},
     "output_type": "execute_result"
    },
    {
     "data": {
      "image/png": "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\n",
      "text/plain": [
       "<Figure size 576x576 with 1 Axes>"
      ]
     },
     "metadata": {
      "needs_background": "light"
     },
     "output_type": "display_data"
    }
   ],
   "source": [
    "\n",
    "fig, ax = plt.subplots(figsize=[8,8])\n",
    "ax.spines['right'].set_visible(False)\n",
    "\n",
    "ax.spines['top'].set_visible(False)\n",
    "\n",
    "#run regression\n",
    "X = np.array(clutter_size).reshape(-1,1)\n",
    "y = trunc_resid_1000\n",
    "reg = LinearRegression().fit(X, y)\n",
    "\n",
    "#Generated Predictions\n",
    "y_predicted = reg.predict(X)\n",
    "#Plot Our Actual and Predicted Values\n",
    "plt.plot(X, y, 'o', color='darkviolet', alpha = 0.5);\n",
    "plt.plot(X,y_predicted,color='darkviolet', label = 'm = ' + str(round(reg.coef_[0], 3))\n",
    "         + '     r-squared = ' + str(round(float(reg.score(X, y)), 3)))\n",
    "plt.title(\"1000 ms\", fontsize = 20)\n",
    "plt.xlabel(\"Clutter Score\", fontsize = 15)\n",
    "plt.ylabel(\"Linear Model Residuals\", fontsize = 15)\n",
    "\n",
    "legend = plt.legend(loc = 0, fontsize = 13, borderpad = 0.6, labelspacing = 1)\n",
    "legend.get_frame().set_facecolor('lightgray')\n",
    "\n",
    "\n",
    "#get coefficients and y intercept\n",
    "print(\"m: {0}\".format(reg.coef_))\n",
    "print(\"b: {0}\".format(reg.intercept_))\n",
    "\n",
    "#Returns the coefficient of determination R^2 of the prediction.\n",
    "print(\"R-squared: \", reg.score(X, y))\n",
    "\n",
    "round(float(reg.score(X, y)), 3)"
   ]
  },
  {
   "cell_type": "code",
   "execution_count": null,
   "metadata": {},
   "outputs": [],
   "source": []
  },
  {
   "cell_type": "code",
   "execution_count": null,
   "metadata": {},
   "outputs": [],
   "source": []
  },
  {
   "attachments": {
    "f7184a31-b18a-4078-814b-1301d247f2e8.png": {
     "image/png": "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"
    }
   },
   "cell_type": "markdown",
   "metadata": {},
   "source": [
    "# Extrinsics\n",
    "\n",
    "![1OFpX.png](attachment:f7184a31-b18a-4078-814b-1301d247f2e8.png)"
   ]
  },
  {
   "cell_type": "code",
   "execution_count": 229,
   "metadata": {},
   "outputs": [],
   "source": [
    "#converts the rotation matrix in extrinsics.txt from string to a numpy array \n",
    "def rotationmatrix(matrix_path):\n",
    "    matrixtext = open(matrix_path).read()\n",
    "    \n",
    "    x00 = float(matrixtext.split('\\t')[0].split(' ')[0])\n",
    "    x01 = float(matrixtext.split('\\n')[0].split(' ')[1])\n",
    "    x02 = float(matrixtext.split('\\n')[0].split(' ')[2])\n",
    "    \n",
    "    x10 = float(matrixtext.split('\\n')[1].split(' ')[0])\n",
    "    x11 = float(matrixtext.split('\\n')[1].split(' ')[1])\n",
    "    x12 = float(matrixtext.split('\\n')[1].split(' ')[2])\n",
    "    \n",
    "    x20 = float(matrixtext.split('\\n')[2].split(' ')[0])\n",
    "    x21 = float(matrixtext.split('\\n')[2].split(' ')[1])\n",
    "    x22 = float(matrixtext.split('\\n')[2].split(' ')[2])\n",
    "    \n",
    "    #list of the matrix values excluding the 3rd column of just zeroes \n",
    "    matrixlist = [[x00, x01, x02], [x10, x11, x12], [x20, x21, x22]]\n",
    "    \n",
    "    #creates 3x3 array of the rotation matrix\n",
    "    matrixarray = np.full((3,3), matrixlist)\n",
    "    \n",
    "    return matrixarray\n",
    "\n",
    "def rotationMatrixToEulerAngles(path):\n",
    "    R = rotationmatrix(path)\n",
    "    #assert(isRotationMatrix(R))\n",
    "    sy = math.sqrt(R[0,0] * R[0,0] +  R[1,0] * R[1,0])\n",
    "    singular = sy < 1e-6\n",
    "    if  not singular :\n",
    "        x = math.atan2(R[2,1] , R[2,2])\n",
    "        y = math.atan2(-R[2,0], sy)\n",
    "        z = math.atan2(R[1,0], R[0,0])\n",
    "    else :\n",
    "        x = math.atan2(-R[1,2], R[1,1])\n",
    "        y = math.atan2(-R[2,0], sy)\n",
    "        z = 0\n",
    "    return np.array([x, y, z])\n",
    "\n",
    "# Output - final pitch, roll, yaw values in radians and degrees \n",
    "def imageExtrinsics(path):\n",
    "    in_array = rotationMatrixToEulerAngles(path)\n",
    "    #print (\"Radian values : \\n\", in_array) \n",
    "\n",
    "    degree_Values = np.degrees(in_array) \n",
    "    \n",
    "    return degree_Values[0], degree_Values[1], degree_Values[2]\n",
    "\n",
    "\n",
    "def extrinsics_distribution(path, kinectv2):\n",
    "    targetfolder = path.split('/')[1]\n",
    "    if len(targetfolder) == 59:     \n",
    "        imagefolder = path.split('/')[1][:-2]\n",
    "    else:\n",
    "        imagefolder = path.split('/')[1][:-3]\n",
    "\n",
    "    extpath = kinectv2 + '/' + imagefolder + '/extrinsics' \n",
    "    fname = os.listdir(extpath)[0]\n",
    "    if fname != '.ipynb_checkpoints':\n",
    "        extrinsics = imageExtrinsics(extpath + '/' + fname)\n",
    "    # pitch, roll, yaw\n",
    "    return extrinsics[0], extrinsics[1], extrinsics[2]"
   ]
  },
  {
   "cell_type": "code",
   "execution_count": 230,
   "metadata": {},
   "outputs": [],
   "source": [
    "kinectv2_path = '/Users/pmahableshwarkar/Documents/Depth_Project/SUNRGBD/kinect2data_192'\n",
    "# kinectv2_path = '/Users/prachimahableshwarkar/Documents/GW/SUNRGBD/updated/kinect2data_192'\n",
    "# line comprehension for x(stim path) in final_x \n",
    "\n",
    "pitches = [extrinsics_distribution(path, kinectv2_path)[0] for path in stim_250]\n",
    "rolls = [extrinsics_distribution(path, kinectv2_path)[1] for path in stim_250]\n",
    "yaws = [extrinsics_distribution(path, kinectv2_path)[2] for path in stim_250]\n",
    "\n"
   ]
  },
  {
   "cell_type": "code",
   "execution_count": 231,
   "metadata": {},
   "outputs": [],
   "source": [
    "trunc_pitches = []\n",
    "trunc_rolls = []\n",
    "trunc_yaws = []\n",
    "\n",
    "for i in range(len(ordered_gp_metrics)):\n",
    "    metrics = ordered_gp_metrics[i]\n",
    "    if type(metrics) == list:\n",
    "        trunc_pitches.append(pitches[i])\n",
    "        trunc_rolls.append(rolls[i])\n",
    "        trunc_yaws.append(yaws[i])"
   ]
  },
  {
   "cell_type": "code",
   "execution_count": 232,
   "metadata": {},
   "outputs": [
    {
     "name": "stdout",
     "output_type": "stream",
     "text": [
      "Correlation between Complete Ground Plane and Pitch\n",
      "(-0.24556062057426326, 0.00200267048192746)\n"
     ]
    }
   ],
   "source": [
    "print('Correlation between Complete Ground Plane and Pitch')\n",
    "print(stats.pearsonr(trunc_gp, trunc_pitches))"
   ]
  },
  {
   "cell_type": "code",
   "execution_count": 233,
   "metadata": {},
   "outputs": [
    {
     "name": "stdout",
     "output_type": "stream",
     "text": [
      "Correlation between Complete Ground Plane and Roll\n",
      "(0.10249815887246476, 0.20292515242437625)\n"
     ]
    }
   ],
   "source": [
    "print('Correlation between Complete Ground Plane and Roll')\n",
    "print(stats.pearsonr(trunc_gp, trunc_rolls))"
   ]
  },
  {
   "cell_type": "code",
   "execution_count": 234,
   "metadata": {},
   "outputs": [
    {
     "name": "stdout",
     "output_type": "stream",
     "text": [
      "Correlation between Complete Ground Plane and Yaw\n",
      "(0.06637340997880946, 0.4103688725357515)\n"
     ]
    }
   ],
   "source": [
    "print('Correlation between Complete Ground Plane and Yaw')\n",
    "print(stats.pearsonr(trunc_gp, trunc_yaws))"
   ]
  },
  {
   "cell_type": "code",
   "execution_count": null,
   "metadata": {},
   "outputs": [],
   "source": []
  },
  {
   "cell_type": "code",
   "execution_count": 235,
   "metadata": {},
   "outputs": [
    {
     "name": "stdout",
     "output_type": "stream",
     "text": [
      "m: [-0.00629131]\n",
      "b: 0.3686413906910721\n",
      "R-squared:  0.0603000183768172\n"
     ]
    },
    {
     "data": {
      "text/plain": [
       "0.06"
      ]
     },
     "execution_count": 235,
     "metadata": {},
     "output_type": "execute_result"
    },
    {
     "data": {
      "image/png": "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\n",
      "text/plain": [
       "<Figure size 504x504 with 1 Axes>"
      ]
     },
     "metadata": {
      "needs_background": "light"
     },
     "output_type": "display_data"
    }
   ],
   "source": [
    "plt.figure(figsize = [7,7])\n",
    "#run regression\n",
    "X = np.array(trunc_pitches).reshape(-1,1)\n",
    "y = np.abs(trunc_gp)\n",
    "reg = LinearRegression().fit(X, y)\n",
    "\n",
    "#Generated Predictions\n",
    "y_predicted = reg.predict(X)\n",
    "#Plot Our Actual and Predicted Values\n",
    "plt.plot(X, y, 'o', color='darkgreen', alpha = 0.3, marker = 'o');\n",
    "plt.plot(X,y_predicted,color='darkgreen', label = 'm = ' + str(round(reg.coef_[0], 3))\n",
    "         + '     r-squared = ' + str(round(float(reg.score(X, y)), 3)))\n",
    "plt.title(\"Complete Ground Plane x Pitch\", fontsize = 20)\n",
    "plt.xlabel(\"Pitch\", fontsize = 15)\n",
    "plt.ylabel(\"Complete Ground Plane\", fontsize = 15)\n",
    "\n",
    "legend = plt.legend(loc = 0, fontsize = 13, borderpad = 0.6, labelspacing = 1)\n",
    "legend.get_frame().set_facecolor('lightgray')\n",
    "\n",
    "\n",
    "#get coefficients and y intercept\n",
    "print(\"m: {0}\".format(reg.coef_))\n",
    "print(\"b: {0}\".format(reg.intercept_))\n",
    "\n",
    "#Returns the coefficient of determination R^2 of the prediction.\n",
    "print(\"R-squared: \", reg.score(X, y))\n",
    "\n",
    "round(float(reg.score(X, y)), 3)"
   ]
  },
  {
   "cell_type": "code",
   "execution_count": null,
   "metadata": {},
   "outputs": [],
   "source": []
  },
  {
   "cell_type": "code",
   "execution_count": 236,
   "metadata": {},
   "outputs": [
    {
     "name": "stdout",
     "output_type": "stream",
     "text": [
      "Correlation between Complete Ground Plane and Pitch\n"
     ]
    },
    {
     "ename": "ValueError",
     "evalue": "x and y must have the same length.",
     "output_type": "error",
     "traceback": [
      "\u001b[0;31m---------------------------------------------------------------------------\u001b[0m",
      "\u001b[0;31mValueError\u001b[0m                                Traceback (most recent call last)",
      "\u001b[0;32m<ipython-input-236-52269013b942>\u001b[0m in \u001b[0;36m<module>\u001b[0;34m\u001b[0m\n\u001b[1;32m      1\u001b[0m \u001b[0mprint\u001b[0m\u001b[0;34m(\u001b[0m\u001b[0;34m'Correlation between Complete Ground Plane and Pitch'\u001b[0m\u001b[0;34m)\u001b[0m\u001b[0;34m\u001b[0m\u001b[0;34m\u001b[0m\u001b[0m\n\u001b[0;32m----> 2\u001b[0;31m \u001b[0mprint\u001b[0m\u001b[0;34m(\u001b[0m\u001b[0mstats\u001b[0m\u001b[0;34m.\u001b[0m\u001b[0mpearsonr\u001b[0m\u001b[0;34m(\u001b[0m\u001b[0mtrunc_gpSize\u001b[0m\u001b[0;34m,\u001b[0m \u001b[0mtrunc_pitches\u001b[0m\u001b[0;34m)\u001b[0m\u001b[0;34m)\u001b[0m\u001b[0;34m\u001b[0m\u001b[0;34m\u001b[0m\u001b[0m\n\u001b[0m",
      "\u001b[0;32m~/opt/anaconda3/envs/defaultenv/lib/python3.7/site-packages/scipy/stats/stats.py\u001b[0m in \u001b[0;36mpearsonr\u001b[0;34m(x, y)\u001b[0m\n\u001b[1;32m   4011\u001b[0m     \u001b[0mn\u001b[0m \u001b[0;34m=\u001b[0m \u001b[0mlen\u001b[0m\u001b[0;34m(\u001b[0m\u001b[0mx\u001b[0m\u001b[0;34m)\u001b[0m\u001b[0;34m\u001b[0m\u001b[0;34m\u001b[0m\u001b[0m\n\u001b[1;32m   4012\u001b[0m     \u001b[0;32mif\u001b[0m \u001b[0mn\u001b[0m \u001b[0;34m!=\u001b[0m \u001b[0mlen\u001b[0m\u001b[0;34m(\u001b[0m\u001b[0my\u001b[0m\u001b[0;34m)\u001b[0m\u001b[0;34m:\u001b[0m\u001b[0;34m\u001b[0m\u001b[0;34m\u001b[0m\u001b[0m\n\u001b[0;32m-> 4013\u001b[0;31m         \u001b[0;32mraise\u001b[0m \u001b[0mValueError\u001b[0m\u001b[0;34m(\u001b[0m\u001b[0;34m'x and y must have the same length.'\u001b[0m\u001b[0;34m)\u001b[0m\u001b[0;34m\u001b[0m\u001b[0;34m\u001b[0m\u001b[0m\n\u001b[0m\u001b[1;32m   4014\u001b[0m \u001b[0;34m\u001b[0m\u001b[0m\n\u001b[1;32m   4015\u001b[0m     \u001b[0;32mif\u001b[0m \u001b[0mn\u001b[0m \u001b[0;34m<\u001b[0m \u001b[0;36m2\u001b[0m\u001b[0;34m:\u001b[0m\u001b[0;34m\u001b[0m\u001b[0;34m\u001b[0m\u001b[0m\n",
      "\u001b[0;31mValueError\u001b[0m: x and y must have the same length."
     ]
    }
   ],
   "source": [
    "print('Correlation between Complete Ground Plane and Pitch')\n",
    "print(stats.pearsonr(trunc_gpSize, trunc_pitches))"
   ]
  },
  {
   "cell_type": "code",
   "execution_count": 233,
   "metadata": {},
   "outputs": [
    {
     "name": "stdout",
     "output_type": "stream",
     "text": [
      "Correlation between Complete Ground Plane and Roll\n",
      "(0.10249815887246476, 0.20292515242437625)\n"
     ]
    }
   ],
   "source": [
    "print('Correlation between Complete Ground Plane and Roll')\n",
    "print(stats.pearsonr(trunc_gpSize, trunc_rolls))"
   ]
  },
  {
   "cell_type": "code",
   "execution_count": 234,
   "metadata": {},
   "outputs": [
    {
     "name": "stdout",
     "output_type": "stream",
     "text": [
      "Correlation between Complete Ground Plane and Yaw\n",
      "(0.06637340997880946, 0.4103688725357515)\n"
     ]
    }
   ],
   "source": [
    "print('Correlation between Complete Ground Plane and Yaw')\n",
    "print(stats.pearsonr(trunc_gpSize, trunc_yaws))"
   ]
  },
  {
   "cell_type": "code",
   "execution_count": 38,
   "metadata": {},
   "outputs": [
    {
     "name": "stdout",
     "output_type": "stream",
     "text": [
      "m: [-0.00629131]\n",
      "b: 0.36864139069107216\n",
      "R-squared:  0.0603000183768172\n"
     ]
    },
    {
     "data": {
      "text/plain": [
       "0.06"
      ]
     },
     "execution_count": 38,
     "metadata": {},
     "output_type": "execute_result"
    },
    {
     "data": {
      "image/png": "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\n",
      "text/plain": [
       "<Figure size 504x504 with 1 Axes>"
      ]
     },
     "metadata": {
      "needs_background": "light"
     },
     "output_type": "display_data"
    }
   ],
   "source": [
    "plt.figure(figsize = [7,7])\n",
    "#run regression\n",
    "X = np.array(trunc_pitches).reshape(-1,1)\n",
    "y = np.abs(trunc_gp)\n",
    "reg = LinearRegression().fit(X, y)\n",
    "\n",
    "#Generated Predictions\n",
    "y_predicted = reg.predict(X)\n",
    "#Plot Our Actual and Predicted Values\n",
    "plt.plot(X, y, 'o', color='darkgreen', alpha = 0.3, marker = 'o');\n",
    "plt.plot(X,y_predicted,color='darkgreen', label = 'm = ' + str(round(reg.coef_[0], 3))\n",
    "         + '     r-squared = ' + str(round(float(reg.score(X, y)), 3)))\n",
    "plt.title(\"Complete Ground Plane x Pitch\", fontsize = 20)\n",
    "plt.xlabel(\"Pitch\", fontsize = 15)\n",
    "plt.ylabel(\"Complete Ground Plane\", fontsize = 15)\n",
    "\n",
    "legend = plt.legend(loc = 0, fontsize = 13, borderpad = 0.6, labelspacing = 1)\n",
    "legend.get_frame().set_facecolor('lightgray')\n",
    "\n",
    "\n",
    "#get coefficients and y intercept\n",
    "print(\"m: {0}\".format(reg.coef_))\n",
    "print(\"b: {0}\".format(reg.intercept_))\n",
    "\n",
    "#Returns the coefficient of determination R^2 of the prediction.\n",
    "print(\"R-squared: \", reg.score(X, y))\n",
    "\n",
    "round(float(reg.score(X, y)), 3)"
   ]
  }
 ],
 "metadata": {
  "kernelspec": {
   "display_name": "Python 3",
   "language": "python",
   "name": "python3"
  },
  "language_info": {
   "codemirror_mode": {
    "name": "ipython",
    "version": 3
   },
   "file_extension": ".py",
   "mimetype": "text/x-python",
   "name": "python",
   "nbconvert_exporter": "python",
   "pygments_lexer": "ipython3",
   "version": "3.7.5"
  }
 },
 "nbformat": 4,
 "nbformat_minor": 4
}
