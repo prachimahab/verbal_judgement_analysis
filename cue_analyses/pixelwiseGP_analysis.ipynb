{
 "cells": [
  {
   "cell_type": "markdown",
   "metadata": {},
   "source": [
    "# Pixelwise Visible Ground Plane and Complete Ground Plane"
   ]
  },
  {
   "cell_type": "code",
   "execution_count": 1,
   "metadata": {},
   "outputs": [],
   "source": [
    "import os\n",
    "import numpy as np\n",
    "import pandas as pd\n",
    "import scipy\n",
    "import path \n",
    "from matplotlib import pyplot as plt\n",
    "import json\n",
    "from PIL import Image, ImageStat\n",
    "from sklearn.linear_model import LinearRegression\n",
    "from scipy import stats\n",
    "import math"
   ]
  },
  {
   "cell_type": "markdown",
   "metadata": {},
   "source": [
    "## Load Behavioral Data"
   ]
  },
  {
   "cell_type": "code",
   "execution_count": 2,
   "metadata": {},
   "outputs": [],
   "source": [
    "# TAC_raw_individual_trial_data_path = '/Users/prachi/Documents/depth_duration/depth_duration_analysis/TAC_npy_files/TAC_raw_individual_trial_data/'\n",
    "\n",
    "TAC_raw_individual_trial_data_path  = '/Users/prachimahableshwarkar/Documents/GW/Depth_MTurk/depth_duration_analysis/TAC_npy_files/TAC_raw_individual_trial_data/'\n",
    "\n",
    "dpath = '/Users/prachimahableshwarkar/Documents/GW/Depth_MTurk/verbal_judgement_analysis/TAC_npy_files/matchedVE/normalized/'\n",
    "\n",
    "# stim \n",
    "with open(dpath + 'n_final_stim_250.npy' , 'rb') as f:\n",
    "    stim_250 = np.load(f, allow_pickle=True)\n",
    "\n",
    "# with open(TAC_raw_individual_trial_data_path + 'final_stim_500.npy' , 'rb') as f:\n",
    "#     stim_500 = np.load(f, allow_pickle=True)\n",
    "    \n",
    "# with open(TAC_raw_individual_trial_data_path + 'final_stim_750.npy' , 'rb') as f:\n",
    "#     stim_750 = np.load(f, allow_pickle=True)\n",
    "\n",
    "with open(dpath + 'n_final_stim_1000.npy' , 'rb') as f:\n",
    "    stim_1000 = np.load(f, allow_pickle=True)\n",
    "\n",
    "# x data\n",
    "with open(dpath + 'n_X_250.npy' , 'rb') as f:\n",
    "    X_250 = np.load(f, allow_pickle=True)\n",
    "\n",
    "# with open(TAC_raw_individual_trial_data_path + 'X_500.npy' , 'rb') as f:\n",
    "#     X_500 = np.load(f, allow_pickle=True)\n",
    "    \n",
    "# with open(TAC_raw_individual_trial_data_path + 'X_750.npy' , 'rb') as f:\n",
    "#     X_750 = np.load(f, allow_pickle=True)\n",
    "\n",
    "with open(dpath + 'n_X_1000.npy' , 'rb') as f:\n",
    "    X_1000 = np.load(f, allow_pickle=True)\n",
    "\n",
    "# y data \n",
    "with open(dpath + 'n_final_y_250.npy' , 'rb') as f:\n",
    "    y_250 = np.load(f, allow_pickle=True)\n",
    "    \n",
    "# with open(TAC_raw_individual_trial_data_path + 'final_y_500.npy' , 'rb') as f:\n",
    "#     y_500 = np.load(f, allow_pickle=True)\n",
    "    \n",
    "# with open(TAC_raw_individual_trial_data_path + 'final_y_750.npy' , 'rb') as f:\n",
    "#     y_750 = np.load(f, allow_pickle=True)\n",
    "    \n",
    "with open(dpath + 'n_final_y_1000.npy' , 'rb') as f:\n",
    "    y_1000= np.load(f, allow_pickle=True)"
   ]
  },
  {
   "cell_type": "code",
   "execution_count": 3,
   "metadata": {},
   "outputs": [],
   "source": [
    "# TAC_raw_individual_trial_residuals_path = '/Users/prachi/Documents/depth_duration/depth_duration_analysis/TAC_npy_files/TAC_raw_individual_trial_residuals/'\n",
    "\n",
    "TAC_raw_individual_trial_residuals_path = '/Users/prachimahableshwarkar/Documents/GW/Depth_MTurk/depth_duration_analysis/TAC_npy_files/TAC_raw_individual_trial_residuals/'\n",
    "\n",
    "# residuals\n",
    "with open(TAC_raw_individual_trial_residuals_path + 'residuals_250.npy' , 'rb') as f:\n",
    "    residuals_250 = np.load(f, allow_pickle=True)\n",
    "\n",
    "with open(TAC_raw_individual_trial_residuals_path + 'residuals_500.npy' , 'rb') as f:\n",
    "    residuals_500 = np.load(f, allow_pickle=True)\n",
    "    \n",
    "with open(TAC_raw_individual_trial_residuals_path + 'residuals_750.npy' , 'rb') as f:\n",
    "    residuals_750 = np.load(f, allow_pickle=True)\n",
    "\n",
    "with open(TAC_raw_individual_trial_residuals_path + 'residuals_1000.npy' , 'rb') as f:\n",
    "    residuals_1000 = np.load(f, allow_pickle=True)"
   ]
  },
  {
   "cell_type": "code",
   "execution_count": 5,
   "metadata": {},
   "outputs": [],
   "source": [
    "stimfolder_250 = [elem.split('/')[1][:-2] for elem in stim_250]\n",
    "stimfolder_1000 = [elem.split('/')[1][:-2] for elem in stim_1000]\n"
   ]
  },
  {
   "cell_type": "markdown",
   "metadata": {},
   "source": [
    "## Load Ground Plane Metrics"
   ]
  },
  {
   "cell_type": "code",
   "execution_count": 6,
   "metadata": {},
   "outputs": [],
   "source": [
    "path = '/Users/prachimahableshwarkar/Documents/GW/Depth_MTurk/SUN_scene_cue_coding/gp_metrics.json'\n",
    "gp_metrics = json.load(open(path))\n",
    "# [percent_VGP_GP, percent_VGP_image, percent_GP_image]"
   ]
  },
  {
   "cell_type": "code",
   "execution_count": 12,
   "metadata": {},
   "outputs": [],
   "source": [
    "ordered_gp_metrics = []\n",
    "c_none = 0\n",
    "for folder in stimfolder_250:\n",
    "    try:\n",
    "        ordered_gp_metrics.append(gp_metrics[folder])\n",
    "    except:\n",
    "        c_none += 1\n",
    "        ordered_gp_metrics.append(None)"
   ]
  },
  {
   "cell_type": "code",
   "execution_count": 13,
   "metadata": {},
   "outputs": [
    {
     "data": {
      "text/plain": [
       "(192, 108)"
      ]
     },
     "execution_count": 13,
     "metadata": {},
     "output_type": "execute_result"
    }
   ],
   "source": [
    "len(ordered_gp_metrics), c_none"
   ]
  },
  {
   "cell_type": "code",
   "execution_count": 37,
   "metadata": {},
   "outputs": [
    {
     "data": {
      "text/plain": [
       "192"
      ]
     },
     "execution_count": 37,
     "metadata": {},
     "output_type": "execute_result"
    }
   ],
   "source": [
    "actual_depth_values = []\n",
    "for i in range(len(stim_250)):\n",
    "    targetobj_num = stim_250[i].split('/')[1][-1]\n",
    "    folder = stimfolder_250[i]\n",
    "    p = '/Users/prachimahableshwarkar/Documents/GW/Depth_MTurk/depth_duration_stimuli/' + folder + \"_\" +targetobj_num\n",
    "    # JSON file\n",
    "    f = open (p + '/data.json', \"r\")\n",
    "    # Reading from file\n",
    "    data = json.loads(f.read())\n",
    "    depthval = data['objects'][0]['crossing_point'][0]['depth']\n",
    "    actual_depth_values.append(depthval)\n",
    "len(actual_depth_values)"
   ]
  },
  {
   "cell_type": "code",
   "execution_count": 38,
   "metadata": {},
   "outputs": [],
   "source": [
    "trunc_resid_250 = []\n",
    "trunc_resid_1000 = []\n",
    "trunc_vgp_gp = []\n",
    "trunc_vgp = []\n",
    "trunc_gp = []\n",
    "trunc_actual = []\n",
    "\n",
    "for i in range(len(ordered_gp_metrics)):\n",
    "    metrics = ordered_gp_metrics[i]\n",
    "    if type(metrics) == list:\n",
    "        trunc_vgp_gp.append(metrics[0])\n",
    "        trunc_vgp.append(metrics[1])\n",
    "        trunc_gp.append(metrics[2])\n",
    "        \n",
    "        trunc_resid_250.append(residuals_250[i])\n",
    "        trunc_resid_1000.append(residuals_1000[i])\n",
    "        \n",
    "        trunc_actual.append(actual_depth_values[i])\n",
    "         \n"
   ]
  },
  {
   "cell_type": "code",
   "execution_count": 18,
   "metadata": {},
   "outputs": [
    {
     "data": {
      "text/plain": [
       "(84, 84)"
      ]
     },
     "execution_count": 18,
     "metadata": {},
     "output_type": "execute_result"
    }
   ],
   "source": [
    "len(trunc_vgp_gp), len(trunc_resid_250)"
   ]
  },
  {
   "cell_type": "code",
   "execution_count": 41,
   "metadata": {},
   "outputs": [
    {
     "data": {
      "text/plain": [
       "(array([ 4.,  8.,  6., 13., 16., 12., 13.,  5.,  2.,  5.]),\n",
       " array([0.02937735, 0.12673327, 0.22408919, 0.32144512, 0.41880104,\n",
       "        0.51615696, 0.61351289, 0.71086881, 0.80822473, 0.90558066,\n",
       "        1.00293658]),\n",
       " <a list of 10 Patch objects>)"
      ]
     },
     "execution_count": 41,
     "metadata": {},
     "output_type": "execute_result"
    },
    {
     "data": {
      "image/png": "[encoded data removed]",
      "text/plain": [
       "<Figure size 432x288 with 1 Axes>"
      ]
     },
     "metadata": {
      "needs_background": "light"
     },
     "output_type": "display_data"
    }
   ],
   "source": [
    "plt.hist(trunc_vgp_gp)"
   ]
  },
  {
   "cell_type": "code",
   "execution_count": 19,
   "metadata": {},
   "outputs": [
    {
     "name": "stdout",
     "output_type": "stream",
     "text": [
      "Correlation between Linear Model Residuals and VGP/GP\n",
      "250 ms:  (-0.09755775714031313, 0.3773213742221838)\n",
      "1000 ms:  (-0.07880456652220741, 0.476128696367133)\n"
     ]
    }
   ],
   "source": [
    "# corr, p-value\n",
    "print('Correlation between Linear Model Residuals and VGP/GP')\n",
    "print('250 ms: ',stats.pearsonr(trunc_resid_250, trunc_vgp_gp))\n",
    "print('1000 ms: ',stats.pearsonr(trunc_resid_1000, trunc_vgp_gp))"
   ]
  },
  {
   "cell_type": "code",
   "execution_count": 20,
   "metadata": {},
   "outputs": [
    {
     "name": "stdout",
     "output_type": "stream",
     "text": [
      "Correlation between Linear Model Residuals and VGP\n",
      "250 ms:  (-0.19877429934445454, 0.06988848525696467)\n",
      "1000 ms:  (-0.14691342064326518, 0.18234912747607301)\n"
     ]
    }
   ],
   "source": [
    "# corr, p-value\n",
    "print('Correlation between Linear Model Residuals and VGP')\n",
    "print('250 ms: ',stats.pearsonr(trunc_resid_250, trunc_vgp))\n",
    "print('1000 ms: ',stats.pearsonr(trunc_resid_1000, trunc_vgp))"
   ]
  },
  {
   "cell_type": "code",
   "execution_count": 21,
   "metadata": {},
   "outputs": [
    {
     "name": "stdout",
     "output_type": "stream",
     "text": [
      "Correlation between Linear Model Residuals and GP\n",
      "250 ms:  (-0.225763311390918, 0.03893327885405739)\n",
      "1000 ms:  (-0.16467005949809574, 0.134432090713044)\n"
     ]
    }
   ],
   "source": [
    "# corr, p-value\n",
    "print('Correlation between Linear Model Residuals and GP')\n",
    "print('250 ms: ',stats.pearsonr(trunc_resid_250, trunc_gp))\n",
    "print('1000 ms: ',stats.pearsonr(trunc_resid_1000, trunc_gp))"
   ]
  },
  {
   "cell_type": "code",
   "execution_count": 40,
   "metadata": {},
   "outputs": [
    {
     "name": "stdout",
     "output_type": "stream",
     "text": [
      "Correlation between Actual Depth and VGP/GP\n",
      "(-0.1307170389689167, 0.2359449614969179)\n",
      "Correlation between Actual Depth and VGP\n",
      "(0.056427803766574164, 0.6101728912570376)\n",
      "Correlation between Actual Depth and GP\n",
      "(0.320032432639607, 0.003000700309540086)\n"
     ]
    }
   ],
   "source": [
    "print('Correlation between Actual Depth and VGP/GP')\n",
    "print(stats.pearsonr(trunc_actual, trunc_vgp_gp))\n",
    "print('Correlation between Actual Depth and VGP')\n",
    "print(stats.pearsonr(trunc_actual, trunc_vgp))\n",
    "print('Correlation between Actual Depth and GP')\n",
    "print(stats.pearsonr(trunc_actual, trunc_gp))"
   ]
  },
  {
   "cell_type": "code",
   "execution_count": 31,
   "metadata": {},
   "outputs": [
    {
     "name": "stdout",
     "output_type": "stream",
     "text": [
      "m: [-0.57535547]\n",
      "b: 0.28761131285384456\n",
      "R-squared:  0.02711622849510642\n"
     ]
    },
    {
     "data": {
      "text/plain": [
       "0.027"
      ]
     },
     "execution_count": 31,
     "metadata": {},
     "output_type": "execute_result"
    },
    {
     "data": {
      "image/png": "[encoded data removed]",
      "text/plain": [
       "<Figure size 432x432 with 1 Axes>"
      ]
     },
     "metadata": {
      "needs_background": "light"
     },
     "output_type": "display_data"
    }
   ],
   "source": [
    "plt.figure(figsize = [6,6])\n",
    "#run regression\n",
    "X = np.array(trunc_gp).reshape(-1,1)\n",
    "y = trunc_resid_1000\n",
    "reg = LinearRegression().fit(X, y)\n",
    "\n",
    "#Generated Predictions\n",
    "y_predicted = reg.predict(X)\n",
    "#Plot Our Actual and Predicted Values\n",
    "plt.plot(X, y, '*', color='black', alpha = 0.5);\n",
    "plt.plot(X,y_predicted,color='darkviolet', label = 'm = ' + str(round(reg.coef_[0], 3))\n",
    "         + '     r-squared = ' + str(round(float(reg.score(X, y)), 3)))\n",
    "plt.title(\"1000 ms\", fontsize = 20)\n",
    "plt.xlabel(\"Inferred Complete Ground Plane\", fontsize = 15)\n",
    "plt.ylabel(\"Linear Model Residuals\", fontsize = 15)\n",
    "\n",
    "legend = plt.legend(loc = 0, fontsize = 13, borderpad = 0.6, labelspacing = 1)\n",
    "legend.get_frame().set_facecolor('lightgray')\n",
    "\n",
    "\n",
    "#get coefficients and y intercept\n",
    "print(\"m: {0}\".format(reg.coef_))\n",
    "print(\"b: {0}\".format(reg.intercept_))\n",
    "\n",
    "#Returns the coefficient of determination R^2 of the prediction.\n",
    "print(\"R-squared: \", reg.score(X, y))\n",
    "\n",
    "round(float(reg.score(X, y)), 3)"
   ]
  },
  {
   "cell_type": "code",
   "execution_count": 28,
   "metadata": {},
   "outputs": [
    {
     "name": "stdout",
     "output_type": "stream",
     "text": [
      "m: [-0.76252176]\n",
      "b: 0.17746548641693774\n",
      "R-squared:  0.03951122207987878\n"
     ]
    },
    {
     "data": {
      "text/plain": [
       "0.04"
      ]
     },
     "execution_count": 28,
     "metadata": {},
     "output_type": "execute_result"
    },
    {
     "data": {
      "image/png": "[encoded data removed]",
      "text/plain": [
       "<Figure size 432x432 with 1 Axes>"
      ]
     },
     "metadata": {
      "needs_background": "light"
     },
     "output_type": "display_data"
    }
   ],
   "source": [
    "plt.figure(figsize = [6,6])\n",
    "#run regression\n",
    "X = np.array(trunc_vgp).reshape(-1,1)\n",
    "y = trunc_resid_250\n",
    "reg = LinearRegression().fit(X, y)\n",
    "\n",
    "#Generated Predictions\n",
    "y_predicted = reg.predict(X)\n",
    "#Plot Our Actual and Predicted Values\n",
    "plt.plot(X, y, 's', color='black', alpha = 0.5);\n",
    "plt.plot(X,y_predicted,color='chocolate', label = 'm = ' + str(round(reg.coef_[0], 3))\n",
    "         + '     r-squared = ' + str(round(float(reg.score(X, y)), 3)))\n",
    "plt.title(\"250 ms\", fontsize = 20)\n",
    "plt.xlabel(\"Percent Visible Ground Plane\", fontsize = 15)\n",
    "plt.ylabel(\"Linear Model Residuals\", fontsize = 15)\n",
    "\n",
    "legend = plt.legend(loc = 0, fontsize = 13, borderpad = 0.6, labelspacing = 1)\n",
    "legend.get_frame().set_facecolor('lightgray')\n",
    "\n",
    "\n",
    "#get coefficients and y intercept\n",
    "print(\"m: {0}\".format(reg.coef_))\n",
    "print(\"b: {0}\".format(reg.intercept_))\n",
    "\n",
    "#Returns the coefficient of determination R^2 of the prediction.\n",
    "print(\"R-squared: \", reg.score(X, y))\n",
    "\n",
    "round(float(reg.score(X, y)), 3)"
   ]
  },
  {
   "cell_type": "code",
   "execution_count": 35,
   "metadata": {},
   "outputs": [
    {
     "name": "stdout",
     "output_type": "stream",
     "text": [
      "m: [-0.20328781]\n",
      "b: 0.09216414035081871\n",
      "R-squared:  0.009517515978247904\n"
     ]
    },
    {
     "data": {
      "text/plain": [
       "0.01"
      ]
     },
     "execution_count": 35,
     "metadata": {},
     "output_type": "execute_result"
    },
    {
     "data": {
      "image/png": "[encoded data removed]",
      "text/plain": [
       "<Figure size 432x432 with 1 Axes>"
      ]
     },
     "metadata": {
      "needs_background": "light"
     },
     "output_type": "display_data"
    }
   ],
   "source": [
    "plt.figure(figsize = [6,6])\n",
    "#run regression\n",
    "X = np.array(trunc_vgp_gp).reshape(-1,1)\n",
    "y = trunc_resid_250\n",
    "reg = LinearRegression().fit(X, y)\n",
    "\n",
    "#Generated Predictions\n",
    "y_predicted = reg.predict(X)\n",
    "#Plot Our Actual and Predicted Values\n",
    "plt.plot(X, y, 'v', color='black', alpha = 0.5);\n",
    "plt.plot(X,y_predicted,color='chocolate', label = 'm = ' + str(round(reg.coef_[0], 3))\n",
    "         + '     r-squared = ' + str(round(float(reg.score(X, y)), 3)))\n",
    "plt.title(\"250 ms\", fontsize = 20)\n",
    "plt.xlabel(\"VGP/GP\", fontsize = 15)\n",
    "plt.ylabel(\"Linear Model Residuals\", fontsize = 15)\n",
    "\n",
    "legend = plt.legend(loc = 0, fontsize = 13, borderpad = 0.6, labelspacing = 1)\n",
    "legend.get_frame().set_facecolor('lightgray')\n",
    "\n",
    "\n",
    "#get coefficients and y intercept\n",
    "print(\"m: {0}\".format(reg.coef_))\n",
    "print(\"b: {0}\".format(reg.intercept_))\n",
    "\n",
    "#Returns the coefficient of determination R^2 of the prediction.\n",
    "print(\"R-squared: \", reg.score(X, y))\n",
    "\n",
    "round(float(reg.score(X, y)), 3)"
   ]
  },
  {
   "cell_type": "code",
   "execution_count": null,
   "metadata": {},
   "outputs": [],
   "source": []
  },
  {
   "cell_type": "code",
   "execution_count": null,
   "metadata": {},
   "outputs": [],
   "source": []
  }
 ],
 "metadata": {
  "kernelspec": {
   "display_name": "Python 3",
   "language": "python",
   "name": "python3"
  },
  "language_info": {
   "codemirror_mode": {
    "name": "ipython",
    "version": 3
   },
   "file_extension": ".py",
   "mimetype": "text/x-python",
   "name": "python",
   "nbconvert_exporter": "python",
   "pygments_lexer": "ipython3",
   "version": "3.7.5"
  }
 },
 "nbformat": 4,
 "nbformat_minor": 4
}
