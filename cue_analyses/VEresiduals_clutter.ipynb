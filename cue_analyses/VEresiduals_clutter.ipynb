{
 "cells": [
  {
   "cell_type": "markdown",
   "metadata": {},
   "source": [
    "# Clutter Analysis: Based on Residuals "
   ]
  },
  {
   "cell_type": "code",
   "execution_count": 1,
   "metadata": {},
   "outputs": [],
   "source": [
    "import os \n",
    "import pandas as pd\n",
    "import numpy as np\n",
    "import math\n",
    "import matplotlib.pyplot as plt\n",
    "import scipy \n",
    "import scipy.stats as stats\n",
    "from scipy.stats import sem \n",
    "from mpl_toolkits.mplot3d import Axes3D # <--- This is important for 3d plotting \n",
    "from sklearn.linear_model import LinearRegression\n",
    "import json\n",
    "import copy"
   ]
  },
  {
   "cell_type": "markdown",
   "metadata": {},
   "source": [
    "## VE Data"
   ]
  },
  {
   "cell_type": "code",
   "execution_count": 3,
   "metadata": {},
   "outputs": [],
   "source": [
    "dpath = '/Users/prachimahableshwarkar/Documents/GW/Depth_MTurk/verbal_judgement_analysis/data/finalVEMatched/z_scored/'\n",
    "\n",
    "# dpath = '/Users/pmahableshwarkar/Documents/Depth_Project/verbal_judgement_analysis/data/finalVEMatched/z_scored/'\n",
    "\n",
    "\n",
    "# stim \n",
    "with open(dpath + 'z_final_stim_125.npy' , 'rb') as f:\n",
    "    stim_125 = np.load(f, allow_pickle=True)\n",
    "    \n",
    "with open(dpath + 'z_final_stim_250.npy' , 'rb') as f:\n",
    "    stim_250 = np.load(f, allow_pickle=True)\n",
    "\n",
    "with open(dpath + 'z_final_stim_1000.npy' , 'rb') as f:\n",
    "    stim_1000 = np.load(f, allow_pickle=True)\n",
    "    \n",
    "# std \n",
    "with open(dpath + 'z_std_125.npy' , 'rb') as f:\n",
    "    std_125 = np.load(f, allow_pickle=True)\n",
    "    \n",
    "with open(dpath + 'z_std_250.npy' , 'rb') as f:\n",
    "    std_250 = np.load(f, allow_pickle=True)\n",
    "\n",
    "with open(dpath + 'z_std_1000.npy' , 'rb') as f:\n",
    "    std_1000 = np.load(f, allow_pickle=True)\n",
    "\n",
    "# x data\n",
    "with open(dpath + 'X_125.npy' , 'rb') as f:\n",
    "    X_125 = np.load(f, allow_pickle=True)\n",
    "with open(dpath + 'X_250.npy' , 'rb') as f:\n",
    "    X_250 = np.load(f, allow_pickle=True)\n",
    "with open(dpath + 'X_1000.npy' , 'rb') as f:\n",
    "    X_1000 = np.load(f, allow_pickle=True)\n",
    "\n",
    "# y data \n",
    "with open(dpath + 'z_final_y_125.npy' , 'rb') as f:\n",
    "    y_125 = np.load(f, allow_pickle=True)\n",
    "with open(dpath + 'z_final_y_250.npy' , 'rb') as f:\n",
    "    y_250 = np.load(f, allow_pickle=True) \n",
    "with open(dpath + 'z_final_y_1000.npy' , 'rb') as f:\n",
    "    y_1000= np.load(f, allow_pickle=True)\n",
    "    \n",
    "# residuals\n",
    "with open(dpath + 'residuals/'+ 'z_residuals_125.npy' , 'rb') as f:\n",
    "    residuals_125 = np.load(f, allow_pickle=True)\n",
    "with open(dpath + 'residuals/'+ 'z_residuals_250.npy' , 'rb') as f:\n",
    "    residuals_250 = np.load(f, allow_pickle=True) \n",
    "with open(dpath + 'residuals/'+ 'z_residuals_1000.npy' , 'rb') as f:\n",
    "    residuals_1000= np.load(f, allow_pickle=True)\n",
    "    \n",
    "# difference between z-scored estimate and z-scored actual depth\n",
    "with open(dpath + '/diff_125.npy' , 'rb') as f:\n",
    "    diff_125 = np.load(f, allow_pickle=True)\n",
    "with open(dpath + '/diff_250.npy' , 'rb') as f:\n",
    "    diff_250 = np.load(f, allow_pickle=True) \n",
    "with open(dpath + '/diff_1000.npy' , 'rb') as f:\n",
    "    diff_1000= np.load(f, allow_pickle=True)\n",
    "    \n",
    "# difference between raw estimate and raw actual depth\n",
    "with open('/Users/prachimahableshwarkar/Documents/GW/Depth_MTurk/verbal_judgement_analysis/data/finalVEMatched/raw' + '/raw_diff_125.npy' , 'rb') as f:\n",
    "    raw_diff_125 = np.load(f, allow_pickle=True)\n",
    "with open('/Users/prachimahableshwarkar/Documents/GW/Depth_MTurk/verbal_judgement_analysis/data/finalVEMatched/raw' + '/raw_diff_250.npy' , 'rb') as f:\n",
    "    raw_diff_250 = np.load(f, allow_pickle=True) \n",
    "with open('/Users/prachimahableshwarkar/Documents/GW/Depth_MTurk/verbal_judgement_analysis/data/finalVEMatched/raw' + '/raw_diff_1000.npy' , 'rb') as f:\n",
    "    raw_diff_1000= np.load(f, allow_pickle=True)"
   ]
  },
  {
   "cell_type": "code",
   "execution_count": null,
   "metadata": {},
   "outputs": [],
   "source": []
  },
  {
   "cell_type": "markdown",
   "metadata": {},
   "source": [
    "## Load image data"
   ]
  },
  {
   "cell_type": "code",
   "execution_count": 4,
   "metadata": {},
   "outputs": [],
   "source": [
    "stimuli_path = '/Users/prachimahableshwarkar/Documents/GW/Depth_MTurk/depth_duration_stimuli'\n",
    "kinect192_path = '/Users/prachimahableshwarkar/Documents/GW/SUNRGBD/updated/kinect2data_192'\n",
    "\n",
    "# stimuli_path = '/Users/pmahableshwarkar/Documents/Depth_Project/final_stimuli'\n",
    "# kinect192_path = '/Users/pmahableshwarkar/Documents/Depth_Project/SUNRGBD/kinect2data_192'\n",
    "\n",
    "objSA_data = {}\n",
    "targetDepths = {}\n",
    "\n",
    "for stim in os.listdir(stimuli_path):\n",
    "    if 'resize' in stim:\n",
    "        p = stimuli_path + '/' + stim + '/data.json'\n",
    "        data = json.load(open(p))\n",
    "        target_depth = data['objects'][0]['crossing_point'][0]['depth']\n",
    "        target_object = data['objects'][0]['name']\n",
    "        dbID = data['objects'][0]['dbID']\n",
    "        kp = kinect192_path + '/' + stim[:-2] + '/annotation2Dfinal'\n",
    "        for file in os.listdir(kp):\n",
    "            if 'objSA' in file:\n",
    "                objSA = json.load(open(kp + '/' + file))\n",
    "                objSA_data[stim[:-2]] = objSA\n",
    "                targetDepths[stim[:-2]] = target_depth\n"
   ]
  },
  {
   "cell_type": "code",
   "execution_count": 5,
   "metadata": {},
   "outputs": [
    {
     "data": {
      "text/plain": [
       "({'floor_3': 3.689464597292053,\n",
       "  'bench_2': 1.6132601681688803,\n",
       "  'wall_4': 4.73195337315781,\n",
       "  'bench2_9': 5.5677571310778005,\n",
       "  'table_10': 5.180670126559448,\n",
       "  'wall2_11': 3.630879463416829},\n",
       " 3.2155)"
      ]
     },
     "execution_count": 5,
     "metadata": {},
     "output_type": "execute_result"
    }
   ],
   "source": [
    "objSA_data['000866_2014-06-09_20-45-42_260595134347_rgbf000139-resize'], targetDepths['000866_2014-06-09_20-45-42_260595134347_rgbf000139-resize']\n",
    "\n"
   ]
  },
  {
   "cell_type": "markdown",
   "metadata": {},
   "source": [
    "## Global Clutter "
   ]
  },
  {
   "cell_type": "code",
   "execution_count": 6,
   "metadata": {},
   "outputs": [],
   "source": [
    "# Opening JSON file\n",
    "p = '/Users/prachimahableshwarkar/Documents/GW/Depth_MTurk/verbal_judgement_analysis/cue_analyses/cleaned_globalClutter.json'\n",
    "# p = '/Users/pmahableshwarkar/Documents/Depth_Project/verbal_judgement_analysis/cue_analyses/cleaned_globalClutter.json'\n",
    "f = open(p)\n",
    "  \n",
    "# returns JSON object as \n",
    "# a dictionary\n",
    "cleaned_globalClutter = json.load(f)"
   ]
  },
  {
   "cell_type": "code",
   "execution_count": 7,
   "metadata": {},
   "outputs": [],
   "source": [
    "cleaned_globalClutter_dict = {}\n",
    "for stim in cleaned_globalClutter:\n",
    "    cleaned_globalClutter_dict[stim] = [cleaned_globalClutter[stim], targetDepths[stim]]"
   ]
  },
  {
   "cell_type": "code",
   "execution_count": null,
   "metadata": {},
   "outputs": [],
   "source": [
    "\n",
    "    "
   ]
  },
  {
   "cell_type": "code",
   "execution_count": null,
   "metadata": {},
   "outputs": [],
   "source": []
  },
  {
   "cell_type": "markdown",
   "metadata": {},
   "source": [
    "## Linear Model: Clutter x Target Depth"
   ]
  },
  {
   "cell_type": "code",
   "execution_count": 9,
   "metadata": {},
   "outputs": [],
   "source": [
    "cvals = [cleaned_globalClutter_dict[elem][0] for elem in cleaned_globalClutter_dict]\n",
    "tdvals = [cleaned_globalClutter_dict[elem][1] for elem in cleaned_globalClutter_dict]"
   ]
  },
  {
   "cell_type": "code",
   "execution_count": 10,
   "metadata": {
    "jupyter": {
     "source_hidden": true
    }
   },
   "outputs": [
    {
     "name": "stdout",
     "output_type": "stream",
     "text": [
      "m: [0.71465284]\n",
      "b: 12.111281156020423\n",
      "R-squared:  0.009069055855630448\n",
      "Corr, p-val (0.09523159063898212, 0.2630382034509152)\n"
     ]
    },
    {
     "data": {
      "image/png": "[encoded data removed]",
      "text/plain": [
       "<Figure size 576x576 with 1 Axes>"
      ]
     },
     "metadata": {
      "needs_background": "light"
     },
     "output_type": "display_data"
    }
   ],
   "source": [
    "from sklearn.linear_model import LinearRegression\n",
    "\n",
    "fig, ax = plt.subplots(figsize=[8,8])\n",
    "ax.spines['right'].set_visible(False)\n",
    "ax.spines['top'].set_visible(False)\n",
    "\n",
    "for axis in ['bottom','left']:\n",
    "    ax.spines[axis].set_linewidth(2.3)\n",
    "\n",
    "\n",
    "#run regression\n",
    "X = np.array(tdvals).reshape(-1,1)\n",
    "y = cvals\n",
    "reg = LinearRegression().fit(X, y)\n",
    "\n",
    "#Generated Predictions\n",
    "y_predicted = reg.predict(X)\n",
    "#Plot Our Actual and Predicted Values\n",
    "plt.plot(X, y, 'o', color='black', alpha = 0.5);\n",
    "plt.plot(X,y_predicted,color='blue', label = 'm = ' + str(round(reg.coef_[0], 3))\n",
    "         + '     r-squared = ' + str(round(float(reg.score(X, y)), 3)))\n",
    "plt.title(\"Clutter x Target Depth\", fontsize = 28)\n",
    "plt.xlabel(\"Actual Depth (m)\", fontsize = 22)\n",
    "plt.ylabel(\"Clutter Score\", fontsize = 22)\n",
    "\n",
    "# plt.xticks(np.arange(1, 6, 1), fontsize=15)\n",
    "# plt.yticks(np.arange(-1,1.5, 0.5), fontsize=15)\n",
    "# plt.ylim(-1.5,1.5)\n",
    "\n",
    "legend = plt.legend(loc = 0, fontsize = 15, borderpad = 0.6, labelspacing = 1, frameon=False)\n",
    "\n",
    "#get coefficients and y intercept\n",
    "print(\"m: {0}\".format(reg.coef_))\n",
    "print(\"b: {0}\".format(reg.intercept_))\n",
    "\n",
    "#Returns the coefficient of determination R^2 of the prediction.\n",
    "print(\"R-squared: \", reg.score(X, y))\n",
    "print(\"Corr, p-val\", stats.pearsonr(cvals, tdvals))\n",
    "\n",
    "\n",
    "clutterTD_residuals = copy.deepcopy(y - y_predicted)"
   ]
  },
  {
   "cell_type": "code",
   "execution_count": 15,
   "metadata": {},
   "outputs": [],
   "source": [
    "folders_125 = [elem.split('/')[1][:-2] for elem in stim_125]\n",
    "folders_250 = [elem.split('/')[1][:-2] for elem in stim_250]\n",
    "folders_1000 = [elem.split('/')[1][:-2] for elem in stim_1000]\n"
   ]
  },
  {
   "cell_type": "code",
   "execution_count": 16,
   "metadata": {},
   "outputs": [
    {
     "data": {
      "text/plain": [
       "(114, 114)"
      ]
     },
     "execution_count": 16,
     "metadata": {},
     "output_type": "execute_result"
    }
   ],
   "source": [
    "trunc_clutterResid = []\n",
    "\n",
    "trunc_residuals_125 = []\n",
    "trunc_residuals_250 = []\n",
    "trunc_residuals_1000 = []\n",
    "\n",
    "i = 0\n",
    "for elem in cleaned_globalClutter:\n",
    "    try:\n",
    "        trunc_residuals_125.append(residuals_125[folders_125.index(elem)])\n",
    "        trunc_residuals_250.append(residuals_250[folders_250.index(elem)])\n",
    "        trunc_residuals_1000.append(residuals_1000[folders_1000.index(elem)])\n",
    "        \n",
    "        trunc_clutterResid.append(clutterTD_residuals[i])\n",
    "\n",
    "    except:\n",
    "        pass\n",
    "    i += 1\n",
    "\n",
    "len(trunc_clutterResid), len(trunc_residuals_125)"
   ]
  },
  {
   "cell_type": "code",
   "execution_count": null,
   "metadata": {},
   "outputs": [],
   "source": []
  },
  {
   "cell_type": "markdown",
   "metadata": {},
   "source": [
    "## Correlation "
   ]
  },
  {
   "cell_type": "code",
   "execution_count": 17,
   "metadata": {},
   "outputs": [],
   "source": [
    "trunc_residuals_avg = np.mean([np.array(trunc_residuals_125), np.array(trunc_residuals_250), np.array(trunc_residuals_1000)], axis =0)\n"
   ]
  },
  {
   "cell_type": "code",
   "execution_count": 18,
   "metadata": {},
   "outputs": [
    {
     "name": "stdout",
     "output_type": "stream",
     "text": [
      "Correlation between residuals (VE x actual depth) and residuals (clutter score x target depth)\n",
      "125 ms:  (0.09507969616033055, 0.3142869858749724)\n",
      "250 ms:  (0.1336116090530817, 0.156417817821614)\n",
      "1000 ms:  (0.1298147829876234, 0.16863592105194483)\n",
      "Avg:  (0.12155840195098924, 0.19761771111100618)\n",
      "All:  (0.1192777869213549, 0.027409435417435978)\n"
     ]
    }
   ],
   "source": [
    "print('Correlation between residuals (VE x actual depth) and residuals (clutter score x target depth)')\n",
    "print('125 ms: ',stats.pearsonr(trunc_residuals_125, trunc_clutterResid))\n",
    "print('250 ms: ',stats.pearsonr(trunc_residuals_250, trunc_clutterResid))\n",
    "print('1000 ms: ',stats.pearsonr(trunc_residuals_1000, trunc_clutterResid))\n",
    "\n",
    "print('Avg: ',stats.pearsonr(trunc_residuals_avg, trunc_clutterResid))\n",
    "\n",
    "print('All: ',stats.pearsonr(trunc_residuals_125 + trunc_residuals_250 + trunc_residuals_1000, trunc_clutterResid*3))\n"
   ]
  },
  {
   "cell_type": "code",
   "execution_count": null,
   "metadata": {},
   "outputs": [],
   "source": []
  }
 ],
 "metadata": {
  "kernelspec": {
   "display_name": "Python 3",
   "language": "python",
   "name": "python3"
  },
  "language_info": {
   "codemirror_mode": {
    "name": "ipython",
    "version": 3
   },
   "file_extension": ".py",
   "mimetype": "text/x-python",
   "name": "python",
   "nbconvert_exporter": "python",
   "pygments_lexer": "ipython3",
   "version": "3.7.4"
  }
 },
 "nbformat": 4,
 "nbformat_minor": 4
}
