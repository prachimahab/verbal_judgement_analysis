{
 "cells": [
  {
   "cell_type": "markdown",
   "metadata": {},
   "source": [
    "# Target Object Analysis"
   ]
  },
  {
   "cell_type": "code",
   "execution_count": 91,
   "metadata": {},
   "outputs": [],
   "source": [
    "import os\n",
    "import numpy as np\n",
    "import pandas as pd\n",
    "import scipy\n",
    "import path \n",
    "from matplotlib import pyplot as plt\n",
    "import json\n",
    "from PIL import Image, ImageColor, ImageDraw\n",
    "from scipy import stats\n",
    "from sklearn.linear_model import LinearRegression\n"
   ]
  },
  {
   "cell_type": "code",
   "execution_count": 6,
   "metadata": {},
   "outputs": [],
   "source": [
    "kinect192_path = '/Users/prachimahableshwarkar/Documents/GW/SUNRGBD/updated/kinect2data_192'\n",
    "\n",
    "stimuli_path = '/Users/prachimahableshwarkar/Documents/GW/Depth_MTurk/depth_duration_stimuli'"
   ]
  },
  {
   "cell_type": "code",
   "execution_count": 7,
   "metadata": {},
   "outputs": [
    {
     "name": "stdout",
     "output_type": "stream",
     "text": [
      "001148_2014-06-17_15-26-42_260595134347_rgbf000129-resize_0 wall_1\n",
      "FAILED\n",
      "001136_2014-06-17_15-19-41_260595134347_rgbf000076-resize_3 books_26\n",
      "FAILED\n",
      "001016_2014-06-09_16-16-10_260595134347_rgbf000112-resize_5 shoulderbag_7\n",
      "FAILED\n",
      "000493_2014-06-09_21-01-18_260595134347_rgbf000196-resize_3 wallseat_4\n",
      "FAILED\n",
      "001094_2014-06-15_17-36-00_260595134347_rgbf000205-resize_0 wall_13\n",
      "FAILED\n"
     ]
    }
   ],
   "source": [
    "targetObj = {}\n",
    "for stim in os.listdir(stimuli_path):\n",
    "    if 'resize' in stim:\n",
    "        p = stimuli_path + '/' + stim + '/data.json'\n",
    "        data = json.load(open(p))\n",
    "        target_object = data['objects'][0]['name']\n",
    "        dbID = data['objects'][0]['dbID']\n",
    "        kp = kinect192_path + '/' + stim[:-2] + '/annotation2Dfinal'\n",
    "        for file in os.listdir(kp):\n",
    "            if 'objSA' in file:\n",
    "                objSA = json.load(open(kp + '/' + file))\n",
    "#                 print(stim)\n",
    "                try:\n",
    "                    target_object_size = objSA[target_object + '_' + str(dbID)]\n",
    "                    targetObj[stim] = [target_object, target_object_size]\n",
    "                except:\n",
    "                    try:\n",
    "                        target_object_size = objSA[target_object.capitalize()  + '_' + str(dbID)]\n",
    "                        targetObj[stim] = [target_object, target_object_size]\n",
    "                    except:\n",
    "                        print(stim, target_object + '_' + str(dbID))\n",
    "                        print('FAILED')\n",
    "#                 print(target_object)\n",
    "#                 print(target_object_size)"
   ]
  },
  {
   "cell_type": "code",
   "execution_count": 8,
   "metadata": {},
   "outputs": [],
   "source": [
    "cleaned_targetObj = {'000866_2014-06-09_20-45-42_260595134347_rgbf000139-resize_1': ['wall',\n",
    "  4.73195337315781],\n",
    " '002987_2014-06-08_18-48-20_094959634447_rgbf000022-resize_0': ['basket',\n",
    "  1.0790082945794868],\n",
    " '003070_2014-06-15_14-58-27_094959634447_rgbf000150-resize_3': ['couch',\n",
    "  12.525427555277139],\n",
    " '001092_2014-06-15_17-34-58_260595134347_rgbf000171-resize_3': ['bed',\n",
    "  7.742104437696458],\n",
    " '002272_2014-06-28_18-53-56_260595134347_rgbf000067-resize_2': ['tag',\n",
    "  0.3204326682751225],\n",
    " '002700_2014-06-22_11-27-02_094959634447_rgbf000124-resize_3': ['chair',\n",
    "  1.1362873262162125],\n",
    " '000642_2014-06-08_16-59-25_260595134347_rgbf000098-resize_2': ['coffeetable',\n",
    "  2.6687058737760907],\n",
    " '002549_2014-06-24_13-41-39_094959634447_rgbf000022-resize_3': ['table',\n",
    "  3.854259770062799],\n",
    " '000505_2014-06-08_23-03-23_260595134347_rgbf000091-resize_0': ['floor',\n",
    "  71.84473526412562],\n",
    " '001815_2014-06-26_20-52-55_260595134347_rgbf000020-resize_0': ['wall',\n",
    "  15.81182904558947],\n",
    " '000549_2014-06-08_22-10-24_260595134347_rgbf000247-resize_3': ['chair',\n",
    "  11.987183943781053],\n",
    " '000506_2014-06-08_23-21-00_260595134347_rgbf000070-resize_7': ['files',\n",
    "  0.13701809430565468],\n",
    " '002725_2014-06-22_11-47-51_094959634447_rgbf000070-resize_1': ['wall',\n",
    "  0.014206540806181946],\n",
    " '000109_2014-05-14_23-41-52_260595134347_rgbf000035-resize_9': ['shelf',\n",
    "  0.8861653348030477],\n",
    " '000810_2014-06-08_17-20-01_260595134347_rgbf000105-resize_0': ['toilet',\n",
    "  18.060399961240826],\n",
    " '000502_2014-06-08_23-02-32_260595134347_rgbf000063-resize_4': ['trashcan',\n",
    "  1.7269743937824054],\n",
    " '000469_2014-06-09_19-42-10_260595134347_rgbf000081-resize_1': ['chair',\n",
    "  1.7280863367359618],\n",
    " '000635_2014-06-08_16-38-42_260595134347_rgbf000106-resize_1': ['wall',\n",
    "  13.036238046917523],\n",
    " '001650_2014-06-20_12-09-00_260595134347_rgbf000087-resize_3': ['table',\n",
    "  10.205634281700288],\n",
    " '000929_2014-06-09_16-33-19_260595134347_rgbf000139-resize_0': ['table',\n",
    "  3.6506305585196106],\n",
    " '001392_2014-06-19_16-07-59_260595134347_rgbf000046-resize_1': ['wall',\n",
    "  6.219102131338553],\n",
    " '000665_2014-06-09_20-42-35_260595134347_rgbf000110-resize_1': ['woodencupboard',\n",
    "  10.51000729496111],\n",
    " '000436_2014-06-09_22-25-11_260595134347_rgbf000137-resize_1': ['curtain',\n",
    "  7.345569586182103],\n",
    " '001148_2014-06-17_15-26-42_260595134347_rgbf000129-resize_0': ['wall',\n",
    "  7.472741689382981],\n",
    " '000742_2014-06-08_18-48-09_260595134347_rgbf000164-resize_4': ['locker',\n",
    "  1.198313107278707],\n",
    " '001029_2014-06-08_13-17-57_260595134347_rgbf000065-resize_1': ['cubiclewall',\n",
    "  1.9048163203091497],\n",
    " '000137_2014-05-20_17-04-49_260595134347_rgbf000120-resize_1': ['bookcase',\n",
    "  4.766355018382033],\n",
    " '002784_2014-06-22_19-26-30_094959634447_rgbf000083-resize_3': ['pipes',\n",
    "  1.4977387774568987],\n",
    " '000709_2014-06-08_13-51-55_260595134347_rgbf000068-resize_3': ['stapler',\n",
    "  0.06717933615630425],\n",
    " '002136_2014-06-25_21-18-03_260595134347_rgbf000109-resize_3': ['bed',\n",
    "  3.681487432772059],\n",
    " '002340_2014-06-28_20-05-46_260595134347_rgbf000113-resize_0': ['wall',\n",
    "  7.194145140756353],\n",
    " '000457_2014-06-08_16-52-43_260595134347_rgbf000199-resize_1': ['window',\n",
    "  63.39455568728609],\n",
    " '001136_2014-06-17_15-19-41_260595134347_rgbf000076-resize_3': ['books',\n",
    "  0.7627501923359205],\n",
    " '000191_2014-05-12_17-07-38_260595134347_rgbf000199-resize_0': ['wall',\n",
    "  15.400950188171798],\n",
    " '000368_2014-06-09_15-53-01_260595134347_rgbf000155-resize_2': ['chair',\n",
    "  3.819926373194075],\n",
    " '001150_2014-06-17_15-27-34_260595134347_rgbf000108-resize_2': ['racks',\n",
    "  3.5267308702115154],\n",
    " '002199_2014-06-28_18-33-56_260595134347_rgbf000074-resize_0': ['bed',\n",
    "  17.69408835922931],\n",
    " '002637_2014-06-24_14-51-13_094959634447_rgbf000066-resize_4': ['computer',\n",
    "  5.285246910947429],\n",
    " '002905_2014-06-03_18-04-43_094959634447_rgbf000151-resize_2': ['couch',\n",
    "  6.179684968660078],\n",
    " '003288_2014-05-14_21-50-30_094959634447_rgbf000028-resize_3': ['chair',\n",
    "  0.06565453408768632],\n",
    " '002209_2014-06-28_18-36-10_260595134347_rgbf000051-resize_1': ['bed',\n",
    "  5.179847913258357],\n",
    " '003587_2014-05-23_16-48-02_094959634447_rgbf002384-resize_2': ['chair',\n",
    "  1.8839727871313807],\n",
    " '001449_2014-06-19_17-01-27_260595134347_rgbf000116-resize_2': ['table',\n",
    "  8.974724263153815],\n",
    " '003546_2014-05-22_15-48-53_094959634447_rgbf004816-resize_3': ['table',\n",
    "  5.203528375080771],\n",
    " '001164_2014-06-17_15-35-46_260595134347_rgbf000085-resize_3': ['shelf',\n",
    "  0.8222390535510297],\n",
    " '001110_2014-06-15_17-25-28_260595134347_rgbf000150-resize_1': ['piano',\n",
    "  7.77149102901482],\n",
    " '000830_2014-06-04_19-49-31_260595134347_rgbf000096-resize_2': ['chair',\n",
    "  3.5866106204680452],\n",
    " '003010_2014-06-15_12-54-35_094959634447_rgbf000112-resize_0': ['wall',\n",
    "  0.09545162892607545],\n",
    " '002118_2014-06-25_20-32-08_260595134347_rgbf000078-resize_1': ['table',\n",
    "  5.196876545425555],\n",
    " '002153_2014-06-25_21-27-18_260595134347_rgbf000038-resize_5': ['table',\n",
    "  5.487371527034909],\n",
    " '001032_2014-06-08_13-23-17_260595134347_rgbf000021-resize_3': ['paper',\n",
    "  0.08971043007292454],\n",
    " '002663_2014-06-13_15-50-26_094959634447_rgbf000075-resize_1': ['wall',\n",
    "  12.704526657083164],\n",
    " '001133_2014-06-17_14-49-16_260595134347_rgbf000100-resize_0': ['couch',\n",
    "  13.552295606193288],\n",
    " '001158_2014-06-17_15-32-16_260595134347_rgbf000138-resize_2': ['chair',\n",
    "  0.32806826649609444],\n",
    " '000854_2014-06-09_19-43-13_260595134347_rgbf000066-resize_0': ['bench',\n",
    "  8.789325324625993],\n",
    " '002103_2014-06-25_20-00-40_260595134347_rgbf000049-resize_0': ['wall',\n",
    "  19.65585518376908],\n",
    " '001570_2014-06-20_17-21-09_260595134347_rgbf000135-resize_4': ['window',\n",
    "  3.398403090071746],\n",
    " '000522_2014-06-08_13-35-06_260595134347_rgbf000244-resize_1': ['floor',\n",
    "  38.429875437247325],\n",
    " '002213_2014-06-28_18-37-58_260595134347_rgbf000055-resize_1': ['wall',\n",
    "  5.316064801466737],\n",
    " '001617_2014-06-20_11-35-32_260595134347_rgbf000066-resize_1': ['wall',\n",
    "  9.625298912703645],\n",
    " '002365_2014-06-28_20-11-21_260595134347_rgbf000102-resize_1': ['wall',\n",
    "  5.55134323323952],\n",
    " '003495_2014-05-21_16-01-51_094959634447_rgbf000100-resize_3': ['chair',\n",
    "  1.0575844363592648],\n",
    " '001806_2014-06-26_20-50-20_260595134347_rgbf000091-resize_1': ['bed',\n",
    "  12.19929384701464],\n",
    " '002444_2014-06-28_20-32-08_260595134347_rgbf000027-resize_0': ['shelf',\n",
    "  8.09318533794376],\n",
    " '003423_2014-05-21_10-23-26_094959634447_rgbf002665-resize_2': ['classroom',\n",
    "  79.60339747198284],\n",
    " '003534_2014-05-22_15-06-10_094959634447_rgbf000102-resize_4': ['desk',\n",
    "  6.5229313471514265],\n",
    " '001244_2014-06-17_16-47-45_260595134347_rgbf000030-resize_4': ['wood',\n",
    "  0.6037009406621534],\n",
    " '001197_2014-06-17_16-01-50_260595134347_rgbf000103-resize_4': ['counter',\n",
    "  3.504416837028545],\n",
    " '000917_2014-06-09_22-45-29_260595134347_rgbf000149-resize_3': ['toaster',\n",
    "  0.8414203762187884],\n",
    " '002989_2014-06-15_12-25-03_094959634447_rgbf000150-resize_3': ['box',\n",
    "  0.14749361553089035],\n",
    " '001100_2014-06-15_17-46-26_260595134347_rgbf000225-resize_2': ['bed',\n",
    "  12.801543017880073],\n",
    " '000521_2014-06-08_13-34-35_260595134347_rgbf000191-resize_2': ['table',\n",
    "  3.722915803704359],\n",
    " '000556_2014-06-09_22-42-56_260595134347_rgbf000214-resize_1': ['sofas',\n",
    "  12.910136666914786],\n",
    " '003069_2014-06-15_14-57-50_094959634447_rgbf000150-resize_4': ['baner',\n",
    "  4.861298048124029],\n",
    " '001516_2014-06-20_16-25-09_260595134347_rgbf000076-resize_2': ['sink',\n",
    "  1.4339254164710502],\n",
    " '002630_2014-06-24_14-47-50_094959634447_rgbf000055-resize_1': ['wall',\n",
    "  10.775773678972143],\n",
    " '003083_2014-06-15_15-21-03_094959634447_rgbf000063-resize_1': ['wall',\n",
    "  2.5647952119129855],\n",
    " '000927_2014-06-09_16-32-30_260595134347_rgbf000123-resize_3': ['wall',\n",
    "  0.5096374562640771],\n",
    " '002057_2014-06-24_21-00-13_260595134347_rgbf000120-resize_1': ['headboard',\n",
    "  4.823475611519976],\n",
    " '003621_2014-05-23_18-06-08_094959634447_rgbf000101-resize_1': ['wall',\n",
    "  14.784310014131261],\n",
    " '002323_2014-06-28_20-01-54_260595134347_rgbf000051-resize_4': ['pillow',\n",
    "  0.096237592755378],\n",
    " '003081_2014-06-15_15-19-16_094959634447_rgbf000150-resize_1': ['countertop',\n",
    "  3.445167493134318],\n",
    " '001056_2014-06-08_18-46-44_260595134347_rgbf000068-resize_0': ['chair',\n",
    "  3.0003758596223813],\n",
    " '001181_2014-06-17_15-50-57_260595134347_rgbf000106-resize_4': ['wall',\n",
    "  21.2463567009966],\n",
    " '001055_2014-06-08_18-45-35_260595134347_rgbf000111-resize_4': ['cloth',\n",
    "  0.22038808954131725],\n",
    " '000740_2014-06-08_18-46-23_260595134347_rgbf000049-resize_6': ['paper',\n",
    "  0.15719462689417713],\n",
    " '000555_2014-06-09_22-42-23_260595134347_rgbf000037-resize_4': ['table',\n",
    "  1.1605194828510674],\n",
    " '002790_2014-06-22_19-36-35_094959634447_rgbf000074-resize_4': ['table',\n",
    "  3.872525400965562],\n",
    " '003048_2014-06-15_13-49-43_094959634447_rgbf000150-resize_1': ['wallhanging',\n",
    "  0.40099996224877194],\n",
    " '001132_2014-06-17_14-48-54_260595134347_rgbf000100-resize_2': ['chair',\n",
    "  1.2517590374988625],\n",
    " '000493_2014-06-09_21-01-18_260595134347_rgbf000196-resize_3': ['bench',\n",
    "  11.5352580043136],\n",
    " '002964_2014-06-08_17-46-11_094959634447_rgbf000091-resize_4': ['paper',\n",
    "  0.10275632948344741],\n",
    " '000736_2014-06-08_18-24-15_260595134347_rgbf000206-resize_3': ['table',\n",
    "  7.119928307088899],\n",
    " '001828_2014-06-26_21-40-03_260595134347_rgbf000024-resize_0': ['wall',\n",
    "  5.2992837924000815],\n",
    " '000483_2014-06-09_20-41-45_260595134347_rgbf000116-resize_4': ['chair',\n",
    "  1.9718364242797513],\n",
    " '002043_2014-06-24_20-29-38_260595134347_rgbf000039-resize_4': ['pillow',\n",
    "  0.5457090793370475],\n",
    " '000542_2014-06-08_18-27-08_260595134347_rgbf000118-resize_1': ['table',\n",
    "  5.633732278696621],\n",
    " '001052_2014-06-08_18-24-54_260595134347_rgbf000130-resize_1': ['photoframe',\n",
    "  2.576471824357865],\n",
    " '000780_2014-06-08_22-28-29_260595134347_rgbf000126-resize_1': ['whiteboard',\n",
    "  8.259251527950848],\n",
    " '000773_2014-06-08_22-24-54_260595134347_rgbf000093-resize_1': ['chairs',\n",
    "  11.402622655735],\n",
    " '003228_2014-05-14_13-42-35_094959634447_rgbf000101-resize_1': ['desk',\n",
    "  3.8147667872526605],\n",
    " '000800_2014-06-08_22-42-09_260595134347_rgbf000095-resize_3': ['wall',\n",
    "  0.454949893783583],\n",
    " '003490_2014-05-21_15-50-11_094959634447_rgbf000101-resize_3': ['chair',\n",
    "  0.9470093008914993],\n",
    " '002414_2014-06-28_20-24-58_260595134347_rgbf000067-resize_4': ['pillow',\n",
    "  1.316830863134362],\n",
    " '002568_2014-06-24_13-59-21_094959634447_rgbf000062-resize_4': ['flyers',\n",
    "  1.8599078728919147],\n",
    " '002425_2014-06-28_20-27-29_260595134347_rgbf000031-resize_8': ['lamp',\n",
    "  0.05172420738241024],\n",
    " '002600_2014-06-24_14-27-04_094959634447_rgbf000074-resize_2': ['couch',\n",
    "  3.4392703421146464],\n",
    " '001235_2014-06-17_16-37-36_260595134347_rgbf000084-resize_4': ['books',\n",
    "  0.13479368478235415],\n",
    " '002131_2014-06-25_21-12-01_260595134347_rgbf000083-resize_0': ['television',\n",
    "  1.2882105148294094],\n",
    " '001618_2014-06-20_11-37-31_260595134347_rgbf000027-resize_3': ['table',\n",
    "  8.25573032713853],\n",
    " '000788_2014-06-08_22-34-36_260595134347_rgbf000131-resize_1': ['table',\n",
    "  19.45917426162218],\n",
    " '000409_2014-06-04_19-23-33_260595134347_rgbf000067-resize_0': ['table',\n",
    "  1.8548867210167503],\n",
    " '000677_2014-06-08_23-10-32_260595134347_rgbf000158-resize_6': ['computer',\n",
    "  1.6475522376202176],\n",
    " '000735_2014-06-08_18-23-50_260595134347_rgbf000163-resize_2': ['chair',\n",
    "  1.351686435011568],\n",
    " '002545_2014-06-24_13-38-53_094959634447_rgbf000080-resize_4': ['countertop',\n",
    "  5.297652309850001],\n",
    " '000753_2014-06-08_21-57-44_260595134347_rgbf000123-resize_3': ['chair',\n",
    "  2.1263445244284176],\n",
    " '001289_2014-06-16_16-25-52_260595134347_rgbf000067-resize_1': ['sofa',\n",
    "  5.334419400440041],\n",
    " '001584_2014-06-20_11-07-43_260595134347_rgbf000002-resize_1': ['wall',\n",
    "  10.220628084642218],\n",
    " '002750_2014-06-22_19-08-03_094959634447_rgbf000094-resize_4': ['microwave',\n",
    "  0.9397948015785372],\n",
    " '002805_2014-06-22_19-54-03_094959634447_rgbf000079-resize_1': ['pot',\n",
    "  0.20105301148905835],\n",
    " '000691_2014-06-08_13-08-50_260595134347_rgbf000132-resize_3': ['filingcabinet',\n",
    "  5.570090033300133],\n",
    " '000906_2014-06-08_13-35-43_260595134347_rgbf000155-resize_1': ['wall',\n",
    "  21.926956523643597],\n",
    " '001532_2014-06-20_16-50-41_260595134347_rgbf000081-resize_4': ['chair',\n",
    "  1.5702176338083726],\n",
    " '002763_2014-06-22_19-13-10_094959634447_rgbf000075-resize_4': ['wire',\n",
    "  0.08777551691770026],\n",
    " '001214_2014-06-17_16-13-55_260595134347_rgbf000111-resize_0': ['trashcan',\n",
    "  0.19517971287011263],\n",
    " '002758_2014-06-22_19-11-20_094959634447_rgbf000128-resize_1': ['box',\n",
    "  1.8014481247085223],\n",
    " '002639_2014-06-24_14-51-37_094959634447_rgbf000074-resize_4': ['table',\n",
    "  0.91272020911734],\n",
    " '000869_2014-06-09_20-50-18_260595134347_rgbf000060-resize_3': ['table',\n",
    "  1.5690376859035817],\n",
    " '003079_2014-06-15_15-18-20_094959634447_rgbf000152-resize_8': ['rangehood',\n",
    "  1.9822955466059415],\n",
    " '000414_2014-06-04_19-49-13_260595134347_rgbf000044-resize_0': ['headboard',\n",
    "  4.413526149010241],\n",
    " '002995_2014-06-15_12-31-26_094959634447_rgbf000150-resize_1': ['window',\n",
    "  7.034507840851809],\n",
    " '000447_2014-06-08_16-15-46_260595134347_rgbf000130-resize_1': ['wall',\n",
    "  33.38147108959663],\n",
    " '001094_2014-06-15_17-36-00_260595134347_rgbf000205-resize_0': ['wall',\n",
    "  10.777617009386525],\n",
    " '001808_2014-06-26_20-50-58_260595134347_rgbf000029-resize_1': ['wall',\n",
    "  28.320217925936486],\n",
    " '000758_2014-06-08_22-05-08_260595134347_rgbf000085-resize_0': ['lockers',\n",
    "  4.5434399541465895],\n",
    " '000878_2014-06-08_22-52-45_260595134347_rgbf000045-resize_2': ['map',\n",
    "  1.1948402835487335],\n",
    " '001167_2014-06-17_15-38-07_260595134347_rgbf000108-resize_0': ['tablelegs',\n",
    "  0.9136987000319405],\n",
    " '002139_2014-06-25_21-19-37_260595134347_rgbf000124-resize_2': ['mirror',\n",
    "  9.723368781255127],\n",
    " '000636_2014-06-08_16-39-02_260595134347_rgbf000108-resize_4': ['divider',\n",
    "  0.965689079302214]}"
   ]
  },
  {
   "cell_type": "code",
   "execution_count": 9,
   "metadata": {},
   "outputs": [
    {
     "name": "stdout",
     "output_type": "stream",
     "text": [
      "6\n"
     ]
    }
   ],
   "source": [
    "## isolate images where the target object is bed \n",
    "bed_count = 0\n",
    "for key in cleaned_targetObj:\n",
    "    if cleaned_targetObj[key][0] == 'bed':\n",
    "        bed_count += 1\n",
    "print(bed_count)        "
   ]
  },
  {
   "cell_type": "code",
   "execution_count": 10,
   "metadata": {},
   "outputs": [],
   "source": [
    "targetobjects = []\n",
    "targetobjectssize = []\n",
    "for key in cleaned_targetObj:\n",
    "    targetobjects.append(cleaned_targetObj[key][0])\n",
    "    targetobjectssize.append(cleaned_targetObj[key][1])\n",
    "\n"
   ]
  },
  {
   "cell_type": "code",
   "execution_count": 11,
   "metadata": {},
   "outputs": [
    {
     "name": "stdout",
     "output_type": "stream",
     "text": [
      "wall : 4.73195337315781\n",
      "basket : 1.0790082945794868\n",
      "couch : 12.525427555277139\n",
      "bed : 7.742104437696458\n",
      "tag : 0.3204326682751225\n",
      "chair : 1.1362873262162125\n",
      "coffeetable : 2.6687058737760907\n",
      "table : 3.854259770062799\n",
      "floor : 71.84473526412562\n",
      "wall : 15.81182904558947\n",
      "chair : 11.987183943781053\n",
      "files : 0.13701809430565468\n",
      "wall : 0.014206540806181946\n",
      "shelf : 0.8861653348030477\n",
      "toilet : 18.060399961240826\n",
      "trashcan : 1.7269743937824054\n",
      "chair : 1.7280863367359618\n",
      "wall : 13.036238046917523\n",
      "table : 10.205634281700288\n",
      "table : 3.6506305585196106\n",
      "wall : 6.219102131338553\n",
      "woodencupboard : 10.51000729496111\n",
      "curtain : 7.345569586182103\n",
      "wall : 7.472741689382981\n",
      "locker : 1.198313107278707\n",
      "cubiclewall : 1.9048163203091497\n",
      "bookcase : 4.766355018382033\n",
      "pipes : 1.4977387774568987\n",
      "stapler : 0.06717933615630425\n",
      "bed : 3.681487432772059\n",
      "wall : 7.194145140756353\n",
      "window : 63.39455568728609\n",
      "books : 0.7627501923359205\n",
      "wall : 15.400950188171798\n",
      "chair : 3.819926373194075\n",
      "racks : 3.5267308702115154\n",
      "bed : 17.69408835922931\n",
      "computer : 5.285246910947429\n",
      "couch : 6.179684968660078\n",
      "chair : 0.06565453408768632\n",
      "bed : 5.179847913258357\n",
      "chair : 1.8839727871313807\n",
      "table : 8.974724263153815\n",
      "table : 5.203528375080771\n",
      "shelf : 0.8222390535510297\n",
      "piano : 7.77149102901482\n",
      "chair : 3.5866106204680452\n",
      "wall : 0.09545162892607545\n",
      "table : 5.196876545425555\n",
      "table : 5.487371527034909\n",
      "paper : 0.08971043007292454\n",
      "wall : 12.704526657083164\n",
      "couch : 13.552295606193288\n",
      "chair : 0.32806826649609444\n",
      "bench : 8.789325324625993\n",
      "wall : 19.65585518376908\n",
      "window : 3.398403090071746\n",
      "floor : 38.429875437247325\n",
      "wall : 5.316064801466737\n",
      "wall : 9.625298912703645\n",
      "wall : 5.55134323323952\n",
      "chair : 1.0575844363592648\n",
      "bed : 12.19929384701464\n",
      "shelf : 8.09318533794376\n",
      "classroom : 79.60339747198284\n",
      "desk : 6.5229313471514265\n",
      "wood : 0.6037009406621534\n",
      "counter : 3.504416837028545\n",
      "toaster : 0.8414203762187884\n",
      "box : 0.14749361553089035\n",
      "bed : 12.801543017880073\n",
      "table : 3.722915803704359\n",
      "sofas : 12.910136666914786\n",
      "baner : 4.861298048124029\n",
      "sink : 1.4339254164710502\n",
      "wall : 10.775773678972143\n",
      "wall : 2.5647952119129855\n",
      "wall : 0.5096374562640771\n",
      "headboard : 4.823475611519976\n",
      "wall : 14.784310014131261\n",
      "pillow : 0.096237592755378\n",
      "countertop : 3.445167493134318\n",
      "chair : 3.0003758596223813\n",
      "wall : 21.2463567009966\n",
      "cloth : 0.22038808954131725\n",
      "paper : 0.15719462689417713\n",
      "table : 1.1605194828510674\n",
      "table : 3.872525400965562\n",
      "wallhanging : 0.40099996224877194\n",
      "chair : 1.2517590374988625\n",
      "bench : 11.5352580043136\n",
      "paper : 0.10275632948344741\n",
      "table : 7.119928307088899\n",
      "wall : 5.2992837924000815\n",
      "chair : 1.9718364242797513\n",
      "pillow : 0.5457090793370475\n",
      "table : 5.633732278696621\n",
      "photoframe : 2.576471824357865\n",
      "whiteboard : 8.259251527950848\n",
      "chairs : 11.402622655735\n",
      "desk : 3.8147667872526605\n",
      "wall : 0.454949893783583\n",
      "chair : 0.9470093008914993\n",
      "pillow : 1.316830863134362\n",
      "flyers : 1.8599078728919147\n",
      "lamp : 0.05172420738241024\n",
      "couch : 3.4392703421146464\n",
      "books : 0.13479368478235415\n",
      "television : 1.2882105148294094\n",
      "table : 8.25573032713853\n",
      "table : 19.45917426162218\n",
      "table : 1.8548867210167503\n",
      "computer : 1.6475522376202176\n",
      "chair : 1.351686435011568\n",
      "countertop : 5.297652309850001\n",
      "chair : 2.1263445244284176\n",
      "sofa : 5.334419400440041\n",
      "wall : 10.220628084642218\n",
      "microwave : 0.9397948015785372\n",
      "pot : 0.20105301148905835\n",
      "filingcabinet : 5.570090033300133\n",
      "wall : 21.926956523643597\n",
      "chair : 1.5702176338083726\n",
      "wire : 0.08777551691770026\n",
      "trashcan : 0.19517971287011263\n",
      "box : 1.8014481247085223\n",
      "table : 0.91272020911734\n",
      "table : 1.5690376859035817\n",
      "rangehood : 1.9822955466059415\n",
      "headboard : 4.413526149010241\n",
      "window : 7.034507840851809\n",
      "wall : 33.38147108959663\n",
      "wall : 10.777617009386525\n",
      "wall : 28.320217925936486\n",
      "lockers : 4.5434399541465895\n",
      "map : 1.1948402835487335\n",
      "tablelegs : 0.9136987000319405\n",
      "mirror : 9.723368781255127\n",
      "divider : 0.965689079302214\n"
     ]
    }
   ],
   "source": [
    "for key in cleaned_targetObj:\n",
    "    print(cleaned_targetObj[key][0], ':', cleaned_targetObj[key][1])"
   ]
  },
  {
   "cell_type": "code",
   "execution_count": 12,
   "metadata": {},
   "outputs": [
    {
     "data": {
      "image/png": "[encoded data removed]",
      "text/plain": [
       "<Figure size 1080x504 with 1 Axes>"
      ]
     },
     "metadata": {
      "needs_background": "light"
     },
     "output_type": "display_data"
    }
   ],
   "source": [
    "plt.figure(figsize=[15,7])\n",
    "plt.hist(targetobjects, color='orange')\n",
    "plt.xticks(rotation=70, fontsize=12)\n",
    "plt.title('Target Object Distribution', fontsize=15)\n",
    "plt.show();"
   ]
  },
  {
   "cell_type": "code",
   "execution_count": 13,
   "metadata": {},
   "outputs": [
    {
     "data": {
      "image/png": "[encoded data removed]",
      "text/plain": [
       "<Figure size 504x504 with 1 Axes>"
      ]
     },
     "metadata": {
      "needs_background": "light"
     },
     "output_type": "display_data"
    }
   ],
   "source": [
    "plt.figure(figsize=[7,7])\n",
    "plt.hist(targetobjectssize, color='magenta')\n",
    "plt.xticks(rotation=70, fontsize=12)\n",
    "plt.title('Distribution of Target Object Sizes', fontsize=14)\n",
    "plt.xlabel('Target Object Size')\n",
    "plt.show();"
   ]
  },
  {
   "cell_type": "code",
   "execution_count": 14,
   "metadata": {},
   "outputs": [],
   "source": [
    "# TAC_raw_individual_trial_data_path = '/Users/prachi/Documents/depth_duration/depth_duration_analysis/TAC_npy_files/TAC_raw_individual_trial_data/'\n",
    "\n",
    "TAC_raw_individual_trial_data_path  = '/Users/prachimahableshwarkar/Documents/GW/Depth_MTurk/depth_duration_analysis/TAC_npy_files/TAC_raw_individual_trial_data/'\n",
    "\n",
    "# stim \n",
    "with open(TAC_raw_individual_trial_data_path + 'final_stim_250.npy' , 'rb') as f:\n",
    "    stim_250 = np.load(f, allow_pickle=True)\n",
    "\n",
    "with open(TAC_raw_individual_trial_data_path + 'final_stim_500.npy' , 'rb') as f:\n",
    "    stim_500 = np.load(f, allow_pickle=True)\n",
    "    \n",
    "with open(TAC_raw_individual_trial_data_path + 'final_stim_750.npy' , 'rb') as f:\n",
    "    stim_750 = np.load(f, allow_pickle=True)\n",
    "\n",
    "with open(TAC_raw_individual_trial_data_path + 'final_stim_1000.npy' , 'rb') as f:\n",
    "    stim_1000 = np.load(f, allow_pickle=True)\n",
    "\n",
    "# x data\n",
    "with open(TAC_raw_individual_trial_data_path + 'X_250.npy' , 'rb') as f:\n",
    "    X_250 = np.load(f, allow_pickle=True)\n",
    "\n",
    "with open(TAC_raw_individual_trial_data_path + 'X_500.npy' , 'rb') as f:\n",
    "    X_500 = np.load(f, allow_pickle=True)\n",
    "    \n",
    "with open(TAC_raw_individual_trial_data_path + 'X_750.npy' , 'rb') as f:\n",
    "    X_750 = np.load(f, allow_pickle=True)\n",
    "\n",
    "with open(TAC_raw_individual_trial_data_path + 'X_1000.npy' , 'rb') as f:\n",
    "    X_1000 = np.load(f, allow_pickle=True)\n",
    "\n",
    "# y data \n",
    "with open(TAC_raw_individual_trial_data_path + 'final_y_250.npy' , 'rb') as f:\n",
    "    y_250 = np.load(f, allow_pickle=True)\n",
    "    \n",
    "with open(TAC_raw_individual_trial_data_path + 'final_y_500.npy' , 'rb') as f:\n",
    "    y_500 = np.load(f, allow_pickle=True)\n",
    "    \n",
    "with open(TAC_raw_individual_trial_data_path + 'final_y_750.npy' , 'rb') as f:\n",
    "    y_750 = np.load(f, allow_pickle=True)\n",
    "    \n",
    "with open(TAC_raw_individual_trial_data_path + 'final_y_1000.npy' , 'rb') as f:\n",
    "    y_1000= np.load(f, allow_pickle=True)"
   ]
  },
  {
   "cell_type": "code",
   "execution_count": 15,
   "metadata": {},
   "outputs": [],
   "source": [
    "# TAC_raw_individual_trial_residuals_path = '/Users/prachi/Documents/depth_duration/depth_duration_analysis/TAC_npy_files/TAC_raw_individual_trial_residuals/'\n",
    "\n",
    "TAC_raw_individual_trial_residuals_path = '/Users/prachimahableshwarkar/Documents/GW/Depth_MTurk/depth_duration_analysis/TAC_npy_files/TAC_raw_individual_trial_residuals/'\n",
    "\n",
    "# residuals\n",
    "with open(TAC_raw_individual_trial_residuals_path + 'residuals_250.npy' , 'rb') as f:\n",
    "    residuals_250 = np.load(f, allow_pickle=True)\n",
    "\n",
    "with open(TAC_raw_individual_trial_residuals_path + 'residuals_500.npy' , 'rb') as f:\n",
    "    residuals_500 = np.load(f, allow_pickle=True)\n",
    "    \n",
    "with open(TAC_raw_individual_trial_residuals_path + 'residuals_750.npy' , 'rb') as f:\n",
    "    residuals_750 = np.load(f, allow_pickle=True)\n",
    "\n",
    "with open(TAC_raw_individual_trial_residuals_path + 'residuals_1000.npy' , 'rb') as f:\n",
    "    residuals_1000 = np.load(f, allow_pickle=True)"
   ]
  },
  {
   "cell_type": "code",
   "execution_count": 18,
   "metadata": {},
   "outputs": [],
   "source": [
    "stimfolder_250 = [elem.split('/')[1][:-2] for elem in stim_250]\n",
    "stimfolder_500 = [elem.split('/')[1][:-2] for elem in stim_500]\n",
    "stimfolder_750 = [elem.split('/')[1][:-2] for elem in stim_750]\n",
    "stimfolder_1000 = [elem.split('/')[1][:-2] for elem in stim_1000]\n"
   ]
  },
  {
   "cell_type": "markdown",
   "metadata": {},
   "source": [
    "## Are people biased by the overall position of the obejct?\n",
    "\n",
    "Calculate the mean depth of the whole target object"
   ]
  },
  {
   "cell_type": "code",
   "execution_count": 23,
   "metadata": {},
   "outputs": [
    {
     "data": {
      "text/plain": [
       "'2'"
      ]
     },
     "execution_count": 23,
     "metadata": {},
     "output_type": "execute_result"
    }
   ],
   "source": [
    "stim_250[0].split('/')[1][-1]"
   ]
  },
  {
   "cell_type": "code",
   "execution_count": 69,
   "metadata": {},
   "outputs": [
    {
     "data": {
      "text/plain": [
       "('depth_duration_stimuli/002272_2014-06-28_18-53-56_260595134347_rgbf000067-resize_2/002272_2014-06-28_18-53-56_260595134347_rgbf000067-resize_2-target.png',\n",
       " '002272_2014-06-28_18-53-56_260595134347_rgbf000067-resize',\n",
       " 192)"
      ]
     },
     "execution_count": 69,
     "metadata": {},
     "output_type": "execute_result"
    }
   ],
   "source": [
    "stim_250[0], stimfolder_250[0], len(stim_250)"
   ]
  },
  {
   "cell_type": "code",
   "execution_count": 78,
   "metadata": {},
   "outputs": [],
   "source": [
    "targetobj_meandepth = []\n",
    "for i in range(len(stim_250)):\n",
    "    targetobj_num = stim_250[i].split('/')[1][-1]\n",
    "    folder = stimfolder_250[i]\n",
    "    depthbfx_path = kinect192_path + '/' + folder + '/depth_bfx'\n",
    "    for file in os.listdir(depthbfx_path):\n",
    "        if \"png\" in file:\n",
    "            im = Image.open(depthbfx_path + '/' + file)\n",
    "            im.load()\n",
    "            depthdata = np.asarray(im)/8000\n",
    "    for file in os.listdir(kinect192_path + '/' + folder + '/annotation2Dfinal'):\n",
    "        if 'objSeg' in file:\n",
    "            # JSON file\n",
    "            f = open (kinect192_path + '/' + folder + '/annotation2Dfinal/' + file, \"r\")\n",
    "            # Reading from file\n",
    "            data = json.loads(f.read())\n",
    "            # coordinates are in PIL system\n",
    "            # need to be rotated when indexing for depth\n",
    "            coords = data[str(targetobj_num)]['pixels']\n",
    "            depths = []\n",
    "            for coord in coords:\n",
    "                i0 = coord[1]\n",
    "                i1 = coord[0]\n",
    "                depth = depthdata[int(i0)][int(i1)]\n",
    "                depths.append(depth)\n",
    "    if len(depths) < 2:\n",
    "        p = '/Users/prachimahableshwarkar/Documents/GW/Depth_MTurk/depth_duration_stimuli/' + folder + \"_\" +targetobj_num\n",
    "        for file in os.listdir():\n",
    "            # JSON file\n",
    "            f = open (p + '/data.json', \"r\")\n",
    "            # Reading from file\n",
    "            data = json.loads(f.read())\n",
    "            depthval = data['objects'][0]['crossing_point'][0]['depth']\n",
    "        targetobj_meandepth.append(depthval)\n",
    "        \n",
    "    else: targetobj_meandepth.append(np.mean(np.array(depths)))\n",
    "            \n",
    "                \n"
   ]
  },
  {
   "cell_type": "code",
   "execution_count": 85,
   "metadata": {},
   "outputs": [
    {
     "data": {
      "text/plain": [
       "192"
      ]
     },
     "execution_count": 85,
     "metadata": {},
     "output_type": "execute_result"
    }
   ],
   "source": [
    "actual_depth_values = []\n",
    "for i in range(len(stim_250)):\n",
    "    targetobj_num = stim_250[i].split('/')[1][-1]\n",
    "    folder = stimfolder_250[i]\n",
    "    p = '/Users/prachimahableshwarkar/Documents/GW/Depth_MTurk/depth_duration_stimuli/' + folder + \"_\" +targetobj_num\n",
    "    # JSON file\n",
    "    f = open (p + '/data.json', \"r\")\n",
    "    # Reading from file\n",
    "    data = json.loads(f.read())\n",
    "    depthval = data['objects'][0]['crossing_point'][0]['depth']\n",
    "    actual_depth_values.append(depthval)\n",
    "len(actual_depth_values)"
   ]
  },
  {
   "cell_type": "code",
   "execution_count": 109,
   "metadata": {},
   "outputs": [
    {
     "data": {
      "image/png": "[encoded data removed]",
      "text/plain": [
       "<Figure size 432x288 with 1 Axes>"
      ]
     },
     "metadata": {
      "needs_background": "light"
     },
     "output_type": "display_data"
    }
   ],
   "source": [
    "# Target Object Mean Depth - Actual Target Depth\n",
    "md_ac = np.array(targetobj_meandepth) - np.array(actual_depth_values)\n",
    "\n",
    "plt.title('Distribution of Target Object Mean Depth - Actual Target Depth')\n",
    "plt.xlabel('Target Object Mean Depth - Actual Target Depth')\n",
    "plt.ylabel('count')\n",
    "plt.hist(md_ac, color='magenta')\n",
    "plt.show()"
   ]
  },
  {
   "cell_type": "code",
   "execution_count": 79,
   "metadata": {},
   "outputs": [
    {
     "data": {
      "text/plain": [
       "(192, 192)"
      ]
     },
     "execution_count": 79,
     "metadata": {},
     "output_type": "execute_result"
    }
   ],
   "source": [
    "len(targetobj_meandepth), len(residuals_250)"
   ]
  },
  {
   "cell_type": "code",
   "execution_count": 110,
   "metadata": {},
   "outputs": [
    {
     "name": "stdout",
     "output_type": "stream",
     "text": [
      "(0.6900654234102284, 1.746363062990423e-28)\n"
     ]
    }
   ],
   "source": [
    "print(stats.pearsonr(md_ac, targetobj_meandepth))\n"
   ]
  },
  {
   "cell_type": "code",
   "execution_count": 80,
   "metadata": {},
   "outputs": [
    {
     "name": "stdout",
     "output_type": "stream",
     "text": [
      "Correlation between Linear Model Residuals and Target Object Mean Depth\n",
      "250 ms:  (-0.07028031732095581, 0.3327089184522668)\n",
      "500 ms:  (-0.0869752854700867, 0.23030646945989325)\n",
      "750 ms:  (-0.03833752107586852, 0.5975371260820118)\n",
      "1000 ms:  (0.0010754151652400193, 0.9881884785375877)\n"
     ]
    }
   ],
   "source": [
    "# corr, p-value\n",
    "print('Correlation between Linear Model Residuals and Target Object Mean Depth')\n",
    "print('250 ms: ',stats.pearsonr(residuals_250, targetobj_meandepth))\n",
    "print('500 ms: ',stats.pearsonr(residuals_500, targetobj_meandepth))\n",
    "print('750 ms: ',stats.pearsonr(residuals_750, targetobj_meandepth))\n",
    "print('1000 ms: ',stats.pearsonr(residuals_1000, targetobj_meandepth))\n"
   ]
  },
  {
   "cell_type": "code",
   "execution_count": 105,
   "metadata": {},
   "outputs": [
    {
     "name": "stdout",
     "output_type": "stream",
     "text": [
      "Correlation between Linear Model Residuals and Target Object Mean Depth - Actual Depth\n",
      "250 ms:  (-0.0658665532366412, 0.36403667484055846)\n",
      "500 ms:  (-0.08151303934109247, 0.2610241526647662)\n",
      "750 ms:  (-0.03592983738779447, 0.620764448282315)\n",
      "1000 ms:  (0.0010078766421796718, 0.9889302202001528)\n"
     ]
    }
   ],
   "source": [
    "# corr, p-value\n",
    "print('Correlation between Linear Model Residuals and Target Object Mean Depth - Actual Depth')\n",
    "print('250 ms: ',stats.pearsonr(residuals_250, md_ac))\n",
    "print('500 ms: ',stats.pearsonr(residuals_500, md_ac))\n",
    "print('750 ms: ',stats.pearsonr(residuals_750, md_ac))\n",
    "print('1000 ms: ',stats.pearsonr(residuals_1000, md_ac))\n"
   ]
  },
  {
   "cell_type": "code",
   "execution_count": 94,
   "metadata": {},
   "outputs": [
    {
     "name": "stdout",
     "output_type": "stream",
     "text": [
      "Correlation between Estimated Depth and Target Object Depth\n",
      "250 ms:  (0.21300514861095066, 0.0030137641224473747)\n",
      "1000 ms:  (0.27275322752115205, 0.00012943665001697132)\n"
     ]
    }
   ],
   "source": [
    "# corr, p-value\n",
    "print('Correlation between Estimated Depth and Target Object Depth')\n",
    "print('250 ms: ',stats.pearsonr(y_250, targetobj_meandepth))\n",
    "print('1000 ms: ',stats.pearsonr(y_1000, targetobj_meandepth))\n"
   ]
  },
  {
   "cell_type": "code",
   "execution_count": null,
   "metadata": {},
   "outputs": [],
   "source": []
  },
  {
   "cell_type": "code",
   "execution_count": 96,
   "metadata": {},
   "outputs": [
    {
     "name": "stdout",
     "output_type": "stream",
     "text": [
      "m: [0.16363792]\n",
      "b: 1.938186956732081\n",
      "R-squared:  0.07439432312320537\n"
     ]
    },
    {
     "data": {
      "text/plain": [
       "0.074"
      ]
     },
     "execution_count": 96,
     "metadata": {},
     "output_type": "execute_result"
    },
    {
     "data": {
      "image/png": "[encoded data removed]",
      "text/plain": [
       "<Figure size 576x576 with 1 Axes>"
      ]
     },
     "metadata": {
      "needs_background": "light"
     },
     "output_type": "display_data"
    }
   ],
   "source": [
    "\n",
    "plt.figure(figsize = [8,8])\n",
    "#run regression\n",
    "X = np.array(targetobj_meandepth).reshape(-1,1)\n",
    "y = y_1000\n",
    "reg = LinearRegression().fit(X, y)\n",
    "\n",
    "#Generated Predictions\n",
    "y_predicted = reg.predict(X)\n",
    "#Plot Our Actual and Predicted Values\n",
    "plt.plot(X, y, 'o', color='black', alpha = 0.5);\n",
    "plt.plot(X,y_predicted,color='darkviolet', label = 'm = ' + str(round(reg.coef_[0], 3))\n",
    "         + '     r-squared = ' + str(round(float(reg.score(X, y)), 3)))\n",
    "plt.title(\"1000 ms\", fontsize = 20)\n",
    "plt.xlabel(\"Target Object Mean Depth (m)\", fontsize = 15)\n",
    "plt.ylabel(\"Estimated Depth (m)\", fontsize = 15)\n",
    "\n",
    "legend = plt.legend(loc = 0, fontsize = 13, borderpad = 0.6, labelspacing = 1)\n",
    "legend.get_frame().set_facecolor('lightgray')\n",
    "\n",
    "\n",
    "#get coefficients and y intercept\n",
    "print(\"m: {0}\".format(reg.coef_))\n",
    "print(\"b: {0}\".format(reg.intercept_))\n",
    "\n",
    "#Returns the coefficient of determination R^2 of the prediction.\n",
    "print(\"R-squared: \", reg.score(X, y))\n",
    "\n",
    "round(float(reg.score(X, y)), 3)"
   ]
  },
  {
   "cell_type": "code",
   "execution_count": 97,
   "metadata": {},
   "outputs": [
    {
     "name": "stdout",
     "output_type": "stream",
     "text": [
      "m: [-0.02313407]\n",
      "b: 0.06959043090022807\n",
      "R-squared:  0.004939323002734253\n"
     ]
    },
    {
     "data": {
      "text/plain": [
       "0.005"
      ]
     },
     "execution_count": 97,
     "metadata": {},
     "output_type": "execute_result"
    },
    {
     "data": {
      "image/png": "[encoded data removed]",
      "text/plain": [
       "<Figure size 576x576 with 1 Axes>"
      ]
     },
     "metadata": {
      "needs_background": "light"
     },
     "output_type": "display_data"
    }
   ],
   "source": [
    "\n",
    "plt.figure(figsize = [8,8])\n",
    "#run regression\n",
    "X = np.array(targetobj_meandepth).reshape(-1,1)\n",
    "y = residuals_250\n",
    "reg = LinearRegression().fit(X, y)\n",
    "\n",
    "#Generated Predictions\n",
    "y_predicted = reg.predict(X)\n",
    "#Plot Our Actual and Predicted Values\n",
    "plt.plot(X, y, 'o', color='black', alpha = 0.5);\n",
    "plt.plot(X,y_predicted,color='chocolate', label = 'm = ' + str(round(reg.coef_[0], 3))\n",
    "         + '     r-squared = ' + str(round(float(reg.score(X, y)), 3)))\n",
    "plt.title(\"250 ms\", fontsize = 20)\n",
    "plt.xlabel(\"Target Object Mean Depth (m)\", fontsize = 15)\n",
    "plt.ylabel(\"Linear Model Residuals\", fontsize = 15)\n",
    "\n",
    "legend = plt.legend(loc = 0, fontsize = 13, borderpad = 0.6, labelspacing = 1)\n",
    "legend.get_frame().set_facecolor('lightgray')\n",
    "\n",
    "\n",
    "#get coefficients and y intercept\n",
    "print(\"m: {0}\".format(reg.coef_))\n",
    "print(\"b: {0}\".format(reg.intercept_))\n",
    "\n",
    "#Returns the coefficient of determination R^2 of the prediction.\n",
    "print(\"R-squared: \", reg.score(X, y))\n",
    "\n",
    "round(float(reg.score(X, y)), 3)"
   ]
  },
  {
   "cell_type": "markdown",
   "metadata": {},
   "source": [
    "## Actual Depth x Behavioral Data"
   ]
  },
  {
   "cell_type": "code",
   "execution_count": 99,
   "metadata": {},
   "outputs": [
    {
     "name": "stdout",
     "output_type": "stream",
     "text": [
      "Correlation between Actual Depth and Target Object Mean Depth\n",
      "(0.3231428905173204, 4.83988969772455e-06)\n"
     ]
    }
   ],
   "source": [
    "# corr, p-value\n",
    "print('Correlation between Actual Depth and Target Object Mean Depth')\n",
    "print(stats.pearsonr(actual_depth_values, targetobj_meandepth))\n"
   ]
  },
  {
   "cell_type": "code",
   "execution_count": null,
   "metadata": {},
   "outputs": [],
   "source": []
  },
  {
   "cell_type": "code",
   "execution_count": null,
   "metadata": {},
   "outputs": [],
   "source": []
  },
  {
   "cell_type": "code",
   "execution_count": null,
   "metadata": {},
   "outputs": [],
   "source": []
  }
 ],
 "metadata": {
  "kernelspec": {
   "display_name": "Python 3",
   "language": "python",
   "name": "python3"
  },
  "language_info": {
   "codemirror_mode": {
    "name": "ipython",
    "version": 3
   },
   "file_extension": ".py",
   "mimetype": "text/x-python",
   "name": "python",
   "nbconvert_exporter": "python",
   "pygments_lexer": "ipython3",
   "version": "3.7.5"
  }
 },
 "nbformat": 4,
 "nbformat_minor": 4
}
