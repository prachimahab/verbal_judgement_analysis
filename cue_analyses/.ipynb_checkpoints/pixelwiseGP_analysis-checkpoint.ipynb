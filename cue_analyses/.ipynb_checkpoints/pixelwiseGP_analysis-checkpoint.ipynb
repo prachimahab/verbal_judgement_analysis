{
 "cells": [
  {
   "cell_type": "markdown",
   "metadata": {},
   "source": [
    "# Pixelwise Visible Ground Plane and Complete Ground Plane"
   ]
  },
  {
   "cell_type": "code",
   "execution_count": 1,
   "metadata": {},
   "outputs": [],
   "source": [
    "import os\n",
    "import numpy as np\n",
    "import pandas as pd\n",
    "import scipy\n",
    "import path \n",
    "from matplotlib import pyplot as plt\n",
    "import json\n",
    "from PIL import Image, ImageStat\n",
    "from sklearn.linear_model import LinearRegression\n",
    "from scipy import stats\n",
    "import math"
   ]
  },
  {
   "cell_type": "markdown",
   "metadata": {},
   "source": [
    "## Load VE Behavioral Data"
   ]
  },
  {
   "cell_type": "code",
   "execution_count": 187,
   "metadata": {},
   "outputs": [],
   "source": [
    "\n",
    "dpath = '/Users/prachimahableshwarkar/Documents/GW/Depth_MTurk/verbal_judgement_analysis/data/finalVEMatched/z_scored/'\n",
    "\n",
    "\n",
    "# stim \n",
    "with open(dpath + 'z_final_stim_125.npy' , 'rb') as f:\n",
    "    stim_125 = np.load(f, allow_pickle=True)\n",
    "    \n",
    "with open(dpath + 'z_final_stim_250.npy' , 'rb') as f:\n",
    "    stim_250 = np.load(f, allow_pickle=True)\n",
    "\n",
    "with open(dpath + 'z_final_stim_1000.npy' , 'rb') as f:\n",
    "    stim_1000 = np.load(f, allow_pickle=True)\n",
    "    \n",
    "# std \n",
    "with open(dpath + 'z_std_125.npy' , 'rb') as f:\n",
    "    std_125 = np.load(f, allow_pickle=True)\n",
    "    \n",
    "with open(dpath + 'z_std_250.npy' , 'rb') as f:\n",
    "    std_250 = np.load(f, allow_pickle=True)\n",
    "\n",
    "with open(dpath + 'z_std_1000.npy' , 'rb') as f:\n",
    "    std_1000 = np.load(f, allow_pickle=True)\n",
    "\n",
    "# x data\n",
    "with open(dpath + 'X_125.npy' , 'rb') as f:\n",
    "    X_125 = np.load(f, allow_pickle=True)\n",
    "with open(dpath + 'X_250.npy' , 'rb') as f:\n",
    "    X_250 = np.load(f, allow_pickle=True)\n",
    "with open(dpath + 'X_1000.npy' , 'rb') as f:\n",
    "    X_1000 = np.load(f, allow_pickle=True)\n",
    "\n",
    "# y data \n",
    "with open(dpath + 'z_final_y_125.npy' , 'rb') as f:\n",
    "    y_125 = np.load(f, allow_pickle=True)\n",
    "with open(dpath + 'z_final_y_250.npy' , 'rb') as f:\n",
    "    y_250 = np.load(f, allow_pickle=True) \n",
    "with open(dpath + 'z_final_y_1000.npy' , 'rb') as f:\n",
    "    y_1000= np.load(f, allow_pickle=True)\n",
    "    \n",
    "# residuals\n",
    "# with open(dpath + 'residuals/'+ 'z_residuals_125.npy' , 'rb') as f:\n",
    "#     residuals_125 = np.load(f, allow_pickle=True)\n",
    "# with open(dpath + 'residuals/'+ 'z_residuals_250.npy' , 'rb') as f:\n",
    "#     residuals_250 = np.load(f, allow_pickle=True) \n",
    "# with open(dpath + 'residuals/'+ 'z_residuals_1000.npy' , 'rb') as f:\n",
    "#     residuals_1000= np.load(f, allow_pickle=True)\n",
    "    \n",
    "# residuals: actual depth z-scored as well\n",
    "with open(dpath + 'residuals/'+ 'acZS_residuals_125.npy' , 'rb') as f:\n",
    "    residuals_125 = np.load(f, allow_pickle=True)\n",
    "with open(dpath + 'residuals/'+ 'acZS_residuals_250.npy' , 'rb') as f:\n",
    "    residuals_250 = np.load(f, allow_pickle=True) \n",
    "with open(dpath + 'residuals/'+ 'acZS_residuals_1000.npy' , 'rb') as f:\n",
    "    residuals_1000= np.load(f, allow_pickle=True)"
   ]
  },
  {
   "cell_type": "markdown",
   "metadata": {},
   "source": [
    "## Load Discrimination Derived TD (target depth) data"
   ]
  },
  {
   "cell_type": "code",
   "execution_count": 188,
   "metadata": {},
   "outputs": [],
   "source": [
    "dpath = '/Users/prachimahableshwarkar/Documents/GW/Depth_MTurk/depth_discrimination/data/finalDiscrimMatched/kinectCoded_discrimination/discrimination_derived_TD/'\n",
    "\n",
    "\n",
    "with open(dpath + 'stim.npy' , 'rb') as f:\n",
    "    derivedTD_stim = np.load(f, allow_pickle=True)\n",
    "derivedTD_stim = [elem.split('/')[1][:-2] for elem in derivedTD_stim]\n",
    "\n",
    "    \n",
    "with open(dpath + 'derivedTD_125.npy' , 'rb') as f:\n",
    "    _derivedTD_125 = np.load(f, allow_pickle=True) \n",
    "with open(dpath + 'derivedTD_250.npy' , 'rb') as f:\n",
    "    _derivedTD_250 = np.load(f, allow_pickle=True) \n",
    "with open(dpath + 'derivedTD_1000.npy' , 'rb') as f:\n",
    "    _derivedTD_1000 = np.load(f, allow_pickle=True) \n",
    "    \n",
    "with open(dpath + 'residuals_derivedTD_125.npy' , 'rb') as f:\n",
    "    _residuals_derivedTD_125 = np.load(f, allow_pickle=True) \n",
    "with open(dpath + 'residuals_derivedTD_250.npy' , 'rb') as f:\n",
    "    _residuals_derivedTD_250 = np.load(f, allow_pickle=True) \n",
    "with open(dpath + 'residuals_derivedTD_1000.npy' , 'rb') as f:\n",
    "    _residuals_derivedTD_1000 = np.load(f, allow_pickle=True) \n",
    "    "
   ]
  },
  {
   "cell_type": "markdown",
   "metadata": {},
   "source": [
    "## Load Discrimination Derived VE  Data"
   ]
  },
  {
   "cell_type": "code",
   "execution_count": 189,
   "metadata": {},
   "outputs": [],
   "source": [
    "dpath = '/Users/prachimahableshwarkar/Documents/GW/Depth_MTurk/depth_discrimination/data/finalDiscrimMatched/discrimination_derived_VE/'\n",
    "\n",
    "with open(dpath + 'stimuli_125.npy' , 'rb') as f:\n",
    "    derivedVE_stim_125 = np.load(f, allow_pickle=True)\n",
    "derivedVE_stim_125 = [elem.split('/')[1][:-2] for elem in derivedVE_stim_125]\n",
    "\n",
    "with open(dpath + 'stimuli_250.npy' , 'rb') as f:\n",
    "    derivedVE_stim_250 = np.load(f, allow_pickle=True)\n",
    "derivedVE_stim_250 = [elem.split('/')[1][:-2] for elem in derivedVE_stim_250]\n",
    "\n",
    "with open(dpath + 'stimuli_1000.npy' , 'rb') as f:\n",
    "    derivedVE_stim_1000 = np.load(f, allow_pickle=True)\n",
    "derivedVE_stim_1000 = [elem.split('/')[1][:-2] for elem in derivedVE_stim_1000]\n",
    "\n",
    "    \n",
    "with open(dpath + 'derivedVE_125.npy' , 'rb') as f:\n",
    "    _derivedVE_125 = np.load(f, allow_pickle=True) \n",
    "with open(dpath + 'derivedVE_250.npy' , 'rb') as f:\n",
    "    _derivedVE_250 = np.load(f, allow_pickle=True) \n",
    "with open(dpath + 'derivedVE_1000.npy' , 'rb') as f:\n",
    "    _derivedVE_1000 = np.load(f, allow_pickle=True) \n",
    "    \n",
    "with open(dpath + 'residuals_derivedVE_125.npy' , 'rb') as f:\n",
    "    _residuals_derivedVE_125 = np.load(f, allow_pickle=True) \n",
    "with open(dpath + 'residuals_derivedVE_250.npy' , 'rb') as f:\n",
    "    _residuals_derivedVE_250 = np.load(f, allow_pickle=True) \n",
    "with open(dpath + 'residuals_derivedVE_1000.npy' , 'rb') as f:\n",
    "    _residuals_derivedVE_1000 = np.load(f, allow_pickle=True) \n",
    "    "
   ]
  },
  {
   "cell_type": "markdown",
   "metadata": {},
   "source": [
    "## Data arrays must be in the same stimulus order as the VE behavioral data"
   ]
  },
  {
   "cell_type": "code",
   "execution_count": 190,
   "metadata": {},
   "outputs": [],
   "source": [
    "derivedVE_dict_125 = {}\n",
    "derivedVE_dict_250 = {}\n",
    "derivedVE_dict_1000 = {}\n",
    "\n",
    "for i in range(len(derivedVE_stim_125)):\n",
    "    derivedVE_dict_125[derivedVE_stim_125[i]] = [_derivedVE_125[i], _residuals_derivedVE_125[i]]\n",
    "    \n",
    "for i in range(len(derivedVE_stim_250)):\n",
    "    derivedVE_dict_250[derivedVE_stim_250[i]] = [_derivedVE_250[i], _residuals_derivedVE_250[i]]\n",
    "    \n",
    "for i in range(len(derivedVE_stim_1000)):\n",
    "    derivedVE_dict_1000[derivedVE_stim_1000[i]] = [_derivedVE_1000[i], _residuals_derivedVE_1000[i]]"
   ]
  },
  {
   "cell_type": "code",
   "execution_count": 191,
   "metadata": {},
   "outputs": [
    {
     "data": {
      "text/plain": [
       "'002272_2014-06-28_18-53-56_260595134347_rgbf000067-resize'"
      ]
     },
     "execution_count": 191,
     "metadata": {},
     "output_type": "execute_result"
    }
   ],
   "source": [
    "stimfolder_125 = [elem.split('/')[1][:-2] for elem in stim_125]\n",
    "stimfolder_250 = [elem.split('/')[1][:-2] for elem in stim_250]\n",
    "stimfolder_1000 = [elem.split('/')[1][:-2] for elem in stim_1000]\n",
    "stimfolder_250[0]"
   ]
  },
  {
   "cell_type": "code",
   "execution_count": null,
   "metadata": {},
   "outputs": [],
   "source": []
  },
  {
   "cell_type": "code",
   "execution_count": null,
   "metadata": {},
   "outputs": [],
   "source": [
    "\n"
   ]
  },
  {
   "cell_type": "code",
   "execution_count": 192,
   "metadata": {},
   "outputs": [
    {
     "data": {
      "text/plain": [
       "'002272_2014-06-28_18-53-56_260595134347_rgbf000067-resize'"
      ]
     },
     "execution_count": 192,
     "metadata": {},
     "output_type": "execute_result"
    }
   ],
   "source": [
    "stimfolder_125 = [elem.split('/')[1][:-2] for elem in stim_125]\n",
    "stimfolder_250 = [elem.split('/')[1][:-2] for elem in stim_250]\n",
    "stimfolder_1000 = [elem.split('/')[1][:-2] for elem in stim_1000]\n",
    "stimfolder_250[0]"
   ]
  },
  {
   "cell_type": "code",
   "execution_count": 193,
   "metadata": {},
   "outputs": [],
   "source": [
    "derivedTD_dict_125 = {}\n",
    "derivedTD_dict_250 = {}\n",
    "derivedTD_dict_1000 = {}\n",
    "\n",
    "for i in range(len(derivedTD_stim)):\n",
    "    derivedTD_dict_125[derivedTD_stim[i]] = [_derivedTD_125[i], _residuals_derivedTD_125[i]]\n",
    "    \n",
    "for i in range(len(derivedTD_stim)):\n",
    "    derivedTD_dict_250[derivedTD_stim[i]] = [_derivedTD_250[i], _residuals_derivedTD_250[i]]\n",
    "    \n",
    "for i in range(len(derivedTD_stim)):\n",
    "    derivedTD_dict_1000[derivedTD_stim[i]] = [_derivedTD_1000[i], _residuals_derivedTD_1000[i]]"
   ]
  },
  {
   "cell_type": "markdown",
   "metadata": {},
   "source": [
    "## Load Ground Plane Metrics: Pixel Sum"
   ]
  },
  {
   "cell_type": "code",
   "execution_count": 194,
   "metadata": {},
   "outputs": [],
   "source": [
    "path = '/Users/prachimahableshwarkar/Documents/GW/Depth_MTurk/SUN_scene_cue_coding/gp_metrics.json'\n",
    "# path = '/Users/pmahableshwarkar/Documents/Depth_Project/SUN_scene_cue_coding/gp_metrics.json'\n",
    "gp_metrics = json.load(open(path))\n",
    "# [percent_VGP_GP, percent_VGP_image, percent_GP_image]"
   ]
  },
  {
   "cell_type": "code",
   "execution_count": 195,
   "metadata": {},
   "outputs": [],
   "source": [
    "ordered_gp_metrics = []\n",
    "ordered_gp_metrics_folders = []\n",
    "c_none = 0\n",
    "for folder in stimfolder_250:\n",
    "    try:\n",
    "        ordered_gp_metrics.append(gp_metrics[folder])\n",
    "        ordered_gp_metrics_folders.append(folder)\n",
    "    except:\n",
    "        c_none += 1\n",
    "        ordered_gp_metrics.append(None)\n",
    "        ordered_gp_metrics_folders.append(None)"
   ]
  },
  {
   "cell_type": "code",
   "execution_count": 196,
   "metadata": {},
   "outputs": [
    {
     "data": {
      "text/plain": [
       "(156, 0)"
      ]
     },
     "execution_count": 196,
     "metadata": {},
     "output_type": "execute_result"
    }
   ],
   "source": [
    "len(ordered_gp_metrics), c_none"
   ]
  },
  {
   "cell_type": "code",
   "execution_count": null,
   "metadata": {},
   "outputs": [],
   "source": []
  },
  {
   "cell_type": "code",
   "execution_count": 197,
   "metadata": {},
   "outputs": [
    {
     "data": {
      "text/plain": [
       "156"
      ]
     },
     "execution_count": 197,
     "metadata": {},
     "output_type": "execute_result"
    }
   ],
   "source": [
    "actual_depth_values = []\n",
    "for i in range(len(stim_250)):\n",
    "    targetobj_num = stim_250[i].split('/')[1][-1]\n",
    "    folder = stimfolder_250[i]\n",
    "    p = '/Users/prachimahableshwarkar/Documents/GW/Depth_MTurk/depth_duration_stimuli/' + folder + \"_\" + targetobj_num\n",
    "#     p = '/Users/pmahableshwarkar/Documents/Depth_Project/final_stimuli/' + folder + '_' + targetobj_num\n",
    "    # JSON file\n",
    "    f = open (p + '/data.json', \"r\")\n",
    "    # Reading from file\n",
    "    data = json.loads(f.read())\n",
    "    depthval = data['objects'][0]['crossing_point'][0]['depth']\n",
    "    actual_depth_values.append(depthval)\n",
    "len(actual_depth_values)"
   ]
  },
  {
   "cell_type": "code",
   "execution_count": 198,
   "metadata": {},
   "outputs": [],
   "source": [
    "trunc_resid_125 = []\n",
    "trunc_resid_250 = []\n",
    "trunc_resid_1000 = []\n",
    "trunc_vgp_gp = []\n",
    "trunc_vgp = [] \n",
    "trunc_gp = []\n",
    "trunc_actual = []\n",
    "trunc_std_125 = []\n",
    "trunc_std_250 = []\n",
    "trunc_std_1000 = []\n",
    "\n",
    "for i in range(len(ordered_gp_metrics)):\n",
    "    metrics = ordered_gp_metrics[i]\n",
    "    if type(metrics) == list:\n",
    "        trunc_vgp_gp.append(metrics[0])\n",
    "        trunc_vgp.append(metrics[1])\n",
    "        trunc_gp.append(metrics[2])\n",
    "        \n",
    "        trunc_resid_125.append(residuals_125[i])\n",
    "        trunc_resid_250.append(residuals_250[i])\n",
    "        trunc_resid_1000.append(residuals_1000[i])\n",
    "        \n",
    "        trunc_actual.append(actual_depth_values[i])\n",
    "        \n",
    "        trunc_std_125.append(std_125[i])\n",
    "        trunc_std_250.append(std_250[i])\n",
    "        trunc_std_1000.append(std_1000[i])\n",
    "         \n"
   ]
  },
  {
   "cell_type": "code",
   "execution_count": 199,
   "metadata": {},
   "outputs": [
    {
     "data": {
      "text/plain": [
       "(156, 156, 156)"
      ]
     },
     "execution_count": 199,
     "metadata": {},
     "output_type": "execute_result"
    }
   ],
   "source": [
    "len(trunc_vgp_gp), len(trunc_resid_250), len(ordered_gp_metrics)"
   ]
  },
  {
   "cell_type": "code",
   "execution_count": 200,
   "metadata": {},
   "outputs": [],
   "source": [
    "# print(stats.pearsonr(trunc_resid_125, trunc_pitches))\n",
    "# print(stats.pearsonr(trunc_resid_250, trunc_pitches))\n",
    "# print(stats.pearsonr(trunc_resid_1000, trunc_pitches))"
   ]
  },
  {
   "cell_type": "code",
   "execution_count": 201,
   "metadata": {},
   "outputs": [],
   "source": [
    "# plt.hist(trunc_vgp_gp)"
   ]
  },
  {
   "cell_type": "code",
   "execution_count": null,
   "metadata": {},
   "outputs": [],
   "source": []
  },
  {
   "cell_type": "code",
   "execution_count": 202,
   "metadata": {},
   "outputs": [],
   "source": [
    "# discrimination derived verbal estimates variables\n",
    "dd_vgp_gp = []\n",
    "dd_vgp = []\n",
    "dd_gp = []\n",
    "\n",
    "dd_residuals_125 = []\n",
    "dd_residuals_250 = []\n",
    "dd_residuals_1000 = []\n",
    "\n",
    "dd_125 = []\n",
    "dd_250 = []\n",
    "dd_1000 = []\n",
    "\n",
    "for i in range(len(ordered_gp_metrics)):\n",
    "    metrics = ordered_gp_metrics[i]\n",
    "    if type(metrics) == list:\n",
    "        try:\n",
    "            stim_dd_125, stim_dd_resid_125 = derivedVE_dict_125[ordered_gp_metrics_folders[i]]\n",
    "            stim_dd_250, stim_dd_resid_250 = derivedVE_dict_250[ordered_gp_metrics_folders[i]]\n",
    "            stim_dd_1000, stim_dd_resid_1000 = derivedVE_dict_1000[ordered_gp_metrics_folders[i]]\n",
    "            \n",
    "            dd_125.append(stim_dd_125)\n",
    "            dd_residuals_125.append(stim_dd_resid_125)\n",
    "\n",
    "            dd_250.append(stim_dd_250)\n",
    "            dd_residuals_250.append(stim_dd_resid_250)\n",
    "\n",
    "            dd_1000.append(stim_dd_1000)\n",
    "            dd_residuals_1000.append(stim_dd_resid_1000)\n",
    "\n",
    "            dd_vgp_gp.append(metrics[0])\n",
    "            dd_vgp.append(metrics[1])\n",
    "            dd_gp.append(metrics[2])\n",
    "        \n",
    "\n",
    "        except:\n",
    "            pass\n"
   ]
  },
  {
   "cell_type": "code",
   "execution_count": 203,
   "metadata": {},
   "outputs": [
    {
     "data": {
      "text/plain": [
       "(152, 152)"
      ]
     },
     "execution_count": 203,
     "metadata": {},
     "output_type": "execute_result"
    }
   ],
   "source": [
    "len(dd_1000), len(dd_vgp)"
   ]
  },
  {
   "cell_type": "code",
   "execution_count": 204,
   "metadata": {},
   "outputs": [],
   "source": [
    "# discrimination derived target depth variables\n",
    "\n",
    "ddTD_vgp_gp = []\n",
    "ddTD_vgp = []\n",
    "ddTD_gp = []\n",
    "\n",
    "ddTD_residuals_125 = []\n",
    "ddTD_residuals_250 = []\n",
    "ddTD_residuals_1000 = []\n",
    "\n",
    "ddTD_125 = []\n",
    "ddTD_250 = []\n",
    "ddTD_1000 = []\n",
    "\n",
    "for i in range(len(ordered_gp_metrics)):\n",
    "    metrics = ordered_gp_metrics[i]\n",
    "    if type(metrics) == list:\n",
    "        stim_ddTD_125, stim_residTD_125 = derivedTD_dict_125[ordered_gp_metrics_folders[i]]\n",
    "        ddTD_125.append(stim_ddTD_125)\n",
    "        ddTD_residuals_125.append(stim_residTD_125)\n",
    "\n",
    "        stim_ddTD_250, stim_residTD_250 = derivedTD_dict_250[ordered_gp_metrics_folders[i]]\n",
    "        ddTD_250.append(stim_ddTD_250)\n",
    "        ddTD_residuals_250.append(stim_residTD_250)\n",
    "\n",
    "        stim_ddTD_1000, stim_residTD_1000 = derivedTD_dict_1000[ordered_gp_metrics_folders[i]]\n",
    "        ddTD_1000.append(stim_ddTD_1000)\n",
    "        ddTD_residuals_1000.append(stim_residTD_1000)\n",
    "\n",
    "        ddTD_vgp_gp.append(metrics[0])\n",
    "        ddTD_vgp.append(metrics[1])\n",
    "        ddTD_gp.append(metrics[2])\n",
    "            \n",
    "#         try:\n",
    "#             stim_ddTD_125, stim_residTD_125 = derivedTD_dict_125[ordered_gp_metrics_folders[i]]\n",
    "#             ddTD_125.append(stim_ddTD_125)\n",
    "#             ddTD_residuals_125.append(stim_residTD_125)\n",
    "\n",
    "#             stim_ddTD_250, stim_residTD_250 = derivedTD_dict_250[ordered_gp_metrics_folders[i]]\n",
    "#             ddTD_250.append(stim_ddTD_250)\n",
    "#             ddTD_residuals_250.append(stim_residTD_250)\n",
    "\n",
    "#             stim_ddTD_1000, stim_residTD_1000 = derivedTD_dict_1000[ordered_gp_metrics_folders[i]]\n",
    "#             ddTD_1000.append(stim_ddTD_1000)\n",
    "#             ddTD_residuals_1000.append(stim_residTD_1000)\n",
    "\n",
    "#             ddTD_vgp_gp.append(metrics[0])\n",
    "#             ddTD_vgp.append(metrics[1])\n",
    "#             ddTD_gp.append(metrics[2])\n",
    "\n",
    "#         except:\n",
    "#             pass\n"
   ]
  },
  {
   "cell_type": "code",
   "execution_count": 205,
   "metadata": {},
   "outputs": [
    {
     "data": {
      "text/plain": [
       "(156, 156)"
      ]
     },
     "execution_count": 205,
     "metadata": {},
     "output_type": "execute_result"
    }
   ],
   "source": [
    "len(ddTD_125), len(ddTD_vgp)"
   ]
  },
  {
   "cell_type": "code",
   "execution_count": 206,
   "metadata": {},
   "outputs": [
    {
     "name": "stdout",
     "output_type": "stream",
     "text": [
      "Correlation between Discrimination Derived Verbal Estimates and VGP/GP\n",
      "125 ms:  (-0.09905440173336111, 0.22469736262734133)\n",
      "250 ms:  (0.056920850423439986, 0.48609113976829077)\n",
      "1000 ms:  (-0.017004321817383445, 0.835285348641447)\n"
     ]
    }
   ],
   "source": [
    "print(\"Correlation between Discrimination Derived Verbal Estimates and VGP/GP\")\n",
    "print('125 ms: ',stats.pearsonr(dd_125, dd_vgp_gp))\n",
    "print('250 ms: ',stats.pearsonr(dd_250, dd_vgp_gp))\n",
    "print('1000 ms: ',stats.pearsonr(dd_1000, dd_vgp_gp))\n"
   ]
  },
  {
   "cell_type": "code",
   "execution_count": 207,
   "metadata": {},
   "outputs": [
    {
     "name": "stdout",
     "output_type": "stream",
     "text": [
      "Correlation between Discrimination Derived Verbal Estimates and VGP\n",
      "125 ms:  (0.02099270851468486, 0.7974047582961941)\n",
      "250 ms:  (0.12096374903757132, 0.1376797800662004)\n",
      "1000 ms:  (0.013949430923838425, 0.8645628793621422)\n"
     ]
    }
   ],
   "source": [
    "print(\"Correlation between Discrimination Derived Verbal Estimates and VGP\")\n",
    "print('125 ms: ',stats.pearsonr(dd_125, dd_vgp))\n",
    "print('250 ms: ',stats.pearsonr(dd_250, dd_vgp))\n",
    "print('1000 ms: ',stats.pearsonr(dd_1000, dd_vgp))\n"
   ]
  },
  {
   "cell_type": "code",
   "execution_count": 208,
   "metadata": {},
   "outputs": [
    {
     "name": "stdout",
     "output_type": "stream",
     "text": [
      "Correlation between Discrimination Derived Verbal Estimates and GP\n",
      "125 ms:  (0.07667157040598359, 0.3478076105617776)\n",
      "250 ms:  (0.019349135147536334, 0.8129631865599586)\n",
      "1000 ms:  (0.008797962175322804, 0.9143326412418443)\n"
     ]
    }
   ],
   "source": [
    "print(\"Correlation between Discrimination Derived Verbal Estimates and GP\")\n",
    "print('125 ms: ',stats.pearsonr(dd_125, dd_gp))\n",
    "print('250 ms: ',stats.pearsonr(dd_250, dd_gp))\n",
    "print('1000 ms: ',stats.pearsonr(dd_1000, dd_gp))"
   ]
  },
  {
   "cell_type": "code",
   "execution_count": 209,
   "metadata": {},
   "outputs": [
    {
     "name": "stdout",
     "output_type": "stream",
     "text": [
      "Correlation between Discrimination Derived Verbal Estimates Linear Model Residuals and VGP/GP\n",
      "125 ms:  (-0.04910762717814735, 0.5479703676007115)\n",
      "250 ms:  (0.14155335776627112, 0.0819379190804502)\n",
      "1000 ms:  (0.06875601582162488, 0.3999670130938618)\n"
     ]
    }
   ],
   "source": [
    "print(\"Correlation between Discrimination Derived Verbal Estimates Linear Model Residuals and VGP/GP\")\n",
    "print('125 ms: ',stats.pearsonr(dd_residuals_125, dd_vgp_gp))\n",
    "print('250 ms: ',stats.pearsonr(dd_residuals_250, dd_vgp_gp))\n",
    "print('1000 ms: ',stats.pearsonr(dd_residuals_1000, dd_vgp_gp))\n"
   ]
  },
  {
   "cell_type": "code",
   "execution_count": 210,
   "metadata": {},
   "outputs": [
    {
     "name": "stdout",
     "output_type": "stream",
     "text": [
      "125 ms:  (-0.015529877085814414, 0.8493905532743488)\n",
      "250 ms:  (0.10297748347717708, 0.20677957097851332)\n",
      "1000 ms:  (-0.03671863691738539, 0.6533506767348262)\n"
     ]
    }
   ],
   "source": [
    "\"Correlation between Discrimination Derived Verbal Estimates Linear Model Residuals and VGP\"\n",
    "print('125 ms: ',stats.pearsonr(dd_residuals_125, dd_vgp))\n",
    "print('250 ms: ',stats.pearsonr(dd_residuals_250, dd_vgp))\n",
    "print('1000 ms: ',stats.pearsonr(dd_residuals_1000, dd_vgp))\n"
   ]
  },
  {
   "cell_type": "code",
   "execution_count": 211,
   "metadata": {},
   "outputs": [
    {
     "name": "stdout",
     "output_type": "stream",
     "text": [
      "125 ms:  (-0.061157186059493315, 0.4541747852693216)\n",
      "250 ms:  (-0.14117047644265324, 0.0827766210293775)\n",
      "1000 ms:  (-0.1946246117341116, 0.01627418427342178)\n"
     ]
    }
   ],
   "source": [
    "\"Correlation between Discrimination Derived Verbal Estimates Linear Model Residuals and GP\"\n",
    "print('125 ms: ',stats.pearsonr(dd_residuals_125, dd_gp))\n",
    "print('250 ms: ',stats.pearsonr(dd_residuals_250, dd_gp))\n",
    "print('1000 ms: ',stats.pearsonr(dd_residuals_1000, dd_gp))\n"
   ]
  },
  {
   "cell_type": "code",
   "execution_count": 212,
   "metadata": {},
   "outputs": [
    {
     "data": {
      "image/png": "[encoded data removed]",
      "text/plain": [
       "<Figure size 432x288 with 1 Axes>"
      ]
     },
     "metadata": {
      "needs_background": "light"
     },
     "output_type": "display_data"
    }
   ],
   "source": [
    "plt.plot(dd_gp, dd_residuals_125, 'o')\n",
    "plt.show();"
   ]
  },
  {
   "cell_type": "code",
   "execution_count": 213,
   "metadata": {},
   "outputs": [
    {
     "name": "stdout",
     "output_type": "stream",
     "text": [
      "Correlation between Average Discrimination Derived Verbal Estimates Linear Model Residuals and GP\n",
      "GP:  (-0.16661384113109734, 0.040212514009119564)\n",
      "VGP:  (0.022998153706148113, 0.778528728185084)\n",
      "VGP/GP:  (0.05695854087890541, 0.4858019858252776)\n"
     ]
    }
   ],
   "source": [
    "print(\"Correlation between Average Discrimination Derived Verbal Estimates Linear Model Residuals and GP\")\n",
    "\n",
    "print('GP: ',stats.pearsonr(np.mean([dd_residuals_125, dd_residuals_250, dd_residuals_1000], axis=0), dd_gp))\n",
    "print('VGP: ',stats.pearsonr(np.mean([dd_residuals_125, dd_residuals_250, dd_residuals_1000], axis=0), dd_vgp))\n",
    "print('VGP/GP: ',stats.pearsonr(np.mean([dd_residuals_125, dd_residuals_250, dd_residuals_1000], axis=0), dd_vgp_gp))\n",
    "\n"
   ]
  },
  {
   "cell_type": "code",
   "execution_count": 214,
   "metadata": {},
   "outputs": [
    {
     "name": "stdout",
     "output_type": "stream",
     "text": [
      "Correlation between All Discrimination Derived Verbal Estimates Linear Model Residuals and GP\n",
      "GP  (-0.1175453359265432, 0.01200811999900642)\n",
      "VGP  (0.016225096815050244, 0.7296846547731117)\n",
      "VGP/GP  (0.04018400137734452, 0.39195017607697025)\n"
     ]
    }
   ],
   "source": [
    "print(\"Correlation between All Discrimination Derived Verbal Estimates Linear Model Residuals and GP\")\n",
    "\n",
    "print('GP ',stats.pearsonr(dd_residuals_125+dd_residuals_250+dd_residuals_1000, dd_gp*3))\n",
    "print('VGP ',stats.pearsonr(dd_residuals_125+dd_residuals_250+dd_residuals_1000, dd_vgp*3))\n",
    "print('VGP/GP ',stats.pearsonr(dd_residuals_125+dd_residuals_250+dd_residuals_1000, dd_vgp_gp*3))\n",
    "\n"
   ]
  },
  {
   "cell_type": "code",
   "execution_count": 215,
   "metadata": {},
   "outputs": [
    {
     "name": "stdout",
     "output_type": "stream",
     "text": [
      "Correlation between Abs All Discrimination Derived Verbal Estimates Linear Model Residuals and GP*3 Metrics\n",
      "GP  (-0.09324046466832961, 0.04659716575836634)\n",
      "VGP  (-0.011430831600634826, 0.8076693990285713)\n",
      "VGP/GP  (0.09233232137974401, 0.04878359543444316)\n"
     ]
    }
   ],
   "source": [
    "print('Correlation between Abs All Discrimination Derived Verbal Estimates Linear Model Residuals and GP*3 Metrics')\n",
    "\n",
    "print('GP ',stats.pearsonr(np.abs(np.array(dd_residuals_125+dd_residuals_250+dd_residuals_1000)), dd_gp*3))\n",
    "print('VGP ',stats.pearsonr(np.abs(np.array(dd_residuals_125+dd_residuals_250+dd_residuals_1000)), dd_vgp*3))\n",
    "print('VGP/GP ',stats.pearsonr(np.abs(np.array(dd_residuals_125+dd_residuals_250+dd_residuals_1000)), dd_vgp_gp*3))\n"
   ]
  },
  {
   "cell_type": "code",
   "execution_count": 216,
   "metadata": {},
   "outputs": [
    {
     "name": "stdout",
     "output_type": "stream",
     "text": [
      "Correlation between Avg Abs Discrimination Derived Verbal Estimates Linear Model Residuals and GP Metrics\n",
      "GP  (-0.12484016542917674, 0.125416645655988)\n",
      "VGP  (-0.01530480262075554, 0.8515480397786865)\n",
      "VGP/GP  (0.12362424743923851, 0.12916897357582477)\n"
     ]
    }
   ],
   "source": [
    "print('Correlation between Avg Abs Discrimination Derived Verbal Estimates Linear Model Residuals and GP Metrics')\n",
    "\n",
    "print('GP ',stats.pearsonr(np.mean([np.abs(np.array(dd_residuals_125)), np.abs(np.array(dd_residuals_250)), np.abs(np.array(dd_residuals_1000))], axis=0), dd_gp))\n",
    "print('VGP ',stats.pearsonr(np.mean([np.abs(np.array(dd_residuals_125)), np.abs(np.array(dd_residuals_250)), np.abs(np.array(dd_residuals_1000))], axis=0), dd_vgp))\n",
    "print('VGP/GP ',stats.pearsonr(np.mean([np.abs(np.array(dd_residuals_125)), np.abs(np.array(dd_residuals_250)), np.abs(np.array(dd_residuals_1000))], axis=0), dd_vgp_gp))\n",
    "\n",
    "# MORE VISIBLE GP, CLOSER TO LINEAR MODEDL"
   ]
  },
  {
   "cell_type": "markdown",
   "metadata": {},
   "source": [
    "## Discrimination Derived Target Depths"
   ]
  },
  {
   "cell_type": "code",
   "execution_count": 217,
   "metadata": {},
   "outputs": [
    {
     "name": "stdout",
     "output_type": "stream",
     "text": [
      "Correlation between Discrimination Derived Target Depths and VGP/GP\n",
      "125 ms:  (0.007228561122906693, 0.92863707012222)\n",
      "250 ms:  (0.01150186836012744, 0.8866790558100873)\n",
      "1000 ms:  (0.009986639594745939, 0.90152667978339)\n"
     ]
    }
   ],
   "source": [
    "print(\"Correlation between Discrimination Derived Target Depths and VGP/GP\")\n",
    "print('125 ms: ',stats.pearsonr(ddTD_125, ddTD_vgp_gp))\n",
    "print('250 ms: ',stats.pearsonr(ddTD_250, ddTD_vgp_gp))\n",
    "print('1000 ms: ',stats.pearsonr(ddTD_1000, ddTD_vgp_gp))\n"
   ]
  },
  {
   "cell_type": "code",
   "execution_count": 218,
   "metadata": {},
   "outputs": [
    {
     "name": "stdout",
     "output_type": "stream",
     "text": [
      "Correlation between Discrimination Derived Target Depths and VGP\n",
      "125 ms:  (0.07986505515082296, 0.32164854677843585)\n",
      "250 ms:  (0.08616514794141147, 0.2848275349647912)\n",
      "1000 ms:  (0.08537649690589529, 0.2892755582699377)\n"
     ]
    }
   ],
   "source": [
    "print(\"Correlation between Discrimination Derived Target Depths and VGP\")\n",
    "print('125 ms: ',stats.pearsonr(ddTD_125, ddTD_vgp))\n",
    "print('250 ms: ',stats.pearsonr(ddTD_250, ddTD_vgp))\n",
    "print('1000 ms: ',stats.pearsonr(ddTD_1000, ddTD_vgp))\n"
   ]
  },
  {
   "cell_type": "code",
   "execution_count": 219,
   "metadata": {},
   "outputs": [
    {
     "name": "stdout",
     "output_type": "stream",
     "text": [
      "Correlation between Discrimination Derived Target Depths and GP\n",
      "125 ms:  (0.12299635455305458, 0.1260952125661137)\n",
      "250 ms:  (0.12613744209109615, 0.1166341307553005)\n",
      "1000 ms:  (0.12547347996191388, 0.11858653572164973)\n"
     ]
    }
   ],
   "source": [
    "print(\"Correlation between Discrimination Derived Target Depths and GP\")\n",
    "print('125 ms: ',stats.pearsonr(ddTD_125, ddTD_gp))\n",
    "print('250 ms: ',stats.pearsonr(ddTD_250, ddTD_gp))\n",
    "print('1000 ms: ',stats.pearsonr(ddTD_1000, ddTD_gp))"
   ]
  },
  {
   "cell_type": "code",
   "execution_count": 220,
   "metadata": {},
   "outputs": [
    {
     "name": "stdout",
     "output_type": "stream",
     "text": [
      "Correlation between Discrimination Derived Target Depths Linear Model Residuals and VGP/GP\n",
      "125 ms:  (0.0721254261529207, 0.3709115227933711)\n",
      "250 ms:  (0.02966487724942421, 0.7131601354080673)\n",
      "1000 ms:  (0.02896893440096861, 0.7196046062708478)\n"
     ]
    }
   ],
   "source": [
    "print(\"Correlation between Discrimination Derived Target Depths Linear Model Residuals and VGP/GP\")\n",
    "print('125 ms: ',stats.pearsonr(ddTD_residuals_125, ddTD_vgp_gp))\n",
    "print('250 ms: ',stats.pearsonr(ddTD_residuals_250, ddTD_vgp_gp))\n",
    "print('1000 ms: ',stats.pearsonr(ddTD_residuals_1000, ddTD_vgp_gp))\n"
   ]
  },
  {
   "cell_type": "code",
   "execution_count": 221,
   "metadata": {},
   "outputs": [
    {
     "name": "stdout",
     "output_type": "stream",
     "text": [
      "125 ms:  (0.06417748442814057, 0.4260606237554256)\n",
      "250 ms:  (0.08569470213308045, 0.28747532347700505)\n",
      "1000 ms:  (0.08456856079134173, 0.29388014947427404)\n"
     ]
    }
   ],
   "source": [
    "\"Correlation between Discrimination Derived Target Depths Linear Model Residuals and VGP\"\n",
    "print('125 ms: ',stats.pearsonr(ddTD_residuals_125, ddTD_vgp))\n",
    "print('250 ms: ',stats.pearsonr(ddTD_residuals_250, ddTD_vgp))\n",
    "print('1000 ms: ',stats.pearsonr(ddTD_residuals_1000, ddTD_vgp))\n"
   ]
  },
  {
   "cell_type": "code",
   "execution_count": 222,
   "metadata": {},
   "outputs": [
    {
     "name": "stdout",
     "output_type": "stream",
     "text": [
      "125 ms:  (0.030495422703114755, 0.7054957212197278)\n",
      "250 ms:  (0.10637119475481355, 0.1862868412996942)\n",
      "1000 ms:  (0.10420484379249902, 0.1954658436907015)\n"
     ]
    }
   ],
   "source": [
    "\"Correlation between Discrimination Derived Target Depths Linear Model Residuals and GP\"\n",
    "print('125 ms: ',stats.pearsonr(ddTD_residuals_125, ddTD_gp))\n",
    "print('250 ms: ',stats.pearsonr(ddTD_residuals_250, ddTD_gp))\n",
    "print('1000 ms: ',stats.pearsonr(ddTD_residuals_1000, ddTD_gp))\n"
   ]
  },
  {
   "cell_type": "markdown",
   "metadata": {},
   "source": [
    "### VE Data"
   ]
  },
  {
   "cell_type": "code",
   "execution_count": 223,
   "metadata": {},
   "outputs": [
    {
     "name": "stdout",
     "output_type": "stream",
     "text": [
      "Correlation between Linear Model Residuals and VGP/GP\n",
      "125 ms:  (-0.018851492305610396, 0.8153093712821365)\n",
      "250 ms:  (-0.038339656844450135, 0.6346546337852923)\n",
      "1000 ms:  (-0.04314995515651741, 0.5927483793610012)\n"
     ]
    }
   ],
   "source": [
    "# corr, p-value\n",
    "print('Correlation between Linear Model Residuals and VGP/GP')\n",
    "print('125 ms: ',stats.pearsonr(trunc_resid_125, trunc_vgp_gp))\n",
    "print('250 ms: ',stats.pearsonr(trunc_resid_250, trunc_vgp_gp))\n",
    "print('1000 ms: ',stats.pearsonr(trunc_resid_1000, trunc_vgp_gp))"
   ]
  },
  {
   "cell_type": "code",
   "execution_count": 224,
   "metadata": {},
   "outputs": [
    {
     "name": "stdout",
     "output_type": "stream",
     "text": [
      "Correlation between Linear Model Residuals and VGP\n",
      "125 ms:  (-0.142439158117886, 0.07609421706556703)\n",
      "250 ms:  (-0.1551506724547551, 0.05311634501857526)\n",
      "1000 ms:  (-0.17102130143985556, 0.03279137526879198)\n"
     ]
    }
   ],
   "source": [
    "# corr, p-value\n",
    "print('Correlation between Linear Model Residuals and VGP')\n",
    "print('125 ms: ',stats.pearsonr(trunc_resid_125, trunc_vgp))\n",
    "print('250 ms: ',stats.pearsonr(trunc_resid_250, trunc_vgp))\n",
    "print('1000 ms: ',stats.pearsonr(trunc_resid_1000, trunc_vgp))"
   ]
  },
  {
   "cell_type": "code",
   "execution_count": 225,
   "metadata": {},
   "outputs": [
    {
     "name": "stdout",
     "output_type": "stream",
     "text": [
      "Correlation between Linear Model Residuals and GP\n",
      "125 ms:  (-0.28162815760000104, 0.0003685840930619894)\n",
      "250 ms:  (-0.25191444997177914, 0.0015116950605810213)\n",
      "1000 ms:  (-0.2705733352106526, 0.0006349445431813247)\n"
     ]
    }
   ],
   "source": [
    "# corr, p-value\n",
    "print('Correlation between Linear Model Residuals and GP')\n",
    "print('125 ms: ',stats.pearsonr(trunc_resid_125, trunc_gp))\n",
    "print('250 ms: ',stats.pearsonr(trunc_resid_250, trunc_gp))\n",
    "print('1000 ms: ',stats.pearsonr(trunc_resid_1000, trunc_gp))"
   ]
  },
  {
   "cell_type": "code",
   "execution_count": 226,
   "metadata": {},
   "outputs": [
    {
     "name": "stdout",
     "output_type": "stream",
     "text": [
      "Correlation between All Linear Model Residuals and GP*3\n",
      "GP  (-0.26825190582210934, 3.7228050410300447e-09)\n",
      "VGP  (-0.15602754745785227, 0.0007062740220375175)\n",
      "VGP/GP  (-0.033241928257037257, 0.4731223706240619)\n"
     ]
    }
   ],
   "source": [
    "print('Correlation between All Linear Model Residuals and GP*3')\n",
    "\n",
    "print('GP ',stats.pearsonr(trunc_resid_125+trunc_resid_250+trunc_resid_1000, trunc_gp*3))\n",
    "print('VGP ',stats.pearsonr(trunc_resid_125+trunc_resid_250+trunc_resid_1000, trunc_vgp*3))\n",
    "print('VGP/GP ',stats.pearsonr(trunc_resid_125+trunc_resid_250+trunc_resid_1000, trunc_vgp_gp*3))\n",
    "\n",
    "\n"
   ]
  },
  {
   "cell_type": "code",
   "execution_count": 227,
   "metadata": {},
   "outputs": [
    {
     "name": "stdout",
     "output_type": "stream",
     "text": [
      "Correlation between All Linear Model Residuals and GP*3\n",
      "GP  (-0.27419695499038876, 0.0005325919148314759)\n",
      "VGP  (-0.15948545929784536, 0.04673430594126817)\n",
      "VGP/GP  (-0.03397864212056356, 0.6736809276139053)\n"
     ]
    }
   ],
   "source": [
    "print('Correlation between All Linear Model Residuals and GP*3')\n",
    "\n",
    "print('GP ',stats.pearsonr(np.mean([trunc_resid_125, trunc_resid_250, trunc_resid_1000], axis=0), trunc_gp))\n",
    "print('VGP ',stats.pearsonr(np.mean([trunc_resid_125, trunc_resid_250, trunc_resid_1000], axis=0), trunc_vgp))\n",
    "print('VGP/GP ',stats.pearsonr(np.mean([trunc_resid_125, trunc_resid_250, trunc_resid_1000], axis=0), trunc_vgp_gp))\n",
    "\n"
   ]
  },
  {
   "cell_type": "markdown",
   "metadata": {},
   "source": [
    "#### Absolute value of residuals"
   ]
  },
  {
   "cell_type": "code",
   "execution_count": null,
   "metadata": {},
   "outputs": [],
   "source": []
  },
  {
   "cell_type": "code",
   "execution_count": 228,
   "metadata": {},
   "outputs": [
    {
     "name": "stdout",
     "output_type": "stream",
     "text": [
      "Correlation between Abs(Linear Model Residuals) and VGP/GP\n",
      "125 ms:  (-0.1394370097206603, 0.08255457280683859)\n",
      "250 ms:  (-0.12685510961293023, 0.11455201734680624)\n",
      "1000 ms:  (-0.15887261816622128, 0.04759580363364003)\n"
     ]
    }
   ],
   "source": [
    "# corr, p-value\n",
    "print('Correlation between Abs(Linear Model Residuals) and VGP/GP')\n",
    "print('125 ms: ',stats.pearsonr(np.abs(trunc_resid_125), trunc_vgp_gp))\n",
    "print('250 ms: ',stats.pearsonr(np.abs(trunc_resid_250), trunc_vgp_gp))\n",
    "print('1000 ms: ',stats.pearsonr(np.abs(trunc_resid_1000), trunc_vgp_gp))\n",
    "\n",
    "# interp: clutter (pixel space)"
   ]
  },
  {
   "cell_type": "code",
   "execution_count": 229,
   "metadata": {},
   "outputs": [
    {
     "name": "stdout",
     "output_type": "stream",
     "text": [
      "Correlation between Abs(Linear Model Residuals) and GP\n",
      "125 ms:  (0.014728663416638955, 0.8551971540272608)\n",
      "250 ms:  (-0.0109725979788272, 0.8918611354240551)\n",
      "1000 ms:  (-0.049273381847467504, 0.5413015454449904)\n"
     ]
    }
   ],
   "source": [
    "# corr, p-value\n",
    "print('Correlation between Abs(Linear Model Residuals) and GP')\n",
    "print('125 ms: ',stats.pearsonr(np.abs(trunc_resid_125), trunc_gp))\n",
    "print('250 ms: ',stats.pearsonr(np.abs(trunc_resid_250), trunc_gp))\n",
    "print('1000 ms: ',stats.pearsonr(np.abs(trunc_resid_1000), trunc_gp))"
   ]
  },
  {
   "cell_type": "code",
   "execution_count": 230,
   "metadata": {},
   "outputs": [
    {
     "name": "stdout",
     "output_type": "stream",
     "text": [
      "Correlation between Abs(Linear Model Residuals) and VGP\n",
      "125 ms:  (-0.096529736422611, 0.23062084129851274)\n",
      "250 ms:  (-0.11728327932068354, 0.14480645819985088)\n",
      "1000 ms:  (-0.16084173861407847, 0.04487385386579976)\n"
     ]
    }
   ],
   "source": [
    "# corr, p-value\n",
    "print('Correlation between Abs(Linear Model Residuals) and VGP')\n",
    "print('125 ms: ',stats.pearsonr(np.abs(trunc_resid_125), trunc_vgp))\n",
    "print('250 ms: ',stats.pearsonr(np.abs(trunc_resid_250), trunc_vgp))\n",
    "print('1000 ms: ',stats.pearsonr(np.abs(trunc_resid_1000), trunc_vgp))"
   ]
  },
  {
   "cell_type": "code",
   "execution_count": 231,
   "metadata": {},
   "outputs": [
    {
     "name": "stdout",
     "output_type": "stream",
     "text": [
      "Correlation between Abs All Linear Model Residuals and GP*3 Metrics\n",
      "GP  (-0.014303899773942835, 0.757603804310907)\n",
      "VGP  (-0.12393112518807498, 0.007269804235358075)\n",
      "VGP/GP  (-0.14151166449395985, 0.002150392684636978)\n"
     ]
    }
   ],
   "source": [
    "print('Correlation between Abs All Linear Model Residuals and GP*3 Metrics')\n",
    "\n",
    "print('GP ',stats.pearsonr(np.abs(np.array(trunc_resid_125+trunc_resid_250+trunc_resid_1000)), trunc_gp*3))\n",
    "print('VGP ',stats.pearsonr(np.abs(np.array(trunc_resid_125+trunc_resid_250+trunc_resid_1000)), trunc_vgp*3))\n",
    "print('VGP/GP ',stats.pearsonr(np.abs(np.array(trunc_resid_125+trunc_resid_250+trunc_resid_1000)), trunc_vgp_gp*3))\n"
   ]
  },
  {
   "cell_type": "code",
   "execution_count": 232,
   "metadata": {},
   "outputs": [
    {
     "name": "stdout",
     "output_type": "stream",
     "text": [
      "Correlation between Avg Abs Linear Model Residuals and GP Metrics\n",
      "GP  (-0.015191452077016027, 0.8506994613384758)\n",
      "VGP  (-0.13162101097597062, 0.10145131340524587)\n",
      "VGP/GP  (-0.15029241699630436, 0.06110899740887632)\n"
     ]
    }
   ],
   "source": [
    "print('Correlation between Avg Abs Linear Model Residuals and GP Metrics')\n",
    "\n",
    "print('GP ',stats.pearsonr(np.mean([np.abs(np.array(trunc_resid_125)), np.abs(np.array(trunc_resid_250)), np.abs(np.array(trunc_resid_1000))], axis=0), trunc_gp))\n",
    "print('VGP ',stats.pearsonr(np.mean([np.abs(np.array(trunc_resid_125)), np.abs(np.array(trunc_resid_250)), np.abs(np.array(trunc_resid_1000))], axis=0), trunc_vgp))\n",
    "print('VGP/GP ',stats.pearsonr(np.mean([np.abs(np.array(trunc_resid_125)), np.abs(np.array(trunc_resid_250)), np.abs(np.array(trunc_resid_1000))], axis=0), trunc_vgp_gp))\n",
    "\n",
    "# MORE VISIBLE GP, CLOSER TO LINEAR MODEDL"
   ]
  },
  {
   "cell_type": "code",
   "execution_count": 233,
   "metadata": {},
   "outputs": [
    {
     "name": "stdout",
     "output_type": "stream",
     "text": [
      "m: [-0.11214972]\n",
      "b: 0.3248270235611543\n",
      "R-squared:  0.0160922188349083\n"
     ]
    },
    {
     "data": {
      "text/plain": [
       "0.016"
      ]
     },
     "execution_count": 233,
     "metadata": {},
     "output_type": "execute_result"
    },
    {
     "data": {
      "image/png": "[encoded data removed]",
      "text/plain": [
       "<Figure size 504x504 with 1 Axes>"
      ]
     },
     "metadata": {
      "needs_background": "light"
     },
     "output_type": "display_data"
    }
   ],
   "source": [
    "\n",
    "fig, ax = plt.subplots(figsize=[7,7])\n",
    "ax.spines['right'].set_visible(False)\n",
    "ax.spines['top'].set_visible(False)\n",
    "for axis in ['bottom','left']:\n",
    "    ax.spines[axis].set_linewidth(2.3)\n",
    "\n",
    "plt.tight_layout()    \n",
    "\n",
    "    \n",
    "#run regression\n",
    "X = np.array(trunc_vgp_gp).reshape(-1,1)\n",
    "y = np.abs(trunc_resid_250)\n",
    "reg = LinearRegression().fit(X, y)\n",
    "\n",
    "#Generated Predictions\n",
    "y_predicted = reg.predict(X)\n",
    "#Plot Our Actual and Predicted Values\n",
    "plt.plot(X, y, 'o', color='black', alpha = 0.5);\n",
    "plt.plot(X,y_predicted,color='chocolate', label = 'm = ' + str(round(reg.coef_[0], 3))\n",
    "         + '     r-squared = ' + str(round(float(reg.score(X, y)), 3)))\n",
    "plt.title(\"250 ms\", fontsize = 20)\n",
    "plt.xlabel(\"VGP/GP\", fontsize = 15)\n",
    "plt.ylabel(\"Abs(Residuals)\", fontsize = 15)\n",
    "\n",
    "legend = plt.legend(loc = 0, fontsize = 13, borderpad = 0.6, labelspacing = 1)\n",
    "legend.get_frame().set_facecolor('lightgray')\n",
    "\n",
    "\n",
    "#get coefficients and y intercept\n",
    "print(\"m: {0}\".format(reg.coef_))\n",
    "print(\"b: {0}\".format(reg.intercept_))\n",
    "\n",
    "#Returns the coefficient of determination R^2 of the prediction.\n",
    "print(\"R-squared: \", reg.score(X, y))\n",
    "\n",
    "round(float(reg.score(X, y)), 3)"
   ]
  },
  {
   "cell_type": "markdown",
   "metadata": {},
   "source": [
    "#### Actual Depth"
   ]
  },
  {
   "cell_type": "code",
   "execution_count": 234,
   "metadata": {},
   "outputs": [
    {
     "name": "stdout",
     "output_type": "stream",
     "text": [
      "Correlation between Actual Depth and VGP/GP\n",
      "(-0.08712410753715585, 0.2794809959214527)\n",
      "Correlation between Actual Depth and VGP\n",
      "(0.04754284307903837, 0.5556146971691864)\n",
      "Correlation between Actual Depth and GP\n",
      "(0.16743673736446738, 0.03668635251276759)\n"
     ]
    }
   ],
   "source": [
    "print('Correlation between Actual Depth and VGP/GP')\n",
    "print(stats.pearsonr(trunc_actual, trunc_vgp_gp))\n",
    "print('Correlation between Actual Depth and VGP')\n",
    "print(stats.pearsonr(trunc_actual, trunc_vgp))\n",
    "print('Correlation between Actual Depth and GP')\n",
    "print(stats.pearsonr(trunc_actual, trunc_gp))"
   ]
  },
  {
   "cell_type": "code",
   "execution_count": 235,
   "metadata": {},
   "outputs": [
    {
     "name": "stdout",
     "output_type": "stream",
     "text": [
      "m: [-0.75970303]\n",
      "b: 0.3808584731749296\n",
      "R-squared:  0.07320992972701601\n"
     ]
    },
    {
     "data": {
      "text/plain": [
       "0.073"
      ]
     },
     "execution_count": 235,
     "metadata": {},
     "output_type": "execute_result"
    },
    {
     "data": {
      "image/png": "[encoded data removed]",
      "text/plain": [
       "<Figure size 504x504 with 1 Axes>"
      ]
     },
     "metadata": {
      "needs_background": "light"
     },
     "output_type": "display_data"
    }
   ],
   "source": [
    "fig, ax = plt.subplots(figsize=[7,7])\n",
    "ax.spines['right'].set_visible(False)\n",
    "ax.spines['top'].set_visible(False)\n",
    "for axis in ['bottom','left']:\n",
    "    ax.spines[axis].set_linewidth(2.3)\n",
    "\n",
    "plt.tight_layout()    \n",
    "\n",
    "#run regression\n",
    "X = np.array(trunc_gp).reshape(-1,1)\n",
    "y = trunc_resid_1000\n",
    "reg = LinearRegression().fit(X, y)\n",
    "\n",
    "#Generated Predictions\n",
    "y_predicted = reg.predict(X)\n",
    "#Plot Our Actual and Predicted Values\n",
    "plt.plot(X, y, '*', color='black', alpha = 0.5);\n",
    "plt.plot(X,y_predicted,color='darkviolet', label = 'm = ' + str(round(reg.coef_[0], 3))\n",
    "         + '     r-squared = ' + str(round(float(reg.score(X, y)), 3)))\n",
    "plt.title(\"1000 ms\", fontsize = 20)\n",
    "plt.xlabel(\"Inferred Complete Ground Plane\", fontsize = 15)\n",
    "plt.ylabel(\"Linear Model Residuals\", fontsize = 15)\n",
    "\n",
    "legend = plt.legend(loc = 0, fontsize = 13, borderpad = 0.6, labelspacing = 1)\n",
    "legend.get_frame().set_facecolor('lightgray')\n",
    "\n",
    "\n",
    "#get coefficients and y intercept\n",
    "print(\"m: {0}\".format(reg.coef_))\n",
    "print(\"b: {0}\".format(reg.intercept_))\n",
    "\n",
    "#Returns the coefficient of determination R^2 of the prediction.\n",
    "print(\"R-squared: \", reg.score(X, y))\n",
    "\n",
    "round(float(reg.score(X, y)), 3)"
   ]
  },
  {
   "cell_type": "code",
   "execution_count": 236,
   "metadata": {},
   "outputs": [
    {
     "name": "stdout",
     "output_type": "stream",
     "text": [
      "m: [-0.46923778]\n",
      "b: 0.10782670839994218\n",
      "R-squared:  0.024071731163162413\n"
     ]
    },
    {
     "data": {
      "text/plain": [
       "0.024"
      ]
     },
     "execution_count": 236,
     "metadata": {},
     "output_type": "execute_result"
    },
    {
     "data": {
      "image/png": "[encoded data removed]",
      "text/plain": [
       "<Figure size 504x504 with 1 Axes>"
      ]
     },
     "metadata": {
      "needs_background": "light"
     },
     "output_type": "display_data"
    }
   ],
   "source": [
    "fig, ax = plt.subplots(figsize=[7,7])\n",
    "ax.spines['right'].set_visible(False)\n",
    "ax.spines['top'].set_visible(False)\n",
    "for axis in ['bottom','left']:\n",
    "    ax.spines[axis].set_linewidth(2.3)\n",
    "\n",
    "plt.tight_layout()    \n",
    "#run regression\n",
    "X = np.array(trunc_vgp).reshape(-1,1)\n",
    "y = trunc_resid_250\n",
    "reg = LinearRegression().fit(X, y)\n",
    "\n",
    "#Generated Predictions\n",
    "y_predicted = reg.predict(X)\n",
    "#Plot Our Actual and Predicted Values\n",
    "plt.plot(X, y, 's', color='black', alpha = 0.5);\n",
    "plt.plot(X,y_predicted,color='chocolate', label = 'm = ' + str(round(reg.coef_[0], 3))\n",
    "         + '     r-squared = ' + str(round(float(reg.score(X, y)), 3)))\n",
    "plt.title(\"250 ms\", fontsize = 20)\n",
    "plt.xlabel(\"Percent Visible Ground Plane\", fontsize = 15)\n",
    "plt.ylabel(\"Linear Model Residuals\", fontsize = 15)\n",
    "\n",
    "legend = plt.legend(loc = 0, fontsize = 13, borderpad = 0.6, labelspacing = 1)\n",
    "legend.get_frame().set_facecolor('lightgray')\n",
    "\n",
    "\n",
    "#get coefficients and y intercept\n",
    "print(\"m: {0}\".format(reg.coef_))\n",
    "print(\"b: {0}\".format(reg.intercept_))\n",
    "\n",
    "#Returns the coefficient of determination R^2 of the prediction.\n",
    "print(\"R-squared: \", reg.score(X, y))\n",
    "\n",
    "round(float(reg.score(X, y)), 3)"
   ]
  },
  {
   "cell_type": "code",
   "execution_count": 237,
   "metadata": {
    "jupyter": {
     "source_hidden": true
    }
   },
   "outputs": [],
   "source": [
    "# fig, ax = plt.subplots(figsize=[7,7])\n",
    "# ax.spines['right'].set_visible(False)\n",
    "# ax.spines['top'].set_visible(False)\n",
    "# for axis in ['bottom','left']:\n",
    "#     ax.spines[axis].set_linewidth(2.3)\n",
    "\n",
    "# plt.tight_layout()    \n",
    "# #run regression\n",
    "# X = np.array(trunc_vgp_gp).reshape(-1,1)\n",
    "# y = trunc_resid_250\n",
    "# reg = LinearRegression().fit(X, y)\n",
    "\n",
    "# #Generated Predictions\n",
    "# y_predicted = reg.predict(X)\n",
    "# #Plot Our Actual and Predicted Values\n",
    "# plt.plot(X, y, 'v', color='black', alpha = 0.5);\n",
    "# plt.plot(X,y_predicted,color='chocolate', label = 'm = ' + str(round(reg.coef_[0], 3))\n",
    "#          + '     r-squared = ' + str(round(float(reg.score(X, y)), 3)))\n",
    "# plt.title(\"250 ms\", fontsize = 20)\n",
    "# plt.xlabel(\"VGP/GP\", fontsize = 15)\n",
    "# plt.ylabel(\"Linear Model Residuals\", fontsize = 15)\n",
    "\n",
    "# legend = plt.legend(loc = 0, fontsize = 13, borderpad = 0.6, labelspacing = 1)\n",
    "# legend.get_frame().set_facecolor('lightgray')\n",
    "\n",
    "\n",
    "# #get coefficients and y intercept\n",
    "# print(\"m: {0}\".format(reg.coef_))\n",
    "# print(\"b: {0}\".format(reg.intercept_))\n",
    "\n",
    "# #Returns the coefficient of determination R^2 of the prediction.\n",
    "# print(\"R-squared: \", reg.score(X, y))\n",
    "\n",
    "# round(float(reg.score(X, y)), 3)"
   ]
  },
  {
   "cell_type": "markdown",
   "metadata": {},
   "source": [
    "## Global Mean Depth"
   ]
  },
  {
   "cell_type": "code",
   "execution_count": 238,
   "metadata": {},
   "outputs": [],
   "source": [
    "kinect192_path = '/Users/prachimahableshwarkar/Documents/GW/SUNRGBD/updated/kinect2data_192'\n",
    "# kinect192_path = '/Users/pmahableshwarkar/Documents/Depth_Project/SUNRGBD/kinect2data_192'\n",
    "\n",
    "stimuli_path = '/Users/prachimahableshwarkar/Documents/GW/Depth_MTurk/depth_duration_stimuli'\n",
    "# stimuli_path = '/Users/pmahableshwarkar/Documents/Depth_Project/final_stimuli'"
   ]
  },
  {
   "cell_type": "code",
   "execution_count": 239,
   "metadata": {},
   "outputs": [],
   "source": [
    "globalMeanDepths = []\n",
    "for folder in stimfolder_250:\n",
    "    for file in os.listdir(kinect192_path + '/' + folder + '/depth_bfx'):\n",
    "        if 'png' in file:\n",
    "            dm = Image.open(kinect192_path + '/' + folder + '/depth_bfx/' + file)\n",
    "            dm.load()\n",
    "            depth_data = np.asarray(dm)/8000\n",
    "            globalMeanDepths.append(np.mean(depth_data))"
   ]
  },
  {
   "cell_type": "code",
   "execution_count": 240,
   "metadata": {},
   "outputs": [],
   "source": [
    "trunc_globalMeanDepths = []\n",
    "\n",
    "for i in range(len(ordered_gp_metrics)):\n",
    "    metrics = ordered_gp_metrics[i]\n",
    "    if type(metrics) == list:\n",
    "        trunc_globalMeanDepths.append(globalMeanDepths[i])\n"
   ]
  },
  {
   "cell_type": "code",
   "execution_count": 241,
   "metadata": {},
   "outputs": [
    {
     "name": "stdout",
     "output_type": "stream",
     "text": [
      "Correlation between Global Mean Depth and Complete Ground Plane\n",
      "(0.29999835041981887, 0.00014188365894478912)\n"
     ]
    }
   ],
   "source": [
    "print('Correlation between Global Mean Depth and Complete Ground Plane')\n",
    "print(stats.pearsonr(trunc_globalMeanDepths, trunc_gp))"
   ]
  },
  {
   "cell_type": "code",
   "execution_count": 242,
   "metadata": {},
   "outputs": [
    {
     "name": "stdout",
     "output_type": "stream",
     "text": [
      "m: [0.08390167]\n",
      "b: 0.2844751501870868\n",
      "R-squared:  0.08999901025461221\n"
     ]
    },
    {
     "data": {
      "text/plain": [
       "0.09"
      ]
     },
     "execution_count": 242,
     "metadata": {},
     "output_type": "execute_result"
    },
    {
     "data": {
      "image/png": "[encoded data removed]",
      "text/plain": [
       "<Figure size 576x576 with 1 Axes>"
      ]
     },
     "metadata": {
      "needs_background": "light"
     },
     "output_type": "display_data"
    }
   ],
   "source": [
    "plt.figure(figsize = [8,8])\n",
    "#run regression\n",
    "X = np.array(trunc_globalMeanDepths).reshape(-1,1)\n",
    "y = trunc_gp\n",
    "reg = LinearRegression().fit(X, y)\n",
    "\n",
    "#Generated Predictions\n",
    "y_predicted = reg.predict(X)\n",
    "#Plot Our Actual and Predicted Values\n",
    "plt.plot(X, y, 'o', color='darkgreen', alpha = 0.5);\n",
    "plt.plot(X,y_predicted,color='darkgreen', label = 'm = ' + str(round(reg.coef_[0], 3))\n",
    "         + '     r-squared = ' + str(round(float(reg.score(X, y)), 3)))\n",
    "plt.title(\"Complete Ground Plane x Global Mean Depth\", fontsize = 20)\n",
    "plt.xlabel(\"Global Mean Depth (m)\", fontsize = 15)\n",
    "plt.ylabel(\"Complete Ground Plane (pixels)\", fontsize = 15)\n",
    "\n",
    "legend = plt.legend(loc = 0, fontsize = 13, borderpad = 0.6, labelspacing = 1)\n",
    "legend.get_frame().set_facecolor('lightgray')\n",
    "\n",
    "\n",
    "#get coefficients and y intercept\n",
    "print(\"m: {0}\".format(reg.coef_))\n",
    "print(\"b: {0}\".format(reg.intercept_))\n",
    "\n",
    "#Returns the coefficient of determination R^2 of the prediction.\n",
    "print(\"R-squared: \", reg.score(X, y))\n",
    "\n",
    "round(float(reg.score(X, y)), 3)"
   ]
  },
  {
   "cell_type": "markdown",
   "metadata": {},
   "source": [
    "### Navigation Clutter: Pixel Sum Method; GP - VGP"
   ]
  },
  {
   "cell_type": "code",
   "execution_count": 243,
   "metadata": {},
   "outputs": [],
   "source": [
    "clutter_pixel = (np.array(trunc_gp) - np.array(trunc_vgp))"
   ]
  },
  {
   "cell_type": "code",
   "execution_count": 244,
   "metadata": {},
   "outputs": [
    {
     "name": "stdout",
     "output_type": "stream",
     "text": [
      "Correlation between Linear Model Residuals and Clutter (pixel sum)\n",
      "125 ms:  (-0.13825230709000721, 0.08522209219107343)\n",
      "250 ms:  (-0.10107378343874823, 0.20930603240271514)\n",
      "1000 ms:  (-0.10499389295077707, 0.19208529796673582)\n"
     ]
    }
   ],
   "source": [
    "# corr, p-value\n",
    "print('Correlation between Linear Model Residuals and Clutter (pixel sum)')\n",
    "print('125 ms: ',stats.pearsonr(trunc_resid_125, clutter_pixel))\n",
    "print('250 ms: ',stats.pearsonr(trunc_resid_250, clutter_pixel))\n",
    "print('1000 ms: ',stats.pearsonr(trunc_resid_1000, clutter_pixel))"
   ]
  },
  {
   "cell_type": "markdown",
   "metadata": {},
   "source": [
    "## Load Ground Plane Metrics: Pixel SA"
   ]
  },
  {
   "cell_type": "code",
   "execution_count": 245,
   "metadata": {},
   "outputs": [],
   "source": [
    "# path = '/Users/pmahableshwarkar/Documents/Depth_Project/SUN_scene_cue_coding/VGP_size_dict.json'\n",
    "path = '/Users/prachimahableshwarkar/Documents/GW/Depth_MTurk/SUN_scene_cue_coding/VGP_size_dict.json'\n",
    "vgp_size_dict = json.load(open(path))\n"
   ]
  },
  {
   "cell_type": "code",
   "execution_count": 246,
   "metadata": {},
   "outputs": [],
   "source": [
    "# path = '/Users/pmahableshwarkar/Documents/Depth_Project/SUN_scene_cue_coding/GP_size_dict.json'\n",
    "path = '/Users/prachimahableshwarkar/Documents/GW/Depth_MTurk/SUN_scene_cue_coding/GP_size_dict.json'\n",
    "gp_size_dict = json.load(open(path))"
   ]
  },
  {
   "cell_type": "code",
   "execution_count": 247,
   "metadata": {},
   "outputs": [
    {
     "name": "stdout",
     "output_type": "stream",
     "text": [
      "(0.6305436407876517, 4.100796404472425e-18)\n"
     ]
    }
   ],
   "source": [
    "VGPS = []\n",
    "GPS = []\n",
    "for key in vgp_size_dict:\n",
    "    try:\n",
    "        gp = gp_size_dict[key]\n",
    "        VGPS.append(vgp_size_dict[key])\n",
    "        GPS.append(gp)\n",
    "    except:\n",
    "        pass\n",
    "\n",
    "print(stats.pearsonr(VGPS, GPS))"
   ]
  },
  {
   "cell_type": "code",
   "execution_count": null,
   "metadata": {},
   "outputs": [],
   "source": []
  },
  {
   "cell_type": "code",
   "execution_count": 248,
   "metadata": {},
   "outputs": [
    {
     "name": "stdout",
     "output_type": "stream",
     "text": [
      "002118_2014-06-25_20-32-08_260595134347_rgbf000078-resize excluded\n",
      "002657_2014-06-13_15-29-54_094959634447_rgbf000150-resize excluded\n"
     ]
    }
   ],
   "source": [
    "# Find GP or VGP Outliers \n",
    "\n",
    "gpsize_list = [[key, gp_size_dict[key]] for key in gp_size_dict]\n",
    "gpsize_mean = np.mean(np.array([elem[1] for elem in gpsize_list]))\n",
    "gpsize_std = np.std(np.array([elem[1] for elem in gpsize_list]))\n",
    "\n",
    "gpsize_outlierRange = [gpsize_mean - (3*gpsize_std), gpsize_mean + (3*gpsize_std)]\n",
    "\n",
    "cleaned_gpsize_dict = {}\n",
    "for key in gp_size_dict:\n",
    "    if gpsize_outlierRange[0] < gp_size_dict[key] < gpsize_outlierRange[1]:\n",
    "        cleaned_gpsize_dict[key] = gp_size_dict[key]\n",
    "    else:\n",
    "        print(key, 'excluded')"
   ]
  },
  {
   "cell_type": "code",
   "execution_count": 249,
   "metadata": {},
   "outputs": [
    {
     "name": "stdout",
     "output_type": "stream",
     "text": [
      "002568_2014-06-24_13-59-21_094959634447_rgbf000062-resize excluded\n",
      "002600_2014-06-24_14-27-04_094959634447_rgbf000074-resize excluded\n",
      "002118_2014-06-25_20-32-08_260595134347_rgbf000078-resize excluded\n",
      "002570_2014-06-24_13-59-54_094959634447_rgbf000059-resize excluded\n"
     ]
    }
   ],
   "source": [
    "# Find GP or VGP Outliers \n",
    "\n",
    "vgpsize_list = [[key, vgp_size_dict[key]] for key in vgp_size_dict]\n",
    "vgpsize_mean = np.mean(np.array([elem[1] for elem in vgpsize_list]))\n",
    "vgpsize_std = np.std(np.array([elem[1] for elem in vgpsize_list]))\n",
    "\n",
    "vgpsize_outlierRange = [vgpsize_mean - (3*vgpsize_std), vgpsize_mean + (3*vgpsize_std)]\n",
    "\n",
    "cleaned_vgpsize_dict = {}\n",
    "for key in vgp_size_dict:\n",
    "    if vgpsize_outlierRange[0] < vgp_size_dict[key] < vgpsize_outlierRange[1]:\n",
    "        cleaned_vgpsize_dict[key] = vgp_size_dict[key]\n",
    "    else:\n",
    "        print(key, 'excluded')"
   ]
  },
  {
   "cell_type": "code",
   "execution_count": 250,
   "metadata": {},
   "outputs": [],
   "source": [
    "ordered_gp_size = []\n",
    "ordered_vgp_size = []\n",
    "\n",
    "gp_none = 0\n",
    "vgp_none = 0\n",
    "for folder in stimfolder_250:\n",
    "    try:\n",
    "        ordered_gp_size.append(cleaned_gpsize_dict[folder])\n",
    "    except:\n",
    "        gp_none += 1\n",
    "        ordered_gp_size.append(None)\n",
    "    try:\n",
    "        ordered_vgp_size.append(cleaned_vgpsize_dict[folder])\n",
    "    except:\n",
    "        vgp_none += 1\n",
    "        ordered_vgp_size.append(None)"
   ]
  },
  {
   "cell_type": "code",
   "execution_count": 251,
   "metadata": {},
   "outputs": [
    {
     "data": {
      "text/plain": [
       "(156, 7)"
      ]
     },
     "execution_count": 251,
     "metadata": {},
     "output_type": "execute_result"
    }
   ],
   "source": [
    "len(ordered_gp_size), gp_none"
   ]
  },
  {
   "cell_type": "code",
   "execution_count": 252,
   "metadata": {},
   "outputs": [
    {
     "data": {
      "text/plain": [
       "(156, 9)"
      ]
     },
     "execution_count": 252,
     "metadata": {},
     "output_type": "execute_result"
    }
   ],
   "source": [
    "len(ordered_vgp_size), vgp_none"
   ]
  },
  {
   "cell_type": "code",
   "execution_count": 253,
   "metadata": {},
   "outputs": [
    {
     "data": {
      "text/plain": [
       "156"
      ]
     },
     "execution_count": 253,
     "metadata": {},
     "output_type": "execute_result"
    }
   ],
   "source": [
    "actual_depth_values = []\n",
    "folders = []\n",
    "for i in range(len(stim_250)):\n",
    "    targetobj_num = stim_250[i].split('/')[1][-1]\n",
    "    folder = stimfolder_250[i]\n",
    "    p = '/Users/prachimahableshwarkar/Documents/GW/Depth_MTurk/depth_duration_stimuli/' + folder + \"_\" + targetobj_num\n",
    "#     p = '/Users/pmahableshwarkar/Documents/Depth_Project/final_stimuli/' + folder + '_' + targetobj_num\n",
    "    # JSON file\n",
    "    f = open (p + '/data.json', \"r\")\n",
    "    # Reading from file\n",
    "    data = json.loads(f.read())\n",
    "    depthval = data['objects'][0]['crossing_point'][0]['depth']\n",
    "    actual_depth_values.append(depthval)\n",
    "    folders.append(folder)\n",
    "len(actual_depth_values)"
   ]
  },
  {
   "cell_type": "code",
   "execution_count": 254,
   "metadata": {},
   "outputs": [],
   "source": [
    "# derivedVE_dict_125"
   ]
  },
  {
   "cell_type": "code",
   "execution_count": 255,
   "metadata": {},
   "outputs": [],
   "source": [
    "trunc_resid_125 = []\n",
    "trunc_resid_250 = []\n",
    "trunc_resid_1000 = []\n",
    "\n",
    "trunc_vgpSize_gpSize = []\n",
    "trunc_vgpSize = []\n",
    "trunc_gpSize = []\n",
    "trunc_actual = []\n",
    "\n",
    "trunc_std_125 = []\n",
    "trunc_std_250 = []\n",
    "trunc_std_1000 = []\n",
    "\n",
    "for i in range(len(actual_depth_values)):\n",
    "    if type(ordered_gp_size[i]) == float: \n",
    "        try:\n",
    "            trunc_vgpSize_gpSize.append(ordered_vgp_size[i]/ordered_gp_size[i])\n",
    "            trunc_vgpSize.append(ordered_vgp_size[i])\n",
    "            trunc_gpSize.append(ordered_gp_size[i])\n",
    "\n",
    "            trunc_resid_125.append(residuals_125[i])        \n",
    "            trunc_resid_250.append(residuals_250[i])\n",
    "            trunc_resid_1000.append(residuals_1000[i])\n",
    "\n",
    "            trunc_actual.append(actual_depth_values[i])\n",
    "\n",
    "            trunc_std_125.append(std_125[i])\n",
    "            trunc_std_250.append(std_250[i])\n",
    "            trunc_std_1000.append(std_1000[i])\n",
    "\n",
    "        except: \n",
    "            pass\n",
    "\n"
   ]
  },
  {
   "cell_type": "code",
   "execution_count": 256,
   "metadata": {},
   "outputs": [],
   "source": [
    "ddresid125_trunc_vgpSize = []\n",
    "ddresid125_trunc_gpSize = []\n",
    "ddresid125_trunc_actual = []\n",
    "\n",
    "trunc_derivedVE_125 = []\n",
    "\n",
    "trunc_residuals_derivedVE_125 = []\n",
    "\n",
    "for i in range(len(actual_depth_values)):\n",
    "    if type(ordered_gp_size[i]) == float: \n",
    "        if folders[i] in derivedVE_dict_125.keys():\n",
    "            \n",
    "            try:\n",
    "                if ordered_vgp_size[i] != None:\n",
    "                    \n",
    "                    trunc_residuals_derivedVE_125.append(derivedVE_dict_125[folders[i]][1])\n",
    "\n",
    "\n",
    "                    trunc_derivedVE_125.append(derivedVE_dict_125[folders[i]][0])\n",
    "\n",
    "                    ddresid125_trunc_vgpSize.append(ordered_vgp_size[i])\n",
    "                    ddresid125_trunc_gpSize.append(ordered_gp_size[i])\n",
    "\n",
    "                    ddresid125_trunc_actual.append(actual_depth_values[i])\n",
    "\n",
    "\n",
    "            except: \n",
    "                pass\n"
   ]
  },
  {
   "cell_type": "code",
   "execution_count": 257,
   "metadata": {},
   "outputs": [
    {
     "data": {
      "text/plain": [
       "(144, 144, 144)"
      ]
     },
     "execution_count": 257,
     "metadata": {},
     "output_type": "execute_result"
    }
   ],
   "source": [
    "len(trunc_residuals_derivedVE_125), len(ddresid125_trunc_vgpSize), len(trunc_derivedVE_125)"
   ]
  },
  {
   "cell_type": "code",
   "execution_count": 258,
   "metadata": {},
   "outputs": [],
   "source": [
    "# trunc_residuals_derivedVE_125"
   ]
  },
  {
   "cell_type": "code",
   "execution_count": 259,
   "metadata": {},
   "outputs": [],
   "source": [
    "ddresid250_trunc_vgpSize = []\n",
    "ddresid250_trunc_gpSize = []\n",
    "ddresid250_trunc_actual = []\n",
    "\n",
    "trunc_residuals_derivedVE_250 = []\n",
    "\n",
    "trunc_derivedVE_250 = []\n",
    "\n",
    "\n",
    "for i in range(len(actual_depth_values)):\n",
    "    if type(ordered_gp_size[i]) == float: \n",
    "        if folders[i] in derivedVE_dict_250.keys():\n",
    "            \n",
    "            try:\n",
    "                if ordered_vgp_size[i] != None:\n",
    "                    \n",
    "                    trunc_residuals_derivedVE_250.append(derivedVE_dict_250[folders[i]][1])\n",
    "\n",
    "\n",
    "                    trunc_derivedVE_250.append(derivedVE_dict_250[folders[i]][0])\n",
    "\n",
    "                    ddresid250_trunc_vgpSize.append(ordered_vgp_size[i])\n",
    "                    ddresid250_trunc_gpSize.append(ordered_gp_size[i])\n",
    "\n",
    "                    ddresid250_trunc_actual.append(actual_depth_values[i])\n",
    "\n",
    "\n",
    "            except: \n",
    "                pass\n"
   ]
  },
  {
   "cell_type": "code",
   "execution_count": 260,
   "metadata": {},
   "outputs": [
    {
     "data": {
      "text/plain": [
       "(144, 144, 144)"
      ]
     },
     "execution_count": 260,
     "metadata": {},
     "output_type": "execute_result"
    }
   ],
   "source": [
    "len(trunc_residuals_derivedVE_250), len(ddresid250_trunc_vgpSize), len(trunc_derivedVE_250)"
   ]
  },
  {
   "cell_type": "code",
   "execution_count": 261,
   "metadata": {},
   "outputs": [],
   "source": [
    "ddresid1000_trunc_vgpSize = []\n",
    "ddresid1000_trunc_gpSize = []\n",
    "ddresid1000_trunc_actual = []\n",
    "\n",
    "trunc_residuals_derivedVE_1000 = []\n",
    "\n",
    "trunc_derivedVE_1000 = []\n",
    "\n",
    "for i in range(len(actual_depth_values)):\n",
    "    if type(ordered_gp_size[i]) == float: \n",
    "        if folders[i] in derivedVE_dict_1000.keys():\n",
    "            \n",
    "            try:\n",
    "                if ordered_vgp_size[i] != None:\n",
    "                    \n",
    "                    trunc_residuals_derivedVE_1000.append(derivedVE_dict_1000[folders[i]][1])\n",
    "\n",
    "\n",
    "                    trunc_derivedVE_1000.append(derivedVE_dict_1000[folders[i]][0])\n",
    "\n",
    "                    ddresid1000_trunc_vgpSize.append(ordered_vgp_size[i])\n",
    "                    ddresid1000_trunc_gpSize.append(ordered_gp_size[i])\n",
    "\n",
    "                    ddresid1000_trunc_actual.append(actual_depth_values[i])\n",
    "\n",
    "\n",
    "            except: \n",
    "                pass\n"
   ]
  },
  {
   "cell_type": "code",
   "execution_count": 262,
   "metadata": {},
   "outputs": [
    {
     "data": {
      "text/plain": [
       "(144, 144, 144)"
      ]
     },
     "execution_count": 262,
     "metadata": {},
     "output_type": "execute_result"
    }
   ],
   "source": [
    "len(trunc_residuals_derivedVE_1000), len(ddresid1000_trunc_vgpSize), len(trunc_derivedVE_1000)"
   ]
  },
  {
   "cell_type": "code",
   "execution_count": 263,
   "metadata": {},
   "outputs": [],
   "source": [
    "# plt.plot(trunc_gpSize, trunc_vgpSize, 'o')"
   ]
  },
  {
   "cell_type": "code",
   "execution_count": 264,
   "metadata": {},
   "outputs": [
    {
     "data": {
      "image/png": "[encoded data removed]",
      "text/plain": [
       "<Figure size 576x432 with 1 Axes>"
      ]
     },
     "metadata": {
      "needs_background": "light"
     },
     "output_type": "display_data"
    }
   ],
   "source": [
    "plt.figure(figsize=[8,6])\n",
    "plt.title('Distribution of GP and VGP Size')\n",
    "plt.hist(trunc_gpSize, label='GP')\n",
    "plt.hist(trunc_vgpSize, label='VGP')\n",
    "\n",
    "plt.ylabel('count')\n",
    "plt.xlabel('SA (meters-squared)')\n",
    "\n",
    "plt.legend()\n",
    "plt.show();"
   ]
  },
  {
   "cell_type": "code",
   "execution_count": 265,
   "metadata": {},
   "outputs": [],
   "source": [
    "# corr, p-value\n",
    "# print('Correlation between Discrimination Derived VE and VGP/GP SA')\n",
    "# print('125 ms: ',stats.pearsonr(trunc_derivedVE_125, ddtrunc_vgpSize_gpSize))\n",
    "# print('250 ms: ',stats.pearsonr(trunc_derivedVE_250, ddtrunc_vgpSize_gpSize))\n",
    "# print('1000 ms: ',stats.pearsonr(trunc_derivedVE_1000, ddtrunc_vgpSize_gpSize))\n",
    "\n"
   ]
  },
  {
   "cell_type": "code",
   "execution_count": 266,
   "metadata": {},
   "outputs": [
    {
     "name": "stdout",
     "output_type": "stream",
     "text": [
      "Correlation between Discrimination Derived VE and VGP SA\n",
      "125 ms:  (0.14854987140438985, 0.07557895685659838)\n",
      "250 ms:  (0.25732008842547055, 0.001848626022712316)\n",
      "1000 ms:  (0.019902057566154374, 0.8128377992692554)\n"
     ]
    }
   ],
   "source": [
    "# corr, p-value\n",
    "print('Correlation between Discrimination Derived VE and VGP SA')\n",
    "print('125 ms: ',stats.pearsonr(trunc_derivedVE_125, ddresid125_trunc_vgpSize))\n",
    "print('250 ms: ',stats.pearsonr(trunc_derivedVE_250, ddresid250_trunc_vgpSize))\n",
    "print('1000 ms: ',stats.pearsonr(trunc_derivedVE_1000, ddresid1000_trunc_vgpSize))\n",
    "\n"
   ]
  },
  {
   "cell_type": "code",
   "execution_count": 267,
   "metadata": {},
   "outputs": [
    {
     "name": "stdout",
     "output_type": "stream",
     "text": [
      "Correlation between Discrimination Derived VE and GP SA\n",
      "125 ms:  (0.12221835633350274, 0.14447850728649458)\n",
      "250 ms:  (0.11366888069868845, 0.17492758066390413)\n",
      "1000 ms:  (0.09596141292558243, 0.2525641616642558)\n"
     ]
    }
   ],
   "source": [
    "# corr, p-value\n",
    "print('Correlation between Discrimination Derived VE and GP SA')\n",
    "print('125 ms: ',stats.pearsonr(trunc_derivedVE_125, ddresid125_trunc_gpSize))\n",
    "print('250 ms: ',stats.pearsonr(trunc_derivedVE_250, ddresid250_trunc_gpSize))\n",
    "print('1000 ms: ',stats.pearsonr(trunc_derivedVE_1000, ddresid1000_trunc_gpSize))\n"
   ]
  },
  {
   "cell_type": "code",
   "execution_count": 268,
   "metadata": {},
   "outputs": [],
   "source": [
    "# corr, p-value\n",
    "# print('Correlation between Discrimination Derived VE Linear Model Residuals and VGP/GP SA')\n",
    "# print('125 ms: ',stats.pearsonr(trunc_residuals_derivedVE_125, ddtrunc_vgpSize_gpSize))\n",
    "# print('250 ms: ',stats.pearsonr(trunc_residuals_derivedVE_250, ddtrunc_vgpSize_gpSize))\n",
    "# print('1000 ms: ',stats.pearsonr(trunc_residuals_derivedVE_1000, ddtrunc_vgpSize_gpSize))\n",
    "\n"
   ]
  },
  {
   "cell_type": "code",
   "execution_count": 269,
   "metadata": {},
   "outputs": [
    {
     "name": "stdout",
     "output_type": "stream",
     "text": [
      "Correlation between Discrimination Derived VE Linear Model Residuals and VGP SA\n",
      "125 ms:  (0.03707977833351704, 0.6590456700674888)\n",
      "250 ms:  (0.1594652167571622, 0.05624400194618461)\n",
      "1000 ms:  (-0.124375669019364, 0.13747133836340902)\n"
     ]
    }
   ],
   "source": [
    "# corr, p-value\n",
    "print('Correlation between Discrimination Derived VE Linear Model Residuals and VGP SA')\n",
    "print('125 ms: ',stats.pearsonr(trunc_residuals_derivedVE_125, ddresid125_trunc_vgpSize))\n",
    "print('250 ms: ',stats.pearsonr(trunc_residuals_derivedVE_250, ddresid250_trunc_vgpSize))\n",
    "print('1000 ms: ',stats.pearsonr(trunc_residuals_derivedVE_1000, ddresid1000_trunc_vgpSize))\n",
    "\n"
   ]
  },
  {
   "cell_type": "code",
   "execution_count": 270,
   "metadata": {},
   "outputs": [
    {
     "name": "stdout",
     "output_type": "stream",
     "text": [
      "Correlation between Discrimination Derived VE Linear Model Residuals and GP SA\n",
      "125 ms:  (-0.03113469715273165, 0.7110472409659078)\n",
      "250 ms:  (-0.06038694925760897, 0.4721505754852709)\n",
      "1000 ms:  (-0.12578655941502406, 0.13303082854053003)\n"
     ]
    }
   ],
   "source": [
    "# corr, p-value\n",
    "print('Correlation between Discrimination Derived VE Linear Model Residuals and GP SA')\n",
    "print('125 ms: ',stats.pearsonr(trunc_residuals_derivedVE_125, ddresid125_trunc_gpSize))\n",
    "print('250 ms: ',stats.pearsonr(trunc_residuals_derivedVE_250, ddresid250_trunc_gpSize))\n",
    "print('1000 ms: ',stats.pearsonr(trunc_residuals_derivedVE_1000, ddresid1000_trunc_gpSize))\n",
    "\n"
   ]
  },
  {
   "cell_type": "code",
   "execution_count": 271,
   "metadata": {},
   "outputs": [
    {
     "data": {
      "text/plain": [
       "(0.6162035194788191, 1.2431826720725843e-16)"
      ]
     },
     "execution_count": 271,
     "metadata": {},
     "output_type": "execute_result"
    }
   ],
   "source": [
    "stats.pearsonr(trunc_vgpSize, trunc_gpSize)"
   ]
  },
  {
   "cell_type": "code",
   "execution_count": 272,
   "metadata": {},
   "outputs": [
    {
     "data": {
      "image/png": "[encoded data removed]",
      "text/plain": [
       "<Figure size 576x576 with 1 Axes>"
      ]
     },
     "metadata": {
      "needs_background": "light"
     },
     "output_type": "display_data"
    }
   ],
   "source": [
    "\n",
    "fig, ax = plt.subplots(figsize=[8,8])\n",
    "ax.spines['right'].set_visible(False)\n",
    "\n",
    "ax.spines['top'].set_visible(False)\n",
    "\n",
    "plt.plot(ddresid250_trunc_vgpSize, trunc_residuals_derivedVE_250, 'o', color='chocolate')\n",
    "plt.xlabel('VGP Size', fontsize=15)\n",
    "plt.ylabel('Discrimination Derived VE Linear Model Residuals', fontsize=15)\n",
    "plt.title('250 ms', fontsize=22)\n",
    "plt.show();"
   ]
  },
  {
   "cell_type": "markdown",
   "metadata": {},
   "source": [
    "### Absolute Value"
   ]
  },
  {
   "cell_type": "code",
   "execution_count": 273,
   "metadata": {},
   "outputs": [
    {
     "name": "stdout",
     "output_type": "stream",
     "text": [
      "Correlation between Abs Discrimination Derived VE Linear Model Residuals and VGP SA\n",
      "125 ms:  (-0.14948268777673618, 0.07374055274822758)\n",
      "250 ms:  (0.07475538139850275, 0.37320116781866686)\n",
      "1000 ms:  (0.21603668664031414, 0.00930522712410247)\n"
     ]
    }
   ],
   "source": [
    "# corr, p-value\n",
    "print('Correlation between Abs Discrimination Derived VE Linear Model Residuals and VGP SA')\n",
    "print('125 ms: ',stats.pearsonr(np.abs(trunc_residuals_derivedVE_125), ddresid125_trunc_vgpSize))\n",
    "print('250 ms: ',stats.pearsonr(np.abs(trunc_residuals_derivedVE_250), ddresid250_trunc_vgpSize))\n",
    "print('1000 ms: ',stats.pearsonr(np.abs(trunc_residuals_derivedVE_1000), ddresid1000_trunc_vgpSize))\n",
    "\n"
   ]
  },
  {
   "cell_type": "code",
   "execution_count": 274,
   "metadata": {},
   "outputs": [
    {
     "name": "stdout",
     "output_type": "stream",
     "text": [
      "Correlation between Abs Discrimination Derived VE Linear Model Residuals and GP SA\n",
      "125 ms:  (-0.09407062814211789, 0.2620758932378874)\n",
      "250 ms:  (0.013449911057992656, 0.8728814632895391)\n",
      "1000 ms:  (0.06486066058908779, 0.43990229056893304)\n"
     ]
    }
   ],
   "source": [
    "# corr, p-value\n",
    "print('Correlation between Abs Discrimination Derived VE Linear Model Residuals and GP SA')\n",
    "print('125 ms: ',stats.pearsonr(np.abs(trunc_residuals_derivedVE_125), ddresid125_trunc_gpSize))\n",
    "print('250 ms: ',stats.pearsonr(np.abs(trunc_residuals_derivedVE_250), ddresid250_trunc_gpSize))\n",
    "print('1000 ms: ',stats.pearsonr(np.abs(trunc_residuals_derivedVE_1000), ddresid1000_trunc_gpSize))\n",
    "\n"
   ]
  },
  {
   "cell_type": "markdown",
   "metadata": {},
   "source": [
    "### Linear Model Residuals x GP Metrics"
   ]
  },
  {
   "cell_type": "code",
   "execution_count": 275,
   "metadata": {},
   "outputs": [],
   "source": [
    "# corr, p-value\n",
    "# print('Correlation between Linear Model Residuals and VGP/GP SA')\n",
    "# print('125 ms: ',stats.pearsonr(trunc_resid_125, trunc_vgpSize_gpSize))\n",
    "# print('250 ms: ',stats.pearsonr(trunc_resid_250, trunc_vgpSize_gpSize))\n",
    "# print('1000 ms: ',stats.pearsonr(trunc_resid_1000, trunc_vgpSize_gpSize))"
   ]
  },
  {
   "cell_type": "code",
   "execution_count": 276,
   "metadata": {},
   "outputs": [
    {
     "name": "stdout",
     "output_type": "stream",
     "text": [
      "Correlation between Linear Model Residuals and VGP SA\n",
      "125 ms:  (-0.1303737502284452, 0.11677068057807287)\n",
      "250 ms:  (-0.13686000789379565, 0.09951040072358441)\n",
      "1000 ms:  (-0.20288550080391435, 0.014049242311141429)\n"
     ]
    }
   ],
   "source": [
    "# corr, p-value\n",
    "print('Correlation between Linear Model Residuals and VGP SA')\n",
    "print('125 ms: ',stats.pearsonr(trunc_resid_125, trunc_vgpSize))\n",
    "print('250 ms: ',stats.pearsonr(trunc_resid_250, trunc_vgpSize))\n",
    "print('1000 ms: ',stats.pearsonr(trunc_resid_1000, trunc_vgpSize))"
   ]
  },
  {
   "cell_type": "code",
   "execution_count": 277,
   "metadata": {},
   "outputs": [
    {
     "name": "stdout",
     "output_type": "stream",
     "text": [
      "Correlation between Linear Model Residuals and GP SA\n",
      "125 ms:  (-0.1566089165545025, 0.059064555480622394)\n",
      "250 ms:  (-0.1339740619723549, 0.10692347612342837)\n",
      "1000 ms:  (-0.1963770805871622, 0.017519629396710854)\n"
     ]
    }
   ],
   "source": [
    "# corr, p-value\n",
    "print('Correlation between Linear Model Residuals and GP SA')\n",
    "print('125 ms: ',stats.pearsonr(trunc_resid_125, trunc_gpSize))\n",
    "print('250 ms: ',stats.pearsonr(trunc_resid_250, trunc_gpSize))\n",
    "print('1000 ms: ',stats.pearsonr(trunc_resid_1000, trunc_gpSize))"
   ]
  },
  {
   "cell_type": "code",
   "execution_count": 301,
   "metadata": {},
   "outputs": [
    {
     "data": {
      "image/png": "[encoded data removed]",
      "text/plain": [
       "<Figure size 576x576 with 1 Axes>"
      ]
     },
     "metadata": {
      "needs_background": "light"
     },
     "output_type": "display_data"
    }
   ],
   "source": [
    "\n",
    "fig, ax = plt.subplots(figsize=[8,8])\n",
    "ax.spines['right'].set_visible(False)\n",
    "\n",
    "ax.spines['top'].set_visible(False)\n",
    "\n",
    "plt.plot(trunc_gpSize, trunc_resid_1000, 'o', color='blue')\n",
    "plt.xlabel('GP Size', fontsize=18)\n",
    "plt.ylabel('VE Linear Model Residuals', fontsize=18)\n",
    "plt.xticks(fontsize=15)\n",
    "plt.yticks(fontsize=15)\n",
    "plt.title('1000 ms', fontsize=22)\n",
    "plt.show();"
   ]
  },
  {
   "cell_type": "markdown",
   "metadata": {},
   "source": [
    "### Combined duration residuals"
   ]
  },
  {
   "cell_type": "code",
   "execution_count": 298,
   "metadata": {},
   "outputs": [
    {
     "name": "stdout",
     "output_type": "stream",
     "text": [
      "Correlation between Average Linear Model Residuals and GP SA\n",
      "(-0.16621675920617754, 0.044951076137245694)\n",
      "\n",
      "Correlation between All Linear Model Residuals and GP SA * 3\n",
      "(-0.1626256708159981, 0.0006342054400194517)\n",
      "\n",
      "Correlation between Average Linear Model Residuals and VGP SA\n",
      "(-0.16032442056064403, 0.053226404922004276)\n",
      "\n",
      "Correlation between All Linear Model Residuals and VGP SA * 3\n",
      "(-0.15686063527156002, 0.0009881409148573754)\n"
     ]
    }
   ],
   "source": [
    "# corr, p-value\n",
    "print('Correlation between Average Linear Model Residuals and GP SA')\n",
    "print(stats.pearsonr(np.mean([trunc_resid_125, trunc_resid_250, trunc_resid_1000], axis=0), trunc_gpSize))\n",
    "\n",
    "print()\n",
    "\n",
    "print('Correlation between All Linear Model Residuals and GP SA * 3')\n",
    "print(stats.pearsonr(trunc_resid_125 + trunc_resid_250 + trunc_resid_1000, trunc_gpSize*3))\n",
    "\n",
    "print()\n",
    "\n",
    "print('Correlation between Average Linear Model Residuals and VGP SA')\n",
    "print(stats.pearsonr(np.mean([trunc_resid_125, trunc_resid_250, trunc_resid_1000], axis=0), trunc_vgpSize))\n",
    "\n",
    "print()\n",
    "\n",
    "print('Correlation between All Linear Model Residuals and VGP SA * 3')\n",
    "print(stats.pearsonr(trunc_resid_125 + trunc_resid_250 + trunc_resid_1000, trunc_vgpSize*3))"
   ]
  },
  {
   "cell_type": "code",
   "execution_count": 280,
   "metadata": {},
   "outputs": [
    {
     "name": "stdout",
     "output_type": "stream",
     "text": [
      "Correlation between Abs Average Linear Model Residuals and GP SA\n",
      "(0.2563594975339796, 0.001788082061489578)\n",
      "\n",
      "Correlation between Abs All Linear Model Residuals and GP SA * 3\n",
      "(0.24357925498647953, 2.4549604226322116e-07)\n",
      "\n",
      "Correlation between Abs Average Linear Model Residuals and VGP SA\n",
      "(0.11635183286347392, 0.1619464607844682)\n",
      "\n",
      "Correlation between Abs All Linear Model Residuals and VGP SA * 3\n",
      "(0.11093274648826076, 0.020222847656754948)\n"
     ]
    }
   ],
   "source": [
    "# corr, p-value\n",
    "print('Correlation between Abs Average Linear Model Residuals and GP SA')\n",
    "print(stats.pearsonr(np.abs(np.mean([trunc_resid_125, trunc_resid_250, trunc_resid_1000], axis=0)), trunc_gpSize))\n",
    "\n",
    "print()\n",
    "\n",
    "print('Correlation between Abs All Linear Model Residuals and GP SA * 3')\n",
    "print(stats.pearsonr(np.abs(np.array(trunc_resid_125 + trunc_resid_250 + trunc_resid_1000)), trunc_gpSize*3))\n",
    "\n",
    "print()\n",
    "\n",
    "print('Correlation between Abs Average Linear Model Residuals and VGP SA')\n",
    "print(stats.pearsonr(np.abs(np.mean([trunc_resid_125, trunc_resid_250, trunc_resid_1000], axis=0)), trunc_vgpSize))\n",
    "\n",
    "print()\n",
    "\n",
    "print('Correlation between Abs All Linear Model Residuals and VGP SA * 3')\n",
    "print(stats.pearsonr(np.abs(trunc_resid_125 + trunc_resid_250 + trunc_resid_1000), trunc_vgpSize*3))"
   ]
  },
  {
   "cell_type": "code",
   "execution_count": 302,
   "metadata": {},
   "outputs": [
    {
     "data": {
      "image/png": "[encoded data removed]",
      "text/plain": [
       "<Figure size 432x432 with 1 Axes>"
      ]
     },
     "metadata": {
      "needs_background": "light"
     },
     "output_type": "display_data"
    }
   ],
   "source": [
    "import matplotlib.pyplot as plt\n",
    "\n",
    "fig, ax = plt.subplots(figsize=[6,6])\n",
    "ax.spines['right'].set_visible(False)\n",
    "ax.spines['top'].set_visible(False)\n",
    "\n",
    "plt.plot(trunc_vgpSize*3, trunc_resid_125 + trunc_resid_250 + trunc_resid_1000, 'o', color='blue')\n",
    "plt.tight_layout()\n",
    "plt.xlabel('VGP Surface Area', fontsize=15)\n",
    "plt.ylabel('VE Linear Model Residuals', fontsize=15)\n",
    "plt.yticks(np.arange(-1,1.2, 0.4),fontsize=12)\n",
    "plt.xticks(fontsize=12)\n",
    "plt.show();"
   ]
  },
  {
   "cell_type": "code",
   "execution_count": 304,
   "metadata": {},
   "outputs": [
    {
     "data": {
      "image/png": "[encoded data removed]",
      "text/plain": [
       "<Figure size 432x432 with 1 Axes>"
      ]
     },
     "metadata": {
      "needs_background": "light"
     },
     "output_type": "display_data"
    }
   ],
   "source": [
    "import matplotlib.pyplot as plt\n",
    "\n",
    "fig, ax = plt.subplots(figsize=[6,6])\n",
    "ax.spines['right'].set_visible(False)\n",
    "ax.spines['top'].set_visible(False)\n",
    "\n",
    "plt.plot(trunc_gpSize*3, trunc_resid_125 + trunc_resid_250 + trunc_resid_1000, 'o', color='blue', alpha=0.6)\n",
    "plt.tight_layout()\n",
    "plt.xlabel('GP Surface Area', fontsize=15)\n",
    "plt.ylabel('VE Linear Model Residuals', fontsize=15)\n",
    "plt.yticks(np.arange(-1,1.2, 0.4),fontsize=12)\n",
    "plt.xticks(fontsize=12)\n",
    "plt.show();"
   ]
  },
  {
   "cell_type": "markdown",
   "metadata": {},
   "source": [
    "### Issue: The correlations are all against the a gpSize list that is constrained by the 125 ms outliers in the residuals \n",
    "\n",
    "Each duration has different ones excluded "
   ]
  },
  {
   "cell_type": "code",
   "execution_count": 283,
   "metadata": {},
   "outputs": [
    {
     "name": "stdout",
     "output_type": "stream",
     "text": [
      "Correlation between Average Discrimination Derived Linear Model Residuals and GP SA\n",
      "(-0.07939470551294794, 0.34418570946852045)\n",
      "\n",
      "Correlation between All Discrimination Derived Linear Model Residuals and GP SA * 3\n",
      "(-0.057181012368192036, 0.23561751594081018)\n",
      "\n",
      "Correlation between Average Discrimination Derived Linear Model Residuals and VGP SA\n",
      "(0.09682198496628266, 0.24831479728431366)\n",
      "\n",
      "Correlation between All Discrimination Derived Linear Model Residuals and VGP SA * 3\n",
      "(0.06973234656014966, 0.1479187551227646)\n"
     ]
    }
   ],
   "source": [
    "# corr, p-value\n",
    "print('Correlation between Average Discrimination Derived Linear Model Residuals and GP SA')\n",
    "print(stats.pearsonr(np.mean([trunc_residuals_derivedVE_125, trunc_residuals_derivedVE_250, trunc_residuals_derivedVE_1000], axis=0), ddresid125_trunc_gpSize))\n",
    "\n",
    "print()\n",
    "\n",
    "print('Correlation between All Discrimination Derived Linear Model Residuals and GP SA * 3')\n",
    "print(stats.pearsonr(trunc_residuals_derivedVE_125 + trunc_residuals_derivedVE_250 + trunc_residuals_derivedVE_1000, ddresid125_trunc_gpSize*3))\n",
    "\n",
    "print()\n",
    "\n",
    "print('Correlation between Average Discrimination Derived Linear Model Residuals and VGP SA')\n",
    "print(stats.pearsonr(np.mean([trunc_residuals_derivedVE_125, trunc_residuals_derivedVE_250, trunc_residuals_derivedVE_1000], axis=0), ddresid125_trunc_vgpSize))\n",
    "\n",
    "print()\n",
    "\n",
    "print('Correlation between All Discrimination Derived Linear Model Residuals and VGP SA * 3')\n",
    "print(stats.pearsonr(trunc_residuals_derivedVE_125 + trunc_residuals_derivedVE_250 + trunc_residuals_derivedVE_1000, ddresid125_trunc_vgpSize*3))"
   ]
  },
  {
   "cell_type": "code",
   "execution_count": 284,
   "metadata": {},
   "outputs": [
    {
     "name": "stdout",
     "output_type": "stream",
     "text": [
      "Correlation between Abs Average Discrimination Derived Linear Model Residuals and GP SA\n",
      "(0.0002058734177092722, 0.9980460228449622)\n",
      "\n",
      "Correlation between Abs All Discrimination Derived Linear Model Residuals and GP SA * 3\n",
      "(-0.02494589786164953, 0.6051080213813688)\n",
      "\n",
      "Correlation between Abs Average Discrimination Derived Linear Model Residuals and VGP SA\n",
      "(-0.037660389888455534, 0.6540485499704107)\n",
      "\n",
      "Correlation between Abs All Discrimination Derived Linear Model Residuals and VGP SA * 3\n",
      "(-0.030194278520251017, 0.5313800814658219)\n"
     ]
    }
   ],
   "source": [
    "# corr, p-value\n",
    "print('Correlation between Abs Average Discrimination Derived Linear Model Residuals and GP SA')\n",
    "print(stats.pearsonr(np.abs(np.mean([trunc_residuals_derivedVE_125, trunc_residuals_derivedVE_250, trunc_residuals_derivedVE_1000], axis=0)), ddresid125_trunc_gpSize))\n",
    "\n",
    "print()\n",
    "\n",
    "print('Correlation between Abs All Discrimination Derived Linear Model Residuals and GP SA * 3')\n",
    "print(stats.pearsonr(np.abs(trunc_residuals_derivedVE_125 + trunc_residuals_derivedVE_250 + trunc_residuals_derivedVE_1000), ddresid125_trunc_gpSize*3))\n",
    "\n",
    "print()\n",
    "\n",
    "print('Correlation between Abs Average Discrimination Derived Linear Model Residuals and VGP SA')\n",
    "print(stats.pearsonr(np.abs(np.mean([trunc_residuals_derivedVE_125, trunc_residuals_derivedVE_250, trunc_residuals_derivedVE_1000], axis=0)), ddresid125_trunc_vgpSize))\n",
    "\n",
    "print()\n",
    "\n",
    "print('Correlation between Abs All Discrimination Derived Linear Model Residuals and VGP SA * 3')\n",
    "print(stats.pearsonr(np.abs(trunc_residuals_derivedVE_125 + trunc_residuals_derivedVE_250 + trunc_residuals_derivedVE_1000), ddresid125_trunc_vgpSize*3))\n"
   ]
  },
  {
   "cell_type": "markdown",
   "metadata": {},
   "source": [
    "### STANDARD DEVIATION"
   ]
  },
  {
   "cell_type": "code",
   "execution_count": 285,
   "metadata": {},
   "outputs": [
    {
     "name": "stdout",
     "output_type": "stream",
     "text": [
      "Correlation between SD and VGP/GP SA\n",
      "125 ms:  (-0.18996626027876268, 0.021641889405914633)\n",
      "250 ms:  (-0.2299178902425394, 0.005242701065407059)\n",
      "1000 ms:  (-0.14079843809789636, 0.09005539893247042)\n"
     ]
    }
   ],
   "source": [
    "# corr, p-value\n",
    "print('Correlation between SD and VGP/GP SA')\n",
    "print('125 ms: ',stats.pearsonr(trunc_std_125, trunc_vgpSize_gpSize))\n",
    "print('250 ms: ',stats.pearsonr(trunc_std_250, trunc_vgpSize_gpSize))\n",
    "print('1000 ms: ',stats.pearsonr(trunc_std_1000, trunc_vgpSize_gpSize))"
   ]
  },
  {
   "cell_type": "code",
   "execution_count": 286,
   "metadata": {},
   "outputs": [
    {
     "name": "stdout",
     "output_type": "stream",
     "text": [
      "Correlation between SD and VGP SA\n",
      "125 ms:  (-0.004116882685445654, 0.9606665858778467)\n",
      "250 ms:  (0.1232010909492751, 0.13847371669413716)\n",
      "1000 ms:  (0.12278654636633778, 0.13981623594131254)\n"
     ]
    }
   ],
   "source": [
    "# corr, p-value\n",
    "print('Correlation between SD and VGP SA')\n",
    "print('125 ms: ',stats.pearsonr(trunc_std_125, trunc_vgpSize))\n",
    "print('250 ms: ',stats.pearsonr(trunc_std_250, trunc_vgpSize))\n",
    "print('1000 ms: ',stats.pearsonr(trunc_std_1000, trunc_vgpSize))"
   ]
  },
  {
   "cell_type": "code",
   "execution_count": 287,
   "metadata": {},
   "outputs": [
    {
     "name": "stdout",
     "output_type": "stream",
     "text": [
      "Correlation between SD and GP SA\n",
      "125 ms:  (0.14970360825423906, 0.07130900008302953)\n",
      "250 ms:  (0.3317951039326756, 4.2925055042489975e-05)\n",
      "1000 ms:  (0.2428504167935972, 0.003141966906696011)\n"
     ]
    }
   ],
   "source": [
    "# corr, p-value\n",
    "print('Correlation between SD and GP SA')\n",
    "print('125 ms: ',stats.pearsonr(trunc_std_125, trunc_gpSize))\n",
    "print('250 ms: ',stats.pearsonr(trunc_std_250, trunc_gpSize))\n",
    "print('1000 ms: ',stats.pearsonr(trunc_std_1000, trunc_gpSize))"
   ]
  },
  {
   "cell_type": "markdown",
   "metadata": {},
   "source": [
    "#### Absolute value of residuals"
   ]
  },
  {
   "cell_type": "code",
   "execution_count": 288,
   "metadata": {},
   "outputs": [
    {
     "name": "stdout",
     "output_type": "stream",
     "text": [
      "Correlation between Abs(Linear Model Residuals) and VGP/GP\n",
      "125 ms:  (-0.12380522967964347, 0.13653481638955817)\n",
      "250 ms:  (-0.12017084119025076, 0.14851688842939267)\n",
      "1000 ms:  (-0.11917801716512857, 0.15192436386537228)\n"
     ]
    }
   ],
   "source": [
    "# corr, p-value\n",
    "print('Correlation between Abs(Linear Model Residuals) and VGP/GP')\n",
    "print('125 ms: ',stats.pearsonr(np.abs(trunc_resid_125), trunc_vgpSize_gpSize))\n",
    "print('250 ms: ',stats.pearsonr(np.abs(trunc_resid_250), trunc_vgpSize_gpSize))\n",
    "print('1000 ms: ',stats.pearsonr(np.abs(trunc_resid_1000), trunc_vgpSize_gpSize))\n",
    "\n",
    "# interp: clutter (pixel space)"
   ]
  },
  {
   "cell_type": "code",
   "execution_count": 289,
   "metadata": {},
   "outputs": [
    {
     "name": "stdout",
     "output_type": "stream",
     "text": [
      "Correlation between Abs(Linear Model Residuals) and VGP\n",
      "125 ms:  (0.1365392166965244, 0.10031380329324069)\n",
      "250 ms:  (0.08730189304228789, 0.29472724385855403)\n",
      "1000 ms:  (0.10738989660408974, 0.19698887726952288)\n"
     ]
    }
   ],
   "source": [
    "# corr, p-value\n",
    "print('Correlation between Abs(Linear Model Residuals) and VGP')\n",
    "print('125 ms: ',stats.pearsonr(np.abs(trunc_resid_125), trunc_vgpSize))\n",
    "print('250 ms: ',stats.pearsonr(np.abs(trunc_resid_250), trunc_vgpSize))\n",
    "print('1000 ms: ',stats.pearsonr(np.abs(trunc_resid_1000), trunc_vgpSize))"
   ]
  },
  {
   "cell_type": "code",
   "execution_count": 290,
   "metadata": {},
   "outputs": [
    {
     "name": "stdout",
     "output_type": "stream",
     "text": [
      "Correlation between Abs(Linear Model Residuals) and GP\n",
      "125 ms:  (0.23821178874919807, 0.0037869609461004348)\n",
      "250 ms:  (0.24706482222353793, 0.0026437395871681856)\n",
      "1000 ms:  (0.2465562507361697, 0.0026998132256046197)\n"
     ]
    }
   ],
   "source": [
    "# corr, p-value\n",
    "print('Correlation between Abs(Linear Model Residuals) and GP')\n",
    "print('125 ms: ',stats.pearsonr(np.abs(trunc_resid_125), trunc_gpSize))\n",
    "print('250 ms: ',stats.pearsonr(np.abs(trunc_resid_250), trunc_gpSize))\n",
    "print('1000 ms: ',stats.pearsonr(np.abs(trunc_resid_1000), trunc_gpSize))"
   ]
  },
  {
   "cell_type": "code",
   "execution_count": null,
   "metadata": {},
   "outputs": [],
   "source": []
  },
  {
   "cell_type": "code",
   "execution_count": 299,
   "metadata": {},
   "outputs": [
    {
     "name": "stdout",
     "output_type": "stream",
     "text": [
      "m: [0.00493647]\n",
      "b: 0.19206667767683305\n",
      "R-squared:  0.05674485629909243\n"
     ]
    },
    {
     "data": {
      "text/plain": [
       "0.057"
      ]
     },
     "execution_count": 299,
     "metadata": {},
     "output_type": "execute_result"
    },
    {
     "data": {
      "image/png": "[encoded data removed]",
      "text/plain": [
       "<Figure size 432x432 with 1 Axes>"
      ]
     },
     "metadata": {
      "needs_background": "light"
     },
     "output_type": "display_data"
    }
   ],
   "source": [
    "fig, ax = plt.subplots(figsize=[6,6])\n",
    "ax.spines['right'].set_visible(False)\n",
    "ax.spines['top'].set_visible(False)\n",
    "plt.tight_layout()\n",
    "\n",
    "#run regression\n",
    "X = np.array(trunc_gpSize).reshape(-1,1)\n",
    "y = np.abs(trunc_resid_125)\n",
    "reg = LinearRegression().fit(X, y)\n",
    "\n",
    "#Generated Predictions\n",
    "y_predicted = reg.predict(X)\n",
    "#Plot Our Actual and Predicted Values\n",
    "plt.plot(X, y, '*', color='black', alpha = 0.5);\n",
    "plt.plot(X,y_predicted,color='darkgreen', label = 'm = ' + str(round(reg.coef_[0], 3))\n",
    "         + '     r-squared = ' + str(round(float(reg.score(X, y)), 3)))\n",
    "plt.title(\"125 ms\", fontsize = 20)\n",
    "plt.xlabel(\"Complete Ground Plane Surface Area (meters-squared)\", fontsize = 15)\n",
    "plt.ylabel(\"Abs(Linear Model Residuals)\", fontsize = 15)\n",
    "\n",
    "legend = plt.legend(loc = 0, fontsize = 13, borderpad = 0.6, labelspacing = 1)\n",
    "legend.get_frame().set_facecolor('lightgray')\n",
    "\n",
    "\n",
    "#get coefficients and y intercept\n",
    "print(\"m: {0}\".format(reg.coef_))\n",
    "print(\"b: {0}\".format(reg.intercept_))\n",
    "\n",
    "#Returns the coefficient of determination R^2 of the prediction.\n",
    "print(\"R-squared: \", reg.score(X, y))\n",
    "\n",
    "round(float(reg.score(X, y)), 3)"
   ]
  },
  {
   "cell_type": "code",
   "execution_count": 292,
   "metadata": {},
   "outputs": [],
   "source": [
    "# plt.figure(figsize = [7,7])\n",
    "# #run regression\n",
    "# X = np.array(trunc_gpSize).reshape(-1,1)\n",
    "# y = np.abs(trunc_resid_1000)\n",
    "# reg = LinearRegression().fit(X, y)\n",
    "\n",
    "# #Generated Predictions\n",
    "# y_predicted = reg.predict(X)\n",
    "# #Plot Our Actual and Predicted Values\n",
    "# plt.plot(X, y, 'o', color='black', alpha = 0.5);\n",
    "# plt.plot(X,y_predicted,color='darkviolet', label = 'm = ' + str(round(reg.coef_[0], 3))\n",
    "#          + '     r-squared = ' + str(round(float(reg.score(X, y)), 3)))\n",
    "# plt.title(\"1000 ms\", fontsize = 20)\n",
    "# plt.xlabel(\"Ground Plane Surface Area (meters-squared)\", fontsize = 15)\n",
    "# plt.ylabel(\"Linear Model Residuals\", fontsize = 15)\n",
    "\n",
    "# legend = plt.legend(loc = 0, fontsize = 13, borderpad = 0.6, labelspacing = 1)\n",
    "# legend.get_frame().set_facecolor('lightgray')\n",
    "\n",
    "\n",
    "# #get coefficients and y intercept\n",
    "# print(\"m: {0}\".format(reg.coef_))\n",
    "# print(\"b: {0}\".format(reg.intercept_))\n",
    "\n",
    "# #Returns the coefficient of determination R^2 of the prediction.\n",
    "# print(\"R-squared: \", reg.score(X, y))\n",
    "\n",
    "# round(float(reg.score(X, y)), 3)"
   ]
  },
  {
   "cell_type": "markdown",
   "metadata": {},
   "source": [
    "#### Actual Depth"
   ]
  },
  {
   "cell_type": "code",
   "execution_count": 293,
   "metadata": {},
   "outputs": [],
   "source": [
    "# trunc_vgpSize == trunc_gpSize"
   ]
  },
  {
   "cell_type": "code",
   "execution_count": 294,
   "metadata": {},
   "outputs": [
    {
     "name": "stdout",
     "output_type": "stream",
     "text": [
      "Correlation between Actual Depth and VGP/GP\n",
      "(-0.08630803579661095, 0.30027947496074353)\n",
      "Correlation between Actual Depth and VGP\n",
      "(0.17889075672164295, 0.030739849680656246)\n",
      "Correlation between Actual Depth and GP\n",
      "(0.25972165140347453, 0.0015467718871468056)\n"
     ]
    }
   ],
   "source": [
    "print('Correlation between Actual Depth and VGP/GP')\n",
    "print(stats.pearsonr(trunc_actual, trunc_vgpSize_gpSize))\n",
    "print('Correlation between Actual Depth and VGP')\n",
    "print(stats.pearsonr(trunc_actual, trunc_vgpSize))\n",
    "print('Correlation between Actual Depth and GP')\n",
    "print(stats.pearsonr(trunc_actual, trunc_gpSize))"
   ]
  },
  {
   "cell_type": "code",
   "execution_count": 295,
   "metadata": {},
   "outputs": [
    {
     "name": "stdout",
     "output_type": "stream",
     "text": [
      "m: [-0.00952549]\n",
      "b: 0.07951832687146157\n",
      "R-squared:  0.018730661760689937\n"
     ]
    },
    {
     "data": {
      "text/plain": [
       "0.019"
      ]
     },
     "execution_count": 295,
     "metadata": {},
     "output_type": "execute_result"
    },
    {
     "data": {
      "image/png": "[encoded data removed]",
      "text/plain": [
       "<Figure size 432x432 with 1 Axes>"
      ]
     },
     "metadata": {
      "needs_background": "light"
     },
     "output_type": "display_data"
    }
   ],
   "source": [
    "plt.figure(figsize = [6,6])\n",
    "#run regression\n",
    "X = np.array(trunc_vgpSize).reshape(-1,1)\n",
    "y = trunc_resid_250\n",
    "reg = LinearRegression().fit(X, y)\n",
    "\n",
    "#Generated Predictions\n",
    "y_predicted = reg.predict(X)\n",
    "#Plot Our Actual and Predicted Values\n",
    "plt.plot(X, y, 's', color='black', alpha = 0.5);\n",
    "plt.plot(X,y_predicted,color='chocolate', label = 'm = ' + str(round(reg.coef_[0], 3))\n",
    "         + '     r-squared = ' + str(round(float(reg.score(X, y)), 3)))\n",
    "plt.title(\"250 ms\", fontsize = 20)\n",
    "plt.xlabel(\"Visible Ground Plane SA\", fontsize = 15)\n",
    "plt.ylabel(\"Linear Model Residuals\", fontsize = 15)\n",
    "\n",
    "legend = plt.legend(loc = 0, fontsize = 13, borderpad = 0.6, labelspacing = 1)\n",
    "legend.get_frame().set_facecolor('lightgray')\n",
    "\n",
    "\n",
    "#get coefficients and y intercept\n",
    "print(\"m: {0}\".format(reg.coef_))\n",
    "print(\"b: {0}\".format(reg.intercept_))\n",
    "\n",
    "#Returns the coefficient of determination R^2 of the prediction.\n",
    "print(\"R-squared: \", reg.score(X, y))\n",
    "\n",
    "round(float(reg.score(X, y)), 3)"
   ]
  },
  {
   "cell_type": "code",
   "execution_count": 296,
   "metadata": {},
   "outputs": [
    {
     "name": "stdout",
     "output_type": "stream",
     "text": [
      "m: [-0.00952549]\n",
      "b: 0.07951832687146157\n",
      "R-squared:  0.018730661760689937\n"
     ]
    },
    {
     "data": {
      "text/plain": [
       "0.019"
      ]
     },
     "execution_count": 296,
     "metadata": {},
     "output_type": "execute_result"
    },
    {
     "data": {
      "image/png": "[encoded data removed]",
      "text/plain": [
       "<Figure size 432x432 with 1 Axes>"
      ]
     },
     "metadata": {
      "needs_background": "light"
     },
     "output_type": "display_data"
    }
   ],
   "source": [
    "plt.figure(figsize = [6,6])\n",
    "#run regression\n",
    "X = np.array(trunc_vgpSize).reshape(-1,1)\n",
    "y = trunc_resid_250\n",
    "reg = LinearRegression().fit(X, y)\n",
    "\n",
    "#Generated Predictions\n",
    "y_predicted = reg.predict(X)\n",
    "#Plot Our Actual and Predicted Values\n",
    "plt.plot(X, y, 'v', color='black', alpha = 0.5);\n",
    "plt.plot(X,y_predicted,color='chocolate', label = 'm = ' + str(round(reg.coef_[0], 3))\n",
    "         + '     r-squared = ' + str(round(float(reg.score(X, y)), 3)))\n",
    "plt.title(\"250 ms\", fontsize = 20)\n",
    "plt.xlabel(\"VGP\", fontsize = 15)\n",
    "plt.ylabel(\"Linear Model Residuals\", fontsize = 15)\n",
    "\n",
    "legend = plt.legend(loc = 0, fontsize = 13, borderpad = 0.6, labelspacing = 1)\n",
    "legend.get_frame().set_facecolor('lightgray')\n",
    "\n",
    "\n",
    "#get coefficients and y intercept\n",
    "print(\"m: {0}\".format(reg.coef_))\n",
    "print(\"b: {0}\".format(reg.intercept_))\n",
    "\n",
    "#Returns the coefficient of determination R^2 of the prediction.\n",
    "print(\"R-squared: \", reg.score(X, y))\n",
    "\n",
    "round(float(reg.score(X, y)), 3)"
   ]
  },
  {
   "cell_type": "markdown",
   "metadata": {},
   "source": [
    "## Global Mean Depth"
   ]
  },
  {
   "cell_type": "code",
   "execution_count": 360,
   "metadata": {},
   "outputs": [],
   "source": [
    "# kinect192_path = '/Users/prachimahableshwarkar/Documents/GW/SUNRGBD/updated/kinect2data_192'\n",
    "\n",
    "# stimuli_path = '/Users/prachimahableshwarkar/Documents/GW/Depth_MTurk/depth_duration_stimuli'"
   ]
  },
  {
   "cell_type": "code",
   "execution_count": 264,
   "metadata": {},
   "outputs": [],
   "source": [
    "globalMeanDepths = []\n",
    "for folder in stimfolder_250:\n",
    "    for file in os.listdir(kinect192_path + '/' + folder + '/depth_bfx'):\n",
    "        if 'png' in file:\n",
    "            dm = Image.open(kinect192_path + '/' + folder + '/depth_bfx/' + file)\n",
    "            dm.load()\n",
    "            depth_data = np.asarray(dm)/8000\n",
    "            globalMeanDepths.append(np.mean(depth_data))"
   ]
  },
  {
   "cell_type": "code",
   "execution_count": 265,
   "metadata": {},
   "outputs": [],
   "source": [
    "trunc_globalMeanDepths = []\n",
    "\n",
    "for i in range(len(ordered_gp_size)):\n",
    "    if type(ordered_gp_size[i]) == float:\n",
    "        trunc_globalMeanDepths.append(globalMeanDepths[i])\n"
   ]
  },
  {
   "cell_type": "code",
   "execution_count": 266,
   "metadata": {},
   "outputs": [
    {
     "name": "stdout",
     "output_type": "stream",
     "text": [
      "Correlation between Global Mean Depth and Complete Ground Plane\n"
     ]
    },
    {
     "ename": "ValueError",
     "evalue": "x and y must have the same length.",
     "output_type": "error",
     "traceback": [
      "\u001b[0;31m---------------------------------------------------------------------------\u001b[0m",
      "\u001b[0;31mValueError\u001b[0m                                Traceback (most recent call last)",
      "\u001b[0;32m<ipython-input-266-eb01b2bca96a>\u001b[0m in \u001b[0;36m<module>\u001b[0;34m\u001b[0m\n\u001b[1;32m      1\u001b[0m \u001b[0mprint\u001b[0m\u001b[0;34m(\u001b[0m\u001b[0;34m'Correlation between Global Mean Depth and Complete Ground Plane'\u001b[0m\u001b[0;34m)\u001b[0m\u001b[0;34m\u001b[0m\u001b[0;34m\u001b[0m\u001b[0m\n\u001b[0;32m----> 2\u001b[0;31m \u001b[0mprint\u001b[0m\u001b[0;34m(\u001b[0m\u001b[0mstats\u001b[0m\u001b[0;34m.\u001b[0m\u001b[0mpearsonr\u001b[0m\u001b[0;34m(\u001b[0m\u001b[0mtrunc_globalMeanDepths\u001b[0m\u001b[0;34m,\u001b[0m \u001b[0mtrunc_gpSize\u001b[0m\u001b[0;34m)\u001b[0m\u001b[0;34m)\u001b[0m\u001b[0;34m\u001b[0m\u001b[0;34m\u001b[0m\u001b[0m\n\u001b[0m",
      "\u001b[0;32m~/opt/anaconda3/envs/defaultenv/lib/python3.7/site-packages/scipy/stats/stats.py\u001b[0m in \u001b[0;36mpearsonr\u001b[0;34m(x, y)\u001b[0m\n\u001b[1;32m   3387\u001b[0m     \u001b[0mn\u001b[0m \u001b[0;34m=\u001b[0m \u001b[0mlen\u001b[0m\u001b[0;34m(\u001b[0m\u001b[0mx\u001b[0m\u001b[0;34m)\u001b[0m\u001b[0;34m\u001b[0m\u001b[0;34m\u001b[0m\u001b[0m\n\u001b[1;32m   3388\u001b[0m     \u001b[0;32mif\u001b[0m \u001b[0mn\u001b[0m \u001b[0;34m!=\u001b[0m \u001b[0mlen\u001b[0m\u001b[0;34m(\u001b[0m\u001b[0my\u001b[0m\u001b[0;34m)\u001b[0m\u001b[0;34m:\u001b[0m\u001b[0;34m\u001b[0m\u001b[0;34m\u001b[0m\u001b[0m\n\u001b[0;32m-> 3389\u001b[0;31m         \u001b[0;32mraise\u001b[0m \u001b[0mValueError\u001b[0m\u001b[0;34m(\u001b[0m\u001b[0;34m'x and y must have the same length.'\u001b[0m\u001b[0;34m)\u001b[0m\u001b[0;34m\u001b[0m\u001b[0;34m\u001b[0m\u001b[0m\n\u001b[0m\u001b[1;32m   3390\u001b[0m \u001b[0;34m\u001b[0m\u001b[0m\n\u001b[1;32m   3391\u001b[0m     \u001b[0;32mif\u001b[0m \u001b[0mn\u001b[0m \u001b[0;34m<\u001b[0m \u001b[0;36m2\u001b[0m\u001b[0;34m:\u001b[0m\u001b[0;34m\u001b[0m\u001b[0;34m\u001b[0m\u001b[0m\n",
      "\u001b[0;31mValueError\u001b[0m: x and y must have the same length."
     ]
    }
   ],
   "source": [
    "print('Correlation between Global Mean Depth and Complete Ground Plane')\n",
    "print(stats.pearsonr(trunc_globalMeanDepths, trunc_gpSize))"
   ]
  },
  {
   "cell_type": "code",
   "execution_count": 364,
   "metadata": {},
   "outputs": [
    {
     "name": "stdout",
     "output_type": "stream",
     "text": [
      "m: [17.53990948]\n",
      "b: -22.297939447106252\n",
      "R-squared:  0.08533325037416128\n"
     ]
    },
    {
     "data": {
      "text/plain": [
       "0.085"
      ]
     },
     "execution_count": 364,
     "metadata": {},
     "output_type": "execute_result"
    },
    {
     "data": {
      "image/png": "[encoded data removed]",
      "text/plain": [
       "<Figure size 576x576 with 1 Axes>"
      ]
     },
     "metadata": {
      "needs_background": "light"
     },
     "output_type": "display_data"
    }
   ],
   "source": [
    "plt.figure(figsize = [8,8])\n",
    "#run regression\n",
    "X = np.array(trunc_globalMeanDepths).reshape(-1,1)\n",
    "y = trunc_gpSize\n",
    "reg = LinearRegression().fit(X, y)\n",
    "\n",
    "#Generated Predictions\n",
    "y_predicted = reg.predict(X)\n",
    "#Plot Our Actual and Predicted Values\n",
    "plt.plot(X, y, 'o', color='darkgreen', alpha = 0.5);\n",
    "plt.plot(X,y_predicted,color='darkgreen', label = 'm = ' + str(round(reg.coef_[0], 3))\n",
    "         + '     r-squared = ' + str(round(float(reg.score(X, y)), 3)))\n",
    "plt.title(\"Complete Ground Plane x Global Mean Depth\", fontsize = 20)\n",
    "plt.xlabel(\"Global Mean Depth (m)\", fontsize = 15)\n",
    "plt.ylabel(\"Inferred Complete Ground Plane Surface Area\", fontsize = 15)\n",
    "\n",
    "legend = plt.legend(loc = 0, fontsize = 13, borderpad = 0.6, labelspacing = 1)\n",
    "legend.get_frame().set_facecolor('lightgray')\n",
    "\n",
    "\n",
    "#get coefficients and y intercept\n",
    "print(\"m: {0}\".format(reg.coef_))\n",
    "print(\"b: {0}\".format(reg.intercept_))\n",
    "\n",
    "#Returns the coefficient of determination R^2 of the prediction.\n",
    "print(\"R-squared: \", reg.score(X, y))\n",
    "\n",
    "round(float(reg.score(X, y)), 3)"
   ]
  },
  {
   "cell_type": "markdown",
   "metadata": {},
   "source": [
    "## GP Defined Clutter "
   ]
  },
  {
   "cell_type": "code",
   "execution_count": 305,
   "metadata": {},
   "outputs": [],
   "source": [
    "clutter_size = (np.array(trunc_gpSize) - np.array(trunc_vgpSize)) \n"
   ]
  },
  {
   "cell_type": "code",
   "execution_count": 306,
   "metadata": {},
   "outputs": [
    {
     "data": {
      "image/png": "[encoded data removed]",
      "text/plain": [
       "<Figure size 432x288 with 1 Axes>"
      ]
     },
     "metadata": {
      "needs_background": "light"
     },
     "output_type": "display_data"
    }
   ],
   "source": [
    "plt.title('Distribution of Clutter Score')\n",
    "plt.hist(clutter_size)\n",
    "\n",
    "plt.ylabel('count')\n",
    "plt.xlabel('clutter score (meters-squared)')\n",
    "\n",
    "plt.show();"
   ]
  },
  {
   "cell_type": "code",
   "execution_count": 311,
   "metadata": {},
   "outputs": [
    {
     "data": {
      "text/plain": [
       "146"
      ]
     },
     "execution_count": 311,
     "metadata": {},
     "output_type": "execute_result"
    }
   ],
   "source": [
    "len(clutter_size)"
   ]
  },
  {
   "cell_type": "code",
   "execution_count": 310,
   "metadata": {},
   "outputs": [
    {
     "name": "stdout",
     "output_type": "stream",
     "text": [
      "Correlation between Average Linear Model Residuals and GP Clutter\n",
      "(-0.1115398291520184, 0.1801339418991115)\n",
      "\n",
      "Correlation between All Linear Model Residuals and GP Clutter\n"
     ]
    },
    {
     "ename": "ValueError",
     "evalue": "x and y must have the same length.",
     "output_type": "error",
     "traceback": [
      "\u001b[0;31m---------------------------------------------------------------------------\u001b[0m",
      "\u001b[0;31mValueError\u001b[0m                                Traceback (most recent call last)",
      "\u001b[0;32m<ipython-input-310-063162cae5d2>\u001b[0m in \u001b[0;36m<module>\u001b[0;34m\u001b[0m\n\u001b[1;32m      6\u001b[0m \u001b[0;34m\u001b[0m\u001b[0m\n\u001b[1;32m      7\u001b[0m \u001b[0mprint\u001b[0m\u001b[0;34m(\u001b[0m\u001b[0;34m'Correlation between All Linear Model Residuals and GP Clutter'\u001b[0m\u001b[0;34m)\u001b[0m\u001b[0;34m\u001b[0m\u001b[0;34m\u001b[0m\u001b[0m\n\u001b[0;32m----> 8\u001b[0;31m \u001b[0mprint\u001b[0m\u001b[0;34m(\u001b[0m\u001b[0mstats\u001b[0m\u001b[0;34m.\u001b[0m\u001b[0mpearsonr\u001b[0m\u001b[0;34m(\u001b[0m\u001b[0mtrunc_resid_125\u001b[0m \u001b[0;34m+\u001b[0m \u001b[0mtrunc_resid_250\u001b[0m \u001b[0;34m+\u001b[0m \u001b[0mtrunc_resid_1000\u001b[0m\u001b[0;34m,\u001b[0m \u001b[0mclutter_size\u001b[0m\u001b[0;34m*\u001b[0m\u001b[0;36m3\u001b[0m\u001b[0;34m)\u001b[0m\u001b[0;34m)\u001b[0m\u001b[0;34m\u001b[0m\u001b[0;34m\u001b[0m\u001b[0m\n\u001b[0m\u001b[1;32m      9\u001b[0m \u001b[0;34m\u001b[0m\u001b[0m\n\u001b[1;32m     10\u001b[0m \u001b[0mprint\u001b[0m\u001b[0;34m(\u001b[0m\u001b[0;34m)\u001b[0m\u001b[0;34m\u001b[0m\u001b[0;34m\u001b[0m\u001b[0m\n",
      "\u001b[0;32m~/opt/anaconda3/envs/defaultenv/lib/python3.7/site-packages/scipy/stats/stats.py\u001b[0m in \u001b[0;36mpearsonr\u001b[0;34m(x, y)\u001b[0m\n\u001b[1;32m   3387\u001b[0m     \u001b[0mn\u001b[0m \u001b[0;34m=\u001b[0m \u001b[0mlen\u001b[0m\u001b[0;34m(\u001b[0m\u001b[0mx\u001b[0m\u001b[0;34m)\u001b[0m\u001b[0;34m\u001b[0m\u001b[0;34m\u001b[0m\u001b[0m\n\u001b[1;32m   3388\u001b[0m     \u001b[0;32mif\u001b[0m \u001b[0mn\u001b[0m \u001b[0;34m!=\u001b[0m \u001b[0mlen\u001b[0m\u001b[0;34m(\u001b[0m\u001b[0my\u001b[0m\u001b[0;34m)\u001b[0m\u001b[0;34m:\u001b[0m\u001b[0;34m\u001b[0m\u001b[0;34m\u001b[0m\u001b[0m\n\u001b[0;32m-> 3389\u001b[0;31m         \u001b[0;32mraise\u001b[0m \u001b[0mValueError\u001b[0m\u001b[0;34m(\u001b[0m\u001b[0;34m'x and y must have the same length.'\u001b[0m\u001b[0;34m)\u001b[0m\u001b[0;34m\u001b[0m\u001b[0;34m\u001b[0m\u001b[0m\n\u001b[0m\u001b[1;32m   3390\u001b[0m \u001b[0;34m\u001b[0m\u001b[0m\n\u001b[1;32m   3391\u001b[0m     \u001b[0;32mif\u001b[0m \u001b[0mn\u001b[0m \u001b[0;34m<\u001b[0m \u001b[0;36m2\u001b[0m\u001b[0;34m:\u001b[0m\u001b[0;34m\u001b[0m\u001b[0;34m\u001b[0m\u001b[0m\n",
      "\u001b[0;31mValueError\u001b[0m: x and y must have the same length."
     ]
    }
   ],
   "source": [
    "# corr, p-value\n",
    "print('Correlation between Average Linear Model Residuals and GP Clutter')\n",
    "print(stats.pearsonr(np.mean([trunc_resid_125, trunc_resid_250, trunc_resid_1000], axis=0), clutter_size))\n",
    "\n",
    "print()\n",
    "\n",
    "print('Correlation between All Linear Model Residuals and GP Clutter')\n",
    "print(stats.pearsonr(trunc_resid_125 + trunc_resid_250 + trunc_resid_1000, clutter_size*3))\n",
    "\n",
    "print()\n",
    "\n",
    "print('Correlation between Average Linear Model Residuals and GP Clutter')\n",
    "print(stats.pearsonr(np.mean([trunc_resid_125, trunc_resid_250, trunc_resid_1000], axis=0), clutter_size))\n",
    "\n",
    "print()\n",
    "\n",
    "print('Correlation between All Linear Model Residuals and GP Clutter')\n",
    "print(stats.pearsonr(trunc_resid_125 + trunc_resid_250 + trunc_resid_1000, clutter_size*3))"
   ]
  },
  {
   "cell_type": "code",
   "execution_count": 307,
   "metadata": {},
   "outputs": [
    {
     "name": "stdout",
     "output_type": "stream",
     "text": [
      "Correlation between Linear Model Residuals and Clutter(size)\n",
      "125 ms:  (-0.11753589746487046, 0.15768908520826339)\n",
      "250 ms:  (-0.085309863770998, 0.30592481319921444)\n",
      "1000 ms:  (-0.12367523919935568, 0.13695024255743518)\n"
     ]
    }
   ],
   "source": [
    "# corr, p-value\n",
    "print('Correlation between Linear Model Residuals and Clutter(size)')\n",
    "print('125 ms: ',stats.pearsonr(trunc_resid_125, clutter_size))\n",
    "print('250 ms: ',stats.pearsonr(trunc_resid_250, clutter_size))\n",
    "print('1000 ms: ',stats.pearsonr(trunc_resid_1000, clutter_size))"
   ]
  },
  {
   "cell_type": "code",
   "execution_count": 308,
   "metadata": {},
   "outputs": [
    {
     "name": "stdout",
     "output_type": "stream",
     "text": [
      "Correlation between Abs Linear Model Residuals and Clutter(size)\n",
      "125 ms:  (0.21593931577518033, 0.008851505483242187)\n",
      "250 ms:  (0.2566392505778625, 0.0017667692507990981)\n",
      "1000 ms:  (0.24391765332985527, 0.00300837250814679)\n"
     ]
    }
   ],
   "source": [
    "# corr, p-value\n",
    "print('Correlation between Abs Linear Model Residuals and Clutter(size)')\n",
    "print('125 ms: ',stats.pearsonr(np.abs(trunc_resid_125), clutter_size))\n",
    "print('250 ms: ',stats.pearsonr(np.abs(trunc_resid_250), clutter_size))\n",
    "print('1000 ms: ',stats.pearsonr(np.abs(trunc_resid_1000), clutter_size))"
   ]
  },
  {
   "cell_type": "code",
   "execution_count": 309,
   "metadata": {},
   "outputs": [
    {
     "name": "stdout",
     "output_type": "stream",
     "text": [
      "m: [-0.00537633]\n",
      "b: 0.062235813501440744\n",
      "R-squared:  0.015295564791017903\n"
     ]
    },
    {
     "data": {
      "text/plain": [
       "0.015"
      ]
     },
     "execution_count": 309,
     "metadata": {},
     "output_type": "execute_result"
    },
    {
     "data": {
      "image/png": "[encoded data removed]",
      "text/plain": [
       "<Figure size 576x576 with 1 Axes>"
      ]
     },
     "metadata": {
      "needs_background": "light"
     },
     "output_type": "display_data"
    }
   ],
   "source": [
    "\n",
    "fig, ax = plt.subplots(figsize=[8,8])\n",
    "ax.spines['right'].set_visible(False)\n",
    "\n",
    "ax.spines['top'].set_visible(False)\n",
    "\n",
    "#run regression\n",
    "X = np.array(clutter_size).reshape(-1,1)\n",
    "y = trunc_resid_1000\n",
    "reg = LinearRegression().fit(X, y)\n",
    "\n",
    "#Generated Predictions\n",
    "y_predicted = reg.predict(X)\n",
    "#Plot Our Actual and Predicted Values\n",
    "plt.plot(X, y, 'o', color='darkviolet', alpha = 0.5);\n",
    "plt.plot(X,y_predicted,color='darkviolet', label = 'm = ' + str(round(reg.coef_[0], 3))\n",
    "         + '     r-squared = ' + str(round(float(reg.score(X, y)), 3)))\n",
    "plt.title(\"1000 ms\", fontsize = 20)\n",
    "plt.xlabel(\"Clutter Score\", fontsize = 15)\n",
    "plt.ylabel(\"Linear Model Residuals\", fontsize = 15)\n",
    "\n",
    "legend = plt.legend(loc = 0, fontsize = 13, borderpad = 0.6, labelspacing = 1)\n",
    "legend.get_frame().set_facecolor('lightgray')\n",
    "\n",
    "\n",
    "#get coefficients and y intercept\n",
    "print(\"m: {0}\".format(reg.coef_))\n",
    "print(\"b: {0}\".format(reg.intercept_))\n",
    "\n",
    "#Returns the coefficient of determination R^2 of the prediction.\n",
    "print(\"R-squared: \", reg.score(X, y))\n",
    "\n",
    "round(float(reg.score(X, y)), 3)"
   ]
  },
  {
   "cell_type": "code",
   "execution_count": null,
   "metadata": {},
   "outputs": [],
   "source": []
  },
  {
   "cell_type": "code",
   "execution_count": null,
   "metadata": {},
   "outputs": [],
   "source": []
  },
  {
   "attachments": {
    "f7184a31-b18a-4078-814b-1301d247f2e8.png": {
     "image/png": "[encoded data removed]"
    }
   },
   "cell_type": "markdown",
   "metadata": {},
   "source": [
    "# Extrinsics\n",
    "\n",
    "![1OFpX.png](attachment:f7184a31-b18a-4078-814b-1301d247f2e8.png)"
   ]
  },
  {
   "cell_type": "code",
   "execution_count": 229,
   "metadata": {},
   "outputs": [],
   "source": [
    "#converts the rotation matrix in extrinsics.txt from string to a numpy array \n",
    "def rotationmatrix(matrix_path):\n",
    "    matrixtext = open(matrix_path).read()\n",
    "    \n",
    "    x00 = float(matrixtext.split('\\t')[0].split(' ')[0])\n",
    "    x01 = float(matrixtext.split('\\n')[0].split(' ')[1])\n",
    "    x02 = float(matrixtext.split('\\n')[0].split(' ')[2])\n",
    "    \n",
    "    x10 = float(matrixtext.split('\\n')[1].split(' ')[0])\n",
    "    x11 = float(matrixtext.split('\\n')[1].split(' ')[1])\n",
    "    x12 = float(matrixtext.split('\\n')[1].split(' ')[2])\n",
    "    \n",
    "    x20 = float(matrixtext.split('\\n')[2].split(' ')[0])\n",
    "    x21 = float(matrixtext.split('\\n')[2].split(' ')[1])\n",
    "    x22 = float(matrixtext.split('\\n')[2].split(' ')[2])\n",
    "    \n",
    "    #list of the matrix values excluding the 3rd column of just zeroes \n",
    "    matrixlist = [[x00, x01, x02], [x10, x11, x12], [x20, x21, x22]]\n",
    "    \n",
    "    #creates 3x3 array of the rotation matrix\n",
    "    matrixarray = np.full((3,3), matrixlist)\n",
    "    \n",
    "    return matrixarray\n",
    "\n",
    "def rotationMatrixToEulerAngles(path):\n",
    "    R = rotationmatrix(path)\n",
    "    #assert(isRotationMatrix(R))\n",
    "    sy = math.sqrt(R[0,0] * R[0,0] +  R[1,0] * R[1,0])\n",
    "    singular = sy < 1e-6\n",
    "    if  not singular :\n",
    "        x = math.atan2(R[2,1] , R[2,2])\n",
    "        y = math.atan2(-R[2,0], sy)\n",
    "        z = math.atan2(R[1,0], R[0,0])\n",
    "    else :\n",
    "        x = math.atan2(-R[1,2], R[1,1])\n",
    "        y = math.atan2(-R[2,0], sy)\n",
    "        z = 0\n",
    "    return np.array([x, y, z])\n",
    "\n",
    "# Output - final pitch, roll, yaw values in radians and degrees \n",
    "def imageExtrinsics(path):\n",
    "    in_array = rotationMatrixToEulerAngles(path)\n",
    "    #print (\"Radian values : \\n\", in_array) \n",
    "\n",
    "    degree_Values = np.degrees(in_array) \n",
    "    \n",
    "    return degree_Values[0], degree_Values[1], degree_Values[2]\n",
    "\n",
    "\n",
    "def extrinsics_distribution(path, kinectv2):\n",
    "    targetfolder = path.split('/')[1]\n",
    "    if len(targetfolder) == 59:     \n",
    "        imagefolder = path.split('/')[1][:-2]\n",
    "    else:\n",
    "        imagefolder = path.split('/')[1][:-3]\n",
    "\n",
    "    extpath = kinectv2 + '/' + imagefolder + '/extrinsics' \n",
    "    fname = os.listdir(extpath)[0]\n",
    "    if fname != '.ipynb_checkpoints':\n",
    "        extrinsics = imageExtrinsics(extpath + '/' + fname)\n",
    "    # pitch, roll, yaw\n",
    "    return extrinsics[0], extrinsics[1], extrinsics[2]"
   ]
  },
  {
   "cell_type": "code",
   "execution_count": 230,
   "metadata": {},
   "outputs": [],
   "source": [
    "kinectv2_path = '/Users/pmahableshwarkar/Documents/Depth_Project/SUNRGBD/kinect2data_192'\n",
    "# kinectv2_path = '/Users/prachimahableshwarkar/Documents/GW/SUNRGBD/updated/kinect2data_192'\n",
    "# line comprehension for x(stim path) in final_x \n",
    "\n",
    "pitches = [extrinsics_distribution(path, kinectv2_path)[0] for path in stim_250]\n",
    "rolls = [extrinsics_distribution(path, kinectv2_path)[1] for path in stim_250]\n",
    "yaws = [extrinsics_distribution(path, kinectv2_path)[2] for path in stim_250]\n",
    "\n"
   ]
  },
  {
   "cell_type": "code",
   "execution_count": 231,
   "metadata": {},
   "outputs": [],
   "source": [
    "trunc_pitches = []\n",
    "trunc_rolls = []\n",
    "trunc_yaws = []\n",
    "\n",
    "for i in range(len(ordered_gp_metrics)):\n",
    "    metrics = ordered_gp_metrics[i]\n",
    "    if type(metrics) == list:\n",
    "        trunc_pitches.append(pitches[i])\n",
    "        trunc_rolls.append(rolls[i])\n",
    "        trunc_yaws.append(yaws[i])"
   ]
  },
  {
   "cell_type": "code",
   "execution_count": 232,
   "metadata": {},
   "outputs": [
    {
     "name": "stdout",
     "output_type": "stream",
     "text": [
      "Correlation between Complete Ground Plane and Pitch\n",
      "(-0.24556062057426326, 0.00200267048192746)\n"
     ]
    }
   ],
   "source": [
    "print('Correlation between Complete Ground Plane and Pitch')\n",
    "print(stats.pearsonr(trunc_gp, trunc_pitches))"
   ]
  },
  {
   "cell_type": "code",
   "execution_count": 233,
   "metadata": {},
   "outputs": [
    {
     "name": "stdout",
     "output_type": "stream",
     "text": [
      "Correlation between Complete Ground Plane and Roll\n",
      "(0.10249815887246476, 0.20292515242437625)\n"
     ]
    }
   ],
   "source": [
    "print('Correlation between Complete Ground Plane and Roll')\n",
    "print(stats.pearsonr(trunc_gp, trunc_rolls))"
   ]
  },
  {
   "cell_type": "code",
   "execution_count": 234,
   "metadata": {},
   "outputs": [
    {
     "name": "stdout",
     "output_type": "stream",
     "text": [
      "Correlation between Complete Ground Plane and Yaw\n",
      "(0.06637340997880946, 0.4103688725357515)\n"
     ]
    }
   ],
   "source": [
    "print('Correlation between Complete Ground Plane and Yaw')\n",
    "print(stats.pearsonr(trunc_gp, trunc_yaws))"
   ]
  },
  {
   "cell_type": "code",
   "execution_count": null,
   "metadata": {},
   "outputs": [],
   "source": []
  },
  {
   "cell_type": "code",
   "execution_count": 235,
   "metadata": {},
   "outputs": [
    {
     "name": "stdout",
     "output_type": "stream",
     "text": [
      "m: [-0.00629131]\n",
      "b: 0.3686413906910721\n",
      "R-squared:  0.0603000183768172\n"
     ]
    },
    {
     "data": {
      "text/plain": [
       "0.06"
      ]
     },
     "execution_count": 235,
     "metadata": {},
     "output_type": "execute_result"
    },
    {
     "data": {
      "image/png": "[encoded data removed]",
      "text/plain": [
       "<Figure size 504x504 with 1 Axes>"
      ]
     },
     "metadata": {
      "needs_background": "light"
     },
     "output_type": "display_data"
    }
   ],
   "source": [
    "plt.figure(figsize = [7,7])\n",
    "#run regression\n",
    "X = np.array(trunc_pitches).reshape(-1,1)\n",
    "y = np.abs(trunc_gp)\n",
    "reg = LinearRegression().fit(X, y)\n",
    "\n",
    "#Generated Predictions\n",
    "y_predicted = reg.predict(X)\n",
    "#Plot Our Actual and Predicted Values\n",
    "plt.plot(X, y, 'o', color='darkgreen', alpha = 0.3, marker = 'o');\n",
    "plt.plot(X,y_predicted,color='darkgreen', label = 'm = ' + str(round(reg.coef_[0], 3))\n",
    "         + '     r-squared = ' + str(round(float(reg.score(X, y)), 3)))\n",
    "plt.title(\"Complete Ground Plane x Pitch\", fontsize = 20)\n",
    "plt.xlabel(\"Pitch\", fontsize = 15)\n",
    "plt.ylabel(\"Complete Ground Plane\", fontsize = 15)\n",
    "\n",
    "legend = plt.legend(loc = 0, fontsize = 13, borderpad = 0.6, labelspacing = 1)\n",
    "legend.get_frame().set_facecolor('lightgray')\n",
    "\n",
    "\n",
    "#get coefficients and y intercept\n",
    "print(\"m: {0}\".format(reg.coef_))\n",
    "print(\"b: {0}\".format(reg.intercept_))\n",
    "\n",
    "#Returns the coefficient of determination R^2 of the prediction.\n",
    "print(\"R-squared: \", reg.score(X, y))\n",
    "\n",
    "round(float(reg.score(X, y)), 3)"
   ]
  },
  {
   "cell_type": "code",
   "execution_count": null,
   "metadata": {},
   "outputs": [],
   "source": []
  },
  {
   "cell_type": "code",
   "execution_count": 236,
   "metadata": {},
   "outputs": [
    {
     "name": "stdout",
     "output_type": "stream",
     "text": [
      "Correlation between Complete Ground Plane and Pitch\n"
     ]
    },
    {
     "ename": "ValueError",
     "evalue": "x and y must have the same length.",
     "output_type": "error",
     "traceback": [
      "\u001b[0;31m---------------------------------------------------------------------------\u001b[0m",
      "\u001b[0;31mValueError\u001b[0m                                Traceback (most recent call last)",
      "\u001b[0;32m<ipython-input-236-52269013b942>\u001b[0m in \u001b[0;36m<module>\u001b[0;34m\u001b[0m\n\u001b[1;32m      1\u001b[0m \u001b[0mprint\u001b[0m\u001b[0;34m(\u001b[0m\u001b[0;34m'Correlation between Complete Ground Plane and Pitch'\u001b[0m\u001b[0;34m)\u001b[0m\u001b[0;34m\u001b[0m\u001b[0;34m\u001b[0m\u001b[0m\n\u001b[0;32m----> 2\u001b[0;31m \u001b[0mprint\u001b[0m\u001b[0;34m(\u001b[0m\u001b[0mstats\u001b[0m\u001b[0;34m.\u001b[0m\u001b[0mpearsonr\u001b[0m\u001b[0;34m(\u001b[0m\u001b[0mtrunc_gpSize\u001b[0m\u001b[0;34m,\u001b[0m \u001b[0mtrunc_pitches\u001b[0m\u001b[0;34m)\u001b[0m\u001b[0;34m)\u001b[0m\u001b[0;34m\u001b[0m\u001b[0;34m\u001b[0m\u001b[0m\n\u001b[0m",
      "\u001b[0;32m~/opt/anaconda3/envs/defaultenv/lib/python3.7/site-packages/scipy/stats/stats.py\u001b[0m in \u001b[0;36mpearsonr\u001b[0;34m(x, y)\u001b[0m\n\u001b[1;32m   4011\u001b[0m     \u001b[0mn\u001b[0m \u001b[0;34m=\u001b[0m \u001b[0mlen\u001b[0m\u001b[0;34m(\u001b[0m\u001b[0mx\u001b[0m\u001b[0;34m)\u001b[0m\u001b[0;34m\u001b[0m\u001b[0;34m\u001b[0m\u001b[0m\n\u001b[1;32m   4012\u001b[0m     \u001b[0;32mif\u001b[0m \u001b[0mn\u001b[0m \u001b[0;34m!=\u001b[0m \u001b[0mlen\u001b[0m\u001b[0;34m(\u001b[0m\u001b[0my\u001b[0m\u001b[0;34m)\u001b[0m\u001b[0;34m:\u001b[0m\u001b[0;34m\u001b[0m\u001b[0;34m\u001b[0m\u001b[0m\n\u001b[0;32m-> 4013\u001b[0;31m         \u001b[0;32mraise\u001b[0m \u001b[0mValueError\u001b[0m\u001b[0;34m(\u001b[0m\u001b[0;34m'x and y must have the same length.'\u001b[0m\u001b[0;34m)\u001b[0m\u001b[0;34m\u001b[0m\u001b[0;34m\u001b[0m\u001b[0m\n\u001b[0m\u001b[1;32m   4014\u001b[0m \u001b[0;34m\u001b[0m\u001b[0m\n\u001b[1;32m   4015\u001b[0m     \u001b[0;32mif\u001b[0m \u001b[0mn\u001b[0m \u001b[0;34m<\u001b[0m \u001b[0;36m2\u001b[0m\u001b[0;34m:\u001b[0m\u001b[0;34m\u001b[0m\u001b[0;34m\u001b[0m\u001b[0m\n",
      "\u001b[0;31mValueError\u001b[0m: x and y must have the same length."
     ]
    }
   ],
   "source": [
    "print('Correlation between Complete Ground Plane and Pitch')\n",
    "print(stats.pearsonr(trunc_gpSize, trunc_pitches))"
   ]
  },
  {
   "cell_type": "code",
   "execution_count": 233,
   "metadata": {},
   "outputs": [
    {
     "name": "stdout",
     "output_type": "stream",
     "text": [
      "Correlation between Complete Ground Plane and Roll\n",
      "(0.10249815887246476, 0.20292515242437625)\n"
     ]
    }
   ],
   "source": [
    "print('Correlation between Complete Ground Plane and Roll')\n",
    "print(stats.pearsonr(trunc_gpSize, trunc_rolls))"
   ]
  },
  {
   "cell_type": "code",
   "execution_count": 234,
   "metadata": {},
   "outputs": [
    {
     "name": "stdout",
     "output_type": "stream",
     "text": [
      "Correlation between Complete Ground Plane and Yaw\n",
      "(0.06637340997880946, 0.4103688725357515)\n"
     ]
    }
   ],
   "source": [
    "print('Correlation between Complete Ground Plane and Yaw')\n",
    "print(stats.pearsonr(trunc_gpSize, trunc_yaws))"
   ]
  },
  {
   "cell_type": "code",
   "execution_count": 38,
   "metadata": {},
   "outputs": [
    {
     "name": "stdout",
     "output_type": "stream",
     "text": [
      "m: [-0.00629131]\n",
      "b: 0.36864139069107216\n",
      "R-squared:  0.0603000183768172\n"
     ]
    },
    {
     "data": {
      "text/plain": [
       "0.06"
      ]
     },
     "execution_count": 38,
     "metadata": {},
     "output_type": "execute_result"
    },
    {
     "data": {
      "image/png": "[encoded data removed]",
      "text/plain": [
       "<Figure size 504x504 with 1 Axes>"
      ]
     },
     "metadata": {
      "needs_background": "light"
     },
     "output_type": "display_data"
    }
   ],
   "source": [
    "plt.figure(figsize = [7,7])\n",
    "#run regression\n",
    "X = np.array(trunc_pitches).reshape(-1,1)\n",
    "y = np.abs(trunc_gp)\n",
    "reg = LinearRegression().fit(X, y)\n",
    "\n",
    "#Generated Predictions\n",
    "y_predicted = reg.predict(X)\n",
    "#Plot Our Actual and Predicted Values\n",
    "plt.plot(X, y, 'o', color='darkgreen', alpha = 0.3, marker = 'o');\n",
    "plt.plot(X,y_predicted,color='darkgreen', label = 'm = ' + str(round(reg.coef_[0], 3))\n",
    "         + '     r-squared = ' + str(round(float(reg.score(X, y)), 3)))\n",
    "plt.title(\"Complete Ground Plane x Pitch\", fontsize = 20)\n",
    "plt.xlabel(\"Pitch\", fontsize = 15)\n",
    "plt.ylabel(\"Complete Ground Plane\", fontsize = 15)\n",
    "\n",
    "legend = plt.legend(loc = 0, fontsize = 13, borderpad = 0.6, labelspacing = 1)\n",
    "legend.get_frame().set_facecolor('lightgray')\n",
    "\n",
    "\n",
    "#get coefficients and y intercept\n",
    "print(\"m: {0}\".format(reg.coef_))\n",
    "print(\"b: {0}\".format(reg.intercept_))\n",
    "\n",
    "#Returns the coefficient of determination R^2 of the prediction.\n",
    "print(\"R-squared: \", reg.score(X, y))\n",
    "\n",
    "round(float(reg.score(X, y)), 3)"
   ]
  }
 ],
 "metadata": {
  "kernelspec": {
   "display_name": "Python 3",
   "language": "python",
   "name": "python3"
  },
  "language_info": {
   "codemirror_mode": {
    "name": "ipython",
    "version": 3
   },
   "file_extension": ".py",
   "mimetype": "text/x-python",
   "name": "python",
   "nbconvert_exporter": "python",
   "pygments_lexer": "ipython3",
   "version": "3.7.5"
  }
 },
 "nbformat": 4,
 "nbformat_minor": 4
}
