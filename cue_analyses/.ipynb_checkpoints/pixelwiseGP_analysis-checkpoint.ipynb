{
 "cells": [
  {
   "cell_type": "markdown",
   "metadata": {},
   "source": [
    "# Pixelwise Visible Ground Plane and Complete Ground Plane"
   ]
  },
  {
   "cell_type": "code",
   "execution_count": 1,
   "metadata": {},
   "outputs": [],
   "source": [
    "import os\n",
    "import numpy as np\n",
    "import pandas as pd\n",
    "import scipy\n",
    "import path \n",
    "from matplotlib import pyplot as plt\n",
    "import json\n",
    "from PIL import Image, ImageStat\n",
    "from sklearn.linear_model import LinearRegression\n",
    "from scipy import stats\n",
    "import math"
   ]
  },
  {
   "cell_type": "markdown",
   "metadata": {},
   "source": [
    "## Load VE Behavioral Data"
   ]
  },
  {
   "cell_type": "code",
   "execution_count": 2,
   "metadata": {},
   "outputs": [],
   "source": [
    "\n",
    "dpath = '/Users/prachimahableshwarkar/Documents/GW/Depth_MTurk/verbal_judgement_analysis/data/finalVEMatched/z_scored/'\n",
    "\n",
    "# dpath = '/Users/pmahableshwarkar/Documents/Depth_Project/verbal_judgement_analysis/data/finalVEMatched/z_scored/'\n",
    "\n",
    "\n",
    "# stim \n",
    "with open(dpath + 'z_final_stim_125.npy' , 'rb') as f:\n",
    "    stim_125 = np.load(f, allow_pickle=True)\n",
    "    \n",
    "with open(dpath + 'z_final_stim_250.npy' , 'rb') as f:\n",
    "    stim_250 = np.load(f, allow_pickle=True)\n",
    "\n",
    "with open(dpath + 'z_final_stim_1000.npy' , 'rb') as f:\n",
    "    stim_1000 = np.load(f, allow_pickle=True)\n",
    "    \n",
    "# std \n",
    "with open(dpath + 'z_std_125.npy' , 'rb') as f:\n",
    "    std_125 = np.load(f, allow_pickle=True)\n",
    "    \n",
    "with open(dpath + 'z_std_250.npy' , 'rb') as f:\n",
    "    std_250 = np.load(f, allow_pickle=True)\n",
    "\n",
    "with open(dpath + 'z_std_1000.npy' , 'rb') as f:\n",
    "    std_1000 = np.load(f, allow_pickle=True)\n",
    "\n",
    "# x data\n",
    "with open(dpath + 'X_125.npy' , 'rb') as f:\n",
    "    X_125 = np.load(f, allow_pickle=True)\n",
    "with open(dpath + 'X_250.npy' , 'rb') as f:\n",
    "    X_250 = np.load(f, allow_pickle=True)\n",
    "with open(dpath + 'X_1000.npy' , 'rb') as f:\n",
    "    X_1000 = np.load(f, allow_pickle=True)\n",
    "\n",
    "# y data \n",
    "with open(dpath + 'z_final_y_125.npy' , 'rb') as f:\n",
    "    y_125 = np.load(f, allow_pickle=True)\n",
    "with open(dpath + 'z_final_y_250.npy' , 'rb') as f:\n",
    "    y_250 = np.load(f, allow_pickle=True) \n",
    "with open(dpath + 'z_final_y_1000.npy' , 'rb') as f:\n",
    "    y_1000= np.load(f, allow_pickle=True)\n",
    "    \n",
    "# residuals\n",
    "\n",
    "with open(dpath + 'residuals/'+ 'z_residuals_125.npy' , 'rb') as f:\n",
    "    residuals_125 = np.load(f, allow_pickle=True)\n",
    "with open(dpath + 'residuals/'+ 'z_residuals_250.npy' , 'rb') as f:\n",
    "    residuals_250 = np.load(f, allow_pickle=True) \n",
    "with open(dpath + 'residuals/'+ 'z_residuals_1000.npy' , 'rb') as f:\n",
    "    residuals_1000= np.load(f, allow_pickle=True)\n",
    "    \n"
   ]
  },
  {
   "cell_type": "markdown",
   "metadata": {},
   "source": [
    "## Load Discrimination Derived TD (target depth) data"
   ]
  },
  {
   "cell_type": "code",
   "execution_count": 3,
   "metadata": {},
   "outputs": [],
   "source": [
    "dpath = '/Users/prachimahableshwarkar/Documents/GW/Depth_MTurk/depth_discrimination/data/finalDiscrimMatched/kinectCoded_discrimination/discrimination_derived_TD/'\n",
    "\n",
    "\n",
    "with open(dpath + 'stim.npy' , 'rb') as f:\n",
    "    derivedTD_stim = np.load(f, allow_pickle=True)\n",
    "derivedTD_stim = [elem.split('/')[1][:-2] for elem in derivedTD_stim]\n",
    "\n",
    "    \n",
    "with open(dpath + 'derivedTD_125.npy' , 'rb') as f:\n",
    "    _derivedTD_125 = np.load(f, allow_pickle=True) \n",
    "with open(dpath + 'derivedTD_250.npy' , 'rb') as f:\n",
    "    _derivedTD_250 = np.load(f, allow_pickle=True) \n",
    "with open(dpath + 'derivedTD_1000.npy' , 'rb') as f:\n",
    "    _derivedTD_1000 = np.load(f, allow_pickle=True) \n",
    "    \n",
    "with open(dpath + 'residuals_derivedTD_125.npy' , 'rb') as f:\n",
    "    _residuals_derivedTD_125 = np.load(f, allow_pickle=True) \n",
    "with open(dpath + 'residuals_derivedTD_250.npy' , 'rb') as f:\n",
    "    _residuals_derivedTD_250 = np.load(f, allow_pickle=True) \n",
    "with open(dpath + 'residuals_derivedTD_1000.npy' , 'rb') as f:\n",
    "    _residuals_derivedTD_1000 = np.load(f, allow_pickle=True) \n",
    "    "
   ]
  },
  {
   "cell_type": "markdown",
   "metadata": {},
   "source": [
    "## Load Discrimination Derived VE  Data"
   ]
  },
  {
   "cell_type": "code",
   "execution_count": 74,
   "metadata": {},
   "outputs": [],
   "source": [
    "dpath = '/Users/prachimahableshwarkar/Documents/GW/Depth_MTurk/depth_discrimination/data/finalDiscrimMatched/discrimination_derived_VE/'\n",
    "\n",
    "with open(dpath + 'stimuli_125.npy' , 'rb') as f:\n",
    "    derivedVE_stim_125 = np.load(f, allow_pickle=True)\n",
    "derivedVE_stim_125 = [elem.split('/')[1][:-2] for elem in derivedVE_stim_125]\n",
    "\n",
    "with open(dpath + 'stimuli_250.npy' , 'rb') as f:\n",
    "    derivedVE_stim_250 = np.load(f, allow_pickle=True)\n",
    "derivedVE_stim_250 = [elem.split('/')[1][:-2] for elem in derivedVE_stim_250]\n",
    "\n",
    "with open(dpath + 'stimuli_1000.npy' , 'rb') as f:\n",
    "    derivedVE_stim_1000 = np.load(f, allow_pickle=True)\n",
    "derivedVE_stim_1000 = [elem.split('/')[1][:-2] for elem in derivedVE_stim_1000]\n",
    "\n",
    "    \n",
    "with open(dpath + 'derivedVE_125.npy' , 'rb') as f:\n",
    "    _derivedVE_125 = np.load(f, allow_pickle=True) \n",
    "with open(dpath + 'derivedVE_250.npy' , 'rb') as f:\n",
    "    _derivedVE_250 = np.load(f, allow_pickle=True) \n",
    "with open(dpath + 'derivedVE_1000.npy' , 'rb') as f:\n",
    "    _derivedVE_1000 = np.load(f, allow_pickle=True) \n",
    "    \n",
    "with open(dpath + 'residuals_derivedVE_125.npy' , 'rb') as f:\n",
    "    _residuals_derivedVE_125 = np.load(f, allow_pickle=True) \n",
    "with open(dpath + 'residuals_derivedVE_250.npy' , 'rb') as f:\n",
    "    _residuals_derivedVE_250 = np.load(f, allow_pickle=True) \n",
    "with open(dpath + 'residuals_derivedVE_1000.npy' , 'rb') as f:\n",
    "    _residuals_derivedVE_1000 = np.load(f, allow_pickle=True) \n",
    "    "
   ]
  },
  {
   "cell_type": "markdown",
   "metadata": {},
   "source": [
    "## Data arrays must be in the same stimulus order as the VE behavioral data"
   ]
  },
  {
   "cell_type": "code",
   "execution_count": 75,
   "metadata": {},
   "outputs": [],
   "source": [
    "derivedVE_dict_125 = {}\n",
    "derivedVE_dict_250 = {}\n",
    "derivedVE_dict_1000 = {}\n",
    "\n",
    "for i in range(len(derivedVE_stim_125)):\n",
    "    derivedVE_dict_125[derivedVE_stim_125[i]] = [_derivedVE_125[i], _residuals_derivedVE_125[i]]\n",
    "    \n",
    "for i in range(len(derivedVE_stim_250)):\n",
    "    derivedVE_dict_250[derivedVE_stim_250[i]] = [_derivedVE_250[i], _residuals_derivedVE_250[i]]\n",
    "    \n",
    "for i in range(len(derivedVE_stim_1000)):\n",
    "    derivedVE_dict_1000[derivedVE_stim_1000[i]] = [_derivedVE_1000[i], _residuals_derivedVE_1000[i]]"
   ]
  },
  {
   "cell_type": "code",
   "execution_count": 76,
   "metadata": {},
   "outputs": [
    {
     "data": {
      "text/plain": [
       "'002272_2014-06-28_18-53-56_260595134347_rgbf000067-resize'"
      ]
     },
     "execution_count": 76,
     "metadata": {},
     "output_type": "execute_result"
    }
   ],
   "source": [
    "stimfolder_125 = [elem.split('/')[1][:-2] for elem in stim_125]\n",
    "stimfolder_250 = [elem.split('/')[1][:-2] for elem in stim_250]\n",
    "stimfolder_1000 = [elem.split('/')[1][:-2] for elem in stim_1000]\n",
    "stimfolder_250[0]"
   ]
  },
  {
   "cell_type": "code",
   "execution_count": null,
   "metadata": {},
   "outputs": [],
   "source": []
  },
  {
   "cell_type": "code",
   "execution_count": null,
   "metadata": {},
   "outputs": [],
   "source": [
    "\n"
   ]
  },
  {
   "cell_type": "code",
   "execution_count": 77,
   "metadata": {},
   "outputs": [
    {
     "data": {
      "text/plain": [
       "'002272_2014-06-28_18-53-56_260595134347_rgbf000067-resize'"
      ]
     },
     "execution_count": 77,
     "metadata": {},
     "output_type": "execute_result"
    }
   ],
   "source": [
    "stimfolder_125 = [elem.split('/')[1][:-2] for elem in stim_125]\n",
    "stimfolder_250 = [elem.split('/')[1][:-2] for elem in stim_250]\n",
    "stimfolder_1000 = [elem.split('/')[1][:-2] for elem in stim_1000]\n",
    "stimfolder_250[0]"
   ]
  },
  {
   "cell_type": "code",
   "execution_count": 78,
   "metadata": {},
   "outputs": [],
   "source": [
    "derivedTD_dict_125 = {}\n",
    "derivedTD_dict_250 = {}\n",
    "derivedTD_dict_1000 = {}\n",
    "\n",
    "for i in range(len(derivedTD_stim)):\n",
    "    derivedTD_dict_125[derivedTD_stim[i]] = [_derivedTD_125[i], _residuals_derivedTD_125[i]]\n",
    "    \n",
    "for i in range(len(derivedTD_stim)):\n",
    "    derivedTD_dict_250[derivedTD_stim[i]] = [_derivedTD_250[i], _residuals_derivedTD_250[i]]\n",
    "    \n",
    "for i in range(len(derivedTD_stim)):\n",
    "    derivedTD_dict_1000[derivedTD_stim[i]] = [_derivedTD_1000[i], _residuals_derivedTD_1000[i]]"
   ]
  },
  {
   "cell_type": "markdown",
   "metadata": {},
   "source": [
    "## Load Ground Plane Metrics: Pixel Sum"
   ]
  },
  {
   "cell_type": "code",
   "execution_count": 79,
   "metadata": {},
   "outputs": [],
   "source": [
    "path = '/Users/prachimahableshwarkar/Documents/GW/Depth_MTurk/SUN_scene_cue_coding/gp_metrics.json'\n",
    "# path = '/Users/pmahableshwarkar/Documents/Depth_Project/SUN_scene_cue_coding/gp_metrics.json'\n",
    "gp_metrics = json.load(open(path))\n",
    "# [percent_VGP_GP, percent_VGP_image, percent_GP_image]"
   ]
  },
  {
   "cell_type": "code",
   "execution_count": 80,
   "metadata": {},
   "outputs": [],
   "source": [
    "ordered_gp_metrics = []\n",
    "ordered_gp_metrics_folders = []\n",
    "c_none = 0\n",
    "for folder in stimfolder_250:\n",
    "    try:\n",
    "        ordered_gp_metrics.append(gp_metrics[folder])\n",
    "        ordered_gp_metrics_folders.append(folder)\n",
    "    except:\n",
    "        c_none += 1\n",
    "        ordered_gp_metrics.append(None)\n",
    "        ordered_gp_metrics_folders.append(None)"
   ]
  },
  {
   "cell_type": "code",
   "execution_count": 81,
   "metadata": {},
   "outputs": [
    {
     "data": {
      "text/plain": [
       "(156, 0)"
      ]
     },
     "execution_count": 81,
     "metadata": {},
     "output_type": "execute_result"
    }
   ],
   "source": [
    "len(ordered_gp_metrics), c_none"
   ]
  },
  {
   "cell_type": "code",
   "execution_count": null,
   "metadata": {},
   "outputs": [],
   "source": []
  },
  {
   "cell_type": "code",
   "execution_count": 82,
   "metadata": {},
   "outputs": [
    {
     "data": {
      "text/plain": [
       "156"
      ]
     },
     "execution_count": 82,
     "metadata": {},
     "output_type": "execute_result"
    }
   ],
   "source": [
    "actual_depth_values = []\n",
    "for i in range(len(stim_250)):\n",
    "    targetobj_num = stim_250[i].split('/')[1][-1]\n",
    "    folder = stimfolder_250[i]\n",
    "    p = '/Users/prachimahableshwarkar/Documents/GW/Depth_MTurk/depth_duration_stimuli/' + folder + \"_\" + targetobj_num\n",
    "#     p = '/Users/pmahableshwarkar/Documents/Depth_Project/final_stimuli/' + folder + '_' + targetobj_num\n",
    "    # JSON file\n",
    "    f = open (p + '/data.json', \"r\")\n",
    "    # Reading from file\n",
    "    data = json.loads(f.read())\n",
    "    depthval = data['objects'][0]['crossing_point'][0]['depth']\n",
    "    actual_depth_values.append(depthval)\n",
    "len(actual_depth_values)"
   ]
  },
  {
   "cell_type": "code",
   "execution_count": 83,
   "metadata": {},
   "outputs": [],
   "source": [
    "trunc_resid_125 = []\n",
    "trunc_resid_250 = []\n",
    "trunc_resid_1000 = []\n",
    "trunc_vgp_gp = []\n",
    "trunc_vgp = [] \n",
    "trunc_gp = []\n",
    "trunc_actual = []\n",
    "trunc_std_125 = []\n",
    "trunc_std_250 = []\n",
    "trunc_std_1000 = []\n",
    "\n",
    "for i in range(len(ordered_gp_metrics)):\n",
    "    metrics = ordered_gp_metrics[i]\n",
    "    if type(metrics) == list:\n",
    "        trunc_vgp_gp.append(metrics[0])\n",
    "        trunc_vgp.append(metrics[1])\n",
    "        trunc_gp.append(metrics[2])\n",
    "        \n",
    "        trunc_resid_125.append(residuals_125[i])\n",
    "        trunc_resid_250.append(residuals_250[i])\n",
    "        trunc_resid_1000.append(residuals_1000[i])\n",
    "        \n",
    "        trunc_actual.append(actual_depth_values[i])\n",
    "        \n",
    "        trunc_std_125.append(std_125[i])\n",
    "        trunc_std_250.append(std_250[i])\n",
    "        trunc_std_1000.append(std_1000[i])\n",
    "         \n"
   ]
  },
  {
   "cell_type": "code",
   "execution_count": 84,
   "metadata": {},
   "outputs": [
    {
     "data": {
      "text/plain": [
       "(156, 156, 156)"
      ]
     },
     "execution_count": 84,
     "metadata": {},
     "output_type": "execute_result"
    }
   ],
   "source": [
    "len(trunc_vgp_gp), len(trunc_resid_250), len(ordered_gp_metrics)"
   ]
  },
  {
   "cell_type": "code",
   "execution_count": 85,
   "metadata": {},
   "outputs": [],
   "source": [
    "# print(stats.pearsonr(trunc_resid_125, trunc_pitches))\n",
    "# print(stats.pearsonr(trunc_resid_250, trunc_pitches))\n",
    "# print(stats.pearsonr(trunc_resid_1000, trunc_pitches))"
   ]
  },
  {
   "cell_type": "code",
   "execution_count": 86,
   "metadata": {},
   "outputs": [
    {
     "data": {
      "text/plain": [
       "(array([ 8., 11., 15., 26., 28., 27., 21.,  9.,  5.,  6.]),\n",
       " array([0.00108785, 0.10127272, 0.20145759, 0.30164247, 0.40182734,\n",
       "        0.50201221, 0.60219709, 0.70238196, 0.80256683, 0.90275171,\n",
       "        1.00293658]),\n",
       " <a list of 10 Patch objects>)"
      ]
     },
     "execution_count": 86,
     "metadata": {},
     "output_type": "execute_result"
    },
    {
     "data": {
      "image/png": "[encoded data removed]",
      "text/plain": [
       "<Figure size 432x288 with 1 Axes>"
      ]
     },
     "metadata": {
      "needs_background": "light"
     },
     "output_type": "display_data"
    }
   ],
   "source": [
    "plt.hist(trunc_vgp_gp)"
   ]
  },
  {
   "cell_type": "code",
   "execution_count": null,
   "metadata": {},
   "outputs": [],
   "source": []
  },
  {
   "cell_type": "code",
   "execution_count": 87,
   "metadata": {},
   "outputs": [],
   "source": [
    "# discrimination derived verbal estimates variables\n",
    "dd_vgp_gp = []\n",
    "dd_vgp = []\n",
    "dd_gp = []\n",
    "\n",
    "dd_residuals_125 = []\n",
    "dd_residuals_250 = []\n",
    "dd_residuals_1000 = []\n",
    "\n",
    "dd_125 = []\n",
    "dd_250 = []\n",
    "dd_1000 = []\n",
    "\n",
    "for i in range(len(ordered_gp_metrics)):\n",
    "    metrics = ordered_gp_metrics[i]\n",
    "    if type(metrics) == list:\n",
    "        try:\n",
    "            stim_dd_125, stim_dd_resid_125 = derivedVE_dict_125[ordered_gp_metrics_folders[i]]\n",
    "            stim_dd_250, stim_dd_resid_250 = derivedVE_dict_250[ordered_gp_metrics_folders[i]]\n",
    "            stim_dd_1000, stim_dd_resid_1000 = derivedVE_dict_1000[ordered_gp_metrics_folders[i]]\n",
    "            \n",
    "            dd_125.append(stim_dd_125)\n",
    "            dd_residuals_125.append(stim_dd_resid_125)\n",
    "\n",
    "            dd_250.append(stim_dd_250)\n",
    "            dd_residuals_250.append(stim_dd_resid_250)\n",
    "\n",
    "            dd_1000.append(stim_dd_1000)\n",
    "            dd_residuals_1000.append(stim_dd_resid_1000)\n",
    "\n",
    "            dd_vgp_gp.append(metrics[0])\n",
    "            dd_vgp.append(metrics[1])\n",
    "            dd_gp.append(metrics[2])\n",
    "        \n",
    "\n",
    "        except:\n",
    "            pass\n"
   ]
  },
  {
   "cell_type": "code",
   "execution_count": 88,
   "metadata": {},
   "outputs": [
    {
     "data": {
      "text/plain": [
       "(152, 152)"
      ]
     },
     "execution_count": 88,
     "metadata": {},
     "output_type": "execute_result"
    }
   ],
   "source": [
    "len(dd_1000), len(dd_vgp)"
   ]
  },
  {
   "cell_type": "code",
   "execution_count": 89,
   "metadata": {},
   "outputs": [],
   "source": [
    "# discrimination derived target depth variables\n",
    "\n",
    "ddTD_vgp_gp = []\n",
    "ddTD_vgp = []\n",
    "ddTD_gp = []\n",
    "\n",
    "ddTD_residuals_125 = []\n",
    "ddTD_residuals_250 = []\n",
    "ddTD_residuals_1000 = []\n",
    "\n",
    "ddTD_125 = []\n",
    "ddTD_250 = []\n",
    "ddTD_1000 = []\n",
    "\n",
    "for i in range(len(ordered_gp_metrics)):\n",
    "    metrics = ordered_gp_metrics[i]\n",
    "    if type(metrics) == list:\n",
    "        stim_ddTD_125, stim_residTD_125 = derivedTD_dict_125[ordered_gp_metrics_folders[i]]\n",
    "        ddTD_125.append(stim_ddTD_125)\n",
    "        ddTD_residuals_125.append(stim_residTD_125)\n",
    "\n",
    "        stim_ddTD_250, stim_residTD_250 = derivedTD_dict_250[ordered_gp_metrics_folders[i]]\n",
    "        ddTD_250.append(stim_ddTD_250)\n",
    "        ddTD_residuals_250.append(stim_residTD_250)\n",
    "\n",
    "        stim_ddTD_1000, stim_residTD_1000 = derivedTD_dict_1000[ordered_gp_metrics_folders[i]]\n",
    "        ddTD_1000.append(stim_ddTD_1000)\n",
    "        ddTD_residuals_1000.append(stim_residTD_1000)\n",
    "\n",
    "        ddTD_vgp_gp.append(metrics[0])\n",
    "        ddTD_vgp.append(metrics[1])\n",
    "        ddTD_gp.append(metrics[2])\n",
    "            \n",
    "#         try:\n",
    "#             stim_ddTD_125, stim_residTD_125 = derivedTD_dict_125[ordered_gp_metrics_folders[i]]\n",
    "#             ddTD_125.append(stim_ddTD_125)\n",
    "#             ddTD_residuals_125.append(stim_residTD_125)\n",
    "\n",
    "#             stim_ddTD_250, stim_residTD_250 = derivedTD_dict_250[ordered_gp_metrics_folders[i]]\n",
    "#             ddTD_250.append(stim_ddTD_250)\n",
    "#             ddTD_residuals_250.append(stim_residTD_250)\n",
    "\n",
    "#             stim_ddTD_1000, stim_residTD_1000 = derivedTD_dict_1000[ordered_gp_metrics_folders[i]]\n",
    "#             ddTD_1000.append(stim_ddTD_1000)\n",
    "#             ddTD_residuals_1000.append(stim_residTD_1000)\n",
    "\n",
    "#             ddTD_vgp_gp.append(metrics[0])\n",
    "#             ddTD_vgp.append(metrics[1])\n",
    "#             ddTD_gp.append(metrics[2])\n",
    "\n",
    "#         except:\n",
    "#             pass\n"
   ]
  },
  {
   "cell_type": "code",
   "execution_count": 90,
   "metadata": {},
   "outputs": [
    {
     "data": {
      "text/plain": [
       "(156, 156)"
      ]
     },
     "execution_count": 90,
     "metadata": {},
     "output_type": "execute_result"
    }
   ],
   "source": [
    "len(ddTD_125), len(ddTD_vgp)"
   ]
  },
  {
   "cell_type": "code",
   "execution_count": 91,
   "metadata": {},
   "outputs": [
    {
     "name": "stdout",
     "output_type": "stream",
     "text": [
      "Correlation between Discrimination Derived Verbal Estimates and VGP/GP\n",
      "125 ms:  (-0.09944476122767693, 0.22286679980314728)\n",
      "250 ms:  (0.08430675124058513, 0.30176166111888236)\n",
      "1000 ms:  (-0.019324591691719573, 0.8131960914232651)\n"
     ]
    }
   ],
   "source": [
    "print(\"Correlation between Discrimination Derived Verbal Estimates and VGP/GP\")\n",
    "print('125 ms: ',stats.pearsonr(dd_125, dd_vgp_gp))\n",
    "print('250 ms: ',stats.pearsonr(dd_250, dd_vgp_gp))\n",
    "print('1000 ms: ',stats.pearsonr(dd_1000, dd_vgp_gp))\n"
   ]
  },
  {
   "cell_type": "code",
   "execution_count": 92,
   "metadata": {},
   "outputs": [
    {
     "name": "stdout",
     "output_type": "stream",
     "text": [
      "Correlation between Discrimination Derived Verbal Estimates and VGP\n",
      "125 ms:  (0.019389412352602744, 0.8125810119452658)\n",
      "250 ms:  (0.1268322755614496, 0.11945146506088394)\n",
      "1000 ms:  (0.01908542107155009, 0.8154665517403222)\n"
     ]
    }
   ],
   "source": [
    "print(\"Correlation between Discrimination Derived Verbal Estimates and VGP\")\n",
    "print('125 ms: ',stats.pearsonr(dd_125, dd_vgp))\n",
    "print('250 ms: ',stats.pearsonr(dd_250, dd_vgp))\n",
    "print('1000 ms: ',stats.pearsonr(dd_1000, dd_vgp))\n"
   ]
  },
  {
   "cell_type": "code",
   "execution_count": 93,
   "metadata": {},
   "outputs": [
    {
     "name": "stdout",
     "output_type": "stream",
     "text": [
      "Correlation between Discrimination Derived Verbal Estimates and GP\n",
      "125 ms:  (0.07568680562148632, 0.354052812501536)\n",
      "250 ms:  (0.0011571519146603149, 0.988711456612506)\n",
      "1000 ms:  (0.014007077893271325, 0.8640085622618329)\n"
     ]
    }
   ],
   "source": [
    "print(\"Correlation between Discrimination Derived Verbal Estimates and GP\")\n",
    "print('125 ms: ',stats.pearsonr(dd_125, dd_gp))\n",
    "print('250 ms: ',stats.pearsonr(dd_250, dd_gp))\n",
    "print('1000 ms: ',stats.pearsonr(dd_1000, dd_gp))"
   ]
  },
  {
   "cell_type": "code",
   "execution_count": 94,
   "metadata": {},
   "outputs": [
    {
     "name": "stdout",
     "output_type": "stream",
     "text": [
      "Correlation between Discrimination Derived Verbal Estimates Linear Model Residuals and VGP/GP\n",
      "125 ms:  (-0.052007289523355676, 0.5245634625464006)\n",
      "250 ms:  (0.16385939825444829, 0.043677459189766274)\n",
      "1000 ms:  (0.06640447435244358, 0.41631624057694205)\n"
     ]
    }
   ],
   "source": [
    "print(\"Correlation between Discrimination Derived Verbal Estimates Linear Model Residuals and VGP/GP\")\n",
    "print('125 ms: ',stats.pearsonr(dd_residuals_125, dd_vgp_gp))\n",
    "print('250 ms: ',stats.pearsonr(dd_residuals_250, dd_vgp_gp))\n",
    "print('1000 ms: ',stats.pearsonr(dd_residuals_1000, dd_vgp_gp))\n"
   ]
  },
  {
   "cell_type": "code",
   "execution_count": 95,
   "metadata": {},
   "outputs": [
    {
     "name": "stdout",
     "output_type": "stream",
     "text": [
      "125 ms:  (-0.015692337675394526, 0.8478339545141725)\n",
      "250 ms:  (0.10949371687768134, 0.1793280993478188)\n",
      "1000 ms:  (-0.030393419182503042, 0.7101103617315843)\n"
     ]
    }
   ],
   "source": [
    "\"Correlation between Discrimination Derived Verbal Estimates Linear Model Residuals and VGP\"\n",
    "print('125 ms: ',stats.pearsonr(dd_residuals_125, dd_vgp))\n",
    "print('250 ms: ',stats.pearsonr(dd_residuals_250, dd_vgp))\n",
    "print('1000 ms: ',stats.pearsonr(dd_residuals_1000, dd_vgp))\n"
   ]
  },
  {
   "cell_type": "code",
   "execution_count": 96,
   "metadata": {},
   "outputs": [
    {
     "name": "stdout",
     "output_type": "stream",
     "text": [
      "125 ms:  (-0.055903372741952055, 0.4939317390640739)\n",
      "250 ms:  (-0.14624724937006345, 0.07220042937340279)\n",
      "1000 ms:  (-0.189686703778983, 0.019252733143692972)\n"
     ]
    }
   ],
   "source": [
    "\"Correlation between Discrimination Derived Verbal Estimates Linear Model Residuals and GP\"\n",
    "print('125 ms: ',stats.pearsonr(dd_residuals_125, dd_gp))\n",
    "print('250 ms: ',stats.pearsonr(dd_residuals_250, dd_gp))\n",
    "print('1000 ms: ',stats.pearsonr(dd_residuals_1000, dd_gp))\n"
   ]
  },
  {
   "cell_type": "code",
   "execution_count": 97,
   "metadata": {},
   "outputs": [
    {
     "data": {
      "image/png": "[encoded data removed]",
      "text/plain": [
       "<Figure size 432x288 with 1 Axes>"
      ]
     },
     "metadata": {
      "needs_background": "light"
     },
     "output_type": "display_data"
    }
   ],
   "source": [
    "plt.plot(dd_gp, dd_residuals_125, 'o')\n",
    "plt.show();"
   ]
  },
  {
   "cell_type": "code",
   "execution_count": 98,
   "metadata": {},
   "outputs": [
    {
     "name": "stdout",
     "output_type": "stream",
     "text": [
      "Correlation between Average Discrimination Derived Verbal Estimates Linear Model Residuals and GP\n",
      "GP:  (-0.16963684901589052, 0.03667835523381624)\n",
      "VGP:  (0.034373694632171256, 0.67418355482456)\n",
      "VGP/GP:  (0.07286098900266622, 0.3723598978592742)\n"
     ]
    }
   ],
   "source": [
    "print(\"Correlation between Average Discrimination Derived Verbal Estimates Linear Model Residuals and GP\")\n",
    "\n",
    "print('GP: ',stats.pearsonr(np.mean([dd_residuals_125, dd_residuals_250, dd_residuals_1000], axis=0), dd_gp))\n",
    "print('VGP: ',stats.pearsonr(np.mean([dd_residuals_125, dd_residuals_250, dd_residuals_1000], axis=0), dd_vgp))\n",
    "print('VGP/GP: ',stats.pearsonr(np.mean([dd_residuals_125, dd_residuals_250, dd_residuals_1000], axis=0), dd_vgp_gp))\n",
    "\n"
   ]
  },
  {
   "cell_type": "code",
   "execution_count": 99,
   "metadata": {},
   "outputs": [
    {
     "name": "stdout",
     "output_type": "stream",
     "text": [
      "Correlation between All Discrimination Derived Verbal Estimates Linear Model Residuals and GP\n",
      "GP  (-0.11669274707760004, 0.012646917000992778)\n",
      "VGP  (0.02364557510413836, 0.6145313528579701)\n",
      "VGP/GP  (0.05012088476552331, 0.28551015324667695)\n"
     ]
    }
   ],
   "source": [
    "print(\"Correlation between All Discrimination Derived Verbal Estimates Linear Model Residuals and GP\")\n",
    "\n",
    "print('GP ',stats.pearsonr(dd_residuals_125+dd_residuals_250+dd_residuals_1000, dd_gp*3))\n",
    "print('VGP ',stats.pearsonr(dd_residuals_125+dd_residuals_250+dd_residuals_1000, dd_vgp*3))\n",
    "print('VGP/GP ',stats.pearsonr(dd_residuals_125+dd_residuals_250+dd_residuals_1000, dd_vgp_gp*3))\n",
    "\n"
   ]
  },
  {
   "cell_type": "code",
   "execution_count": 100,
   "metadata": {},
   "outputs": [
    {
     "name": "stdout",
     "output_type": "stream",
     "text": [
      "Correlation between Abs All Discrimination Derived Verbal Estimates Linear Model Residuals and GP*3 Metrics\n",
      "GP  (-0.08090228278845428, 0.08440356868063739)\n",
      "VGP  (-0.009471513137589285, 0.8401469097935963)\n",
      "VGP/GP  (0.08016492471921971, 0.08728276607919071)\n"
     ]
    }
   ],
   "source": [
    "print('Correlation between Abs All Discrimination Derived Verbal Estimates Linear Model Residuals and GP*3 Metrics')\n",
    "\n",
    "print('GP ',stats.pearsonr(np.abs(np.array(dd_residuals_125+dd_residuals_250+dd_residuals_1000)), dd_gp*3))\n",
    "print('VGP ',stats.pearsonr(np.abs(np.array(dd_residuals_125+dd_residuals_250+dd_residuals_1000)), dd_vgp*3))\n",
    "print('VGP/GP ',stats.pearsonr(np.abs(np.array(dd_residuals_125+dd_residuals_250+dd_residuals_1000)), dd_vgp_gp*3))\n"
   ]
  },
  {
   "cell_type": "code",
   "execution_count": 101,
   "metadata": {},
   "outputs": [
    {
     "name": "stdout",
     "output_type": "stream",
     "text": [
      "Correlation between Avg Abs Discrimination Derived Verbal Estimates Linear Model Residuals and GP Metrics\n",
      "GP  (-0.11453279339221906, 0.16001336312069556)\n",
      "VGP  (-0.013408754609999907, 0.8697650470396957)\n",
      "VGP/GP  (0.11348892075366131, 0.1638808696068056)\n"
     ]
    }
   ],
   "source": [
    "print('Correlation between Avg Abs Discrimination Derived Verbal Estimates Linear Model Residuals and GP Metrics')\n",
    "\n",
    "print('GP ',stats.pearsonr(np.mean([np.abs(np.array(dd_residuals_125)), np.abs(np.array(dd_residuals_250)), np.abs(np.array(dd_residuals_1000))], axis=0), dd_gp))\n",
    "print('VGP ',stats.pearsonr(np.mean([np.abs(np.array(dd_residuals_125)), np.abs(np.array(dd_residuals_250)), np.abs(np.array(dd_residuals_1000))], axis=0), dd_vgp))\n",
    "print('VGP/GP ',stats.pearsonr(np.mean([np.abs(np.array(dd_residuals_125)), np.abs(np.array(dd_residuals_250)), np.abs(np.array(dd_residuals_1000))], axis=0), dd_vgp_gp))\n",
    "\n",
    "# MORE VISIBLE GP, CLOSER TO LINEAR MODEDL"
   ]
  },
  {
   "cell_type": "markdown",
   "metadata": {},
   "source": [
    "## Discrimination Derived Target Depths"
   ]
  },
  {
   "cell_type": "code",
   "execution_count": 102,
   "metadata": {},
   "outputs": [
    {
     "name": "stdout",
     "output_type": "stream",
     "text": [
      "Correlation between Discrimination Derived Target Depths and VGP/GP\n",
      "125 ms:  (0.0072285611229067, 0.92863707012222)\n",
      "250 ms:  (0.011501868360127433, 0.8866790558100873)\n",
      "1000 ms:  (0.009986639594745939, 0.90152667978339)\n"
     ]
    }
   ],
   "source": [
    "print(\"Correlation between Discrimination Derived Target Depths and VGP/GP\")\n",
    "print('125 ms: ',stats.pearsonr(ddTD_125, ddTD_vgp_gp))\n",
    "print('250 ms: ',stats.pearsonr(ddTD_250, ddTD_vgp_gp))\n",
    "print('1000 ms: ',stats.pearsonr(ddTD_1000, ddTD_vgp_gp))\n"
   ]
  },
  {
   "cell_type": "code",
   "execution_count": 103,
   "metadata": {},
   "outputs": [
    {
     "name": "stdout",
     "output_type": "stream",
     "text": [
      "Correlation between Discrimination Derived Target Depths and VGP\n",
      "125 ms:  (0.07986505515082296, 0.32164854677843585)\n",
      "250 ms:  (0.08616514794141149, 0.2848275349647912)\n",
      "1000 ms:  (0.08537649690589529, 0.2892755582699377)\n"
     ]
    }
   ],
   "source": [
    "print(\"Correlation between Discrimination Derived Target Depths and VGP\")\n",
    "print('125 ms: ',stats.pearsonr(ddTD_125, ddTD_vgp))\n",
    "print('250 ms: ',stats.pearsonr(ddTD_250, ddTD_vgp))\n",
    "print('1000 ms: ',stats.pearsonr(ddTD_1000, ddTD_vgp))\n"
   ]
  },
  {
   "cell_type": "code",
   "execution_count": 104,
   "metadata": {},
   "outputs": [
    {
     "name": "stdout",
     "output_type": "stream",
     "text": [
      "Correlation between Discrimination Derived Target Depths and GP\n",
      "125 ms:  (0.12299635455305458, 0.1260952125661137)\n",
      "250 ms:  (0.12613744209109615, 0.1166341307553005)\n",
      "1000 ms:  (0.1254734799619139, 0.11858653572164973)\n"
     ]
    }
   ],
   "source": [
    "print(\"Correlation between Discrimination Derived Target Depths and GP\")\n",
    "print('125 ms: ',stats.pearsonr(ddTD_125, ddTD_gp))\n",
    "print('250 ms: ',stats.pearsonr(ddTD_250, ddTD_gp))\n",
    "print('1000 ms: ',stats.pearsonr(ddTD_1000, ddTD_gp))"
   ]
  },
  {
   "cell_type": "code",
   "execution_count": 105,
   "metadata": {},
   "outputs": [
    {
     "name": "stdout",
     "output_type": "stream",
     "text": [
      "Correlation between Discrimination Derived Target Depths Linear Model Residuals and VGP/GP\n",
      "125 ms:  (0.0721254261529207, 0.3709115227933711)\n",
      "250 ms:  (0.02966487724942421, 0.7131601354080673)\n",
      "1000 ms:  (0.02896893440096861, 0.7196046062708478)\n"
     ]
    }
   ],
   "source": [
    "print(\"Correlation between Discrimination Derived Target Depths Linear Model Residuals and VGP/GP\")\n",
    "print('125 ms: ',stats.pearsonr(ddTD_residuals_125, ddTD_vgp_gp))\n",
    "print('250 ms: ',stats.pearsonr(ddTD_residuals_250, ddTD_vgp_gp))\n",
    "print('1000 ms: ',stats.pearsonr(ddTD_residuals_1000, ddTD_vgp_gp))\n"
   ]
  },
  {
   "cell_type": "code",
   "execution_count": 106,
   "metadata": {},
   "outputs": [
    {
     "name": "stdout",
     "output_type": "stream",
     "text": [
      "125 ms:  (0.06417748442814057, 0.4260606237554256)\n",
      "250 ms:  (0.08569470213308045, 0.28747532347700505)\n",
      "1000 ms:  (0.08456856079134174, 0.29388014947427404)\n"
     ]
    }
   ],
   "source": [
    "\"Correlation between Discrimination Derived Target Depths Linear Model Residuals and VGP\"\n",
    "print('125 ms: ',stats.pearsonr(ddTD_residuals_125, ddTD_vgp))\n",
    "print('250 ms: ',stats.pearsonr(ddTD_residuals_250, ddTD_vgp))\n",
    "print('1000 ms: ',stats.pearsonr(ddTD_residuals_1000, ddTD_vgp))\n"
   ]
  },
  {
   "cell_type": "code",
   "execution_count": 107,
   "metadata": {},
   "outputs": [
    {
     "name": "stdout",
     "output_type": "stream",
     "text": [
      "125 ms:  (0.03049542270311476, 0.7054957212197278)\n",
      "250 ms:  (0.10637119475481355, 0.1862868412996942)\n",
      "1000 ms:  (0.10420484379249902, 0.1954658436907015)\n"
     ]
    }
   ],
   "source": [
    "\"Correlation between Discrimination Derived Target Depths Linear Model Residuals and GP\"\n",
    "print('125 ms: ',stats.pearsonr(ddTD_residuals_125, ddTD_gp))\n",
    "print('250 ms: ',stats.pearsonr(ddTD_residuals_250, ddTD_gp))\n",
    "print('1000 ms: ',stats.pearsonr(ddTD_residuals_1000, ddTD_gp))\n"
   ]
  },
  {
   "cell_type": "markdown",
   "metadata": {},
   "source": [
    "### VE Data"
   ]
  },
  {
   "cell_type": "code",
   "execution_count": 108,
   "metadata": {},
   "outputs": [
    {
     "name": "stdout",
     "output_type": "stream",
     "text": [
      "Correlation between Linear Model Residuals and VGP/GP\n",
      "125 ms:  (-0.009448613774029335, 0.9068072487908201)\n",
      "250 ms:  (-0.04342693303878828, 0.5903740989327949)\n",
      "1000 ms:  (-0.04735854142794347, 0.5571497547148211)\n"
     ]
    }
   ],
   "source": [
    "# corr, p-value\n",
    "print('Correlation between Linear Model Residuals and VGP/GP')\n",
    "print('125 ms: ',stats.pearsonr(trunc_resid_125, trunc_vgp_gp))\n",
    "print('250 ms: ',stats.pearsonr(trunc_resid_250, trunc_vgp_gp))\n",
    "print('1000 ms: ',stats.pearsonr(trunc_resid_1000, trunc_vgp_gp))"
   ]
  },
  {
   "cell_type": "code",
   "execution_count": 109,
   "metadata": {},
   "outputs": [
    {
     "name": "stdout",
     "output_type": "stream",
     "text": [
      "Correlation between Linear Model Residuals and VGP\n",
      "125 ms:  (-0.1341641257511423, 0.09496083894778827)\n",
      "250 ms:  (-0.1574986496335415, 0.04957536910976202)\n",
      "1000 ms:  (-0.17469728320550137, 0.029167019350200253)\n"
     ]
    }
   ],
   "source": [
    "# corr, p-value\n",
    "print('Correlation between Linear Model Residuals and VGP')\n",
    "print('125 ms: ',stats.pearsonr(trunc_resid_125, trunc_vgp))\n",
    "print('250 ms: ',stats.pearsonr(trunc_resid_250, trunc_vgp))\n",
    "print('1000 ms: ',stats.pearsonr(trunc_resid_1000, trunc_vgp))"
   ]
  },
  {
   "cell_type": "code",
   "execution_count": 110,
   "metadata": {},
   "outputs": [
    {
     "name": "stdout",
     "output_type": "stream",
     "text": [
      "Correlation between Linear Model Residuals and GP\n",
      "125 ms:  (-0.28104508306885534, 0.0003795255924783657)\n",
      "250 ms:  (-0.24847968142907234, 0.0017614714384423078)\n",
      "1000 ms:  (-0.2719816683477655, 0.0005931847776278609)\n"
     ]
    }
   ],
   "source": [
    "# corr, p-value\n",
    "print('Correlation between Linear Model Residuals and GP')\n",
    "print('125 ms: ',stats.pearsonr(trunc_resid_125, trunc_gp))\n",
    "print('250 ms: ',stats.pearsonr(trunc_resid_250, trunc_gp))\n",
    "print('1000 ms: ',stats.pearsonr(trunc_resid_1000, trunc_gp))"
   ]
  },
  {
   "cell_type": "code",
   "execution_count": 111,
   "metadata": {},
   "outputs": [
    {
     "name": "stdout",
     "output_type": "stream",
     "text": [
      "Correlation between All Linear Model Residuals and GP*3\n",
      "GP  (-0.2674092719315163, 4.1818475577627865e-09)\n",
      "VGP  (-0.15518448960887266, 0.0007554965381922225)\n",
      "VGP/GP  (-0.033073500938008565, 0.47536871626407906)\n"
     ]
    }
   ],
   "source": [
    "print('Correlation between All Linear Model Residuals and GP*3')\n",
    "\n",
    "print('GP ',stats.pearsonr(trunc_resid_125+trunc_resid_250+trunc_resid_1000, trunc_gp*3))\n",
    "print('VGP ',stats.pearsonr(trunc_resid_125+trunc_resid_250+trunc_resid_1000, trunc_vgp*3))\n",
    "print('VGP/GP ',stats.pearsonr(trunc_resid_125+trunc_resid_250+trunc_resid_1000, trunc_vgp_gp*3))\n",
    "\n",
    "\n"
   ]
  },
  {
   "cell_type": "code",
   "execution_count": 112,
   "metadata": {},
   "outputs": [
    {
     "name": "stdout",
     "output_type": "stream",
     "text": [
      "Correlation between All Linear Model Residuals and GP*3\n",
      "GP  (-0.2730726377074102, 0.0005625919749877734)\n",
      "VGP  (-0.1584710866705689, 0.04816739134732795)\n",
      "VGP/GP  (-0.03377395284062354, 0.675535272094229)\n"
     ]
    }
   ],
   "source": [
    "print('Correlation between All Linear Model Residuals and GP*3')\n",
    "\n",
    "print('GP ',stats.pearsonr(np.mean([trunc_resid_125, trunc_resid_250, trunc_resid_1000], axis=0), trunc_gp))\n",
    "print('VGP ',stats.pearsonr(np.mean([trunc_resid_125, trunc_resid_250, trunc_resid_1000], axis=0), trunc_vgp))\n",
    "print('VGP/GP ',stats.pearsonr(np.mean([trunc_resid_125, trunc_resid_250, trunc_resid_1000], axis=0), trunc_vgp_gp))\n",
    "\n"
   ]
  },
  {
   "cell_type": "markdown",
   "metadata": {},
   "source": [
    "#### Absolute value of residuals"
   ]
  },
  {
   "cell_type": "code",
   "execution_count": null,
   "metadata": {},
   "outputs": [],
   "source": []
  },
  {
   "cell_type": "code",
   "execution_count": 113,
   "metadata": {},
   "outputs": [
    {
     "name": "stdout",
     "output_type": "stream",
     "text": [
      "Correlation between Abs(Linear Model Residuals) and VGP/GP\n",
      "125 ms:  (-0.1307649023690311, 0.10371329742767672)\n",
      "250 ms:  (-0.14553823292636803, 0.06986002966313712)\n",
      "1000 ms:  (-0.17449870229188874, 0.02935369867687307)\n"
     ]
    }
   ],
   "source": [
    "# corr, p-value\n",
    "print('Correlation between Abs(Linear Model Residuals) and VGP/GP')\n",
    "print('125 ms: ',stats.pearsonr(np.abs(trunc_resid_125), trunc_vgp_gp))\n",
    "print('250 ms: ',stats.pearsonr(np.abs(trunc_resid_250), trunc_vgp_gp))\n",
    "print('1000 ms: ',stats.pearsonr(np.abs(trunc_resid_1000), trunc_vgp_gp))\n",
    "\n",
    "# interp: clutter (pixel space)"
   ]
  },
  {
   "cell_type": "code",
   "execution_count": 114,
   "metadata": {},
   "outputs": [
    {
     "name": "stdout",
     "output_type": "stream",
     "text": [
      "Correlation between Abs(Linear Model Residuals) and GP\n",
      "125 ms:  (0.020304763997570786, 0.8013558805904546)\n",
      "250 ms:  (-0.012724369151264854, 0.8747282489545393)\n",
      "1000 ms:  (-0.05168770845581369, 0.5216424070085925)\n"
     ]
    }
   ],
   "source": [
    "# corr, p-value\n",
    "print('Correlation between Abs(Linear Model Residuals) and GP')\n",
    "print('125 ms: ',stats.pearsonr(np.abs(trunc_resid_125), trunc_gp))\n",
    "print('250 ms: ',stats.pearsonr(np.abs(trunc_resid_250), trunc_gp))\n",
    "print('1000 ms: ',stats.pearsonr(np.abs(trunc_resid_1000), trunc_gp))"
   ]
  },
  {
   "cell_type": "code",
   "execution_count": 115,
   "metadata": {},
   "outputs": [
    {
     "name": "stdout",
     "output_type": "stream",
     "text": [
      "Correlation between Abs(Linear Model Residuals) and VGP\n",
      "125 ms:  (-0.0867142104136627, 0.2817579925226756)\n",
      "250 ms:  (-0.1321651344971131, 0.10003398763218999)\n",
      "1000 ms:  (-0.1763600900696706, 0.02764319766431866)\n"
     ]
    }
   ],
   "source": [
    "# corr, p-value\n",
    "print('Correlation between Abs(Linear Model Residuals) and VGP')\n",
    "print('125 ms: ',stats.pearsonr(np.abs(trunc_resid_125), trunc_vgp))\n",
    "print('250 ms: ',stats.pearsonr(np.abs(trunc_resid_250), trunc_vgp))\n",
    "print('1000 ms: ',stats.pearsonr(np.abs(trunc_resid_1000), trunc_vgp))"
   ]
  },
  {
   "cell_type": "code",
   "execution_count": 116,
   "metadata": {},
   "outputs": [
    {
     "name": "stdout",
     "output_type": "stream",
     "text": [
      "Correlation between Abs All Linear Model Residuals and GP*3 Metrics\n",
      "GP  (-0.01374594175216215, 0.7667803371242452)\n",
      "VGP  (-0.13037385209184327, 0.004728924154614076)\n",
      "VGP/GP  (-0.1495774822637162, 0.0011725339445961265)\n"
     ]
    }
   ],
   "source": [
    "print('Correlation between Abs All Linear Model Residuals and GP*3 Metrics')\n",
    "\n",
    "print('GP ',stats.pearsonr(np.abs(np.array(trunc_resid_125+trunc_resid_250+trunc_resid_1000)), trunc_gp*3))\n",
    "print('VGP ',stats.pearsonr(np.abs(np.array(trunc_resid_125+trunc_resid_250+trunc_resid_1000)), trunc_vgp*3))\n",
    "print('VGP/GP ',stats.pearsonr(np.abs(np.array(trunc_resid_125+trunc_resid_250+trunc_resid_1000)), trunc_vgp_gp*3))\n"
   ]
  },
  {
   "cell_type": "code",
   "execution_count": 117,
   "metadata": {},
   "outputs": [
    {
     "name": "stdout",
     "output_type": "stream",
     "text": [
      "Correlation between Avg Abs Linear Model Residuals and GP Metrics\n",
      "GP  (-0.014554382554488057, 0.8568921495186471)\n",
      "VGP  (-0.13804153637916183, 0.08570382348715376)\n",
      "VGP/GP  (-0.15837459067225051, 0.04830560303083932)\n"
     ]
    }
   ],
   "source": [
    "print('Correlation between Avg Abs Linear Model Residuals and GP Metrics')\n",
    "\n",
    "print('GP ',stats.pearsonr(np.mean([np.abs(np.array(trunc_resid_125)), np.abs(np.array(trunc_resid_250)), np.abs(np.array(trunc_resid_1000))], axis=0), trunc_gp))\n",
    "print('VGP ',stats.pearsonr(np.mean([np.abs(np.array(trunc_resid_125)), np.abs(np.array(trunc_resid_250)), np.abs(np.array(trunc_resid_1000))], axis=0), trunc_vgp))\n",
    "print('VGP/GP ',stats.pearsonr(np.mean([np.abs(np.array(trunc_resid_125)), np.abs(np.array(trunc_resid_250)), np.abs(np.array(trunc_resid_1000))], axis=0), trunc_vgp_gp))\n",
    "\n",
    "# MORE VISIBLE GP, CLOSER TO LINEAR MODEDL"
   ]
  },
  {
   "cell_type": "code",
   "execution_count": 118,
   "metadata": {},
   "outputs": [
    {
     "name": "stdout",
     "output_type": "stream",
     "text": [
      "m: [-0.12872497]\n",
      "b: 0.3332088004316257\n",
      "R-squared:  0.02118137724332969\n"
     ]
    },
    {
     "data": {
      "text/plain": [
       "0.021"
      ]
     },
     "execution_count": 118,
     "metadata": {},
     "output_type": "execute_result"
    },
    {
     "data": {
      "image/png": "[encoded data removed]",
      "text/plain": [
       "<Figure size 504x504 with 1 Axes>"
      ]
     },
     "metadata": {
      "needs_background": "light"
     },
     "output_type": "display_data"
    }
   ],
   "source": [
    "plt.figure(figsize = [7,7])\n",
    "#run regression\n",
    "X = np.array(trunc_vgp_gp).reshape(-1,1)\n",
    "y = np.abs(trunc_resid_250)\n",
    "reg = LinearRegression().fit(X, y)\n",
    "\n",
    "#Generated Predictions\n",
    "y_predicted = reg.predict(X)\n",
    "#Plot Our Actual and Predicted Values\n",
    "plt.plot(X, y, 'o', color='black', alpha = 0.5);\n",
    "plt.plot(X,y_predicted,color='chocolate', label = 'm = ' + str(round(reg.coef_[0], 3))\n",
    "         + '     r-squared = ' + str(round(float(reg.score(X, y)), 3)))\n",
    "plt.title(\"250 ms\", fontsize = 20)\n",
    "plt.xlabel(\"VGP/GP\", fontsize = 15)\n",
    "plt.ylabel(\"Abs(Residuals)\", fontsize = 15)\n",
    "\n",
    "legend = plt.legend(loc = 0, fontsize = 13, borderpad = 0.6, labelspacing = 1)\n",
    "legend.get_frame().set_facecolor('lightgray')\n",
    "\n",
    "\n",
    "#get coefficients and y intercept\n",
    "print(\"m: {0}\".format(reg.coef_))\n",
    "print(\"b: {0}\".format(reg.intercept_))\n",
    "\n",
    "#Returns the coefficient of determination R^2 of the prediction.\n",
    "print(\"R-squared: \", reg.score(X, y))\n",
    "\n",
    "round(float(reg.score(X, y)), 3)"
   ]
  },
  {
   "cell_type": "markdown",
   "metadata": {},
   "source": [
    "#### Actual Depth"
   ]
  },
  {
   "cell_type": "code",
   "execution_count": 119,
   "metadata": {},
   "outputs": [
    {
     "name": "stdout",
     "output_type": "stream",
     "text": [
      "Correlation between Actual Depth and VGP/GP\n",
      "(-0.08712410753715585, 0.2794809959214527)\n",
      "Correlation between Actual Depth and VGP\n",
      "(0.04754284307903838, 0.5556146971691864)\n",
      "Correlation between Actual Depth and GP\n",
      "(0.16743673736446738, 0.03668635251276759)\n"
     ]
    }
   ],
   "source": [
    "print('Correlation between Actual Depth and VGP/GP')\n",
    "print(stats.pearsonr(trunc_actual, trunc_vgp_gp))\n",
    "print('Correlation between Actual Depth and VGP')\n",
    "print(stats.pearsonr(trunc_actual, trunc_vgp))\n",
    "print('Correlation between Actual Depth and GP')\n",
    "print(stats.pearsonr(trunc_actual, trunc_gp))"
   ]
  },
  {
   "cell_type": "code",
   "execution_count": 120,
   "metadata": {},
   "outputs": [
    {
     "name": "stdout",
     "output_type": "stream",
     "text": [
      "m: [-0.76556427]\n",
      "b: 0.3837968586573841\n",
      "R-squared:  0.07397402791723384\n"
     ]
    },
    {
     "data": {
      "text/plain": [
       "0.074"
      ]
     },
     "execution_count": 120,
     "metadata": {},
     "output_type": "execute_result"
    },
    {
     "data": {
      "image/png": "[encoded data removed]",
      "text/plain": [
       "<Figure size 432x432 with 1 Axes>"
      ]
     },
     "metadata": {
      "needs_background": "light"
     },
     "output_type": "display_data"
    }
   ],
   "source": [
    "plt.figure(figsize = [6,6])\n",
    "#run regression\n",
    "X = np.array(trunc_gp).reshape(-1,1)\n",
    "y = trunc_resid_1000\n",
    "reg = LinearRegression().fit(X, y)\n",
    "\n",
    "#Generated Predictions\n",
    "y_predicted = reg.predict(X)\n",
    "#Plot Our Actual and Predicted Values\n",
    "plt.plot(X, y, '*', color='black', alpha = 0.5);\n",
    "plt.plot(X,y_predicted,color='darkviolet', label = 'm = ' + str(round(reg.coef_[0], 3))\n",
    "         + '     r-squared = ' + str(round(float(reg.score(X, y)), 3)))\n",
    "plt.title(\"1000 ms\", fontsize = 20)\n",
    "plt.xlabel(\"Inferred Complete Ground Plane\", fontsize = 15)\n",
    "plt.ylabel(\"Linear Model Residuals\", fontsize = 15)\n",
    "\n",
    "legend = plt.legend(loc = 0, fontsize = 13, borderpad = 0.6, labelspacing = 1)\n",
    "legend.get_frame().set_facecolor('lightgray')\n",
    "\n",
    "\n",
    "#get coefficients and y intercept\n",
    "print(\"m: {0}\".format(reg.coef_))\n",
    "print(\"b: {0}\".format(reg.intercept_))\n",
    "\n",
    "#Returns the coefficient of determination R^2 of the prediction.\n",
    "print(\"R-squared: \", reg.score(X, y))\n",
    "\n",
    "round(float(reg.score(X, y)), 3)"
   ]
  },
  {
   "cell_type": "code",
   "execution_count": 121,
   "metadata": {},
   "outputs": [
    {
     "name": "stdout",
     "output_type": "stream",
     "text": [
      "m: [-0.47708185]\n",
      "b: 0.10962920582424962\n",
      "R-squared:  0.02480582463638914\n"
     ]
    },
    {
     "data": {
      "text/plain": [
       "0.025"
      ]
     },
     "execution_count": 121,
     "metadata": {},
     "output_type": "execute_result"
    },
    {
     "data": {
      "image/png": "[encoded data removed]",
      "text/plain": [
       "<Figure size 432x432 with 1 Axes>"
      ]
     },
     "metadata": {
      "needs_background": "light"
     },
     "output_type": "display_data"
    }
   ],
   "source": [
    "plt.figure(figsize = [6,6])\n",
    "#run regression\n",
    "X = np.array(trunc_vgp).reshape(-1,1)\n",
    "y = trunc_resid_250\n",
    "reg = LinearRegression().fit(X, y)\n",
    "\n",
    "#Generated Predictions\n",
    "y_predicted = reg.predict(X)\n",
    "#Plot Our Actual and Predicted Values\n",
    "plt.plot(X, y, 's', color='black', alpha = 0.5);\n",
    "plt.plot(X,y_predicted,color='chocolate', label = 'm = ' + str(round(reg.coef_[0], 3))\n",
    "         + '     r-squared = ' + str(round(float(reg.score(X, y)), 3)))\n",
    "plt.title(\"250 ms\", fontsize = 20)\n",
    "plt.xlabel(\"Percent Visible Ground Plane\", fontsize = 15)\n",
    "plt.ylabel(\"Linear Model Residuals\", fontsize = 15)\n",
    "\n",
    "legend = plt.legend(loc = 0, fontsize = 13, borderpad = 0.6, labelspacing = 1)\n",
    "legend.get_frame().set_facecolor('lightgray')\n",
    "\n",
    "\n",
    "#get coefficients and y intercept\n",
    "print(\"m: {0}\".format(reg.coef_))\n",
    "print(\"b: {0}\".format(reg.intercept_))\n",
    "\n",
    "#Returns the coefficient of determination R^2 of the prediction.\n",
    "print(\"R-squared: \", reg.score(X, y))\n",
    "\n",
    "round(float(reg.score(X, y)), 3)"
   ]
  },
  {
   "cell_type": "code",
   "execution_count": 122,
   "metadata": {},
   "outputs": [
    {
     "name": "stdout",
     "output_type": "stream",
     "text": [
      "m: [-0.06665769]\n",
      "b: 0.03139695208797141\n",
      "R-squared:  0.0018858985131554595\n"
     ]
    },
    {
     "data": {
      "text/plain": [
       "0.002"
      ]
     },
     "execution_count": 122,
     "metadata": {},
     "output_type": "execute_result"
    },
    {
     "data": {
      "image/png": "[encoded data removed]",
      "text/plain": [
       "<Figure size 432x432 with 1 Axes>"
      ]
     },
     "metadata": {
      "needs_background": "light"
     },
     "output_type": "display_data"
    }
   ],
   "source": [
    "plt.figure(figsize = [6,6])\n",
    "#run regression\n",
    "X = np.array(trunc_vgp_gp).reshape(-1,1)\n",
    "y = trunc_resid_250\n",
    "reg = LinearRegression().fit(X, y)\n",
    "\n",
    "#Generated Predictions\n",
    "y_predicted = reg.predict(X)\n",
    "#Plot Our Actual and Predicted Values\n",
    "plt.plot(X, y, 'v', color='black', alpha = 0.5);\n",
    "plt.plot(X,y_predicted,color='chocolate', label = 'm = ' + str(round(reg.coef_[0], 3))\n",
    "         + '     r-squared = ' + str(round(float(reg.score(X, y)), 3)))\n",
    "plt.title(\"250 ms\", fontsize = 20)\n",
    "plt.xlabel(\"VGP/GP\", fontsize = 15)\n",
    "plt.ylabel(\"Linear Model Residuals\", fontsize = 15)\n",
    "\n",
    "legend = plt.legend(loc = 0, fontsize = 13, borderpad = 0.6, labelspacing = 1)\n",
    "legend.get_frame().set_facecolor('lightgray')\n",
    "\n",
    "\n",
    "#get coefficients and y intercept\n",
    "print(\"m: {0}\".format(reg.coef_))\n",
    "print(\"b: {0}\".format(reg.intercept_))\n",
    "\n",
    "#Returns the coefficient of determination R^2 of the prediction.\n",
    "print(\"R-squared: \", reg.score(X, y))\n",
    "\n",
    "round(float(reg.score(X, y)), 3)"
   ]
  },
  {
   "cell_type": "markdown",
   "metadata": {},
   "source": [
    "## Global Mean Depth"
   ]
  },
  {
   "cell_type": "code",
   "execution_count": 53,
   "metadata": {},
   "outputs": [],
   "source": [
    "kinect192_path = '/Users/prachimahableshwarkar/Documents/GW/SUNRGBD/updated/kinect2data_192'\n",
    "# kinect192_path = '/Users/pmahableshwarkar/Documents/Depth_Project/SUNRGBD/kinect2data_192'\n",
    "\n",
    "stimuli_path = '/Users/prachimahableshwarkar/Documents/GW/Depth_MTurk/depth_duration_stimuli'\n",
    "# stimuli_path = '/Users/pmahableshwarkar/Documents/Depth_Project/final_stimuli'"
   ]
  },
  {
   "cell_type": "code",
   "execution_count": 54,
   "metadata": {},
   "outputs": [],
   "source": [
    "globalMeanDepths = []\n",
    "for folder in stimfolder_250:\n",
    "    for file in os.listdir(kinect192_path + '/' + folder + '/depth_bfx'):\n",
    "        if 'png' in file:\n",
    "            dm = Image.open(kinect192_path + '/' + folder + '/depth_bfx/' + file)\n",
    "            dm.load()\n",
    "            depth_data = np.asarray(dm)/8000\n",
    "            globalMeanDepths.append(np.mean(depth_data))"
   ]
  },
  {
   "cell_type": "code",
   "execution_count": 55,
   "metadata": {},
   "outputs": [],
   "source": [
    "trunc_globalMeanDepths = []\n",
    "\n",
    "for i in range(len(ordered_gp_metrics)):\n",
    "    metrics = ordered_gp_metrics[i]\n",
    "    if type(metrics) == list:\n",
    "        trunc_globalMeanDepths.append(globalMeanDepths[i])\n"
   ]
  },
  {
   "cell_type": "code",
   "execution_count": 56,
   "metadata": {},
   "outputs": [
    {
     "name": "stdout",
     "output_type": "stream",
     "text": [
      "Correlation between Global Mean Depth and Complete Ground Plane\n",
      "(0.2999983504198189, 0.00014188365894478912)\n"
     ]
    }
   ],
   "source": [
    "print('Correlation between Global Mean Depth and Complete Ground Plane')\n",
    "print(stats.pearsonr(trunc_globalMeanDepths, trunc_gp))"
   ]
  },
  {
   "cell_type": "code",
   "execution_count": 57,
   "metadata": {},
   "outputs": [
    {
     "name": "stdout",
     "output_type": "stream",
     "text": [
      "m: [0.08390167]\n",
      "b: 0.2844751501870868\n",
      "R-squared:  0.08999901025461221\n"
     ]
    },
    {
     "data": {
      "text/plain": [
       "0.09"
      ]
     },
     "execution_count": 57,
     "metadata": {},
     "output_type": "execute_result"
    },
    {
     "data": {
      "image/png": "[encoded data removed]",
      "text/plain": [
       "<Figure size 576x576 with 1 Axes>"
      ]
     },
     "metadata": {
      "needs_background": "light"
     },
     "output_type": "display_data"
    }
   ],
   "source": [
    "plt.figure(figsize = [8,8])\n",
    "#run regression\n",
    "X = np.array(trunc_globalMeanDepths).reshape(-1,1)\n",
    "y = trunc_gp\n",
    "reg = LinearRegression().fit(X, y)\n",
    "\n",
    "#Generated Predictions\n",
    "y_predicted = reg.predict(X)\n",
    "#Plot Our Actual and Predicted Values\n",
    "plt.plot(X, y, 'o', color='darkgreen', alpha = 0.5);\n",
    "plt.plot(X,y_predicted,color='darkgreen', label = 'm = ' + str(round(reg.coef_[0], 3))\n",
    "         + '     r-squared = ' + str(round(float(reg.score(X, y)), 3)))\n",
    "plt.title(\"Complete Ground Plane x Global Mean Depth\", fontsize = 20)\n",
    "plt.xlabel(\"Global Mean Depth (m)\", fontsize = 15)\n",
    "plt.ylabel(\"Complete Ground Plane (pixels)\", fontsize = 15)\n",
    "\n",
    "legend = plt.legend(loc = 0, fontsize = 13, borderpad = 0.6, labelspacing = 1)\n",
    "legend.get_frame().set_facecolor('lightgray')\n",
    "\n",
    "\n",
    "#get coefficients and y intercept\n",
    "print(\"m: {0}\".format(reg.coef_))\n",
    "print(\"b: {0}\".format(reg.intercept_))\n",
    "\n",
    "#Returns the coefficient of determination R^2 of the prediction.\n",
    "print(\"R-squared: \", reg.score(X, y))\n",
    "\n",
    "round(float(reg.score(X, y)), 3)"
   ]
  },
  {
   "cell_type": "markdown",
   "metadata": {},
   "source": [
    "### Navigation Clutter: Pixel Sum Method; GP - VGP"
   ]
  },
  {
   "cell_type": "code",
   "execution_count": 58,
   "metadata": {},
   "outputs": [],
   "source": [
    "clutter_pixel = (np.array(trunc_gp) - np.array(trunc_vgp))"
   ]
  },
  {
   "cell_type": "code",
   "execution_count": 59,
   "metadata": {},
   "outputs": [
    {
     "name": "stdout",
     "output_type": "stream",
     "text": [
      "Correlation between Linear Model Residuals and Clutter (pixel sum)\n",
      "125 ms:  (-0.14446527631336425, 0.07196967427471652)\n",
      "250 ms:  (-0.09606057697540175, 0.23290553570313954)\n",
      "1000 ms:  (-0.10327155238644886, 0.19951987579963304)\n"
     ]
    }
   ],
   "source": [
    "# corr, p-value\n",
    "print('Correlation between Linear Model Residuals and Clutter (pixel sum)')\n",
    "print('125 ms: ',stats.pearsonr(trunc_resid_125, clutter_pixel))\n",
    "print('250 ms: ',stats.pearsonr(trunc_resid_250, clutter_pixel))\n",
    "print('1000 ms: ',stats.pearsonr(trunc_resid_1000, clutter_pixel))"
   ]
  },
  {
   "cell_type": "markdown",
   "metadata": {},
   "source": [
    "## Load Ground Plane Metrics: Pixel SA"
   ]
  },
  {
   "cell_type": "code",
   "execution_count": 215,
   "metadata": {},
   "outputs": [],
   "source": [
    "# path = '/Users/pmahableshwarkar/Documents/Depth_Project/SUN_scene_cue_coding/VGP_size_dict.json'\n",
    "path = '/Users/prachimahableshwarkar/Documents/GW/Depth_MTurk/SUN_scene_cue_coding/VGP_size_dict.json'\n",
    "vgp_size_dict = json.load(open(path))\n"
   ]
  },
  {
   "cell_type": "code",
   "execution_count": 216,
   "metadata": {},
   "outputs": [],
   "source": [
    "# path = '/Users/pmahableshwarkar/Documents/Depth_Project/SUN_scene_cue_coding/GP_size_dict.json'\n",
    "path = '/Users/prachimahableshwarkar/Documents/GW/Depth_MTurk/SUN_scene_cue_coding/GP_size_dict.json'\n",
    "gp_size_dict = json.load(open(path))"
   ]
  },
  {
   "cell_type": "code",
   "execution_count": 217,
   "metadata": {},
   "outputs": [
    {
     "name": "stdout",
     "output_type": "stream",
     "text": [
      "(0.6305436407876517, 4.100796404472425e-18)\n"
     ]
    }
   ],
   "source": [
    "VGPS = []\n",
    "GPS = []\n",
    "for key in vgp_size_dict:\n",
    "    try:\n",
    "        gp = gp_size_dict[key]\n",
    "        VGPS.append(vgp_size_dict[key])\n",
    "        GPS.append(gp)\n",
    "    except:\n",
    "        pass\n",
    "\n",
    "print(stats.pearsonr(VGPS, GPS))"
   ]
  },
  {
   "cell_type": "code",
   "execution_count": null,
   "metadata": {},
   "outputs": [],
   "source": []
  },
  {
   "cell_type": "code",
   "execution_count": 218,
   "metadata": {},
   "outputs": [
    {
     "name": "stdout",
     "output_type": "stream",
     "text": [
      "002118_2014-06-25_20-32-08_260595134347_rgbf000078-resize excluded\n",
      "002657_2014-06-13_15-29-54_094959634447_rgbf000150-resize excluded\n"
     ]
    }
   ],
   "source": [
    "# Find GP or VGP Outliers \n",
    "\n",
    "gpsize_list = [[key, gp_size_dict[key]] for key in gp_size_dict]\n",
    "gpsize_mean = np.mean(np.array([elem[1] for elem in gpsize_list]))\n",
    "gpsize_std = np.std(np.array([elem[1] for elem in gpsize_list]))\n",
    "\n",
    "gpsize_outlierRange = [gpsize_mean - (3*gpsize_std), gpsize_mean + (3*gpsize_std)]\n",
    "\n",
    "cleaned_gpsize_dict = {}\n",
    "for key in gp_size_dict:\n",
    "    if gpsize_outlierRange[0] < gp_size_dict[key] < gpsize_outlierRange[1]:\n",
    "        cleaned_gpsize_dict[key] = gp_size_dict[key]\n",
    "    else:\n",
    "        print(key, 'excluded')"
   ]
  },
  {
   "cell_type": "code",
   "execution_count": 219,
   "metadata": {},
   "outputs": [
    {
     "name": "stdout",
     "output_type": "stream",
     "text": [
      "002568_2014-06-24_13-59-21_094959634447_rgbf000062-resize excluded\n",
      "002600_2014-06-24_14-27-04_094959634447_rgbf000074-resize excluded\n",
      "002118_2014-06-25_20-32-08_260595134347_rgbf000078-resize excluded\n",
      "002570_2014-06-24_13-59-54_094959634447_rgbf000059-resize excluded\n"
     ]
    }
   ],
   "source": [
    "# Find GP or VGP Outliers \n",
    "\n",
    "vgpsize_list = [[key, vgp_size_dict[key]] for key in vgp_size_dict]\n",
    "vgpsize_mean = np.mean(np.array([elem[1] for elem in vgpsize_list]))\n",
    "vgpsize_std = np.std(np.array([elem[1] for elem in vgpsize_list]))\n",
    "\n",
    "vgpsize_outlierRange = [vgpsize_mean - (3*vgpsize_std), vgpsize_mean + (3*vgpsize_std)]\n",
    "\n",
    "cleaned_vgpsize_dict = {}\n",
    "for key in vgp_size_dict:\n",
    "    if vgpsize_outlierRange[0] < vgp_size_dict[key] < vgpsize_outlierRange[1]:\n",
    "        cleaned_vgpsize_dict[key] = vgp_size_dict[key]\n",
    "    else:\n",
    "        print(key, 'excluded')"
   ]
  },
  {
   "cell_type": "code",
   "execution_count": 220,
   "metadata": {},
   "outputs": [],
   "source": [
    "ordered_gp_size = []\n",
    "ordered_vgp_size = []\n",
    "\n",
    "gp_none = 0\n",
    "vgp_none = 0\n",
    "for folder in stimfolder_250:\n",
    "    try:\n",
    "        ordered_gp_size.append(cleaned_gpsize_dict[folder])\n",
    "    except:\n",
    "        gp_none += 1\n",
    "        ordered_gp_size.append(None)\n",
    "    try:\n",
    "        ordered_vgp_size.append(cleaned_vgpsize_dict[folder])\n",
    "    except:\n",
    "        vgp_none += 1\n",
    "        ordered_vgp_size.append(None)"
   ]
  },
  {
   "cell_type": "code",
   "execution_count": 221,
   "metadata": {},
   "outputs": [
    {
     "data": {
      "text/plain": [
       "(156, 7)"
      ]
     },
     "execution_count": 221,
     "metadata": {},
     "output_type": "execute_result"
    }
   ],
   "source": [
    "len(ordered_gp_size), gp_none"
   ]
  },
  {
   "cell_type": "code",
   "execution_count": 222,
   "metadata": {},
   "outputs": [
    {
     "data": {
      "text/plain": [
       "(156, 9)"
      ]
     },
     "execution_count": 222,
     "metadata": {},
     "output_type": "execute_result"
    }
   ],
   "source": [
    "len(ordered_vgp_size), vgp_none"
   ]
  },
  {
   "cell_type": "code",
   "execution_count": 223,
   "metadata": {},
   "outputs": [
    {
     "data": {
      "text/plain": [
       "156"
      ]
     },
     "execution_count": 223,
     "metadata": {},
     "output_type": "execute_result"
    }
   ],
   "source": [
    "actual_depth_values = []\n",
    "folders = []\n",
    "for i in range(len(stim_250)):\n",
    "    targetobj_num = stim_250[i].split('/')[1][-1]\n",
    "    folder = stimfolder_250[i]\n",
    "    p = '/Users/prachimahableshwarkar/Documents/GW/Depth_MTurk/depth_duration_stimuli/' + folder + \"_\" + targetobj_num\n",
    "#     p = '/Users/pmahableshwarkar/Documents/Depth_Project/final_stimuli/' + folder + '_' + targetobj_num\n",
    "    # JSON file\n",
    "    f = open (p + '/data.json', \"r\")\n",
    "    # Reading from file\n",
    "    data = json.loads(f.read())\n",
    "    depthval = data['objects'][0]['crossing_point'][0]['depth']\n",
    "    actual_depth_values.append(depthval)\n",
    "    folders.append(folder)\n",
    "len(actual_depth_values)"
   ]
  },
  {
   "cell_type": "code",
   "execution_count": 138,
   "metadata": {},
   "outputs": [],
   "source": [
    "# derivedVE_dict_125"
   ]
  },
  {
   "cell_type": "code",
   "execution_count": 224,
   "metadata": {},
   "outputs": [],
   "source": [
    "trunc_resid_125 = []\n",
    "trunc_resid_250 = []\n",
    "trunc_resid_1000 = []\n",
    "\n",
    "trunc_vgpSize_gpSize = []\n",
    "trunc_vgpSize = []\n",
    "trunc_gpSize = []\n",
    "trunc_actual = []\n",
    "\n",
    "trunc_std_125 = []\n",
    "trunc_std_250 = []\n",
    "trunc_std_1000 = []\n",
    "\n",
    "for i in range(len(actual_depth_values)):\n",
    "    if type(ordered_gp_size[i]) == float: \n",
    "        try:\n",
    "            trunc_vgpSize_gpSize.append(ordered_vgp_size[i]/ordered_gp_size[i])\n",
    "            trunc_vgpSize.append(ordered_vgp_size[i])\n",
    "            trunc_gpSize.append(ordered_gp_size[i])\n",
    "\n",
    "            trunc_resid_125.append(residuals_125[i])        \n",
    "            trunc_resid_250.append(residuals_250[i])\n",
    "            trunc_resid_1000.append(residuals_1000[i])\n",
    "\n",
    "            trunc_actual.append(actual_depth_values[i])\n",
    "\n",
    "            trunc_std_125.append(std_125[i])\n",
    "            trunc_std_250.append(std_250[i])\n",
    "            trunc_std_1000.append(std_1000[i])\n",
    "\n",
    "        except: \n",
    "            pass\n",
    "\n"
   ]
  },
  {
   "cell_type": "code",
   "execution_count": 345,
   "metadata": {},
   "outputs": [],
   "source": [
    "ddresid125_trunc_vgpSize = []\n",
    "ddresid125_trunc_gpSize = []\n",
    "ddresid125_trunc_actual = []\n",
    "\n",
    "trunc_derivedVE_125 = []\n",
    "\n",
    "trunc_residuals_derivedVE_125 = []\n",
    "\n",
    "for i in range(len(actual_depth_values)):\n",
    "    if type(ordered_gp_size[i]) == float: \n",
    "        if folders[i] in derivedVE_dict_125.keys():\n",
    "            \n",
    "            try:\n",
    "                if ordered_vgp_size[i] != None:\n",
    "                    \n",
    "                    trunc_residuals_derivedVE_125.append(derivedVE_dict_125[folders[i]][1])\n",
    "\n",
    "\n",
    "                    trunc_derivedVE_125.append(derivedVE_dict_125[folders[i]][0])\n",
    "\n",
    "                    ddresid125_trunc_vgpSize.append(ordered_vgp_size[i])\n",
    "                    ddresid125_trunc_gpSize.append(ordered_gp_size[i])\n",
    "\n",
    "                    ddresid125_trunc_actual.append(actual_depth_values[i])\n",
    "\n",
    "\n",
    "            except: \n",
    "                pass\n"
   ]
  },
  {
   "cell_type": "code",
   "execution_count": 346,
   "metadata": {},
   "outputs": [
    {
     "data": {
      "text/plain": [
       "(144, 144, 144)"
      ]
     },
     "execution_count": 346,
     "metadata": {},
     "output_type": "execute_result"
    }
   ],
   "source": [
    "len(trunc_residuals_derivedVE_125), len(ddresid125_trunc_vgpSize), len(trunc_derivedVE_125)"
   ]
  },
  {
   "cell_type": "code",
   "execution_count": 338,
   "metadata": {},
   "outputs": [
    {
     "data": {
      "text/plain": [
       "[]"
      ]
     },
     "execution_count": 338,
     "metadata": {},
     "output_type": "execute_result"
    }
   ],
   "source": [
    "trunc_residuals_derivedVE_125"
   ]
  },
  {
   "cell_type": "code",
   "execution_count": 347,
   "metadata": {},
   "outputs": [],
   "source": [
    "ddresid250_trunc_vgpSize = []\n",
    "ddresid250_trunc_gpSize = []\n",
    "ddresid250_trunc_actual = []\n",
    "\n",
    "trunc_residuals_derivedVE_250 = []\n",
    "\n",
    "trunc_derivedVE_250 = []\n",
    "\n",
    "\n",
    "for i in range(len(actual_depth_values)):\n",
    "    if type(ordered_gp_size[i]) == float: \n",
    "        if folders[i] in derivedVE_dict_250.keys():\n",
    "            \n",
    "            try:\n",
    "                if ordered_vgp_size[i] != None:\n",
    "                    \n",
    "                    trunc_residuals_derivedVE_250.append(derivedVE_dict_250[folders[i]][1])\n",
    "\n",
    "\n",
    "                    trunc_derivedVE_250.append(derivedVE_dict_250[folders[i]][0])\n",
    "\n",
    "                    ddresid250_trunc_vgpSize.append(ordered_vgp_size[i])\n",
    "                    ddresid250_trunc_gpSize.append(ordered_gp_size[i])\n",
    "\n",
    "                    ddresid250_trunc_actual.append(actual_depth_values[i])\n",
    "\n",
    "\n",
    "            except: \n",
    "                pass\n"
   ]
  },
  {
   "cell_type": "code",
   "execution_count": 348,
   "metadata": {},
   "outputs": [
    {
     "data": {
      "text/plain": [
       "(144, 144, 144)"
      ]
     },
     "execution_count": 348,
     "metadata": {},
     "output_type": "execute_result"
    }
   ],
   "source": [
    "len(trunc_residuals_derivedVE_250), len(ddresid250_trunc_vgpSize), len(trunc_derivedVE_250)"
   ]
  },
  {
   "cell_type": "code",
   "execution_count": 349,
   "metadata": {},
   "outputs": [],
   "source": [
    "ddresid1000_trunc_vgpSize = []\n",
    "ddresid1000_trunc_gpSize = []\n",
    "ddresid1000_trunc_actual = []\n",
    "\n",
    "trunc_residuals_derivedVE_1000 = []\n",
    "\n",
    "trunc_derivedVE_1000 = []\n",
    "\n",
    "for i in range(len(actual_depth_values)):\n",
    "    if type(ordered_gp_size[i]) == float: \n",
    "        if folders[i] in derivedVE_dict_1000.keys():\n",
    "            \n",
    "            try:\n",
    "                if ordered_vgp_size[i] != None:\n",
    "                    \n",
    "                    trunc_residuals_derivedVE_1000.append(derivedVE_dict_1000[folders[i]][1])\n",
    "\n",
    "\n",
    "                    trunc_derivedVE_1000.append(derivedVE_dict_1000[folders[i]][0])\n",
    "\n",
    "                    ddresid1000_trunc_vgpSize.append(ordered_vgp_size[i])\n",
    "                    ddresid1000_trunc_gpSize.append(ordered_gp_size[i])\n",
    "\n",
    "                    ddresid1000_trunc_actual.append(actual_depth_values[i])\n",
    "\n",
    "\n",
    "            except: \n",
    "                pass\n"
   ]
  },
  {
   "cell_type": "code",
   "execution_count": 350,
   "metadata": {},
   "outputs": [
    {
     "data": {
      "text/plain": [
       "(144, 144, 144)"
      ]
     },
     "execution_count": 350,
     "metadata": {},
     "output_type": "execute_result"
    }
   ],
   "source": [
    "len(trunc_residuals_derivedVE_1000), len(ddresid1000_trunc_vgpSize), len(trunc_derivedVE_1000)"
   ]
  },
  {
   "cell_type": "code",
   "execution_count": 318,
   "metadata": {},
   "outputs": [],
   "source": [
    "# plt.plot(trunc_gpSize, trunc_vgpSize, 'o')"
   ]
  },
  {
   "cell_type": "code",
   "execution_count": 319,
   "metadata": {},
   "outputs": [
    {
     "data": {
      "image/png": "[encoded data removed]",
      "text/plain": [
       "<Figure size 576x432 with 1 Axes>"
      ]
     },
     "metadata": {
      "needs_background": "light"
     },
     "output_type": "display_data"
    }
   ],
   "source": [
    "plt.figure(figsize=[8,6])\n",
    "plt.title('Distribution of GP and VGP Size')\n",
    "plt.hist(trunc_gpSize, label='GP')\n",
    "plt.hist(trunc_vgpSize, label='VGP')\n",
    "\n",
    "plt.ylabel('count')\n",
    "plt.xlabel('SA (meters-squared)')\n",
    "\n",
    "plt.legend()\n",
    "plt.show();"
   ]
  },
  {
   "cell_type": "code",
   "execution_count": 332,
   "metadata": {},
   "outputs": [],
   "source": [
    "# corr, p-value\n",
    "# print('Correlation between Discrimination Derived VE and VGP/GP SA')\n",
    "# print('125 ms: ',stats.pearsonr(trunc_derivedVE_125, ddtrunc_vgpSize_gpSize))\n",
    "# print('250 ms: ',stats.pearsonr(trunc_derivedVE_250, ddtrunc_vgpSize_gpSize))\n",
    "# print('1000 ms: ',stats.pearsonr(trunc_derivedVE_1000, ddtrunc_vgpSize_gpSize))\n",
    "\n"
   ]
  },
  {
   "cell_type": "code",
   "execution_count": 351,
   "metadata": {},
   "outputs": [
    {
     "name": "stdout",
     "output_type": "stream",
     "text": [
      "Correlation between Discrimination Derived VE and VGP SA\n",
      "125 ms:  (0.15116278545663317, 0.07052075003377171)\n",
      "250 ms:  (0.2689469487789052, 0.0011160606553836184)\n",
      "1000 ms:  (0.03671516636157224, 0.6621914908691036)\n"
     ]
    }
   ],
   "source": [
    "# corr, p-value\n",
    "print('Correlation between Discrimination Derived VE and VGP SA')\n",
    "print('125 ms: ',stats.pearsonr(trunc_derivedVE_125, ddresid125_trunc_vgpSize))\n",
    "print('250 ms: ',stats.pearsonr(trunc_derivedVE_250, ddresid250_trunc_vgpSize))\n",
    "print('1000 ms: ',stats.pearsonr(trunc_derivedVE_1000, ddresid1000_trunc_vgpSize))\n",
    "\n"
   ]
  },
  {
   "cell_type": "code",
   "execution_count": 352,
   "metadata": {},
   "outputs": [
    {
     "name": "stdout",
     "output_type": "stream",
     "text": [
      "Correlation between Discrimination Derived VE and GP SA\n",
      "125 ms:  (0.1361483930320478, 0.10371003106856827)\n",
      "250 ms:  (0.11004233462067846, 0.18918614848539492)\n",
      "1000 ms:  (0.10826332148646904, 0.1964828391582164)\n"
     ]
    }
   ],
   "source": [
    "# corr, p-value\n",
    "print('Correlation between Discrimination Derived VE and GP SA')\n",
    "print('125 ms: ',stats.pearsonr(trunc_derivedVE_125, ddresid125_trunc_gpSize))\n",
    "print('250 ms: ',stats.pearsonr(trunc_derivedVE_250, ddresid250_trunc_gpSize))\n",
    "print('1000 ms: ',stats.pearsonr(trunc_derivedVE_1000, ddresid1000_trunc_gpSize))\n"
   ]
  },
  {
   "cell_type": "code",
   "execution_count": 353,
   "metadata": {},
   "outputs": [],
   "source": [
    "# corr, p-value\n",
    "# print('Correlation between Discrimination Derived VE Linear Model Residuals and VGP/GP SA')\n",
    "# print('125 ms: ',stats.pearsonr(trunc_residuals_derivedVE_125, ddtrunc_vgpSize_gpSize))\n",
    "# print('250 ms: ',stats.pearsonr(trunc_residuals_derivedVE_250, ddtrunc_vgpSize_gpSize))\n",
    "# print('1000 ms: ',stats.pearsonr(trunc_residuals_derivedVE_1000, ddtrunc_vgpSize_gpSize))\n",
    "\n"
   ]
  },
  {
   "cell_type": "code",
   "execution_count": 354,
   "metadata": {},
   "outputs": [
    {
     "name": "stdout",
     "output_type": "stream",
     "text": [
      "Correlation between Discrimination Derived VE Linear Model Residuals and VGP SA\n",
      "125 ms:  (0.041504117762081134, 0.6213615365230458)\n",
      "250 ms:  (0.1788778844865339, 0.0319400946270712)\n",
      "1000 ms:  (-0.10790140607442308, 0.19799188530109738)\n"
     ]
    }
   ],
   "source": [
    "# corr, p-value\n",
    "print('Correlation between Discrimination Derived VE Linear Model Residuals and VGP SA')\n",
    "print('125 ms: ',stats.pearsonr(trunc_residuals_derivedVE_125, ddresid125_trunc_vgpSize))\n",
    "print('250 ms: ',stats.pearsonr(trunc_residuals_derivedVE_250, ddresid250_trunc_vgpSize))\n",
    "print('1000 ms: ',stats.pearsonr(trunc_residuals_derivedVE_1000, ddresid1000_trunc_vgpSize))\n",
    "\n"
   ]
  },
  {
   "cell_type": "code",
   "execution_count": 355,
   "metadata": {},
   "outputs": [
    {
     "name": "stdout",
     "output_type": "stream",
     "text": [
      "Correlation between Discrimination Derived VE Linear Model Residuals and GP SA\n",
      "125 ms:  (-0.012590265553062446, 0.8809442129196662)\n",
      "250 ms:  (-0.04890144319147932, 0.5605320924912872)\n",
      "1000 ms:  (-0.117864839717674, 0.15943914315901628)\n"
     ]
    }
   ],
   "source": [
    "# corr, p-value\n",
    "print('Correlation between Discrimination Derived VE Linear Model Residuals and GP SA')\n",
    "print('125 ms: ',stats.pearsonr(trunc_residuals_derivedVE_125, ddresid125_trunc_gpSize))\n",
    "print('250 ms: ',stats.pearsonr(trunc_residuals_derivedVE_250, ddresid250_trunc_gpSize))\n",
    "print('1000 ms: ',stats.pearsonr(trunc_residuals_derivedVE_1000, ddresid1000_trunc_gpSize))\n",
    "\n"
   ]
  },
  {
   "cell_type": "code",
   "execution_count": 356,
   "metadata": {},
   "outputs": [
    {
     "data": {
      "text/plain": [
       "(0.6162035194788191, 1.2431826720725843e-16)"
      ]
     },
     "execution_count": 356,
     "metadata": {},
     "output_type": "execute_result"
    }
   ],
   "source": [
    "stats.pearsonr(trunc_vgpSize, trunc_gpSize)"
   ]
  },
  {
   "cell_type": "code",
   "execution_count": 374,
   "metadata": {},
   "outputs": [
    {
     "data": {
      "image/png": "[encoded data removed]",
      "text/plain": [
       "<Figure size 576x576 with 1 Axes>"
      ]
     },
     "metadata": {
      "needs_background": "light"
     },
     "output_type": "display_data"
    }
   ],
   "source": [
    "\n",
    "fig, ax = plt.subplots(figsize=[8,8])\n",
    "ax.spines['right'].set_visible(False)\n",
    "\n",
    "ax.spines['top'].set_visible(False)\n",
    "\n",
    "plt.plot(ddresid250_trunc_vgpSize, trunc_residuals_derivedVE_250, 'o', color='chocolate')\n",
    "plt.xlabel('VGP Size', fontsize=15)\n",
    "plt.ylabel('Discrimination Derived VE Linear Model Residuals', fontsize=15)\n",
    "plt.title('250 ms', fontsize=22)\n",
    "plt.show();"
   ]
  },
  {
   "cell_type": "markdown",
   "metadata": {},
   "source": [
    "### Absolute Value"
   ]
  },
  {
   "cell_type": "code",
   "execution_count": 387,
   "metadata": {},
   "outputs": [
    {
     "name": "stdout",
     "output_type": "stream",
     "text": [
      "Correlation between Abs Discrimination Derived VE Linear Model Residuals and VGP SA\n",
      "125 ms:  (-0.161375062907778, 0.05332151892367426)\n",
      "250 ms:  (0.12875710992172462, 0.12404163243405769)\n",
      "1000 ms:  (0.18562520995990003, 0.025914902392351703)\n"
     ]
    }
   ],
   "source": [
    "# corr, p-value\n",
    "print('Correlation between Abs Discrimination Derived VE Linear Model Residuals and VGP SA')\n",
    "print('125 ms: ',stats.pearsonr(np.abs(trunc_residuals_derivedVE_125), ddresid125_trunc_vgpSize))\n",
    "print('250 ms: ',stats.pearsonr(np.abs(trunc_residuals_derivedVE_250), ddresid250_trunc_vgpSize))\n",
    "print('1000 ms: ',stats.pearsonr(np.abs(trunc_residuals_derivedVE_1000), ddresid1000_trunc_vgpSize))\n",
    "\n"
   ]
  },
  {
   "cell_type": "code",
   "execution_count": 388,
   "metadata": {},
   "outputs": [
    {
     "name": "stdout",
     "output_type": "stream",
     "text": [
      "Correlation between Abs Discrimination Derived VE Linear Model Residuals and GP SA\n",
      "125 ms:  (-0.11727388567249111, 0.16155618172009023)\n",
      "250 ms:  (0.053544000056581734, 0.5238737318296363)\n",
      "1000 ms:  (0.049930347434984756, 0.5523027367756036)\n"
     ]
    }
   ],
   "source": [
    "# corr, p-value\n",
    "print('Correlation between Abs Discrimination Derived VE Linear Model Residuals and GP SA')\n",
    "print('125 ms: ',stats.pearsonr(np.abs(trunc_residuals_derivedVE_125), ddresid125_trunc_gpSize))\n",
    "print('250 ms: ',stats.pearsonr(np.abs(trunc_residuals_derivedVE_250), ddresid250_trunc_gpSize))\n",
    "print('1000 ms: ',stats.pearsonr(np.abs(trunc_residuals_derivedVE_1000), ddresid1000_trunc_gpSize))\n",
    "\n"
   ]
  },
  {
   "cell_type": "markdown",
   "metadata": {},
   "source": [
    "### Linear Model Residuals x GP Metrics"
   ]
  },
  {
   "cell_type": "code",
   "execution_count": 360,
   "metadata": {},
   "outputs": [],
   "source": [
    "# corr, p-value\n",
    "# print('Correlation between Linear Model Residuals and VGP/GP SA')\n",
    "# print('125 ms: ',stats.pearsonr(trunc_resid_125, trunc_vgpSize_gpSize))\n",
    "# print('250 ms: ',stats.pearsonr(trunc_resid_250, trunc_vgpSize_gpSize))\n",
    "# print('1000 ms: ',stats.pearsonr(trunc_resid_1000, trunc_vgpSize_gpSize))"
   ]
  },
  {
   "cell_type": "code",
   "execution_count": 361,
   "metadata": {},
   "outputs": [
    {
     "name": "stdout",
     "output_type": "stream",
     "text": [
      "Correlation between Linear Model Residuals and VGP SA\n",
      "125 ms:  (-0.12135062754799093, 0.14454320458729428)\n",
      "250 ms:  (-0.14347177210860673, 0.08405557300919134)\n",
      "1000 ms:  (-0.2124707561379804, 0.010032893184783726)\n"
     ]
    }
   ],
   "source": [
    "# corr, p-value\n",
    "print('Correlation between Linear Model Residuals and VGP SA')\n",
    "print('125 ms: ',stats.pearsonr(trunc_resid_125, trunc_vgpSize))\n",
    "print('250 ms: ',stats.pearsonr(trunc_resid_250, trunc_vgpSize))\n",
    "print('1000 ms: ',stats.pearsonr(trunc_resid_1000, trunc_vgpSize))"
   ]
  },
  {
   "cell_type": "code",
   "execution_count": 362,
   "metadata": {},
   "outputs": [
    {
     "name": "stdout",
     "output_type": "stream",
     "text": [
      "Correlation between Linear Model Residuals and GP SA\n",
      "125 ms:  (-0.15670746154393667, 0.05890318746764178)\n",
      "250 ms:  (-0.1377322885746432, 0.09735149523113906)\n",
      "1000 ms:  (-0.20193286386377668, 0.01451634176686887)\n"
     ]
    }
   ],
   "source": [
    "# corr, p-value\n",
    "print('Correlation between Linear Model Residuals and GP SA')\n",
    "print('125 ms: ',stats.pearsonr(trunc_resid_125, trunc_gpSize))\n",
    "print('250 ms: ',stats.pearsonr(trunc_resid_250, trunc_gpSize))\n",
    "print('1000 ms: ',stats.pearsonr(trunc_resid_1000, trunc_gpSize))"
   ]
  },
  {
   "cell_type": "code",
   "execution_count": 379,
   "metadata": {},
   "outputs": [
    {
     "data": {
      "image/png": "[encoded data removed]",
      "text/plain": [
       "<Figure size 576x576 with 1 Axes>"
      ]
     },
     "metadata": {
      "needs_background": "light"
     },
     "output_type": "display_data"
    }
   ],
   "source": [
    "\n",
    "fig, ax = plt.subplots(figsize=[8,8])\n",
    "ax.spines['right'].set_visible(False)\n",
    "\n",
    "ax.spines['top'].set_visible(False)\n",
    "\n",
    "plt.plot(trunc_gpSize, trunc_resid_1000, 'o', color='darkviolet')\n",
    "plt.xlabel('GP Size', fontsize=18)\n",
    "plt.ylabel('VE Linear Model Residuals', fontsize=18)\n",
    "plt.xticks(fontsize=15)\n",
    "plt.yticks(fontsize=15)\n",
    "plt.title('1000 ms', fontsize=22)\n",
    "plt.show();"
   ]
  },
  {
   "cell_type": "markdown",
   "metadata": {},
   "source": [
    "### Combined duration residuals"
   ]
  },
  {
   "cell_type": "code",
   "execution_count": 233,
   "metadata": {},
   "outputs": [
    {
     "name": "stdout",
     "output_type": "stream",
     "text": [
      "Correlation between Average Linear Model Residuals and GP SA\n",
      "(-0.16923056150525373, 0.04115183374434083)\n",
      "\n",
      "Correlation between All Linear Model Residuals and GP SA * 3\n",
      "(-0.16574524531314772, 0.0004958313443893928)\n",
      "\n",
      "Correlation between Average Linear Model Residuals and VGP SA\n",
      "(-0.16252848517943774, 0.04999448388121269)\n",
      "\n",
      "Correlation between All Linear Model Residuals and VGP SA * 3\n",
      "(-0.15918119875530823, 0.0008280722120131336)\n"
     ]
    }
   ],
   "source": [
    "# corr, p-value\n",
    "print('Correlation between Average Linear Model Residuals and GP SA')\n",
    "print(stats.pearsonr(np.mean([trunc_resid_125, trunc_resid_250, trunc_resid_1000], axis=0), trunc_gpSize))\n",
    "\n",
    "print()\n",
    "\n",
    "print('Correlation between All Linear Model Residuals and GP SA * 3')\n",
    "print(stats.pearsonr(trunc_resid_125 + trunc_resid_250 + trunc_resid_1000, trunc_gpSize*3))\n",
    "\n",
    "print()\n",
    "\n",
    "print('Correlation between Average Linear Model Residuals and VGP SA')\n",
    "print(stats.pearsonr(np.mean([trunc_resid_125, trunc_resid_250, trunc_resid_1000], axis=0), trunc_vgpSize))\n",
    "\n",
    "print()\n",
    "\n",
    "print('Correlation between All Linear Model Residuals and VGP SA * 3')\n",
    "print(stats.pearsonr(trunc_resid_125 + trunc_resid_250 + trunc_resid_1000, trunc_vgpSize*3))"
   ]
  },
  {
   "cell_type": "code",
   "execution_count": 386,
   "metadata": {},
   "outputs": [
    {
     "name": "stdout",
     "output_type": "stream",
     "text": [
      "Correlation between Abs Average Linear Model Residuals and GP SA\n",
      "(0.2598433865982174, 0.0015386195371790586)\n",
      "\n",
      "Correlation between Abs All Linear Model Residuals and GP SA * 3\n",
      "(0.2487497849870947, 1.3333866036168914e-07)\n",
      "\n",
      "Correlation between Abs Average Linear Model Residuals and VGP SA\n",
      "(0.11352884375460205, 0.17244215472526628)\n",
      "\n",
      "Correlation between Abs All Linear Model Residuals and VGP SA * 3\n",
      "(0.10967366406113549, 0.02169478164791536)\n"
     ]
    }
   ],
   "source": [
    "# corr, p-value\n",
    "print('Correlation between Abs Average Linear Model Residuals and GP SA')\n",
    "print(stats.pearsonr(np.abs(np.mean([trunc_resid_125, trunc_resid_250, trunc_resid_1000], axis=0)), trunc_gpSize))\n",
    "\n",
    "print()\n",
    "\n",
    "print('Correlation between Abs All Linear Model Residuals and GP SA * 3')\n",
    "print(stats.pearsonr(np.abs(np.array(trunc_resid_125 + trunc_resid_250 + trunc_resid_1000)), trunc_gpSize*3))\n",
    "\n",
    "print()\n",
    "\n",
    "print('Correlation between Abs Average Linear Model Residuals and VGP SA')\n",
    "print(stats.pearsonr(np.abs(np.mean([trunc_resid_125, trunc_resid_250, trunc_resid_1000], axis=0)), trunc_vgpSize))\n",
    "\n",
    "print()\n",
    "\n",
    "print('Correlation between Abs All Linear Model Residuals and VGP SA * 3')\n",
    "print(stats.pearsonr(np.abs(trunc_resid_125 + trunc_resid_250 + trunc_resid_1000), trunc_vgpSize*3))"
   ]
  },
  {
   "cell_type": "code",
   "execution_count": 375,
   "metadata": {},
   "outputs": [
    {
     "data": {
      "image/png": "[encoded data removed]",
      "text/plain": [
       "<Figure size 432x432 with 1 Axes>"
      ]
     },
     "metadata": {
      "needs_background": "light"
     },
     "output_type": "display_data"
    }
   ],
   "source": [
    "import matplotlib.pyplot as plt\n",
    "\n",
    "fig, ax = plt.subplots(figsize=[6,6])\n",
    "ax.spines['right'].set_visible(False)\n",
    "ax.spines['top'].set_visible(False)\n",
    "\n",
    "plt.plot(trunc_vgpSize*3, trunc_resid_125 + trunc_resid_250 + trunc_resid_1000, 'o', color='black')\n",
    "plt.tight_layout()\n",
    "plt.xlabel('VGP Surface Area', fontsize=15)\n",
    "plt.ylabel('VE Linear Model Residuals', fontsize=15)\n",
    "plt.yticks(np.arange(-1,1.2, 0.4),fontsize=12)\n",
    "plt.xticks(fontsize=12)\n",
    "plt.show();"
   ]
  },
  {
   "cell_type": "code",
   "execution_count": 252,
   "metadata": {},
   "outputs": [
    {
     "data": {
      "image/png": "[encoded data removed]",
      "text/plain": [
       "<Figure size 432x432 with 1 Axes>"
      ]
     },
     "metadata": {
      "needs_background": "light"
     },
     "output_type": "display_data"
    }
   ],
   "source": [
    "import matplotlib.pyplot as plt\n",
    "\n",
    "fig, ax = plt.subplots(figsize=[6,6])\n",
    "ax.spines['right'].set_visible(False)\n",
    "ax.spines['top'].set_visible(False)\n",
    "\n",
    "plt.plot(trunc_gpSize*3, trunc_resid_125 + trunc_resid_250 + trunc_resid_1000, 'o', color='black', alpha=0.6)\n",
    "plt.tight_layout()\n",
    "plt.xlabel('GP Surface Arera', fontsize=15)\n",
    "plt.ylabel('VE Linear Model Residuals', fontsize=15)\n",
    "plt.yticks(np.arange(-1,1.2, 0.4),fontsize=12)\n",
    "plt.xticks(fontsize=12)\n",
    "plt.show();"
   ]
  },
  {
   "cell_type": "markdown",
   "metadata": {},
   "source": [
    "### Issue: The correlations are all against the a gpSize list that is constrained by the 125 ms outliers in the residuals \n",
    "\n",
    "Each duration has different ones excluded "
   ]
  },
  {
   "cell_type": "code",
   "execution_count": 365,
   "metadata": {},
   "outputs": [
    {
     "name": "stdout",
     "output_type": "stream",
     "text": [
      "Correlation between Average Discrimination Derived Linear Model Residuals and GP SA\n",
      "(-0.06356328882014185, 0.44912324733521497)\n",
      "\n",
      "Correlation between All Discrimination Derived Linear Model Residuals and GP SA * 3\n",
      "(-0.04462134335721213, 0.3548561813902531)\n",
      "\n",
      "Correlation between Average Discrimination Derived Linear Model Residuals and VGP SA\n",
      "(0.1206185394015979, 0.14984735723069295)\n",
      "\n",
      "Correlation between All Discrimination Derived Linear Model Residuals and VGP SA * 3\n",
      "(0.0846740526141345, 0.0787515499373762)\n"
     ]
    }
   ],
   "source": [
    "# corr, p-value\n",
    "print('Correlation between Average Discrimination Derived Linear Model Residuals and GP SA')\n",
    "print(stats.pearsonr(np.mean([trunc_residuals_derivedVE_125, trunc_residuals_derivedVE_250, trunc_residuals_derivedVE_1000], axis=0), ddresid125_trunc_gpSize))\n",
    "\n",
    "print()\n",
    "\n",
    "print('Correlation between All Discrimination Derived Linear Model Residuals and GP SA * 3')\n",
    "print(stats.pearsonr(trunc_residuals_derivedVE_125 + trunc_residuals_derivedVE_250 + trunc_residuals_derivedVE_1000, ddresid125_trunc_gpSize*3))\n",
    "\n",
    "print()\n",
    "\n",
    "print('Correlation between Average Discrimination Derived Linear Model Residuals and VGP SA')\n",
    "print(stats.pearsonr(np.mean([trunc_residuals_derivedVE_125, trunc_residuals_derivedVE_250, trunc_residuals_derivedVE_1000], axis=0), ddresid125_trunc_vgpSize))\n",
    "\n",
    "print()\n",
    "\n",
    "print('Correlation between All Discrimination Derived Linear Model Residuals and VGP SA * 3')\n",
    "print(stats.pearsonr(trunc_residuals_derivedVE_125 + trunc_residuals_derivedVE_250 + trunc_residuals_derivedVE_1000, ddresid125_trunc_vgpSize*3))"
   ]
  },
  {
   "cell_type": "code",
   "execution_count": 390,
   "metadata": {},
   "outputs": [
    {
     "name": "stdout",
     "output_type": "stream",
     "text": [
      "Correlation between Abs Average Discrimination Derived Linear Model Residuals and GP SA\n",
      "(0.0026669576818944933, 0.9746916582807302)\n",
      "\n",
      "Correlation between Abs All Discrimination Derived Linear Model Residuals and GP SA * 3\n",
      "(-0.022457770615558155, 0.6415861226650353)\n",
      "\n",
      "Correlation between Abs Average Discrimination Derived Linear Model Residuals and VGP SA\n",
      "(-0.010501013859100227, 0.9005889769909925)\n",
      "\n",
      "Correlation between Abs All Discrimination Derived Linear Model Residuals and VGP SA * 3\n",
      "(-0.01654888950220929, 0.7316066528370408)\n"
     ]
    }
   ],
   "source": [
    "# corr, p-value\n",
    "print('Correlation between Abs Average Discrimination Derived Linear Model Residuals and GP SA')\n",
    "print(stats.pearsonr(np.abs(np.mean([trunc_residuals_derivedVE_125, trunc_residuals_derivedVE_250, trunc_residuals_derivedVE_1000], axis=0)), ddresid125_trunc_gpSize))\n",
    "\n",
    "print()\n",
    "\n",
    "print('Correlation between Abs All Discrimination Derived Linear Model Residuals and GP SA * 3')\n",
    "print(stats.pearsonr(np.abs(trunc_residuals_derivedVE_125 + trunc_residuals_derivedVE_250 + trunc_residuals_derivedVE_1000), ddresid125_trunc_gpSize*3))\n",
    "\n",
    "print()\n",
    "\n",
    "print('Correlation between Abs Average Discrimination Derived Linear Model Residuals and VGP SA')\n",
    "print(stats.pearsonr(np.abs(np.mean([trunc_residuals_derivedVE_125, trunc_residuals_derivedVE_250, trunc_residuals_derivedVE_1000], axis=0)), ddresid125_trunc_vgpSize))\n",
    "\n",
    "print()\n",
    "\n",
    "print('Correlation between Abs All Discrimination Derived Linear Model Residuals and VGP SA * 3')\n",
    "print(stats.pearsonr(np.abs(trunc_residuals_derivedVE_125 + trunc_residuals_derivedVE_250 + trunc_residuals_derivedVE_1000), ddresid125_trunc_vgpSize*3))\n"
   ]
  },
  {
   "cell_type": "markdown",
   "metadata": {},
   "source": [
    "### STANDARD DEVIATION"
   ]
  },
  {
   "cell_type": "code",
   "execution_count": 380,
   "metadata": {},
   "outputs": [
    {
     "name": "stdout",
     "output_type": "stream",
     "text": [
      "Correlation between SD and VGP/GP SA\n",
      "125 ms:  (-0.19097954518282062, 0.020939424151127796)\n",
      "250 ms:  (-0.2315658322225853, 0.004918858421207145)\n",
      "1000 ms:  (-0.12128941293075067, 0.1447473804102024)\n"
     ]
    }
   ],
   "source": [
    "# corr, p-value\n",
    "print('Correlation between SD and VGP/GP SA')\n",
    "print('125 ms: ',stats.pearsonr(trunc_std_125, trunc_vgpSize_gpSize))\n",
    "print('250 ms: ',stats.pearsonr(trunc_std_250, trunc_vgpSize_gpSize))\n",
    "print('1000 ms: ',stats.pearsonr(trunc_std_1000, trunc_vgpSize_gpSize))"
   ]
  },
  {
   "cell_type": "code",
   "execution_count": 381,
   "metadata": {},
   "outputs": [
    {
     "name": "stdout",
     "output_type": "stream",
     "text": [
      "Correlation between SD and VGP SA\n",
      "125 ms:  (-0.01043815530247047, 0.9004887162470868)\n",
      "250 ms:  (0.12269430224536114, 0.14011631585760778)\n",
      "1000 ms:  (0.1321944625750757, 0.11170622882987143)\n"
     ]
    }
   ],
   "source": [
    "# corr, p-value\n",
    "print('Correlation between SD and VGP SA')\n",
    "print('125 ms: ',stats.pearsonr(trunc_std_125, trunc_vgpSize))\n",
    "print('250 ms: ',stats.pearsonr(trunc_std_250, trunc_vgpSize))\n",
    "print('1000 ms: ',stats.pearsonr(trunc_std_1000, trunc_vgpSize))"
   ]
  },
  {
   "cell_type": "code",
   "execution_count": 382,
   "metadata": {},
   "outputs": [
    {
     "name": "stdout",
     "output_type": "stream",
     "text": [
      "Correlation between SD and GP SA\n",
      "125 ms:  (0.13465855002268057, 0.10512722352183726)\n",
      "250 ms:  (0.33606228675938876, 3.368301660539611e-05)\n",
      "1000 ms:  (0.2394319336573931, 0.0036066733185629684)\n"
     ]
    }
   ],
   "source": [
    "# corr, p-value\n",
    "print('Correlation between SD and GP SA')\n",
    "print('125 ms: ',stats.pearsonr(trunc_std_125, trunc_gpSize))\n",
    "print('250 ms: ',stats.pearsonr(trunc_std_250, trunc_gpSize))\n",
    "print('1000 ms: ',stats.pearsonr(trunc_std_1000, trunc_gpSize))"
   ]
  },
  {
   "cell_type": "markdown",
   "metadata": {},
   "source": [
    "#### Absolute value of residuals"
   ]
  },
  {
   "cell_type": "code",
   "execution_count": 369,
   "metadata": {},
   "outputs": [
    {
     "name": "stdout",
     "output_type": "stream",
     "text": [
      "Correlation between Abs(Linear Model Residuals) and VGP/GP\n",
      "125 ms:  (-0.11457856189957966, 0.16848208667910153)\n",
      "250 ms:  (-0.13868712604076536, 0.09503091493469343)\n",
      "1000 ms:  (-0.1344856130457617, 0.10557879643993258)\n"
     ]
    }
   ],
   "source": [
    "# corr, p-value\n",
    "print('Correlation between Abs(Linear Model Residuals) and VGP/GP')\n",
    "print('125 ms: ',stats.pearsonr(np.abs(trunc_resid_125), trunc_vgpSize_gpSize))\n",
    "print('250 ms: ',stats.pearsonr(np.abs(trunc_resid_250), trunc_vgpSize_gpSize))\n",
    "print('1000 ms: ',stats.pearsonr(np.abs(trunc_resid_1000), trunc_vgpSize_gpSize))\n",
    "\n",
    "# interp: clutter (pixel space)"
   ]
  },
  {
   "cell_type": "code",
   "execution_count": 370,
   "metadata": {},
   "outputs": [
    {
     "name": "stdout",
     "output_type": "stream",
     "text": [
      "Correlation between Abs(Linear Model Residuals) and VGP\n",
      "125 ms:  (0.14744479360935234, 0.07573481378634103)\n",
      "250 ms:  (0.08107660863978602, 0.330635610769689)\n",
      "1000 ms:  (0.09817373652071407, 0.23844134832980382)\n"
     ]
    }
   ],
   "source": [
    "# corr, p-value\n",
    "print('Correlation between Abs(Linear Model Residuals) and VGP')\n",
    "print('125 ms: ',stats.pearsonr(np.abs(trunc_resid_125), trunc_vgpSize))\n",
    "print('250 ms: ',stats.pearsonr(np.abs(trunc_resid_250), trunc_vgpSize))\n",
    "print('1000 ms: ',stats.pearsonr(np.abs(trunc_resid_1000), trunc_vgpSize))"
   ]
  },
  {
   "cell_type": "code",
   "execution_count": 371,
   "metadata": {},
   "outputs": [
    {
     "name": "stdout",
     "output_type": "stream",
     "text": [
      "Correlation between Abs(Linear Model Residuals) and GP\n",
      "125 ms:  (0.2449766519876921, 0.002880899100976789)\n",
      "250 ms:  (0.2521511369576318, 0.0021381936569689853)\n",
      "1000 ms:  (0.25006653588645994, 0.002333704246205095)\n"
     ]
    }
   ],
   "source": [
    "# corr, p-value\n",
    "print('Correlation between Abs(Linear Model Residuals) and GP')\n",
    "print('125 ms: ',stats.pearsonr(np.abs(trunc_resid_125), trunc_gpSize))\n",
    "print('250 ms: ',stats.pearsonr(np.abs(trunc_resid_250), trunc_gpSize))\n",
    "print('1000 ms: ',stats.pearsonr(np.abs(trunc_resid_1000), trunc_gpSize))"
   ]
  },
  {
   "cell_type": "code",
   "execution_count": null,
   "metadata": {},
   "outputs": [],
   "source": []
  },
  {
   "cell_type": "code",
   "execution_count": 383,
   "metadata": {},
   "outputs": [
    {
     "name": "stdout",
     "output_type": "stream",
     "text": [
      "m: [0.00507062]\n",
      "b: 0.19056795146507471\n",
      "R-squared:  0.060013560019098966\n"
     ]
    },
    {
     "data": {
      "text/plain": [
       "0.06"
      ]
     },
     "execution_count": 383,
     "metadata": {},
     "output_type": "execute_result"
    },
    {
     "data": {
      "image/png": "[encoded data removed]",
      "text/plain": [
       "<Figure size 432x432 with 1 Axes>"
      ]
     },
     "metadata": {
      "needs_background": "light"
     },
     "output_type": "display_data"
    }
   ],
   "source": [
    "fig, ax = plt.subplots(figsize=[6,6])\n",
    "ax.spines['right'].set_visible(False)\n",
    "ax.spines['top'].set_visible(False)\n",
    "plt.tight_layout()\n",
    "\n",
    "#run regression\n",
    "X = np.array(trunc_gpSize).reshape(-1,1)\n",
    "y = np.abs(trunc_resid_125)\n",
    "reg = LinearRegression().fit(X, y)\n",
    "\n",
    "#Generated Predictions\n",
    "y_predicted = reg.predict(X)\n",
    "#Plot Our Actual and Predicted Values\n",
    "plt.plot(X, y, '*', color='black', alpha = 0.5);\n",
    "plt.plot(X,y_predicted,color='darkgreen', label = 'm = ' + str(round(reg.coef_[0], 3))\n",
    "         + '     r-squared = ' + str(round(float(reg.score(X, y)), 3)))\n",
    "plt.title(\"125 ms\", fontsize = 20)\n",
    "plt.xlabel(\"Complete Ground Plane Surface Area (meters-squared)\", fontsize = 15)\n",
    "plt.ylabel(\"Abs(Linear Model Residuals)\", fontsize = 15)\n",
    "\n",
    "legend = plt.legend(loc = 0, fontsize = 13, borderpad = 0.6, labelspacing = 1)\n",
    "legend.get_frame().set_facecolor('lightgray')\n",
    "\n",
    "\n",
    "#get coefficients and y intercept\n",
    "print(\"m: {0}\".format(reg.coef_))\n",
    "print(\"b: {0}\".format(reg.intercept_))\n",
    "\n",
    "#Returns the coefficient of determination R^2 of the prediction.\n",
    "print(\"R-squared: \", reg.score(X, y))\n",
    "\n",
    "round(float(reg.score(X, y)), 3)"
   ]
  },
  {
   "cell_type": "code",
   "execution_count": 356,
   "metadata": {},
   "outputs": [],
   "source": [
    "# plt.figure(figsize = [7,7])\n",
    "# #run regression\n",
    "# X = np.array(trunc_gpSize).reshape(-1,1)\n",
    "# y = np.abs(trunc_resid_1000)\n",
    "# reg = LinearRegression().fit(X, y)\n",
    "\n",
    "# #Generated Predictions\n",
    "# y_predicted = reg.predict(X)\n",
    "# #Plot Our Actual and Predicted Values\n",
    "# plt.plot(X, y, 'o', color='black', alpha = 0.5);\n",
    "# plt.plot(X,y_predicted,color='darkviolet', label = 'm = ' + str(round(reg.coef_[0], 3))\n",
    "#          + '     r-squared = ' + str(round(float(reg.score(X, y)), 3)))\n",
    "# plt.title(\"1000 ms\", fontsize = 20)\n",
    "# plt.xlabel(\"Ground Plane Surface Area (meters-squared)\", fontsize = 15)\n",
    "# plt.ylabel(\"Linear Model Residuals\", fontsize = 15)\n",
    "\n",
    "# legend = plt.legend(loc = 0, fontsize = 13, borderpad = 0.6, labelspacing = 1)\n",
    "# legend.get_frame().set_facecolor('lightgray')\n",
    "\n",
    "\n",
    "# #get coefficients and y intercept\n",
    "# print(\"m: {0}\".format(reg.coef_))\n",
    "# print(\"b: {0}\".format(reg.intercept_))\n",
    "\n",
    "# #Returns the coefficient of determination R^2 of the prediction.\n",
    "# print(\"R-squared: \", reg.score(X, y))\n",
    "\n",
    "# round(float(reg.score(X, y)), 3)"
   ]
  },
  {
   "cell_type": "markdown",
   "metadata": {},
   "source": [
    "#### Actual Depth"
   ]
  },
  {
   "cell_type": "code",
   "execution_count": 168,
   "metadata": {},
   "outputs": [],
   "source": [
    "# trunc_vgpSize == trunc_gpSize"
   ]
  },
  {
   "cell_type": "code",
   "execution_count": 261,
   "metadata": {},
   "outputs": [
    {
     "name": "stdout",
     "output_type": "stream",
     "text": [
      "Correlation between Actual Depth and VGP/GP\n",
      "(-0.08630803579661095, 0.30027947496074353)\n",
      "Correlation between Actual Depth and VGP\n",
      "(0.17889075672164295, 0.030739849680656246)\n",
      "Correlation between Actual Depth and GP\n",
      "(0.2597216514034745, 0.0015467718871468219)\n"
     ]
    }
   ],
   "source": [
    "print('Correlation between Actual Depth and VGP/GP')\n",
    "print(stats.pearsonr(trunc_actual, trunc_vgpSize_gpSize))\n",
    "print('Correlation between Actual Depth and VGP')\n",
    "print(stats.pearsonr(trunc_actual, trunc_vgpSize))\n",
    "print('Correlation between Actual Depth and GP')\n",
    "print(stats.pearsonr(trunc_actual, trunc_gpSize))"
   ]
  },
  {
   "cell_type": "code",
   "execution_count": 262,
   "metadata": {},
   "outputs": [
    {
     "name": "stdout",
     "output_type": "stream",
     "text": [
      "m: [-0.01001774]\n",
      "b: 0.08281638855302592\n",
      "R-squared:  0.02058414939198383\n"
     ]
    },
    {
     "data": {
      "text/plain": [
       "0.021"
      ]
     },
     "execution_count": 262,
     "metadata": {},
     "output_type": "execute_result"
    },
    {
     "data": {
      "image/png": "[encoded data removed]",
      "text/plain": [
       "<Figure size 432x432 with 1 Axes>"
      ]
     },
     "metadata": {
      "needs_background": "light"
     },
     "output_type": "display_data"
    }
   ],
   "source": [
    "plt.figure(figsize = [6,6])\n",
    "#run regression\n",
    "X = np.array(trunc_vgpSize).reshape(-1,1)\n",
    "y = trunc_resid_250\n",
    "reg = LinearRegression().fit(X, y)\n",
    "\n",
    "#Generated Predictions\n",
    "y_predicted = reg.predict(X)\n",
    "#Plot Our Actual and Predicted Values\n",
    "plt.plot(X, y, 's', color='black', alpha = 0.5);\n",
    "plt.plot(X,y_predicted,color='chocolate', label = 'm = ' + str(round(reg.coef_[0], 3))\n",
    "         + '     r-squared = ' + str(round(float(reg.score(X, y)), 3)))\n",
    "plt.title(\"250 ms\", fontsize = 20)\n",
    "plt.xlabel(\"Visible Ground Plane SA\", fontsize = 15)\n",
    "plt.ylabel(\"Linear Model Residuals\", fontsize = 15)\n",
    "\n",
    "legend = plt.legend(loc = 0, fontsize = 13, borderpad = 0.6, labelspacing = 1)\n",
    "legend.get_frame().set_facecolor('lightgray')\n",
    "\n",
    "\n",
    "#get coefficients and y intercept\n",
    "print(\"m: {0}\".format(reg.coef_))\n",
    "print(\"b: {0}\".format(reg.intercept_))\n",
    "\n",
    "#Returns the coefficient of determination R^2 of the prediction.\n",
    "print(\"R-squared: \", reg.score(X, y))\n",
    "\n",
    "round(float(reg.score(X, y)), 3)"
   ]
  },
  {
   "cell_type": "code",
   "execution_count": 263,
   "metadata": {},
   "outputs": [
    {
     "name": "stdout",
     "output_type": "stream",
     "text": [
      "m: [-0.01001774]\n",
      "b: 0.08281638855302592\n",
      "R-squared:  0.02058414939198383\n"
     ]
    },
    {
     "data": {
      "text/plain": [
       "0.021"
      ]
     },
     "execution_count": 263,
     "metadata": {},
     "output_type": "execute_result"
    },
    {
     "data": {
      "image/png": "[encoded data removed]",
      "text/plain": [
       "<Figure size 432x432 with 1 Axes>"
      ]
     },
     "metadata": {
      "needs_background": "light"
     },
     "output_type": "display_data"
    }
   ],
   "source": [
    "plt.figure(figsize = [6,6])\n",
    "#run regression\n",
    "X = np.array(trunc_vgpSize).reshape(-1,1)\n",
    "y = trunc_resid_250\n",
    "reg = LinearRegression().fit(X, y)\n",
    "\n",
    "#Generated Predictions\n",
    "y_predicted = reg.predict(X)\n",
    "#Plot Our Actual and Predicted Values\n",
    "plt.plot(X, y, 'v', color='black', alpha = 0.5);\n",
    "plt.plot(X,y_predicted,color='chocolate', label = 'm = ' + str(round(reg.coef_[0], 3))\n",
    "         + '     r-squared = ' + str(round(float(reg.score(X, y)), 3)))\n",
    "plt.title(\"250 ms\", fontsize = 20)\n",
    "plt.xlabel(\"VGP\", fontsize = 15)\n",
    "plt.ylabel(\"Linear Model Residuals\", fontsize = 15)\n",
    "\n",
    "legend = plt.legend(loc = 0, fontsize = 13, borderpad = 0.6, labelspacing = 1)\n",
    "legend.get_frame().set_facecolor('lightgray')\n",
    "\n",
    "\n",
    "#get coefficients and y intercept\n",
    "print(\"m: {0}\".format(reg.coef_))\n",
    "print(\"b: {0}\".format(reg.intercept_))\n",
    "\n",
    "#Returns the coefficient of determination R^2 of the prediction.\n",
    "print(\"R-squared: \", reg.score(X, y))\n",
    "\n",
    "round(float(reg.score(X, y)), 3)"
   ]
  },
  {
   "cell_type": "markdown",
   "metadata": {},
   "source": [
    "## Global Mean Depth"
   ]
  },
  {
   "cell_type": "code",
   "execution_count": 360,
   "metadata": {},
   "outputs": [],
   "source": [
    "# kinect192_path = '/Users/prachimahableshwarkar/Documents/GW/SUNRGBD/updated/kinect2data_192'\n",
    "\n",
    "# stimuli_path = '/Users/prachimahableshwarkar/Documents/GW/Depth_MTurk/depth_duration_stimuli'"
   ]
  },
  {
   "cell_type": "code",
   "execution_count": 264,
   "metadata": {},
   "outputs": [],
   "source": [
    "globalMeanDepths = []\n",
    "for folder in stimfolder_250:\n",
    "    for file in os.listdir(kinect192_path + '/' + folder + '/depth_bfx'):\n",
    "        if 'png' in file:\n",
    "            dm = Image.open(kinect192_path + '/' + folder + '/depth_bfx/' + file)\n",
    "            dm.load()\n",
    "            depth_data = np.asarray(dm)/8000\n",
    "            globalMeanDepths.append(np.mean(depth_data))"
   ]
  },
  {
   "cell_type": "code",
   "execution_count": 265,
   "metadata": {},
   "outputs": [],
   "source": [
    "trunc_globalMeanDepths = []\n",
    "\n",
    "for i in range(len(ordered_gp_size)):\n",
    "    if type(ordered_gp_size[i]) == float:\n",
    "        trunc_globalMeanDepths.append(globalMeanDepths[i])\n"
   ]
  },
  {
   "cell_type": "code",
   "execution_count": 266,
   "metadata": {},
   "outputs": [
    {
     "name": "stdout",
     "output_type": "stream",
     "text": [
      "Correlation between Global Mean Depth and Complete Ground Plane\n"
     ]
    },
    {
     "ename": "ValueError",
     "evalue": "x and y must have the same length.",
     "output_type": "error",
     "traceback": [
      "\u001b[0;31m---------------------------------------------------------------------------\u001b[0m",
      "\u001b[0;31mValueError\u001b[0m                                Traceback (most recent call last)",
      "\u001b[0;32m<ipython-input-266-eb01b2bca96a>\u001b[0m in \u001b[0;36m<module>\u001b[0;34m\u001b[0m\n\u001b[1;32m      1\u001b[0m \u001b[0mprint\u001b[0m\u001b[0;34m(\u001b[0m\u001b[0;34m'Correlation between Global Mean Depth and Complete Ground Plane'\u001b[0m\u001b[0;34m)\u001b[0m\u001b[0;34m\u001b[0m\u001b[0;34m\u001b[0m\u001b[0m\n\u001b[0;32m----> 2\u001b[0;31m \u001b[0mprint\u001b[0m\u001b[0;34m(\u001b[0m\u001b[0mstats\u001b[0m\u001b[0;34m.\u001b[0m\u001b[0mpearsonr\u001b[0m\u001b[0;34m(\u001b[0m\u001b[0mtrunc_globalMeanDepths\u001b[0m\u001b[0;34m,\u001b[0m \u001b[0mtrunc_gpSize\u001b[0m\u001b[0;34m)\u001b[0m\u001b[0;34m)\u001b[0m\u001b[0;34m\u001b[0m\u001b[0;34m\u001b[0m\u001b[0m\n\u001b[0m",
      "\u001b[0;32m~/opt/anaconda3/envs/defaultenv/lib/python3.7/site-packages/scipy/stats/stats.py\u001b[0m in \u001b[0;36mpearsonr\u001b[0;34m(x, y)\u001b[0m\n\u001b[1;32m   3387\u001b[0m     \u001b[0mn\u001b[0m \u001b[0;34m=\u001b[0m \u001b[0mlen\u001b[0m\u001b[0;34m(\u001b[0m\u001b[0mx\u001b[0m\u001b[0;34m)\u001b[0m\u001b[0;34m\u001b[0m\u001b[0;34m\u001b[0m\u001b[0m\n\u001b[1;32m   3388\u001b[0m     \u001b[0;32mif\u001b[0m \u001b[0mn\u001b[0m \u001b[0;34m!=\u001b[0m \u001b[0mlen\u001b[0m\u001b[0;34m(\u001b[0m\u001b[0my\u001b[0m\u001b[0;34m)\u001b[0m\u001b[0;34m:\u001b[0m\u001b[0;34m\u001b[0m\u001b[0;34m\u001b[0m\u001b[0m\n\u001b[0;32m-> 3389\u001b[0;31m         \u001b[0;32mraise\u001b[0m \u001b[0mValueError\u001b[0m\u001b[0;34m(\u001b[0m\u001b[0;34m'x and y must have the same length.'\u001b[0m\u001b[0;34m)\u001b[0m\u001b[0;34m\u001b[0m\u001b[0;34m\u001b[0m\u001b[0m\n\u001b[0m\u001b[1;32m   3390\u001b[0m \u001b[0;34m\u001b[0m\u001b[0m\n\u001b[1;32m   3391\u001b[0m     \u001b[0;32mif\u001b[0m \u001b[0mn\u001b[0m \u001b[0;34m<\u001b[0m \u001b[0;36m2\u001b[0m\u001b[0;34m:\u001b[0m\u001b[0;34m\u001b[0m\u001b[0;34m\u001b[0m\u001b[0m\n",
      "\u001b[0;31mValueError\u001b[0m: x and y must have the same length."
     ]
    }
   ],
   "source": [
    "print('Correlation between Global Mean Depth and Complete Ground Plane')\n",
    "print(stats.pearsonr(trunc_globalMeanDepths, trunc_gpSize))"
   ]
  },
  {
   "cell_type": "code",
   "execution_count": 364,
   "metadata": {},
   "outputs": [
    {
     "name": "stdout",
     "output_type": "stream",
     "text": [
      "m: [17.53990948]\n",
      "b: -22.297939447106252\n",
      "R-squared:  0.08533325037416128\n"
     ]
    },
    {
     "data": {
      "text/plain": [
       "0.085"
      ]
     },
     "execution_count": 364,
     "metadata": {},
     "output_type": "execute_result"
    },
    {
     "data": {
      "image/png": "[encoded data removed]",
      "text/plain": [
       "<Figure size 576x576 with 1 Axes>"
      ]
     },
     "metadata": {
      "needs_background": "light"
     },
     "output_type": "display_data"
    }
   ],
   "source": [
    "plt.figure(figsize = [8,8])\n",
    "#run regression\n",
    "X = np.array(trunc_globalMeanDepths).reshape(-1,1)\n",
    "y = trunc_gpSize\n",
    "reg = LinearRegression().fit(X, y)\n",
    "\n",
    "#Generated Predictions\n",
    "y_predicted = reg.predict(X)\n",
    "#Plot Our Actual and Predicted Values\n",
    "plt.plot(X, y, 'o', color='darkgreen', alpha = 0.5);\n",
    "plt.plot(X,y_predicted,color='darkgreen', label = 'm = ' + str(round(reg.coef_[0], 3))\n",
    "         + '     r-squared = ' + str(round(float(reg.score(X, y)), 3)))\n",
    "plt.title(\"Complete Ground Plane x Global Mean Depth\", fontsize = 20)\n",
    "plt.xlabel(\"Global Mean Depth (m)\", fontsize = 15)\n",
    "plt.ylabel(\"Inferred Complete Ground Plane Surface Area\", fontsize = 15)\n",
    "\n",
    "legend = plt.legend(loc = 0, fontsize = 13, borderpad = 0.6, labelspacing = 1)\n",
    "legend.get_frame().set_facecolor('lightgray')\n",
    "\n",
    "\n",
    "#get coefficients and y intercept\n",
    "print(\"m: {0}\".format(reg.coef_))\n",
    "print(\"b: {0}\".format(reg.intercept_))\n",
    "\n",
    "#Returns the coefficient of determination R^2 of the prediction.\n",
    "print(\"R-squared: \", reg.score(X, y))\n",
    "\n",
    "round(float(reg.score(X, y)), 3)"
   ]
  },
  {
   "cell_type": "markdown",
   "metadata": {},
   "source": [
    "## GP Defined Clutter "
   ]
  },
  {
   "cell_type": "code",
   "execution_count": 178,
   "metadata": {},
   "outputs": [],
   "source": [
    "clutter_size = (np.array(trunc_gpSize) - np.array(trunc_vgpSize)) \n"
   ]
  },
  {
   "cell_type": "code",
   "execution_count": 187,
   "metadata": {},
   "outputs": [
    {
     "data": {
      "image/png": "[encoded data removed]",
      "text/plain": [
       "<Figure size 432x288 with 1 Axes>"
      ]
     },
     "metadata": {
      "needs_background": "light"
     },
     "output_type": "display_data"
    }
   ],
   "source": [
    "plt.title('Distribution of Clutter Score')\n",
    "plt.hist(clutter_size)\n",
    "\n",
    "plt.ylabel('count')\n",
    "plt.xlabel('clutter score (meters-squared)')\n",
    "\n",
    "plt.show();"
   ]
  },
  {
   "cell_type": "code",
   "execution_count": 180,
   "metadata": {},
   "outputs": [
    {
     "name": "stdout",
     "output_type": "stream",
     "text": [
      "Correlation between Linear Model Residuals and Clutter(size)\n",
      "125 ms:  (-0.12637770108557012, 0.12718680242062091)\n",
      "250 ms:  (-0.1472419262941735, 0.0751272669632055)\n",
      "1000 ms:  (-0.21590138398303646, 0.00863011757540581)\n"
     ]
    }
   ],
   "source": [
    "# corr, p-value\n",
    "print('Correlation between Linear Model Residuals and Clutter(size)')\n",
    "print('125 ms: ',stats.pearsonr(trunc_resid_125, clutter_size))\n",
    "print('250 ms: ',stats.pearsonr(trunc_resid_250, clutter_size))\n",
    "print('1000 ms: ',stats.pearsonr(trunc_resid_1000, clutter_size))"
   ]
  },
  {
   "cell_type": "code",
   "execution_count": 182,
   "metadata": {},
   "outputs": [
    {
     "name": "stdout",
     "output_type": "stream",
     "text": [
      "Correlation between Abs Linear Model Residuals and Clutter(size)\n",
      "125 ms:  (0.15212064007318316, 0.06586528446752381)\n",
      "250 ms:  (0.08454346861376623, 0.3086263596147261)\n",
      "1000 ms:  (0.1027251177290182, 0.2156709521594699)\n"
     ]
    }
   ],
   "source": [
    "# corr, p-value\n",
    "print('Correlation between Abs Linear Model Residuals and Clutter(size)')\n",
    "print('125 ms: ',stats.pearsonr(np.abs(trunc_resid_125), clutter_size))\n",
    "print('250 ms: ',stats.pearsonr(np.abs(trunc_resid_250), clutter_size))\n",
    "print('1000 ms: ',stats.pearsonr(np.abs(trunc_resid_1000), clutter_size))"
   ]
  },
  {
   "cell_type": "code",
   "execution_count": 186,
   "metadata": {},
   "outputs": [
    {
     "name": "stdout",
     "output_type": "stream",
     "text": [
      "m: [-0.05792422]\n",
      "b: 0.12434987160897558\n",
      "R-squared:  0.04661340760579058\n"
     ]
    },
    {
     "data": {
      "text/plain": [
       "0.047"
      ]
     },
     "execution_count": 186,
     "metadata": {},
     "output_type": "execute_result"
    },
    {
     "data": {
      "image/png": "[encoded data removed]",
      "text/plain": [
       "<Figure size 576x576 with 1 Axes>"
      ]
     },
     "metadata": {
      "needs_background": "light"
     },
     "output_type": "display_data"
    }
   ],
   "source": [
    "\n",
    "fig, ax = plt.subplots(figsize=[8,8])\n",
    "ax.spines['right'].set_visible(False)\n",
    "\n",
    "ax.spines['top'].set_visible(False)\n",
    "\n",
    "#run regression\n",
    "X = np.array(clutter_size).reshape(-1,1)\n",
    "y = trunc_resid_1000\n",
    "reg = LinearRegression().fit(X, y)\n",
    "\n",
    "#Generated Predictions\n",
    "y_predicted = reg.predict(X)\n",
    "#Plot Our Actual and Predicted Values\n",
    "plt.plot(X, y, 'o', color='darkviolet', alpha = 0.5);\n",
    "plt.plot(X,y_predicted,color='darkviolet', label = 'm = ' + str(round(reg.coef_[0], 3))\n",
    "         + '     r-squared = ' + str(round(float(reg.score(X, y)), 3)))\n",
    "plt.title(\"1000 ms\", fontsize = 20)\n",
    "plt.xlabel(\"Clutter Score\", fontsize = 15)\n",
    "plt.ylabel(\"Linear Model Residuals\", fontsize = 15)\n",
    "\n",
    "legend = plt.legend(loc = 0, fontsize = 13, borderpad = 0.6, labelspacing = 1)\n",
    "legend.get_frame().set_facecolor('lightgray')\n",
    "\n",
    "\n",
    "#get coefficients and y intercept\n",
    "print(\"m: {0}\".format(reg.coef_))\n",
    "print(\"b: {0}\".format(reg.intercept_))\n",
    "\n",
    "#Returns the coefficient of determination R^2 of the prediction.\n",
    "print(\"R-squared: \", reg.score(X, y))\n",
    "\n",
    "round(float(reg.score(X, y)), 3)"
   ]
  },
  {
   "cell_type": "code",
   "execution_count": null,
   "metadata": {},
   "outputs": [],
   "source": []
  },
  {
   "cell_type": "code",
   "execution_count": null,
   "metadata": {},
   "outputs": [],
   "source": []
  },
  {
   "attachments": {
    "f7184a31-b18a-4078-814b-1301d247f2e8.png": {
     "image/png": "[encoded data removed]"
    }
   },
   "cell_type": "markdown",
   "metadata": {},
   "source": [
    "# Extrinsics\n",
    "\n",
    "![1OFpX.png](attachment:f7184a31-b18a-4078-814b-1301d247f2e8.png)"
   ]
  },
  {
   "cell_type": "code",
   "execution_count": 229,
   "metadata": {},
   "outputs": [],
   "source": [
    "#converts the rotation matrix in extrinsics.txt from string to a numpy array \n",
    "def rotationmatrix(matrix_path):\n",
    "    matrixtext = open(matrix_path).read()\n",
    "    \n",
    "    x00 = float(matrixtext.split('\\t')[0].split(' ')[0])\n",
    "    x01 = float(matrixtext.split('\\n')[0].split(' ')[1])\n",
    "    x02 = float(matrixtext.split('\\n')[0].split(' ')[2])\n",
    "    \n",
    "    x10 = float(matrixtext.split('\\n')[1].split(' ')[0])\n",
    "    x11 = float(matrixtext.split('\\n')[1].split(' ')[1])\n",
    "    x12 = float(matrixtext.split('\\n')[1].split(' ')[2])\n",
    "    \n",
    "    x20 = float(matrixtext.split('\\n')[2].split(' ')[0])\n",
    "    x21 = float(matrixtext.split('\\n')[2].split(' ')[1])\n",
    "    x22 = float(matrixtext.split('\\n')[2].split(' ')[2])\n",
    "    \n",
    "    #list of the matrix values excluding the 3rd column of just zeroes \n",
    "    matrixlist = [[x00, x01, x02], [x10, x11, x12], [x20, x21, x22]]\n",
    "    \n",
    "    #creates 3x3 array of the rotation matrix\n",
    "    matrixarray = np.full((3,3), matrixlist)\n",
    "    \n",
    "    return matrixarray\n",
    "\n",
    "def rotationMatrixToEulerAngles(path):\n",
    "    R = rotationmatrix(path)\n",
    "    #assert(isRotationMatrix(R))\n",
    "    sy = math.sqrt(R[0,0] * R[0,0] +  R[1,0] * R[1,0])\n",
    "    singular = sy < 1e-6\n",
    "    if  not singular :\n",
    "        x = math.atan2(R[2,1] , R[2,2])\n",
    "        y = math.atan2(-R[2,0], sy)\n",
    "        z = math.atan2(R[1,0], R[0,0])\n",
    "    else :\n",
    "        x = math.atan2(-R[1,2], R[1,1])\n",
    "        y = math.atan2(-R[2,0], sy)\n",
    "        z = 0\n",
    "    return np.array([x, y, z])\n",
    "\n",
    "# Output - final pitch, roll, yaw values in radians and degrees \n",
    "def imageExtrinsics(path):\n",
    "    in_array = rotationMatrixToEulerAngles(path)\n",
    "    #print (\"Radian values : \\n\", in_array) \n",
    "\n",
    "    degree_Values = np.degrees(in_array) \n",
    "    \n",
    "    return degree_Values[0], degree_Values[1], degree_Values[2]\n",
    "\n",
    "\n",
    "def extrinsics_distribution(path, kinectv2):\n",
    "    targetfolder = path.split('/')[1]\n",
    "    if len(targetfolder) == 59:     \n",
    "        imagefolder = path.split('/')[1][:-2]\n",
    "    else:\n",
    "        imagefolder = path.split('/')[1][:-3]\n",
    "\n",
    "    extpath = kinectv2 + '/' + imagefolder + '/extrinsics' \n",
    "    fname = os.listdir(extpath)[0]\n",
    "    if fname != '.ipynb_checkpoints':\n",
    "        extrinsics = imageExtrinsics(extpath + '/' + fname)\n",
    "    # pitch, roll, yaw\n",
    "    return extrinsics[0], extrinsics[1], extrinsics[2]"
   ]
  },
  {
   "cell_type": "code",
   "execution_count": 230,
   "metadata": {},
   "outputs": [],
   "source": [
    "kinectv2_path = '/Users/pmahableshwarkar/Documents/Depth_Project/SUNRGBD/kinect2data_192'\n",
    "# kinectv2_path = '/Users/prachimahableshwarkar/Documents/GW/SUNRGBD/updated/kinect2data_192'\n",
    "# line comprehension for x(stim path) in final_x \n",
    "\n",
    "pitches = [extrinsics_distribution(path, kinectv2_path)[0] for path in stim_250]\n",
    "rolls = [extrinsics_distribution(path, kinectv2_path)[1] for path in stim_250]\n",
    "yaws = [extrinsics_distribution(path, kinectv2_path)[2] for path in stim_250]\n",
    "\n"
   ]
  },
  {
   "cell_type": "code",
   "execution_count": 231,
   "metadata": {},
   "outputs": [],
   "source": [
    "trunc_pitches = []\n",
    "trunc_rolls = []\n",
    "trunc_yaws = []\n",
    "\n",
    "for i in range(len(ordered_gp_metrics)):\n",
    "    metrics = ordered_gp_metrics[i]\n",
    "    if type(metrics) == list:\n",
    "        trunc_pitches.append(pitches[i])\n",
    "        trunc_rolls.append(rolls[i])\n",
    "        trunc_yaws.append(yaws[i])"
   ]
  },
  {
   "cell_type": "code",
   "execution_count": 232,
   "metadata": {},
   "outputs": [
    {
     "name": "stdout",
     "output_type": "stream",
     "text": [
      "Correlation between Complete Ground Plane and Pitch\n",
      "(-0.24556062057426326, 0.00200267048192746)\n"
     ]
    }
   ],
   "source": [
    "print('Correlation between Complete Ground Plane and Pitch')\n",
    "print(stats.pearsonr(trunc_gp, trunc_pitches))"
   ]
  },
  {
   "cell_type": "code",
   "execution_count": 233,
   "metadata": {},
   "outputs": [
    {
     "name": "stdout",
     "output_type": "stream",
     "text": [
      "Correlation between Complete Ground Plane and Roll\n",
      "(0.10249815887246476, 0.20292515242437625)\n"
     ]
    }
   ],
   "source": [
    "print('Correlation between Complete Ground Plane and Roll')\n",
    "print(stats.pearsonr(trunc_gp, trunc_rolls))"
   ]
  },
  {
   "cell_type": "code",
   "execution_count": 234,
   "metadata": {},
   "outputs": [
    {
     "name": "stdout",
     "output_type": "stream",
     "text": [
      "Correlation between Complete Ground Plane and Yaw\n",
      "(0.06637340997880946, 0.4103688725357515)\n"
     ]
    }
   ],
   "source": [
    "print('Correlation between Complete Ground Plane and Yaw')\n",
    "print(stats.pearsonr(trunc_gp, trunc_yaws))"
   ]
  },
  {
   "cell_type": "code",
   "execution_count": null,
   "metadata": {},
   "outputs": [],
   "source": []
  },
  {
   "cell_type": "code",
   "execution_count": 235,
   "metadata": {},
   "outputs": [
    {
     "name": "stdout",
     "output_type": "stream",
     "text": [
      "m: [-0.00629131]\n",
      "b: 0.3686413906910721\n",
      "R-squared:  0.0603000183768172\n"
     ]
    },
    {
     "data": {
      "text/plain": [
       "0.06"
      ]
     },
     "execution_count": 235,
     "metadata": {},
     "output_type": "execute_result"
    },
    {
     "data": {
      "image/png": "[encoded data removed]",
      "text/plain": [
       "<Figure size 504x504 with 1 Axes>"
      ]
     },
     "metadata": {
      "needs_background": "light"
     },
     "output_type": "display_data"
    }
   ],
   "source": [
    "plt.figure(figsize = [7,7])\n",
    "#run regression\n",
    "X = np.array(trunc_pitches).reshape(-1,1)\n",
    "y = np.abs(trunc_gp)\n",
    "reg = LinearRegression().fit(X, y)\n",
    "\n",
    "#Generated Predictions\n",
    "y_predicted = reg.predict(X)\n",
    "#Plot Our Actual and Predicted Values\n",
    "plt.plot(X, y, 'o', color='darkgreen', alpha = 0.3, marker = 'o');\n",
    "plt.plot(X,y_predicted,color='darkgreen', label = 'm = ' + str(round(reg.coef_[0], 3))\n",
    "         + '     r-squared = ' + str(round(float(reg.score(X, y)), 3)))\n",
    "plt.title(\"Complete Ground Plane x Pitch\", fontsize = 20)\n",
    "plt.xlabel(\"Pitch\", fontsize = 15)\n",
    "plt.ylabel(\"Complete Ground Plane\", fontsize = 15)\n",
    "\n",
    "legend = plt.legend(loc = 0, fontsize = 13, borderpad = 0.6, labelspacing = 1)\n",
    "legend.get_frame().set_facecolor('lightgray')\n",
    "\n",
    "\n",
    "#get coefficients and y intercept\n",
    "print(\"m: {0}\".format(reg.coef_))\n",
    "print(\"b: {0}\".format(reg.intercept_))\n",
    "\n",
    "#Returns the coefficient of determination R^2 of the prediction.\n",
    "print(\"R-squared: \", reg.score(X, y))\n",
    "\n",
    "round(float(reg.score(X, y)), 3)"
   ]
  },
  {
   "cell_type": "code",
   "execution_count": null,
   "metadata": {},
   "outputs": [],
   "source": []
  },
  {
   "cell_type": "code",
   "execution_count": 236,
   "metadata": {},
   "outputs": [
    {
     "name": "stdout",
     "output_type": "stream",
     "text": [
      "Correlation between Complete Ground Plane and Pitch\n"
     ]
    },
    {
     "ename": "ValueError",
     "evalue": "x and y must have the same length.",
     "output_type": "error",
     "traceback": [
      "\u001b[0;31m---------------------------------------------------------------------------\u001b[0m",
      "\u001b[0;31mValueError\u001b[0m                                Traceback (most recent call last)",
      "\u001b[0;32m<ipython-input-236-52269013b942>\u001b[0m in \u001b[0;36m<module>\u001b[0;34m\u001b[0m\n\u001b[1;32m      1\u001b[0m \u001b[0mprint\u001b[0m\u001b[0;34m(\u001b[0m\u001b[0;34m'Correlation between Complete Ground Plane and Pitch'\u001b[0m\u001b[0;34m)\u001b[0m\u001b[0;34m\u001b[0m\u001b[0;34m\u001b[0m\u001b[0m\n\u001b[0;32m----> 2\u001b[0;31m \u001b[0mprint\u001b[0m\u001b[0;34m(\u001b[0m\u001b[0mstats\u001b[0m\u001b[0;34m.\u001b[0m\u001b[0mpearsonr\u001b[0m\u001b[0;34m(\u001b[0m\u001b[0mtrunc_gpSize\u001b[0m\u001b[0;34m,\u001b[0m \u001b[0mtrunc_pitches\u001b[0m\u001b[0;34m)\u001b[0m\u001b[0;34m)\u001b[0m\u001b[0;34m\u001b[0m\u001b[0;34m\u001b[0m\u001b[0m\n\u001b[0m",
      "\u001b[0;32m~/opt/anaconda3/envs/defaultenv/lib/python3.7/site-packages/scipy/stats/stats.py\u001b[0m in \u001b[0;36mpearsonr\u001b[0;34m(x, y)\u001b[0m\n\u001b[1;32m   4011\u001b[0m     \u001b[0mn\u001b[0m \u001b[0;34m=\u001b[0m \u001b[0mlen\u001b[0m\u001b[0;34m(\u001b[0m\u001b[0mx\u001b[0m\u001b[0;34m)\u001b[0m\u001b[0;34m\u001b[0m\u001b[0;34m\u001b[0m\u001b[0m\n\u001b[1;32m   4012\u001b[0m     \u001b[0;32mif\u001b[0m \u001b[0mn\u001b[0m \u001b[0;34m!=\u001b[0m \u001b[0mlen\u001b[0m\u001b[0;34m(\u001b[0m\u001b[0my\u001b[0m\u001b[0;34m)\u001b[0m\u001b[0;34m:\u001b[0m\u001b[0;34m\u001b[0m\u001b[0;34m\u001b[0m\u001b[0m\n\u001b[0;32m-> 4013\u001b[0;31m         \u001b[0;32mraise\u001b[0m \u001b[0mValueError\u001b[0m\u001b[0;34m(\u001b[0m\u001b[0;34m'x and y must have the same length.'\u001b[0m\u001b[0;34m)\u001b[0m\u001b[0;34m\u001b[0m\u001b[0;34m\u001b[0m\u001b[0m\n\u001b[0m\u001b[1;32m   4014\u001b[0m \u001b[0;34m\u001b[0m\u001b[0m\n\u001b[1;32m   4015\u001b[0m     \u001b[0;32mif\u001b[0m \u001b[0mn\u001b[0m \u001b[0;34m<\u001b[0m \u001b[0;36m2\u001b[0m\u001b[0;34m:\u001b[0m\u001b[0;34m\u001b[0m\u001b[0;34m\u001b[0m\u001b[0m\n",
      "\u001b[0;31mValueError\u001b[0m: x and y must have the same length."
     ]
    }
   ],
   "source": [
    "print('Correlation between Complete Ground Plane and Pitch')\n",
    "print(stats.pearsonr(trunc_gpSize, trunc_pitches))"
   ]
  },
  {
   "cell_type": "code",
   "execution_count": 233,
   "metadata": {},
   "outputs": [
    {
     "name": "stdout",
     "output_type": "stream",
     "text": [
      "Correlation between Complete Ground Plane and Roll\n",
      "(0.10249815887246476, 0.20292515242437625)\n"
     ]
    }
   ],
   "source": [
    "print('Correlation between Complete Ground Plane and Roll')\n",
    "print(stats.pearsonr(trunc_gpSize, trunc_rolls))"
   ]
  },
  {
   "cell_type": "code",
   "execution_count": 234,
   "metadata": {},
   "outputs": [
    {
     "name": "stdout",
     "output_type": "stream",
     "text": [
      "Correlation between Complete Ground Plane and Yaw\n",
      "(0.06637340997880946, 0.4103688725357515)\n"
     ]
    }
   ],
   "source": [
    "print('Correlation between Complete Ground Plane and Yaw')\n",
    "print(stats.pearsonr(trunc_gpSize, trunc_yaws))"
   ]
  },
  {
   "cell_type": "code",
   "execution_count": 38,
   "metadata": {},
   "outputs": [
    {
     "name": "stdout",
     "output_type": "stream",
     "text": [
      "m: [-0.00629131]\n",
      "b: 0.36864139069107216\n",
      "R-squared:  0.0603000183768172\n"
     ]
    },
    {
     "data": {
      "text/plain": [
       "0.06"
      ]
     },
     "execution_count": 38,
     "metadata": {},
     "output_type": "execute_result"
    },
    {
     "data": {
      "image/png": "[encoded data removed]",
      "text/plain": [
       "<Figure size 504x504 with 1 Axes>"
      ]
     },
     "metadata": {
      "needs_background": "light"
     },
     "output_type": "display_data"
    }
   ],
   "source": [
    "plt.figure(figsize = [7,7])\n",
    "#run regression\n",
    "X = np.array(trunc_pitches).reshape(-1,1)\n",
    "y = np.abs(trunc_gp)\n",
    "reg = LinearRegression().fit(X, y)\n",
    "\n",
    "#Generated Predictions\n",
    "y_predicted = reg.predict(X)\n",
    "#Plot Our Actual and Predicted Values\n",
    "plt.plot(X, y, 'o', color='darkgreen', alpha = 0.3, marker = 'o');\n",
    "plt.plot(X,y_predicted,color='darkgreen', label = 'm = ' + str(round(reg.coef_[0], 3))\n",
    "         + '     r-squared = ' + str(round(float(reg.score(X, y)), 3)))\n",
    "plt.title(\"Complete Ground Plane x Pitch\", fontsize = 20)\n",
    "plt.xlabel(\"Pitch\", fontsize = 15)\n",
    "plt.ylabel(\"Complete Ground Plane\", fontsize = 15)\n",
    "\n",
    "legend = plt.legend(loc = 0, fontsize = 13, borderpad = 0.6, labelspacing = 1)\n",
    "legend.get_frame().set_facecolor('lightgray')\n",
    "\n",
    "\n",
    "#get coefficients and y intercept\n",
    "print(\"m: {0}\".format(reg.coef_))\n",
    "print(\"b: {0}\".format(reg.intercept_))\n",
    "\n",
    "#Returns the coefficient of determination R^2 of the prediction.\n",
    "print(\"R-squared: \", reg.score(X, y))\n",
    "\n",
    "round(float(reg.score(X, y)), 3)"
   ]
  }
 ],
 "metadata": {
  "kernelspec": {
   "display_name": "Python 3",
   "language": "python",
   "name": "python3"
  },
  "language_info": {
   "codemirror_mode": {
    "name": "ipython",
    "version": 3
   },
   "file_extension": ".py",
   "mimetype": "text/x-python",
   "name": "python",
   "nbconvert_exporter": "python",
   "pygments_lexer": "ipython3",
   "version": "3.7.5"
  }
 },
 "nbformat": 4,
 "nbformat_minor": 4
}
