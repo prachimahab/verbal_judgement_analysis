{
 "cells": [
  {
   "cell_type": "markdown",
   "metadata": {},
   "source": [
    "# Quantify Clutter as a Regressor against Behavioral Data\n",
    "\n",
    "Global clutter is defined here as the number of objects segmented in the image.\n",
    "\n",
    "Local clutter is the number of objects segmented in a set radius around the target."
   ]
  },
  {
   "cell_type": "code",
   "execution_count": 1,
   "metadata": {},
   "outputs": [],
   "source": [
    "import os\n",
    "import numpy as np\n",
    "import pandas as pd\n",
    "import scipy\n",
    "import path \n",
    "from matplotlib import pyplot as plt\n",
    "import json\n",
    "from PIL import Image, ImageStat\n",
    "from sklearn.linear_model import LinearRegression\n",
    "from scipy import stats\n",
    "import math"
   ]
  },
  {
   "cell_type": "markdown",
   "metadata": {},
   "source": [
    "## Load Behavioral Data"
   ]
  },
  {
   "cell_type": "code",
   "execution_count": 2,
   "metadata": {},
   "outputs": [],
   "source": [
    "# TAC_raw_individual_trial_data_path = '/Users/prachi/Documents/depth_duration/depth_duration_analysis/TAC_npy_files/TAC_raw_individual_trial_data/'\n",
    "\n",
    "TAC_raw_individual_trial_data_path  = '/Users/prachimahableshwarkar/Documents/GW/Depth_MTurk/depth_duration_analysis/TAC_npy_files/TAC_raw_individual_trial_data/'\n",
    "\n",
    "dpath = '/Users/prachimahableshwarkar/Documents/GW/Depth_MTurk/verbal_judgement_analysis/TAC_npy_files/matchedVE/normalized/'\n",
    "\n",
    "# stim \n",
    "with open(dpath + 'n_final_stim_250.npy' , 'rb') as f:\n",
    "    stim_250 = np.load(f, allow_pickle=True)\n",
    "\n",
    "# with open(TAC_raw_individual_trial_data_path + 'final_stim_500.npy' , 'rb') as f:\n",
    "#     stim_500 = np.load(f, allow_pickle=True)\n",
    "    \n",
    "# with open(TAC_raw_individual_trial_data_path + 'final_stim_750.npy' , 'rb') as f:\n",
    "#     stim_750 = np.load(f, allow_pickle=True)\n",
    "\n",
    "with open(dpath + 'n_final_stim_1000.npy' , 'rb') as f:\n",
    "    stim_1000 = np.load(f, allow_pickle=True)\n",
    "\n",
    "# x data\n",
    "with open(dpath + 'n_X_250.npy' , 'rb') as f:\n",
    "    X_250 = np.load(f, allow_pickle=True)\n",
    "\n",
    "# with open(TAC_raw_individual_trial_data_path + 'X_500.npy' , 'rb') as f:\n",
    "#     X_500 = np.load(f, allow_pickle=True)\n",
    "    \n",
    "# with open(TAC_raw_individual_trial_data_path + 'X_750.npy' , 'rb') as f:\n",
    "#     X_750 = np.load(f, allow_pickle=True)\n",
    "\n",
    "with open(dpath + 'n_X_1000.npy' , 'rb') as f:\n",
    "    X_1000 = np.load(f, allow_pickle=True)\n",
    "\n",
    "# y data \n",
    "with open(dpath + 'n_final_y_250.npy' , 'rb') as f:\n",
    "    y_250 = np.load(f, allow_pickle=True)\n",
    "    \n",
    "# with open(TAC_raw_individual_trial_data_path + 'final_y_500.npy' , 'rb') as f:\n",
    "#     y_500 = np.load(f, allow_pickle=True)\n",
    "    \n",
    "# with open(TAC_raw_individual_trial_data_path + 'final_y_750.npy' , 'rb') as f:\n",
    "#     y_750 = np.load(f, allow_pickle=True)\n",
    "    \n",
    "with open(dpath + 'n_final_y_1000.npy' , 'rb') as f:\n",
    "    y_1000= np.load(f, allow_pickle=True)"
   ]
  },
  {
   "cell_type": "code",
   "execution_count": 3,
   "metadata": {},
   "outputs": [],
   "source": [
    "# TAC_raw_individual_trial_residuals_path = '/Users/prachi/Documents/depth_duration/depth_duration_analysis/TAC_npy_files/TAC_raw_individual_trial_residuals/'\n",
    "\n",
    "TAC_raw_individual_trial_residuals_path = '/Users/prachimahableshwarkar/Documents/GW/Depth_MTurk/depth_duration_analysis/TAC_npy_files/TAC_raw_individual_trial_residuals/'\n",
    "\n",
    "# residuals\n",
    "with open(TAC_raw_individual_trial_residuals_path + 'residuals_250.npy' , 'rb') as f:\n",
    "    residuals_250 = np.load(f, allow_pickle=True)\n",
    "\n",
    "with open(TAC_raw_individual_trial_residuals_path + 'residuals_500.npy' , 'rb') as f:\n",
    "    residuals_500 = np.load(f, allow_pickle=True)\n",
    "    \n",
    "with open(TAC_raw_individual_trial_residuals_path + 'residuals_750.npy' , 'rb') as f:\n",
    "    residuals_750 = np.load(f, allow_pickle=True)\n",
    "\n",
    "with open(TAC_raw_individual_trial_residuals_path + 'residuals_1000.npy' , 'rb') as f:\n",
    "    residuals_1000 = np.load(f, allow_pickle=True)"
   ]
  },
  {
   "cell_type": "code",
   "execution_count": 36,
   "metadata": {},
   "outputs": [],
   "source": [
    "stimfolder_250 = [elem.split('/')[1][:-2] for elem in stim_250]\n",
    "# stimfolder_500 = [elem.split('/')[1][:-2] for elem in stim_500]\n",
    "# stimfolder_750 = [elem.split('/')[1][:-2] for elem in stim_750]\n",
    "stimfolder_1000 = [elem.split('/')[1][:-2] for elem in stim_1000]\n"
   ]
  },
  {
   "cell_type": "markdown",
   "metadata": {},
   "source": [
    "## Global Clutter x Behavioral Data"
   ]
  },
  {
   "cell_type": "code",
   "execution_count": 6,
   "metadata": {},
   "outputs": [],
   "source": [
    "kinect192_path = '/Users/prachimahableshwarkar/Documents/GW/SUNRGBD/updated/kinect2data_192'\n",
    "\n",
    "stimuli_path = '/Users/prachimahableshwarkar/Documents/GW/Depth_MTurk/depth_duration_stimuli'"
   ]
  },
  {
   "cell_type": "code",
   "execution_count": 21,
   "metadata": {},
   "outputs": [],
   "source": [
    "globalClutter_dict = {}\n",
    "for stim in os.listdir(stimuli_path):\n",
    "    if 'resize' in stim:\n",
    "        p = stimuli_path + '/' + stim + '/data.json'\n",
    "        data = json.load(open(p))\n",
    "        target_object = data['objects'][0]['name']\n",
    "        dbID = data['objects'][0]['dbID']\n",
    "        kp = kinect192_path + '/' + stim[:-2] + '/annotation2Dfinal'\n",
    "        for file in os.listdir(kp):\n",
    "            if 'objSA' in file:\n",
    "                objSA = json.load(open(kp + '/' + file))\n",
    "                # count how many objects there are in the scene\n",
    "                # exclude floor and wall \n",
    "                count = 0\n",
    "                for key in objSA:\n",
    "                    if 'floor' in key: count += 0\n",
    "                    if 'wall' in key: count += 0\n",
    "                    else:\n",
    "                        count += 1\n",
    "                globalClutter_dict[stim[:-2]] = count"
   ]
  },
  {
   "cell_type": "code",
   "execution_count": 27,
   "metadata": {},
   "outputs": [
    {
     "data": {
      "text/plain": [
       "(140, 192)"
      ]
     },
     "execution_count": 27,
     "metadata": {},
     "output_type": "execute_result"
    }
   ],
   "source": [
    "len(globalClutter_dict), len(stimfolder_250)"
   ]
  },
  {
   "cell_type": "code",
   "execution_count": 43,
   "metadata": {},
   "outputs": [
    {
     "data": {
      "text/plain": [
       "(16.478571428571428, 14.0)"
      ]
     },
     "execution_count": 43,
     "metadata": {},
     "output_type": "execute_result"
    }
   ],
   "source": [
    "import statistics\n",
    "\n",
    "# fill in missing data with the average clutter for now \n",
    "all_cvals = []\n",
    "for key in globalClutter_dict:\n",
    "    cval = globalClutter_dict[key]\n",
    "    all_cvals.append(cval)\n",
    "    \n",
    "np.mean(all_cvals), statistics.median(all_cvals)"
   ]
  },
  {
   "cell_type": "code",
   "execution_count": 44,
   "metadata": {},
   "outputs": [],
   "source": [
    "globalClutter = []\n",
    "for folder in stimfolder_250:\n",
    "    try:\n",
    "        globalClutter.append(globalClutter_dict[folder])\n",
    "    except:\n",
    "        globalClutter.append(14)\n"
   ]
  },
  {
   "cell_type": "code",
   "execution_count": 45,
   "metadata": {},
   "outputs": [
    {
     "name": "stdout",
     "output_type": "stream",
     "text": [
      "Correlation between Linear Model Residuals and Global Clutter\n",
      "250 ms:  (0.05451215265063665, 0.45267145550823357)\n",
      "500 ms:  (0.017884790590069203, 0.805511651509828)\n",
      "750 ms:  (0.0008054150282515195, 0.9911538087152375)\n",
      "1000 ms:  (0.1163531134566158, 0.10801672420236239)\n"
     ]
    }
   ],
   "source": [
    "# corr, p-value\n",
    "print('Correlation between Linear Model Residuals and Global Clutter')\n",
    "print('250 ms: ',stats.pearsonr(residuals_250, globalClutter))\n",
    "print('500 ms: ',stats.pearsonr(residuals_500, globalClutter))\n",
    "print('750 ms: ',stats.pearsonr(residuals_750, globalClutter))\n",
    "print('1000 ms: ',stats.pearsonr(residuals_1000, globalClutter))"
   ]
  },
  {
   "cell_type": "code",
   "execution_count": 46,
   "metadata": {},
   "outputs": [
    {
     "name": "stdout",
     "output_type": "stream",
     "text": [
      "Correlation between Estimated Depth and Global Clutter\n",
      "250 ms:  (0.037027863888574555, 0.6101231494247362)\n",
      "1000 ms:  (0.03560209378719269, 0.623956163308392)\n"
     ]
    }
   ],
   "source": [
    "# corr, p-value\n",
    "print('Correlation between Estimated Depth and Global Clutter')\n",
    "print('250 ms: ',stats.pearsonr(y_250, globalClutter))\n",
    "print('1000 ms: ',stats.pearsonr(y_1000, globalClutter))"
   ]
  },
  {
   "cell_type": "code",
   "execution_count": null,
   "metadata": {},
   "outputs": [],
   "source": []
  },
  {
   "cell_type": "code",
   "execution_count": 47,
   "metadata": {},
   "outputs": [
    {
     "name": "stdout",
     "output_type": "stream",
     "text": [
      "m: [0.00132218]\n",
      "b: 0.9822567605936492\n",
      "R-squared:  0.0012675090820317703\n"
     ]
    },
    {
     "data": {
      "text/plain": [
       "0.001"
      ]
     },
     "execution_count": 47,
     "metadata": {},
     "output_type": "execute_result"
    },
    {
     "data": {
      "image/png": "[encoded data removed]",
      "text/plain": [
       "<Figure size 576x576 with 1 Axes>"
      ]
     },
     "metadata": {
      "needs_background": "light"
     },
     "output_type": "display_data"
    }
   ],
   "source": [
    "\n",
    "plt.figure(figsize = [8,8])\n",
    "#run regression\n",
    "X = np.array(globalClutter).reshape(-1,1)\n",
    "y = y_1000\n",
    "reg = LinearRegression().fit(X, y)\n",
    "\n",
    "#Generated Predictions\n",
    "y_predicted = reg.predict(X)\n",
    "#Plot Our Actual and Predicted Values\n",
    "plt.plot(X, y, 'o', color='black', alpha = 0.5);\n",
    "plt.plot(X,y_predicted,color='darkviolet', label = 'm = ' + str(round(reg.coef_[0], 3))\n",
    "         + '     r-squared = ' + str(round(float(reg.score(X, y)), 3)))\n",
    "plt.title(\"1000 ms\", fontsize = 20)\n",
    "plt.xlabel(\"Global Clutter\", fontsize = 15)\n",
    "plt.ylabel(\"Estimated Depth (m)\", fontsize = 15)\n",
    "\n",
    "legend = plt.legend(loc = 0, fontsize = 13, borderpad = 0.6, labelspacing = 1)\n",
    "legend.get_frame().set_facecolor('lightgray')\n",
    "\n",
    "\n",
    "#get coefficients and y intercept\n",
    "print(\"m: {0}\".format(reg.coef_))\n",
    "print(\"b: {0}\".format(reg.intercept_))\n",
    "\n",
    "#Returns the coefficient of determination R^2 of the prediction.\n",
    "print(\"R-squared: \", reg.score(X, y))\n",
    "\n",
    "round(float(reg.score(X, y)), 3)"
   ]
  },
  {
   "cell_type": "code",
   "execution_count": 48,
   "metadata": {},
   "outputs": [
    {
     "name": "stdout",
     "output_type": "stream",
     "text": [
      "m: [0.0027834]\n",
      "b: -0.0439979854477079\n",
      "R-squared:  0.002971574786606368\n"
     ]
    },
    {
     "data": {
      "text/plain": [
       "0.003"
      ]
     },
     "execution_count": 48,
     "metadata": {},
     "output_type": "execute_result"
    },
    {
     "data": {
      "image/png": "[encoded data removed]",
      "text/plain": [
       "<Figure size 576x576 with 1 Axes>"
      ]
     },
     "metadata": {
      "needs_background": "light"
     },
     "output_type": "display_data"
    }
   ],
   "source": [
    "\n",
    "plt.figure(figsize = [8,8])\n",
    "#run regression\n",
    "X = np.array(globalClutter).reshape(-1,1)\n",
    "y = residuals_250\n",
    "reg = LinearRegression().fit(X, y)\n",
    "\n",
    "#Generated Predictions\n",
    "y_predicted = reg.predict(X)\n",
    "#Plot Our Actual and Predicted Values\n",
    "plt.plot(X, y, 'o', color='black', alpha = 0.5, marker = 'v');\n",
    "plt.plot(X,y_predicted,color='chocolate', label = 'm = ' + str(round(reg.coef_[0], 3))\n",
    "         + '     r-squared = ' + str(round(float(reg.score(X, y)), 3)))\n",
    "plt.title(\"250 ms\", fontsize = 20)\n",
    "plt.xlabel(\"Global Clutter\", fontsize = 15)\n",
    "plt.ylabel(\"Linear Model Residuals\", fontsize = 15)\n",
    "\n",
    "legend = plt.legend(loc = 0, fontsize = 13, borderpad = 0.6, labelspacing = 1)\n",
    "legend.get_frame().set_facecolor('lightgray')\n",
    "\n",
    "\n",
    "#get coefficients and y intercept\n",
    "print(\"m: {0}\".format(reg.coef_))\n",
    "print(\"b: {0}\".format(reg.intercept_))\n",
    "\n",
    "#Returns the coefficient of determination R^2 of the prediction.\n",
    "print(\"R-squared: \", reg.score(X, y))\n",
    "\n",
    "round(float(reg.score(X, y)), 3)"
   ]
  },
  {
   "cell_type": "markdown",
   "metadata": {},
   "source": [
    "## Local Clutter x Behavioral Data "
   ]
  },
  {
   "cell_type": "code",
   "execution_count": 50,
   "metadata": {},
   "outputs": [],
   "source": [
    "def getTargetLocation(stimfolder, rootdir):\n",
    "    \"\"\"\n",
    "    imagepath = target folder \n",
    "    rootdir = main folder of all target folders (NOT SUNRGBD folder)\n",
    "    \"\"\"\n",
    "#     stimfolder = imagepath.split('/')[-2]\n",
    "    jsonpath = rootdir + '/' + stimfolder + '/data.json'\n",
    "    \n",
    "    # Opening JSON file\n",
    "    f = open(jsonpath,)\n",
    "\n",
    "    # returns JSON object as \n",
    "    # a dictionary\n",
    "    data = json.load(f)\n",
    "    crossing_point = data['objects'][0]['crossing_point']\n",
    "    # x, y is a misnomer for array indeces \n",
    "    # x value = 364 (verticel midline of image aka column index)\n",
    "    x = crossing_point[0]['x']\n",
    "    # y value - row index \n",
    "    y = crossing_point[0]['y']\n",
    "    row_index = y\n",
    "    col_index = x\n",
    "    return (row_index,col_index)\n",
    "    "
   ]
  },
  {
   "cell_type": "code",
   "execution_count": 51,
   "metadata": {},
   "outputs": [],
   "source": [
    "final_stimuli = '/Users/prachimahableshwarkar/Documents/GW/Depth_MTurk/depth_duration_stimuli'\n",
    "\n",
    "stimuli = []\n",
    "\n",
    "for folder in os.listdir(final_stimuli):\n",
    "    if 'resize' in folder:\n",
    "        stimuli.append(folder)"
   ]
  },
  {
   "cell_type": "code",
   "execution_count": 52,
   "metadata": {},
   "outputs": [],
   "source": [
    "\n",
    "target_coords = [getTargetLocation(path, final_stimuli) for path in stimuli]\n"
   ]
  },
  {
   "cell_type": "code",
   "execution_count": 53,
   "metadata": {},
   "outputs": [
    {
     "data": {
      "text/plain": [
       "('000866_2014-06-09_20-45-42_260595134347_rgbf000139-resize_1',\n",
       " (91.40339449541284, 364))"
      ]
     },
     "execution_count": 53,
     "metadata": {},
     "output_type": "execute_result"
    }
   ],
   "source": [
    "stimuli[0], target_coords[0]"
   ]
  },
  {
   "cell_type": "code",
   "execution_count": 54,
   "metadata": {},
   "outputs": [],
   "source": [
    "def points_in_circle_np(radius, x0=0, y0=0, ):\n",
    "    x_ = np.arange(x0 - radius - 1, x0 + radius + 1, dtype=int)\n",
    "    y_ = np.arange(y0 - radius - 1, y0 + radius + 1, dtype=int)\n",
    "    x, y = np.where((x_[:,np.newaxis] - x0)**2 + (y_ - y0)**2 <= radius**2)\n",
    "    # x, y = np.where((np.hypot((x_-x0)[:,np.newaxis], y_-y0)<= radius)) # alternative implementation\n",
    "    for x, y in zip(x_[x], y_[y]):\n",
    "        yield x, y"
   ]
  }
 ],
 "metadata": {
  "kernelspec": {
   "display_name": "Python 3",
   "language": "python",
   "name": "python3"
  },
  "language_info": {
   "codemirror_mode": {
    "name": "ipython",
    "version": 3
   },
   "file_extension": ".py",
   "mimetype": "text/x-python",
   "name": "python",
   "nbconvert_exporter": "python",
   "pygments_lexer": "ipython3",
   "version": "3.7.5"
  }
 },
 "nbformat": 4,
 "nbformat_minor": 4
}
