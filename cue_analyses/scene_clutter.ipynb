{
 "cells": [
  {
   "cell_type": "markdown",
   "metadata": {},
   "source": [
    "# Quantify Clutter as a Regressor against Behavioral Data\n",
    "\n",
    "Global clutter is defined here as the number of objects segmented in the image.\n",
    "\n",
    "Local clutter is the number of objects segmented in a set radius around the target."
   ]
  },
  {
   "cell_type": "code",
   "execution_count": 1,
   "metadata": {},
   "outputs": [],
   "source": [
    "import os\n",
    "import numpy as np\n",
    "import pandas as pd\n",
    "import scipy\n",
    "import path \n",
    "from matplotlib import pyplot as plt\n",
    "import json\n",
    "from PIL import Image, ImageStat\n",
    "from sklearn.linear_model import LinearRegression\n",
    "from scipy import stats\n",
    "import math"
   ]
  },
  {
   "cell_type": "markdown",
   "metadata": {},
   "source": [
    "## Load VE Behavioral Data"
   ]
  },
  {
   "cell_type": "code",
   "execution_count": 2,
   "metadata": {},
   "outputs": [],
   "source": [
    "\n",
    "dpath = '/Users/prachimahableshwarkar/Documents/GW/Depth_MTurk/verbal_judgement_analysis/data/finalVEMatched/z_scored/'\n",
    "\n",
    "# dpath = '/Users/pmahableshwarkar/Documents/Depth_Project/verbal_judgement_analysis/data/finalVEMatched/z_scored/'\n",
    "\n",
    "\n",
    "# stim \n",
    "with open(dpath + 'z_final_stim_125.npy' , 'rb') as f:\n",
    "    stim_125 = np.load(f, allow_pickle=True)\n",
    "    \n",
    "with open(dpath + 'z_final_stim_250.npy' , 'rb') as f:\n",
    "    stim_250 = np.load(f, allow_pickle=True)\n",
    "\n",
    "with open(dpath + 'z_final_stim_1000.npy' , 'rb') as f:\n",
    "    stim_1000 = np.load(f, allow_pickle=True)\n",
    "    \n",
    "# std \n",
    "with open(dpath + 'z_std_125.npy' , 'rb') as f:\n",
    "    std_125 = np.load(f, allow_pickle=True)\n",
    "    \n",
    "with open(dpath + 'z_std_250.npy' , 'rb') as f:\n",
    "    std_250 = np.load(f, allow_pickle=True)\n",
    "\n",
    "with open(dpath + 'z_std_1000.npy' , 'rb') as f:\n",
    "    std_1000 = np.load(f, allow_pickle=True)\n",
    "\n",
    "# x data\n",
    "with open(dpath + 'X_125.npy' , 'rb') as f:\n",
    "    X_125 = np.load(f, allow_pickle=True)\n",
    "with open(dpath + 'X_250.npy' , 'rb') as f:\n",
    "    X_250 = np.load(f, allow_pickle=True)\n",
    "with open(dpath + 'X_1000.npy' , 'rb') as f:\n",
    "    X_1000 = np.load(f, allow_pickle=True)\n",
    "\n",
    "# y data \n",
    "with open(dpath + 'z_final_y_125.npy' , 'rb') as f:\n",
    "    y_125 = np.load(f, allow_pickle=True)\n",
    "with open(dpath + 'z_final_y_250.npy' , 'rb') as f:\n",
    "    y_250 = np.load(f, allow_pickle=True) \n",
    "with open(dpath + 'z_final_y_1000.npy' , 'rb') as f:\n",
    "    y_1000= np.load(f, allow_pickle=True)\n",
    "    \n",
    "# residuals\n",
    "with open(dpath + 'residuals/'+ 'z_residuals_125.npy' , 'rb') as f:\n",
    "    residuals_125 = np.load(f, allow_pickle=True)\n",
    "with open(dpath + 'residuals/'+ 'z_residuals_250.npy' , 'rb') as f:\n",
    "    residuals_250 = np.load(f, allow_pickle=True) \n",
    "with open(dpath + 'residuals/'+ 'z_residuals_1000.npy' , 'rb') as f:\n",
    "    residuals_1000= np.load(f, allow_pickle=True)\n",
    "    \n"
   ]
  },
  {
   "cell_type": "markdown",
   "metadata": {},
   "source": [
    "## Load Discrimination Derived TD (target depth) data"
   ]
  },
  {
   "cell_type": "code",
   "execution_count": 3,
   "metadata": {},
   "outputs": [],
   "source": [
    "dpath = '/Users/prachimahableshwarkar/Documents/GW/Depth_MTurk/depth_discrimination/data/finalDiscrimMatched/kinectCoded_discrimination/discrimination_derived_TD/'\n",
    "\n",
    "\n",
    "with open(dpath + 'stim.npy' , 'rb') as f:\n",
    "    derivedTD_stim = np.load(f, allow_pickle=True)\n",
    "derivedTD_stim = [elem.split('/')[1][:-2] for elem in derivedTD_stim]\n",
    "\n",
    "    \n",
    "with open(dpath + 'derivedTD_125.npy' , 'rb') as f:\n",
    "    _derivedTD_125 = np.load(f, allow_pickle=True) \n",
    "with open(dpath + 'derivedTD_250.npy' , 'rb') as f:\n",
    "    _derivedTD_250 = np.load(f, allow_pickle=True) \n",
    "with open(dpath + 'derivedTD_1000.npy' , 'rb') as f:\n",
    "    _derivedTD_1000 = np.load(f, allow_pickle=True) \n",
    "    \n",
    "with open(dpath + 'residuals_derivedTD_125.npy' , 'rb') as f:\n",
    "    _residuals_derivedTD_125 = np.load(f, allow_pickle=True) \n",
    "with open(dpath + 'residuals_derivedTD_250.npy' , 'rb') as f:\n",
    "    _residuals_derivedTD_250 = np.load(f, allow_pickle=True) \n",
    "with open(dpath + 'residuals_derivedTD_1000.npy' , 'rb') as f:\n",
    "    _residuals_derivedTD_1000 = np.load(f, allow_pickle=True) \n",
    "    "
   ]
  },
  {
   "cell_type": "markdown",
   "metadata": {},
   "source": [
    "## Load Discrimination Derived VE  Data"
   ]
  },
  {
   "cell_type": "code",
   "execution_count": 4,
   "metadata": {},
   "outputs": [],
   "source": [
    "dpath = '/Users/prachimahableshwarkar/Documents/GW/Depth_MTurk/depth_discrimination/data/finalDiscrimMatched/discrimination_derived_VE/'\n",
    "\n",
    "with open(dpath + 'stimuli_125.npy' , 'rb') as f:\n",
    "    derivedVE_stim_125 = np.load(f, allow_pickle=True)\n",
    "derivedVE_stim_125 = [elem.split('/')[1][:-2] for elem in derivedVE_stim_125]\n",
    "\n",
    "with open(dpath + 'stimuli_250.npy' , 'rb') as f:\n",
    "    derivedVE_stim_250 = np.load(f, allow_pickle=True)\n",
    "derivedVE_stim_250 = [elem.split('/')[1][:-2] for elem in derivedVE_stim_250]\n",
    "\n",
    "with open(dpath + 'stimuli_1000.npy' , 'rb') as f:\n",
    "    derivedVE_stim_1000 = np.load(f, allow_pickle=True)\n",
    "derivedVE_stim_1000 = [elem.split('/')[1][:-2] for elem in derivedVE_stim_1000]\n",
    "\n",
    "    \n",
    "with open(dpath + 'derivedVE_125.npy' , 'rb') as f:\n",
    "    _derivedVE_125 = np.load(f, allow_pickle=True) \n",
    "with open(dpath + 'derivedVE_250.npy' , 'rb') as f:\n",
    "    _derivedVE_250 = np.load(f, allow_pickle=True) \n",
    "with open(dpath + 'derivedVE_1000.npy' , 'rb') as f:\n",
    "    _derivedVE_1000 = np.load(f, allow_pickle=True) \n",
    "    \n",
    "with open(dpath + 'residuals_derivedVE_125.npy' , 'rb') as f:\n",
    "    _residuals_derivedVE_125 = np.load(f, allow_pickle=True) \n",
    "with open(dpath + 'residuals_derivedVE_250.npy' , 'rb') as f:\n",
    "    _residuals_derivedVE_250 = np.load(f, allow_pickle=True) \n",
    "with open(dpath + 'residuals_derivedVE_1000.npy' , 'rb') as f:\n",
    "    _residuals_derivedVE_1000 = np.load(f, allow_pickle=True) \n",
    "    "
   ]
  },
  {
   "cell_type": "markdown",
   "metadata": {},
   "source": [
    "## Data arrays must be in the same stimulus order as the VE behavioral data"
   ]
  },
  {
   "cell_type": "code",
   "execution_count": 5,
   "metadata": {},
   "outputs": [],
   "source": [
    "derivedVE_dict_125 = {}\n",
    "derivedVE_dict_250 = {}\n",
    "derivedVE_dict_1000 = {}\n",
    "\n",
    "for i in range(len(derivedVE_stim_125)):\n",
    "    derivedVE_dict_125[derivedVE_stim_125[i]] = [_derivedVE_125[i], _residuals_derivedVE_125[i]]\n",
    "    \n",
    "for i in range(len(derivedVE_stim_250)):\n",
    "    derivedVE_dict_250[derivedVE_stim_250[i]] = [_derivedVE_250[i], _residuals_derivedVE_250[i]]\n",
    "    \n",
    "for i in range(len(derivedVE_stim_1000)):\n",
    "    derivedVE_dict_1000[derivedVE_stim_1000[i]] = [_derivedVE_1000[i], _residuals_derivedVE_1000[i]]"
   ]
  },
  {
   "cell_type": "code",
   "execution_count": 6,
   "metadata": {},
   "outputs": [
    {
     "data": {
      "text/plain": [
       "'002272_2014-06-28_18-53-56_260595134347_rgbf000067-resize'"
      ]
     },
     "execution_count": 6,
     "metadata": {},
     "output_type": "execute_result"
    }
   ],
   "source": [
    "stimfolder_125 = [elem.split('/')[1][:-2] for elem in stim_125]\n",
    "stimfolder_250 = [elem.split('/')[1][:-2] for elem in stim_250]\n",
    "stimfolder_1000 = [elem.split('/')[1][:-2] for elem in stim_1000]\n",
    "stimfolder_250[0]"
   ]
  },
  {
   "cell_type": "code",
   "execution_count": 7,
   "metadata": {},
   "outputs": [],
   "source": [
    "# derivedVE_125 = []\n",
    "# derivedVE_250 = []\n",
    "# derivedVE_1000 = []\n",
    "\n",
    "# residuals_derivedVE_125 = []\n",
    "# residuals_derivedVE_250 = []\n",
    "# residuals_derivedVE_1000 = []\n",
    "\n",
    "# for stim in stimfolder_125:\n",
    "#     data = derived_data_dict[stim]\n",
    "#     derivedVE_125.append(data[0])\n",
    "#     derivedVE_250.append(data[1])\n",
    "#     derivedVE_1000.append(data[2])\n",
    "    \n",
    "#     residuals_derivedVE_125.append(data[3])\n",
    "#     residuals_derivedVE_250.append(data[4])\n",
    "#     residuals_derivedVE_1000.append(data[5])\n"
   ]
  },
  {
   "cell_type": "code",
   "execution_count": null,
   "metadata": {},
   "outputs": [],
   "source": []
  },
  {
   "cell_type": "code",
   "execution_count": 8,
   "metadata": {},
   "outputs": [],
   "source": [
    "derivedTD_dict_125 = {}\n",
    "derivedTD_dict_250 = {}\n",
    "derivedTD_dict_1000 = {}\n",
    "\n",
    "for i in range(len(derivedTD_stim)):\n",
    "    derivedTD_dict_125[derivedTD_stim[i]] = [_derivedTD_125[i], _residuals_derivedTD_125[i]]\n",
    "    \n",
    "for i in range(len(derivedTD_stim)):\n",
    "    derivedTD_dict_250[derivedTD_stim[i]] = [_derivedTD_250[i], _residuals_derivedTD_250[i]]\n",
    "    \n",
    "for i in range(len(derivedTD_stim)):\n",
    "    derivedTD_dict_1000[derivedTD_stim[i]] = [_derivedTD_1000[i], _residuals_derivedTD_1000[i]]"
   ]
  },
  {
   "cell_type": "code",
   "execution_count": null,
   "metadata": {},
   "outputs": [],
   "source": []
  },
  {
   "cell_type": "code",
   "execution_count": 9,
   "metadata": {},
   "outputs": [],
   "source": [
    "# derivedTD_125 = []\n",
    "# derivedTD_250 = []\n",
    "# derivedTD_1000 = []\n",
    "\n",
    "# residuals_derivedTD_125 = []\n",
    "# residuals_derivedTD_250 = []\n",
    "# residuals_derivedTD_1000 = []\n",
    "\n",
    "# for stim in derivedTD_stim:\n",
    "#     data = derived_data_dict[stim]\n",
    "#     derivedVE_125.append(data[0])\n",
    "#     derivedVE_250.append(data[1])\n",
    "#     derivedVE_1000.append(data[2])\n",
    "    \n",
    "#     residuals_derivedVE_125.append(data[3])\n",
    "#     residuals_derivedVE_250.append(data[4])\n",
    "#     residuals_derivedVE_1000.append(data[5])\n"
   ]
  },
  {
   "cell_type": "code",
   "execution_count": 10,
   "metadata": {},
   "outputs": [],
   "source": [
    "stimuli_path = '/Users/prachimahableshwarkar/Documents/GW/Depth_MTurk/depth_duration_stimuli'\n",
    "kinect192_path = '/Users/prachimahableshwarkar/Documents/GW/SUNRGBD/updated/kinect2data_192'\n",
    "\n",
    "objSA_data = {}\n",
    "\n",
    "for stim in os.listdir(stimuli_path):\n",
    "    if 'resize' in stim:\n",
    "        p = stimuli_path + '/' + stim + '/data.json'\n",
    "        data = json.load(open(p))\n",
    "        target_object = data['objects'][0]['name']\n",
    "        dbID = data['objects'][0]['dbID']\n",
    "        kp = kinect192_path + '/' + stim[:-2] + '/annotation2Dfinal'\n",
    "        for file in os.listdir(kp):\n",
    "            if 'objSA' in file:\n",
    "                objSA = json.load(open(kp + '/' + file))\n",
    "                objSA_data[stim[:-2]] = objSA\n"
   ]
  },
  {
   "cell_type": "code",
   "execution_count": 11,
   "metadata": {},
   "outputs": [
    {
     "data": {
      "text/plain": [
       "{'floor_3': 3.689464597292053,\n",
       " 'bench_2': 1.6132601681688803,\n",
       " 'wall_4': 4.73195337315781,\n",
       " 'bench2_9': 5.5677571310778005,\n",
       " 'table_10': 5.180670126559448,\n",
       " 'wall2_11': 3.630879463416829}"
      ]
     },
     "execution_count": 11,
     "metadata": {},
     "output_type": "execute_result"
    }
   ],
   "source": [
    "objSA_data['000866_2014-06-09_20-45-42_260595134347_rgbf000139-resize']"
   ]
  },
  {
   "cell_type": "markdown",
   "metadata": {},
   "source": [
    "## Global Clutter x Behavioral Data\n",
    "\n",
    "global clutter = number of labeled objects "
   ]
  },
  {
   "cell_type": "code",
   "execution_count": 12,
   "metadata": {},
   "outputs": [],
   "source": [
    "# Opening JSON file\n",
    "f = open('cleaned_globalClutter.json')\n",
    "  \n",
    "# returns JSON object as \n",
    "# a dictionary\n",
    "cleaned_globalClutter = json.load(f)"
   ]
  },
  {
   "cell_type": "code",
   "execution_count": 13,
   "metadata": {},
   "outputs": [],
   "source": [
    "kinect192_path = '/Users/prachimahableshwarkar/Documents/GW/SUNRGBD/updated/kinect2data_192'\n",
    "\n",
    "stimuli_path = '/Users/prachimahableshwarkar/Documents/GW/Depth_MTurk/depth_duration_stimuli'"
   ]
  },
  {
   "cell_type": "code",
   "execution_count": 14,
   "metadata": {},
   "outputs": [],
   "source": [
    "globalClutter_dict = {}\n",
    "for stim in objSA_data:\n",
    "    count = 0\n",
    "    incl_obj = []\n",
    "    for key in objSA_data[stim]:\n",
    "#         sans_num_key = ''.join([i for i in key if not i.isdigit()])\n",
    "        if 'floor' in key: \n",
    "            count += 0\n",
    "#             print(key, 'floor')\n",
    "        elif 'wall' in key: count += 0\n",
    "        else: \n",
    "            count += 1\n",
    "            incl_obj.append(key)\n",
    "#             print(key, 'wall')\n",
    "            \n",
    "            \n",
    "        globalClutter_dict[stim] = [count, incl_obj]\n",
    "    "
   ]
  },
  {
   "cell_type": "code",
   "execution_count": 15,
   "metadata": {},
   "outputs": [],
   "source": [
    "# globalClutter_dict['000866_2014-06-09_20-45-42_260595134347_rgbf000139-resize'], objSA_data['000866_2014-06-09_20-45-42_260595134347_rgbf000139-resize']"
   ]
  },
  {
   "cell_type": "code",
   "execution_count": 16,
   "metadata": {},
   "outputs": [],
   "source": [
    "# from IPython.display import Image \n",
    "\n",
    "# _dir = '/Users/prachimahableshwarkar/Documents/GW/SUNRGBD/updated/kinect2data/'\n",
    "# globalClutter_dict_keys = list(globalClutter_dict.keys())\n",
    "# i = 139\n",
    "\n",
    "# for file in os.listdir(_dir + globalClutter_dict_keys[i] + '/image'):\n",
    "#     if '.ipynb_checkpoints' not in file:\n",
    "#         p = _dir + globalClutter_dict_keys[i] + '/image/' + file\n",
    "\n",
    "# pil_img = Image(filename=p)\n",
    "# display(pil_img)\n",
    "# print(globalClutter_dict_keys[i])\n",
    "# print(globalClutter_dict[globalClutter_dict_keys[i]])"
   ]
  },
  {
   "cell_type": "code",
   "execution_count": 17,
   "metadata": {},
   "outputs": [],
   "source": [
    "# cleaned_globalClutter = {key: None for key in globalClutter_dict_keys}\n"
   ]
  },
  {
   "cell_type": "code",
   "execution_count": 376,
   "metadata": {},
   "outputs": [],
   "source": [
    "\n",
    "# cleaned_globalClutter[globalClutter_dict_keys[i]] = 8\n",
    "\n",
    "# cleaned_globalClutter"
   ]
  },
  {
   "cell_type": "code",
   "execution_count": 377,
   "metadata": {},
   "outputs": [],
   "source": [
    "with open(\"cleaned_globalClutter.json\", \"w\") as outfile:\n",
    "    json.dump(cleaned_globalClutter, outfile)"
   ]
  },
  {
   "cell_type": "code",
   "execution_count": 18,
   "metadata": {},
   "outputs": [
    {
     "data": {
      "text/plain": [
       "(14.257142857142858, 14.0)"
      ]
     },
     "execution_count": 18,
     "metadata": {},
     "output_type": "execute_result"
    }
   ],
   "source": [
    "import statistics\n",
    "\n",
    "# fill in missing data with the average clutter for now \n",
    "all_cvals = []\n",
    "for key in cleaned_globalClutter:\n",
    "    cval = cleaned_globalClutter[key]\n",
    "    all_cvals.append(cval)\n",
    "    \n",
    "np.mean(all_cvals), statistics.median(all_cvals)"
   ]
  },
  {
   "cell_type": "code",
   "execution_count": 19,
   "metadata": {},
   "outputs": [],
   "source": [
    "# discrimination derived verbal estimates variables\n",
    "dd_globalClutter = []\n",
    "\n",
    "dd_residuals_125 = []\n",
    "dd_residuals_250 = []\n",
    "dd_residuals_1000 = []\n",
    "\n",
    "dd_125 = []\n",
    "dd_250 = []\n",
    "dd_1000 = []\n",
    "\n",
    "for stim in cleaned_globalClutter:\n",
    "    try:\n",
    "        stim_dd_125, stim_resid_125 = derivedVE_dict_125[stim]\n",
    "        dd_125.append(stim_dd_125)\n",
    "        dd_residuals_125.append(stim_resid_125)\n",
    "        \n",
    "        stim_dd_250, stim_resid_250 = derivedVE_dict_250[stim]\n",
    "        dd_250.append(stim_dd_250)\n",
    "        dd_residuals_250.append(stim_resid_250)\n",
    "        \n",
    "        stim_dd_1000, stim_resid_1000 = derivedVE_dict_1000[stim]\n",
    "        dd_1000.append(stim_dd_1000)\n",
    "        dd_residuals_1000.append(stim_resid_1000)\n",
    "        \n",
    "        dd_globalClutter.append(cleaned_globalClutter[stim])\n",
    "        \n",
    "    except:\n",
    "        pass\n"
   ]
  },
  {
   "cell_type": "code",
   "execution_count": 20,
   "metadata": {},
   "outputs": [],
   "source": [
    "# discrimination derived target depth variables\n",
    "ddTD_globalClutter = []\n",
    "\n",
    "ddTD_residuals_125 = []\n",
    "ddTD_residuals_250 = []\n",
    "ddTD_residuals_1000 = []\n",
    "\n",
    "ddTD_125 = []\n",
    "ddTD_250 = []\n",
    "ddTD_1000 = []\n",
    "\n",
    "for stim in cleaned_globalClutter:\n",
    "    try:\n",
    "        stim_ddTD_125, stim_residTD_125 = derivedTD_dict_125[stim]\n",
    "        ddTD_125.append(stim_ddTD_125)\n",
    "        ddTD_residuals_125.append(stim_residTD_125)\n",
    "        \n",
    "        stim_ddTD_250, stim_residTD_250 = derivedTD_dict_250[stim]\n",
    "        ddTD_250.append(stim_ddTD_250)\n",
    "        ddTD_residuals_250.append(stim_residTD_250)\n",
    "        \n",
    "        stim_ddTD_1000, stim_residTD_1000 = derivedTD_dict_1000[stim]\n",
    "        ddTD_1000.append(stim_ddTD_1000)\n",
    "        ddTD_residuals_1000.append(stim_residTD_1000)\n",
    "        \n",
    "        ddTD_globalClutter.append(cleaned_globalClutter[stim])\n",
    "        \n",
    "    except:\n",
    "        pass"
   ]
  },
  {
   "cell_type": "code",
   "execution_count": 21,
   "metadata": {},
   "outputs": [],
   "source": [
    "folders_125 = [elem.split('/')[1][:-2] for elem in stim_125]\n",
    "folders_250 = [elem.split('/')[1][:-2] for elem in stim_250]\n",
    "folders_1000 = [elem.split('/')[1][:-2] for elem in stim_1000]\n"
   ]
  },
  {
   "cell_type": "code",
   "execution_count": 22,
   "metadata": {},
   "outputs": [],
   "source": [
    "globalClutter = []\n",
    "trunc_residuals_125 = []\n",
    "trunc_residuals_250 = []\n",
    "trunc_residuals_1000 = []\n",
    "\n",
    "trunc_std_125 = []\n",
    "trunc_std_250 = []\n",
    "trunc_std_1000 = []\n",
    "\n",
    "trunc_y_125 = []\n",
    "trunc_y_250 = []\n",
    "trunc_y_1000 = []\n",
    "\n",
    "\n",
    "for stim in cleaned_globalClutter:\n",
    "    try:\n",
    "        index_125 = list(folders_125).index(stim)\n",
    "        index_250 = list(folders_250).index(stim)\n",
    "        index_1000 = list(folders_1000).index(stim)\n",
    "        \n",
    "        trunc_residuals_125.append(residuals_125[index_125])\n",
    "        trunc_residuals_250.append(residuals_250[index_250])\n",
    "        trunc_residuals_1000.append(residuals_1000[index_1000])\n",
    "        \n",
    "        trunc_std_125.append(std_125[index_125])\n",
    "        trunc_std_250.append(std_250[index_250])\n",
    "        trunc_std_1000.append(std_1000[index_1000])\n",
    "        \n",
    "        trunc_y_125.append(y_125[index_125])\n",
    "        trunc_y_250.append(y_250[index_250])\n",
    "        trunc_y_1000.append(y_1000[index_1000])\n",
    "    \n",
    "\n",
    "        globalClutter.append(cleaned_globalClutter[stim])\n",
    "        \n",
    "    except:\n",
    "        pass\n",
    "#         print(stim)\n",
    "    \n"
   ]
  },
  {
   "cell_type": "code",
   "execution_count": 23,
   "metadata": {},
   "outputs": [],
   "source": [
    "trunc_avg_residuals = np.mean([np.array(trunc_residuals_125), np.array(trunc_residuals_250), np.array(trunc_residuals_1000)], axis =0)"
   ]
  },
  {
   "cell_type": "code",
   "execution_count": 24,
   "metadata": {},
   "outputs": [
    {
     "data": {
      "text/plain": [
       "342"
      ]
     },
     "execution_count": 24,
     "metadata": {},
     "output_type": "execute_result"
    }
   ],
   "source": [
    "trunc_all_residuals = trunc_residuals_125 + trunc_residuals_250 + trunc_residuals_1000\n",
    "len(trunc_all_residuals)"
   ]
  },
  {
   "cell_type": "code",
   "execution_count": 25,
   "metadata": {},
   "outputs": [
    {
     "name": "stdout",
     "output_type": "stream",
     "text": [
      "Correlation between Standard Deviation and Global Clutter\n",
      "125 ms:  (0.1290101178093956, 0.17131368474596312)\n",
      "250 ms:  (0.16342431956249953, 0.08232279538845011)\n",
      "1000 ms:  (0.07248924474258508, 0.44340694935256075)\n"
     ]
    }
   ],
   "source": [
    "# corr, p-value\n",
    "print('Correlation between Standard Deviation and Global Clutter')\n",
    "print('125 ms: ',stats.pearsonr(trunc_std_125, globalClutter))\n",
    "print('250 ms: ',stats.pearsonr(trunc_std_250, globalClutter))\n",
    "print('1000 ms: ',stats.pearsonr(trunc_std_1000, globalClutter))"
   ]
  },
  {
   "cell_type": "code",
   "execution_count": 26,
   "metadata": {},
   "outputs": [
    {
     "name": "stdout",
     "output_type": "stream",
     "text": [
      "Correlation between Linear Model Residuals and Global Clutter\n",
      "125 ms:  (0.10287069299378453, 0.2760893851388456)\n",
      "250 ms:  (0.13608323295717523, 0.14882794585251674)\n",
      "1000 ms:  (0.1323217206364646, 0.16049205207178138)\n"
     ]
    }
   ],
   "source": [
    "# corr, p-value\n",
    "print('Correlation between Linear Model Residuals and Global Clutter')\n",
    "print('125 ms: ',stats.pearsonr(trunc_residuals_125, globalClutter))\n",
    "print('250 ms: ',stats.pearsonr(trunc_residuals_250, globalClutter))\n",
    "print('1000 ms: ',stats.pearsonr(trunc_residuals_1000, globalClutter))"
   ]
  },
  {
   "cell_type": "code",
   "execution_count": 27,
   "metadata": {},
   "outputs": [
    {
     "name": "stdout",
     "output_type": "stream",
     "text": [
      "Correlation between Abs Linear Model Residuals and Global Clutter\n",
      "125 ms:  (0.17953594786430443, 0.05595900936597339)\n",
      "250 ms:  (0.19697901706721863, 0.03567528424010873)\n",
      "1000 ms:  (0.23441734195396002, 0.012059726318301685)\n"
     ]
    }
   ],
   "source": [
    "print('Correlation between Abs Linear Model Residuals and Global Clutter')\n",
    "\n",
    "print('125 ms: ',stats.pearsonr(abs(np.array(trunc_residuals_125)), globalClutter))\n",
    "print('250 ms: ',stats.pearsonr(abs(np.array(trunc_residuals_250)), globalClutter))\n",
    "print('1000 ms: ',stats.pearsonr(abs(np.array(trunc_residuals_1000)), globalClutter))"
   ]
  },
  {
   "cell_type": "code",
   "execution_count": 28,
   "metadata": {},
   "outputs": [
    {
     "name": "stdout",
     "output_type": "stream",
     "text": [
      "Correlation between Average Abs Linear Model Residuals and Global Clutter\n",
      "Average:  (0.21083154258433734, 0.0243457290885854)\n",
      "\n",
      "Correlation between Average  Linear Model Residuals and Global Clutter\n",
      "Average:  (0.125936238524462, 0.18183225629775104)\n"
     ]
    }
   ],
   "source": [
    "print('Correlation between Average Abs Linear Model Residuals and Global Clutter')\n",
    "print('Average: ',stats.pearsonr(abs(np.array(trunc_avg_residuals)), globalClutter))\n",
    "\n",
    "print()\n",
    "\n",
    "print('Correlation between Average  Linear Model Residuals and Global Clutter')\n",
    "print('Average: ',stats.pearsonr(np.array(trunc_avg_residuals), globalClutter))"
   ]
  },
  {
   "cell_type": "code",
   "execution_count": 29,
   "metadata": {},
   "outputs": [
    {
     "name": "stdout",
     "output_type": "stream",
     "text": [
      "Correlation between all Abs Linear Model Residuals and Global Clutter\n",
      "Average:  (0.20308932069006974, 0.00015587914138598199)\n",
      "\n",
      "Correlation between all Linear Model Residuals and Global Clutter\n",
      "Average:  (0.12354333064657791, 0.022306218246625556)\n"
     ]
    }
   ],
   "source": [
    "print('Correlation between all Abs Linear Model Residuals and Global Clutter')\n",
    "print('Average: ',stats.pearsonr(abs(np.array(trunc_all_residuals)), globalClutter * 3))\n",
    "\n",
    "print()\n",
    "\n",
    "print('Correlation between all Linear Model Residuals and Global Clutter')\n",
    "print('Average: ',stats.pearsonr(np.array(trunc_all_residuals), globalClutter * 3))"
   ]
  },
  {
   "cell_type": "code",
   "execution_count": 30,
   "metadata": {},
   "outputs": [
    {
     "name": "stdout",
     "output_type": "stream",
     "text": [
      "Correlation between Estimated Depth and Global Clutter\n",
      "125 ms:  (0.15324100849730568, 0.10357491712457692)\n",
      "250 ms:  (0.1714513311216713, 0.06815877604655572)\n",
      "1000 ms:  (0.168781927803169, 0.07263145812376814)\n"
     ]
    }
   ],
   "source": [
    "# corr, p-value\n",
    "print('Correlation between Estimated Depth and Global Clutter')\n",
    "print('125 ms: ',stats.pearsonr(trunc_y_125, globalClutter))\n",
    "print('250 ms: ',stats.pearsonr(trunc_y_250, globalClutter))\n",
    "print('1000 ms: ',stats.pearsonr(trunc_y_1000, globalClutter))"
   ]
  },
  {
   "cell_type": "code",
   "execution_count": 31,
   "metadata": {},
   "outputs": [
    {
     "data": {
      "image/png": "[encoded data removed]",
      "text/plain": [
       "<Figure size 432x288 with 1 Axes>"
      ]
     },
     "metadata": {
      "needs_background": "light"
     },
     "output_type": "display_data"
    }
   ],
   "source": [
    "plt.hist(globalClutter, color='darkblue')\n",
    "plt.ylabel('count')\n",
    "plt.xlabel('Global Clutter')\n",
    "plt.title('Distribution of Global Clutter in Stimulus Set')\n",
    "plt.show();"
   ]
  },
  {
   "cell_type": "code",
   "execution_count": 32,
   "metadata": {},
   "outputs": [
    {
     "name": "stdout",
     "output_type": "stream",
     "text": [
      "m: [0.0150906]\n",
      "b: -0.22733522330204983\n",
      "R-squared:  0.028487339152954094\n"
     ]
    },
    {
     "data": {
      "text/plain": [
       "0.028"
      ]
     },
     "execution_count": 32,
     "metadata": {},
     "output_type": "execute_result"
    },
    {
     "data": {
      "image/png": "[encoded data removed]",
      "text/plain": [
       "<Figure size 576x576 with 1 Axes>"
      ]
     },
     "metadata": {
      "needs_background": "light"
     },
     "output_type": "display_data"
    }
   ],
   "source": [
    "\n",
    "plt.figure(figsize = [8,8])\n",
    "#run regression\n",
    "X = np.array(globalClutter).reshape(-1,1)\n",
    "y = trunc_y_1000\n",
    "reg = LinearRegression().fit(X, y)\n",
    "\n",
    "#Generated Predictions\n",
    "y_predicted = reg.predict(X)\n",
    "#Plot Our Actual and Predicted Values\n",
    "plt.plot(X, y, 'o', color='black', alpha = 0.5);\n",
    "plt.plot(X,y_predicted,color='darkviolet', label = 'm = ' + str(round(reg.coef_[0], 3))\n",
    "         + '     r-squared = ' + str(round(float(reg.score(X, y)), 3)))\n",
    "plt.title(\"1000 ms\", fontsize = 20)\n",
    "plt.xlabel(\"Global Clutter\", fontsize = 15)\n",
    "plt.ylabel(\"Estimated Depth (m)\", fontsize = 15)\n",
    "\n",
    "legend = plt.legend(loc = 0, fontsize = 13, borderpad = 0.6, labelspacing = 1)\n",
    "legend.get_frame().set_facecolor('lightgray')\n",
    "\n",
    "\n",
    "#get coefficients and y intercept\n",
    "print(\"m: {0}\".format(reg.coef_))\n",
    "print(\"b: {0}\".format(reg.intercept_))\n",
    "\n",
    "#Returns the coefficient of determination R^2 of the prediction.\n",
    "print(\"R-squared: \", reg.score(X, y))\n",
    "\n",
    "round(float(reg.score(X, y)), 3)"
   ]
  },
  {
   "cell_type": "code",
   "execution_count": 34,
   "metadata": {},
   "outputs": [
    {
     "name": "stdout",
     "output_type": "stream",
     "text": [
      "m: [0.00548133]\n",
      "b: -0.07243109290016035\n",
      "R-squared:  0.015262954547249465\n"
     ]
    },
    {
     "data": {
      "text/plain": [
       "0.015"
      ]
     },
     "execution_count": 34,
     "metadata": {},
     "output_type": "execute_result"
    },
    {
     "data": {
      "image/png": "[encoded data removed]",
      "text/plain": [
       "<Figure size 576x576 with 1 Axes>"
      ]
     },
     "metadata": {
      "needs_background": "light"
     },
     "output_type": "display_data"
    }
   ],
   "source": [
    "\n",
    "\n",
    "fig, ax = plt.subplots(figsize=[8,8])\n",
    "ax.spines['right'].set_visible(False)\n",
    "\n",
    "ax.spines['top'].set_visible(False)\n",
    "\n",
    "\n",
    "\n",
    "for axis in ['bottom','left']:\n",
    "\n",
    "    ax.spines[axis].set_linewidth(2.3)\n",
    "\n",
    "#run regression\n",
    "X = np.array(globalClutter*3).reshape(-1,1)\n",
    "y = (np.array(trunc_all_residuals))\n",
    "reg = LinearRegression().fit(X, y)\n",
    "\n",
    "#Generated Predictions\n",
    "y_predicted = reg.predict(X)\n",
    "#Plot Our Actual and Predicted Values\n",
    "plt.plot(X, y, 'o', color='black', alpha = 0.6, marker = 'o');\n",
    "plt.plot(X,y_predicted,color='black', label = 'm = ' + str(round(reg.coef_[0], 3))\n",
    "         + '     r-squared = ' + str(round(float(reg.score(X, y)), 3)))\n",
    "plt.title(\"(Residuals) x Clutter\", fontsize = 20)\n",
    "plt.xlabel(\"Global Clutter\", fontsize = 17)\n",
    "plt.ylabel(\" Linear Model Residuals\", fontsize = 17)\n",
    "\n",
    "legend = plt.legend(loc = 0, fontsize = 13, borderpad = 0.6, labelspacing = 1)\n",
    "legend.get_frame().set_facecolor('lightgray')\n",
    "\n",
    "\n",
    "#get coefficients and y intercept\n",
    "print(\"m: {0}\".format(reg.coef_))\n",
    "print(\"b: {0}\".format(reg.intercept_))\n",
    "\n",
    "#Returns the coefficient of determination R^2 of the prediction.\n",
    "print(\"R-squared: \", reg.score(X, y))\n",
    "\n",
    "round(float(reg.score(X, y)), 3)"
   ]
  },
  {
   "cell_type": "code",
   "execution_count": 35,
   "metadata": {},
   "outputs": [
    {
     "data": {
      "text/plain": [
       "(112, 112)"
      ]
     },
     "execution_count": 35,
     "metadata": {},
     "output_type": "execute_result"
    }
   ],
   "source": [
    "len(dd_residuals_125), len(dd_globalClutter)"
   ]
  },
  {
   "cell_type": "code",
   "execution_count": 36,
   "metadata": {},
   "outputs": [
    {
     "name": "stdout",
     "output_type": "stream",
     "text": [
      "Correlation between Average Discrimination Derived VE Linear Model Residuals and Global Clutter\n",
      "(0.15554427246143734, 0.10149631213715139)\n",
      "\n",
      "Correlation between Average Discrimination Derived VE Linear Model Residuals and Global Clutter\n",
      "(0.1029003676380138, 0.059541967412743986)\n"
     ]
    }
   ],
   "source": [
    "# corr, p-value\n",
    "print('Correlation between Average Discrimination Derived VE Linear Model Residuals and Global Clutter')\n",
    "print(stats.pearsonr(np.mean([dd_residuals_125, dd_residuals_250, dd_residuals_1000], axis=0), dd_globalClutter))\n",
    "\n",
    "print()\n",
    "\n",
    "print('Correlation between Average Discrimination Derived VE Linear Model Residuals and Global Clutter')\n",
    "print(stats.pearsonr(dd_residuals_125 + dd_residuals_250 + dd_residuals_1000, dd_globalClutter*3))\n"
   ]
  },
  {
   "cell_type": "code",
   "execution_count": 37,
   "metadata": {},
   "outputs": [
    {
     "name": "stdout",
     "output_type": "stream",
     "text": [
      "Correlation between Discrimination Derived VE Linear Model Residuals and Global Clutter\n",
      "125 ms:  (0.17791914481762675, 0.0605456271739504)\n",
      "250 ms:  (0.13212982396287168, 0.16491169516902054)\n",
      "1000 ms:  (-0.06233981419658927, 0.5137712094938235)\n"
     ]
    }
   ],
   "source": [
    "# corr, p-value\n",
    "print('Correlation between Discrimination Derived VE Linear Model Residuals and Global Clutter')\n",
    "print('125 ms: ',stats.pearsonr(dd_residuals_125, dd_globalClutter))\n",
    "print('250 ms: ',stats.pearsonr(dd_residuals_250, dd_globalClutter))\n",
    "print('1000 ms: ',stats.pearsonr(dd_residuals_1000, dd_globalClutter))"
   ]
  },
  {
   "cell_type": "code",
   "execution_count": 76,
   "metadata": {},
   "outputs": [
    {
     "name": "stdout",
     "output_type": "stream",
     "text": [
      "Correlation between Abs Discrimination Derived VE Linear Model Residuals and Global Clutter\n",
      "125 ms:  (-0.12628731946151278, 0.18456662513819222)\n",
      "250 ms:  (0.07380772496559392, 0.4392854410975877)\n",
      "1000 ms:  (-0.13116893361377704, 0.16803276353003463)\n"
     ]
    }
   ],
   "source": [
    "# corr, p-value\n",
    "print('Correlation between Abs Discrimination Derived VE Linear Model Residuals and Global Clutter')\n",
    "print('125 ms: ',stats.pearsonr(np.abs(np.array(dd_residuals_125)), dd_globalClutter))\n",
    "print('250 ms: ',stats.pearsonr(np.abs(np.array(dd_residuals_250)), dd_globalClutter))\n",
    "print('1000 ms: ',stats.pearsonr(np.abs(np.array(dd_residuals_1000)), dd_globalClutter))"
   ]
  },
  {
   "cell_type": "code",
   "execution_count": 77,
   "metadata": {},
   "outputs": [
    {
     "name": "stdout",
     "output_type": "stream",
     "text": [
      "Correlation between Discrimination Derived VE and Global Clutter\n",
      "125 ms:  (0.20526161936547083, 0.029924498122811904)\n",
      "250 ms:  (0.16847448132761744, 0.07578572820309536)\n",
      "1000 ms:  (0.02265105566736114, 0.8126122543753653)\n"
     ]
    }
   ],
   "source": [
    "# corr, p-value\n",
    "print('Correlation between Discrimination Derived VE and Global Clutter')\n",
    "print('125 ms: ',stats.pearsonr(dd_125, dd_globalClutter))\n",
    "print('250 ms: ',stats.pearsonr(dd_250, dd_globalClutter))\n",
    "print('1000 ms: ',stats.pearsonr(dd_1000, dd_globalClutter))"
   ]
  },
  {
   "cell_type": "code",
   "execution_count": 25,
   "metadata": {},
   "outputs": [
    {
     "data": {
      "text/plain": [
       "(114, 114)"
      ]
     },
     "execution_count": 25,
     "metadata": {},
     "output_type": "execute_result"
    }
   ],
   "source": [
    "len(ddTD_residuals_125), len(ddTD_globalClutter)"
   ]
  },
  {
   "cell_type": "code",
   "execution_count": 28,
   "metadata": {},
   "outputs": [
    {
     "name": "stdout",
     "output_type": "stream",
     "text": [
      "Correlation between Average Discrimination Derived TD Linear Model Residuals and Global Clutter\n",
      "(-0.0011641710516843637, 0.9901918819706605)\n",
      "\n",
      "Correlation between All Discrimination Derived TD Linear Model Residuals and Global Clutter * 3\n",
      "(-0.001019650096649085, 0.985010542488815)\n"
     ]
    }
   ],
   "source": [
    "# corr, p-value\n",
    "print('Correlation between Average Discrimination Derived TD Linear Model Residuals and Global Clutter')\n",
    "print(stats.pearsonr(np.mean([ddTD_residuals_125, ddTD_residuals_250, ddTD_residuals_1000], axis=0), ddTD_globalClutter))\n",
    "\n",
    "print()\n",
    "\n",
    "print('Correlation between All Discrimination Derived TD Linear Model Residuals and Global Clutter * 3')\n",
    "print(stats.pearsonr(ddTD_residuals_125 + ddTD_residuals_250 + ddTD_residuals_1000, ddTD_globalClutter*3))\n"
   ]
  },
  {
   "cell_type": "code",
   "execution_count": 30,
   "metadata": {},
   "outputs": [
    {
     "name": "stdout",
     "output_type": "stream",
     "text": [
      "Correlation between Discrimination Derived TD Linear Model Residuals and Global Clutter\n",
      "125 ms:  (-0.029063730616841747, 0.758873278925603)\n",
      "250 ms:  (0.013788757796627988, 0.8842308036311769)\n",
      "1000 ms:  (0.008488506796329238, 0.928577085991804)\n"
     ]
    }
   ],
   "source": [
    "# corr, p-value\n",
    "print('Correlation between Discrimination Derived TD Linear Model Residuals and Global Clutter')\n",
    "print('125 ms: ',stats.pearsonr(ddTD_residuals_125, ddTD_globalClutter))\n",
    "print('250 ms: ',stats.pearsonr(ddTD_residuals_250, ddTD_globalClutter))\n",
    "print('1000 ms: ',stats.pearsonr(ddTD_residuals_1000, ddTD_globalClutter))"
   ]
  },
  {
   "cell_type": "code",
   "execution_count": 31,
   "metadata": {},
   "outputs": [
    {
     "name": "stdout",
     "output_type": "stream",
     "text": [
      "Correlation between Abs Discrimination Derived TD Linear Model Residuals and Global Clutter\n",
      "125 ms:  (0.0038743447879744895, 0.9673668916352959)\n",
      "250 ms:  (0.012485111870120025, 0.8951104153696127)\n",
      "1000 ms:  (0.0074301022750823675, 0.9374632822137319)\n"
     ]
    }
   ],
   "source": [
    "# corr, p-value\n",
    "print('Correlation between Abs Discrimination Derived TD Linear Model Residuals and Global Clutter')\n",
    "print('125 ms: ',stats.pearsonr(np.abs(np.array(ddTD_residuals_125)), ddTD_globalClutter))\n",
    "print('250 ms: ',stats.pearsonr(np.abs(np.array(ddTD_residuals_250)), ddTD_globalClutter))\n",
    "print('1000 ms: ',stats.pearsonr(np.abs(np.array(ddTD_residuals_1000)), ddTD_globalClutter))"
   ]
  },
  {
   "cell_type": "code",
   "execution_count": 32,
   "metadata": {},
   "outputs": [
    {
     "name": "stdout",
     "output_type": "stream",
     "text": [
      "Correlation between Discrimination Derived TD and Global Clutter\n",
      "125 ms:  (0.040680160031576096, 0.6673873568673543)\n",
      "250 ms:  (0.03196065764847514, 0.7356857785654408)\n",
      "1000 ms:  (0.028115789641297996, 0.7665086015776662)\n"
     ]
    }
   ],
   "source": [
    "# corr, p-value\n",
    "print('Correlation between Discrimination Derived TD and Global Clutter')\n",
    "print('125 ms: ',stats.pearsonr(ddTD_125, ddTD_globalClutter))\n",
    "print('250 ms: ',stats.pearsonr(ddTD_250, ddTD_globalClutter))\n",
    "print('1000 ms: ',stats.pearsonr(ddTD_1000, ddTD_globalClutter))"
   ]
  },
  {
   "cell_type": "markdown",
   "metadata": {},
   "source": [
    "## Local Clutter x Behavioral Data "
   ]
  },
  {
   "cell_type": "code",
   "execution_count": 50,
   "metadata": {},
   "outputs": [],
   "source": [
    "def getTargetLocation(stimfolder, rootdir):\n",
    "    \"\"\"\n",
    "    imagepath = target folder \n",
    "    rootdir = main folder of all target folders (NOT SUNRGBD folder)\n",
    "    \"\"\"\n",
    "#     stimfolder = imagepath.split('/')[-2]\n",
    "    jsonpath = rootdir + '/' + stimfolder + '/data.json'\n",
    "    \n",
    "    # Opening JSON file\n",
    "    f = open(jsonpath,)\n",
    "\n",
    "    # returns JSON object as \n",
    "    # a dictionary\n",
    "    data = json.load(f)\n",
    "    crossing_point = data['objects'][0]['crossing_point']\n",
    "    # x, y is a misnomer for array indeces \n",
    "    # x value = 364 (verticel midline of image aka column index)\n",
    "    x = crossing_point[0]['x']\n",
    "    # y value - row index \n",
    "    y = crossing_point[0]['y']\n",
    "    row_index = y\n",
    "    col_index = x\n",
    "    return (row_index,col_index)\n",
    "    "
   ]
  },
  {
   "cell_type": "code",
   "execution_count": 51,
   "metadata": {},
   "outputs": [],
   "source": [
    "final_stimuli = '/Users/prachimahableshwarkar/Documents/GW/Depth_MTurk/depth_duration_stimuli'\n",
    "\n",
    "stimuli = []\n",
    "\n",
    "for folder in os.listdir(final_stimuli):\n",
    "    if 'resize' in folder:\n",
    "        stimuli.append(folder)"
   ]
  },
  {
   "cell_type": "code",
   "execution_count": 52,
   "metadata": {},
   "outputs": [],
   "source": [
    "\n",
    "target_coords = [getTargetLocation(path, final_stimuli) for path in stimuli]\n"
   ]
  },
  {
   "cell_type": "code",
   "execution_count": 53,
   "metadata": {
    "collapsed": true,
    "jupyter": {
     "outputs_hidden": true
    }
   },
   "outputs": [
    {
     "data": {
      "text/plain": [
       "('000866_2014-06-09_20-45-42_260595134347_rgbf000139-resize_1',\n",
       " (91.40339449541284, 364))"
      ]
     },
     "execution_count": 53,
     "metadata": {},
     "output_type": "execute_result"
    }
   ],
   "source": [
    "stimuli[0], target_coords[0]"
   ]
  },
  {
   "cell_type": "code",
   "execution_count": 54,
   "metadata": {},
   "outputs": [],
   "source": [
    "def points_in_circle_np(radius, x0=0, y0=0, ):\n",
    "    x_ = np.arange(x0 - radius - 1, x0 + radius + 1, dtype=int)\n",
    "    y_ = np.arange(y0 - radius - 1, y0 + radius + 1, dtype=int)\n",
    "    x, y = np.where((x_[:,np.newaxis] - x0)**2 + (y_ - y0)**2 <= radius**2)\n",
    "    # x, y = np.where((np.hypot((x_-x0)[:,np.newaxis], y_-y0)<= radius)) # alternative implementation\n",
    "    for x, y in zip(x_[x], y_[y]):\n",
    "        yield x, y"
   ]
  }
 ],
 "metadata": {
  "kernelspec": {
   "display_name": "Python 3",
   "language": "python",
   "name": "python3"
  },
  "language_info": {
   "codemirror_mode": {
    "name": "ipython",
    "version": 3
   },
   "file_extension": ".py",
   "mimetype": "text/x-python",
   "name": "python",
   "nbconvert_exporter": "python",
   "pygments_lexer": "ipython3",
   "version": "3.7.5"
  }
 },
 "nbformat": 4,
 "nbformat_minor": 4
}
