{
 "cells": [
  {
   "cell_type": "code",
   "execution_count": null,
   "metadata": {},
   "outputs": [],
   "source": []
  },
  {
   "cell_type": "markdown",
   "metadata": {},
   "source": [
    "# GP Analysis: Based on Residuals \n",
    "\n"
   ]
  },
  {
   "cell_type": "code",
   "execution_count": 1,
   "metadata": {},
   "outputs": [],
   "source": [
    "import os \n",
    "import pandas as pd\n",
    "import numpy as np\n",
    "import math\n",
    "import matplotlib.pyplot as plt\n",
    "import scipy \n",
    "import scipy.stats as stats\n",
    "from scipy.stats import sem \n",
    "from mpl_toolkits.mplot3d import Axes3D # <--- This is important for 3d plotting \n",
    "from sklearn.linear_model import LinearRegression\n",
    "import json\n",
    "import copy"
   ]
  },
  {
   "cell_type": "markdown",
   "metadata": {},
   "source": [
    "## VE Data"
   ]
  },
  {
   "cell_type": "code",
   "execution_count": 2,
   "metadata": {},
   "outputs": [],
   "source": [
    "dpath = '/Users/prachimahableshwarkar/Documents/GW/Depth_MTurk/verbal_judgement_analysis/data/finalVEMatched/z_scored/'\n",
    "\n",
    "# dpath = '/Users/pmahableshwarkar/Documents/Depth_Project/verbal_judgement_analysis/data/finalVEMatched/z_scored/'\n",
    "\n",
    "\n",
    "# stim \n",
    "with open(dpath + 'z_final_stim_125.npy' , 'rb') as f:\n",
    "    stim_125 = np.load(f, allow_pickle=True)\n",
    "    \n",
    "with open(dpath + 'z_final_stim_250.npy' , 'rb') as f:\n",
    "    stim_250 = np.load(f, allow_pickle=True)\n",
    "\n",
    "with open(dpath + 'z_final_stim_1000.npy' , 'rb') as f:\n",
    "    stim_1000 = np.load(f, allow_pickle=True)\n",
    "    \n",
    "# std \n",
    "with open(dpath + 'z_std_125.npy' , 'rb') as f:\n",
    "    std_125 = np.load(f, allow_pickle=True)\n",
    "    \n",
    "with open(dpath + 'z_std_250.npy' , 'rb') as f:\n",
    "    std_250 = np.load(f, allow_pickle=True)\n",
    "\n",
    "with open(dpath + 'z_std_1000.npy' , 'rb') as f:\n",
    "    std_1000 = np.load(f, allow_pickle=True)\n",
    "\n",
    "# x data\n",
    "with open(dpath + 'X_125.npy' , 'rb') as f:\n",
    "    X_125 = np.load(f, allow_pickle=True)\n",
    "with open(dpath + 'X_250.npy' , 'rb') as f:\n",
    "    X_250 = np.load(f, allow_pickle=True)\n",
    "with open(dpath + 'X_1000.npy' , 'rb') as f:\n",
    "    X_1000 = np.load(f, allow_pickle=True)\n",
    "\n",
    "# y data \n",
    "with open(dpath + 'z_final_y_125.npy' , 'rb') as f:\n",
    "    y_125 = np.load(f, allow_pickle=True)\n",
    "with open(dpath + 'z_final_y_250.npy' , 'rb') as f:\n",
    "    y_250 = np.load(f, allow_pickle=True) \n",
    "with open(dpath + 'z_final_y_1000.npy' , 'rb') as f:\n",
    "    y_1000= np.load(f, allow_pickle=True)\n",
    "    \n",
    "# residuals\n",
    "with open(dpath + 'residuals/'+ 'z_residuals_125.npy' , 'rb') as f:\n",
    "    residuals_125 = np.load(f, allow_pickle=True)\n",
    "with open(dpath + 'residuals/'+ 'z_residuals_250.npy' , 'rb') as f:\n",
    "    residuals_250 = np.load(f, allow_pickle=True) \n",
    "with open(dpath + 'residuals/'+ 'z_residuals_1000.npy' , 'rb') as f:\n",
    "    residuals_1000= np.load(f, allow_pickle=True)\n",
    "    \n",
    "# difference between z-scored estimate and z-scored actual depth\n",
    "with open(dpath + '/diff_125.npy' , 'rb') as f:\n",
    "    diff_125 = np.load(f, allow_pickle=True)\n",
    "with open(dpath + '/diff_250.npy' , 'rb') as f:\n",
    "    diff_250 = np.load(f, allow_pickle=True) \n",
    "with open(dpath + '/diff_1000.npy' , 'rb') as f:\n",
    "    diff_1000= np.load(f, allow_pickle=True)\n",
    "    \n",
    "# difference between raw estimate and raw actual depth\n",
    "with open('/Users/prachimahableshwarkar/Documents/GW/Depth_MTurk/verbal_judgement_analysis/data/finalVEMatched/raw' + '/raw_diff_125.npy' , 'rb') as f:\n",
    "    raw_diff_125 = np.load(f, allow_pickle=True)\n",
    "with open('/Users/prachimahableshwarkar/Documents/GW/Depth_MTurk/verbal_judgement_analysis/data/finalVEMatched/raw' + '/raw_diff_250.npy' , 'rb') as f:\n",
    "    raw_diff_250 = np.load(f, allow_pickle=True) \n",
    "with open('/Users/prachimahableshwarkar/Documents/GW/Depth_MTurk/verbal_judgement_analysis/data/finalVEMatched/raw' + '/raw_diff_1000.npy' , 'rb') as f:\n",
    "    raw_diff_1000= np.load(f, allow_pickle=True)"
   ]
  },
  {
   "cell_type": "markdown",
   "metadata": {},
   "source": [
    "## Load image data"
   ]
  },
  {
   "cell_type": "code",
   "execution_count": 3,
   "metadata": {},
   "outputs": [],
   "source": [
    "stimuli_path = '/Users/prachimahableshwarkar/Documents/GW/Depth_MTurk/depth_duration_stimuli'\n",
    "kinect192_path = '/Users/prachimahableshwarkar/Documents/GW/SUNRGBD/updated/kinect2data_192'\n",
    "\n",
    "# stimuli_path = '/Users/pmahableshwarkar/Documents/Depth_Project/final_stimuli'\n",
    "# kinect192_path = '/Users/pmahableshwarkar/Documents/Depth_Project/SUNRGBD/kinect2data_192'\n",
    "\n",
    "targetDepths = {}\n",
    "\n",
    "for stim in os.listdir(stimuli_path):\n",
    "    if 'resize' in stim:\n",
    "        p = stimuli_path + '/' + stim + '/data.json'\n",
    "        data = json.load(open(p))\n",
    "        target_depth = data['objects'][0]['crossing_point'][0]['depth']\n",
    "        targetDepths[stim[:-2]] = target_depth\n"
   ]
  },
  {
   "cell_type": "code",
   "execution_count": 4,
   "metadata": {},
   "outputs": [
    {
     "data": {
      "text/plain": [
       "3.2155"
      ]
     },
     "execution_count": 4,
     "metadata": {},
     "output_type": "execute_result"
    }
   ],
   "source": [
    "targetDepths['000866_2014-06-09_20-45-42_260595134347_rgbf000139-resize']\n",
    "\n"
   ]
  },
  {
   "cell_type": "markdown",
   "metadata": {},
   "source": [
    "## Load Ground Plane Metrics: Pixel SA"
   ]
  },
  {
   "cell_type": "code",
   "execution_count": 5,
   "metadata": {},
   "outputs": [],
   "source": [
    "# path = '/Users/pmahableshwarkar/Documents/Depth_Project/SUN_scene_cue_coding/VGP_size_dict.json'\n",
    "path = '/Users/prachimahableshwarkar/Documents/GW/Depth_MTurk/SUN_scene_cue_coding/VGP_size_dict.json'\n",
    "\n",
    "vgp_size_dict = json.load(open(path))\n",
    "\n"
   ]
  },
  {
   "cell_type": "code",
   "execution_count": 6,
   "metadata": {},
   "outputs": [],
   "source": [
    "# path = '/Users/pmahableshwarkar/Documents/Depth_Project/SUN_scene_cue_coding/GP_size_dict.json'\n",
    "path = '/Users/prachimahableshwarkar/Documents/GW/Depth_MTurk/SUN_scene_cue_coding/GP_size_dict.json'\n",
    "\n",
    "gp_size_dict = json.load(open(path))"
   ]
  },
  {
   "cell_type": "code",
   "execution_count": 7,
   "metadata": {},
   "outputs": [
    {
     "name": "stdout",
     "output_type": "stream",
     "text": [
      "(0.6305436407876517, 4.100796404472425e-18)\n",
      "(0.1465931961258253, 0.07247634775275881)\n",
      "(0.2664505181464459, 0.0009430642237052936)\n"
     ]
    }
   ],
   "source": [
    "VGPS = []\n",
    "GPS = []\n",
    "TDS = []\n",
    "for key in vgp_size_dict:\n",
    "    try:\n",
    "        gp = gp_size_dict[key]\n",
    "        VGPS.append(vgp_size_dict[key])\n",
    "        GPS.append(gp)\n",
    "        TDS.append(targetDepths[key])\n",
    "    except:\n",
    "        pass\n",
    "\n",
    "print(stats.pearsonr(VGPS, GPS))\n",
    "print(stats.pearsonr(VGPS, TDS))\n",
    "print(stats.pearsonr(GPS, TDS))"
   ]
  },
  {
   "cell_type": "code",
   "execution_count": 8,
   "metadata": {},
   "outputs": [
    {
     "name": "stdout",
     "output_type": "stream",
     "text": [
      "002118_2014-06-25_20-32-08_260595134347_rgbf000078-resize excluded\n",
      "002657_2014-06-13_15-29-54_094959634447_rgbf000150-resize excluded\n"
     ]
    }
   ],
   "source": [
    "# Find GP Outliers \n",
    "\n",
    "gpsize_list = [[key, gp_size_dict[key]] for key in gp_size_dict]\n",
    "gpsize_mean = np.mean(np.array([elem[1] for elem in gpsize_list]))\n",
    "gpsize_std = np.std(np.array([elem[1] for elem in gpsize_list]))\n",
    "\n",
    "gpsize_outlierRange = [gpsize_mean - (3*gpsize_std), gpsize_mean + (3*gpsize_std)]\n",
    "\n",
    "cleaned_gpsize_dict = {}\n",
    "for key in gp_size_dict:\n",
    "    if gpsize_outlierRange[0] < gp_size_dict[key] < gpsize_outlierRange[1]:\n",
    "        cleaned_gpsize_dict[key] = gp_size_dict[key]\n",
    "    else:\n",
    "        print(key, 'excluded')"
   ]
  },
  {
   "cell_type": "code",
   "execution_count": 9,
   "metadata": {},
   "outputs": [
    {
     "name": "stdout",
     "output_type": "stream",
     "text": [
      "002568_2014-06-24_13-59-21_094959634447_rgbf000062-resize excluded\n",
      "002600_2014-06-24_14-27-04_094959634447_rgbf000074-resize excluded\n",
      "002118_2014-06-25_20-32-08_260595134347_rgbf000078-resize excluded\n",
      "002570_2014-06-24_13-59-54_094959634447_rgbf000059-resize excluded\n"
     ]
    }
   ],
   "source": [
    "# Find VGP Outliers \n",
    "\n",
    "vgpsize_list = [[key, vgp_size_dict[key]] for key in vgp_size_dict]\n",
    "vgpsize_mean = np.mean(np.array([elem[1] for elem in vgpsize_list]))\n",
    "vgpsize_std = np.std(np.array([elem[1] for elem in vgpsize_list]))\n",
    "\n",
    "vgpsize_outlierRange = [vgpsize_mean - (3*vgpsize_std), vgpsize_mean + (3*vgpsize_std)]\n",
    "\n",
    "cleaned_vgpsize_dict = {}\n",
    "for key in vgp_size_dict:\n",
    "    if vgpsize_outlierRange[0] < vgp_size_dict[key] < vgpsize_outlierRange[1]:\n",
    "        cleaned_vgpsize_dict[key] = vgp_size_dict[key]\n",
    "    else:\n",
    "        print(key, 'excluded')"
   ]
  },
  {
   "cell_type": "code",
   "execution_count": 10,
   "metadata": {},
   "outputs": [
    {
     "data": {
      "text/plain": [
       "'depth_duration_stimuli/002272_2014-06-28_18-53-56_260595134347_rgbf000067-resize_2/002272_2014-06-28_18-53-56_260595134347_rgbf000067-resize_2-target.png'"
      ]
     },
     "execution_count": 10,
     "metadata": {},
     "output_type": "execute_result"
    }
   ],
   "source": [
    "stim_125[0]"
   ]
  },
  {
   "cell_type": "code",
   "execution_count": 11,
   "metadata": {},
   "outputs": [],
   "source": [
    "ordered_gp_size = []\n",
    "ordered_vgp_size = []\n",
    "ordered_tds_gp = []\n",
    "ordered_tds_vgp = []\n",
    "\n",
    "gp_none = 0\n",
    "vgp_none = 0\n",
    "for img in stim_125:\n",
    "    folder = img.split('/')[1][:-2]\n",
    "    try:\n",
    "        ordered_gp_size.append(cleaned_gpsize_dict[folder])\n",
    "        ordered_tds_gp.append(targetDepths[folder])\n",
    "    except:\n",
    "        gp_none += 1\n",
    "        ordered_gp_size.append(None)\n",
    "        ordered_tds_gp.append(None)\n",
    "\n",
    "    try:\n",
    "        ordered_vgp_size.append(cleaned_vgpsize_dict[folder])\n",
    "        ordered_tds_vgp.append(targetDepths[folder])\n",
    "    except:\n",
    "        vgp_none += 1\n",
    "        ordered_vgp_size.append(None)\n",
    "        ordered_tds_vgp.append(None)\n",
    "\n"
   ]
  },
  {
   "cell_type": "code",
   "execution_count": 12,
   "metadata": {},
   "outputs": [
    {
     "data": {
      "text/plain": [
       "(156, 156, 156, 156)"
      ]
     },
     "execution_count": 12,
     "metadata": {},
     "output_type": "execute_result"
    }
   ],
   "source": [
    "len(ordered_gp_size), len(ordered_tds_gp), len(ordered_vgp_size), len(ordered_tds_vgp)"
   ]
  },
  {
   "cell_type": "markdown",
   "metadata": {},
   "source": [
    "## Linear Model: GP x Target Depth"
   ]
  },
  {
   "cell_type": "code",
   "execution_count": 13,
   "metadata": {},
   "outputs": [],
   "source": [
    "gpvals = [elem for elem in ordered_gp_size if elem != None]\n",
    "gp_tdvals = [elem for elem in ordered_tds_gp if elem != None]\n"
   ]
  },
  {
   "cell_type": "code",
   "execution_count": 14,
   "metadata": {},
   "outputs": [
    {
     "name": "stdout",
     "output_type": "stream",
     "text": [
      "m: [2.53282356]\n",
      "b: 10.458699577467083\n",
      "R-squared:  0.06596831589686336\n",
      "Corr, p-val (0.25684297906865816, 0.0015669902616939355)\n"
     ]
    },
    {
     "data": {
      "image/png": "[encoded data removed]",
      "text/plain": [
       "<Figure size 576x576 with 1 Axes>"
      ]
     },
     "metadata": {
      "needs_background": "light"
     },
     "output_type": "display_data"
    }
   ],
   "source": [
    "from sklearn.linear_model import LinearRegression\n",
    "\n",
    "fig, ax = plt.subplots(figsize=[8,8])\n",
    "plt.tight_layout()\n",
    "ax.spines['right'].set_visible(False)\n",
    "ax.spines['top'].set_visible(False)\n",
    "\n",
    "for axis in ['bottom','left']:\n",
    "    ax.spines[axis].set_linewidth(2.3)\n",
    "    \n",
    "#run regression\n",
    "X = np.array(gp_tdvals).reshape(-1,1)\n",
    "y = gpvals\n",
    "reg = LinearRegression().fit(X, y)\n",
    "\n",
    "#Generated Predictions\n",
    "y_predicted = reg.predict(X)\n",
    "#Plot Our Actual and Predicted Values\n",
    "plt.plot(X, y, 'o', color='black', alpha = 0.5);\n",
    "plt.plot(X,y_predicted,color='violet', label = 'm = ' + str(round(reg.coef_[0], 3))\n",
    "         + '     r-squared = ' + str(round(float(reg.score(X, y)), 3)))\n",
    "plt.title(\"Complete Ground Plane x Target Depth\", fontsize = 28)\n",
    "plt.xlabel(\"Actual Depth (m)\", fontsize = 22)\n",
    "plt.ylabel(\"Complete Ground Plane SA (meters-squared)\", fontsize = 22)\n",
    "\n",
    "# plt.xticks(np.arange(1, 6, 1), fontsize=15)\n",
    "# plt.yticks(np.arange(-1,1.5, 0.5), fontsize=15)\n",
    "# plt.ylim(-1.5,1.5)\n",
    "\n",
    "legend = plt.legend(loc = 0, fontsize = 15, borderpad = 0.6, labelspacing = 1, frameon=False)\n",
    "\n",
    "#get coefficients and y intercept\n",
    "print(\"m: {0}\".format(reg.coef_))\n",
    "print(\"b: {0}\".format(reg.intercept_))\n",
    "\n",
    "#Returns the coefficient of determination R^2 of the prediction.\n",
    "print(\"R-squared: \", reg.score(X, y))\n",
    "print(\"Corr, p-val\", stats.pearsonr(gpvals, gp_tdvals))\n",
    "\n",
    "gpTD_residuals = copy.deepcopy(y - y_predicted)"
   ]
  },
  {
   "cell_type": "markdown",
   "metadata": {},
   "source": [
    "## Linear Model: GP x Target Depth"
   ]
  },
  {
   "cell_type": "code",
   "execution_count": 15,
   "metadata": {},
   "outputs": [],
   "source": [
    "vgpvals = [elem for elem in ordered_vgp_size if elem != None]\n",
    "vgp_tdvals = [elem for elem in ordered_tds_vgp if elem != None]"
   ]
  },
  {
   "cell_type": "code",
   "execution_count": 16,
   "metadata": {},
   "outputs": [
    {
     "name": "stdout",
     "output_type": "stream",
     "text": [
      "m: [0.82143443]\n",
      "b: 5.135610786232633\n",
      "R-squared:  0.03337779577523614\n",
      "Corr, p-val (0.18269591066916654, 0.026771329251583455)\n"
     ]
    },
    {
     "data": {
      "image/png": "[encoded data removed]",
      "text/plain": [
       "<Figure size 576x576 with 1 Axes>"
      ]
     },
     "metadata": {
      "needs_background": "light"
     },
     "output_type": "display_data"
    }
   ],
   "source": [
    "from sklearn.linear_model import LinearRegression\n",
    "\n",
    "fig, ax = plt.subplots(figsize=[8,8])\n",
    "plt.tight_layout()\n",
    "ax.spines['right'].set_visible(False)\n",
    "ax.spines['top'].set_visible(False)\n",
    "\n",
    "for axis in ['bottom','left']:\n",
    "    ax.spines[axis].set_linewidth(2.3)\n",
    "    \n",
    "#run regression\n",
    "X = np.array(vgp_tdvals).reshape(-1,1)\n",
    "y = vgpvals\n",
    "reg = LinearRegression().fit(X, y)\n",
    "\n",
    "#Generated Predictions\n",
    "y_predicted = reg.predict(X)\n",
    "#Plot Our Actual and Predicted Values\n",
    "plt.plot(X, y, 'o', color='black', alpha = 0.5);\n",
    "plt.plot(X,y_predicted,color='orange', label = 'm = ' + str(round(reg.coef_[0], 3))\n",
    "         + '     r-squared = ' + str(round(float(reg.score(X, y)), 3)))\n",
    "plt.title(\"Visible Ground Plane x Target Depth\", fontsize = 28)\n",
    "plt.xlabel(\"Actual Depth (m)\", fontsize = 22)\n",
    "plt.ylabel(\"Visible Ground Plane SA (meters-squared)\", fontsize = 22)\n",
    "\n",
    "# plt.xticks(np.arange(1, 6, 1), fontsize=15)\n",
    "# plt.yticks(np.arange(-1,1.5, 0.5), fontsize=15)\n",
    "# plt.ylim(-1.5,1.5)\n",
    "\n",
    "legend = plt.legend(loc = 0, fontsize = 15, borderpad = 0.6, labelspacing = 1, frameon=False)\n",
    "\n",
    "#get coefficients and y intercept\n",
    "print(\"m: {0}\".format(reg.coef_))\n",
    "print(\"b: {0}\".format(reg.intercept_))\n",
    "\n",
    "#Returns the coefficient of determination R^2 of the prediction.\n",
    "print(\"R-squared: \", reg.score(X, y))\n",
    "print(\"Corr, p-val\", stats.pearsonr(vgpvals, vgp_tdvals))\n",
    "\n",
    "vgpTD_residuals = copy.deepcopy(y - y_predicted)"
   ]
  },
  {
   "cell_type": "markdown",
   "metadata": {},
   "source": [
    "## Correlation "
   ]
  },
  {
   "cell_type": "code",
   "execution_count": 17,
   "metadata": {},
   "outputs": [],
   "source": [
    "folders_125 = [elem.split('/')[1][:-2] for elem in stim_125]\n",
    "folders_250 = [elem.split('/')[1][:-2] for elem in stim_250]\n",
    "folders_1000 = [elem.split('/')[1][:-2] for elem in stim_1000]\n"
   ]
  },
  {
   "cell_type": "code",
   "execution_count": 18,
   "metadata": {},
   "outputs": [
    {
     "data": {
      "text/plain": [
       "(149, 149)"
      ]
     },
     "execution_count": 18,
     "metadata": {},
     "output_type": "execute_result"
    }
   ],
   "source": [
    "trunc_gpTDResid = []\n",
    "\n",
    "gp_trunc_residuals_125 = []\n",
    "gp_trunc_residuals_250 = []\n",
    "gp_trunc_residuals_1000 = []\n",
    "\n",
    "i = 0\n",
    "for elem in cleaned_gpsize_dict:\n",
    "    try:\n",
    "        gp_trunc_residuals_125.append(residuals_125[folders_125.index(elem)])\n",
    "        gp_trunc_residuals_250.append(residuals_250[folders_250.index(elem)])\n",
    "        gp_trunc_residuals_1000.append(residuals_1000[folders_1000.index(elem)])\n",
    "        \n",
    "        trunc_gpTDResid.append(gpTD_residuals[i])\n",
    "\n",
    "    except:\n",
    "        pass\n",
    "    i += 1\n",
    "\n",
    "len(trunc_gpTDResid), len(gp_trunc_residuals_125)"
   ]
  },
  {
   "cell_type": "code",
   "execution_count": 19,
   "metadata": {},
   "outputs": [],
   "source": [
    "gp_trunc_residuals_avg = np.mean([np.array(gp_trunc_residuals_125), np.array(gp_trunc_residuals_250), np.array(gp_trunc_residuals_1000)], axis =0)\n"
   ]
  },
  {
   "cell_type": "code",
   "execution_count": 20,
   "metadata": {},
   "outputs": [
    {
     "name": "stdout",
     "output_type": "stream",
     "text": [
      "Correlation between residuals (VE x AD) and residuals (GP x target depth)\n",
      "125 ms:  (-0.07523915804462757, 0.3617846374430345)\n",
      "250 ms:  (-0.04338647908247282, 0.5993143432417005)\n",
      "1000 ms:  (-0.02715695047650185, 0.7423358124850105)\n",
      "Avg:  (-0.04977465262034628, 0.5466191255954392)\n",
      "All:  (-0.048747342154920714, 0.3037804120374048)\n"
     ]
    }
   ],
   "source": [
    "print('Correlation between residuals (VE x AD) and residuals (GP x target depth)')\n",
    "print('125 ms: ',stats.pearsonr(gp_trunc_residuals_125, trunc_gpTDResid))\n",
    "print('250 ms: ',stats.pearsonr(gp_trunc_residuals_250, trunc_gpTDResid))\n",
    "print('1000 ms: ',stats.pearsonr(gp_trunc_residuals_1000, trunc_gpTDResid))\n",
    "\n",
    "print('Avg: ',stats.pearsonr(gp_trunc_residuals_avg, trunc_gpTDResid))\n",
    "\n",
    "print('All: ',stats.pearsonr(gp_trunc_residuals_125 + gp_trunc_residuals_250 + gp_trunc_residuals_1000, trunc_gpTDResid*3))\n"
   ]
  },
  {
   "cell_type": "code",
   "execution_count": 21,
   "metadata": {},
   "outputs": [
    {
     "data": {
      "text/plain": [
       "(147, 147)"
      ]
     },
     "execution_count": 21,
     "metadata": {},
     "output_type": "execute_result"
    }
   ],
   "source": [
    "trunc_vgpTDResid = []\n",
    "\n",
    "vgp_trunc_residuals_125 = []\n",
    "vgp_trunc_residuals_250 = []\n",
    "vgp_trunc_residuals_1000 = []\n",
    "\n",
    "i = 0\n",
    "for elem in cleaned_vgpsize_dict:\n",
    "    try:\n",
    "        vgp_trunc_residuals_125.append(residuals_125[folders_125.index(elem)])\n",
    "        vgp_trunc_residuals_250.append(residuals_250[folders_250.index(elem)])\n",
    "        vgp_trunc_residuals_1000.append(residuals_1000[folders_1000.index(elem)])\n",
    "        \n",
    "        trunc_vgpTDResid.append(vgpTD_residuals[i])\n",
    "\n",
    "    except:\n",
    "        pass\n",
    "    i += 1\n",
    "\n",
    "len(trunc_vgpTDResid), len(vgp_trunc_residuals_125)"
   ]
  },
  {
   "cell_type": "code",
   "execution_count": 22,
   "metadata": {},
   "outputs": [],
   "source": [
    "vgp_trunc_residuals_avg = np.mean([np.array(vgp_trunc_residuals_125), np.array(vgp_trunc_residuals_250), np.array(vgp_trunc_residuals_1000)], axis =0)\n"
   ]
  },
  {
   "cell_type": "code",
   "execution_count": 23,
   "metadata": {},
   "outputs": [
    {
     "name": "stdout",
     "output_type": "stream",
     "text": [
      "Correlation between residuals (VE x AD) and residuals (VGP x target depth)\n",
      "125 ms:  (0.04545316986557463, 0.5846065123851671)\n",
      "250 ms:  (0.05563399902304154, 0.5033126227652837)\n",
      "1000 ms:  (0.010391595370983737, 0.9005875206269626)\n",
      "Avg:  (0.03768796585195043, 0.6504029168472958)\n",
      "All:  (0.03693940769931525, 0.4390549680942915)\n"
     ]
    }
   ],
   "source": [
    "print('Correlation between residuals (VE x AD) and residuals (VGP x target depth)')\n",
    "print('125 ms: ',stats.pearsonr(vgp_trunc_residuals_125, trunc_vgpTDResid))\n",
    "print('250 ms: ',stats.pearsonr(vgp_trunc_residuals_250, trunc_vgpTDResid))\n",
    "print('1000 ms: ',stats.pearsonr(vgp_trunc_residuals_1000, trunc_vgpTDResid))\n",
    "\n",
    "print('Avg: ',stats.pearsonr(vgp_trunc_residuals_avg, trunc_vgpTDResid))\n",
    "\n",
    "print('All: ',stats.pearsonr(vgp_trunc_residuals_125 + vgp_trunc_residuals_250 + vgp_trunc_residuals_1000, trunc_vgpTDResid*3))\n"
   ]
  },
  {
   "cell_type": "code",
   "execution_count": null,
   "metadata": {},
   "outputs": [],
   "source": []
  }
 ],
 "metadata": {
  "kernelspec": {
   "display_name": "Python 3",
   "language": "python",
   "name": "python3"
  },
  "language_info": {
   "codemirror_mode": {
    "name": "ipython",
    "version": 3
   },
   "file_extension": ".py",
   "mimetype": "text/x-python",
   "name": "python",
   "nbconvert_exporter": "python",
   "pygments_lexer": "ipython3",
   "version": "3.7.5"
  }
 },
 "nbformat": 4,
 "nbformat_minor": 4
}
