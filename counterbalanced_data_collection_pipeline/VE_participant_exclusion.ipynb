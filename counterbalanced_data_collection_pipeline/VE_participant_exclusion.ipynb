{
 "cells": [
  {
   "cell_type": "markdown",
   "metadata": {},
   "source": [
    "# Participant Exclusion and Replacement Pipeline\n",
    "\n",
    "1. The counterbalancing.csv contains every json that needs to be sampled for the discrimination and verbal judgement experiment (includes all durations) \n",
    "    - The row number for each sequence corresponds to the url fragment used in the variables file uploaded to Mechanical Turk \n",
    "    - This file does not change, the variables files is updated to resample sequences that get excluded\n",
    "2. First need to match up reported participant worker IDs to worker IDs reported in batch data \n",
    "    - All data files downloaded from the server need to be matched to a worker ID in batch data\n",
    "    - Data files that do not have a matched worker ID are moved to a seperate folder and are not analyzed \n",
    "3. Participant exclusion criteron are pre-registered on OSF (link) - if the participant is excluded, the counterbalanced sequence needs to be replaced in the variables file \n",
    "4. All participants who have completed need to be excluded from completing future HITs (exclude_workers.csv)"
   ]
  },
  {
   "cell_type": "code",
   "execution_count": 612,
   "metadata": {},
   "outputs": [],
   "source": [
    "import os\n",
    "import json \n",
    "import pandas as pd \n",
    "import numpy as np \n",
    "import math\n",
    "import shutil\n",
    "import pickle"
   ]
  },
  {
   "cell_type": "markdown",
   "metadata": {},
   "source": [
    "## Get all Worker IDs from Batch data "
   ]
  },
  {
   "cell_type": "code",
   "execution_count": 671,
   "metadata": {},
   "outputs": [],
   "source": [
    "batch_path = '/Users/prachimahableshwarkar/Documents/GW/FacialAge/FacialAge_MTurk/BNav_EC2/DepthDuration/v2_depth_duration_MTurk/all_batch'\n"
   ]
  },
  {
   "cell_type": "code",
   "execution_count": 672,
   "metadata": {},
   "outputs": [
    {
     "name": "stdout",
     "output_type": "stream",
     "text": [
      "1131\n"
     ]
    }
   ],
   "source": [
    "all_batch_worker_ids = []\n",
    "for path in os.listdir(batch_path):   \n",
    "    if 'csv' in path:\n",
    "        batch_data = pd.read_csv(batch_path + '/' + path)\n",
    "        batch_worker_ids = list(batch_data['WorkerId'])\n",
    "        all_batch_worker_ids += batch_worker_ids\n",
    "print(len(all_batch_worker_ids))\n"
   ]
  },
  {
   "cell_type": "markdown",
   "metadata": {},
   "source": [
    "## Get all Worker IDs from Data Files \n"
   ]
  },
  {
   "cell_type": "code",
   "execution_count": 615,
   "metadata": {},
   "outputs": [],
   "source": [
    "datapath = '/Users/prachimahableshwarkar/Documents/GW/FacialAge/FacialAge_MTurk/BNav_EC2/DepthDuration/v2_depth_duration_MTurk/data'\n",
    "\n",
    "worker_ids_from_data = []\n",
    "workerid_filename_dict = {}\n",
    "\n",
    "for file in os.listdir(datapath):\n",
    "    if 'csv' in file:\n",
    "        path = datapath + \"/\" + file\n",
    "        df = pd.read_csv(path, index_col=None, header=0)\n",
    "        worker_ids_from_data.append(df.workerId.unique()[0])\n",
    "        workerid_filename_dict[df.workerId.unique()[0]] = file\n",
    "\n"
   ]
  },
  {
   "cell_type": "code",
   "execution_count": 616,
   "metadata": {},
   "outputs": [
    {
     "data": {
      "text/plain": [
       "False"
      ]
     },
     "execution_count": 616,
     "metadata": {},
     "output_type": "execute_result"
    }
   ],
   "source": [
    "set(worker_ids_from_data) == set(all_batch_worker_ids)"
   ]
  },
  {
   "cell_type": "code",
   "execution_count": 617,
   "metadata": {},
   "outputs": [
    {
     "name": "stdout",
     "output_type": "stream",
     "text": [
      "0\n",
      "0\n"
     ]
    }
   ],
   "source": [
    "# get the worker IDs that are in the data but NOT in the batch data\n",
    "# these data files should be moved to an archive and NOT analyzed\n",
    "batchdata_workerIDs = set(all_batch_worker_ids)\n",
    "move_files = []\n",
    "missing_wid = [wid for wid in worker_ids_from_data if wid not in batchdata_workerIDs]\n",
    "print(len(missing_wid))\n",
    "for wid in missing_wid:\n",
    "    move_files.append(workerid_filename_dict[wid])\n",
    "print(len(move_files))"
   ]
  },
  {
   "cell_type": "code",
   "execution_count": 618,
   "metadata": {},
   "outputs": [
    {
     "data": {
      "text/plain": [
       "[]"
      ]
     },
     "execution_count": 618,
     "metadata": {},
     "output_type": "execute_result"
    }
   ],
   "source": [
    "move_files"
   ]
  },
  {
   "cell_type": "code",
   "execution_count": 619,
   "metadata": {},
   "outputs": [],
   "source": [
    "current_dir = '/Users/prachimahableshwarkar/Documents/GW/FacialAge/FacialAge_MTurk/BNav_EC2/DepthDuration/v2_depth_duration_MTurk/data'\n",
    "dest_dir = '/Users/prachimahableshwarkar/Documents/GW/FacialAge/FacialAge_MTurk/BNav_EC2/DepthDuration/v2_depth_duration_MTurk/data_archive'\n",
    "\n",
    "for file in move_files:\n",
    "    shutil.move(current_dir + '/' + file, dest_dir + '/' + file)\n"
   ]
  },
  {
   "cell_type": "markdown",
   "metadata": {},
   "source": [
    "# Participant Exclusion"
   ]
  },
  {
   "cell_type": "code",
   "execution_count": null,
   "metadata": {},
   "outputs": [],
   "source": []
  },
  {
   "cell_type": "code",
   "execution_count": 674,
   "metadata": {},
   "outputs": [],
   "source": [
    "def combineCSVs(datafolder):\n",
    "    \"\"\"\n",
    "    Combine all participant data into one pandas df\n",
    "    OR \n",
    "    Create df for single participant file \n",
    "    \"\"\"\n",
    "        \n",
    "    #checks if path is a file\n",
    "    isFile = os.path.isfile(datafolder)\n",
    "\n",
    "    #checks if path is a directory\n",
    "    isDirectory = os.path.isdir(datafolder)\n",
    "    already_excluded = 0\n",
    "    if isDirectory == True:\n",
    "        data = []\n",
    "        for filename in os.listdir(datafolder):\n",
    "            if 'csv' in filename:\n",
    "                path = datafolder + \"/\" + filename\n",
    "                df = pd.read_csv(path, index_col=None, header=0)\n",
    "                data.append(df)\n",
    "\n",
    "        input_frame = pd.concat(data, axis=0, ignore_index=True)\n",
    "    if isFile == True:\n",
    "        if 'csv' in datafolder:\n",
    "            input_frame = pd.read_csv(datafolder, index_col=None, header=0)\n",
    "    \n",
    "    print('Number of participants before cleaning: ', len(input_frame.subjID.unique()))\n",
    " \n",
    "    return input_frame\n",
    "\n",
    "def feet_to_meters(ft):\n",
    "    \"\"\"\n",
    "    Args: ft = float value in feet \n",
    "        \n",
    "    Returns: m = float value converted to meters \n",
    "    \"\"\"\n",
    "    m = ft * 0.3048\n",
    "    return m\n",
    "\n",
    "def getUnitConveredData(datafolder):\n",
    "    '''\n",
    "    Convert all responses given in feet to meters \n",
    "    '''\n",
    "    input_data = combineCSVs(datafolder) # combine CSVs from all participants \n",
    "    \n",
    "    for idx, row in input_data.iterrows():\n",
    "        unit = row['unitSelection']\n",
    "        # if estimate was made in feet, convert to meters \n",
    "        if unit == 'feet':\n",
    "            estim_ft = row['depth_estimate']\n",
    "            estim_m = feet_to_meters(estim_ft)\n",
    "            # update depth estimates in existing dataframe\n",
    "            input_data.at[idx, 'depth_estimate'] = estim_m\n",
    "            # update units in existing dataframe\n",
    "#             input_data.at[idx, 'unitSelection'] = 'meters'\n",
    "    \n",
    "    return input_data\n",
    "\n",
    "def cleanAgeResponses(datafolder, exclude):\n",
    "    '''\n",
    "    Participants on MTurk must be over 18\n",
    "    - If participants report they are < 18, exclude from analysis \n",
    "    \n",
    "    NEED TO CHANGE HOW AGE IS COLLECTED\n",
    "    \n",
    "    '''\n",
    "    input_data = getUnitConveredData(datafolder)\n",
    "    \n",
    "    for idx, row in input_data.iterrows():\n",
    "        age = row['age']\n",
    "    print('Number of participants excluded due to age: ', len(exclude))\n",
    "    return input_data, exclude "
   ]
  },
  {
   "cell_type": "code",
   "execution_count": null,
   "metadata": {},
   "outputs": [],
   "source": []
  },
  {
   "cell_type": "code",
   "execution_count": 675,
   "metadata": {},
   "outputs": [
    {
     "name": "stdout",
     "output_type": "stream",
     "text": [
      "Number of participants before cleaning:  1009\n",
      "Number of participants excluded due to age:  0\n"
     ]
    }
   ],
   "source": [
    "data_path = '/Users/prachimahableshwarkar/Documents/GW/FacialAge/FacialAge_MTurk/BNav_EC2/DepthDuration/v2_depth_duration_MTurk/data'\n",
    "\n",
    "exclude = []\n",
    "age_cleaned_data, exclude = cleanAgeResponses(data_path, exclude)"
   ]
  },
  {
   "cell_type": "code",
   "execution_count": 676,
   "metadata": {},
   "outputs": [],
   "source": [
    "def catchTrial_cleaning(df, correct_requirement, catch_stimuli, sequence_count, exclude):\n",
    "    '''\n",
    "    Participants complete 8 catch trials total to ensure that they are doing the task.\n",
    "    If less than 7/8 catch trials are correct, the participant is excluded.  \n",
    "    '''\n",
    "    \n",
    "    all_subjIDs = df.subjID.unique()\n",
    "    remove = []\n",
    "    subj_sequence = {}\n",
    "    df2_list = []\n",
    "    \n",
    "    for subj in all_subjIDs:\n",
    "#         print(subj)\n",
    "        subj_df = df.loc[df['subjID'] == subj]\n",
    "        cleaned_subj_df = subj_df.copy(deep=True) # prevent setting with copy warning\n",
    "        subj_sequence[subj] = subj_df.sequenceName.unique()[0]\n",
    "        \n",
    "        count_correct = 0\n",
    "        for idx, row in subj_df.iterrows():\n",
    "            stim = row['stimulus']\n",
    "            if type(stim) == str:\n",
    "                if stim.split('/')[1] in catch_stimuli:\n",
    "                    ####### VERSION WHERE CATCH TRIALS ARE ATTENTION CHECK: IMAGE HAS NO TARGET\n",
    "#                     print(row['depth_estimate'])\n",
    "#                     print(row['stimulus'])\n",
    "                    if row[\"depth_estimate\"] == 0:\n",
    "                        count_correct += 1\n",
    "\n",
    "                    # remove catch trial \n",
    "                    cleaned_subj_df.drop([idx], inplace=True)\n",
    "\n",
    "        if count_correct < correct_requirement:\n",
    "            remove.append(subj)\n",
    "        else:\n",
    "            sequence_count[subj_df.sequenceName.unique()[0]] += 1\n",
    "        \n",
    "        df2_list.append(cleaned_subj_df)\n",
    "    \n",
    "    df2 = pd.concat(df2_list)\n",
    "    print(\"Number of participants that did not pass the catch trial check:\", len(remove))\n",
    "    print(\"Participants that were removed:\",remove)\n",
    "\n",
    "    for index, row in df2.iterrows():\n",
    "        if row['subjID'] in remove:\n",
    "            df2.drop(index, inplace=True)\n",
    "    \n",
    "    # add the list of participants to be removed to the existing list of excluded participants\n",
    "    exclude += remove \n",
    "    \n",
    "    return df2, exclude"
   ]
  },
  {
   "cell_type": "code",
   "execution_count": 677,
   "metadata": {},
   "outputs": [],
   "source": [
    "sequences_path = '/Users/prachimahableshwarkar/Documents/GW/FacialAge/FacialAge_MTurk/BNav_EC2/DepthDuration/v2_depth_duration_MTurk/jsons'\n",
    "sequences_count_dict = {}\n",
    "for seq in os.listdir(sequences_path):\n",
    "    if 'json' in seq:\n",
    "        sequences_count_dict['jsons/'+seq] = 0\n"
   ]
  },
  {
   "cell_type": "code",
   "execution_count": 678,
   "metadata": {},
   "outputs": [],
   "source": [
    "all_catch_stim = ['000375_2014-06-08_11-17-29_260595134347_rgbf000133-resize_2',\n",
    "                  '000569_2014-06-09_22-51-47_260595134347_rgbf000141-resize_3',\n",
    "                  '000787_2014-06-08_22-33-53_260595134347_rgbf000175-resize_1',\n",
    "                  '002072_2014-06-24_21-48-06_260595134347_rgbf000115-resize_0',\n",
    "                  '001170_2014-06-17_15-43-44_260595134347_rgbf000096-resize_6',\n",
    "                  '001222_2014-06-17_16-24-06_260595134347_rgbf000073-resize_0',\n",
    "                  '001498_2014-06-19_17-45-14_260595134347_rgbf000129-resize_4',\n",
    "                  '001540_2014-06-20_17-01-05_260595134347_rgbf000086-resize_2']"
   ]
  },
  {
   "cell_type": "code",
   "execution_count": 680,
   "metadata": {},
   "outputs": [
    {
     "name": "stdout",
     "output_type": "stream",
     "text": [
      "Number of participants that did not pass the catch trial check: 331\n",
      "Participants that were removed: [993293, 337855, 361118, 384084, 672587, 199719, 810569, 552070, 271282, 454653, 235866, 756315, 204178, 623759, 626250, 121796, 360771, 358793, 145368, 980305, 252260, 970492, 634447, 465507, 602927, 593754, 329190, 245150, 653026, 621633, 829661, 988435, 779298, 698532, 564687, 735548, 388835, 297316, 926551, 686124, 705460, 158127, 158205, 786056, 729944, 662848, 837088, 287484, 445032, 739896, 531988, 413923, 991770, 218701, 644462, 663587, 180648, 838264, 603293, 506066, 905663, 603376, 492147, 469479, 272047, 647678, 952653, 757584, 870425, 379933, 141370, 711133, 165253, 255119, 737436, 336867, 970981, 577956, 713343, 910393, 925395, 666910, 128865, 579336, 676615, 191373, 866086, 603735, 502526, 599477, 622232, 908721, 663932, 512637, 415111, 354578, 939925, 631043, 476295, 549075, 178999, 138942, 800178, 433234, 983798, 449004, 474252, 638287, 669037, 793228, 887257, 931948, 969341, 241740, 640450, 428881, 979077, 392029, 729709, 453024, 628645, 526714, 646735, 812610, 402343, 931391, 958879, 644201, 636347, 571519, 245117, 401821, 572329, 367249, 658248, 789736, 743554, 860188, 702396, 856289, 240096, 945121, 705900, 636755, 126667, 252951, 828865, 796821, 740754, 232259, 396020, 687829, 998354, 123935, 202019, 561067, 851081, 442083, 184299, 376446, 639021, 725146, 534552, 145257, 445873, 739048, 318552, 222615, 393300, 310372, 805728, 927450, 627311, 250416, 679854, 247521, 605251, 232630, 369540, 123268, 714896, 263804, 322366, 240085, 138483, 819793, 326049, 626727, 166671, 500788, 473972, 324625, 701497, 655437, 812736, 976033, 290496, 105636, 238763, 145792, 388013, 358364, 668301, 721406, 771771, 254234, 726595, 324072, 585509, 637876, 111908, 891077, 481815, 964443, 841555, 804456, 858876, 335106, 571596, 742016, 641151, 605617, 977488, 975469, 552384, 624901, 507720, 110496, 822051, 645545, 401046, 560512, 353461, 556968, 409500, 771408, 749000, 994489, 555092, 777408, 550146, 729318, 902311, 117428, 987560, 725003, 410379, 681743, 471013, 456982, 480328, 332849, 152298, 149886, 750531, 911881, 149639, 175604, 522070, 223311, 946823, 234372, 223712, 871293, 527750, 521117, 628501, 917970, 718954, 883022, 561433, 645473, 391365, 630830, 974329, 563676, 107774, 625078, 133484, 733185, 846070, 576730, 529234, 945231, 971348, 491548, 468031, 928490, 971887, 830612, 248093, 867338, 524441, 335898, 420820, 441122, 715693, 236276, 837031, 746280, 680594, 381681, 981546, 189617, 468932, 964000, 279337, 819331, 794856, 298143, 151160, 130344, 750246, 708772, 402334, 395305, 870813, 881071, 518650, 728200, 420331, 967750, 936578, 693109, 257064, 998058, 746638, 132622, 892576, 584982, 835910]\n"
     ]
    },
    {
     "data": {
      "text/plain": [
       "331"
      ]
     },
     "execution_count": 680,
     "metadata": {},
     "output_type": "execute_result"
    }
   ],
   "source": [
    "catch_trial_cleaned_data, exclude = catchTrial_cleaning(age_cleaned_data, 6, all_catch_stim, sequences_count_dict, exclude)\n",
    "len(exclude)"
   ]
  },
  {
   "cell_type": "code",
   "execution_count": 658,
   "metadata": {},
   "outputs": [],
   "source": [
    "def removeMissedTrials(df, exclude, num_trials):\n",
    "    \"\"\"\n",
    "    Participants were told that if they missed a trial, to respond '0'.\n",
    "    This function removes those trials, and keeps track of:\n",
    "    (1) How many missed trials per participant\n",
    "    (2) Number of missed trials per duration \n",
    "    (3) Number of missed trials per sequence \n",
    "    \"\"\"\n",
    "    \n",
    "    missedTrials_participants = {}\n",
    "    missedTrials_durations = {}\n",
    "    missedTrials_sequences = {}\n",
    "    \n",
    "    \n",
    "    for idx, row in df.iterrows():\n",
    "        estimate = row['depth_estimate']\n",
    "        if estimate == 0.0:\n",
    "            subjID = row['subjID']\n",
    "            duration = row['duration']\n",
    "            sequenceName = row['sequenceName']\n",
    "            \n",
    "            if subjID not in missedTrials_participants:\n",
    "                missedTrials_participants[subjID] = 1\n",
    "            else:\n",
    "                missedTrials_participants[subjID] += 1\n",
    "\n",
    "            if duration not in missedTrials_durations:\n",
    "                missedTrials_durations[duration] = 1\n",
    "            else:\n",
    "                missedTrials_durations[duration] += 1\n",
    "            \n",
    "            if sequenceName not in missedTrials_sequences:\n",
    "                missedTrials_sequences[sequenceName] = 1\n",
    "            else:\n",
    "                missedTrials_sequences[sequenceName] += 1\n",
    "                        \n",
    "            # remove trials with depth estimate = 0 \n",
    "            df.drop(idx, inplace=True)\n",
    "    \n",
    "    # remove participants data if the participant's missed trial count is 10% or more of num_trials\n",
    "    threshold = math.floor(num_trials * 0.1)\n",
    "    remove_ids = []\n",
    "    for key in missedTrials_participants:\n",
    "        if missedTrials_participants[key] >= threshold:\n",
    "            remove_ids.append(key)\n",
    "    print(\"Number of participants with 10% or more missed trials: \", len(remove_ids))\n",
    "\n",
    "    for index, row in df.iterrows():\n",
    "        if row['subjID'] in remove_ids:\n",
    "            df.drop(index, inplace=True)\n",
    "            \n",
    "    exclude += remove_ids\n",
    "    \n",
    "    return df, exclude"
   ]
  },
  {
   "cell_type": "code",
   "execution_count": 659,
   "metadata": {},
   "outputs": [],
   "source": [
    "# total number of meaningful trials (excludes catch-trials)\n",
    "num_trials = 156"
   ]
  },
  {
   "cell_type": "code",
   "execution_count": 660,
   "metadata": {},
   "outputs": [
    {
     "name": "stdout",
     "output_type": "stream",
     "text": [
      "Number of participants with 10% or more missed trials:  0\n"
     ]
    },
    {
     "data": {
      "text/plain": [
       "0"
      ]
     },
     "execution_count": 660,
     "metadata": {},
     "output_type": "execute_result"
    }
   ],
   "source": [
    "missed_trial_cleaned_data, exclude = removeMissedTrials(catch_trial_cleaned_data,exclude, num_trials)\n",
    "len(exclude)"
   ]
  },
  {
   "cell_type": "code",
   "execution_count": null,
   "metadata": {},
   "outputs": [],
   "source": []
  },
  {
   "cell_type": "code",
   "execution_count": 661,
   "metadata": {},
   "outputs": [],
   "source": [
    "def RT_Cleaning(df, exclude, outlier_range, num_trials):\n",
    "    #List unique values in the df['subjID'] column\n",
    "    all_subjIDs = df.subjID.unique()\n",
    "    \n",
    "    remove = []\n",
    "    df2_list = []\n",
    "    short = 0\n",
    "    long = 0\n",
    "    for subj in all_subjIDs:\n",
    "        count = 0\n",
    "        subj_df = df.loc[df['subjID'] == subj]\n",
    "        cleaned_subj_df = subj_df.copy(deep=True) # prevent setting with copy warning \n",
    "        # calculate subject's average trial RT \n",
    "        average_trial_RT = subj_df[\"trial_RT\"].mean()\n",
    "        std_trial_RT = subj_df[\"trial_RT\"].std()\n",
    "        \n",
    "        \n",
    "        for idx, row in subj_df.iterrows():\n",
    "            RT = row[\"trial_RT\"]\n",
    "            if RT < outlier_range[0]: # outlier\n",
    "                cleaned_subj_df.drop([idx], inplace=True)\n",
    "                count += 1\n",
    "                short += 1\n",
    "            if RT > outlier_range[1]:\n",
    "                cleaned_subj_df.drop([idx], inplace=True)\n",
    "                count += 1\n",
    "                long += 1\n",
    "                \n",
    "        threshold = math.floor(num_trials * 0.1)\n",
    "        if count >= threshold:\n",
    "            remove.append(subj)\n",
    "        \n",
    "        df2_list.append(cleaned_subj_df)\n",
    "    \n",
    "    df2 = pd.concat(df2_list)\n",
    "            \n",
    "    print(\"Number of Participants with 10% or more trials outside their RT range: \", len(remove))\n",
    "    \n",
    "    for index, row in df2.iterrows():\n",
    "        if row['subjID'] in remove:\n",
    "            df2.drop(index, inplace=True)\n",
    "            \n",
    "    exclude += remove\n",
    "    \n",
    "    print(short, long)\n",
    "    return df2, exclude\n",
    "\n"
   ]
  },
  {
   "cell_type": "code",
   "execution_count": 662,
   "metadata": {},
   "outputs": [
    {
     "name": "stdout",
     "output_type": "stream",
     "text": [
      "Number of Participants with 10% or more trials outside their RT range:  0\n",
      "0 1026\n"
     ]
    },
    {
     "data": {
      "text/plain": [
       "0"
      ]
     },
     "execution_count": 662,
     "metadata": {},
     "output_type": "execute_result"
    }
   ],
   "source": [
    "RT_cleaned_data, exclude = RT_Cleaning(missed_trial_cleaned_data, exclude,[250, 10000], num_trials)\n",
    "len(exclude)"
   ]
  },
  {
   "cell_type": "code",
   "execution_count": null,
   "metadata": {},
   "outputs": [],
   "source": []
  },
  {
   "cell_type": "code",
   "execution_count": 663,
   "metadata": {},
   "outputs": [],
   "source": [
    "def repeatResponses_Cleaning(df, exclude):\n",
    "    \"\"\"\n",
    "    Some participants gave'junk data' - same number repeated for many trials \n",
    "    Count the frequency of unique responses entered by the participant. \n",
    "    If you look at the maximum number of repeats and/or the number of unique responses / 48 per participant you will find our vandals.\n",
    "    \"\"\"\n",
    "    #List unique values in the df['subjID'] column\n",
    "    all_subjIDs = df.subjID.unique()\n",
    "    \n",
    "    remove = []\n",
    "    max_repeats_distribution = []\n",
    "    num_unique_responses_distribution = []\n",
    "    for subj in all_subjIDs:\n",
    "        subj_df = df.loc[df['subjID'] == subj]\n",
    "        # ideally, the max repeats and num_unique_responses should be ~ 48 since there are 48 imgs at each depth bin \n",
    "        count_depth_estimates = subj_df['depth_estimate'].value_counts()\n",
    "        num_unique_responses = len(count_depth_estimates)\n",
    "        num_unique_responses_distribution.append(num_unique_responses)\n",
    "        max_repeats = count_depth_estimates.max()\n",
    "        max_repeats_distribution.append(max_repeats)\n",
    "        if num_unique_responses < 6:\n",
    "            remove.append(subj)\n",
    "    \n",
    "    avg_max_repeats = np.array(max_repeats_distribution).mean()\n",
    "    std_max_repeats = np.array(max_repeats_distribution).std()\n",
    "    \n",
    "    for subj in all_subjIDs:\n",
    "        subj_df = df.loc[df['subjID'] == subj]\n",
    "        count_depth_estimates = subj_df['depth_estimate'].value_counts()\n",
    "        max_repeats = count_depth_estimates.max()\n",
    "\n",
    "        outlierrange = [avg_max_repeats - (3*std_max_repeats), avg_max_repeats + (3*std_max_repeats)]\n",
    "        if max_repeats < outlierrange[0]:\n",
    "            if subj not in remove:\n",
    "                remove.append(subj)\n",
    "        if max_repeats > outlierrange[1]:\n",
    "            if subj not in remove:\n",
    "                remove.append(subj)\n",
    "                \n",
    "    print(\"Number of participants removed: repeat responses: \", len(remove))\n",
    "    \n",
    "    for index, row in df.iterrows():\n",
    "        if row['subjID'] in remove:\n",
    "            df.drop(index, inplace=True)\n",
    "\n",
    "    exclude += remove\n",
    "    \n",
    "    return df, max_repeats_distribution, num_unique_responses_distribution, exclude\n",
    "\n"
   ]
  },
  {
   "cell_type": "code",
   "execution_count": 664,
   "metadata": {},
   "outputs": [
    {
     "name": "stdout",
     "output_type": "stream",
     "text": [
      "Number of participants removed: repeat responses:  4\n"
     ]
    },
    {
     "data": {
      "text/plain": [
       "4"
      ]
     },
     "execution_count": 664,
     "metadata": {},
     "output_type": "execute_result"
    }
   ],
   "source": [
    "repeat_resp_cleaned_data, max_repeats_distrib, num_unique_distrib, exclude = repeatResponses_Cleaning(RT_cleaned_data, exclude)\n",
    "len(exclude)"
   ]
  },
  {
   "cell_type": "code",
   "execution_count": null,
   "metadata": {},
   "outputs": [],
   "source": []
  },
  {
   "cell_type": "code",
   "execution_count": 665,
   "metadata": {},
   "outputs": [],
   "source": [
    "def finalTrialCountCheck(df, exclude, num_trials):\n",
    "    \"\"\"\n",
    "    If more then 10% of a participants data is missing, remove the participant\n",
    "    \"\"\"\n",
    "    #List unique values in the df['subjID'] column\n",
    "    all_subjIDs = df.subjID.unique()\n",
    "    \n",
    "    remove = []\n",
    "    for subj in all_subjIDs:\n",
    "        subj_df = df.loc[df['subjID'] == subj]\n",
    "        count_trials = len(subj_df.index)\n",
    "        threshold_trials_remaining = num_trials - math.floor(num_trials * 0.1)\n",
    "\n",
    "        if count_trials <= threshold_trials_remaining:\n",
    "            remove.append(subj)\n",
    "            \n",
    "    print(\"Number of Participants with >= 10% trials removed: \", len(remove))\n",
    "    \n",
    "    for index, row in df.iterrows():\n",
    "        if row['subjID'] in remove:\n",
    "            df.drop(index, inplace=True)\n",
    "            \n",
    "    exclude += remove\n",
    "        \n",
    "    print(\"Number of participants left: \",len(df.subjID.unique()))\n",
    "    return df, exclude"
   ]
  },
  {
   "cell_type": "code",
   "execution_count": 666,
   "metadata": {},
   "outputs": [
    {
     "name": "stdout",
     "output_type": "stream",
     "text": [
      "Number of Participants with >= 10% trials removed:  0\n",
      "Number of participants left:  420\n"
     ]
    },
    {
     "data": {
      "text/plain": [
       "4"
      ]
     },
     "execution_count": 666,
     "metadata": {},
     "output_type": "execute_result"
    }
   ],
   "source": [
    "cleaned_data, exclude = finalTrialCountCheck(repeat_resp_cleaned_data, exclude, num_trials)\n",
    "len(exclude)"
   ]
  },
  {
   "cell_type": "code",
   "execution_count": 667,
   "metadata": {},
   "outputs": [
    {
     "data": {
      "text/plain": [
       "959755"
      ]
     },
     "execution_count": 667,
     "metadata": {},
     "output_type": "execute_result"
    }
   ],
   "source": [
    "exclude[0]"
   ]
  },
  {
   "cell_type": "code",
   "execution_count": 651,
   "metadata": {},
   "outputs": [
    {
     "data": {
      "text/plain": [
       "(585,\n",
       " 'jsons/v1_VE1000_randls_49_rotated.json',\n",
       " '8-29-2022_15-27-19_610706.csv')"
      ]
     },
     "execution_count": 651,
     "metadata": {},
     "output_type": "execute_result"
    }
   ],
   "source": [
    "src = '/Users/prachimahableshwarkar/Documents/GW/FacialAge/FacialAge_MTurk/BNav_EC2/DepthDuration/v2_depth_duration_MTurk/data copy'\n",
    "dest = '/Users/prachimahableshwarkar/Documents/GW/FacialAge/FacialAge_MTurk/BNav_EC2/DepthDuration/v2_depth_duration_MTurk/data_excluded'\n",
    "# excluded sequences\n",
    "excluded_sequences = []\n",
    "excluded_files = []\n",
    "for file in os.listdir(src):\n",
    "    if '.csv' in file:\n",
    "        path = src + \"/\" + file\n",
    "        df = pd.read_csv(path, index_col=None, header=0)\n",
    "        subjID = df.subjID.unique()[0]\n",
    "        if subjID in exclude:\n",
    "            seq = df.sequenceName.unique()[0]\n",
    "            excluded_sequences.append(seq)\n",
    "            excluded_files.append(file)\n",
    "            \n",
    "len(excluded_sequences), excluded_sequences[0], excluded_files[0]"
   ]
  },
  {
   "cell_type": "code",
   "execution_count": 652,
   "metadata": {},
   "outputs": [],
   "source": [
    "for file in excluded_files:\n",
    "    shutil.move(src + '/' + file, dest + '/' + file)"
   ]
  },
  {
   "cell_type": "code",
   "execution_count": 668,
   "metadata": {},
   "outputs": [
    {
     "data": {
      "text/plain": [
       "(416, 'jsons/VE125_randls_13.json')"
      ]
     },
     "execution_count": 668,
     "metadata": {},
     "output_type": "execute_result"
    }
   ],
   "source": [
    "# included sequences\n",
    "len(cleaned_data.sequenceName.unique()), cleaned_data.sequenceName.unique()[0]"
   ]
  },
  {
   "cell_type": "code",
   "execution_count": 669,
   "metadata": {},
   "outputs": [
    {
     "data": {
      "text/plain": [
       "('jsons/v1_VE250_randls_59.json', 468)"
      ]
     },
     "execution_count": 669,
     "metadata": {},
     "output_type": "execute_result"
    }
   ],
   "source": [
    "# all sequences\n",
    "sequences_path = '/Users/prachimahableshwarkar/Documents/GW/FacialAge/FacialAge_MTurk/BNav_EC2/DepthDuration/v2_depth_duration_MTurk/jsons'\n",
    "all_seqs = []\n",
    "for seq in os.listdir(sequences_path):\n",
    "    if 'json' in seq:\n",
    "        all_seqs.append('jsons/'+seq)\n",
    "\n",
    "all_seqs[0], len(all_seqs)"
   ]
  },
  {
   "cell_type": "code",
   "execution_count": 670,
   "metadata": {},
   "outputs": [
    {
     "data": {
      "text/plain": [
       "(52, 'jsons/VE125_randls_58_rotated.json')"
      ]
     },
     "execution_count": 670,
     "metadata": {},
     "output_type": "execute_result"
    }
   ],
   "source": [
    "# sequences that are not included in cleaned_data \n",
    "sequences_to_replace = [seq for seq in all_seqs if seq not in cleaned_data.sequenceName.unique()]\n",
    "len(sequences_to_replace), sequences_to_replace[0]"
   ]
  },
  {
   "cell_type": "code",
   "execution_count": 639,
   "metadata": {},
   "outputs": [
    {
     "data": {
      "text/html": [
       "<div>\n",
       "<style scoped>\n",
       "    .dataframe tbody tr th:only-of-type {\n",
       "        vertical-align: middle;\n",
       "    }\n",
       "\n",
       "    .dataframe tbody tr th {\n",
       "        vertical-align: top;\n",
       "    }\n",
       "\n",
       "    .dataframe thead th {\n",
       "        text-align: right;\n",
       "    }\n",
       "</style>\n",
       "<table border=\"1\" class=\"dataframe\">\n",
       "  <thead>\n",
       "    <tr style=\"text-align: right;\">\n",
       "      <th></th>\n",
       "      <th>Path</th>\n",
       "      <th>Sampled</th>\n",
       "    </tr>\n",
       "  </thead>\n",
       "  <tbody>\n",
       "    <tr>\n",
       "      <th>0</th>\n",
       "      <td>jsons/v1_VE250_randls_59.json</td>\n",
       "      <td>0</td>\n",
       "    </tr>\n",
       "    <tr>\n",
       "      <th>1</th>\n",
       "      <td>jsons/VE125_randls_39.json</td>\n",
       "      <td>0</td>\n",
       "    </tr>\n",
       "    <tr>\n",
       "      <th>2</th>\n",
       "      <td>jsons/VE125_randls_58_rotated.json</td>\n",
       "      <td>0</td>\n",
       "    </tr>\n",
       "    <tr>\n",
       "      <th>3</th>\n",
       "      <td>jsons/v1_VE250_randls_18.json</td>\n",
       "      <td>0</td>\n",
       "    </tr>\n",
       "    <tr>\n",
       "      <th>4</th>\n",
       "      <td>jsons/v1_VE250_randls_36_rotated.json</td>\n",
       "      <td>0</td>\n",
       "    </tr>\n",
       "    <tr>\n",
       "      <th>...</th>\n",
       "      <td>...</td>\n",
       "      <td>...</td>\n",
       "    </tr>\n",
       "    <tr>\n",
       "      <th>463</th>\n",
       "      <td>jsons/VE125_randls_4.json</td>\n",
       "      <td>0</td>\n",
       "    </tr>\n",
       "    <tr>\n",
       "      <th>464</th>\n",
       "      <td>jsons/v1_VE250_randls_21.json</td>\n",
       "      <td>0</td>\n",
       "    </tr>\n",
       "    <tr>\n",
       "      <th>465</th>\n",
       "      <td>jsons/VE125_randls_39_rotated.json</td>\n",
       "      <td>0</td>\n",
       "    </tr>\n",
       "    <tr>\n",
       "      <th>466</th>\n",
       "      <td>jsons/VE125_randls_41.json</td>\n",
       "      <td>0</td>\n",
       "    </tr>\n",
       "    <tr>\n",
       "      <th>467</th>\n",
       "      <td>jsons/v1_VE1000_randls_55.json</td>\n",
       "      <td>0</td>\n",
       "    </tr>\n",
       "  </tbody>\n",
       "</table>\n",
       "<p>468 rows × 2 columns</p>\n",
       "</div>"
      ],
      "text/plain": [
       "                                      Path  Sampled\n",
       "0            jsons/v1_VE250_randls_59.json        0\n",
       "1               jsons/VE125_randls_39.json        0\n",
       "2       jsons/VE125_randls_58_rotated.json        0\n",
       "3            jsons/v1_VE250_randls_18.json        0\n",
       "4    jsons/v1_VE250_randls_36_rotated.json        0\n",
       "..                                     ...      ...\n",
       "463              jsons/VE125_randls_4.json        0\n",
       "464          jsons/v1_VE250_randls_21.json        0\n",
       "465     jsons/VE125_randls_39_rotated.json        0\n",
       "466             jsons/VE125_randls_41.json        0\n",
       "467         jsons/v1_VE1000_randls_55.json        0\n",
       "\n",
       "[468 rows x 2 columns]"
      ]
     },
     "execution_count": 639,
     "metadata": {},
     "output_type": "execute_result"
    }
   ],
   "source": [
    "counterbalancing_path = '/Users/prachimahableshwarkar/Documents/GW/FacialAge/FacialAge_MTurk/BNav_EC2/DepthDuration/v2_depth_duration_MTurk/counterbalancing.csv'\n",
    "counterbalancing_df = pd.read_csv(counterbalancing_path)\n",
    "counterbalancing_df"
   ]
  },
  {
   "cell_type": "code",
   "execution_count": 640,
   "metadata": {},
   "outputs": [
    {
     "data": {
      "text/plain": [
       "'jsons/VE125_randls_39_rotated.json'"
      ]
     },
     "execution_count": 640,
     "metadata": {},
     "output_type": "execute_result"
    }
   ],
   "source": [
    "# cross-check with server console log\n",
    "sequences_to_replace[-1]"
   ]
  },
  {
   "cell_type": "code",
   "execution_count": 551,
   "metadata": {},
   "outputs": [
    {
     "data": {
      "text/plain": [
       "(17, 16, 27)"
      ]
     },
     "execution_count": 551,
     "metadata": {},
     "output_type": "execute_result"
    }
   ],
   "source": [
    "count_1000 = 0\n",
    "count_250 = 0\n",
    "count_125 = 0\n",
    "for seq in sequences_to_replace:\n",
    "    if 'VE1000' in seq:\n",
    "        count_1000 += 1\n",
    "    if 'VE250' in seq:\n",
    "        count_250 += 1\n",
    "    if 'VE125' in seq:\n",
    "        count_125 += 1\n",
    "\n",
    "count_1000, count_250, count_125"
   ]
  },
  {
   "cell_type": "markdown",
   "metadata": {},
   "source": [
    "### Indexing Notes \n",
    "\n",
    "The row in the counterbalancing csv does NOT match the url fragment since the indexing includes the path row. \n",
    "\n",
    "The url fragment is the counterbalancing df index + 1 --> this has been validated in the console log of the experiment \n",
    "\n",
    "To backtrack from the url fragments to the corresponding row of the counterbalancing csv:\n",
    "row = url_fragment + 1"
   ]
  },
  {
   "cell_type": "code",
   "execution_count": 552,
   "metadata": {},
   "outputs": [],
   "source": [
    "url_fragments = []\n",
    "for sequence in sequences_to_replace:\n",
    "    url_fragments.append(counterbalancing_df.index[counterbalancing_df['Path']==sequence][0] + 1)"
   ]
  },
  {
   "cell_type": "code",
   "execution_count": 553,
   "metadata": {},
   "outputs": [],
   "source": [
    "# number for the NEXT batch \n",
    "batch = 10"
   ]
  },
  {
   "cell_type": "code",
   "execution_count": 554,
   "metadata": {},
   "outputs": [],
   "source": [
    "dest_variables_csv = '/Users/prachimahableshwarkar/Documents/GW/FacialAge/FacialAge_MTurk/BNav_EC2/DepthDuration/v2_depth_duration_MTurk/mturk_batch_variables/'\n",
    "\n",
    "base_url = 'http://54.235.29.9/FacialAge/BNav_EC2/DepthDuration/v2_depth_duration_MTurk/v2_DepthDuration_HTML.html#'\n",
    "\n",
    "variables = {'experiment_url': []}\n",
    "\n",
    "for fragment in url_fragments:\n",
    "     variables['experiment_url'].append(base_url + str(fragment))\n",
    "\n",
    "variables_df = pd.DataFrame(variables)"
   ]
  },
  {
   "cell_type": "code",
   "execution_count": 555,
   "metadata": {},
   "outputs": [],
   "source": [
    "variables_df.to_csv(dest_variables_csv + 'depth_duration_variables' + '_b' + str(batch) + '.csv', index=False)\n"
   ]
  },
  {
   "cell_type": "code",
   "execution_count": null,
   "metadata": {},
   "outputs": [],
   "source": []
  },
  {
   "cell_type": "code",
   "execution_count": null,
   "metadata": {},
   "outputs": [],
   "source": []
  },
  {
   "cell_type": "code",
   "execution_count": null,
   "metadata": {},
   "outputs": [],
   "source": []
  },
  {
   "cell_type": "code",
   "execution_count": null,
   "metadata": {},
   "outputs": [],
   "source": []
  }
 ],
 "metadata": {
  "kernelspec": {
   "display_name": "Python 3",
   "language": "python",
   "name": "python3"
  },
  "language_info": {
   "codemirror_mode": {
    "name": "ipython",
    "version": 3
   },
   "file_extension": ".py",
   "mimetype": "text/x-python",
   "name": "python",
   "nbconvert_exporter": "python",
   "pygments_lexer": "ipython3",
   "version": "3.7.5"
  }
 },
 "nbformat": 4,
 "nbformat_minor": 4
}
