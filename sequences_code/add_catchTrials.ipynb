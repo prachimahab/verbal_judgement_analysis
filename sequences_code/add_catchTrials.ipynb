{
 "cells": [
  {
   "cell_type": "markdown",
   "metadata": {},
   "source": [
    "# Add Catch Trials to existing Matched VE Sequences "
   ]
  },
  {
   "cell_type": "code",
   "execution_count": 13,
   "metadata": {},
   "outputs": [],
   "source": [
    "import json \n",
    "import os \n",
    "import copy"
   ]
  },
  {
   "cell_type": "code",
   "execution_count": 16,
   "metadata": {},
   "outputs": [],
   "source": [
    "\n",
    "all_catch_stim = ['000375_2014-06-08_11-17-29_260595134347_rgbf000133-resize_2',\n",
    "                  '000569_2014-06-09_22-51-47_260595134347_rgbf000141-resize_3',\n",
    "                  '000787_2014-06-08_22-33-53_260595134347_rgbf000175-resize_1',\n",
    "                  '002072_2014-06-24_21-48-06_260595134347_rgbf000115-resize_0',\n",
    "                  '001170_2014-06-17_15-43-44_260595134347_rgbf000096-resize_6',\n",
    "                  '001222_2014-06-17_16-24-06_260595134347_rgbf000073-resize_0',\n",
    "                  '001498_2014-06-19_17-45-14_260595134347_rgbf000129-resize_4',\n",
    "                  '001540_2014-06-20_17-01-05_260595134347_rgbf000086-resize_2']\n",
    "\n"
   ]
  },
  {
   "cell_type": "code",
   "execution_count": 8,
   "metadata": {},
   "outputs": [],
   "source": [
    "src_250 = '/Users/prachimahableshwarkar/Documents/GW/Depth_MTurk/verbal_judgement_analysis/matched_sequences/4_2022/250ms'\n",
    "dest_250 = '/Users/prachimahableshwarkar/Documents/GW/Depth_MTurk/verbal_judgement_analysis/matched_sequences/9_2022/250ms/'\n"
   ]
  },
  {
   "cell_type": "code",
   "execution_count": 36,
   "metadata": {},
   "outputs": [],
   "source": [
    "for seq in os.listdir(src_250):\n",
    "    if 'json' in seq:\n",
    "        with open(src_250 + '/' + seq, 'r') as f:\n",
    "            j = json.load(f)\n",
    "            new_seq = copy.deepcopy(j)\n",
    "            catch_sampled = {'000375_2014-06-08_11-17-29_260595134347_rgbf000133-resize_2': False,\n",
    "                  '000569_2014-06-09_22-51-47_260595134347_rgbf000141-resize_3': False,\n",
    "                  '000787_2014-06-08_22-33-53_260595134347_rgbf000175-resize_1': False,\n",
    "                  '002072_2014-06-24_21-48-06_260595134347_rgbf000115-resize_0': False,\n",
    "                  '001170_2014-06-17_15-43-44_260595134347_rgbf000096-resize_6': False,\n",
    "                  '001222_2014-06-17_16-24-06_260595134347_rgbf000073-resize_0': False,\n",
    "                  '001498_2014-06-19_17-45-14_260595134347_rgbf000129-resize_4': False,\n",
    "                  '001540_2014-06-20_17-01-05_260595134347_rgbf000086-resize_2': False}\n",
    "            for trial in new_seq:\n",
    "                img = trial['image_path_target'].split('/')[1]\n",
    "                if img in all_catch_stim:\n",
    "                    if catch_sampled[img] == True:\n",
    "                        new_seq.remove(trial)\n",
    "                    else:\n",
    "                        trial[\"image_path_target\"] = trial[\"image_path\"]\n",
    "                        trial[\"sequence\"] = 'catch_trial'\n",
    "                        catch_sampled[img] = True\n",
    "            j_dest = dest_250 + 'v1_' + seq\n",
    "            with open(j_dest, 'w') as f:\n",
    "                json.dump(new_seq , f)\n",
    "        \n"
   ]
  },
  {
   "cell_type": "code",
   "execution_count": 37,
   "metadata": {},
   "outputs": [],
   "source": [
    "src_1000 = '/Users/prachimahableshwarkar/Documents/GW/Depth_MTurk/verbal_judgement_analysis/matched_sequences/4_2022/1000ms'\n",
    "dest_1000 = '/Users/prachimahableshwarkar/Documents/GW/Depth_MTurk/verbal_judgement_analysis/matched_sequences/9_2022/1000ms/'\n"
   ]
  },
  {
   "cell_type": "code",
   "execution_count": 38,
   "metadata": {},
   "outputs": [],
   "source": [
    "for seq in os.listdir(src_1000):\n",
    "    if 'json' in seq:\n",
    "        with open(src_1000 + '/' + seq, 'r') as f:\n",
    "            j = json.load(f)\n",
    "            new_seq = copy.deepcopy(j)\n",
    "            catch_sampled = {'000375_2014-06-08_11-17-29_260595134347_rgbf000133-resize_2': False,\n",
    "                  '000569_2014-06-09_22-51-47_260595134347_rgbf000141-resize_3': False,\n",
    "                  '000787_2014-06-08_22-33-53_260595134347_rgbf000175-resize_1': False,\n",
    "                  '002072_2014-06-24_21-48-06_260595134347_rgbf000115-resize_0': False,\n",
    "                  '001170_2014-06-17_15-43-44_260595134347_rgbf000096-resize_6': False,\n",
    "                  '001222_2014-06-17_16-24-06_260595134347_rgbf000073-resize_0': False,\n",
    "                  '001498_2014-06-19_17-45-14_260595134347_rgbf000129-resize_4': False,\n",
    "                  '001540_2014-06-20_17-01-05_260595134347_rgbf000086-resize_2': False}\n",
    "            for trial in new_seq:\n",
    "                img = trial['image_path_target'].split('/')[1]\n",
    "                if img in all_catch_stim:\n",
    "                    if catch_sampled[img] == True:\n",
    "                        new_seq.remove(trial)\n",
    "                    else:\n",
    "                        trial[\"image_path_target\"] = trial[\"image_path\"]\n",
    "                        trial[\"sequence\"] = 'catch_trial'\n",
    "                        catch_sampled[img] = True\n",
    "            j_dest = dest_1000 + 'v1_' + seq\n",
    "            with open(j_dest, 'w') as f:\n",
    "                json.dump(new_seq , f)\n",
    "   "
   ]
  },
  {
   "cell_type": "code",
   "execution_count": 39,
   "metadata": {},
   "outputs": [
    {
     "data": {
      "text/plain": [
       "6"
      ]
     },
     "execution_count": 39,
     "metadata": {},
     "output_type": "execute_result"
    }
   ],
   "source": [
    "\n",
    "dest_125 = '/Users/prachimahableshwarkar/Documents/GW/Depth_MTurk/verbal_judgement_analysis/matched_sequences/9_2022/125ms/'\n",
    "len('VE250_')"
   ]
  },
  {
   "cell_type": "code",
   "execution_count": 45,
   "metadata": {},
   "outputs": [],
   "source": [
    "for seq in os.listdir(src_250):\n",
    "    if 'json' in seq:\n",
    "        with open(src_250 + '/' + seq, 'r') as f:\n",
    "            VE_seq = json.load(f)\n",
    "            new_seq = copy.deepcopy(VE_seq)\n",
    "            for trial in new_seq:\n",
    "                trial['duration'] = 125\n",
    "            j_dest = dest_125 + 'VE125_' + seq[6:]\n",
    "            with open(j_dest, 'w') as f:\n",
    "                json.dump(new_seq , f)"
   ]
  },
  {
   "cell_type": "code",
   "execution_count": null,
   "metadata": {},
   "outputs": [],
   "source": []
  }
 ],
 "metadata": {
  "kernelspec": {
   "display_name": "Python 3",
   "language": "python",
   "name": "python3"
  },
  "language_info": {
   "codemirror_mode": {
    "name": "ipython",
    "version": 3
   },
   "file_extension": ".py",
   "mimetype": "text/x-python",
   "name": "python",
   "nbconvert_exporter": "python",
   "pygments_lexer": "ipython3",
   "version": "3.7.5"
  }
 },
 "nbformat": 4,
 "nbformat_minor": 4
}
