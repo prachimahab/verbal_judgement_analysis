{
 "cells": [
  {
   "cell_type": "markdown",
   "metadata": {},
   "source": [
    "# Create Practice Sequence\n",
    "\n",
    "### 8 total practice trials with 2/8 as catch trials"
   ]
  },
  {
   "cell_type": "code",
   "execution_count": 36,
   "metadata": {},
   "outputs": [],
   "source": [
    "import json\n",
    "import os\n",
    "import random"
   ]
  },
  {
   "cell_type": "code",
   "execution_count": 30,
   "metadata": {},
   "outputs": [],
   "source": [
    "all_target_folders = []\n",
    "\n",
    "p0 = '/Users/prachimahableshwarkar/Documents/GW/Depth_MTurk/depth_duration_stimuli'\n",
    "\n",
    "for folder in os.listdir(p0):\n",
    "    if 'resize' in folder:\n",
    "        all_target_folders.append(folder)\n",
    "    \n",
    "p1 = '/Users/prachimahableshwarkar/Documents/GW/FacialAge/FacialAge_MTurk/BNav_EC2/DepthDuration/v2_depth_duration_MTurk/practice'\n",
    "\n",
    "for folder in os.listdir(p1):\n",
    "    if 'resize' in folder:\n",
    "        all_target_folders.append(folder)"
   ]
  },
  {
   "cell_type": "code",
   "execution_count": 31,
   "metadata": {},
   "outputs": [
    {
     "data": {
      "text/plain": [
       "195"
      ]
     },
     "execution_count": 31,
     "metadata": {},
     "output_type": "execute_result"
    }
   ],
   "source": [
    "len(all_target_folders)\n"
   ]
  },
  {
   "cell_type": "code",
   "execution_count": 20,
   "metadata": {},
   "outputs": [],
   "source": [
    "sample_json = '/Users/prachimahableshwarkar/Documents/GW/FacialAge/FacialAge_MTurk/BNav_EC2/DepthDuration/v2_depth_duration_MTurk/jsons/VE125_randls_0_rotated.json'\n",
    "\n",
    "# Opening JSON file\n",
    "f = open(sample_json)\n",
    "  \n",
    "VE_seq = json.load(f)"
   ]
  },
  {
   "cell_type": "code",
   "execution_count": 32,
   "metadata": {},
   "outputs": [
    {
     "data": {
      "text/plain": [
       "167"
      ]
     },
     "execution_count": 32,
     "metadata": {},
     "output_type": "execute_result"
    }
   ],
   "source": [
    "sampled = []\n",
    "\n",
    "for trial in VE_seq:\n",
    "    folderpath = trial['image_path_target'].split('/')[1]\n",
    "    sampled.append(folderpath)\n",
    "p1 = '/Users/prachimahableshwarkar/Documents/GW/FacialAge/FacialAge_MTurk/BNav_EC2/DepthDuration/v2_depth_duration_MTurk/practice'\n",
    "\n",
    "for folder in os.listdir(p1):\n",
    "    if 'resize' in folder:\n",
    "        sampled.append(folder)\n",
    "        \n",
    "        \n",
    "len(sampled)"
   ]
  },
  {
   "cell_type": "code",
   "execution_count": 35,
   "metadata": {},
   "outputs": [
    {
     "data": {
      "text/plain": [
       "36"
      ]
     },
     "execution_count": 35,
     "metadata": {},
     "output_type": "execute_result"
    }
   ],
   "source": [
    "not_sampled = []\n",
    "for folder in all_target_folders:\n",
    "    if folder not in sampled:\n",
    "        not_sampled.append(folder)\n",
    "        \n",
    "len(not_sampled)"
   ]
  },
  {
   "cell_type": "code",
   "execution_count": 51,
   "metadata": {},
   "outputs": [
    {
     "data": {
      "text/plain": [
       "['001618_2014-06-20_11-37-31_260595134347_rgbf000027-resize_3',\n",
       " '001181_2014-06-17_15-50-57_260595134347_rgbf000106-resize_4',\n",
       " '000753_2014-06-08_21-57-44_260595134347_rgbf000123-resize_3']"
      ]
     },
     "execution_count": 51,
     "metadata": {},
     "output_type": "execute_result"
    }
   ],
   "source": [
    "random.choices(not_sampled, k=3)"
   ]
  },
  {
   "cell_type": "code",
   "execution_count": 40,
   "metadata": {},
   "outputs": [
    {
     "name": "stdout",
     "output_type": "stream",
     "text": [
      "000496_2014-06-08_22-50-40_260595134347_rgbf000056-resize_5\n",
      "001064_2014-06-08_21-58-08_260595134347_rgbf000097-resize_2\n",
      "003086_2014-06-15_15-24-53_094959634447_rgbf000150-resize_3\n"
     ]
    }
   ],
   "source": [
    "p1 = '/Users/prachimahableshwarkar/Documents/GW/FacialAge/FacialAge_MTurk/BNav_EC2/DepthDuration/v2_depth_duration_MTurk/practice'\n",
    "\n",
    "for folder in os.listdir(p1):\n",
    "    if 'resize' in folder:\n",
    "        print(folder)"
   ]
  },
  {
   "cell_type": "code",
   "execution_count": 52,
   "metadata": {},
   "outputs": [],
   "source": [
    "reg = ['003288_2014-05-14_21-50-30_094959634447_rgbf000028-resize_3',\n",
    "       '001197_2014-06-17_16-01-50_260595134347_rgbf000103-resize_4',\n",
    "       '000800_2014-06-08_22-42-09_260595134347_rgbf000095-resize_3',\n",
    "       '003092_2014-06-24_21-01-49_094959634447_rgbf000049-resize_2',\n",
    "       '001188_2014-06-17_15-54-10_260595134347_rgbf000090-resize_2',\n",
    "       '001618_2014-06-20_11-37-31_260595134347_rgbf000027-resize_3']\n",
    "\n",
    "\n",
    "catch = ['002139_2014-06-25_21-19-37_260595134347_rgbf000124-resize_2',\n",
    "         '002464_2014-06-28_20-36-57_260595134347_rgbf000029-resize_0']"
   ]
  },
  {
   "cell_type": "code",
   "execution_count": 80,
   "metadata": {},
   "outputs": [
    {
     "name": "stdout",
     "output_type": "stream",
     "text": [
      "003288_2014-05-14_21-50-30_094959634447_rgbf000028-resize_3\n",
      "{'x': 364, 'y': 192.85, 'depth': 3.877}\n",
      "001197_2014-06-17_16-01-50_260595134347_rgbf000103-resize_4\n",
      "{'x': 364, 'y': 169.87037037037038, 'depth': 3.4025}\n",
      "000800_2014-06-08_22-42-09_260595134347_rgbf000095-resize_3\n",
      "{'x': 364, 'y': 131.62630312750602, 'depth': 2.8}\n",
      "003092_2014-06-24_21-01-49_094959634447_rgbf000049-resize_2\n",
      "{'x': 364, 'y': 277.08512820512817, 'depth': 1.666}\n",
      "001188_2014-06-17_15-54-10_260595134347_rgbf000090-resize_2\n",
      "{'x': 364, 'y': 132.95854732208363, 'depth': 2.7439999999999998}\n",
      "001618_2014-06-20_11-37-31_260595134347_rgbf000027-resize_3\n",
      "{'x': 364, 'y': 273.5268817204301, 'depth': 1.8725}\n"
     ]
    }
   ],
   "source": [
    "final_practice = []\n",
    "\n",
    "num = 0\n",
    "for folder in reg:\n",
    "    prac_trial = {}\n",
    "    prac_trial[\"sequence\"] = \"practice\"\n",
    "    prac_trial[\"image\"] = \"practice/\" + folder\n",
    "    prac_trial[\"duration\"] = 125\n",
    "    num += 1\n",
    "    prac_trial[\"num\"] = num \n",
    "    \n",
    "    # Opening JSON file\n",
    "    f = open(p0 + '/' + folder + '/data.json')\n",
    "    data = json.load(f)\n",
    "    prac_trial[\"depth\"] = data['objects'][0]['crossing_point'][0]['depth']\n",
    "    print(folder)\n",
    "    print(data['objects'][0]['crossing_point'][0])\n",
    "    prac_trial[\"image_path\"] = \"practice/\" + folder + \"/\" + folder[:-2] + \"-original.jpg\"\n",
    "    prac_trial[\"image_path_target\"] = \"practice/\" + folder + \"/\" + folder + \"-target.png\"\n",
    "    prac_trial[\"mask_path\"] = \"masks/mask_1.jpg\"\n",
    "    prac_trial[\"fixation_path\"] = \"fixation.jpg\"\n",
    "    prac_trial[\"sampled\"] = 0\n",
    "    \n",
    "    final_practice.append(prac_trial)\n",
    "    \n",
    "    \n",
    "    \n"
   ]
  },
  {
   "cell_type": "code",
   "execution_count": 81,
   "metadata": {},
   "outputs": [
    {
     "name": "stdout",
     "output_type": "stream",
     "text": [
      "002139_2014-06-25_21-19-37_260595134347_rgbf000124-resize_2\n",
      "{'x': 364, 'y': 114.15938454310547, 'depth': 2.107}\n",
      "002464_2014-06-28_20-36-57_260595134347_rgbf000029-resize_0\n",
      "{'x': 364, 'y': 101.12738853503184, 'depth': 3.9524999999999997}\n"
     ]
    }
   ],
   "source": [
    "num = 6\n",
    "for folder in catch:\n",
    "    prac_trial = {}\n",
    "    prac_trial[\"sequence\"] = \"practice_catch\"\n",
    "    prac_trial[\"image\"] = \"practice/\" + folder\n",
    "    prac_trial[\"duration\"] = 125\n",
    "    num += 1\n",
    "    prac_trial[\"num\"] = num \n",
    "    \n",
    "    # Opening JSON file\n",
    "    f = open(p0 + '/' + folder + '/data.json')\n",
    "    data = json.load(f)\n",
    "    print(folder)\n",
    "    print(data['objects'][0]['crossing_point'][0])\n",
    "    prac_trial[\"depth\"] = data['objects'][0]['crossing_point'][0]['depth']\n",
    "    prac_trial[\"image_path\"] = \"practice/\" + folder + \"/\" + folder[:-2] + \"-original.jpg\"\n",
    "    # catch trial, so image_path_target should point to image WITHOUT a target\n",
    "    prac_trial[\"image_path_target\"] = \"practice/\" + folder + \"/\" + folder[:-2] + \"-original.jpg\"\n",
    "    prac_trial[\"mask_path\"] = \"masks/mask_1.jpg\"\n",
    "    prac_trial[\"fixation_path\"] = \"fixation.jpg\"\n",
    "    prac_trial[\"sampled\"] = 0\n",
    "    \n",
    "    final_practice.append(prac_trial)"
   ]
  },
  {
   "cell_type": "code",
   "execution_count": 73,
   "metadata": {},
   "outputs": [],
   "source": [
    "random.shuffle(final_practice)"
   ]
  },
  {
   "cell_type": "code",
   "execution_count": 75,
   "metadata": {},
   "outputs": [],
   "source": [
    "dest = '/Users/prachimahableshwarkar/Documents/GW/FacialAge/FacialAge_MTurk/BNav_EC2/DepthDuration/v2_depth_duration_MTurk/'\n",
    "with open(dest + \"practice_sequence.json\", \"w\") as outfile:\n",
    "    json.dump(final_practice, outfile)"
   ]
  },
  {
   "cell_type": "code",
   "execution_count": 78,
   "metadata": {},
   "outputs": [],
   "source": [
    "# Opening JSON file\n",
    "f = open(dest+ 'practice_sequence.json')\n",
    "  \n",
    "practice_sequence = json.load(f)"
   ]
  },
  {
   "cell_type": "code",
   "execution_count": 79,
   "metadata": {},
   "outputs": [
    {
     "data": {
      "text/plain": [
       "[{'sequence': 'practice',\n",
       "  'image': 'practice/003092_2014-06-24_21-01-49_094959634447_rgbf000049-resize_2',\n",
       "  'duration': 125,\n",
       "  'num': 4,\n",
       "  'depth': 1.666,\n",
       "  'image_path': 'practice/003092_2014-06-24_21-01-49_094959634447_rgbf000049-resize_2/003092_2014-06-24_21-01-49_094959634447_rgbf000049-resize-original.jpg',\n",
       "  'image_path_target': 'practice/003092_2014-06-24_21-01-49_094959634447_rgbf000049-resize_2/003092_2014-06-24_21-01-49_094959634447_rgbf000049-resize_2-target.png',\n",
       "  'mask_path': 'masks/mask_1.jpg',\n",
       "  'fixation_path': 'fixation.jpg',\n",
       "  'sampled': 0},\n",
       " {'sequence': 'practice',\n",
       "  'image': 'practice/001197_2014-06-17_16-01-50_260595134347_rgbf000103-resize_4',\n",
       "  'duration': 125,\n",
       "  'num': 2,\n",
       "  'depth': 3.4025,\n",
       "  'image_path': 'practice/001197_2014-06-17_16-01-50_260595134347_rgbf000103-resize_4/001197_2014-06-17_16-01-50_260595134347_rgbf000103-resize-original.jpg',\n",
       "  'image_path_target': 'practice/001197_2014-06-17_16-01-50_260595134347_rgbf000103-resize_4/001197_2014-06-17_16-01-50_260595134347_rgbf000103-resize_4-target.png',\n",
       "  'mask_path': 'masks/mask_1.jpg',\n",
       "  'fixation_path': 'fixation.jpg',\n",
       "  'sampled': 0},\n",
       " {'sequence': 'practice',\n",
       "  'image': 'practice/000800_2014-06-08_22-42-09_260595134347_rgbf000095-resize_3',\n",
       "  'duration': 125,\n",
       "  'num': 3,\n",
       "  'depth': 2.8,\n",
       "  'image_path': 'practice/000800_2014-06-08_22-42-09_260595134347_rgbf000095-resize_3/000800_2014-06-08_22-42-09_260595134347_rgbf000095-resize-original.jpg',\n",
       "  'image_path_target': 'practice/000800_2014-06-08_22-42-09_260595134347_rgbf000095-resize_3/000800_2014-06-08_22-42-09_260595134347_rgbf000095-resize_3-target.png',\n",
       "  'mask_path': 'masks/mask_1.jpg',\n",
       "  'fixation_path': 'fixation.jpg',\n",
       "  'sampled': 0},\n",
       " {'sequence': 'practice_catch',\n",
       "  'image': 'practice/002464_2014-06-28_20-36-57_260595134347_rgbf000029-resize_0',\n",
       "  'duration': 125,\n",
       "  'num': 8,\n",
       "  'depth': 3.9524999999999997,\n",
       "  'image_path': 'practice/002464_2014-06-28_20-36-57_260595134347_rgbf000029-resize_0/002464_2014-06-28_20-36-57_260595134347_rgbf000029-resize-original.jpg',\n",
       "  'image_path_target': 'practice/002464_2014-06-28_20-36-57_260595134347_rgbf000029-resize_0/002464_2014-06-28_20-36-57_260595134347_rgbf000029-resize-original.jpg',\n",
       "  'mask_path': 'masks/mask_1.jpg',\n",
       "  'fixation_path': 'fixation.jpg',\n",
       "  'sampled': 0},\n",
       " {'sequence': 'practice',\n",
       "  'image': 'practice/003288_2014-05-14_21-50-30_094959634447_rgbf000028-resize_3',\n",
       "  'duration': 125,\n",
       "  'num': 1,\n",
       "  'depth': 3.877,\n",
       "  'image_path': 'practice/003288_2014-05-14_21-50-30_094959634447_rgbf000028-resize_3/003288_2014-05-14_21-50-30_094959634447_rgbf000028-resize-original.jpg',\n",
       "  'image_path_target': 'practice/003288_2014-05-14_21-50-30_094959634447_rgbf000028-resize_3/003288_2014-05-14_21-50-30_094959634447_rgbf000028-resize_3-target.png',\n",
       "  'mask_path': 'masks/mask_1.jpg',\n",
       "  'fixation_path': 'fixation.jpg',\n",
       "  'sampled': 0},\n",
       " {'sequence': 'practice',\n",
       "  'image': 'practice/001188_2014-06-17_15-54-10_260595134347_rgbf000090-resize_2',\n",
       "  'duration': 125,\n",
       "  'num': 5,\n",
       "  'depth': 2.7439999999999998,\n",
       "  'image_path': 'practice/001188_2014-06-17_15-54-10_260595134347_rgbf000090-resize_2/001188_2014-06-17_15-54-10_260595134347_rgbf000090-resize-original.jpg',\n",
       "  'image_path_target': 'practice/001188_2014-06-17_15-54-10_260595134347_rgbf000090-resize_2/001188_2014-06-17_15-54-10_260595134347_rgbf000090-resize_2-target.png',\n",
       "  'mask_path': 'masks/mask_1.jpg',\n",
       "  'fixation_path': 'fixation.jpg',\n",
       "  'sampled': 0},\n",
       " {'sequence': 'practice_catch',\n",
       "  'image': 'practice/002139_2014-06-25_21-19-37_260595134347_rgbf000124-resize_2',\n",
       "  'duration': 125,\n",
       "  'num': 7,\n",
       "  'depth': 2.107,\n",
       "  'image_path': 'practice/002139_2014-06-25_21-19-37_260595134347_rgbf000124-resize_2/002139_2014-06-25_21-19-37_260595134347_rgbf000124-resize-original.jpg',\n",
       "  'image_path_target': 'practice/002139_2014-06-25_21-19-37_260595134347_rgbf000124-resize_2/002139_2014-06-25_21-19-37_260595134347_rgbf000124-resize-original.jpg',\n",
       "  'mask_path': 'masks/mask_1.jpg',\n",
       "  'fixation_path': 'fixation.jpg',\n",
       "  'sampled': 0},\n",
       " {'sequence': 'practice',\n",
       "  'image': 'practice/001618_2014-06-20_11-37-31_260595134347_rgbf000027-resize_3',\n",
       "  'duration': 125,\n",
       "  'num': 6,\n",
       "  'depth': 1.8725,\n",
       "  'image_path': 'practice/001618_2014-06-20_11-37-31_260595134347_rgbf000027-resize_3/001618_2014-06-20_11-37-31_260595134347_rgbf000027-resize-original.jpg',\n",
       "  'image_path_target': 'practice/001618_2014-06-20_11-37-31_260595134347_rgbf000027-resize_3/001618_2014-06-20_11-37-31_260595134347_rgbf000027-resize_3-target.png',\n",
       "  'mask_path': 'masks/mask_1.jpg',\n",
       "  'fixation_path': 'fixation.jpg',\n",
       "  'sampled': 0}]"
      ]
     },
     "execution_count": 79,
     "metadata": {},
     "output_type": "execute_result"
    }
   ],
   "source": [
    "practice_sequence"
   ]
  },
  {
   "cell_type": "code",
   "execution_count": null,
   "metadata": {},
   "outputs": [],
   "source": []
  }
 ],
 "metadata": {
  "kernelspec": {
   "display_name": "Python 3",
   "language": "python",
   "name": "python3"
  },
  "language_info": {
   "codemirror_mode": {
    "name": "ipython",
    "version": 3
   },
   "file_extension": ".py",
   "mimetype": "text/x-python",
   "name": "python",
   "nbconvert_exporter": "python",
   "pygments_lexer": "ipython3",
   "version": "3.7.5"
  }
 },
 "nbformat": 4,
 "nbformat_minor": 4
}
