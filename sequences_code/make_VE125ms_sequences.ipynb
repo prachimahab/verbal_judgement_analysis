{
 "cells": [
  {
   "cell_type": "markdown",
   "metadata": {},
   "source": [
    "# Make VE Sequences for 125 ms Duration Condition"
   ]
  },
  {
   "cell_type": "code",
   "execution_count": 31,
   "metadata": {},
   "outputs": [],
   "source": [
    "import json \n",
    "import os\n",
    "import copy"
   ]
  },
  {
   "cell_type": "code",
   "execution_count": 34,
   "metadata": {},
   "outputs": [],
   "source": [
    "path_VE250ms = '/Users/prachimahableshwarkar/Documents/GW/Depth_MTurk/verbal_judgement_analysis/matched_sequences/9_2022/250ms'\n",
    "\n",
    "dest_125ms = '/Users/prachimahableshwarkar/Documents/GW/Depth_MTurk/verbal_judgement_analysis/matched_sequences/9_2022/125ms/'\n"
   ]
  },
  {
   "cell_type": "code",
   "execution_count": 36,
   "metadata": {},
   "outputs": [],
   "source": [
    "for seq in os.listdir(path_VE250ms):\n",
    "    if 'json' in seq:\n",
    "        f = open(path_VE250ms + '/' + seq)\n",
    "        data = json.load(f)\n",
    "        \n",
    "        new_seq = copy.deepcopy(data)\n",
    "        for trial in new_seq:\n",
    "            if trial['sequence'] != 'catch_trial':\n",
    "                trial['sequence'] = seq.split('.')[0]\n",
    "            trial['duration'] = 125\n",
    "        j_dest = dest_125ms + 'VE125' + seq[8:]\n",
    "        with open(j_dest, 'w') as f:\n",
    "            json.dump(new_seq , f)\n",
    "            "
   ]
  },
  {
   "cell_type": "code",
   "execution_count": null,
   "metadata": {},
   "outputs": [],
   "source": []
  },
  {
   "cell_type": "code",
   "execution_count": null,
   "metadata": {},
   "outputs": [],
   "source": []
  }
 ],
 "metadata": {
  "kernelspec": {
   "display_name": "Python 3",
   "language": "python",
   "name": "python3"
  },
  "language_info": {
   "codemirror_mode": {
    "name": "ipython",
    "version": 3
   },
   "file_extension": ".py",
   "mimetype": "text/x-python",
   "name": "python",
   "nbconvert_exporter": "python",
   "pygments_lexer": "ipython3",
   "version": "3.7.5"
  }
 },
 "nbformat": 4,
 "nbformat_minor": 4
}
